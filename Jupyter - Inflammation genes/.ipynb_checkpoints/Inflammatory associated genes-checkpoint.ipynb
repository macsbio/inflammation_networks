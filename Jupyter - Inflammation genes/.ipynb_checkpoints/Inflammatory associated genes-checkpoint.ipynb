{
 "cells": [
  {
   "cell_type": "markdown",
   "metadata": {},
   "source": [
    "# Acquiring genes associated with inflammation "
   ]
  },
  {
   "cell_type": "markdown",
   "metadata": {},
   "source": [
    "To start off, we would like to obtain genes that are associated with inflammation. For this purpose we will acquire these genes from two databases, and later on match them so that we are more confident of the association of the genes with inflammation.\n",
    "The two databases we will use are DisGeNET and GeneCards. Both can be found at [DisGeNET](http://www.disgenet.org/) and [GeneCards](https://www.genecards.org/). \n",
    "\n",
    "The genesets have to be downloaded manually. For DisGeNET the following link has to be used: [DisGeNET inflammation genes](http://www.disgenet.org/browser/0/1/0/C0021368/),\n",
    "for GeneCards: [GeneCards](https://www.genecards.org/Search/Keyword?queryString=inflammation)\n",
    "The search query used for both databases is \"Inflammation\".\n",
    "\n",
    "Both databases have their own approach of scoring the association of these genes with inflammation. Both are described in detail here: [DisGeNET](http://www.disgenet.org/dbinfo) and here [GeneCards](https://www.genecards.org/Guide). We opted a score of at least 10 for the GeneCards scoring system as our cutoff value. "
   ]
  },
  {
   "cell_type": "code",
   "execution_count": 14,
   "metadata": {},
   "outputs": [],
   "source": [
    "# load libraries\n",
    "library(dplyr)\n",
    "library(tidyr)"
   ]
  },
  {
   "cell_type": "markdown",
   "metadata": {},
   "source": [
    "Now we have set the working directory to the right place and installed the necessary packages, it is time to import our files with genes associated with inflammation that we downloaded from DisGeNET and GeneCards."
   ]
  },
  {
   "cell_type": "code",
   "execution_count": 15,
   "metadata": {},
   "outputs": [
    {
     "name": "stderr",
     "output_type": "stream",
     "text": [
      "Warning message in scan(file = file, what = what, sep = sep, quote = quote, dec = dec, :\n",
      "\"EOF within quoted string\"Warning message in scan(file = file, what = what, sep = sep, quote = quote, dec = dec, :\n",
      "\"number of items read is not a multiple of the number of columns\""
     ]
    },
    {
     "data": {
      "text/html": [
       "<table>\n",
       "<thead><tr><th scope=col>diseaseid</th><th scope=col>disease_name</th><th scope=col>geneid</th><th scope=col>symbol</th><th scope=col>uniprot</th><th scope=col>protein_class</th><th scope=col>gene_name</th><th scope=col>dsi</th><th scope=col>dpi</th><th scope=col>pli</th><th scope=col>score</th><th scope=col>el</th><th scope=col>ei</th><th scope=col>npmids</th><th scope=col>nsnps</th><th scope=col>year_initial</th><th scope=col>year_final</th></tr></thead>\n",
       "<tbody>\n",
       "\t<tr><td>C0021368                         </td><td>Inflammation                     </td><td>3576                             </td><td>CXCL8                            </td><td>P10145                           </td><td>signaling molecule               </td><td>C-X-C motif chemokine ligand 8   </td><td>0.342                            </td><td>0.862                            </td><td>       NA                        </td><td>0.40                             </td><td>no reported evidence             </td><td>NA                               </td><td>13                               </td><td>0                                </td><td>2003                             </td><td>2015                             </td></tr>\n",
       "\t<tr><td>C0021368                         </td><td>Inflammation                     </td><td>1401                             </td><td>CRP                              </td><td>P02741                           </td><td>                                 </td><td>C-reactive protein               </td><td>0.399                            </td><td>0.862                            </td><td>0.0037357                        </td><td>0.40                             </td><td>no reported evidence             </td><td>NA                               </td><td>18                               </td><td>0                                </td><td>2001                             </td><td>2011                             </td></tr>\n",
       "\t<tr><td>C0021368                         </td><td>Inflammation                     </td><td>7124                             </td><td>TNF                              </td><td>P01375                           </td><td>signaling molecule               </td><td>tumor necrosis factor            </td><td>0.263                            </td><td>0.966                            </td><td>0.8046000                        </td><td>0.40                             </td><td>no reported evidence             </td><td>NA                               </td><td>26                               </td><td>0                                </td><td>2001                             </td><td>2014                             </td></tr>\n",
       "\t<tr><td>C0021368                         </td><td>Inflammation                     </td><td>7040                             </td><td>TGFB1                            </td><td>P01137                           </td><td>signaling molecule               </td><td>transforming growth factor beta 1</td><td>0.336                            </td><td>0.931                            </td><td>0.1718200                        </td><td>0.38                             </td><td>no reported evidence             </td><td>NA                               </td><td>10                               </td><td>0                                </td><td>2002                             </td><td>2010                             </td></tr>\n",
       "\t<tr><td>C0021368                         </td><td>Inflammation                     </td><td>3569                             </td><td>IL6                              </td><td>P05231                           </td><td>                                 </td><td>interleukin 6                    </td><td>0.287                            </td><td>0.966                            </td><td>0.3387300                        </td><td>0.37                             </td><td>no reported evidence             </td><td>NA                               </td><td>18                               </td><td>0                                </td><td>2001                             </td><td>2016                             </td></tr>\n",
       "\t<tr><td>C0021368                         </td><td>Inflammation                     </td><td>3553                             </td><td>IL1B                             </td><td>P01584                           </td><td>                                 </td><td>interleukin 1 beta               </td><td>0.312                            </td><td>0.931                            </td><td>0.1256800                        </td><td>0.37                             </td><td>no reported evidence             </td><td>NA                               </td><td>16                               </td><td>0                                </td><td>1999                             </td><td>2017                             </td></tr>\n",
       "</tbody>\n",
       "</table>\n"
      ],
      "text/latex": [
       "\\begin{tabular}{r|lllllllllllllllll}\n",
       " diseaseid & disease\\_name & geneid & symbol & uniprot & protein\\_class & gene\\_name & dsi & dpi & pli & score & el & ei & npmids & nsnps & year\\_initial & year\\_final\\\\\n",
       "\\hline\n",
       "\t C0021368                          & Inflammation                      & 3576                              & CXCL8                             & P10145                            & signaling molecule                & C-X-C motif chemokine ligand 8    & 0.342                             & 0.862                             &        NA                         & 0.40                              & no reported evidence              & NA                                & 13                                & 0                                 & 2003                              & 2015                             \\\\\n",
       "\t C0021368                          & Inflammation                      & 1401                              & CRP                               & P02741                            &                                   & C-reactive protein                & 0.399                             & 0.862                             & 0.0037357                         & 0.40                              & no reported evidence              & NA                                & 18                                & 0                                 & 2001                              & 2011                             \\\\\n",
       "\t C0021368                          & Inflammation                      & 7124                              & TNF                               & P01375                            & signaling molecule                & tumor necrosis factor             & 0.263                             & 0.966                             & 0.8046000                         & 0.40                              & no reported evidence              & NA                                & 26                                & 0                                 & 2001                              & 2014                             \\\\\n",
       "\t C0021368                          & Inflammation                      & 7040                              & TGFB1                             & P01137                            & signaling molecule                & transforming growth factor beta 1 & 0.336                             & 0.931                             & 0.1718200                         & 0.38                              & no reported evidence              & NA                                & 10                                & 0                                 & 2002                              & 2010                             \\\\\n",
       "\t C0021368                          & Inflammation                      & 3569                              & IL6                               & P05231                            &                                   & interleukin 6                     & 0.287                             & 0.966                             & 0.3387300                         & 0.37                              & no reported evidence              & NA                                & 18                                & 0                                 & 2001                              & 2016                             \\\\\n",
       "\t C0021368                          & Inflammation                      & 3553                              & IL1B                              & P01584                            &                                   & interleukin 1 beta                & 0.312                             & 0.931                             & 0.1256800                         & 0.37                              & no reported evidence              & NA                                & 16                                & 0                                 & 1999                              & 2017                             \\\\\n",
       "\\end{tabular}\n"
      ],
      "text/markdown": [
       "\n",
       "| diseaseid | disease_name | geneid | symbol | uniprot | protein_class | gene_name | dsi | dpi | pli | score | el | ei | npmids | nsnps | year_initial | year_final |\n",
       "|---|---|---|---|---|---|---|---|---|---|---|---|---|---|---|---|---|\n",
       "| C0021368                          | Inflammation                      | 3576                              | CXCL8                             | P10145                            | signaling molecule                | C-X-C motif chemokine ligand 8    | 0.342                             | 0.862                             |        NA                         | 0.40                              | no reported evidence              | NA                                | 13                                | 0                                 | 2003                              | 2015                              |\n",
       "| C0021368                          | Inflammation                      | 1401                              | CRP                               | P02741                            |                                   | C-reactive protein                | 0.399                             | 0.862                             | 0.0037357                         | 0.40                              | no reported evidence              | NA                                | 18                                | 0                                 | 2001                              | 2011                              |\n",
       "| C0021368                          | Inflammation                      | 7124                              | TNF                               | P01375                            | signaling molecule                | tumor necrosis factor             | 0.263                             | 0.966                             | 0.8046000                         | 0.40                              | no reported evidence              | NA                                | 26                                | 0                                 | 2001                              | 2014                              |\n",
       "| C0021368                          | Inflammation                      | 7040                              | TGFB1                             | P01137                            | signaling molecule                | transforming growth factor beta 1 | 0.336                             | 0.931                             | 0.1718200                         | 0.38                              | no reported evidence              | NA                                | 10                                | 0                                 | 2002                              | 2010                              |\n",
       "| C0021368                          | Inflammation                      | 3569                              | IL6                               | P05231                            |                                   | interleukin 6                     | 0.287                             | 0.966                             | 0.3387300                         | 0.37                              | no reported evidence              | NA                                | 18                                | 0                                 | 2001                              | 2016                              |\n",
       "| C0021368                          | Inflammation                      | 3553                              | IL1B                              | P01584                            |                                   | interleukin 1 beta                | 0.312                             | 0.931                             | 0.1256800                         | 0.37                              | no reported evidence              | NA                                | 16                                | 0                                 | 1999                              | 2017                              |\n",
       "\n"
      ],
      "text/plain": [
       "  diseaseid disease_name geneid symbol uniprot protein_class     \n",
       "1 C0021368  Inflammation 3576   CXCL8  P10145  signaling molecule\n",
       "2 C0021368  Inflammation 1401   CRP    P02741                    \n",
       "3 C0021368  Inflammation 7124   TNF    P01375  signaling molecule\n",
       "4 C0021368  Inflammation 7040   TGFB1  P01137  signaling molecule\n",
       "5 C0021368  Inflammation 3569   IL6    P05231                    \n",
       "6 C0021368  Inflammation 3553   IL1B   P01584                    \n",
       "  gene_name                         dsi   dpi   pli       score\n",
       "1 C-X-C motif chemokine ligand 8    0.342 0.862        NA 0.40 \n",
       "2 C-reactive protein                0.399 0.862 0.0037357 0.40 \n",
       "3 tumor necrosis factor             0.263 0.966 0.8046000 0.40 \n",
       "4 transforming growth factor beta 1 0.336 0.931 0.1718200 0.38 \n",
       "5 interleukin 6                     0.287 0.966 0.3387300 0.37 \n",
       "6 interleukin 1 beta                0.312 0.931 0.1256800 0.37 \n",
       "  el                   ei npmids nsnps year_initial year_final\n",
       "1 no reported evidence NA 13     0     2003         2015      \n",
       "2 no reported evidence NA 18     0     2001         2011      \n",
       "3 no reported evidence NA 26     0     2001         2014      \n",
       "4 no reported evidence NA 10     0     2002         2010      \n",
       "5 no reported evidence NA 18     0     2001         2016      \n",
       "6 no reported evidence NA 16     0     1999         2017      "
      ]
     },
     "metadata": {},
     "output_type": "display_data"
    },
    {
     "data": {
      "text/html": [
       "'The number of genes is 428.'"
      ],
      "text/latex": [
       "'The number of genes is 428.'"
      ],
      "text/markdown": [
       "'The number of genes is 428.'"
      ],
      "text/plain": [
       "[1] \"The number of genes is 428.\""
      ]
     },
     "metadata": {},
     "output_type": "display_data"
    },
    {
     "data": {
      "text/html": [
       "<table>\n",
       "<thead><tr><th scope=col>Gene.Symbol</th><th scope=col>Description</th><th scope=col>Category</th><th scope=col>Gifts</th><th scope=col>GC.Id</th><th scope=col>Relevance.score</th><th scope=col>GeneCards.Link</th></tr></thead>\n",
       "<tbody>\n",
       "\t<tr><td>TNF                                                    </td><td>Tumor Necrosis Factor                                  </td><td>Protein Coding                                         </td><td>60                                                     </td><td>GC06P032174                                            </td><td>79.95                                                  </td><td>https://www.genecards.org/cgi-bin/carddisp.pl?gene=TNF </td></tr>\n",
       "\t<tr><td>IL6                                                    </td><td>Interleukin 6                                          </td><td>Protein Coding                                         </td><td>55                                                     </td><td>GC07P022765                                            </td><td>79.59                                                  </td><td>https://www.genecards.org/cgi-bin/carddisp.pl?gene=IL6 </td></tr>\n",
       "\t<tr><td>IL10                                                   </td><td>Interleukin 10                                         </td><td>Protein Coding                                         </td><td>54                                                     </td><td>GC01M206767                                            </td><td>64.81                                                  </td><td>https://www.genecards.org/cgi-bin/carddisp.pl?gene=IL10</td></tr>\n",
       "\t<tr><td>CRP                                                    </td><td>C-Reactive Protein                                     </td><td>Protein Coding                                         </td><td>53                                                     </td><td>GC01M159682                                            </td><td>50.27                                                  </td><td>https://www.genecards.org/cgi-bin/carddisp.pl?gene=CRP </td></tr>\n",
       "\t<tr><td>TLR4                                                   </td><td>Toll Like Receptor 4                                   </td><td>Protein Coding                                         </td><td>59                                                     </td><td>GC09P117704                                            </td><td>45.72                                                  </td><td>https://www.genecards.org/cgi-bin/carddisp.pl?gene=TLR4</td></tr>\n",
       "\t<tr><td>NOD2                                                   </td><td>Nucleotide Binding Oligomerization Domain Containing 2 </td><td>Protein Coding                                         </td><td>54                                                     </td><td>GC16P050693                                            </td><td>44.97                                                  </td><td>https://www.genecards.org/cgi-bin/carddisp.pl?gene=NOD2</td></tr>\n",
       "</tbody>\n",
       "</table>\n"
      ],
      "text/latex": [
       "\\begin{tabular}{r|lllllll}\n",
       " Gene.Symbol & Description & Category & Gifts & GC.Id & Relevance.score & GeneCards.Link\\\\\n",
       "\\hline\n",
       "\t TNF                                                     & Tumor Necrosis Factor                                   & Protein Coding                                          & 60                                                      & GC06P032174                                             & 79.95                                                   & https://www.genecards.org/cgi-bin/carddisp.pl?gene=TNF \\\\\n",
       "\t IL6                                                     & Interleukin 6                                           & Protein Coding                                          & 55                                                      & GC07P022765                                             & 79.59                                                   & https://www.genecards.org/cgi-bin/carddisp.pl?gene=IL6 \\\\\n",
       "\t IL10                                                    & Interleukin 10                                          & Protein Coding                                          & 54                                                      & GC01M206767                                             & 64.81                                                   & https://www.genecards.org/cgi-bin/carddisp.pl?gene=IL10\\\\\n",
       "\t CRP                                                     & C-Reactive Protein                                      & Protein Coding                                          & 53                                                      & GC01M159682                                             & 50.27                                                   & https://www.genecards.org/cgi-bin/carddisp.pl?gene=CRP \\\\\n",
       "\t TLR4                                                    & Toll Like Receptor 4                                    & Protein Coding                                          & 59                                                      & GC09P117704                                             & 45.72                                                   & https://www.genecards.org/cgi-bin/carddisp.pl?gene=TLR4\\\\\n",
       "\t NOD2                                                    & Nucleotide Binding Oligomerization Domain Containing 2  & Protein Coding                                          & 54                                                      & GC16P050693                                             & 44.97                                                   & https://www.genecards.org/cgi-bin/carddisp.pl?gene=NOD2\\\\\n",
       "\\end{tabular}\n"
      ],
      "text/markdown": [
       "\n",
       "| Gene.Symbol | Description | Category | Gifts | GC.Id | Relevance.score | GeneCards.Link |\n",
       "|---|---|---|---|---|---|---|\n",
       "| TNF                                                     | Tumor Necrosis Factor                                   | Protein Coding                                          | 60                                                      | GC06P032174                                             | 79.95                                                   | https://www.genecards.org/cgi-bin/carddisp.pl?gene=TNF  |\n",
       "| IL6                                                     | Interleukin 6                                           | Protein Coding                                          | 55                                                      | GC07P022765                                             | 79.59                                                   | https://www.genecards.org/cgi-bin/carddisp.pl?gene=IL6  |\n",
       "| IL10                                                    | Interleukin 10                                          | Protein Coding                                          | 54                                                      | GC01M206767                                             | 64.81                                                   | https://www.genecards.org/cgi-bin/carddisp.pl?gene=IL10 |\n",
       "| CRP                                                     | C-Reactive Protein                                      | Protein Coding                                          | 53                                                      | GC01M159682                                             | 50.27                                                   | https://www.genecards.org/cgi-bin/carddisp.pl?gene=CRP  |\n",
       "| TLR4                                                    | Toll Like Receptor 4                                    | Protein Coding                                          | 59                                                      | GC09P117704                                             | 45.72                                                   | https://www.genecards.org/cgi-bin/carddisp.pl?gene=TLR4 |\n",
       "| NOD2                                                    | Nucleotide Binding Oligomerization Domain Containing 2  | Protein Coding                                          | 54                                                      | GC16P050693                                             | 44.97                                                   | https://www.genecards.org/cgi-bin/carddisp.pl?gene=NOD2 |\n",
       "\n"
      ],
      "text/plain": [
       "  Gene.Symbol Description                                           \n",
       "1 TNF         Tumor Necrosis Factor                                 \n",
       "2 IL6         Interleukin 6                                         \n",
       "3 IL10        Interleukin 10                                        \n",
       "4 CRP         C-Reactive Protein                                    \n",
       "5 TLR4        Toll Like Receptor 4                                  \n",
       "6 NOD2        Nucleotide Binding Oligomerization Domain Containing 2\n",
       "  Category       Gifts GC.Id       Relevance.score\n",
       "1 Protein Coding 60    GC06P032174 79.95          \n",
       "2 Protein Coding 55    GC07P022765 79.59          \n",
       "3 Protein Coding 54    GC01M206767 64.81          \n",
       "4 Protein Coding 53    GC01M159682 50.27          \n",
       "5 Protein Coding 59    GC09P117704 45.72          \n",
       "6 Protein Coding 54    GC16P050693 44.97          \n",
       "  GeneCards.Link                                         \n",
       "1 https://www.genecards.org/cgi-bin/carddisp.pl?gene=TNF \n",
       "2 https://www.genecards.org/cgi-bin/carddisp.pl?gene=IL6 \n",
       "3 https://www.genecards.org/cgi-bin/carddisp.pl?gene=IL10\n",
       "4 https://www.genecards.org/cgi-bin/carddisp.pl?gene=CRP \n",
       "5 https://www.genecards.org/cgi-bin/carddisp.pl?gene=TLR4\n",
       "6 https://www.genecards.org/cgi-bin/carddisp.pl?gene=NOD2"
      ]
     },
     "metadata": {},
     "output_type": "display_data"
    },
    {
     "data": {
      "text/html": [
       "'The number of genes is 5531.'"
      ],
      "text/latex": [
       "'The number of genes is 5531.'"
      ],
      "text/markdown": [
       "'The number of genes is 5531.'"
      ],
      "text/plain": [
       "[1] \"The number of genes is 5531.\""
      ]
     },
     "metadata": {},
     "output_type": "display_data"
    }
   ],
   "source": [
    "# load in files\n",
    "disgenet <- read.table(file.path(getwd(), \"InflGenes\", \"disgenet.txt\"), header = T, sep = \"\\t\", stringsAsFactors = FALSE)\n",
    "genecards <- read.table(file.path(getwd(), \"InflGenes\", \"genecards.txt\"), header = T, sep = \"\\t\", stringsAsFactors = FALSE)\n",
    "\n",
    "# check head of both files\n",
    "head(disgenet)\n",
    "paste0(\"The number of genes is \", nrow(disgenet), \".\")\n",
    "head(genecards)\n",
    "paste0(\"The number of genes is \", nrow(genecards), \".\")"
   ]
  },
  {
   "cell_type": "markdown",
   "metadata": {},
   "source": [
    "Now that we have our genesets from both databases, we would like to merge them so that we are more confident about the association between the genes and inflammation. But first, we will clean up the files so they are easier to work with and contain necessary information."
   ]
  },
  {
   "cell_type": "code",
   "execution_count": 16,
   "metadata": {},
   "outputs": [],
   "source": [
    "# clean up DisGeNET file\n",
    "disgenet <- disgenet %>% select(geneid, symbol, score)\n",
    "colnames(disgenet)[c(1,2,3)] <- c(\"entrezgene\", \"hgnc_symbol\", \"dis_score\")"
   ]
  },
  {
   "cell_type": "code",
   "execution_count": 17,
   "metadata": {},
   "outputs": [],
   "source": [
    "# clean up GeneCards file\n",
    "genecards <- genecards %>% select(Gene.Symbol, Relevance.score)\n",
    "colnames(genecards)[c(1,2)] <- c(\"hgnc_symbol\", \"GC_score\")"
   ]
  },
  {
   "cell_type": "code",
   "execution_count": 18,
   "metadata": {},
   "outputs": [
    {
     "data": {
      "text/html": [
       "<table>\n",
       "<thead><tr><th scope=col>entrezgene</th><th scope=col>hgnc_symbol</th><th scope=col>dis_score</th></tr></thead>\n",
       "<tbody>\n",
       "\t<tr><td>3576 </td><td>CXCL8</td><td>0.40 </td></tr>\n",
       "\t<tr><td>1401 </td><td>CRP  </td><td>0.40 </td></tr>\n",
       "\t<tr><td>7124 </td><td>TNF  </td><td>0.40 </td></tr>\n",
       "\t<tr><td>7040 </td><td>TGFB1</td><td>0.38 </td></tr>\n",
       "\t<tr><td>3569 </td><td>IL6  </td><td>0.37 </td></tr>\n",
       "\t<tr><td>3553 </td><td>IL1B </td><td>0.37 </td></tr>\n",
       "</tbody>\n",
       "</table>\n"
      ],
      "text/latex": [
       "\\begin{tabular}{r|lll}\n",
       " entrezgene & hgnc\\_symbol & dis\\_score\\\\\n",
       "\\hline\n",
       "\t 3576  & CXCL8 & 0.40 \\\\\n",
       "\t 1401  & CRP   & 0.40 \\\\\n",
       "\t 7124  & TNF   & 0.40 \\\\\n",
       "\t 7040  & TGFB1 & 0.38 \\\\\n",
       "\t 3569  & IL6   & 0.37 \\\\\n",
       "\t 3553  & IL1B  & 0.37 \\\\\n",
       "\\end{tabular}\n"
      ],
      "text/markdown": [
       "\n",
       "| entrezgene | hgnc_symbol | dis_score |\n",
       "|---|---|---|\n",
       "| 3576  | CXCL8 | 0.40  |\n",
       "| 1401  | CRP   | 0.40  |\n",
       "| 7124  | TNF   | 0.40  |\n",
       "| 7040  | TGFB1 | 0.38  |\n",
       "| 3569  | IL6   | 0.37  |\n",
       "| 3553  | IL1B  | 0.37  |\n",
       "\n"
      ],
      "text/plain": [
       "  entrezgene hgnc_symbol dis_score\n",
       "1 3576       CXCL8       0.40     \n",
       "2 1401       CRP         0.40     \n",
       "3 7124       TNF         0.40     \n",
       "4 7040       TGFB1       0.38     \n",
       "5 3569       IL6         0.37     \n",
       "6 3553       IL1B        0.37     "
      ]
     },
     "metadata": {},
     "output_type": "display_data"
    },
    {
     "data": {
      "text/html": [
       "'The number of genes is 428.'"
      ],
      "text/latex": [
       "'The number of genes is 428.'"
      ],
      "text/markdown": [
       "'The number of genes is 428.'"
      ],
      "text/plain": [
       "[1] \"The number of genes is 428.\""
      ]
     },
     "metadata": {},
     "output_type": "display_data"
    },
    {
     "data": {
      "text/html": [
       "<table>\n",
       "<thead><tr><th scope=col>hgnc_symbol</th><th scope=col>GC_score</th></tr></thead>\n",
       "<tbody>\n",
       "\t<tr><td>TNF  </td><td>79.95</td></tr>\n",
       "\t<tr><td>IL6  </td><td>79.59</td></tr>\n",
       "\t<tr><td>IL10 </td><td>64.81</td></tr>\n",
       "\t<tr><td>CRP  </td><td>50.27</td></tr>\n",
       "\t<tr><td>TLR4 </td><td>45.72</td></tr>\n",
       "\t<tr><td>NOD2 </td><td>44.97</td></tr>\n",
       "</tbody>\n",
       "</table>\n"
      ],
      "text/latex": [
       "\\begin{tabular}{r|ll}\n",
       " hgnc\\_symbol & GC\\_score\\\\\n",
       "\\hline\n",
       "\t TNF   & 79.95\\\\\n",
       "\t IL6   & 79.59\\\\\n",
       "\t IL10  & 64.81\\\\\n",
       "\t CRP   & 50.27\\\\\n",
       "\t TLR4  & 45.72\\\\\n",
       "\t NOD2  & 44.97\\\\\n",
       "\\end{tabular}\n"
      ],
      "text/markdown": [
       "\n",
       "| hgnc_symbol | GC_score |\n",
       "|---|---|\n",
       "| TNF   | 79.95 |\n",
       "| IL6   | 79.59 |\n",
       "| IL10  | 64.81 |\n",
       "| CRP   | 50.27 |\n",
       "| TLR4  | 45.72 |\n",
       "| NOD2  | 44.97 |\n",
       "\n"
      ],
      "text/plain": [
       "  hgnc_symbol GC_score\n",
       "1 TNF         79.95   \n",
       "2 IL6         79.59   \n",
       "3 IL10        64.81   \n",
       "4 CRP         50.27   \n",
       "5 TLR4        45.72   \n",
       "6 NOD2        44.97   "
      ]
     },
     "metadata": {},
     "output_type": "display_data"
    },
    {
     "data": {
      "text/html": [
       "'The number of genes is 5531.'"
      ],
      "text/latex": [
       "'The number of genes is 5531.'"
      ],
      "text/markdown": [
       "'The number of genes is 5531.'"
      ],
      "text/plain": [
       "[1] \"The number of genes is 5531.\""
      ]
     },
     "metadata": {},
     "output_type": "display_data"
    }
   ],
   "source": [
    "# check the files and their dimensions\n",
    "head(disgenet)\n",
    "paste0(\"The number of genes is \", nrow(disgenet), \".\")\n",
    "head(genecards)\n",
    "paste0(\"The number of genes is \", nrow(genecards), \".\")"
   ]
  },
  {
   "cell_type": "markdown",
   "metadata": {},
   "source": [
    "Because the DisGeNET file contains entrezgene IDs, we don't have to map identifiers as we are going to use the entrezgene IDs together with the hgnc symbols from now on. \n",
    "The next step is to merge bothe genesets, this can be done based on the hgnc symbols both files contain."
   ]
  },
  {
   "cell_type": "code",
   "execution_count": 23,
   "metadata": {},
   "outputs": [
    {
     "data": {
      "text/html": [
       "<table>\n",
       "<thead><tr><th scope=col>entrezgene</th><th scope=col>hgnc_symbol</th><th scope=col>dis_score</th><th scope=col>GC_score</th></tr></thead>\n",
       "<tbody>\n",
       "\t<tr><td>3576 </td><td>CXCL8</td><td>0.40 </td><td>43.88</td></tr>\n",
       "\t<tr><td>1401 </td><td>CRP  </td><td>0.40 </td><td>50.27</td></tr>\n",
       "\t<tr><td>7124 </td><td>TNF  </td><td>0.40 </td><td>79.95</td></tr>\n",
       "\t<tr><td>7040 </td><td>TGFB1</td><td>0.38 </td><td>28.66</td></tr>\n",
       "\t<tr><td>3569 </td><td>IL6  </td><td>0.37 </td><td>79.59</td></tr>\n",
       "\t<tr><td>3553 </td><td>IL1B </td><td>0.37 </td><td>40.29</td></tr>\n",
       "</tbody>\n",
       "</table>\n"
      ],
      "text/latex": [
       "\\begin{tabular}{r|llll}\n",
       " entrezgene & hgnc\\_symbol & dis\\_score & GC\\_score\\\\\n",
       "\\hline\n",
       "\t 3576  & CXCL8 & 0.40  & 43.88\\\\\n",
       "\t 1401  & CRP   & 0.40  & 50.27\\\\\n",
       "\t 7124  & TNF   & 0.40  & 79.95\\\\\n",
       "\t 7040  & TGFB1 & 0.38  & 28.66\\\\\n",
       "\t 3569  & IL6   & 0.37  & 79.59\\\\\n",
       "\t 3553  & IL1B  & 0.37  & 40.29\\\\\n",
       "\\end{tabular}\n"
      ],
      "text/markdown": [
       "\n",
       "| entrezgene | hgnc_symbol | dis_score | GC_score |\n",
       "|---|---|---|---|\n",
       "| 3576  | CXCL8 | 0.40  | 43.88 |\n",
       "| 1401  | CRP   | 0.40  | 50.27 |\n",
       "| 7124  | TNF   | 0.40  | 79.95 |\n",
       "| 7040  | TGFB1 | 0.38  | 28.66 |\n",
       "| 3569  | IL6   | 0.37  | 79.59 |\n",
       "| 3553  | IL1B  | 0.37  | 40.29 |\n",
       "\n"
      ],
      "text/plain": [
       "  entrezgene hgnc_symbol dis_score GC_score\n",
       "1 3576       CXCL8       0.40      43.88   \n",
       "2 1401       CRP         0.40      50.27   \n",
       "3 7124       TNF         0.40      79.95   \n",
       "4 7040       TGFB1       0.38      28.66   \n",
       "5 3569       IL6         0.37      79.59   \n",
       "6 3553       IL1B        0.37      40.29   "
      ]
     },
     "metadata": {},
     "output_type": "display_data"
    },
    {
     "data": {
      "text/html": [
       "'The number of genes is 428.'"
      ],
      "text/latex": [
       "'The number of genes is 428.'"
      ],
      "text/markdown": [
       "'The number of genes is 428.'"
      ],
      "text/plain": [
       "[1] \"The number of genes is 428.\""
      ]
     },
     "metadata": {},
     "output_type": "display_data"
    }
   ],
   "source": [
    "# merge files based on hgnc_symbol\n",
    "merged_infl_genes <- disgenet %>% left_join(genecards, by = \"hgnc_symbol\")\n",
    "head(merged_infl_genes)\n",
    "paste0(\"The number of genes is \", nrow(merged_infl_genes), \".\")"
   ]
  },
  {
   "cell_type": "markdown",
   "metadata": {},
   "source": [
    "Before we set a cutoff value for our merged genesets, we would like to see the score-distribution of both databases. "
   ]
  },
  {
   "cell_type": "code",
   "execution_count": 21,
   "metadata": {
    "scrolled": true
   },
   "outputs": [
    {
     "data": {
      "image/png": "[encoded data removed]",
      "text/plain": [
       "Plot with title \"Distribution of DisGeNET score\""
      ]
     },
     "metadata": {},
     "output_type": "display_data"
    },
    {
     "data": {
      "image/png": "[encoded data removed]",
      "text/plain": [
       "Plot with title \"Distribution of GeneCards score\""
      ]
     },
     "metadata": {},
     "output_type": "display_data"
    }
   ],
   "source": [
    "hist(merged_infl_genes$dis_score, xlab = \"Score\", main = \"Distribution of DisGeNET score\")\n",
    "hist(merged_infl_genes$GC_score, xlab = \"Score\", main = \"Distribution of GeneCards score\")"
   ]
  },
  {
   "cell_type": "code",
   "execution_count": 22,
   "metadata": {},
   "outputs": [
    {
     "data": {
      "text/html": [
       "<table>\n",
       "<thead><tr><th></th><th scope=col>entrezgene</th><th scope=col>hgnc_symbol</th><th scope=col>dis_score</th><th scope=col>GC_score</th></tr></thead>\n",
       "<tbody>\n",
       "\t<tr><th scope=row>261</th><td>50616</td><td>IL22 </td><td>0.01 </td><td>10.08</td></tr>\n",
       "\t<tr><th scope=row>290</th><td> 1236</td><td>CCR7 </td><td>0.01 </td><td>10.12</td></tr>\n",
       "\t<tr><th scope=row>338</th><td>  847</td><td>CAT  </td><td>0.01 </td><td>10.21</td></tr>\n",
       "\t<tr><th scope=row>25</th><td> 6647</td><td>SOD1 </td><td>0.33 </td><td>10.35</td></tr>\n",
       "\t<tr><th scope=row>357</th><td> 5327</td><td>PLAT </td><td>0.01 </td><td>10.36</td></tr>\n",
       "\t<tr><th scope=row>335</th><td>  361</td><td>AQP4 </td><td>0.01 </td><td>10.38</td></tr>\n",
       "</tbody>\n",
       "</table>\n"
      ],
      "text/latex": [
       "\\begin{tabular}{r|llll}\n",
       "  & entrezgene & hgnc\\_symbol & dis\\_score & GC\\_score\\\\\n",
       "\\hline\n",
       "\t261 & 50616 & IL22  & 0.01  & 10.08\\\\\n",
       "\t290 &  1236 & CCR7  & 0.01  & 10.12\\\\\n",
       "\t338 &   847 & CAT   & 0.01  & 10.21\\\\\n",
       "\t25 &  6647 & SOD1  & 0.33  & 10.35\\\\\n",
       "\t357 &  5327 & PLAT  & 0.01  & 10.36\\\\\n",
       "\t335 &   361 & AQP4  & 0.01  & 10.38\\\\\n",
       "\\end{tabular}\n"
      ],
      "text/markdown": [
       "\n",
       "| <!--/--> | entrezgene | hgnc_symbol | dis_score | GC_score |\n",
       "|---|---|---|---|---|\n",
       "| 261 | 50616 | IL22  | 0.01  | 10.08 |\n",
       "| 290 |  1236 | CCR7  | 0.01  | 10.12 |\n",
       "| 338 |   847 | CAT   | 0.01  | 10.21 |\n",
       "| 25 |  6647 | SOD1  | 0.33  | 10.35 |\n",
       "| 357 |  5327 | PLAT  | 0.01  | 10.36 |\n",
       "| 335 |   361 | AQP4  | 0.01  | 10.38 |\n",
       "\n"
      ],
      "text/plain": [
       "    entrezgene hgnc_symbol dis_score GC_score\n",
       "261 50616      IL22        0.01      10.08   \n",
       "290  1236      CCR7        0.01      10.12   \n",
       "338   847      CAT         0.01      10.21   \n",
       "25   6647      SOD1        0.33      10.35   \n",
       "357  5327      PLAT        0.01      10.36   \n",
       "335   361      AQP4        0.01      10.38   "
      ]
     },
     "metadata": {},
     "output_type": "display_data"
    },
    {
     "data": {
      "text/html": [
       "'The number of genes is 147.'"
      ],
      "text/latex": [
       "'The number of genes is 147.'"
      ],
      "text/markdown": [
       "'The number of genes is 147.'"
      ],
      "text/plain": [
       "[1] \"The number of genes is 147.\""
      ]
     },
     "metadata": {},
     "output_type": "display_data"
    }
   ],
   "source": [
    "# filter out genes with a GeneCards score lower than 10, and filter out rows which contain NA value\n",
    "merged_infl_genes <- merged_infl_genes[!merged_infl_genes$GC_score<10,]\n",
    "merged_infl_genes <- merged_infl_genes %>% drop_na()\n",
    "merged_infl_genes <- merged_infl_genes[order(merged_infl_genes$GC_score),]\n",
    "head(merged_infl_genes)\n",
    "paste0(\"The number of genes is \", nrow(merged_infl_genes), \".\")"
   ]
  },
  {
   "cell_type": "code",
   "execution_count": 10,
   "metadata": {},
   "outputs": [],
   "source": [
    "# save file\n",
    "write.table(merged_infl_genes, file.path(getwd(), \"Inflgenes\", \"merged_infl_genes.txt\"), row.names = F, sep = \"\\t\", quote = F)"
   ]
  },
  {
   "cell_type": "markdown",
   "metadata": {},
   "source": [
    "Now we have our genes associated with inflammation, we can use these genes to acquire pathways.   "
   ]
  },
  {
   "cell_type": "code",
   "execution_count": 9,
   "metadata": {},
   "outputs": [
    {
     "data": {
      "text/plain": [
       "R version 3.5.1 (2018-07-02)\n",
       "Platform: x86_64-w64-mingw32/x64 (64-bit)\n",
       "Running under: Windows 10 x64 (build 17134)\n",
       "\n",
       "Matrix products: default\n",
       "\n",
       "locale:\n",
       "[1] LC_COLLATE=Dutch_Netherlands.1252  LC_CTYPE=Dutch_Netherlands.1252   \n",
       "[3] LC_MONETARY=Dutch_Netherlands.1252 LC_NUMERIC=C                      \n",
       "[5] LC_TIME=Dutch_Netherlands.1252    \n",
       "\n",
       "attached base packages:\n",
       "[1] stats     graphics  grDevices utils     datasets  methods   base     \n",
       "\n",
       "other attached packages:\n",
       "[1] tidyr_0.8.2          dplyr_0.7.8          RevoUtils_11.0.1    \n",
       "[4] RevoUtilsMath_11.0.0\n",
       "\n",
       "loaded via a namespace (and not attached):\n",
       " [1] Rcpp_1.0.0       bindr_0.1.1      magrittr_1.5     tidyselect_0.2.5\n",
       " [5] uuid_0.1-2       R6_2.3.0         rlang_0.3.1      tools_3.5.1     \n",
       " [9] htmltools_0.3.6  digest_0.6.18    assertthat_0.2.1 tibble_2.0.1    \n",
       "[13] crayon_1.3.4     bindrcpp_0.2.2   IRdisplay_0.7.0  purrr_0.3.0     \n",
       "[17] repr_0.19.1      base64enc_0.1-3  IRkernel_0.8.15  glue_1.3.0      \n",
       "[21] evaluate_0.12    pbdZMQ_0.3-3     compiler_3.5.1   pillar_1.3.1    \n",
       "[25] jsonlite_1.6     pkgconfig_2.0.2 "
      ]
     },
     "metadata": {},
     "output_type": "display_data"
    }
   ],
   "source": [
    "# information about this session\n",
    "sessionInfo()"
   ]
  }
 ],
 "metadata": {
  "kernelspec": {
   "display_name": "R",
   "language": "R",
   "name": "ir"
  },
  "language_info": {
   "codemirror_mode": "r",
   "file_extension": ".r",
   "mimetype": "text/x-r-source",
   "name": "R",
   "pygments_lexer": "r",
   "version": "3.5.1"
  }
 },
 "nbformat": 4,
 "nbformat_minor": 2
}
