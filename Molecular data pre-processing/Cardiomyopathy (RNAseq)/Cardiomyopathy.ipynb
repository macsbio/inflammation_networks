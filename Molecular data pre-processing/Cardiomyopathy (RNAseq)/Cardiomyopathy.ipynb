{
 "cells": [
  {
   "cell_type": "markdown",
   "metadata": {},
   "source": [
    "# Cardiomyopathy - Gene expression data pre-processing (RNAseq)"
   ]
  },
  {
   "cell_type": "code",
   "execution_count": 1,
   "metadata": {},
   "outputs": [
    {
     "data": {
      "text/html": [
       "'C:/Users/Laurent/Documents/GitHub/inflammation_networks2/Jupyter - Data pre-processing/Cardiomyopathy (RNAseq)'"
      ],
      "text/latex": [
       "'C:/Users/Laurent/Documents/GitHub/inflammation\\_networks2/Jupyter - Data pre-processing/Cardiomyopathy (RNAseq)'"
      ],
      "text/markdown": [
       "'C:/Users/Laurent/Documents/GitHub/inflammation_networks2/Jupyter - Data pre-processing/Cardiomyopathy (RNAseq)'"
      ],
      "text/plain": [
       "[1] \"C:/Users/Laurent/Documents/GitHub/inflammation_networks2/Jupyter - Data pre-processing/Cardiomyopathy (RNAseq)\""
      ]
     },
     "metadata": {},
     "output_type": "display_data"
    }
   ],
   "source": [
    "# check working directory\n",
    "getwd()"
   ]
  },
  {
   "cell_type": "code",
   "execution_count": 2,
   "metadata": {},
   "outputs": [
    {
     "name": "stderr",
     "output_type": "stream",
     "text": [
      "Warning message:\n",
      "\"package 'readxl' was built under R version 3.5.2\"Warning message:\n",
      "\"package 'edgeR' was built under R version 3.5.2\"Loading required package: limma\n",
      "Warning message:\n",
      "\"package 'data.table' was built under R version 3.5.2\"Warning message:\n",
      "\"package 'tidyr' was built under R version 3.5.2\""
     ]
    }
   ],
   "source": [
    "# load libraries\n",
    "library(readxl)\n",
    "library(edgeR)\n",
    "library(data.table)\n",
    "library(biomaRt)\n",
    "library(tidyr)"
   ]
  },
  {
   "cell_type": "code",
   "execution_count": 3,
   "metadata": {},
   "outputs": [
    {
     "name": "stderr",
     "output_type": "stream",
     "text": [
      "Warning message in eval(expr, envir, enclos):\n",
      "\"NAs introduced by coercion\""
     ]
    },
    {
     "data": {
      "text/html": [
       "<table>\n",
       "<thead><tr><th></th><th scope=col>ENSG_ID</th><th scope=col>hgnc_symbol</th><th scope=col>Control1</th><th scope=col>Control2</th><th scope=col>Control3</th><th scope=col>Control4</th><th scope=col>Control5</th><th scope=col>Control6</th><th scope=col>Control7</th><th scope=col>Control8</th><th scope=col>...</th><th scope=col>ICM4</th><th scope=col>ICM5</th><th scope=col>ICM6</th><th scope=col>ICM7</th><th scope=col>ICM8</th><th scope=col>ICM9</th><th scope=col>ICM10</th><th scope=col>ICM11</th><th scope=col>ICM12</th><th scope=col>ICM13</th></tr></thead>\n",
       "<tbody>\n",
       "\t<tr><th scope=row>ENSG00000000003</th><td>ENSG00000000003</td><td>TSPAN6         </td><td>26.06          </td><td> 81.14         </td><td> 67.72         </td><td> 41.08         </td><td> 43.56         </td><td> 29.27         </td><td> 29.69         </td><td> 36.98         </td><td>...            </td><td> 36.03         </td><td> 24.71         </td><td> 29.87         </td><td> 56.66         </td><td> 50.37         </td><td> 39.91         </td><td> 31.87         </td><td> 32.95         </td><td> 56.86         </td><td> 15.30         </td></tr>\n",
       "\t<tr><th scope=row>ENSG00000000005</th><td>ENSG00000000005</td><td>TNMD           </td><td> 0.00          </td><td>  0.00         </td><td>  4.62         </td><td>  0.00         </td><td>  1.53         </td><td>  0.00         </td><td>  0.00         </td><td>  1.04         </td><td>...            </td><td>  3.28         </td><td>  0.00         </td><td>  0.88         </td><td> 10.79         </td><td> 20.64         </td><td>  3.24         </td><td>  3.86         </td><td>  0.00         </td><td>  0.00         </td><td>  2.04         </td></tr>\n",
       "\t<tr><th scope=row>ENSG00000000419</th><td>ENSG00000000419</td><td>DPM1           </td><td>56.46          </td><td>205.79         </td><td>311.68         </td><td>205.41         </td><td>159.71         </td><td>132.83         </td><td>137.83         </td><td>160.42         </td><td>...            </td><td>173.61         </td><td>158.15         </td><td>140.56         </td><td>151.10         </td><td>261.32         </td><td>197.38         </td><td>173.86         </td><td>162.53         </td><td>152.81         </td><td>156.03         </td></tr>\n",
       "\t<tr><th scope=row>ENSG00000000457</th><td>ENSG00000000457</td><td>SCYL3          </td><td>95.54          </td><td> 23.52         </td><td> 62.34         </td><td> 33.38         </td><td> 64.19         </td><td> 92.31         </td><td> 38.17         </td><td> 41.67         </td><td>...            </td><td> 57.32         </td><td> 51.89         </td><td> 79.06         </td><td> 87.69         </td><td>130.87         </td><td> 57.17         </td><td> 42.50         </td><td> 83.46         </td><td> 72.85         </td><td> 54.05         </td></tr>\n",
       "\t<tr><th scope=row>ENSG00000000460</th><td>ENSG00000000460</td><td>C1orf112       </td><td> 8.69          </td><td> 18.81         </td><td> 14.62         </td><td> 38.52         </td><td> 15.28         </td><td> 27.02         </td><td> 16.96         </td><td> 17.71         </td><td>...            </td><td> 32.76         </td><td> 22.24         </td><td> 24.60         </td><td> 25.63         </td><td> 10.32         </td><td> 12.94         </td><td> 22.22         </td><td> 24.16         </td><td>  7.11         </td><td> 10.20         </td></tr>\n",
       "\t<tr><th scope=row>ENSG00000000938</th><td>ENSG00000000938</td><td>FGR            </td><td>73.83          </td><td> 52.92         </td><td> 15.39         </td><td> 17.97         </td><td> 27.51         </td><td> 67.54         </td><td> 29.69         </td><td> 43.75         </td><td>...            </td><td>  8.19         </td><td> 58.07         </td><td> 21.96         </td><td> 18.89         </td><td> 44.17         </td><td> 28.04         </td><td>  6.76         </td><td> 46.12         </td><td> 55.08         </td><td> 29.57         </td></tr>\n",
       "</tbody>\n",
       "</table>\n"
      ],
      "text/latex": [
       "\\begin{tabular}{r|llllllllllllllllllllllllllllllllllllll}\n",
       "  & ENSG\\_ID & hgnc\\_symbol & Control1 & Control2 & Control3 & Control4 & Control5 & Control6 & Control7 & Control8 & ... & ICM4 & ICM5 & ICM6 & ICM7 & ICM8 & ICM9 & ICM10 & ICM11 & ICM12 & ICM13\\\\\n",
       "\\hline\n",
       "\tENSG00000000003 & ENSG00000000003 & TSPAN6          & 26.06           &  81.14          &  67.72          &  41.08          &  43.56          &  29.27          &  29.69          &  36.98          & ...             &  36.03          &  24.71          &  29.87          &  56.66          &  50.37          &  39.91          &  31.87          &  32.95          &  56.86          &  15.30         \\\\\n",
       "\tENSG00000000005 & ENSG00000000005 & TNMD            &  0.00           &   0.00          &   4.62          &   0.00          &   1.53          &   0.00          &   0.00          &   1.04          & ...             &   3.28          &   0.00          &   0.88          &  10.79          &  20.64          &   3.24          &   3.86          &   0.00          &   0.00          &   2.04         \\\\\n",
       "\tENSG00000000419 & ENSG00000000419 & DPM1            & 56.46           & 205.79          & 311.68          & 205.41          & 159.71          & 132.83          & 137.83          & 160.42          & ...             & 173.61          & 158.15          & 140.56          & 151.10          & 261.32          & 197.38          & 173.86          & 162.53          & 152.81          & 156.03         \\\\\n",
       "\tENSG00000000457 & ENSG00000000457 & SCYL3           & 95.54           &  23.52          &  62.34          &  33.38          &  64.19          &  92.31          &  38.17          &  41.67          & ...             &  57.32          &  51.89          &  79.06          &  87.69          & 130.87          &  57.17          &  42.50          &  83.46          &  72.85          &  54.05         \\\\\n",
       "\tENSG00000000460 & ENSG00000000460 & C1orf112        &  8.69           &  18.81          &  14.62          &  38.52          &  15.28          &  27.02          &  16.96          &  17.71          & ...             &  32.76          &  22.24          &  24.60          &  25.63          &  10.32          &  12.94          &  22.22          &  24.16          &   7.11          &  10.20         \\\\\n",
       "\tENSG00000000938 & ENSG00000000938 & FGR             & 73.83           &  52.92          &  15.39          &  17.97          &  27.51          &  67.54          &  29.69          &  43.75          & ...             &   8.19          &  58.07          &  21.96          &  18.89          &  44.17          &  28.04          &   6.76          &  46.12          &  55.08          &  29.57         \\\\\n",
       "\\end{tabular}\n"
      ],
      "text/markdown": [
       "\n",
       "| <!--/--> | ENSG_ID | hgnc_symbol | Control1 | Control2 | Control3 | Control4 | Control5 | Control6 | Control7 | Control8 | ... | ICM4 | ICM5 | ICM6 | ICM7 | ICM8 | ICM9 | ICM10 | ICM11 | ICM12 | ICM13 |\n",
       "|---|---|---|---|---|---|---|---|---|---|---|---|---|---|---|---|---|---|---|---|---|---|\n",
       "| ENSG00000000003 | ENSG00000000003 | TSPAN6          | 26.06           |  81.14          |  67.72          |  41.08          |  43.56          |  29.27          |  29.69          |  36.98          | ...             |  36.03          |  24.71          |  29.87          |  56.66          |  50.37          |  39.91          |  31.87          |  32.95          |  56.86          |  15.30          |\n",
       "| ENSG00000000005 | ENSG00000000005 | TNMD            |  0.00           |   0.00          |   4.62          |   0.00          |   1.53          |   0.00          |   0.00          |   1.04          | ...             |   3.28          |   0.00          |   0.88          |  10.79          |  20.64          |   3.24          |   3.86          |   0.00          |   0.00          |   2.04          |\n",
       "| ENSG00000000419 | ENSG00000000419 | DPM1            | 56.46           | 205.79          | 311.68          | 205.41          | 159.71          | 132.83          | 137.83          | 160.42          | ...             | 173.61          | 158.15          | 140.56          | 151.10          | 261.32          | 197.38          | 173.86          | 162.53          | 152.81          | 156.03          |\n",
       "| ENSG00000000457 | ENSG00000000457 | SCYL3           | 95.54           |  23.52          |  62.34          |  33.38          |  64.19          |  92.31          |  38.17          |  41.67          | ...             |  57.32          |  51.89          |  79.06          |  87.69          | 130.87          |  57.17          |  42.50          |  83.46          |  72.85          |  54.05          |\n",
       "| ENSG00000000460 | ENSG00000000460 | C1orf112        |  8.69           |  18.81          |  14.62          |  38.52          |  15.28          |  27.02          |  16.96          |  17.71          | ...             |  32.76          |  22.24          |  24.60          |  25.63          |  10.32          |  12.94          |  22.22          |  24.16          |   7.11          |  10.20          |\n",
       "| ENSG00000000938 | ENSG00000000938 | FGR             | 73.83           |  52.92          |  15.39          |  17.97          |  27.51          |  67.54          |  29.69          |  43.75          | ...             |   8.19          |  58.07          |  21.96          |  18.89          |  44.17          |  28.04          |   6.76          |  46.12          |  55.08          |  29.57          |\n",
       "\n"
      ],
      "text/plain": [
       "                ENSG_ID         hgnc_symbol Control1 Control2 Control3 Control4\n",
       "ENSG00000000003 ENSG00000000003 TSPAN6      26.06     81.14    67.72    41.08  \n",
       "ENSG00000000005 ENSG00000000005 TNMD         0.00      0.00     4.62     0.00  \n",
       "ENSG00000000419 ENSG00000000419 DPM1        56.46    205.79   311.68   205.41  \n",
       "ENSG00000000457 ENSG00000000457 SCYL3       95.54     23.52    62.34    33.38  \n",
       "ENSG00000000460 ENSG00000000460 C1orf112     8.69     18.81    14.62    38.52  \n",
       "ENSG00000000938 ENSG00000000938 FGR         73.83     52.92    15.39    17.97  \n",
       "                Control5 Control6 Control7 Control8 ... ICM4   ICM5   ICM6  \n",
       "ENSG00000000003  43.56    29.27    29.69    36.98   ...  36.03  24.71  29.87\n",
       "ENSG00000000005   1.53     0.00     0.00     1.04   ...   3.28   0.00   0.88\n",
       "ENSG00000000419 159.71   132.83   137.83   160.42   ... 173.61 158.15 140.56\n",
       "ENSG00000000457  64.19    92.31    38.17    41.67   ...  57.32  51.89  79.06\n",
       "ENSG00000000460  15.28    27.02    16.96    17.71   ...  32.76  22.24  24.60\n",
       "ENSG00000000938  27.51    67.54    29.69    43.75   ...   8.19  58.07  21.96\n",
       "                ICM7   ICM8   ICM9   ICM10  ICM11  ICM12  ICM13 \n",
       "ENSG00000000003  56.66  50.37  39.91  31.87  32.95  56.86  15.30\n",
       "ENSG00000000005  10.79  20.64   3.24   3.86   0.00   0.00   2.04\n",
       "ENSG00000000419 151.10 261.32 197.38 173.86 162.53 152.81 156.03\n",
       "ENSG00000000457  87.69 130.87  57.17  42.50  83.46  72.85  54.05\n",
       "ENSG00000000460  25.63  10.32  12.94  22.22  24.16   7.11  10.20\n",
       "ENSG00000000938  18.89  44.17  28.04   6.76  46.12  55.08  29.57"
      ]
     },
     "metadata": {},
     "output_type": "display_data"
    },
    {
     "data": {
      "text/html": [
       "<ol class=list-inline>\n",
       "\t<li>20214</li>\n",
       "\t<li>38</li>\n",
       "</ol>\n"
      ],
      "text/latex": [
       "\\begin{enumerate*}\n",
       "\\item 20214\n",
       "\\item 38\n",
       "\\end{enumerate*}\n"
      ],
      "text/markdown": [
       "1. 20214\n",
       "2. 38\n",
       "\n",
       "\n"
      ],
      "text/plain": [
       "[1] 20214    38"
      ]
     },
     "metadata": {},
     "output_type": "display_data"
    }
   ],
   "source": [
    "data <- as.data.frame(read_excel(file.path(getwd(), \"Data\", \"GSE55296_count_data.xlsx\")))\n",
    "row.names(data) <- data$ENSG_ID\n",
    "data$Control9 <- as.numeric(data$Control9)\n",
    "\n",
    "head(data)\n",
    "dim(data)"
   ]
  },
  {
   "cell_type": "code",
   "execution_count": 4,
   "metadata": {},
   "outputs": [
    {
     "data": {
      "text/plain": [
       "keep\n",
       "FALSE  TRUE \n",
       " 4859 15354 "
      ]
     },
     "metadata": {},
     "output_type": "display_data"
    },
    {
     "data": {
      "text/html": [
       "<table>\n",
       "<thead><tr><th></th><th scope=col>ENSG_ID</th><th scope=col>hgnc_symbol</th><th scope=col>Control1</th><th scope=col>Control2</th><th scope=col>Control3</th><th scope=col>Control4</th><th scope=col>Control5</th><th scope=col>Control6</th><th scope=col>Control7</th><th scope=col>Control8</th><th scope=col>...</th><th scope=col>ICM4</th><th scope=col>ICM5</th><th scope=col>ICM6</th><th scope=col>ICM7</th><th scope=col>ICM8</th><th scope=col>ICM9</th><th scope=col>ICM10</th><th scope=col>ICM11</th><th scope=col>ICM12</th><th scope=col>ICM13</th></tr></thead>\n",
       "<tbody>\n",
       "\t<tr><th scope=row>ENSG00000000003</th><td>ENSG00000000003</td><td>TSPAN6         </td><td>26.06          </td><td> 81.14         </td><td> 67.72         </td><td> 41.08         </td><td> 43.56         </td><td> 29.27         </td><td> 29.69         </td><td> 36.98         </td><td>...            </td><td> 36.03         </td><td> 24.71         </td><td> 29.87         </td><td> 56.66         </td><td> 50.37         </td><td> 39.91         </td><td> 31.87         </td><td> 32.95         </td><td> 56.86         </td><td> 15.30         </td></tr>\n",
       "\t<tr><th scope=row>ENSG00000000005</th><td>ENSG00000000005</td><td>TNMD           </td><td> 0.00          </td><td>  0.00         </td><td>  4.62         </td><td>  0.00         </td><td>  1.53         </td><td>  0.00         </td><td>  0.00         </td><td>  1.04         </td><td>...            </td><td>  3.28         </td><td>  0.00         </td><td>  0.88         </td><td> 10.79         </td><td> 20.64         </td><td>  3.24         </td><td>  3.86         </td><td>  0.00         </td><td>  0.00         </td><td>  2.04         </td></tr>\n",
       "\t<tr><th scope=row>ENSG00000000419</th><td>ENSG00000000419</td><td>DPM1           </td><td>56.46          </td><td>205.79         </td><td>311.68         </td><td>205.41         </td><td>159.71         </td><td>132.83         </td><td>137.83         </td><td>160.42         </td><td>...            </td><td>173.61         </td><td>158.15         </td><td>140.56         </td><td>151.10         </td><td>261.32         </td><td>197.38         </td><td>173.86         </td><td>162.53         </td><td>152.81         </td><td>156.03         </td></tr>\n",
       "\t<tr><th scope=row>ENSG00000000457</th><td>ENSG00000000457</td><td>SCYL3          </td><td>95.54          </td><td> 23.52         </td><td> 62.34         </td><td> 33.38         </td><td> 64.19         </td><td> 92.31         </td><td> 38.17         </td><td> 41.67         </td><td>...            </td><td> 57.32         </td><td> 51.89         </td><td> 79.06         </td><td> 87.69         </td><td>130.87         </td><td> 57.17         </td><td> 42.50         </td><td> 83.46         </td><td> 72.85         </td><td> 54.05         </td></tr>\n",
       "\t<tr><th scope=row>ENSG00000000460</th><td>ENSG00000000460</td><td>C1orf112       </td><td> 8.69          </td><td> 18.81         </td><td> 14.62         </td><td> 38.52         </td><td> 15.28         </td><td> 27.02         </td><td> 16.96         </td><td> 17.71         </td><td>...            </td><td> 32.76         </td><td> 22.24         </td><td> 24.60         </td><td> 25.63         </td><td> 10.32         </td><td> 12.94         </td><td> 22.22         </td><td> 24.16         </td><td>  7.11         </td><td> 10.20         </td></tr>\n",
       "\t<tr><th scope=row>ENSG00000000938</th><td>ENSG00000000938</td><td>FGR            </td><td>73.83          </td><td> 52.92         </td><td> 15.39         </td><td> 17.97         </td><td> 27.51         </td><td> 67.54         </td><td> 29.69         </td><td> 43.75         </td><td>...            </td><td>  8.19         </td><td> 58.07         </td><td> 21.96         </td><td> 18.89         </td><td> 44.17         </td><td> 28.04         </td><td>  6.76         </td><td> 46.12         </td><td> 55.08         </td><td> 29.57         </td></tr>\n",
       "</tbody>\n",
       "</table>\n"
      ],
      "text/latex": [
       "\\begin{tabular}{r|llllllllllllllllllllllllllllllllllllll}\n",
       "  & ENSG\\_ID & hgnc\\_symbol & Control1 & Control2 & Control3 & Control4 & Control5 & Control6 & Control7 & Control8 & ... & ICM4 & ICM5 & ICM6 & ICM7 & ICM8 & ICM9 & ICM10 & ICM11 & ICM12 & ICM13\\\\\n",
       "\\hline\n",
       "\tENSG00000000003 & ENSG00000000003 & TSPAN6          & 26.06           &  81.14          &  67.72          &  41.08          &  43.56          &  29.27          &  29.69          &  36.98          & ...             &  36.03          &  24.71          &  29.87          &  56.66          &  50.37          &  39.91          &  31.87          &  32.95          &  56.86          &  15.30         \\\\\n",
       "\tENSG00000000005 & ENSG00000000005 & TNMD            &  0.00           &   0.00          &   4.62          &   0.00          &   1.53          &   0.00          &   0.00          &   1.04          & ...             &   3.28          &   0.00          &   0.88          &  10.79          &  20.64          &   3.24          &   3.86          &   0.00          &   0.00          &   2.04         \\\\\n",
       "\tENSG00000000419 & ENSG00000000419 & DPM1            & 56.46           & 205.79          & 311.68          & 205.41          & 159.71          & 132.83          & 137.83          & 160.42          & ...             & 173.61          & 158.15          & 140.56          & 151.10          & 261.32          & 197.38          & 173.86          & 162.53          & 152.81          & 156.03         \\\\\n",
       "\tENSG00000000457 & ENSG00000000457 & SCYL3           & 95.54           &  23.52          &  62.34          &  33.38          &  64.19          &  92.31          &  38.17          &  41.67          & ...             &  57.32          &  51.89          &  79.06          &  87.69          & 130.87          &  57.17          &  42.50          &  83.46          &  72.85          &  54.05         \\\\\n",
       "\tENSG00000000460 & ENSG00000000460 & C1orf112        &  8.69           &  18.81          &  14.62          &  38.52          &  15.28          &  27.02          &  16.96          &  17.71          & ...             &  32.76          &  22.24          &  24.60          &  25.63          &  10.32          &  12.94          &  22.22          &  24.16          &   7.11          &  10.20         \\\\\n",
       "\tENSG00000000938 & ENSG00000000938 & FGR             & 73.83           &  52.92          &  15.39          &  17.97          &  27.51          &  67.54          &  29.69          &  43.75          & ...             &   8.19          &  58.07          &  21.96          &  18.89          &  44.17          &  28.04          &   6.76          &  46.12          &  55.08          &  29.57         \\\\\n",
       "\\end{tabular}\n"
      ],
      "text/markdown": [
       "\n",
       "| <!--/--> | ENSG_ID | hgnc_symbol | Control1 | Control2 | Control3 | Control4 | Control5 | Control6 | Control7 | Control8 | ... | ICM4 | ICM5 | ICM6 | ICM7 | ICM8 | ICM9 | ICM10 | ICM11 | ICM12 | ICM13 |\n",
       "|---|---|---|---|---|---|---|---|---|---|---|---|---|---|---|---|---|---|---|---|---|---|\n",
       "| ENSG00000000003 | ENSG00000000003 | TSPAN6          | 26.06           |  81.14          |  67.72          |  41.08          |  43.56          |  29.27          |  29.69          |  36.98          | ...             |  36.03          |  24.71          |  29.87          |  56.66          |  50.37          |  39.91          |  31.87          |  32.95          |  56.86          |  15.30          |\n",
       "| ENSG00000000005 | ENSG00000000005 | TNMD            |  0.00           |   0.00          |   4.62          |   0.00          |   1.53          |   0.00          |   0.00          |   1.04          | ...             |   3.28          |   0.00          |   0.88          |  10.79          |  20.64          |   3.24          |   3.86          |   0.00          |   0.00          |   2.04          |\n",
       "| ENSG00000000419 | ENSG00000000419 | DPM1            | 56.46           | 205.79          | 311.68          | 205.41          | 159.71          | 132.83          | 137.83          | 160.42          | ...             | 173.61          | 158.15          | 140.56          | 151.10          | 261.32          | 197.38          | 173.86          | 162.53          | 152.81          | 156.03          |\n",
       "| ENSG00000000457 | ENSG00000000457 | SCYL3           | 95.54           |  23.52          |  62.34          |  33.38          |  64.19          |  92.31          |  38.17          |  41.67          | ...             |  57.32          |  51.89          |  79.06          |  87.69          | 130.87          |  57.17          |  42.50          |  83.46          |  72.85          |  54.05          |\n",
       "| ENSG00000000460 | ENSG00000000460 | C1orf112        |  8.69           |  18.81          |  14.62          |  38.52          |  15.28          |  27.02          |  16.96          |  17.71          | ...             |  32.76          |  22.24          |  24.60          |  25.63          |  10.32          |  12.94          |  22.22          |  24.16          |   7.11          |  10.20          |\n",
       "| ENSG00000000938 | ENSG00000000938 | FGR             | 73.83           |  52.92          |  15.39          |  17.97          |  27.51          |  67.54          |  29.69          |  43.75          | ...             |   8.19          |  58.07          |  21.96          |  18.89          |  44.17          |  28.04          |   6.76          |  46.12          |  55.08          |  29.57          |\n",
       "\n"
      ],
      "text/plain": [
       "                ENSG_ID         hgnc_symbol Control1 Control2 Control3 Control4\n",
       "ENSG00000000003 ENSG00000000003 TSPAN6      26.06     81.14    67.72    41.08  \n",
       "ENSG00000000005 ENSG00000000005 TNMD         0.00      0.00     4.62     0.00  \n",
       "ENSG00000000419 ENSG00000000419 DPM1        56.46    205.79   311.68   205.41  \n",
       "ENSG00000000457 ENSG00000000457 SCYL3       95.54     23.52    62.34    33.38  \n",
       "ENSG00000000460 ENSG00000000460 C1orf112     8.69     18.81    14.62    38.52  \n",
       "ENSG00000000938 ENSG00000000938 FGR         73.83     52.92    15.39    17.97  \n",
       "                Control5 Control6 Control7 Control8 ... ICM4   ICM5   ICM6  \n",
       "ENSG00000000003  43.56    29.27    29.69    36.98   ...  36.03  24.71  29.87\n",
       "ENSG00000000005   1.53     0.00     0.00     1.04   ...   3.28   0.00   0.88\n",
       "ENSG00000000419 159.71   132.83   137.83   160.42   ... 173.61 158.15 140.56\n",
       "ENSG00000000457  64.19    92.31    38.17    41.67   ...  57.32  51.89  79.06\n",
       "ENSG00000000460  15.28    27.02    16.96    17.71   ...  32.76  22.24  24.60\n",
       "ENSG00000000938  27.51    67.54    29.69    43.75   ...   8.19  58.07  21.96\n",
       "                ICM7   ICM8   ICM9   ICM10  ICM11  ICM12  ICM13 \n",
       "ENSG00000000003  56.66  50.37  39.91  31.87  32.95  56.86  15.30\n",
       "ENSG00000000005  10.79  20.64   3.24   3.86   0.00   0.00   2.04\n",
       "ENSG00000000419 151.10 261.32 197.38 173.86 162.53 152.81 156.03\n",
       "ENSG00000000457  87.69 130.87  57.17  42.50  83.46  72.85  54.05\n",
       "ENSG00000000460  25.63  10.32  12.94  22.22  24.16   7.11  10.20\n",
       "ENSG00000000938  18.89  44.17  28.04   6.76  46.12  55.08  29.57"
      ]
     },
     "metadata": {},
     "output_type": "display_data"
    },
    {
     "data": {
      "text/html": [
       "<ol class=list-inline>\n",
       "\t<li>15354</li>\n",
       "\t<li>38</li>\n",
       "</ol>\n"
      ],
      "text/latex": [
       "\\begin{enumerate*}\n",
       "\\item 15354\n",
       "\\item 38\n",
       "\\end{enumerate*}\n"
      ],
      "text/markdown": [
       "1. 15354\n",
       "2. 38\n",
       "\n",
       "\n"
      ],
      "text/plain": [
       "[1] 15354    38"
      ]
     },
     "metadata": {},
     "output_type": "display_data"
    }
   ],
   "source": [
    "# filter lowly expressed genes \n",
    "keep <-rowSums(data[,3:38]) > 50\n",
    "table(keep)\n",
    "data <- data[keep,]\n",
    "\n",
    "data <- data %>% drop_na()\n",
    "\n",
    "head(data)\n",
    "dim(data)"
   ]
  },
  {
   "cell_type": "code",
   "execution_count": 5,
   "metadata": {},
   "outputs": [],
   "source": [
    "# run EdgeR\n",
    "group <- factor(c(rep(\"case\", 13), rep(\"control\", 10)))\n",
    "y <- DGEList(counts = data[,3:25], group = group)\n",
    "y <- calcNormFactors(y)\n",
    "design <- model.matrix(~group)\n",
    "y <- estimateDisp(y, design)\n",
    "fit <- glmQLFit(y, design)\n",
    "qlf <- glmQLFTest(fit, coef = 2)\n",
    "res <- as.data.frame(topTags(qlf,n=Inf))"
   ]
  },
  {
   "cell_type": "code",
   "execution_count": 6,
   "metadata": {},
   "outputs": [],
   "source": [
    "# add row names as 1st column\n",
    "res <- setDT(res, keep.rownames = \"GeneID\")[]"
   ]
  },
  {
   "cell_type": "code",
   "execution_count": null,
   "metadata": {},
   "outputs": [],
   "source": [
    "# add HGNC symbols\n",
    "mart <- useDataset(\"hsapiens_gene_ensembl\", useMart(\"ensembl\"))\n",
    "genes <- res$GeneID\n",
    "G_list <- getBM(filters= \"ensembl_gene_id\", attributes= c(\"ensembl_gene_id\",\"hgnc_symbol\"),values=genes,mart= mart)\n",
    "res <- merge(res,G_list,by.x=\"GeneID\",by.y=\"ensembl_gene_id\")"
   ]
  },
  {
   "cell_type": "code",
   "execution_count": 11,
   "metadata": {},
   "outputs": [],
   "source": [
    "# save result for DCM\n",
    "write.table(res, file.path(getwd(), \"Data\", \"Stats\", \"DCM_stats.txt\"), quote=F, sep=\"\\t\", col.names=T, row.names=F)"
   ]
  },
  {
   "cell_type": "code",
   "execution_count": 2,
   "metadata": {},
   "outputs": [
    {
     "data": {
      "text/plain": [
       "R version 3.5.1 (2018-07-02)\n",
       "Platform: x86_64-w64-mingw32/x64 (64-bit)\n",
       "Running under: Windows 10 x64 (build 17134)\n",
       "\n",
       "Matrix products: default\n",
       "\n",
       "locale:\n",
       "[1] LC_COLLATE=Dutch_Netherlands.1252  LC_CTYPE=Dutch_Netherlands.1252   \n",
       "[3] LC_MONETARY=Dutch_Netherlands.1252 LC_NUMERIC=C                      \n",
       "[5] LC_TIME=Dutch_Netherlands.1252    \n",
       "\n",
       "attached base packages:\n",
       "[1] stats     graphics  grDevices utils     datasets  methods   base     \n",
       "\n",
       "other attached packages:\n",
       "[1] tidyr_0.8.2          dplyr_0.7.8          biomaRt_2.38.0      \n",
       "[4] data.table_1.12.0    edgeR_3.24.3         limma_3.38.3        \n",
       "[7] readxl_1.2.0         RevoUtils_11.0.1     RevoUtilsMath_11.0.0\n",
       "\n",
       "loaded via a namespace (and not attached):\n",
       " [1] Rcpp_1.0.0           pillar_1.3.1         bindr_0.1.1         \n",
       " [4] cellranger_1.1.0     compiler_3.5.1       prettyunits_1.0.2   \n",
       " [7] progress_1.2.0       bitops_1.0-6         base64enc_0.1-3     \n",
       "[10] tools_3.5.1          digest_0.6.18        uuid_0.1-2          \n",
       "[13] bit_1.1-14           tibble_2.0.1         jsonlite_1.6        \n",
       "[16] evaluate_0.12        RSQLite_2.1.1        memoise_1.1.0       \n",
       "[19] lattice_0.20-35      pkgconfig_2.0.2      rlang_0.3.1         \n",
       "[22] IRdisplay_0.7.0      DBI_1.0.0            IRkernel_0.8.15     \n",
       "[25] parallel_3.5.1       bindrcpp_0.2.2       httr_1.4.0          \n",
       "[28] stringr_1.3.1        repr_0.19.1          hms_0.4.2           \n",
       "[31] S4Vectors_0.20.1     IRanges_2.16.0       tidyselect_0.2.5    \n",
       "[34] locfit_1.5-9.1       stats4_3.5.1         bit64_0.9-7         \n",
       "[37] grid_3.5.1           glue_1.3.0           Biobase_2.42.0      \n",
       "[40] R6_2.3.0             AnnotationDbi_1.44.0 XML_3.98-1.19       \n",
       "[43] pbdZMQ_0.3-3         purrr_0.3.0          magrittr_1.5        \n",
       "[46] blob_1.1.1           htmltools_0.3.6      BiocGenerics_0.28.0 \n",
       "[49] assertthat_0.2.1     stringi_1.2.4        RCurl_1.95-4.12     \n",
       "[52] crayon_1.3.4        "
      ]
     },
     "metadata": {},
     "output_type": "display_data"
    }
   ],
   "source": [
    "# information about the session\n",
    "sessionInfo()"
   ]
  }
 ],
 "metadata": {
  "kernelspec": {
   "display_name": "R",
   "language": "R",
   "name": "ir"
  },
  "language_info": {
   "codemirror_mode": "r",
   "file_extension": ".r",
   "mimetype": "text/x-r-source",
   "name": "R",
   "pygments_lexer": "r",
   "version": "3.5.1"
  }
 },
 "nbformat": 4,
 "nbformat_minor": 2
}
