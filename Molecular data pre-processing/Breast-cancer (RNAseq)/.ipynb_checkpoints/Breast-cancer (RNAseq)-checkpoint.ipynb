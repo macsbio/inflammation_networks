{
 "cells": [
  {
   "cell_type": "markdown",
   "metadata": {},
   "source": [
    "# Breast-cancer - Gene expression data pre-processing (RNAseq)"
   ]
  },
  {
   "cell_type": "code",
   "execution_count": 1,
   "metadata": {},
   "outputs": [
    {
     "data": {
      "text/html": [
       "'C:/Users/Laurent/Documents/GitHub/inflammation_networks2/Jupyter - Data pre-processing/Breast-cancer (RNAseq)'"
      ],
      "text/latex": [
       "'C:/Users/Laurent/Documents/GitHub/inflammation\\_networks2/Jupyter - Data pre-processing/Breast-cancer (RNAseq)'"
      ],
      "text/markdown": [
       "'C:/Users/Laurent/Documents/GitHub/inflammation_networks2/Jupyter - Data pre-processing/Breast-cancer (RNAseq)'"
      ],
      "text/plain": [
       "[1] \"C:/Users/Laurent/Documents/GitHub/inflammation_networks2/Jupyter - Data pre-processing/Breast-cancer (RNAseq)\""
      ]
     },
     "metadata": {},
     "output_type": "display_data"
    }
   ],
   "source": [
    "# check wd\n",
    "getwd()"
   ]
  },
  {
   "cell_type": "code",
   "execution_count": 2,
   "metadata": {},
   "outputs": [
    {
     "name": "stderr",
     "output_type": "stream",
     "text": [
      "Warning message:\n",
      "\"package 'readxl' was built under R version 3.5.2\"Warning message:\n",
      "\"package 'edgeR' was built under R version 3.5.2\"Loading required package: limma\n",
      "Warning message:\n",
      "\"package 'data.table' was built under R version 3.5.2\"\n",
      "Attaching package: 'dplyr'\n",
      "\n",
      "The following object is masked from 'package:biomaRt':\n",
      "\n",
      "    select\n",
      "\n",
      "The following objects are masked from 'package:data.table':\n",
      "\n",
      "    between, first, last\n",
      "\n",
      "The following objects are masked from 'package:stats':\n",
      "\n",
      "    filter, lag\n",
      "\n",
      "The following objects are masked from 'package:base':\n",
      "\n",
      "    intersect, setdiff, setequal, union\n",
      "\n"
     ]
    }
   ],
   "source": [
    "# load libraries\n",
    "library(readxl)\n",
    "library(edgeR)\n",
    "library(data.table)\n",
    "library(biomaRt)\n",
    "library(dplyr)"
   ]
  },
  {
   "cell_type": "code",
   "execution_count": 4,
   "metadata": {},
   "outputs": [],
   "source": [
    "# read data table\n",
    "data <- as.data.frame(read_excel(file.path(getwd(), \"Data\", \"data-breast-cancer.xlsx\")))\n",
    "row.names(data) <- data$ENSG_ID"
   ]
  },
  {
   "cell_type": "code",
   "execution_count": 5,
   "metadata": {},
   "outputs": [
    {
     "data": {
      "text/plain": [
       "keep\n",
       "FALSE  TRUE \n",
       "35708 24725 "
      ]
     },
     "metadata": {},
     "output_type": "display_data"
    }
   ],
   "source": [
    "# filter lowly expressed genes \n",
    "keep <-rowSums(data[,2:11]) > 50\n",
    "table(keep)\n",
    "data <- data[keep,]"
   ]
  },
  {
   "cell_type": "code",
   "execution_count": 6,
   "metadata": {},
   "outputs": [],
   "source": [
    "# run EdgeR\n",
    "group <- factor(c(rep(\"case\", 5), rep(\"control\", 5)))\n",
    "y <- DGEList(counts = data[,2:11], group = group)\n",
    "y <- calcNormFactors(y)\n",
    "design <- model.matrix(~group)\n",
    "y <- estimateDisp(y, design)\n",
    "fit <- glmQLFit(y, design)\n",
    "qlf <- glmQLFTest(fit, coef = 2)\n",
    "res <- as.data.frame(topTags(qlf,n=Inf))"
   ]
  },
  {
   "cell_type": "code",
   "execution_count": 7,
   "metadata": {},
   "outputs": [],
   "source": [
    "# add row names as 1st column\n",
    "res <- setDT(res, keep.rownames = TRUE)[]\n",
    "colnames(res)[1] <- \"GeneID\""
   ]
  },
  {
   "cell_type": "code",
   "execution_count": 8,
   "metadata": {},
   "outputs": [
    {
     "name": "stderr",
     "output_type": "stream",
     "text": [
      "                                                                      \r"
     ]
    }
   ],
   "source": [
    "# add HGNC symbols\n",
    "mart <- useDataset(\"hsapiens_gene_ensembl\", useMart(\"ensembl\"))\n",
    "genes <- res$GeneID\n",
    "G_list <- getBM(filters= \"ensembl_gene_id\", attributes= c(\"ensembl_gene_id\",\"hgnc_symbol\"),values=genes,mart= mart)\n",
    "res <- merge(res,G_list,by.x=\"GeneID\",by.y=\"ensembl_gene_id\")"
   ]
  },
  {
   "cell_type": "code",
   "execution_count": 9,
   "metadata": {},
   "outputs": [
    {
     "data": {
      "text/html": [
       "<table>\n",
       "<thead><tr><th scope=col>GeneID</th><th scope=col>logFC</th><th scope=col>logCPM</th><th scope=col>F</th><th scope=col>PValue</th><th scope=col>FDR</th><th scope=col>hgnc_symbol</th></tr></thead>\n",
       "<tbody>\n",
       "\t<tr><td>ENSG00000000003</td><td>-0.19677472    </td><td>5.878281       </td><td> 0.12159179    </td><td>7.336084e-01   </td><td>0.8220842704   </td><td>TSPAN6         </td></tr>\n",
       "\t<tr><td>ENSG00000000005</td><td>-8.22242726    </td><td>3.044306       </td><td>53.86632165    </td><td>1.136683e-05   </td><td>0.0008179696   </td><td>TNMD           </td></tr>\n",
       "\t<tr><td>ENSG00000000419</td><td> 0.06848394    </td><td>4.849708       </td><td> 0.04650132    </td><td>8.330403e-01   </td><td>0.8926487528   </td><td>DPM1           </td></tr>\n",
       "\t<tr><td>ENSG00000000457</td><td> 0.88768039    </td><td>4.612369       </td><td> 4.53550697    </td><td>5.552918e-02   </td><td>0.1371264087   </td><td>SCYL3          </td></tr>\n",
       "\t<tr><td>ENSG00000000460</td><td> 1.27175890    </td><td>2.944843       </td><td> 7.29990937    </td><td>1.986698e-02   </td><td>0.0688691672   </td><td>C1orf112       </td></tr>\n",
       "\t<tr><td>ENSG00000000938</td><td>-3.09305336    </td><td>3.656325       </td><td>29.46189716    </td><td>1.770354e-04   </td><td>0.0037305636   </td><td>FGR            </td></tr>\n",
       "</tbody>\n",
       "</table>\n"
      ],
      "text/latex": [
       "\\begin{tabular}{r|lllllll}\n",
       " GeneID & logFC & logCPM & F & PValue & FDR & hgnc\\_symbol\\\\\n",
       "\\hline\n",
       "\t ENSG00000000003 & -0.19677472     & 5.878281        &  0.12159179     & 7.336084e-01    & 0.8220842704    & TSPAN6         \\\\\n",
       "\t ENSG00000000005 & -8.22242726     & 3.044306        & 53.86632165     & 1.136683e-05    & 0.0008179696    & TNMD           \\\\\n",
       "\t ENSG00000000419 &  0.06848394     & 4.849708        &  0.04650132     & 8.330403e-01    & 0.8926487528    & DPM1           \\\\\n",
       "\t ENSG00000000457 &  0.88768039     & 4.612369        &  4.53550697     & 5.552918e-02    & 0.1371264087    & SCYL3          \\\\\n",
       "\t ENSG00000000460 &  1.27175890     & 2.944843        &  7.29990937     & 1.986698e-02    & 0.0688691672    & C1orf112       \\\\\n",
       "\t ENSG00000000938 & -3.09305336     & 3.656325        & 29.46189716     & 1.770354e-04    & 0.0037305636    & FGR            \\\\\n",
       "\\end{tabular}\n"
      ],
      "text/markdown": [
       "\n",
       "| GeneID | logFC | logCPM | F | PValue | FDR | hgnc_symbol |\n",
       "|---|---|---|---|---|---|---|\n",
       "| ENSG00000000003 | -0.19677472     | 5.878281        |  0.12159179     | 7.336084e-01    | 0.8220842704    | TSPAN6          |\n",
       "| ENSG00000000005 | -8.22242726     | 3.044306        | 53.86632165     | 1.136683e-05    | 0.0008179696    | TNMD            |\n",
       "| ENSG00000000419 |  0.06848394     | 4.849708        |  0.04650132     | 8.330403e-01    | 0.8926487528    | DPM1            |\n",
       "| ENSG00000000457 |  0.88768039     | 4.612369        |  4.53550697     | 5.552918e-02    | 0.1371264087    | SCYL3           |\n",
       "| ENSG00000000460 |  1.27175890     | 2.944843        |  7.29990937     | 1.986698e-02    | 0.0688691672    | C1orf112        |\n",
       "| ENSG00000000938 | -3.09305336     | 3.656325        | 29.46189716     | 1.770354e-04    | 0.0037305636    | FGR             |\n",
       "\n"
      ],
      "text/plain": [
       "  GeneID          logFC       logCPM   F           PValue       FDR         \n",
       "1 ENSG00000000003 -0.19677472 5.878281  0.12159179 7.336084e-01 0.8220842704\n",
       "2 ENSG00000000005 -8.22242726 3.044306 53.86632165 1.136683e-05 0.0008179696\n",
       "3 ENSG00000000419  0.06848394 4.849708  0.04650132 8.330403e-01 0.8926487528\n",
       "4 ENSG00000000457  0.88768039 4.612369  4.53550697 5.552918e-02 0.1371264087\n",
       "5 ENSG00000000460  1.27175890 2.944843  7.29990937 1.986698e-02 0.0688691672\n",
       "6 ENSG00000000938 -3.09305336 3.656325 29.46189716 1.770354e-04 0.0037305636\n",
       "  hgnc_symbol\n",
       "1 TSPAN6     \n",
       "2 TNMD       \n",
       "3 DPM1       \n",
       "4 SCYL3      \n",
       "5 C1orf112   \n",
       "6 FGR        "
      ]
     },
     "metadata": {},
     "output_type": "display_data"
    },
    {
     "data": {
      "text/html": [
       "<ol class=list-inline>\n",
       "\t<li>20058</li>\n",
       "\t<li>7</li>\n",
       "</ol>\n"
      ],
      "text/latex": [
       "\\begin{enumerate*}\n",
       "\\item 20058\n",
       "\\item 7\n",
       "\\end{enumerate*}\n"
      ],
      "text/markdown": [
       "1. 20058\n",
       "2. 7\n",
       "\n",
       "\n"
      ],
      "text/plain": [
       "[1] 20058     7"
      ]
     },
     "metadata": {},
     "output_type": "display_data"
    }
   ],
   "source": [
    "# filter genes without an HGNC symbol\n",
    "res_filtered <- res[res$hgnc_symbol != '',]\n",
    "\n",
    "head(res_filtered)\n",
    "dim(res_filtered)"
   ]
  },
  {
   "cell_type": "code",
   "execution_count": 10,
   "metadata": {},
   "outputs": [
    {
     "data": {
      "image/png": "[encoded data removed]",
      "text/plain": [
       "Plot with title \"Histogram of res_filtered$logFC\""
      ]
     },
     "metadata": {},
     "output_type": "display_data"
    },
    {
     "data": {
      "image/png": "[encoded data removed]",
      "text/plain": [
       "Plot with title \"Histogram of res_filtered$PValue\""
      ]
     },
     "metadata": {},
     "output_type": "display_data"
    },
    {
     "data": {
      "image/png": "[encoded data removed]",
      "text/plain": [
       "Plot with title \"Histogram of res_filtered$FDR\""
      ]
     },
     "metadata": {},
     "output_type": "display_data"
    }
   ],
   "source": [
    "# check histograms of statistics\n",
    "hist(res_filtered$logFC)\n",
    "hist(res_filtered$PValue)\n",
    "hist(res_filtered$FDR)"
   ]
  },
  {
   "cell_type": "code",
   "execution_count": 11,
   "metadata": {},
   "outputs": [],
   "source": [
    "# save result\n",
    "write.table(res, file.path(getwd(), \"Data\", \"Stats\", \"breast-cancer_stats.txt\"), quote=F, sep=\"\\t\", col.names=T, row.names=F)"
   ]
  },
  {
   "cell_type": "code",
   "execution_count": 3,
   "metadata": {},
   "outputs": [
    {
     "data": {
      "text/plain": [
       "R version 3.5.1 (2018-07-02)\n",
       "Platform: x86_64-w64-mingw32/x64 (64-bit)\n",
       "Running under: Windows 10 x64 (build 17134)\n",
       "\n",
       "Matrix products: default\n",
       "\n",
       "locale:\n",
       "[1] LC_COLLATE=Dutch_Netherlands.1252  LC_CTYPE=Dutch_Netherlands.1252   \n",
       "[3] LC_MONETARY=Dutch_Netherlands.1252 LC_NUMERIC=C                      \n",
       "[5] LC_TIME=Dutch_Netherlands.1252    \n",
       "\n",
       "attached base packages:\n",
       "[1] stats     graphics  grDevices utils     datasets  methods   base     \n",
       "\n",
       "other attached packages:\n",
       "[1] dplyr_0.7.8          biomaRt_2.38.0       data.table_1.12.0   \n",
       "[4] edgeR_3.24.3         limma_3.38.3         readxl_1.2.0        \n",
       "[7] RevoUtils_11.0.1     RevoUtilsMath_11.0.0\n",
       "\n",
       "loaded via a namespace (and not attached):\n",
       " [1] Rcpp_1.0.0           pillar_1.3.1         bindr_0.1.1         \n",
       " [4] cellranger_1.1.0     compiler_3.5.1       prettyunits_1.0.2   \n",
       " [7] progress_1.2.0       bitops_1.0-6         base64enc_0.1-3     \n",
       "[10] tools_3.5.1          digest_0.6.18        uuid_0.1-2          \n",
       "[13] bit_1.1-14           tibble_2.0.1         jsonlite_1.6        \n",
       "[16] evaluate_0.12        RSQLite_2.1.1        memoise_1.1.0       \n",
       "[19] lattice_0.20-35      pkgconfig_2.0.2      rlang_0.3.1         \n",
       "[22] IRdisplay_0.7.0      DBI_1.0.0            IRkernel_0.8.15     \n",
       "[25] parallel_3.5.1       bindrcpp_0.2.2       httr_1.4.0          \n",
       "[28] stringr_1.3.1        repr_0.19.1          hms_0.4.2           \n",
       "[31] S4Vectors_0.20.1     IRanges_2.16.0       tidyselect_0.2.5    \n",
       "[34] locfit_1.5-9.1       stats4_3.5.1         bit64_0.9-7         \n",
       "[37] grid_3.5.1           glue_1.3.0           Biobase_2.42.0      \n",
       "[40] R6_2.3.0             AnnotationDbi_1.44.0 XML_3.98-1.19       \n",
       "[43] pbdZMQ_0.3-3         purrr_0.3.0          magrittr_1.5        \n",
       "[46] blob_1.1.1           htmltools_0.3.6      BiocGenerics_0.28.0 \n",
       "[49] assertthat_0.2.1     stringi_1.2.4        RCurl_1.95-4.12     \n",
       "[52] crayon_1.3.4        "
      ]
     },
     "metadata": {},
     "output_type": "display_data"
    }
   ],
   "source": [
    "# information about the session\n",
    "sessionInfo()"
   ]
  }
 ],
 "metadata": {
  "kernelspec": {
   "display_name": "R",
   "language": "R",
   "name": "ir"
  },
  "language_info": {
   "codemirror_mode": "r",
   "file_extension": ".r",
   "mimetype": "text/x-r-source",
   "name": "R",
   "pygments_lexer": "r",
   "version": "3.6.1"
  }
 },
 "nbformat": 4,
 "nbformat_minor": 2
}
