{
 "cells": [
  {
   "cell_type": "markdown",
   "metadata": {},
   "source": [
    "# Acquiring pathways based on genes associated with inflammation.\n",
    "To start off, we would like to obtain genes that are associated with inflammation. For this purpose we will acquire these genes from one databases.\n",
    "The database we will use is DisGeNET. This database can be found at [DisGeNET](http://www.disgenet.org/).\n",
    "\n",
    "The genesets have to be downloaded manually. For DisGeNET the following link has to be used: [DisGeNET inflammation genes](http://www.disgenet.org/browser/0/1/0/C0021368/),\n",
    "The search query used was \"Inflammation\".\n",
    "\n",
    "The databases has its own approach of scoring the association of these genes with inflammation. The scoring methodology is described in detail here: [DisGeNET](http://www.disgenet.org/dbinfo). We opted a score of at least 0.01 in this case. \n",
    "The criteria for pathway selection can be set down below.\n",
    "\n",
    "In this notebook we will select pathways from 3 databases, i.e. [KEGG](https://www.genome.jp/kegg/), [REACTOME](https://reactome.org/) and [WikiPathways](https://www.wikipathways.org/index.php/WikiPathways).\n",
    "\n",
    "#### Pathway selection criteria variables:\n",
    "\n",
    "n = number of genes a pathway has to contain at least\n",
    "\n",
    "k = number of genes associated with inflammation a pathway has to contain at least\n",
    "\n",
    "z = percentage of genes wihtin that pathway that have to be associated with inflammation"
   ]
  },
  {
   "cell_type": "code",
   "execution_count": 1,
   "metadata": {},
   "outputs": [
    {
     "data": {
      "text/html": [
       "'C:/Users/Laurent/Documents/GitHub/inflammation_networks2'"
      ],
      "text/latex": [
       "'C:/Users/Laurent/Documents/GitHub/inflammation\\_networks2'"
      ],
      "text/markdown": [
       "'C:/Users/Laurent/Documents/GitHub/inflammation_networks2'"
      ],
      "text/plain": [
       "[1] \"C:/Users/Laurent/Documents/GitHub/inflammation_networks2\""
      ]
     },
     "metadata": {},
     "output_type": "display_data"
    }
   ],
   "source": [
    "# check wd\n",
    "getwd()"
   ]
  },
  {
   "cell_type": "code",
   "execution_count": 2,
   "metadata": {},
   "outputs": [
    {
     "name": "stderr",
     "output_type": "stream",
     "text": [
      "Warning message:\n",
      "\"package 'qusage' was built under R version 3.5.2\"\n",
      "Attaching package: 'dplyr'\n",
      "\n",
      "The following objects are masked from 'package:plyr':\n",
      "\n",
      "    arrange, count, desc, failwith, id, mutate, rename, summarise,\n",
      "    summarize\n",
      "\n",
      "The following objects are masked from 'package:stats':\n",
      "\n",
      "    filter, lag\n",
      "\n",
      "The following objects are masked from 'package:base':\n",
      "\n",
      "    intersect, setdiff, setequal, union\n",
      "\n",
      "Warning message:\n",
      "\"package 'tidyr' was built under R version 3.5.2\""
     ]
    }
   ],
   "source": [
    "# load libraries\n",
    "library(limma)\n",
    "library(qusage)\n",
    "library(plyr)\n",
    "library(dplyr)\n",
    "library(tidyr)"
   ]
  },
  {
   "cell_type": "code",
   "execution_count": 3,
   "metadata": {},
   "outputs": [
    {
     "data": {
      "text/html": [
       "<table>\n",
       "<thead><tr><th scope=col>diseaseid</th><th scope=col>disease_name</th><th scope=col>geneid</th><th scope=col>symbol</th><th scope=col>uniprot</th><th scope=col>protein_class</th><th scope=col>gene_name</th><th scope=col>dsi</th><th scope=col>dpi</th><th scope=col>pli</th><th scope=col>score</th><th scope=col>el</th><th scope=col>ei</th><th scope=col>npmids</th><th scope=col>nsnps</th><th scope=col>year_initial</th><th scope=col>year_final</th></tr></thead>\n",
       "<tbody>\n",
       "\t<tr><td>C0021368                         </td><td>Inflammation                     </td><td>3576                             </td><td>CXCL8                            </td><td>P10145                           </td><td>signaling molecule               </td><td>C-X-C motif chemokine ligand 8   </td><td>0.342                            </td><td>0.862                            </td><td>       NA                        </td><td>0.40                             </td><td>no reported evidence             </td><td>NA                               </td><td>13                               </td><td>0                                </td><td>2003                             </td><td>2015                             </td></tr>\n",
       "\t<tr><td>C0021368                         </td><td>Inflammation                     </td><td>1401                             </td><td>CRP                              </td><td>P02741                           </td><td>                                 </td><td>C-reactive protein               </td><td>0.399                            </td><td>0.862                            </td><td>0.0037357                        </td><td>0.40                             </td><td>no reported evidence             </td><td>NA                               </td><td>18                               </td><td>0                                </td><td>2001                             </td><td>2011                             </td></tr>\n",
       "\t<tr><td>C0021368                         </td><td>Inflammation                     </td><td>7124                             </td><td>TNF                              </td><td>P01375                           </td><td>signaling molecule               </td><td>tumor necrosis factor            </td><td>0.263                            </td><td>0.966                            </td><td>0.8046000                        </td><td>0.40                             </td><td>no reported evidence             </td><td>NA                               </td><td>26                               </td><td>0                                </td><td>2001                             </td><td>2014                             </td></tr>\n",
       "\t<tr><td>C0021368                         </td><td>Inflammation                     </td><td>7040                             </td><td>TGFB1                            </td><td>P01137                           </td><td>signaling molecule               </td><td>transforming growth factor beta 1</td><td>0.336                            </td><td>0.931                            </td><td>0.1718200                        </td><td>0.38                             </td><td>no reported evidence             </td><td>NA                               </td><td>10                               </td><td>0                                </td><td>2002                             </td><td>2010                             </td></tr>\n",
       "\t<tr><td>C0021368                         </td><td>Inflammation                     </td><td>3569                             </td><td>IL6                              </td><td>P05231                           </td><td>                                 </td><td>interleukin 6                    </td><td>0.287                            </td><td>0.966                            </td><td>0.3387300                        </td><td>0.37                             </td><td>no reported evidence             </td><td>NA                               </td><td>18                               </td><td>0                                </td><td>2001                             </td><td>2016                             </td></tr>\n",
       "\t<tr><td>C0021368                         </td><td>Inflammation                     </td><td>3553                             </td><td>IL1B                             </td><td>P01584                           </td><td>                                 </td><td>interleukin 1 beta               </td><td>0.312                            </td><td>0.931                            </td><td>0.1256800                        </td><td>0.37                             </td><td>no reported evidence             </td><td>NA                               </td><td>16                               </td><td>0                                </td><td>1999                             </td><td>2017                             </td></tr>\n",
       "</tbody>\n",
       "</table>\n"
      ],
      "text/latex": [
       "\\begin{tabular}{r|lllllllllllllllll}\n",
       " diseaseid & disease\\_name & geneid & symbol & uniprot & protein\\_class & gene\\_name & dsi & dpi & pli & score & el & ei & npmids & nsnps & year\\_initial & year\\_final\\\\\n",
       "\\hline\n",
       "\t C0021368                          & Inflammation                      & 3576                              & CXCL8                             & P10145                            & signaling molecule                & C-X-C motif chemokine ligand 8    & 0.342                             & 0.862                             &        NA                         & 0.40                              & no reported evidence              & NA                                & 13                                & 0                                 & 2003                              & 2015                             \\\\\n",
       "\t C0021368                          & Inflammation                      & 1401                              & CRP                               & P02741                            &                                   & C-reactive protein                & 0.399                             & 0.862                             & 0.0037357                         & 0.40                              & no reported evidence              & NA                                & 18                                & 0                                 & 2001                              & 2011                             \\\\\n",
       "\t C0021368                          & Inflammation                      & 7124                              & TNF                               & P01375                            & signaling molecule                & tumor necrosis factor             & 0.263                             & 0.966                             & 0.8046000                         & 0.40                              & no reported evidence              & NA                                & 26                                & 0                                 & 2001                              & 2014                             \\\\\n",
       "\t C0021368                          & Inflammation                      & 7040                              & TGFB1                             & P01137                            & signaling molecule                & transforming growth factor beta 1 & 0.336                             & 0.931                             & 0.1718200                         & 0.38                              & no reported evidence              & NA                                & 10                                & 0                                 & 2002                              & 2010                             \\\\\n",
       "\t C0021368                          & Inflammation                      & 3569                              & IL6                               & P05231                            &                                   & interleukin 6                     & 0.287                             & 0.966                             & 0.3387300                         & 0.37                              & no reported evidence              & NA                                & 18                                & 0                                 & 2001                              & 2016                             \\\\\n",
       "\t C0021368                          & Inflammation                      & 3553                              & IL1B                              & P01584                            &                                   & interleukin 1 beta                & 0.312                             & 0.931                             & 0.1256800                         & 0.37                              & no reported evidence              & NA                                & 16                                & 0                                 & 1999                              & 2017                             \\\\\n",
       "\\end{tabular}\n"
      ],
      "text/markdown": [
       "\n",
       "| diseaseid | disease_name | geneid | symbol | uniprot | protein_class | gene_name | dsi | dpi | pli | score | el | ei | npmids | nsnps | year_initial | year_final |\n",
       "|---|---|---|---|---|---|---|---|---|---|---|---|---|---|---|---|---|\n",
       "| C0021368                          | Inflammation                      | 3576                              | CXCL8                             | P10145                            | signaling molecule                | C-X-C motif chemokine ligand 8    | 0.342                             | 0.862                             |        NA                         | 0.40                              | no reported evidence              | NA                                | 13                                | 0                                 | 2003                              | 2015                              |\n",
       "| C0021368                          | Inflammation                      | 1401                              | CRP                               | P02741                            |                                   | C-reactive protein                | 0.399                             | 0.862                             | 0.0037357                         | 0.40                              | no reported evidence              | NA                                | 18                                | 0                                 | 2001                              | 2011                              |\n",
       "| C0021368                          | Inflammation                      | 7124                              | TNF                               | P01375                            | signaling molecule                | tumor necrosis factor             | 0.263                             | 0.966                             | 0.8046000                         | 0.40                              | no reported evidence              | NA                                | 26                                | 0                                 | 2001                              | 2014                              |\n",
       "| C0021368                          | Inflammation                      | 7040                              | TGFB1                             | P01137                            | signaling molecule                | transforming growth factor beta 1 | 0.336                             | 0.931                             | 0.1718200                         | 0.38                              | no reported evidence              | NA                                | 10                                | 0                                 | 2002                              | 2010                              |\n",
       "| C0021368                          | Inflammation                      | 3569                              | IL6                               | P05231                            |                                   | interleukin 6                     | 0.287                             | 0.966                             | 0.3387300                         | 0.37                              | no reported evidence              | NA                                | 18                                | 0                                 | 2001                              | 2016                              |\n",
       "| C0021368                          | Inflammation                      | 3553                              | IL1B                              | P01584                            |                                   | interleukin 1 beta                | 0.312                             | 0.931                             | 0.1256800                         | 0.37                              | no reported evidence              | NA                                | 16                                | 0                                 | 1999                              | 2017                              |\n",
       "\n"
      ],
      "text/plain": [
       "  diseaseid disease_name geneid symbol uniprot protein_class     \n",
       "1 C0021368  Inflammation 3576   CXCL8  P10145  signaling molecule\n",
       "2 C0021368  Inflammation 1401   CRP    P02741                    \n",
       "3 C0021368  Inflammation 7124   TNF    P01375  signaling molecule\n",
       "4 C0021368  Inflammation 7040   TGFB1  P01137  signaling molecule\n",
       "5 C0021368  Inflammation 3569   IL6    P05231                    \n",
       "6 C0021368  Inflammation 3553   IL1B   P01584                    \n",
       "  gene_name                         dsi   dpi   pli       score\n",
       "1 C-X-C motif chemokine ligand 8    0.342 0.862        NA 0.40 \n",
       "2 C-reactive protein                0.399 0.862 0.0037357 0.40 \n",
       "3 tumor necrosis factor             0.263 0.966 0.8046000 0.40 \n",
       "4 transforming growth factor beta 1 0.336 0.931 0.1718200 0.38 \n",
       "5 interleukin 6                     0.287 0.966 0.3387300 0.37 \n",
       "6 interleukin 1 beta                0.312 0.931 0.1256800 0.37 \n",
       "  el                   ei npmids nsnps year_initial year_final\n",
       "1 no reported evidence NA 13     0     2003         2015      \n",
       "2 no reported evidence NA 18     0     2001         2011      \n",
       "3 no reported evidence NA 26     0     2001         2014      \n",
       "4 no reported evidence NA 10     0     2002         2010      \n",
       "5 no reported evidence NA 18     0     2001         2016      \n",
       "6 no reported evidence NA 16     0     1999         2017      "
      ]
     },
     "metadata": {},
     "output_type": "display_data"
    },
    {
     "data": {
      "text/html": [
       "<table>\n",
       "<thead><tr><th scope=col>entrezgene</th><th scope=col>hgnc_symbol</th><th scope=col>dis_score</th></tr></thead>\n",
       "<tbody>\n",
       "\t<tr><td>3576 </td><td>CXCL8</td><td>0.40 </td></tr>\n",
       "\t<tr><td>1401 </td><td>CRP  </td><td>0.40 </td></tr>\n",
       "\t<tr><td>7124 </td><td>TNF  </td><td>0.40 </td></tr>\n",
       "\t<tr><td>7040 </td><td>TGFB1</td><td>0.38 </td></tr>\n",
       "\t<tr><td>3569 </td><td>IL6  </td><td>0.37 </td></tr>\n",
       "\t<tr><td>3553 </td><td>IL1B </td><td>0.37 </td></tr>\n",
       "</tbody>\n",
       "</table>\n"
      ],
      "text/latex": [
       "\\begin{tabular}{r|lll}\n",
       " entrezgene & hgnc\\_symbol & dis\\_score\\\\\n",
       "\\hline\n",
       "\t 3576  & CXCL8 & 0.40 \\\\\n",
       "\t 1401  & CRP   & 0.40 \\\\\n",
       "\t 7124  & TNF   & 0.40 \\\\\n",
       "\t 7040  & TGFB1 & 0.38 \\\\\n",
       "\t 3569  & IL6   & 0.37 \\\\\n",
       "\t 3553  & IL1B  & 0.37 \\\\\n",
       "\\end{tabular}\n"
      ],
      "text/markdown": [
       "\n",
       "| entrezgene | hgnc_symbol | dis_score |\n",
       "|---|---|---|\n",
       "| 3576  | CXCL8 | 0.40  |\n",
       "| 1401  | CRP   | 0.40  |\n",
       "| 7124  | TNF   | 0.40  |\n",
       "| 7040  | TGFB1 | 0.38  |\n",
       "| 3569  | IL6   | 0.37  |\n",
       "| 3553  | IL1B  | 0.37  |\n",
       "\n"
      ],
      "text/plain": [
       "  entrezgene hgnc_symbol dis_score\n",
       "1 3576       CXCL8       0.40     \n",
       "2 1401       CRP         0.40     \n",
       "3 7124       TNF         0.40     \n",
       "4 7040       TGFB1       0.38     \n",
       "5 3569       IL6         0.37     \n",
       "6 3553       IL1B        0.37     "
      ]
     },
     "metadata": {},
     "output_type": "display_data"
    },
    {
     "data": {
      "text/html": [
       "'The number of genes is 428.'"
      ],
      "text/latex": [
       "'The number of genes is 428.'"
      ],
      "text/markdown": [
       "'The number of genes is 428.'"
      ],
      "text/plain": [
       "[1] \"The number of genes is 428.\""
      ]
     },
     "metadata": {},
     "output_type": "display_data"
    },
    {
     "data": {
      "image/png": "[encoded data removed]",
      "text/plain": [
       "Plot with title \"Distribution of DisGeNET score without cutoff\""
      ]
     },
     "metadata": {},
     "output_type": "display_data"
    }
   ],
   "source": [
    "# load in disgenet file\n",
    "disgenet <- read.delim(file.path(getwd(), \"data-input\", \"C0021368_disease_gda_summary.tsv\"))\n",
    "\n",
    "# check head of disgenet file\n",
    "head(disgenet)\n",
    "disgenet <- disgenet[,c(\"geneid\", \"symbol\", \"score\")]\n",
    "colnames(disgenet)[c(1,2,3)] <- c(\"entrezgene\", \"hgnc_symbol\", \"dis_score\")\n",
    "hist(disgenet$dis_score, xlab = \"Score\", main = \"Distribution of DisGeNET score without cutoff\")\n",
    "\n",
    "# filtered\n",
    "infl <- disgenet[disgenet$dis_score > 0.01,]\n",
    "head(infl)\n",
    "paste0(\"The number of genes is \", nrow(disgenet), \".\")"
   ]
  },
  {
   "cell_type": "markdown",
   "metadata": {},
   "source": [
    "### Pathway databases and pathway selection\n",
    "We have loaded in our DisGeNET geneset, and filtered the genes based on a score cutoff of > 0.01. Now, we will load in the .gmt files from the KEGG, Reactome and WikiPathways databases. Next we will set the pathway selection criteria and select pathways from these three databases based on our DisGeNET genes associated with inflammation. "
   ]
  },
  {
   "cell_type": "code",
   "execution_count": 4,
   "metadata": {},
   "outputs": [
    {
     "name": "stderr",
     "output_type": "stream",
     "text": [
      "Warning message in readLines(file):\n",
      "\"incomplete final line found on 'C:/Users/Laurent/Documents/GitHub/inflammation_networks2/data-input/wikipathways-20190410-gmt-Homo_sapiens.gmt'\""
     ]
    }
   ],
   "source": [
    "# KEGG\n",
    "kegg <- read.gmt(file.path(getwd(), \"data-input\", \"c2.cp.kegg.v6.2.entrez.gmt\"))\n",
    "kegg <- ldply(kegg, data.frame)\n",
    "colnames(kegg)[c(1,2)] <- c(\"pathway\", \"entrezgene\")\n",
    "\n",
    "### REACTOME\n",
    "reactome <- read.gmt(file.path(getwd(), \"data-input\", \"c2.cp.reactome.v6.2.entrez.gmt\"))\n",
    "reactome <- ldply(reactome, data.frame)\n",
    "colnames(reactome)[c(1,2)] <- c(\"pathway\", \"entrezgene\")\n",
    "\n",
    "### WikiPathways\n",
    "wp <- read.gmt(file.path(getwd(), \"data-input\", \"wikipathways-20190410-gmt-Homo_sapiens.gmt\"))\n",
    "wp <- ldply(wp, data.frame)\n",
    "colnames(wp)[c(1,2)] <- c(\"pathway\", \"entrezgene\")"
   ]
  },
  {
   "cell_type": "code",
   "execution_count": 5,
   "metadata": {},
   "outputs": [
    {
     "data": {
      "text/html": [
       "<table>\n",
       "<thead><tr><th scope=col>pathway</th><th scope=col>entrezgene</th></tr></thead>\n",
       "<tbody>\n",
       "\t<tr><td>KEGG_GLYCOLYSIS_GLUCONEOGENESIS</td><td>55902                          </td></tr>\n",
       "\t<tr><td>KEGG_GLYCOLYSIS_GLUCONEOGENESIS</td><td>2645                           </td></tr>\n",
       "\t<tr><td>KEGG_GLYCOLYSIS_GLUCONEOGENESIS</td><td>5232                           </td></tr>\n",
       "\t<tr><td>KEGG_GLYCOLYSIS_GLUCONEOGENESIS</td><td>5230                           </td></tr>\n",
       "\t<tr><td>KEGG_GLYCOLYSIS_GLUCONEOGENESIS</td><td>5162                           </td></tr>\n",
       "\t<tr><td>KEGG_GLYCOLYSIS_GLUCONEOGENESIS</td><td>5160                           </td></tr>\n",
       "</tbody>\n",
       "</table>\n"
      ],
      "text/latex": [
       "\\begin{tabular}{r|ll}\n",
       " pathway & entrezgene\\\\\n",
       "\\hline\n",
       "\t KEGG\\_GLYCOLYSIS\\_GLUCONEOGENESIS & 55902                              \\\\\n",
       "\t KEGG\\_GLYCOLYSIS\\_GLUCONEOGENESIS & 2645                               \\\\\n",
       "\t KEGG\\_GLYCOLYSIS\\_GLUCONEOGENESIS & 5232                               \\\\\n",
       "\t KEGG\\_GLYCOLYSIS\\_GLUCONEOGENESIS & 5230                               \\\\\n",
       "\t KEGG\\_GLYCOLYSIS\\_GLUCONEOGENESIS & 5162                               \\\\\n",
       "\t KEGG\\_GLYCOLYSIS\\_GLUCONEOGENESIS & 5160                               \\\\\n",
       "\\end{tabular}\n"
      ],
      "text/markdown": [
       "\n",
       "| pathway | entrezgene |\n",
       "|---|---|\n",
       "| KEGG_GLYCOLYSIS_GLUCONEOGENESIS | 55902                           |\n",
       "| KEGG_GLYCOLYSIS_GLUCONEOGENESIS | 2645                            |\n",
       "| KEGG_GLYCOLYSIS_GLUCONEOGENESIS | 5232                            |\n",
       "| KEGG_GLYCOLYSIS_GLUCONEOGENESIS | 5230                            |\n",
       "| KEGG_GLYCOLYSIS_GLUCONEOGENESIS | 5162                            |\n",
       "| KEGG_GLYCOLYSIS_GLUCONEOGENESIS | 5160                            |\n",
       "\n"
      ],
      "text/plain": [
       "  pathway                         entrezgene\n",
       "1 KEGG_GLYCOLYSIS_GLUCONEOGENESIS 55902     \n",
       "2 KEGG_GLYCOLYSIS_GLUCONEOGENESIS 2645      \n",
       "3 KEGG_GLYCOLYSIS_GLUCONEOGENESIS 5232      \n",
       "4 KEGG_GLYCOLYSIS_GLUCONEOGENESIS 5230      \n",
       "5 KEGG_GLYCOLYSIS_GLUCONEOGENESIS 5162      \n",
       "6 KEGG_GLYCOLYSIS_GLUCONEOGENESIS 5160      "
      ]
     },
     "metadata": {},
     "output_type": "display_data"
    }
   ],
   "source": [
    "# combine databases\n",
    "allDatabases <- rbind(kegg, reactome, wp)\n",
    "head(allDatabases)"
   ]
  },
  {
   "cell_type": "markdown",
   "metadata": {},
   "source": [
    "### Select the criteria. n is the number of genes a pathway at least has to contain, k is the number of inflammation associated genes a pathway at least has to contain, z is the percentage of genes within a pathway that have to be associated with inflammation."
   ]
  },
  {
   "cell_type": "code",
   "execution_count": 6,
   "metadata": {},
   "outputs": [],
   "source": [
    "# set criteria\n",
    "n = 10\n",
    "k = 3\n",
    "z = 25"
   ]
  },
  {
   "cell_type": "code",
   "execution_count": 7,
   "metadata": {},
   "outputs": [],
   "source": [
    "# filter first that pathway has at least 10 genes, so the row with the pathwayname has to occur at least 10 times in the data frame\n",
    "allDatabases <- allDatabases[allDatabases$pathway %in% names(table(allDatabases$pathway))[table(allDatabases$pathway) >= n],]\n",
    "# freq of every pathway in database\n",
    "freqallDatabases <- plyr::count(allDatabases$pathway)\n",
    "# pathway names of the rows (entrezgene IDs) that occur in the gene list associated with inflammation\n",
    "allDatabasespathways <- as.data.frame(allDatabases$pathway[allDatabases$entrezgene %in% infl$entrezgene])\n",
    "# if these pathwaynames occur at least 5 times we can create list of pathways with at least 5 inflammation genes \n",
    "# (and which were already filtered on at least 10 gesn in total)\n",
    "colnames(allDatabasespathways)[1] <- \"pathway\"\n",
    "allDatabasespathways <- as.data.frame(allDatabasespathways[allDatabasespathways$pathway %in% names(table(allDatabasespathways$pathway))[table(allDatabasespathways$pathway) >= k],])\n",
    "colnames(allDatabasespathways)[1] <- \"pathway\"\n",
    "# freq of every pathway in allDatabasespathways\n",
    "freqallDatabasespathways <- plyr::count(allDatabasespathways$pathway)\n",
    "# freqallDatabases has total amount of genes in the pathway and freqallDatabasespathways has total amount of infalmmation genes in pathway\n",
    "# combine the two data frames, so we have the total amount of genes per pathway which has at least 5 inflammation genes in them\n",
    "# and so we also have the amount of inflammation genes per pathway, so we can calculate the percentage, which has to be at least 30%\n",
    "allDatabasespathways <- as.data.frame(merge(freqallDatabasespathways, freqallDatabases, by = \"x\"))\n",
    "colnames(allDatabasespathways)[c(1,2,3)] <- c(\"pathway\", \"freqInflGene\", \"freqGene\")\n",
    "# calculate percentage and add column\n",
    "# select rows which have percentage of at least 30%\n",
    "allDatabasespathways$percentage <- ((allDatabasespathways$freqInflGene/allDatabasespathways$freqGene) * 100)\n",
    "allDatabasespathways <- allDatabasespathways[allDatabasespathways$percentage >= z, ]\n",
    "allDatabasespathways$percentage <- round(allDatabasespathways$percentage, 2)"
   ]
  },
  {
   "cell_type": "code",
   "execution_count": 8,
   "metadata": {},
   "outputs": [],
   "source": [
    "# combine the retrieved pathways so we have a list of the pathways that met the criteria\n",
    "pathwayStats <- as.data.frame(allDatabasespathways)\n",
    "\n",
    "# save pathwaysStats\n",
    "write.table(pathwayStats, file.path(getwd(), \"data-output\", \"pathwayStats.txt\"), col.names = T, row.names = F, sep = \"\\t\", quote = F)\n",
    "\n",
    "# get list of only selected pathways without stats\n",
    "selectedpws <- pathwayStats[c(-2,-3,-4)]  \n",
    "\n",
    "# save selectedpws\n",
    "write.table(selectedpws, file.path(getwd(), \"data-output\", \"selected_pws.txt\"), col.names = T, row.names = F, sep = \"\\t\", quote = F)"
   ]
  },
  {
   "cell_type": "code",
   "execution_count": 9,
   "metadata": {},
   "outputs": [],
   "source": [
    "# in how many pathways are the inflammation genes\n",
    "nGenesTotal <- as.data.frame(allDatabases$entrezgene[allDatabases$entrezgene %in% infl$entrezgene])\n",
    "colnames(nGenesTotal)[1] <- \"entrezgene\"\n",
    "\n",
    "# in how many slected pathways are the inflammation genes\n",
    "selectedallDatabases <- as.data.frame(allDatabases[allDatabases$pathway %in% allDatabasespathways$pathway,])\n",
    "nInflGenesTotal <- as.data.frame(selectedallDatabases$entrezgene[selectedallDatabases$entrezgene %in% infl$entrezgene])\n",
    "colnames(nInflGenesTotal)[1] <- \"entrezgene\"\n",
    "\n",
    "# combine all frequencies together\n",
    "# first the inflammation genes in all pathways\n",
    "nGenesTotalF <- plyr::count(nGenesTotal)\n",
    "colnames(nGenesTotalF)[2] <- \"number of pathways\"\n",
    "# next the inflammation genes in selected pathways\n",
    "nInflGenesTotalF <- plyr::count(nInflGenesTotal)\n",
    "colnames(nInflGenesTotalF)[2] <- \"number of selected pathways\"\n",
    "\n",
    "# save tables\n",
    "write.table(nGenesTotalF, file.path(getwd(), \"data-output\", \"nGenes.txt\"), col.names = T, row.names = F, sep = \"\\t\", quote = F)\n",
    "write.table(nInflGenesTotalF, file.path(getwd(), \"data-output\", \"nInflGenes.txt\"), col.names = T, row.names = F, sep = \"\\t\", quote = F)"
   ]
  },
  {
   "cell_type": "code",
   "execution_count": 10,
   "metadata": {},
   "outputs": [
    {
     "data": {
      "text/plain": [
       "R version 3.5.1 (2018-07-02)\n",
       "Platform: x86_64-w64-mingw32/x64 (64-bit)\n",
       "Running under: Windows 10 x64 (build 17134)\n",
       "\n",
       "Matrix products: default\n",
       "\n",
       "locale:\n",
       "[1] LC_COLLATE=Dutch_Netherlands.1252  LC_CTYPE=Dutch_Netherlands.1252   \n",
       "[3] LC_MONETARY=Dutch_Netherlands.1252 LC_NUMERIC=C                      \n",
       "[5] LC_TIME=Dutch_Netherlands.1252    \n",
       "\n",
       "attached base packages:\n",
       "[1] stats     graphics  grDevices utils     datasets  methods   base     \n",
       "\n",
       "other attached packages:\n",
       "[1] tidyr_0.8.2          dplyr_0.7.8          plyr_1.8.4          \n",
       "[4] qusage_2.16.1        limma_3.38.3         RevoUtils_11.0.1    \n",
       "[7] RevoUtilsMath_11.0.0\n",
       "\n",
       "loaded via a namespace (and not attached):\n",
       " [1] Rcpp_1.0.0          compiler_3.5.1      pillar_1.3.1       \n",
       " [4] bindr_0.1.1         base64enc_0.1-3     tools_3.5.1        \n",
       " [7] digest_0.6.18       uuid_0.1-2          jsonlite_1.6       \n",
       "[10] evaluate_0.12       tibble_2.0.1        nlme_3.1-137       \n",
       "[13] lattice_0.20-35     pkgconfig_2.0.2     rlang_0.3.1        \n",
       "[16] Matrix_1.2-14       IRdisplay_0.7.0     IRkernel_0.8.15    \n",
       "[19] parallel_3.5.1      mvtnorm_1.0-8       bindrcpp_0.2.2     \n",
       "[22] repr_0.19.1         lsmeans_2.30-0      grid_3.5.1         \n",
       "[25] tidyselect_0.2.5    glue_1.3.0          Biobase_2.42.0     \n",
       "[28] R6_2.3.0            pbdZMQ_0.3-3        purrr_0.3.0        \n",
       "[31] magrittr_1.5        emmeans_1.3.2       htmltools_0.3.6    \n",
       "[34] BiocGenerics_0.28.0 assertthat_0.2.1    xtable_1.8-3       \n",
       "[37] estimability_1.3    crayon_1.3.4       "
      ]
     },
     "metadata": {},
     "output_type": "display_data"
    }
   ],
   "source": [
    "# information about the session.\n",
    "sessionInfo()"
   ]
  }
 ],
 "metadata": {
  "kernelspec": {
   "display_name": "R",
   "language": "R",
   "name": "ir"
  },
  "language_info": {
   "codemirror_mode": "r",
   "file_extension": ".r",
   "mimetype": "text/x-r-source",
   "name": "R",
   "pygments_lexer": "r",
   "version": "3.5.1"
  }
 },
 "nbformat": 4,
 "nbformat_minor": 2
}
