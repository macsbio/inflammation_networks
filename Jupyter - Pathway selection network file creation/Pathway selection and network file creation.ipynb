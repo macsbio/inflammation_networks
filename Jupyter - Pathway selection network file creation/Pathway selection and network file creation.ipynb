{
 "cells": [
  {
   "cell_type": "markdown",
   "metadata": {},
   "source": [
    "# Pathway selection and network-file creation\n",
    "In this notebook we will select pathways from 3 databases, i.e. [KEGG](https://www.genome.jp/kegg/), [REACTOME](https://reactome.org/) and [WikiPathways](https://www.wikipathways.org/index.php/WikiPathways).\n",
    "We base this selection on genes associated with inflammation, of which the retrieving process is described in a different [notebook](https://github.com/macsbio/inflammation_networks/tree/master/Jupyter%20-%20Inflammation%20genes)."
   ]
  },
  {
   "cell_type": "markdown",
   "metadata": {},
   "source": [
    "#### The following step only works in RStudio. If working in another environment, please set the working directory properly and check if the working directory is correct. "
   ]
  },
  {
   "cell_type": "code",
   "execution_count": 1,
   "metadata": {},
   "outputs": [
    {
     "ename": "ERROR",
     "evalue": "Error: RStudio not running\n",
     "output_type": "error",
     "traceback": [
      "Error: RStudio not running\nTraceback:\n",
      "1. setwd(dirname(rstudioapi::callFun(\"getActiveDocumentContext\")$path))",
      "2. dirname(rstudioapi::callFun(\"getActiveDocumentContext\")$path)",
      "3. rstudioapi::callFun(\"getActiveDocumentContext\")",
      "4. verifyAvailable()",
      "5. stop(\"RStudio not running\", call. = FALSE)"
     ]
    }
   ],
   "source": [
    "# set wd to where script file is saved\n",
    "setwd(dirname(rstudioapi::callFun(\"getActiveDocumentContext\")$path))"
   ]
  },
  {
   "cell_type": "code",
   "execution_count": 2,
   "metadata": {},
   "outputs": [
    {
     "data": {
      "text/html": [
       "'C:/Users/Laurent/Untitled Folder'"
      ],
      "text/latex": [
       "'C:/Users/Laurent/Untitled Folder'"
      ],
      "text/markdown": [
       "'C:/Users/Laurent/Untitled Folder'"
      ],
      "text/plain": [
       "[1] \"C:/Users/Laurent/Untitled Folder\""
      ]
     },
     "metadata": {},
     "output_type": "display_data"
    }
   ],
   "source": [
    "# check wd\n",
    "getwd()"
   ]
  },
  {
   "cell_type": "code",
   "execution_count": 4,
   "metadata": {},
   "outputs": [],
   "source": [
    "# load library\n",
    "library(limma)\n",
    "library(qusage)\n",
    "library(plyr)\n",
    "library(dplyr)\n",
    "library(tidyr)"
   ]
  },
  {
   "cell_type": "markdown",
   "metadata": {},
   "source": [
    "First we will load in the .gmt files of the 3 databases, next we will change the structure so we can work more easily with it based on our needs. Next we will load in the genes associated with inflammation."
   ]
  },
  {
   "cell_type": "code",
   "execution_count": null,
   "metadata": {},
   "outputs": [],
   "source": [
    "# load data files and clean data files\n",
    "### KEGG\n",
    "kegg <- read.gmt(file.path(getwd(), \"databases\", \"c2.cp.kegg.v6.2.entrez.gmt\"))\n",
    "kegg <- ldply(kegg, data.frame)\n",
    "colnames(kegg)[c(1,2)] <- c(\"pathway\", \"entrezgene\")"
   ]
  },
  {
   "cell_type": "code",
   "execution_count": null,
   "metadata": {},
   "outputs": [],
   "source": [
    "### REACTOME\n",
    "reactome <- read.gmt(file.path(getwd(), \"databases\", \"c2.cp.reactome.v6.2.entrez.gmt\"))\n",
    "reactome <- ldply(reactome, data.frame)\n",
    "colnames(reactome)[c(1,2)] <- c(\"pathway\", \"entrezgene\")"
   ]
  },
  {
   "cell_type": "code",
   "execution_count": null,
   "metadata": {},
   "outputs": [],
   "source": [
    "### WikiPathways\n",
    "wp <- read.gmt(file.path(getwd(), \"databases\", \"wikipathways-combined_final.gmt\"))\n",
    "wp <- ldply(wp, data.frame)\n",
    "colnames(wp)[c(1,2)] <- c(\"pathway\", \"entrezgene\")"
   ]
  },
  {
   "cell_type": "code",
   "execution_count": null,
   "metadata": {},
   "outputs": [],
   "source": [
    "# load in gene list associated with inflammation\n",
    "infl <- as.data.frame(read.table(file.path(getwd(), \"genes\", \"merged_infl_genes_list.txt\"), header = T, sep = \"\\t\", stringsAsFactors = FALSE))\n",
    "infl <- as.data.frame(infl[,c(-1,-3,-4)])\n",
    "colnames(infl)[1] <- \"entrezgene\""
   ]
  },
  {
   "cell_type": "markdown",
   "metadata": {},
   "source": [
    "Now the 3 databases and the genes associated with inflammation are loaded in, we can start with filtering the pathways based on our criteria and the genes associated with inflammation. \n",
    "\n",
    "The criteria are; the pathways has to contain at least 10 genes, has to contain at least 5 genes associated with inflammation and at least 30% of the genes in the pathway have to be associated with inflammation."
   ]
  },
  {
   "cell_type": "code",
   "execution_count": null,
   "metadata": {},
   "outputs": [],
   "source": [
    "### KEGG\n",
    "# filter first that pathway has at least 10 genes, so the row with the pathwayname has to occur at least 10 times in the data frame\n",
    "kegg <- kegg[kegg$pathway %in% names(table(kegg$pathway))[table(kegg$pathway) >= 10],]\n",
    "# freq of every pathway in database\n",
    "freqkegg <- plyr::count(kegg$pathway)\n",
    "# pathway names of the rows (entrezgene IDs) that occur in the gene list associated with inflammation\n",
    "keggpathways <- as.data.frame(kegg$pathway[kegg$entrezgene %in% infl$entrezgene])\n",
    "# if these pathwaynames occur at least 5 times we can create list of pathways with at least 5 inflammation genes \n",
    "# (and which were already filtered on at least 10 gesn in total)\n",
    "colnames(keggpathways)[1] <- \"pathway\"\n",
    "keggpathways <- as.data.frame(keggpathways[keggpathways$pathway %in% names(table(keggpathways$pathway))[table(keggpathways$pathway) >= 5],])\n",
    "colnames(keggpathways)[1] <- \"pathway\"\n",
    "# freq of every pathway in keggpathways\n",
    "freqkeggpathways <- plyr::count(keggpathways$pathway)\n",
    "# freqkegg has total amount of genes in the pathway and freqkeggpathways has total amount of infalmmation genes in pathway\n",
    "# combine the two data frames, so we have the total amount of genes per pathway which has at least 5 inflammation genes in them\n",
    "# and so we also have the amount of inflammation genes per pathway, so we can calculate the percentage, which has to be at least 30%\n",
    "keggpathways <- as.data.frame(merge(freqkeggpathways, freqkegg, by = \"x\"))\n",
    "colnames(keggpathways)[c(1,2,3)] <- c(\"pathway\", \"freqInflGene\", \"freqGene\")\n",
    "# calculate percentage and add column\n",
    "# select rows which have percentage of at least 30%\n",
    "keggpathways$percentage <- ((keggpathways$freqInflGene/keggpathways$freqGene) * 100)\n",
    "keggpathways <- keggpathways[keggpathways$percentage >= 30, ]\n",
    "keggpathways$percentage <- round(keggpathways$percentage, 2)"
   ]
  },
  {
   "cell_type": "code",
   "execution_count": null,
   "metadata": {},
   "outputs": [],
   "source": [
    "### REACTOME\n",
    "# filter first that pathway has at least 10 genes, so the row with the pathwayname has to occur at least 10 times in the data frame\n",
    "reactome <- reactome[reactome$pathway %in% names(table(reactome$pathway))[table(reactome$pathway) >= 10],]\n",
    "# freq of every pathway in database\n",
    "freqreactome <- plyr::count(reactome$pathway)\n",
    "# pathway names of the rows (entrezgene IDs) that occur in the gene list associated with inflammation\n",
    "reactomepathways <- as.data.frame(reactome$pathway[reactome$entrezgene %in% infl$entrezgene])\n",
    "# if these pathwaynames occur at least 5 times we can create list of pathways with at least 5 inflammation genes \n",
    "# (and which were already filtered on at least 10 gesn in total)\n",
    "colnames(reactomepathways)[1] <- \"pathway\"\n",
    "reactomepathways <- as.data.frame(reactomepathways[reactomepathways$pathway %in% names(table(reactomepathways$pathway))[table(reactomepathways$pathway) >= 5],])\n",
    "colnames(reactomepathways)[1] <- \"pathway\"\n",
    "# freq of every pathway in reactomepathways\n",
    "freqreactomepathways <- plyr::count(reactomepathways$pathway)\n",
    "# freqreactome has total amount of genes in the pathway and freqreactomepathways has total amount of infalmmation genes in pathway\n",
    "# combine the two data frames, so we have the total amount of genes per pathway which has at least 5 inflammation genes in them\n",
    "# and so we also have the amount of inflammation genes per pathway, so we can calculate the percentage, which has to be at least 30%\n",
    "reactomepathways <- as.data.frame(merge(freqreactomepathways, freqreactome, by = \"x\"))\n",
    "colnames(reactomepathways)[c(1,2,3)] <- c(\"pathway\", \"freqInflGene\", \"freqGene\")\n",
    "# calculate percentage and add column\n",
    "# select rows which have percentage of at least 30%\n",
    "reactomepathways$percentage <- ((reactomepathways$freqInflGene/reactomepathways$freqGene) * 100)\n",
    "reactomepathways <- reactomepathways[reactomepathways$percentage >= 30, ]\n",
    "reactomepathways$percentage <- round(reactomepathways$percentage, 2)"
   ]
  },
  {
   "cell_type": "code",
   "execution_count": null,
   "metadata": {},
   "outputs": [],
   "source": [
    "### WP\n",
    "# filter first that pathway has at least 10 genes, so the row with the pathwayname has to occur at least 10 times in the data frame\n",
    "wp <- wp[wp$pathway %in% names(table(wp$pathway))[table(wp$pathway) >= 10],]\n",
    "# freq of every pathway in database\n",
    "freqwp <- plyr::count(wp$pathway)\n",
    "# pathway names of the rows (entrezgene IDs) that occur in the gene list associated with inflammation\n",
    "wppathways <- as.data.frame(wp$pathway[wp$entrezgene %in% infl$entrezgene])\n",
    "# if these pathwaynames occur at least 5 times we can create list of pathways with at least 5 inflammation genes \n",
    "# (and which were already filtered on at least 10 gesn in total)\n",
    "colnames(wppathways)[1] <- \"pathway\"\n",
    "wppathways <- as.data.frame(wppathways[wppathways$pathway %in% names(table(wppathways$pathway))[table(wppathways$pathway) >= 5],])\n",
    "colnames(wppathways)[1] <- \"pathway\"\n",
    "# freq of every pathway in wppathways\n",
    "freqwppathways <- plyr::count(wppathways$pathway)\n",
    "# freqwp has total amount of genes in the pathway and freqwppathways has total amount of infalmmation genes in pathway\n",
    "# combine the two data frames, so we have the total amount of genes per pathway which has at least 5 inflammation genes in them\n",
    "# and so we also have the amount of inflammation genes per pathway, so we can calculate the percentage, which has to be at least 30%\n",
    "wppathways <- as.data.frame(merge(freqwppathways, freqwp, by = \"x\"))\n",
    "colnames(wppathways)[c(1,2,3)] <- c(\"pathway\", \"freqInflGene\", \"freqGene\")\n",
    "# calculate percentage and add column\n",
    "# select rows which have percentage of at least 30%\n",
    "wppathways$percentage <- ((wppathways$freqInflGene/wppathways$freqGene) * 100)\n",
    "wppathways <- wppathways[wppathways$percentage >= 30, ]\n",
    "wppathways$percentage <- round(wppathways$percentage, 2)"
   ]
  },
  {
   "cell_type": "markdown",
   "metadata": {},
   "source": [
    "Now we have for each database the selected pathways based on our criteria. Lets save those with the stats of how many genes the pathway has, how many genes associated with inflammation and the percentage of genes associated with inflammation within the pathway. \n",
    "\n",
    "Next, 3 pathways were manually added, while they did not meet the criteria, as they were seen as highly important for the inflammation network."
   ]
  },
  {
   "cell_type": "code",
   "execution_count": null,
   "metadata": {},
   "outputs": [],
   "source": [
    "# combine the retrieved pathways so we have a list of the pathways that met the criteria\n",
    "pathwayStats <- as.data.frame(rbind(keggpathways, reactomepathways, wppathways))\n",
    "\n",
    "# save pathwaysStats\n",
    "write.table(pathwayStats, file.path(getwd(), \"results\", \"pathwayStats.txt\"), col.names = T, row.names = F, sep = \"\\t\", quote = F)\n",
    "\n",
    "# get list of only selected pathways without stats\n",
    "selectedpws <- pathwayStats[c(-2,-3,-4)]  "
   ]
  },
  {
   "cell_type": "code",
   "execution_count": null,
   "metadata": {},
   "outputs": [],
   "source": [
    "# Three pathways were manually added although they did not meet the criteria, lets add them to the selectedpws\n",
    "added <- data.frame(c(\"IL17 signaling pathway%WikiPathways_20181110%WP2112%Homo sapiens\", \n",
    "                      \"IL-6 signaling pathway%WikiPathways_20181110%WP364%Homo sapiens\",\n",
    "                      \"Relationship between inflammation, COX-2 and EGFR%WP4483%Homo sapiens\"))\n",
    "colnames(added)[1] <- \"pathway\"\n",
    "selectedpws <- rbind(selectedpws, added)\n",
    "\n",
    "# save selectedpws\n",
    "write.table(selectedpws, file.path(getwd(), \"results\", \"selected_pws.txt\"), col.names = T, row.names = F, sep = \"\\t\", quote = F)"
   ]
  },
  {
   "cell_type": "markdown",
   "metadata": {},
   "source": [
    "Now we have a list of selected pathways, it is interesting to see in how many pathways the inflammation genes are.\n",
    "First we will check in how many total pathways the genes are, then check in how many selected pathways these genes are."
   ]
  },
  {
   "cell_type": "code",
   "execution_count": null,
   "metadata": {},
   "outputs": [],
   "source": [
    "### KEGG\n",
    "# in how many pathways are the inflammation genes\n",
    "nGenesTotal <- as.data.frame(kegg$entrezgene[kegg$entrezgene %in% infl$entrezgene])\n",
    "colnames(nGenesTotal)[1] <- \"entrezgene\"\n",
    "\n",
    "# in how many slected pathways are the inflammation genes\n",
    "selectedKegg <- as.data.frame(kegg[kegg$pathway %in% keggpathways$pathway,])\n",
    "nInflGenesTotal <- as.data.frame(selectedKegg$entrezgene[selectedKegg$entrezgene %in% infl$entrezgene])\n",
    "colnames(nInflGenesTotal)[1] <- \"entrezgene\""
   ]
  },
  {
   "cell_type": "code",
   "execution_count": null,
   "metadata": {},
   "outputs": [],
   "source": [
    "### REACTOME\n",
    "# in how many pathways are the inflammation genes\n",
    "nGenesTotal1 <- as.data.frame(reactome$entrezgene[reactome$entrezgene %in% infl$entrezgene])\n",
    "colnames(nGenesTotal1)[1] <- \"entrezgene\"\n",
    "\n",
    "# in how many slected pathways are the inflammation genes\n",
    "selectedReactome <- as.data.frame(reactome[reactome$pathway %in% reactomepathways$pathway,])\n",
    "nInflGenesTotal1 <- as.data.frame(selectedReactome$entrezgene[selectedReactome$entrezgene %in% infl$entrezgene])\n",
    "colnames(nInflGenesTotal1)[1] <- \"entrezgene\""
   ]
  },
  {
   "cell_type": "code",
   "execution_count": null,
   "metadata": {},
   "outputs": [],
   "source": [
    "### WP\n",
    "# in how many pathways are the inflammation genes\n",
    "nGenesTotal2 <- as.data.frame(wp$entrezgene[wp$entrezgene %in% infl$entrezgene])\n",
    "colnames(nGenesTotal2)[1] <- \"entrezgene\"\n",
    "\n",
    "# in how many slected pathways are the inflammation genes\n",
    "selectedWp <- as.data.frame(wp[wp$pathway %in% wppathways$pathway,])\n",
    "nInflGenesTotal2 <- as.data.frame(selectedWp$entrezgene[selectedWp$entrezgene %in% infl$entrezgene])\n",
    "colnames(nInflGenesTotal2)[1] <- \"entrezgene\""
   ]
  },
  {
   "cell_type": "code",
   "execution_count": null,
   "metadata": {},
   "outputs": [],
   "source": [
    "# combine all frequencies together\n",
    "# first the inflammation genes in all pathways\n",
    "nGenesTotalF <- rbind(nGenesTotal, nGenesTotal1, nGenesTotal2)\n",
    "nGenesTotalF <- plyr::count(nGenesTotalF)\n",
    "colnames(nGenesTotalF)[2] <- \"n_All_Pathways\"\n",
    "# next the inflammation genes in selected pathways\n",
    "nInflGenesTotalF <- rbind(nInflGenesTotal, nInflGenesTotal1, nInflGenesTotal2)\n",
    "nInflGenesTotalF <- plyr::count(nInflGenesTotalF)\n",
    "colnames(nInflGenesTotalF)[2] <- \"n_Sel_Pathways\""
   ]
  },
  {
   "cell_type": "code",
   "execution_count": null,
   "metadata": {},
   "outputs": [],
   "source": [
    "# save tables\n",
    "write.table(nGenesTotalF, file.path(getwd(), \"results\", \"nGenes.txt\"), col.names = T, row.names = F, sep = \"\\t\", quote = F)\n",
    "write.table(nInflGenesTotalF, file.path(getwd(), \"results\", \"nInflGenes.txt\"), col.names = T, row.names = F, sep = \"\\t\", quote = F)"
   ]
  },
  {
   "cell_type": "markdown",
   "metadata": {},
   "source": [
    "Now we have the selected pathways, we will create the network files which will be used in the Cytoscape automation using the RCy3 package. "
   ]
  },
  {
   "cell_type": "code",
   "execution_count": null,
   "metadata": {},
   "outputs": [],
   "source": [
    "# edge table\n",
    "allDatabases <- rbind(kegg, reactome, wp)\n",
    "edge_table <- as.data.frame(allDatabases[allDatabases$pathway %in% selectedpws$pathway,])"
   ]
  },
  {
   "cell_type": "code",
   "execution_count": null,
   "metadata": {},
   "outputs": [],
   "source": [
    "# cluster pathways together into groups\n",
    "# Allograft rejection\n",
    "dataSet$Key[dataSet$Key == \"KEGG_ALLOGRAFT_REJECTION\"] <- \"Allograft_rejection\"\n",
    "dataSet$Key[dataSet$Key == \"Allograft Rejection%WikiPathways_20181110%WP2328%Homo sapiens\"] <- \"Allograft_rejection\"\n",
    "dataSet$Key[dataSet$Key == \"KEGG_GRAFT_VERSUS_HOST_DISEASE\"] <- \"Allograft_rejection\"\n",
    "dataSet$Key[dataSet$Key == \"Control of immune tolerance by vasoactive intestinal peptide%WP4484%Homo sapiens\"] <- \"Allograft_rejection\"\n",
    "dataSet$Key[dataSet$Key == \"Inflammatory Response Pathway%WikiPathways_20181110%WP453%Homo sapiens\"] <- \"Allograft_rejection\"\n",
    "\n",
    "# Cytokines\n",
    "dataSet$Key[dataSet$Key == \"IL-6 signaling pathway%WikiPathways_20181110%WP364%Homo sapiens\"] <- \"Cytokines\"\n",
    "dataSet$Key[dataSet$Key == \"IL-10 Anti-inflammatory Signaling Pathway%WP4495%Homo sapiens\"] <- \"Cytokines\"\n",
    "dataSet$Key[dataSet$Key == \"Cytokines and Inflammatory Response%WikiPathways_20181110%WP530%Homo sapiens\"] <- \"Cytokines\"\n",
    "dataSet$Key[dataSet$Key == \"IL17 signaling pathway%WikiPathways_20181110%WP2112%Homo sapiens\"] <- \"Cytokines\"\n",
    "dataSet$Key[dataSet$Key == \"Signal transduction through IL1R%WP4496%Homo sapiens\"] <- \"Cytokines\"\n",
    "dataSet$Key[dataSet$Key == \"ncRNAs involved in STAT3 signaling in hepatocellular carcinoma%WikiPathways_20181110%WP4337%Homo sapiens\"] <- \"Cytokines\"\n",
    "\n",
    "# Diseases\n",
    "dataSet$Key[dataSet$Key == \"KEGG_TYPE_I_DIABETES_MELLITUS\"] <- \"Diseases\"\n",
    "dataSet$Key[dataSet$Key == \"KEGG_ASTHMA\"] <- \"Diseases\"\n",
    "dataSet$Key[dataSet$Key == \"Lung fibrosis%WikiPathways_20181110%WP3624%Homo sapiens\"] <- \"Diseases\"\n",
    "dataSet$Key[dataSet$Key == \"KEGG_INTESTINAL_IMMUNE_NETWORK_FOR_IGA_PRODUCTION\"] <- \"Diseases\"\n",
    "\n",
    "# Immune cell regulation\n",
    "dataSet$Key[dataSet$Key == \"Cells and Molecules involved in local acute inflammatory response%WP4493%Homo sapiens\"] <- \"Immune_cell_regulation\"\n",
    "dataSet$Key[dataSet$Key == \"Selective expression of chemokine receptors during T-cell polarization%WP4494%Homo sapiens\"] <- \"Immune_cell_regulation\"\n",
    "dataSet$Key[dataSet$Key == \"KEGG_LEISHMANIA_INFECTION\"] <- \"Immune_cell_regulation\"\n",
    "\n",
    "# NFkB\n",
    "dataSet$Key[dataSet$Key == \"KEGG_NOD_LIKE_RECEPTOR_SIGNALING_PATHWAY\"] <- \"NFkB\"\n",
    "dataSet$Key[dataSet$Key == \"REACTOME_TAK1_ACTIVATES_NFKB_BY_PHOSPHORYLATION_AND_ACTIVATION_OF_IKKS_COMPLEX\"] <- \"NFkB\"\n",
    "dataSet$Key[dataSet$Key == \"REACTOME_TRAF6_MEDIATED_NFKB_ACTIVATION\"] <- \"NFkB\"\n",
    "dataSet$Key[dataSet$Key == \"REACTOME_RIP_MEDIATED_NFKB_ACTIVATION_VIA_DAI\"] <- \"NFkB\"\n",
    "dataSet$Key[dataSet$Key == \"Photodynamic therapy-induced NF-kB survival signaling%WikiPathways_20181110%WP3617%Homo sapiens\"] <- \"NFkB\"\n",
    "dataSet$Key[dataSet$Key == \"Simplified Depiction of MYD88 Distinct Input-Output Pathway%WikiPathways_20181110%WP3877%Homo sapiens\"] <- \"NFkB\"\n",
    "dataSet$Key[dataSet$Key == \"EBV LMP1 signaling%WikiPathways_20181110%WP262%Homo sapiens\"] <- \"NFkB\"\n",
    "\n",
    "# Vitamin B12\n",
    "dataSet$Key[dataSet$Key == \"Folate Metabolism%WikiPathways_20181110%WP176%Homo sapiens\"] <- \"Vitamin_B12\"\n",
    "dataSet$Key[dataSet$Key == \"Vitamin B12 Metabolism%WikiPathways_20181110%WP1533%Homo sapiens\"] <- \"Vitamin_B12\"\n",
    "dataSet$Key[dataSet$Key == \"IL1 and megakaryocytes in obesity%WikiPathways_20181110%WP2865%Homo sapiens\"] <- \"Vitamin_B12\"\n",
    "\n",
    "# Inflammation\n",
    "dataSet$Key[dataSet$Key == \"Vitamin D in inflammatory diseases%WP4482%Homo sapiens\"] <- \"Inflammation\"\n",
    "dataSet$Key[dataSet$Key == \"LTF danger signal response pathway%WP4478%Homo sapiens\"] <- \"Inflammation\"\n",
    "dataSet$Key[dataSet$Key == \"Resistin as a regulator of inflammation%WP4481%Homo sapiens\"] <- \"Inflammation\"\n",
    "dataSet$Key[dataSet$Key == \"Relationship between inflammation, COX-2 and EGFR%WP4483%Homo sapiens\"] <- \"Inflammation\""
   ]
  },
  {
   "cell_type": "code",
   "execution_count": null,
   "metadata": {},
   "outputs": [],
   "source": [
    "# save edge table\n",
    "write.table(edge_table, file.path(getwd(), \"results\", \"edge_table.txt\"), col.names = T, row.names = F, sep = \"\\t\", quote = F)"
   ]
  },
  {
   "cell_type": "code",
   "execution_count": null,
   "metadata": {},
   "outputs": [],
   "source": [
    "# node table\n",
    "# split edge table in two seperate data frames, rbind, unique, add type.\n",
    "pathwayNodes <- as.data.frame(unique(edge_table$pathway))\n",
    "colnames(pathwayNodes)[1] <- \"nodes\"\n",
    "geneNodes <- as.data.frame(unique(edge_table$entrezgene))\n",
    "colnames(geneNodes)[1] <- \"nodes\"\n",
    "node_table <- as.data.frame(rbind(pathwayNodes, geneNodes))\n",
    "# add type\n",
    "node_table$Type <- \"Gene\"\n",
    "node_table$Type[node_table$nodes %in% infl$entrezgene] <- \"InflGene\"\n",
    "node_table$Type[node_table$nodes %in% selectedpws$pathway] <- \"Process\"\n",
    "\n",
    "# save node table\n",
    "write.table(node_table, file.path(getwd(), \"results\", \"node_table.txt\"), col.names = T, row.names = F, sep = \"\\t\", quote = F)"
   ]
  }
 ],
 "metadata": {
  "kernelspec": {
   "display_name": "R",
   "language": "R",
   "name": "ir"
  },
  "language_info": {
   "codemirror_mode": "r",
   "file_extension": ".r",
   "mimetype": "text/x-r-source",
   "name": "R",
   "pygments_lexer": "r",
   "version": "3.5.1"
  }
 },
 "nbformat": 4,
 "nbformat_minor": 2
}
