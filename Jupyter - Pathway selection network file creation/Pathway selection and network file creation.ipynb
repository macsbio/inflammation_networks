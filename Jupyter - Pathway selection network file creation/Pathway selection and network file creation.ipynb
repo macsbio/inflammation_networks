{
 "cells": [
  {
   "cell_type": "markdown",
   "metadata": {},
   "source": [
    "# Pathway selection and network-file creation\n",
    "In this notebook we will select pathways from 3 databases, i.e. [KEGG](https://www.genome.jp/kegg/), [REACTOME](https://reactome.org/) and [WikiPathways](https://www.wikipathways.org/index.php/WikiPathways).\n",
    "We base this selection on genes associated with inflammation, of which the retrieving process is described in a different [notebook](https://github.com/macsbio/inflammation_networks/tree/master/Jupyter%20-%20Inflammation%20genes)."
   ]
  },
  {
   "cell_type": "markdown",
   "metadata": {},
   "source": [
    "#### The following step only works in RStudio. If working in another environment, please set the working directory properly and check if the working directory is correct. "
   ]
  },
  {
   "cell_type": "code",
   "execution_count": 27,
   "metadata": {},
   "outputs": [
    {
     "ename": "ERROR",
     "evalue": "Error: RStudio not running\n",
     "output_type": "error",
     "traceback": [
      "Error: RStudio not running\nTraceback:\n",
      "1. setwd(dirname(rstudioapi::callFun(\"getActiveDocumentContext\")$path))",
      "2. dirname(rstudioapi::callFun(\"getActiveDocumentContext\")$path)",
      "3. rstudioapi::callFun(\"getActiveDocumentContext\")",
      "4. verifyAvailable()",
      "5. stop(\"RStudio not running\", call. = FALSE)"
     ]
    }
   ],
   "source": [
    "# set wd to where script file is saved\n",
    "setwd(dirname(rstudioapi::callFun(\"getActiveDocumentContext\")$path))"
   ]
  },
  {
   "cell_type": "code",
   "execution_count": 1,
   "metadata": {},
   "outputs": [
    {
     "data": {
      "text/html": [
       "'C:/Users/Laurent/Documents/GitHub/inflammation_networks2/Jupyter - Pathway selection network file creation'"
      ],
      "text/latex": [
       "'C:/Users/Laurent/Documents/GitHub/inflammation\\_networks2/Jupyter - Pathway selection network file creation'"
      ],
      "text/markdown": [
       "'C:/Users/Laurent/Documents/GitHub/inflammation_networks2/Jupyter - Pathway selection network file creation'"
      ],
      "text/plain": [
       "[1] \"C:/Users/Laurent/Documents/GitHub/inflammation_networks2/Jupyter - Pathway selection network file creation\""
      ]
     },
     "metadata": {},
     "output_type": "display_data"
    }
   ],
   "source": [
    "# check wd\n",
    "getwd()"
   ]
  },
  {
   "cell_type": "code",
   "execution_count": 2,
   "metadata": {},
   "outputs": [
    {
     "name": "stderr",
     "output_type": "stream",
     "text": [
      "Warning message:\n",
      "\"package 'qusage' was built under R version 3.5.2\"\n",
      "Attaching package: 'dplyr'\n",
      "\n",
      "The following objects are masked from 'package:plyr':\n",
      "\n",
      "    arrange, count, desc, failwith, id, mutate, rename, summarise,\n",
      "    summarize\n",
      "\n",
      "The following objects are masked from 'package:stats':\n",
      "\n",
      "    filter, lag\n",
      "\n",
      "The following objects are masked from 'package:base':\n",
      "\n",
      "    intersect, setdiff, setequal, union\n",
      "\n",
      "Warning message:\n",
      "\"package 'tidyr' was built under R version 3.5.2\""
     ]
    }
   ],
   "source": [
    "# load library\n",
    "library(limma)\n",
    "library(qusage)\n",
    "library(plyr)\n",
    "library(dplyr)\n",
    "library(tidyr)"
   ]
  },
  {
   "cell_type": "markdown",
   "metadata": {},
   "source": [
    "First we will load in the .gmt files of the 3 databases, next we will change the structure so we can work more easily with it based on our needs. Next we will load in the genes associated with inflammation."
   ]
  },
  {
   "cell_type": "code",
   "execution_count": 3,
   "metadata": {},
   "outputs": [],
   "source": [
    "# load data files and clean data files\n",
    "### KEGG\n",
    "kegg <- read.gmt(file.path(getwd(), \"databases\", \"c2.cp.kegg.v6.2.entrez.gmt\"))\n",
    "kegg <- ldply(kegg, data.frame)\n",
    "colnames(kegg)[c(1,2)] <- c(\"pathway\", \"entrezgene\")"
   ]
  },
  {
   "cell_type": "code",
   "execution_count": 4,
   "metadata": {},
   "outputs": [],
   "source": [
    "### REACTOME\n",
    "reactome <- read.gmt(file.path(getwd(), \"databases\", \"c2.cp.reactome.v6.2.entrez.gmt\"))\n",
    "reactome <- ldply(reactome, data.frame)\n",
    "colnames(reactome)[c(1,2)] <- c(\"pathway\", \"entrezgene\")"
   ]
  },
  {
   "cell_type": "code",
   "execution_count": 5,
   "metadata": {},
   "outputs": [
    {
     "name": "stderr",
     "output_type": "stream",
     "text": [
      "Warning message in readLines(file):\n",
      "\"incomplete final line found on 'C:/Users/Laurent/Documents/GitHub/inflammation_networks2/Jupyter - Pathway selection network file creation/databases/wikipathways-combined_final.gmt'\""
     ]
    }
   ],
   "source": [
    "### WikiPathways\n",
    "wp <- read.gmt(file.path(getwd(), \"databases\", \"wikipathways-combined_final.gmt\"))\n",
    "wp <- ldply(wp, data.frame)\n",
    "colnames(wp)[c(1,2)] <- c(\"pathway\", \"entrezgene\")"
   ]
  },
  {
   "cell_type": "code",
   "execution_count": 6,
   "metadata": {},
   "outputs": [],
   "source": [
    "# combine databases\n",
    "allDatabases <- rbind(kegg, reactome, wp)"
   ]
  },
  {
   "cell_type": "code",
   "execution_count": 7,
   "metadata": {},
   "outputs": [
    {
     "data": {
      "text/html": [
       "<table>\n",
       "<thead><tr><th scope=col>entrezgene</th></tr></thead>\n",
       "<tbody>\n",
       "\t<tr><td>50616</td></tr>\n",
       "\t<tr><td> 1236</td></tr>\n",
       "\t<tr><td>  847</td></tr>\n",
       "\t<tr><td> 6647</td></tr>\n",
       "\t<tr><td> 5327</td></tr>\n",
       "\t<tr><td>  361</td></tr>\n",
       "</tbody>\n",
       "</table>\n"
      ],
      "text/latex": [
       "\\begin{tabular}{r|l}\n",
       " entrezgene\\\\\n",
       "\\hline\n",
       "\t 50616\\\\\n",
       "\t  1236\\\\\n",
       "\t   847\\\\\n",
       "\t  6647\\\\\n",
       "\t  5327\\\\\n",
       "\t   361\\\\\n",
       "\\end{tabular}\n"
      ],
      "text/markdown": [
       "\n",
       "| entrezgene |\n",
       "|---|\n",
       "| 50616 |\n",
       "|  1236 |\n",
       "|   847 |\n",
       "|  6647 |\n",
       "|  5327 |\n",
       "|   361 |\n",
       "\n"
      ],
      "text/plain": [
       "  entrezgene\n",
       "1 50616     \n",
       "2  1236     \n",
       "3   847     \n",
       "4  6647     \n",
       "5  5327     \n",
       "6   361     "
      ]
     },
     "metadata": {},
     "output_type": "display_data"
    }
   ],
   "source": [
    "# load in gene list associated with inflammation\n",
    "infl <- as.data.frame(read.table(file.path(getwd(), \"genes\", \"merged_infl_genes.txt\"), header = T, sep = \"\\t\", stringsAsFactors = FALSE))\n",
    "infl <- as.data.frame(infl[,c(-1,-3,-4)])\n",
    "colnames(infl)[1] <- \"entrezgene\"\n",
    "head(infl)"
   ]
  },
  {
   "cell_type": "markdown",
   "metadata": {},
   "source": [
    "Now the 3 databases and the genes associated with inflammation are loaded in, we can start with filtering the pathways based on our criteria and the genes associated with inflammation. \n",
    "\n",
    "The criteria are; the pathways has to contain at least 10 genes, has to contain at least 5 genes associated with inflammation and at least 30% of the genes in the pathway have to be associated with inflammation."
   ]
  },
  {
   "cell_type": "code",
   "execution_count": 8,
   "metadata": {},
   "outputs": [],
   "source": [
    "# filter first that pathway has at least 10 genes, so the row with the pathwayname has to occur at least 10 times in the data frame\n",
    "allDatabases <- allDatabases[allDatabases$pathway %in% names(table(allDatabases$pathway))[table(allDatabases$pathway) >= 10],]\n",
    "# freq of every pathway in database\n",
    "freqallDatabases <- plyr::count(allDatabases$pathway)\n",
    "# pathway names of the rows (entrezgene IDs) that occur in the gene list associated with inflammation\n",
    "allDatabasespathways <- as.data.frame(allDatabases$pathway[allDatabases$entrezgene %in% infl$entrezgene])\n",
    "# if these pathwaynames occur at least 5 times we can create list of pathways with at least 5 inflammation genes \n",
    "# (and which were already filtered on at least 10 gesn in total)\n",
    "colnames(allDatabasespathways)[1] <- \"pathway\"\n",
    "allDatabasespathways <- as.data.frame(allDatabasespathways[allDatabasespathways$pathway %in% names(table(allDatabasespathways$pathway))[table(allDatabasespathways$pathway) >= 5],])\n",
    "colnames(allDatabasespathways)[1] <- \"pathway\"\n",
    "# freq of every pathway in allDatabasespathways\n",
    "freqallDatabasespathways <- plyr::count(allDatabasespathways$pathway)\n",
    "# freqallDatabases has total amount of genes in the pathway and freqallDatabasespathways has total amount of infalmmation genes in pathway\n",
    "# combine the two data frames, so we have the total amount of genes per pathway which has at least 5 inflammation genes in them\n",
    "# and so we also have the amount of inflammation genes per pathway, so we can calculate the percentage, which has to be at least 30%\n",
    "allDatabasespathways <- as.data.frame(merge(freqallDatabasespathways, freqallDatabases, by = \"x\"))\n",
    "colnames(allDatabasespathways)[c(1,2,3)] <- c(\"pathway\", \"freqInflGene\", \"freqGene\")\n",
    "# calculate percentage and add column\n",
    "# select rows which have percentage of at least 30%\n",
    "allDatabasespathways$percentage <- ((allDatabasespathways$freqInflGene/allDatabasespathways$freqGene) * 100)\n",
    "allDatabasespathways <- allDatabasespathways[allDatabasespathways$percentage >= 30, ]\n",
    "allDatabasespathways$percentage <- round(allDatabasespathways$percentage, 2)"
   ]
  },
  {
   "cell_type": "markdown",
   "metadata": {},
   "source": [
    "Now we have for each database the selected pathways based on our criteria. Lets save those with the stats of how many genes the pathway has, how many genes associated with inflammation and the percentage of genes associated with inflammation within the pathway. \n",
    "\n",
    "Next, 3 pathways were manually added, while they did not meet the criteria, as they were seen as highly important for the inflammation network."
   ]
  },
  {
   "cell_type": "code",
   "execution_count": 9,
   "metadata": {},
   "outputs": [],
   "source": [
    "# combine the retrieved pathways so we have a list of the pathways that met the criteria\n",
    "pathwayStats <- as.data.frame(allDatabasespathways)\n",
    "\n",
    "# save pathwaysStats\n",
    "write.table(pathwayStats, file.path(getwd(), \"results\", \"pathwayStats.txt\"), col.names = T, row.names = F, sep = \"\\t\", quote = F)\n",
    "\n",
    "# get list of only selected pathways without stats\n",
    "selectedpws <- pathwayStats[c(-2,-3,-4)]  "
   ]
  },
  {
   "cell_type": "code",
   "execution_count": 10,
   "metadata": {},
   "outputs": [],
   "source": [
    "# Three pathways were manually added although they did not meet the criteria, lets add them to the selectedpws\n",
    "added <- data.frame(c(\"IL17 signaling pathway%WikiPathways_20181110%WP2112%Homo sapiens\", \n",
    "                      \"IL-6 signaling pathway%WikiPathways_20181110%WP364%Homo sapiens\",\n",
    "                      \"Relationship between inflammation, COX-2 and EGFR%WP4483%Homo sapiens\"))\n",
    "colnames(added)[1] <- \"pathway\"\n",
    "selectedpws <- rbind(selectedpws, added)\n",
    "\n",
    "# save selectedpws\n",
    "write.table(selectedpws, file.path(getwd(), \"results\", \"selected_pws.txt\"), col.names = T, row.names = F, sep = \"\\t\", quote = F)"
   ]
  },
  {
   "cell_type": "markdown",
   "metadata": {},
   "source": [
    "Now we have a list of selected pathways, it is interesting to see in how many pathways the inflammation genes are.\n",
    "First we will check in how many total pathways the genes are, then check in how many selected pathways these genes are."
   ]
  },
  {
   "cell_type": "code",
   "execution_count": 11,
   "metadata": {},
   "outputs": [],
   "source": [
    "# in how many pathways are the inflammation genes\n",
    "nGenesTotal <- as.data.frame(allDatabases$entrezgene[allDatabases$entrezgene %in% infl$entrezgene])\n",
    "colnames(nGenesTotal)[1] <- \"entrezgene\"\n",
    "\n",
    "# in how many slected pathways are the inflammation genes\n",
    "selectedallDatabases <- as.data.frame(allDatabases[allDatabases$pathway %in% allDatabasespathways$pathway,])\n",
    "nInflGenesTotal <- as.data.frame(selectedallDatabases$entrezgene[selectedallDatabases$entrezgene %in% infl$entrezgene])\n",
    "colnames(nInflGenesTotal)[1] <- \"entrezgene\""
   ]
  },
  {
   "cell_type": "code",
   "execution_count": 12,
   "metadata": {},
   "outputs": [],
   "source": [
    "# combine all frequencies together\n",
    "# first the inflammation genes in all pathways\n",
    "nGenesTotalF <- plyr::count(nGenesTotal)\n",
    "colnames(nGenesTotalF)[2] <- \"n_All_Pathways\"\n",
    "# next the inflammation genes in selected pathways\n",
    "nInflGenesTotalF <- plyr::count(nInflGenesTotal)\n",
    "colnames(nInflGenesTotalF)[2] <- \"n_Sel_Pathways\""
   ]
  },
  {
   "cell_type": "code",
   "execution_count": 13,
   "metadata": {},
   "outputs": [],
   "source": [
    "# save tables\n",
    "write.table(nGenesTotalF, file.path(getwd(), \"results\", \"nGenes.txt\"), col.names = T, row.names = F, sep = \"\\t\", quote = F)\n",
    "write.table(nInflGenesTotalF, file.path(getwd(), \"results\", \"nInflGenes.txt\"), col.names = T, row.names = F, sep = \"\\t\", quote = F)"
   ]
  },
  {
   "cell_type": "markdown",
   "metadata": {},
   "source": [
    "Now we have the selected pathways, we will create the network files which will be used in the Cytoscape automation using the RCy3 package. "
   ]
  },
  {
   "cell_type": "code",
   "execution_count": 14,
   "metadata": {},
   "outputs": [
    {
     "data": {
      "text/html": [
       "<table>\n",
       "<thead><tr><th></th><th scope=col>pathway</th><th scope=col>entrezgene</th></tr></thead>\n",
       "<tbody>\n",
       "\t<tr><th scope=row>7430</th><td>KEGG_NOD_LIKE_RECEPTOR_SIGNALING_PATHWAY</td><td>7205                                    </td></tr>\n",
       "\t<tr><th scope=row>7431</th><td>KEGG_NOD_LIKE_RECEPTOR_SIGNALING_PATHWAY</td><td>841                                     </td></tr>\n",
       "\t<tr><th scope=row>7432</th><td>KEGG_NOD_LIKE_RECEPTOR_SIGNALING_PATHWAY</td><td>1147                                    </td></tr>\n",
       "\t<tr><th scope=row>7433</th><td>KEGG_NOD_LIKE_RECEPTOR_SIGNALING_PATHWAY</td><td>257397                                  </td></tr>\n",
       "\t<tr><th scope=row>7434</th><td>KEGG_NOD_LIKE_RECEPTOR_SIGNALING_PATHWAY</td><td>2919                                    </td></tr>\n",
       "\t<tr><th scope=row>7435</th><td>KEGG_NOD_LIKE_RECEPTOR_SIGNALING_PATHWAY</td><td>8767                                    </td></tr>\n",
       "</tbody>\n",
       "</table>\n"
      ],
      "text/latex": [
       "\\begin{tabular}{r|ll}\n",
       "  & pathway & entrezgene\\\\\n",
       "\\hline\n",
       "\t7430 & KEGG\\_NOD\\_LIKE\\_RECEPTOR\\_SIGNALING\\_PATHWAY & 7205                                              \\\\\n",
       "\t7431 & KEGG\\_NOD\\_LIKE\\_RECEPTOR\\_SIGNALING\\_PATHWAY & 841                                               \\\\\n",
       "\t7432 & KEGG\\_NOD\\_LIKE\\_RECEPTOR\\_SIGNALING\\_PATHWAY & 1147                                              \\\\\n",
       "\t7433 & KEGG\\_NOD\\_LIKE\\_RECEPTOR\\_SIGNALING\\_PATHWAY & 257397                                            \\\\\n",
       "\t7434 & KEGG\\_NOD\\_LIKE\\_RECEPTOR\\_SIGNALING\\_PATHWAY & 2919                                              \\\\\n",
       "\t7435 & KEGG\\_NOD\\_LIKE\\_RECEPTOR\\_SIGNALING\\_PATHWAY & 8767                                              \\\\\n",
       "\\end{tabular}\n"
      ],
      "text/markdown": [
       "\n",
       "| <!--/--> | pathway | entrezgene |\n",
       "|---|---|---|\n",
       "| 7430 | KEGG_NOD_LIKE_RECEPTOR_SIGNALING_PATHWAY | 7205                                     |\n",
       "| 7431 | KEGG_NOD_LIKE_RECEPTOR_SIGNALING_PATHWAY | 841                                      |\n",
       "| 7432 | KEGG_NOD_LIKE_RECEPTOR_SIGNALING_PATHWAY | 1147                                     |\n",
       "| 7433 | KEGG_NOD_LIKE_RECEPTOR_SIGNALING_PATHWAY | 257397                                   |\n",
       "| 7434 | KEGG_NOD_LIKE_RECEPTOR_SIGNALING_PATHWAY | 2919                                     |\n",
       "| 7435 | KEGG_NOD_LIKE_RECEPTOR_SIGNALING_PATHWAY | 8767                                     |\n",
       "\n"
      ],
      "text/plain": [
       "     pathway                                  entrezgene\n",
       "7430 KEGG_NOD_LIKE_RECEPTOR_SIGNALING_PATHWAY 7205      \n",
       "7431 KEGG_NOD_LIKE_RECEPTOR_SIGNALING_PATHWAY 841       \n",
       "7432 KEGG_NOD_LIKE_RECEPTOR_SIGNALING_PATHWAY 1147      \n",
       "7433 KEGG_NOD_LIKE_RECEPTOR_SIGNALING_PATHWAY 257397    \n",
       "7434 KEGG_NOD_LIKE_RECEPTOR_SIGNALING_PATHWAY 2919      \n",
       "7435 KEGG_NOD_LIKE_RECEPTOR_SIGNALING_PATHWAY 8767      "
      ]
     },
     "metadata": {},
     "output_type": "display_data"
    }
   ],
   "source": [
    "# edge table\n",
    "edge_table <- as.data.frame(allDatabases[allDatabases$pathway %in% selectedpws$pathway,])\n",
    "head(edge_table)"
   ]
  },
  {
   "cell_type": "code",
   "execution_count": 15,
   "metadata": {},
   "outputs": [],
   "source": [
    "# cluster pathways together into groups\n",
    "# Allograft rejection\n",
    "edge_table$pathway[edge_table$pathway == \"KEGG_ALLOGRAFT_REJECTION\"] <- \"Allograft_rejection\"\n",
    "edge_table$pathway[edge_table$pathway == \"Allograft Rejection%WikiPathways_20181110%WP2328%Homo sapiens\"] <- \"Allograft_rejection\"\n",
    "edge_table$pathway[edge_table$pathway == \"KEGG_GRAFT_VERSUS_HOST_DISEASE\"] <- \"Allograft_rejection\"\n",
    "edge_table$pathway[edge_table$pathway == \"Control of immune tolerance by vasoactive intestinal peptide%WP4484%Homo sapiens\"] <- \"Allograft_rejection\"\n",
    "edge_table$pathway[edge_table$pathway == \"Inflammatory Response Pathway%WikiPathways_20181110%WP453%Homo sapiens\"] <- \"Allograft_rejection\"\n",
    "\n",
    "# Cytokines\n",
    "edge_table$pathway[edge_table$pathway == \"IL-6 signaling pathway%WikiPathways_20181110%WP364%Homo sapiens\"] <- \"Cytokines\"\n",
    "edge_table$pathway[edge_table$pathway == \"IL-10 Anti-inflammatory Signaling Pathway%WP4495%Homo sapiens\"] <- \"Cytokines\"\n",
    "edge_table$pathway[edge_table$pathway == \"Cytokines and Inflammatory Response%WikiPathways_20181110%WP530%Homo sapiens\"] <- \"Cytokines\"\n",
    "edge_table$pathway[edge_table$pathway == \"IL17 signaling pathway%WikiPathways_20181110%WP2112%Homo sapiens\"] <- \"Cytokines\"\n",
    "edge_table$pathway[edge_table$pathway == \"Signal transduction through IL1R%WP4496%Homo sapiens\"] <- \"Cytokines\"\n",
    "edge_table$pathway[edge_table$pathway == \"ncRNAs involved in STAT3 signaling in hepatocellular carcinoma%WikiPathways_20181110%WP4337%Homo sapiens\"] <- \"Cytokines\"\n",
    "\n",
    "# Diseases\n",
    "edge_table$pathway[edge_table$pathway == \"KEGG_TYPE_I_DIABETES_MELLITUS\"] <- \"Diseases\"\n",
    "edge_table$pathway[edge_table$pathway == \"KEGG_ASTHMA\"] <- \"Diseases\"\n",
    "edge_table$pathway[edge_table$pathway == \"Lung fibrosis%WikiPathways_20181110%WP3624%Homo sapiens\"] <- \"Diseases\"\n",
    "edge_table$pathway[edge_table$pathway == \"KEGG_INTESTINAL_IMMUNE_NETWORK_FOR_IGA_PRODUCTION\"] <- \"Diseases\"\n",
    "\n",
    "# Immune cell regulation\n",
    "edge_table$pathway[edge_table$pathway == \"Cells and Molecules involved in local acute inflammatory response%WP4493%Homo sapiens\"] <- \"Immune_cell_regulation\"\n",
    "edge_table$pathway[edge_table$pathway == \"Selective expression of chemokine receptors during T-cell polarization%WP4494%Homo sapiens\"] <- \"Immune_cell_regulation\"\n",
    "edge_table$pathway[edge_table$pathway == \"KEGG_LEISHMANIA_INFECTION\"] <- \"Immune_cell_regulation\"\n",
    "\n",
    "# NFkB\n",
    "edge_table$pathway[edge_table$pathway == \"KEGG_NOD_LIKE_RECEPTOR_SIGNALING_PATHWAY\"] <- \"NFkB\"\n",
    "edge_table$pathway[edge_table$pathway == \"REACTOME_TAK1_ACTIVATES_NFKB_BY_PHOSPHORYLATION_AND_ACTIVATION_OF_IKKS_COMPLEX\"] <- \"NFkB\"\n",
    "edge_table$pathway[edge_table$pathway == \"REACTOME_TRAF6_MEDIATED_NFKB_ACTIVATION\"] <- \"NFkB\"\n",
    "edge_table$pathway[edge_table$pathway == \"REACTOME_RIP_MEDIATED_NFKB_ACTIVATION_VIA_DAI\"] <- \"NFkB\"\n",
    "edge_table$pathway[edge_table$pathway == \"Photodynamic therapy-induced NF-kB survival signaling%WikiPathways_20181110%WP3617%Homo sapiens\"] <- \"NFkB\"\n",
    "edge_table$pathway[edge_table$pathway == \"Simplified Depiction of MYD88 Distinct Input-Output Pathway%WikiPathways_20181110%WP3877%Homo sapiens\"] <- \"NFkB\"\n",
    "edge_table$pathway[edge_table$pathway == \"EBV LMP1 signaling%WikiPathways_20181110%WP262%Homo sapiens\"] <- \"NFkB\"\n",
    "\n",
    "# Vitamin B12\n",
    "edge_table$pathway[edge_table$pathway == \"Folate Metabolism%WikiPathways_20181110%WP176%Homo sapiens\"] <- \"Vitamin_B12\"\n",
    "edge_table$pathway[edge_table$pathway == \"Vitamin B12 Metabolism%WikiPathways_20181110%WP1533%Homo sapiens\"] <- \"Vitamin_B12\"\n",
    "edge_table$pathway[edge_table$pathway == \"IL1 and megakaryocytes in obesity%WikiPathways_20181110%WP2865%Homo sapiens\"] <- \"Vitamin_B12\"\n",
    "\n",
    "# Inflammation\n",
    "edge_table$pathway[edge_table$pathway == \"Vitamin D in inflammatory diseases%WP4482%Homo sapiens\"] <- \"Inflammation\"\n",
    "edge_table$pathway[edge_table$pathway == \"LTF danger signal response pathway%WP4478%Homo sapiens\"] <- \"Inflammation\"\n",
    "edge_table$pathway[edge_table$pathway == \"Resistin as a regulator of inflammation%WP4481%Homo sapiens\"] <- \"Inflammation\"\n",
    "edge_table$pathway[edge_table$pathway == \"Relationship between inflammation, COX-2 and EGFR%WP4483%Homo sapiens\"] <- \"Inflammation\""
   ]
  },
  {
   "cell_type": "code",
   "execution_count": 16,
   "metadata": {},
   "outputs": [],
   "source": [
    "# save edge table\n",
    "write.table(edge_table, file.path(getwd(), \"results\", \"edge_table.txt\"), col.names = T, row.names = F, sep = \"\\t\", quote = F)"
   ]
  },
  {
   "cell_type": "code",
   "execution_count": 18,
   "metadata": {},
   "outputs": [],
   "source": [
    "# node table\n",
    "# split edge table in two seperate data frames, rbind, unique, add type.\n",
    "pathwayNodes <- as.data.frame(unique(edge_table$pathway))\n",
    "colnames(pathwayNodes)[1] <- \"nodes\"\n",
    "geneNodes <- as.data.frame(unique(edge_table$entrezgene))\n",
    "colnames(geneNodes)[1] <- \"nodes\"\n",
    "node_table <- as.data.frame(rbind(pathwayNodes, geneNodes))\n",
    "# add type\n",
    "node_table$Type <- \"Gene\"\n",
    "node_table$Type[node_table$nodes %in% infl$entrezgene] <- \"InflGene\"\n",
    "node_table$Type[node_table$nodes %in% selectedpws$pathway] <- \"Process\"\n",
    "node_table$Type[node_table$nodes == \"Allograft_rejection\"] <- \"Process\"\n",
    "node_table$Type[node_table$nodes == \"Cytokines\"] <- \"Process\"\n",
    "node_table$Type[node_table$nodes == \"Diseases\"] <- \"Process\"\n",
    "node_table$Type[node_table$nodes == \"Immune_cell_regulation\"] <- \"Process\"\n",
    "node_table$Type[node_table$nodes == \"NFkB\"] <- \"Process\"\n",
    "node_table$Type[node_table$nodes == \"Vitamin_B12\"] <- \"Process\"\n",
    "node_table$Type[node_table$nodes == \"Inflammation\"] <- \"Process\"\n",
    "\n",
    "\n",
    "# save node table\n",
    "write.table(node_table, file.path(getwd(), \"results\", \"node_table.txt\"), col.names = T, row.names = F, sep = \"\\t\", quote = F)"
   ]
  }
 ],
 "metadata": {
  "kernelspec": {
   "display_name": "R",
   "language": "R",
   "name": "ir"
  },
  "language_info": {
   "codemirror_mode": "r",
   "file_extension": ".r",
   "mimetype": "text/x-r-source",
   "name": "R",
   "pygments_lexer": "r",
   "version": "3.5.1"
  }
 },
 "nbformat": 4,
 "nbformat_minor": 2
}
