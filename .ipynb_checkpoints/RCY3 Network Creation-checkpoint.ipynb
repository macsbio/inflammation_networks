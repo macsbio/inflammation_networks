{
 "cells": [
  {
   "cell_type": "markdown",
   "metadata": {},
   "source": [
    "# Automation Cytoscape network creation using RCy3 package\n",
    "We are going to use the RCy3 package in R to automate the workflow for network creation.\n",
    "We are using multiple gene epxression datasets acquired from different studies. These datasets contain gene expression profiles of patients with various diseases. \n",
    "The diseases which are going to be used in this notebook are: lung-cancer (LC), breast-cancer (BC), metabolically unhealthy obesity (MUO), rheumatoid arthritis (RA), dilated cardiomyopathy (DCM), ishemic cardiomyopathy (ICM) and systemis lupus erythematosus (SLE).\n",
    "\n",
    "The network will consist of pathways, pathway clusters and the genes which occur in these pathways. These pathways are acquired based on genes associated with inflammation which were retrieved from [DisGeNET](http://www.disgenet.org/home/). "
   ]
  },
  {
   "cell_type": "code",
   "execution_count": 38,
   "metadata": {},
   "outputs": [
    {
     "data": {
      "text/html": [
       "'C:/Users/Laurent/Documents/GitHub/inflammation_networks2'"
      ],
      "text/latex": [
       "'C:/Users/Laurent/Documents/GitHub/inflammation\\_networks2'"
      ],
      "text/markdown": [
       "'C:/Users/Laurent/Documents/GitHub/inflammation_networks2'"
      ],
      "text/plain": [
       "[1] \"C:/Users/Laurent/Documents/GitHub/inflammation_networks2\""
      ]
     },
     "metadata": {},
     "output_type": "display_data"
    }
   ],
   "source": [
    "# check wd\n",
    "getwd()"
   ]
  },
  {
   "cell_type": "code",
   "execution_count": 39,
   "metadata": {},
   "outputs": [],
   "source": [
    "# load library\n",
    "library(RCy3)"
   ]
  },
  {
   "cell_type": "markdown",
   "metadata": {},
   "source": [
    "### We first start with opening cytoscape and checking if we are connected"
   ]
  },
  {
   "cell_type": "code",
   "execution_count": 40,
   "metadata": {},
   "outputs": [
    {
     "data": {
      "text/html": [
       "'You are connected to Cytoscape!'"
      ],
      "text/latex": [
       "'You are connected to Cytoscape!'"
      ],
      "text/markdown": [
       "'You are connected to Cytoscape!'"
      ],
      "text/plain": [
       "[1] \"You are connected to Cytoscape!\""
      ]
     },
     "metadata": {},
     "output_type": "display_data"
    },
    {
     "data": {
      "text/html": [
       "<dl class=dl-horizontal>\n",
       "\t<dt>apiVersion</dt>\n",
       "\t\t<dd>'v1'</dd>\n",
       "\t<dt>cytoscapeVersion</dt>\n",
       "\t\t<dd>'3.7.1'</dd>\n",
       "</dl>\n"
      ],
      "text/latex": [
       "\\begin{description*}\n",
       "\\item[apiVersion] 'v1'\n",
       "\\item[cytoscapeVersion] '3.7.1'\n",
       "\\end{description*}\n"
      ],
      "text/markdown": [
       "apiVersion\n",
       ":   'v1'cytoscapeVersion\n",
       ":   '3.7.1'\n",
       "\n"
      ],
      "text/plain": [
       "      apiVersion cytoscapeVersion \n",
       "            \"v1\"          \"3.7.1\" "
      ]
     },
     "metadata": {},
     "output_type": "display_data"
    }
   ],
   "source": [
    "# check if cytoscape is open and check version\n",
    "cytoscapePing()\n",
    "cytoscapeVersionInfo()"
   ]
  },
  {
   "cell_type": "markdown",
   "metadata": {},
   "source": [
    "### Network creation\n",
    "To begin with, we will load in our node and edge files to create our network.\n",
    "\n",
    "We have to clean these files so they are usable for network creation."
   ]
  },
  {
   "cell_type": "code",
   "execution_count": 41,
   "metadata": {},
   "outputs": [
    {
     "data": {
      "text/html": [
       "<table>\n",
       "<thead><tr><th scope=col>id</th><th scope=col>type</th></tr></thead>\n",
       "<tbody>\n",
       "\t<tr><td>Cytokines   </td><td>Process     </td></tr>\n",
       "\t<tr><td>Inflammation</td><td>Process     </td></tr>\n",
       "\t<tr><td>NFkB        </td><td>Process     </td></tr>\n",
       "\t<tr><td>Angiogenesis</td><td>Process     </td></tr>\n",
       "\t<tr><td>Metabolism  </td><td>Process     </td></tr>\n",
       "\t<tr><td>Complement  </td><td>Process     </td></tr>\n",
       "</tbody>\n",
       "</table>\n"
      ],
      "text/latex": [
       "\\begin{tabular}{r|ll}\n",
       " id & type\\\\\n",
       "\\hline\n",
       "\t Cytokines    & Process     \\\\\n",
       "\t Inflammation & Process     \\\\\n",
       "\t NFkB         & Process     \\\\\n",
       "\t Angiogenesis & Process     \\\\\n",
       "\t Metabolism   & Process     \\\\\n",
       "\t Complement   & Process     \\\\\n",
       "\\end{tabular}\n"
      ],
      "text/markdown": [
       "\n",
       "| id | type |\n",
       "|---|---|\n",
       "| Cytokines    | Process      |\n",
       "| Inflammation | Process      |\n",
       "| NFkB         | Process      |\n",
       "| Angiogenesis | Process      |\n",
       "| Metabolism   | Process      |\n",
       "| Complement   | Process      |\n",
       "\n"
      ],
      "text/plain": [
       "  id           type   \n",
       "1 Cytokines    Process\n",
       "2 Inflammation Process\n",
       "3 NFkB         Process\n",
       "4 Angiogenesis Process\n",
       "5 Metabolism   Process\n",
       "6 Complement   Process"
      ]
     },
     "metadata": {},
     "output_type": "display_data"
    },
    {
     "data": {
      "text/html": [
       "<table>\n",
       "<thead><tr><th scope=col>source</th><th scope=col>target</th><th scope=col>interaction</th></tr></thead>\n",
       "<tbody>\n",
       "\t<tr><td>Cytokines</td><td>GNB1     </td><td>interacts</td></tr>\n",
       "\t<tr><td>Cytokines</td><td>PTPN11   </td><td>interacts</td></tr>\n",
       "\t<tr><td>Cytokines</td><td>SHC1     </td><td>interacts</td></tr>\n",
       "\t<tr><td>Cytokines</td><td>PIK3R1   </td><td>interacts</td></tr>\n",
       "\t<tr><td>Cytokines</td><td>UBC      </td><td>interacts</td></tr>\n",
       "\t<tr><td>Cytokines</td><td>UBA52    </td><td>interacts</td></tr>\n",
       "</tbody>\n",
       "</table>\n"
      ],
      "text/latex": [
       "\\begin{tabular}{r|lll}\n",
       " source & target & interaction\\\\\n",
       "\\hline\n",
       "\t Cytokines & GNB1      & interacts\\\\\n",
       "\t Cytokines & PTPN11    & interacts\\\\\n",
       "\t Cytokines & SHC1      & interacts\\\\\n",
       "\t Cytokines & PIK3R1    & interacts\\\\\n",
       "\t Cytokines & UBC       & interacts\\\\\n",
       "\t Cytokines & UBA52     & interacts\\\\\n",
       "\\end{tabular}\n"
      ],
      "text/markdown": [
       "\n",
       "| source | target | interaction |\n",
       "|---|---|---|\n",
       "| Cytokines | GNB1      | interacts |\n",
       "| Cytokines | PTPN11    | interacts |\n",
       "| Cytokines | SHC1      | interacts |\n",
       "| Cytokines | PIK3R1    | interacts |\n",
       "| Cytokines | UBC       | interacts |\n",
       "| Cytokines | UBA52     | interacts |\n",
       "\n"
      ],
      "text/plain": [
       "  source    target interaction\n",
       "1 Cytokines GNB1   interacts  \n",
       "2 Cytokines PTPN11 interacts  \n",
       "3 Cytokines SHC1   interacts  \n",
       "4 Cytokines PIK3R1 interacts  \n",
       "5 Cytokines UBC    interacts  \n",
       "6 Cytokines UBA52  interacts  "
      ]
     },
     "metadata": {},
     "output_type": "display_data"
    }
   ],
   "source": [
    "# load in data of network\n",
    "nodes <- as.data.frame(read.table(file.path(getwd(), \"data-output\", \"node_table_final.txt\"), header = T, sep = \"\\t\", stringsAsFactors = FALSE))\n",
    "edges <- as.data.frame(read.table(file.path(getwd(), \"data-output\", \"edge_table_final.txt\"), header = T, sep = \"\\t\", stringsAsFactors = FALSE))\n",
    "\n",
    "# clean up data\n",
    "colnames(nodes)[1] <- \"id\"\n",
    "nodes$id <- as.character(nodes$id)\n",
    "colnames(edges)[c(1,2)] <- c(\"source\", \"target\") \n",
    "edges$interaction <- \"interacts\"\n",
    "edges$target <- as.character(edges$target)\n",
    "\n",
    "head(nodes)\n",
    "head(edges)"
   ]
  },
  {
   "cell_type": "markdown",
   "metadata": {},
   "source": [
    "Now we can create our network in Cytoscape"
   ]
  },
  {
   "cell_type": "code",
   "execution_count": 42,
   "metadata": {},
   "outputs": [
    {
     "name": "stdout",
     "output_type": "stream",
     "text": [
      "Loading data...\n",
      "Applying default style...\n",
      "Applying preferred layout...\n"
     ]
    },
    {
     "data": {
      "text/html": [
       "<strong>networkSUID:</strong> 52"
      ],
      "text/latex": [
       "\\textbf{networkSUID:} 52"
      ],
      "text/markdown": [
       "**networkSUID:** 52"
      ],
      "text/plain": [
       "networkSUID \n",
       "         52 "
      ]
     },
     "metadata": {},
     "output_type": "display_data"
    }
   ],
   "source": [
    "# create network from the data frames and map column for entrezgene IDs\n",
    "createNetworkFromDataFrames(nodes, edges, title = \"MyNetwork\", collection = \"MyCollection\")"
   ]
  },
  {
   "cell_type": "markdown",
   "metadata": {},
   "source": [
    "We have to load in our gene expression data file, and merge this file with the table in cytoscape."
   ]
  },
  {
   "cell_type": "code",
   "execution_count": 43,
   "metadata": {},
   "outputs": [
    {
     "data": {
      "text/html": [
       "'Success: Data loaded in defaultnode table'"
      ],
      "text/latex": [
       "'Success: Data loaded in defaultnode table'"
      ],
      "text/markdown": [
       "'Success: Data loaded in defaultnode table'"
      ],
      "text/plain": [
       "[1] \"Success: Data loaded in defaultnode table\""
      ]
     },
     "metadata": {},
     "output_type": "display_data"
    },
    {
     "data": {
      "text/html": [
       "<table>\n",
       "<thead><tr><th></th><th scope=col>SUID</th><th scope=col>shared name</th><th scope=col>name</th><th scope=col>selected</th><th scope=col>id</th><th scope=col>type</th><th scope=col>entrezgene</th><th scope=col>hgnc_symbol</th><th scope=col>logFC_BC</th><th scope=col>PValue_BC</th><th scope=col>logFC_MUO</th><th scope=col>PValue_MUO</th><th scope=col>logFC_RA</th><th scope=col>PValue_RA</th><th scope=col>logFC_DCM</th><th scope=col>PValue_DCM</th></tr></thead>\n",
       "<tbody>\n",
       "\t<tr><th scope=row>62</th><td>62          </td><td>Cytokines   </td><td>Cytokines   </td><td>FALSE       </td><td>Cytokines   </td><td>Process     </td><td>NA          </td><td>NA          </td><td>NA          </td><td>NA          </td><td>NA          </td><td>NA          </td><td>NA          </td><td>NA          </td><td>NA          </td><td>NA          </td></tr>\n",
       "\t<tr><th scope=row>63</th><td>63          </td><td>Inflammation</td><td>Inflammation</td><td>FALSE       </td><td>Inflammation</td><td>Process     </td><td>NA          </td><td>NA          </td><td>NA          </td><td>NA          </td><td>NA          </td><td>NA          </td><td>NA          </td><td>NA          </td><td>NA          </td><td>NA          </td></tr>\n",
       "\t<tr><th scope=row>64</th><td>64          </td><td>NFkB        </td><td>NFkB        </td><td>FALSE       </td><td>NFkB        </td><td>Process     </td><td>NA          </td><td>NA          </td><td>NA          </td><td>NA          </td><td>NA          </td><td>NA          </td><td>NA          </td><td>NA          </td><td>NA          </td><td>NA          </td></tr>\n",
       "\t<tr><th scope=row>65</th><td>65          </td><td>Angiogenesis</td><td>Angiogenesis</td><td>FALSE       </td><td>Angiogenesis</td><td>Process     </td><td>NA          </td><td>NA          </td><td>NA          </td><td>NA          </td><td>NA          </td><td>NA          </td><td>NA          </td><td>NA          </td><td>NA          </td><td>NA          </td></tr>\n",
       "\t<tr><th scope=row>66</th><td>66          </td><td>Metabolism  </td><td>Metabolism  </td><td>FALSE       </td><td>Metabolism  </td><td>Process     </td><td>NA          </td><td>NA          </td><td>NA          </td><td>NA          </td><td>NA          </td><td>NA          </td><td>NA          </td><td>NA          </td><td>NA          </td><td>NA          </td></tr>\n",
       "\t<tr><th scope=row>67</th><td>67          </td><td>Complement  </td><td>Complement  </td><td>FALSE       </td><td>Complement  </td><td>Process     </td><td>NA          </td><td>NA          </td><td>NA          </td><td>NA          </td><td>NA          </td><td>NA          </td><td>NA          </td><td>NA          </td><td>NA          </td><td>NA          </td></tr>\n",
       "</tbody>\n",
       "</table>\n"
      ],
      "text/latex": [
       "\\begin{tabular}{r|llllllllllllllll}\n",
       "  & SUID & shared name & name & selected & id & type & entrezgene & hgnc\\_symbol & logFC\\_BC & PValue\\_BC & logFC\\_MUO & PValue\\_MUO & logFC\\_RA & PValue\\_RA & logFC\\_DCM & PValue\\_DCM\\\\\n",
       "\\hline\n",
       "\t62 & 62           & Cytokines    & Cytokines    & FALSE        & Cytokines    & Process      & NA           & NA           & NA           & NA           & NA           & NA           & NA           & NA           & NA           & NA          \\\\\n",
       "\t63 & 63           & Inflammation & Inflammation & FALSE        & Inflammation & Process      & NA           & NA           & NA           & NA           & NA           & NA           & NA           & NA           & NA           & NA          \\\\\n",
       "\t64 & 64           & NFkB         & NFkB         & FALSE        & NFkB         & Process      & NA           & NA           & NA           & NA           & NA           & NA           & NA           & NA           & NA           & NA          \\\\\n",
       "\t65 & 65           & Angiogenesis & Angiogenesis & FALSE        & Angiogenesis & Process      & NA           & NA           & NA           & NA           & NA           & NA           & NA           & NA           & NA           & NA          \\\\\n",
       "\t66 & 66           & Metabolism   & Metabolism   & FALSE        & Metabolism   & Process      & NA           & NA           & NA           & NA           & NA           & NA           & NA           & NA           & NA           & NA          \\\\\n",
       "\t67 & 67           & Complement   & Complement   & FALSE        & Complement   & Process      & NA           & NA           & NA           & NA           & NA           & NA           & NA           & NA           & NA           & NA          \\\\\n",
       "\\end{tabular}\n"
      ],
      "text/markdown": [
       "\n",
       "| <!--/--> | SUID | shared name | name | selected | id | type | entrezgene | hgnc_symbol | logFC_BC | PValue_BC | logFC_MUO | PValue_MUO | logFC_RA | PValue_RA | logFC_DCM | PValue_DCM |\n",
       "|---|---|---|---|---|---|---|---|---|---|---|---|---|---|---|---|---|\n",
       "| 62 | 62           | Cytokines    | Cytokines    | FALSE        | Cytokines    | Process      | NA           | NA           | NA           | NA           | NA           | NA           | NA           | NA           | NA           | NA           |\n",
       "| 63 | 63           | Inflammation | Inflammation | FALSE        | Inflammation | Process      | NA           | NA           | NA           | NA           | NA           | NA           | NA           | NA           | NA           | NA           |\n",
       "| 64 | 64           | NFkB         | NFkB         | FALSE        | NFkB         | Process      | NA           | NA           | NA           | NA           | NA           | NA           | NA           | NA           | NA           | NA           |\n",
       "| 65 | 65           | Angiogenesis | Angiogenesis | FALSE        | Angiogenesis | Process      | NA           | NA           | NA           | NA           | NA           | NA           | NA           | NA           | NA           | NA           |\n",
       "| 66 | 66           | Metabolism   | Metabolism   | FALSE        | Metabolism   | Process      | NA           | NA           | NA           | NA           | NA           | NA           | NA           | NA           | NA           | NA           |\n",
       "| 67 | 67           | Complement   | Complement   | FALSE        | Complement   | Process      | NA           | NA           | NA           | NA           | NA           | NA           | NA           | NA           | NA           | NA           |\n",
       "\n"
      ],
      "text/plain": [
       "   SUID shared name  name         selected id           type    entrezgene\n",
       "62 62   Cytokines    Cytokines    FALSE    Cytokines    Process NA        \n",
       "63 63   Inflammation Inflammation FALSE    Inflammation Process NA        \n",
       "64 64   NFkB         NFkB         FALSE    NFkB         Process NA        \n",
       "65 65   Angiogenesis Angiogenesis FALSE    Angiogenesis Process NA        \n",
       "66 66   Metabolism   Metabolism   FALSE    Metabolism   Process NA        \n",
       "67 67   Complement   Complement   FALSE    Complement   Process NA        \n",
       "   hgnc_symbol logFC_BC PValue_BC logFC_MUO PValue_MUO logFC_RA PValue_RA\n",
       "62 NA          NA       NA        NA        NA         NA       NA       \n",
       "63 NA          NA       NA        NA        NA         NA       NA       \n",
       "64 NA          NA       NA        NA        NA         NA       NA       \n",
       "65 NA          NA       NA        NA        NA         NA       NA       \n",
       "66 NA          NA       NA        NA        NA         NA       NA       \n",
       "67 NA          NA       NA        NA        NA         NA       NA       \n",
       "   logFC_DCM PValue_DCM\n",
       "62 NA        NA        \n",
       "63 NA        NA        \n",
       "64 NA        NA        \n",
       "65 NA        NA        \n",
       "66 NA        NA        \n",
       "67 NA        NA        "
      ]
     },
     "metadata": {},
     "output_type": "display_data"
    }
   ],
   "source": [
    "# load data set with gene expression values (logFC, p.value)\n",
    "expr_data <- read.table(file.path(getwd(), \"data-output\", \"merged_data_final.txt\"), header = T, sep =\"\\t\")\n",
    "\n",
    "# load data into cytoscape\n",
    "loadTableData(expr_data, data.key.colum = \"hgnc_symbol\", table.key.column = \"shared name\")\n",
    "\n",
    "# check if tables are well merged\n",
    "nodeTable <- getTableColumns(table = \"node\")\n",
    "head(nodeTable)"
   ]
  },
  {
   "cell_type": "markdown",
   "metadata": {},
   "source": [
    "### Manual visualization \n",
    "Before we start to visualize our network, we have to perform some manual stuff! \n",
    "\n",
    "To analyze the network we have to go to Cytoscape. First Open cytoscape go to Tools then NetworkAnalyzer then Network Analysis then Analyze Network. Treat the network as unidirected and click OK. We analyzed the network now we want to change the layout of the network. Go to Layout then yFiles Organic Layout. Close this message box when finished, and return to R."
   ]
  },
  {
   "cell_type": "markdown",
   "metadata": {},
   "source": [
    "### Automated visualization\n",
    "Now everthing is loaded into cytoscape and the manual stuff is done, we can working on the automatization of the visual style.\n",
    "\n",
    "For every dataset we would like to create a own network. We will do this using the clone network function.\n",
    "\n",
    "When we have a network available for every dataset we have, we can set a visual style which maps the gene expression (logFC) and significance (p-value) for every gene node in the network per dataset. Fill in for the Automation function y, z and p. Whereas; y is the negative logFC cutoff, z is the positive logFC cutoff and p is the p-value."
   ]
  },
  {
   "cell_type": "code",
   "execution_count": 44,
   "metadata": {},
   "outputs": [],
   "source": [
    "# Fill in for the Automation function y, z and p. \n",
    "# Whereas negLogFC is the negative logFC cutoff, posLogFC is the positive logFC cutoff and pValue is the p-value.\n",
    "pValue <- 0.05\n",
    "negLogFC <- -0.26\n",
    "posLogFC <- 0.26"
   ]
  },
  {
   "cell_type": "code",
   "execution_count": 49,
   "metadata": {},
   "outputs": [],
   "source": [
    "Automation <- function(y,z,p,disease) {\n",
    "    \n",
    "# clone network\n",
    "cloneNetwork(network = \"MyNetwork\")\n",
    "setCurrentNetwork(network=\"MyNetwork_1\")\n",
    "renameNetwork(disease)\n",
    " \n",
    "# lock width and height of nodes\n",
    "lockNodeDimensions(TRUE)\n",
    "    \n",
    "# Map logFC and pValue per disease for every respective network and add visual style to every network\n",
    "setCurrentNetwork(network = disease)\n",
    "style.name = paste(\"style_\", disease, sep = \"\")\n",
    "  \n",
    "# map logFC of gene expression data per disease on respective networks\n",
    "mappings <- list(nodeFill <- mapVisualProperty(\"node fill color\", table.column = paste(\"logFC_\", disease , sep = \"\"), \n",
    "                                    mapping.type = \"continuous\",\n",
    "                                    c(y,0,z),\n",
    "                                    c(\"#0000FF\", \"#FFFFFF\", \"#FF0000\")),\n",
    "  \n",
    "# map significance per disease on respective networks\n",
    "nodeBorder <- mapVisualProperty(\"node border paint\", table.column = paste(\"PValue_\", disease, sep = \"\"),\n",
    "                                    mapping.type = \"continuous\",\n",
    "                                    table.column.values = c(0.00, p, 1.00), \n",
    "                                    c(\"#00FF00\", \"#FFFFFF\", \"#FFFFFF\")),\n",
    "  \n",
    "# map node shapes\n",
    "nodeShape <- mapVisualProperty(\"Node Shape\", table.column = \"type\", \n",
    "                                    mapping.type = \"discrete\", \n",
    "                                    table.column.values = c(\"Gene\", \"Process\", \"InflGene\"),\n",
    "                                    c(\"DIAMOND\", \"ELLIPSE\", \"VEE\")),\n",
    "  \n",
    "label <- mapVisualProperty(\"Node Label\", table.column = \"shared name\",\n",
    "                             mapping.type = \"passthrough\"))\n",
    "\n",
    "defaults <- list(NODE_FILL_COLOR = \"#999999\",\n",
    "                NODE_BORDER_PAINT = \"#999999\",\n",
    "                NODE_BORDER_WIDTH = 7,\n",
    "                NODE_LABEL_FONT_SIZE = 18,\n",
    "                NETWORK_TITLE = disease)\n",
    "  \n",
    "# create and set unique visual style per disease dataset\n",
    "createVisualStyle(style.name, defaults, mappings = mappings)\n",
    "setVisualStyle(style.name)\n",
    "\n",
    "# save disease networks\n",
    "setCurrentNetwork(network = disease)\n",
    "fitContent()\n",
    "  \n",
    "png.file <- file.path(getwd(), \"data-output\", \"images\", paste0(z, \"_gene_expr_network_\", disease, \".png\"))\n",
    "exportImage(png.file, type = \"png\", resolution=600, zoom=500)\n",
    "\n",
    "# create subnetwork of significant differentially expressed genes\n",
    "setCurrentNetwork(network = disease)\n",
    "  \n",
    "createColumnFilter(filter.name = \"expr genes\",     column = paste(\"logFC_\", disease, sep = \"\") , c(y,z), \"IS_NOT_BETWEEN\")\n",
    "createColumnFilter(filter.name = \"sig genes\",      column = paste(\"PValue_\", disease, sep = \"\"), p, \"LESS_THAN\")\n",
    "sigexpr <- createCompositeFilter('combined filter', filter.list = c(\"sig genes\", \"expr genes\"), type = \"ALL\")\n",
    "  \n",
    "process <- createColumnFilter(filter.name = \"Pathway filter\", column = \"type\", \"Process\", \"IS\")\n",
    "  \n",
    "selectNodes(nodes = c(process$nodes, sigexpr$nodes), by.col = \"shared name\")\n",
    "  \n",
    "createSubnetwork(nodes = \"selected\", subnetwork.name = paste0(\"subnetwork \", disease, \" genes\"))\n",
    "    \n",
    "setCurrentNetwork(network = paste0(\"subnetwork \", disease, \" genes\"))\n",
    "fitContent()\n",
    "  \n",
    "png.file <- file.path(getwd(), \"data-output\", \"images\", paste0(z, \"_subgene_expr_network_\", disease, \".png\"))\n",
    "exportImage(png.file, type = \"png\", resolution=600, zoom=500)\n",
    "\n",
    "# create subnetwork of significant differentially expressed inflammation genes\n",
    "setCurrentNetwork(network = disease)\n",
    "  \n",
    "createColumnFilter(filter.name = \"Infl filter\",    column = \"type\", \"InflGene\", \"IS\")\n",
    "createColumnFilter(filter.name = \"expr genes\",     column = paste(\"logFC_\", disease, sep = \"\") , c(y,z), \"IS_NOT_BETWEEN\")\n",
    "createColumnFilter(filter.name = \"sig genes\",      column = paste(\"PValue_\", disease, sep = \"\"), p, \"LESS_THAN\")\n",
    "sigexpr2 <- createCompositeFilter('combined filter', filter.list = c(\"Infl filter\", \"sig genes\", \"expr genes\"), type = \"ALL\")\n",
    "  \n",
    "process <- createColumnFilter(filter.name = \"Pathway filter\", column = \"type\", \"Process\", \"IS\")\n",
    "  \n",
    "selectNodes(nodes = c(process$nodes, sigexpr2$nodes), by.col = \"shared name\")\n",
    "  \n",
    "createSubnetwork(nodes = \"selected\", subnetwork.name = paste0(\"subnetwork \", disease, \" inflGenes\"))\n",
    "    \n",
    "setCurrentNetwork(network = paste0(\"subnetwork \", disease, \" inflGenes\"))\n",
    "fitContent()\n",
    "  \n",
    "png.file <- file.path(getwd(), \"data-output\", \"images\", paste0(z, \"_subinflgene_expr_network_\", disease, \".png\"))\n",
    "exportImage(png.file, type = \"png\", resolution=600, zoom=500)\n",
    "\n",
    "}"
   ]
  },
  {
   "cell_type": "code",
   "execution_count": 50,
   "metadata": {},
   "outputs": [
    {
     "name": "stdout",
     "output_type": "stream",
     "text": [
      "[1] \"BC\"\n",
      "[1] \"MUO\"\n",
      "[1] \"RA\"\n",
      "[1] \"DCM\"\n"
     ]
    }
   ],
   "source": [
    "# fill in abbreviations used for disease gene expression daatasets, same abbreviation used for logFC_x and PValue_x\n",
    "diseases <- c(\"BC\",\"MUO\",\"RA\",\"DCM\")\n",
    "\n",
    "# loop over function for every disease dataset\n",
    "for(i in 1:length(diseases)) {\n",
    "    print(diseases[i])\n",
    "    Automation(y = negLogFC, z = posLogFC, p = pValue, disease = diseases[i])\n",
    "}\n",
    "\n",
    "# save Cytoscape session\n",
    "session.file <- file.path(getwd(), \"data-output\", \"networks\", paste0(posLogFC, \"_gene_expr_networks.cys\"))\n",
    "saveSession(session.file)"
   ]
  },
  {
   "cell_type": "code",
   "execution_count": 51,
   "metadata": {},
   "outputs": [
    {
     "data": {
      "text/plain": [
       "R version 3.5.1 (2018-07-02)\n",
       "Platform: x86_64-w64-mingw32/x64 (64-bit)\n",
       "Running under: Windows 10 x64 (build 17134)\n",
       "\n",
       "Matrix products: default\n",
       "\n",
       "locale:\n",
       "[1] LC_COLLATE=Dutch_Netherlands.1252  LC_CTYPE=Dutch_Netherlands.1252   \n",
       "[3] LC_MONETARY=Dutch_Netherlands.1252 LC_NUMERIC=C                      \n",
       "[5] LC_TIME=Dutch_Netherlands.1252    \n",
       "\n",
       "attached base packages:\n",
       "[1] stats     graphics  grDevices utils     datasets  methods   base     \n",
       "\n",
       "other attached packages:\n",
       "[1] RCy3_2.2.6           RevoUtils_11.0.1     RevoUtilsMath_11.0.0\n",
       "\n",
       "loaded via a namespace (and not attached):\n",
       " [1] igraph_1.2.2        graph_1.60.0        Rcpp_1.0.0         \n",
       " [4] magrittr_1.5        BiocGenerics_0.28.0 uuid_0.1-2         \n",
       " [7] R6_2.3.0            httr_1.4.0          tools_3.5.1        \n",
       "[10] parallel_3.5.1      R.oo_1.22.0         htmltools_0.3.6    \n",
       "[13] digest_0.6.18       crayon_1.3.4        RJSONIO_1.3-1.1    \n",
       "[16] IRdisplay_0.7.0     repr_0.19.1         base64enc_0.1-3    \n",
       "[19] R.utils_2.7.0       curl_3.3            IRkernel_0.8.15    \n",
       "[22] evaluate_0.12       pbdZMQ_0.3-3        compiler_3.5.1     \n",
       "[25] R.methodsS3_1.7.1   stats4_3.5.1        XML_3.98-1.19      \n",
       "[28] jsonlite_1.6        pkgconfig_2.0.2    "
      ]
     },
     "metadata": {},
     "output_type": "display_data"
    }
   ],
   "source": [
    "# information about session\n",
    "sessionInfo()"
   ]
  }
 ],
 "metadata": {
  "kernelspec": {
   "display_name": "R",
   "language": "R",
   "name": "ir"
  },
  "language_info": {
   "codemirror_mode": "r",
   "file_extension": ".r",
   "mimetype": "text/x-r-source",
   "name": "R",
   "pygments_lexer": "r",
   "version": "3.5.1"
  }
 },
 "nbformat": 4,
 "nbformat_minor": 2
}
