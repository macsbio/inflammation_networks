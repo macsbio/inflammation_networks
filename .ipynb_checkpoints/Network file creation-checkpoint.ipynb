{
 "cells": [
  {
   "cell_type": "markdown",
   "metadata": {},
   "source": [
    "# Network file creation\n",
    "In this notebook we will create files which can be used in the Cytoscape STRING automation with the RCy3 package. These network files will contain an edge table and an node table. These will be based on the pathways selected which was described in a previous jupyter notebook."
   ]
  },
  {
   "cell_type": "code",
   "execution_count": 1,
   "metadata": {},
   "outputs": [
    {
     "data": {
      "text/html": [
       "'C:/Users/Laurent/Documents/GitHub/inflammation_networks2'"
      ],
      "text/latex": [
       "'C:/Users/Laurent/Documents/GitHub/inflammation\\_networks2'"
      ],
      "text/markdown": [
       "'C:/Users/Laurent/Documents/GitHub/inflammation_networks2'"
      ],
      "text/plain": [
       "[1] \"C:/Users/Laurent/Documents/GitHub/inflammation_networks2\""
      ]
     },
     "metadata": {},
     "output_type": "display_data"
    }
   ],
   "source": [
    "# check wd\n",
    "getwd()"
   ]
  },
  {
   "cell_type": "code",
   "execution_count": 2,
   "metadata": {},
   "outputs": [
    {
     "name": "stderr",
     "output_type": "stream",
     "text": [
      "Warning message:\n",
      "\"package 'qusage' was built under R version 3.5.2\"\n",
      "Attaching package: 'dplyr'\n",
      "\n",
      "The following objects are masked from 'package:plyr':\n",
      "\n",
      "    arrange, count, desc, failwith, id, mutate, rename, summarise,\n",
      "    summarize\n",
      "\n",
      "The following objects are masked from 'package:stats':\n",
      "\n",
      "    filter, lag\n",
      "\n",
      "The following objects are masked from 'package:base':\n",
      "\n",
      "    intersect, setdiff, setequal, union\n",
      "\n",
      "Warning message:\n",
      "\"package 'tidyr' was built under R version 3.5.2\""
     ]
    }
   ],
   "source": [
    "# load libraries\n",
    "library(limma)\n",
    "library(qusage)\n",
    "library(plyr)\n",
    "library(dplyr)\n",
    "library(tidyr)\n",
    "library(biomaRt)"
   ]
  },
  {
   "cell_type": "markdown",
   "metadata": {},
   "source": [
    "First we will load in the same .gmt files for all three databases and combine these together."
   ]
  },
  {
   "cell_type": "code",
   "execution_count": 3,
   "metadata": {},
   "outputs": [
    {
     "name": "stderr",
     "output_type": "stream",
     "text": [
      "Warning message in readLines(file):\n",
      "\"incomplete final line found on 'C:/Users/Laurent/Documents/GitHub/inflammation_networks2/data-input/wikipathways-20190410-gmt-Homo_sapiens.gmt'\""
     ]
    },
    {
     "data": {
      "text/html": [
       "<table>\n",
       "<thead><tr><th scope=col>pathway</th><th scope=col>entrezgene</th></tr></thead>\n",
       "<tbody>\n",
       "\t<tr><td>KEGG_GLYCOLYSIS_GLUCONEOGENESIS</td><td>55902                          </td></tr>\n",
       "\t<tr><td>KEGG_GLYCOLYSIS_GLUCONEOGENESIS</td><td>2645                           </td></tr>\n",
       "\t<tr><td>KEGG_GLYCOLYSIS_GLUCONEOGENESIS</td><td>5232                           </td></tr>\n",
       "\t<tr><td>KEGG_GLYCOLYSIS_GLUCONEOGENESIS</td><td>5230                           </td></tr>\n",
       "\t<tr><td>KEGG_GLYCOLYSIS_GLUCONEOGENESIS</td><td>5162                           </td></tr>\n",
       "\t<tr><td>KEGG_GLYCOLYSIS_GLUCONEOGENESIS</td><td>5160                           </td></tr>\n",
       "</tbody>\n",
       "</table>\n"
      ],
      "text/latex": [
       "\\begin{tabular}{r|ll}\n",
       " pathway & entrezgene\\\\\n",
       "\\hline\n",
       "\t KEGG\\_GLYCOLYSIS\\_GLUCONEOGENESIS & 55902                              \\\\\n",
       "\t KEGG\\_GLYCOLYSIS\\_GLUCONEOGENESIS & 2645                               \\\\\n",
       "\t KEGG\\_GLYCOLYSIS\\_GLUCONEOGENESIS & 5232                               \\\\\n",
       "\t KEGG\\_GLYCOLYSIS\\_GLUCONEOGENESIS & 5230                               \\\\\n",
       "\t KEGG\\_GLYCOLYSIS\\_GLUCONEOGENESIS & 5162                               \\\\\n",
       "\t KEGG\\_GLYCOLYSIS\\_GLUCONEOGENESIS & 5160                               \\\\\n",
       "\\end{tabular}\n"
      ],
      "text/markdown": [
       "\n",
       "| pathway | entrezgene |\n",
       "|---|---|\n",
       "| KEGG_GLYCOLYSIS_GLUCONEOGENESIS | 55902                           |\n",
       "| KEGG_GLYCOLYSIS_GLUCONEOGENESIS | 2645                            |\n",
       "| KEGG_GLYCOLYSIS_GLUCONEOGENESIS | 5232                            |\n",
       "| KEGG_GLYCOLYSIS_GLUCONEOGENESIS | 5230                            |\n",
       "| KEGG_GLYCOLYSIS_GLUCONEOGENESIS | 5162                            |\n",
       "| KEGG_GLYCOLYSIS_GLUCONEOGENESIS | 5160                            |\n",
       "\n"
      ],
      "text/plain": [
       "  pathway                         entrezgene\n",
       "1 KEGG_GLYCOLYSIS_GLUCONEOGENESIS 55902     \n",
       "2 KEGG_GLYCOLYSIS_GLUCONEOGENESIS 2645      \n",
       "3 KEGG_GLYCOLYSIS_GLUCONEOGENESIS 5232      \n",
       "4 KEGG_GLYCOLYSIS_GLUCONEOGENESIS 5230      \n",
       "5 KEGG_GLYCOLYSIS_GLUCONEOGENESIS 5162      \n",
       "6 KEGG_GLYCOLYSIS_GLUCONEOGENESIS 5160      "
      ]
     },
     "metadata": {},
     "output_type": "display_data"
    }
   ],
   "source": [
    "# KEGG\n",
    "kegg <- read.gmt(file.path(getwd(), \"data-input\", \"c2.cp.kegg.v6.2.entrez.gmt\"))\n",
    "kegg <- ldply(kegg, data.frame)\n",
    "colnames(kegg)[c(1,2)] <- c(\"pathway\", \"entrezgene\")\n",
    "\n",
    "### REACTOME\n",
    "reactome <- read.gmt(file.path(getwd(), \"data-input\", \"c2.cp.reactome.v6.2.entrez.gmt\"))\n",
    "reactome <- ldply(reactome, data.frame)\n",
    "colnames(reactome)[c(1,2)] <- c(\"pathway\", \"entrezgene\")\n",
    "\n",
    "### WikiPathways\n",
    "wp <- read.gmt(file.path(getwd(), \"data-input\", \"wikipathways-20190410-gmt-Homo_sapiens.gmt\"))\n",
    "wp <- ldply(wp, data.frame)\n",
    "colnames(wp)[c(1,2)] <- c(\"pathway\", \"entrezgene\")\n",
    "\n",
    "# combine databases\n",
    "allDatabases <- rbind(kegg, reactome, wp)\n",
    "head(allDatabases)"
   ]
  },
  {
   "cell_type": "markdown",
   "metadata": {},
   "source": [
    "Load in disgenet file for later use."
   ]
  },
  {
   "cell_type": "code",
   "execution_count": 4,
   "metadata": {},
   "outputs": [
    {
     "data": {
      "text/html": [
       "<table>\n",
       "<thead><tr><th scope=col>diseaseid</th><th scope=col>disease_name</th><th scope=col>geneid</th><th scope=col>symbol</th><th scope=col>uniprot</th><th scope=col>protein_class</th><th scope=col>gene_name</th><th scope=col>dsi</th><th scope=col>dpi</th><th scope=col>pli</th><th scope=col>score</th><th scope=col>el</th><th scope=col>ei</th><th scope=col>npmids</th><th scope=col>nsnps</th><th scope=col>year_initial</th><th scope=col>year_final</th></tr></thead>\n",
       "<tbody>\n",
       "\t<tr><td>C0021368                         </td><td>Inflammation                     </td><td>3576                             </td><td>CXCL8                            </td><td>P10145                           </td><td>signaling molecule               </td><td>C-X-C motif chemokine ligand 8   </td><td>0.342                            </td><td>0.862                            </td><td>       NA                        </td><td>0.40                             </td><td>no reported evidence             </td><td>NA                               </td><td>13                               </td><td>0                                </td><td>2003                             </td><td>2015                             </td></tr>\n",
       "\t<tr><td>C0021368                         </td><td>Inflammation                     </td><td>1401                             </td><td>CRP                              </td><td>P02741                           </td><td>                                 </td><td>C-reactive protein               </td><td>0.399                            </td><td>0.862                            </td><td>0.0037357                        </td><td>0.40                             </td><td>no reported evidence             </td><td>NA                               </td><td>18                               </td><td>0                                </td><td>2001                             </td><td>2011                             </td></tr>\n",
       "\t<tr><td>C0021368                         </td><td>Inflammation                     </td><td>7124                             </td><td>TNF                              </td><td>P01375                           </td><td>signaling molecule               </td><td>tumor necrosis factor            </td><td>0.263                            </td><td>0.966                            </td><td>0.8046000                        </td><td>0.40                             </td><td>no reported evidence             </td><td>NA                               </td><td>26                               </td><td>0                                </td><td>2001                             </td><td>2014                             </td></tr>\n",
       "\t<tr><td>C0021368                         </td><td>Inflammation                     </td><td>7040                             </td><td>TGFB1                            </td><td>P01137                           </td><td>signaling molecule               </td><td>transforming growth factor beta 1</td><td>0.336                            </td><td>0.931                            </td><td>0.1718200                        </td><td>0.38                             </td><td>no reported evidence             </td><td>NA                               </td><td>10                               </td><td>0                                </td><td>2002                             </td><td>2010                             </td></tr>\n",
       "\t<tr><td>C0021368                         </td><td>Inflammation                     </td><td>3569                             </td><td>IL6                              </td><td>P05231                           </td><td>                                 </td><td>interleukin 6                    </td><td>0.287                            </td><td>0.966                            </td><td>0.3387300                        </td><td>0.37                             </td><td>no reported evidence             </td><td>NA                               </td><td>18                               </td><td>0                                </td><td>2001                             </td><td>2016                             </td></tr>\n",
       "\t<tr><td>C0021368                         </td><td>Inflammation                     </td><td>3553                             </td><td>IL1B                             </td><td>P01584                           </td><td>                                 </td><td>interleukin 1 beta               </td><td>0.312                            </td><td>0.931                            </td><td>0.1256800                        </td><td>0.37                             </td><td>no reported evidence             </td><td>NA                               </td><td>16                               </td><td>0                                </td><td>1999                             </td><td>2017                             </td></tr>\n",
       "</tbody>\n",
       "</table>\n"
      ],
      "text/latex": [
       "\\begin{tabular}{r|lllllllllllllllll}\n",
       " diseaseid & disease\\_name & geneid & symbol & uniprot & protein\\_class & gene\\_name & dsi & dpi & pli & score & el & ei & npmids & nsnps & year\\_initial & year\\_final\\\\\n",
       "\\hline\n",
       "\t C0021368                          & Inflammation                      & 3576                              & CXCL8                             & P10145                            & signaling molecule                & C-X-C motif chemokine ligand 8    & 0.342                             & 0.862                             &        NA                         & 0.40                              & no reported evidence              & NA                                & 13                                & 0                                 & 2003                              & 2015                             \\\\\n",
       "\t C0021368                          & Inflammation                      & 1401                              & CRP                               & P02741                            &                                   & C-reactive protein                & 0.399                             & 0.862                             & 0.0037357                         & 0.40                              & no reported evidence              & NA                                & 18                                & 0                                 & 2001                              & 2011                             \\\\\n",
       "\t C0021368                          & Inflammation                      & 7124                              & TNF                               & P01375                            & signaling molecule                & tumor necrosis factor             & 0.263                             & 0.966                             & 0.8046000                         & 0.40                              & no reported evidence              & NA                                & 26                                & 0                                 & 2001                              & 2014                             \\\\\n",
       "\t C0021368                          & Inflammation                      & 7040                              & TGFB1                             & P01137                            & signaling molecule                & transforming growth factor beta 1 & 0.336                             & 0.931                             & 0.1718200                         & 0.38                              & no reported evidence              & NA                                & 10                                & 0                                 & 2002                              & 2010                             \\\\\n",
       "\t C0021368                          & Inflammation                      & 3569                              & IL6                               & P05231                            &                                   & interleukin 6                     & 0.287                             & 0.966                             & 0.3387300                         & 0.37                              & no reported evidence              & NA                                & 18                                & 0                                 & 2001                              & 2016                             \\\\\n",
       "\t C0021368                          & Inflammation                      & 3553                              & IL1B                              & P01584                            &                                   & interleukin 1 beta                & 0.312                             & 0.931                             & 0.1256800                         & 0.37                              & no reported evidence              & NA                                & 16                                & 0                                 & 1999                              & 2017                             \\\\\n",
       "\\end{tabular}\n"
      ],
      "text/markdown": [
       "\n",
       "| diseaseid | disease_name | geneid | symbol | uniprot | protein_class | gene_name | dsi | dpi | pli | score | el | ei | npmids | nsnps | year_initial | year_final |\n",
       "|---|---|---|---|---|---|---|---|---|---|---|---|---|---|---|---|---|\n",
       "| C0021368                          | Inflammation                      | 3576                              | CXCL8                             | P10145                            | signaling molecule                | C-X-C motif chemokine ligand 8    | 0.342                             | 0.862                             |        NA                         | 0.40                              | no reported evidence              | NA                                | 13                                | 0                                 | 2003                              | 2015                              |\n",
       "| C0021368                          | Inflammation                      | 1401                              | CRP                               | P02741                            |                                   | C-reactive protein                | 0.399                             | 0.862                             | 0.0037357                         | 0.40                              | no reported evidence              | NA                                | 18                                | 0                                 | 2001                              | 2011                              |\n",
       "| C0021368                          | Inflammation                      | 7124                              | TNF                               | P01375                            | signaling molecule                | tumor necrosis factor             | 0.263                             | 0.966                             | 0.8046000                         | 0.40                              | no reported evidence              | NA                                | 26                                | 0                                 | 2001                              | 2014                              |\n",
       "| C0021368                          | Inflammation                      | 7040                              | TGFB1                             | P01137                            | signaling molecule                | transforming growth factor beta 1 | 0.336                             | 0.931                             | 0.1718200                         | 0.38                              | no reported evidence              | NA                                | 10                                | 0                                 | 2002                              | 2010                              |\n",
       "| C0021368                          | Inflammation                      | 3569                              | IL6                               | P05231                            |                                   | interleukin 6                     | 0.287                             | 0.966                             | 0.3387300                         | 0.37                              | no reported evidence              | NA                                | 18                                | 0                                 | 2001                              | 2016                              |\n",
       "| C0021368                          | Inflammation                      | 3553                              | IL1B                              | P01584                            |                                   | interleukin 1 beta                | 0.312                             | 0.931                             | 0.1256800                         | 0.37                              | no reported evidence              | NA                                | 16                                | 0                                 | 1999                              | 2017                              |\n",
       "\n"
      ],
      "text/plain": [
       "  diseaseid disease_name geneid symbol uniprot protein_class     \n",
       "1 C0021368  Inflammation 3576   CXCL8  P10145  signaling molecule\n",
       "2 C0021368  Inflammation 1401   CRP    P02741                    \n",
       "3 C0021368  Inflammation 7124   TNF    P01375  signaling molecule\n",
       "4 C0021368  Inflammation 7040   TGFB1  P01137  signaling molecule\n",
       "5 C0021368  Inflammation 3569   IL6    P05231                    \n",
       "6 C0021368  Inflammation 3553   IL1B   P01584                    \n",
       "  gene_name                         dsi   dpi   pli       score\n",
       "1 C-X-C motif chemokine ligand 8    0.342 0.862        NA 0.40 \n",
       "2 C-reactive protein                0.399 0.862 0.0037357 0.40 \n",
       "3 tumor necrosis factor             0.263 0.966 0.8046000 0.40 \n",
       "4 transforming growth factor beta 1 0.336 0.931 0.1718200 0.38 \n",
       "5 interleukin 6                     0.287 0.966 0.3387300 0.37 \n",
       "6 interleukin 1 beta                0.312 0.931 0.1256800 0.37 \n",
       "  el                   ei npmids nsnps year_initial year_final\n",
       "1 no reported evidence NA 13     0     2003         2015      \n",
       "2 no reported evidence NA 18     0     2001         2011      \n",
       "3 no reported evidence NA 26     0     2001         2014      \n",
       "4 no reported evidence NA 10     0     2002         2010      \n",
       "5 no reported evidence NA 18     0     2001         2016      \n",
       "6 no reported evidence NA 16     0     1999         2017      "
      ]
     },
     "metadata": {},
     "output_type": "display_data"
    },
    {
     "data": {
      "text/html": [
       "<table>\n",
       "<thead><tr><th scope=col>entrezgene</th><th scope=col>hgnc_symbol</th><th scope=col>dis_score</th></tr></thead>\n",
       "<tbody>\n",
       "\t<tr><td>3576 </td><td>CXCL8</td><td>0.40 </td></tr>\n",
       "\t<tr><td>1401 </td><td>CRP  </td><td>0.40 </td></tr>\n",
       "\t<tr><td>7124 </td><td>TNF  </td><td>0.40 </td></tr>\n",
       "\t<tr><td>7040 </td><td>TGFB1</td><td>0.38 </td></tr>\n",
       "\t<tr><td>3569 </td><td>IL6  </td><td>0.37 </td></tr>\n",
       "\t<tr><td>3553 </td><td>IL1B </td><td>0.37 </td></tr>\n",
       "</tbody>\n",
       "</table>\n"
      ],
      "text/latex": [
       "\\begin{tabular}{r|lll}\n",
       " entrezgene & hgnc\\_symbol & dis\\_score\\\\\n",
       "\\hline\n",
       "\t 3576  & CXCL8 & 0.40 \\\\\n",
       "\t 1401  & CRP   & 0.40 \\\\\n",
       "\t 7124  & TNF   & 0.40 \\\\\n",
       "\t 7040  & TGFB1 & 0.38 \\\\\n",
       "\t 3569  & IL6   & 0.37 \\\\\n",
       "\t 3553  & IL1B  & 0.37 \\\\\n",
       "\\end{tabular}\n"
      ],
      "text/markdown": [
       "\n",
       "| entrezgene | hgnc_symbol | dis_score |\n",
       "|---|---|---|\n",
       "| 3576  | CXCL8 | 0.40  |\n",
       "| 1401  | CRP   | 0.40  |\n",
       "| 7124  | TNF   | 0.40  |\n",
       "| 7040  | TGFB1 | 0.38  |\n",
       "| 3569  | IL6   | 0.37  |\n",
       "| 3553  | IL1B  | 0.37  |\n",
       "\n"
      ],
      "text/plain": [
       "  entrezgene hgnc_symbol dis_score\n",
       "1 3576       CXCL8       0.40     \n",
       "2 1401       CRP         0.40     \n",
       "3 7124       TNF         0.40     \n",
       "4 7040       TGFB1       0.38     \n",
       "5 3569       IL6         0.37     \n",
       "6 3553       IL1B        0.37     "
      ]
     },
     "metadata": {},
     "output_type": "display_data"
    },
    {
     "data": {
      "text/html": [
       "'The number of genes is 201.'"
      ],
      "text/latex": [
       "'The number of genes is 201.'"
      ],
      "text/markdown": [
       "'The number of genes is 201.'"
      ],
      "text/plain": [
       "[1] \"The number of genes is 201.\""
      ]
     },
     "metadata": {},
     "output_type": "display_data"
    }
   ],
   "source": [
    "# disgenet\n",
    "# load in disgenet file\n",
    "disgenet <- read.delim(file.path(getwd(), \"data-input\", \"C0021368_disease_gda_summary.tsv\"))\n",
    "\n",
    "# check head of disgenet file\n",
    "head(disgenet)\n",
    "disgenet <- disgenet[,c(\"geneid\", \"symbol\", \"score\")]\n",
    "colnames(disgenet)[c(1,2,3)] <- c(\"entrezgene\", \"hgnc_symbol\", \"dis_score\")\n",
    "\n",
    "# filtered\n",
    "infl <- disgenet[disgenet$dis_score > 0.01,]\n",
    "head(infl)\n",
    "paste0(\"The number of genes is \", nrow(infl), \".\")"
   ]
  },
  {
   "cell_type": "markdown",
   "metadata": {},
   "source": [
    "Next, we will load in the file that contains the selected pathways. In this file an extra column is added which contains the process clusters. Note that this clustering is done manually based on literature and prior knowledge! Additionally, pathways that described disease processes were removed."
   ]
  },
  {
   "cell_type": "code",
   "execution_count": 5,
   "metadata": {},
   "outputs": [
    {
     "data": {
      "text/html": [
       "<table>\n",
       "<thead><tr><th scope=col>pathway</th><th scope=col>process</th></tr></thead>\n",
       "<tbody>\n",
       "\t<tr><td>ACE Inhibitor Pathway%WikiPathways_20190410%WP554%Homo sapiens                                              </td><td>Angiogenesis                                                                                                </td></tr>\n",
       "\t<tr><td>Angiogenesis%WikiPathways_20190410%WP1539%Homo sapiens                                                      </td><td>Angiogenesis                                                                                                </td></tr>\n",
       "\t<tr><td>REACTOME_CREATION_OF_C4_AND_C2_ACTIVATORS                                                                   </td><td>Complement                                                                                                  </td></tr>\n",
       "\t<tr><td>Cytokines and Inflammatory Response%WikiPathways_20190410%WP530%Homo sapiens                                </td><td>Cytokines                                                                                                   </td></tr>\n",
       "\t<tr><td>IL-10 Anti-inflammatory Signaling Pathway %WikiPathways_20190410%WP4495%Homo sapiens                        </td><td>Cytokines                                                                                                   </td></tr>\n",
       "\t<tr><td>Platelet-mediated interactions with vascular and circulating cells%WikiPathways_20190410%WP4462%Homo sapiens</td><td>Cytokines                                                                                                   </td></tr>\n",
       "</tbody>\n",
       "</table>\n"
      ],
      "text/latex": [
       "\\begin{tabular}{r|ll}\n",
       " pathway & process\\\\\n",
       "\\hline\n",
       "\t ACE Inhibitor Pathway\\%WikiPathways\\_20190410\\%WP554\\%Homo sapiens                                               & Angiogenesis                                                                                                        \\\\\n",
       "\t Angiogenesis\\%WikiPathways\\_20190410\\%WP1539\\%Homo sapiens                                                       & Angiogenesis                                                                                                        \\\\\n",
       "\t REACTOME\\_CREATION\\_OF\\_C4\\_AND\\_C2\\_ACTIVATORS                                                                    & Complement                                                                                                              \\\\\n",
       "\t Cytokines and Inflammatory Response\\%WikiPathways\\_20190410\\%WP530\\%Homo sapiens                                 & Cytokines                                                                                                           \\\\\n",
       "\t IL-10 Anti-inflammatory Signaling Pathway \\%WikiPathways\\_20190410\\%WP4495\\%Homo sapiens                         & Cytokines                                                                                                           \\\\\n",
       "\t Platelet-mediated interactions with vascular and circulating cells\\%WikiPathways\\_20190410\\%WP4462\\%Homo sapiens & Cytokines                                                                                                           \\\\\n",
       "\\end{tabular}\n"
      ],
      "text/markdown": [
       "\n",
       "| pathway | process |\n",
       "|---|---|\n",
       "| ACE Inhibitor Pathway%WikiPathways_20190410%WP554%Homo sapiens                                               | Angiogenesis                                                                                                 |\n",
       "| Angiogenesis%WikiPathways_20190410%WP1539%Homo sapiens                                                       | Angiogenesis                                                                                                 |\n",
       "| REACTOME_CREATION_OF_C4_AND_C2_ACTIVATORS                                                                    | Complement                                                                                                   |\n",
       "| Cytokines and Inflammatory Response%WikiPathways_20190410%WP530%Homo sapiens                                 | Cytokines                                                                                                    |\n",
       "| IL-10 Anti-inflammatory Signaling Pathway %WikiPathways_20190410%WP4495%Homo sapiens                         | Cytokines                                                                                                    |\n",
       "| Platelet-mediated interactions with vascular and circulating cells%WikiPathways_20190410%WP4462%Homo sapiens | Cytokines                                                                                                    |\n",
       "\n"
      ],
      "text/plain": [
       "  pathway                                                                                                     \n",
       "1 ACE Inhibitor Pathway%WikiPathways_20190410%WP554%Homo sapiens                                              \n",
       "2 Angiogenesis%WikiPathways_20190410%WP1539%Homo sapiens                                                      \n",
       "3 REACTOME_CREATION_OF_C4_AND_C2_ACTIVATORS                                                                   \n",
       "4 Cytokines and Inflammatory Response%WikiPathways_20190410%WP530%Homo sapiens                                \n",
       "5 IL-10 Anti-inflammatory Signaling Pathway %WikiPathways_20190410%WP4495%Homo sapiens                        \n",
       "6 Platelet-mediated interactions with vascular and circulating cells%WikiPathways_20190410%WP4462%Homo sapiens\n",
       "  process     \n",
       "1 Angiogenesis\n",
       "2 Angiogenesis\n",
       "3 Complement  \n",
       "4 Cytokines   \n",
       "5 Cytokines   \n",
       "6 Cytokines   "
      ]
     },
     "metadata": {},
     "output_type": "display_data"
    }
   ],
   "source": [
    "# load in selected pathways\n",
    "selectedpws <- read.table(file.path(getwd(), \"data-output\", \"20190509selectedpws.txt\"), header = T, sep = \"\\t\")\n",
    "head(selectedpws)"
   ]
  },
  {
   "cell_type": "markdown",
   "metadata": {},
   "source": [
    "First, lets create the edge table file!"
   ]
  },
  {
   "cell_type": "code",
   "execution_count": 6,
   "metadata": {},
   "outputs": [
    {
     "data": {
      "text/html": [
       "<table>\n",
       "<thead><tr><th></th><th scope=col>pathway</th><th scope=col>entrezgene</th></tr></thead>\n",
       "<tbody>\n",
       "\t<tr><th scope=row>7430</th><td>KEGG_NOD_LIKE_RECEPTOR_SIGNALING_PATHWAY</td><td>7205                                    </td></tr>\n",
       "\t<tr><th scope=row>7431</th><td>KEGG_NOD_LIKE_RECEPTOR_SIGNALING_PATHWAY</td><td>841                                     </td></tr>\n",
       "\t<tr><th scope=row>7432</th><td>KEGG_NOD_LIKE_RECEPTOR_SIGNALING_PATHWAY</td><td>1147                                    </td></tr>\n",
       "\t<tr><th scope=row>7433</th><td>KEGG_NOD_LIKE_RECEPTOR_SIGNALING_PATHWAY</td><td>257397                                  </td></tr>\n",
       "\t<tr><th scope=row>7434</th><td>KEGG_NOD_LIKE_RECEPTOR_SIGNALING_PATHWAY</td><td>2919                                    </td></tr>\n",
       "\t<tr><th scope=row>7435</th><td>KEGG_NOD_LIKE_RECEPTOR_SIGNALING_PATHWAY</td><td>8767                                    </td></tr>\n",
       "</tbody>\n",
       "</table>\n"
      ],
      "text/latex": [
       "\\begin{tabular}{r|ll}\n",
       "  & pathway & entrezgene\\\\\n",
       "\\hline\n",
       "\t7430 & KEGG\\_NOD\\_LIKE\\_RECEPTOR\\_SIGNALING\\_PATHWAY & 7205                                              \\\\\n",
       "\t7431 & KEGG\\_NOD\\_LIKE\\_RECEPTOR\\_SIGNALING\\_PATHWAY & 841                                               \\\\\n",
       "\t7432 & KEGG\\_NOD\\_LIKE\\_RECEPTOR\\_SIGNALING\\_PATHWAY & 1147                                              \\\\\n",
       "\t7433 & KEGG\\_NOD\\_LIKE\\_RECEPTOR\\_SIGNALING\\_PATHWAY & 257397                                            \\\\\n",
       "\t7434 & KEGG\\_NOD\\_LIKE\\_RECEPTOR\\_SIGNALING\\_PATHWAY & 2919                                              \\\\\n",
       "\t7435 & KEGG\\_NOD\\_LIKE\\_RECEPTOR\\_SIGNALING\\_PATHWAY & 8767                                              \\\\\n",
       "\\end{tabular}\n"
      ],
      "text/markdown": [
       "\n",
       "| <!--/--> | pathway | entrezgene |\n",
       "|---|---|---|\n",
       "| 7430 | KEGG_NOD_LIKE_RECEPTOR_SIGNALING_PATHWAY | 7205                                     |\n",
       "| 7431 | KEGG_NOD_LIKE_RECEPTOR_SIGNALING_PATHWAY | 841                                      |\n",
       "| 7432 | KEGG_NOD_LIKE_RECEPTOR_SIGNALING_PATHWAY | 1147                                     |\n",
       "| 7433 | KEGG_NOD_LIKE_RECEPTOR_SIGNALING_PATHWAY | 257397                                   |\n",
       "| 7434 | KEGG_NOD_LIKE_RECEPTOR_SIGNALING_PATHWAY | 2919                                     |\n",
       "| 7435 | KEGG_NOD_LIKE_RECEPTOR_SIGNALING_PATHWAY | 8767                                     |\n",
       "\n"
      ],
      "text/plain": [
       "     pathway                                  entrezgene\n",
       "7430 KEGG_NOD_LIKE_RECEPTOR_SIGNALING_PATHWAY 7205      \n",
       "7431 KEGG_NOD_LIKE_RECEPTOR_SIGNALING_PATHWAY 841       \n",
       "7432 KEGG_NOD_LIKE_RECEPTOR_SIGNALING_PATHWAY 1147      \n",
       "7433 KEGG_NOD_LIKE_RECEPTOR_SIGNALING_PATHWAY 257397    \n",
       "7434 KEGG_NOD_LIKE_RECEPTOR_SIGNALING_PATHWAY 2919      \n",
       "7435 KEGG_NOD_LIKE_RECEPTOR_SIGNALING_PATHWAY 8767      "
      ]
     },
     "metadata": {},
     "output_type": "display_data"
    },
    {
     "data": {
      "text/html": [
       "<table>\n",
       "<thead><tr><th></th><th scope=col>pathway</th><th scope=col>entrezgene</th></tr></thead>\n",
       "<tbody>\n",
       "\t<tr><th scope=row>72283</th><td>Platelet-mediated interactions with vascular and circulating cells%WikiPathways_20190410%WP4462%Homo sapiens</td><td>3553                                                                                                        </td></tr>\n",
       "\t<tr><th scope=row>72284</th><td>Platelet-mediated interactions with vascular and circulating cells%WikiPathways_20190410%WP4462%Homo sapiens</td><td>6403                                                                                                        </td></tr>\n",
       "\t<tr><th scope=row>72285</th><td>Platelet-mediated interactions with vascular and circulating cells%WikiPathways_20190410%WP4462%Homo sapiens</td><td>6347                                                                                                        </td></tr>\n",
       "\t<tr><th scope=row>72286</th><td>Platelet-mediated interactions with vascular and circulating cells%WikiPathways_20190410%WP4462%Homo sapiens</td><td>6404                                                                                                        </td></tr>\n",
       "\t<tr><th scope=row>72287</th><td>Platelet-mediated interactions with vascular and circulating cells%WikiPathways_20190410%WP4462%Homo sapiens</td><td>958                                                                                                         </td></tr>\n",
       "\t<tr><th scope=row>72288</th><td>Platelet-mediated interactions with vascular and circulating cells%WikiPathways_20190410%WP4462%Homo sapiens</td><td>959                                                                                                         </td></tr>\n",
       "</tbody>\n",
       "</table>\n"
      ],
      "text/latex": [
       "\\begin{tabular}{r|ll}\n",
       "  & pathway & entrezgene\\\\\n",
       "\\hline\n",
       "\t72283 & Platelet-mediated interactions with vascular and circulating cells\\%WikiPathways\\_20190410\\%WP4462\\%Homo sapiens & 3553                                                                                                                \\\\\n",
       "\t72284 & Platelet-mediated interactions with vascular and circulating cells\\%WikiPathways\\_20190410\\%WP4462\\%Homo sapiens & 6403                                                                                                                \\\\\n",
       "\t72285 & Platelet-mediated interactions with vascular and circulating cells\\%WikiPathways\\_20190410\\%WP4462\\%Homo sapiens & 6347                                                                                                                \\\\\n",
       "\t72286 & Platelet-mediated interactions with vascular and circulating cells\\%WikiPathways\\_20190410\\%WP4462\\%Homo sapiens & 6404                                                                                                                \\\\\n",
       "\t72287 & Platelet-mediated interactions with vascular and circulating cells\\%WikiPathways\\_20190410\\%WP4462\\%Homo sapiens & 958                                                                                                                 \\\\\n",
       "\t72288 & Platelet-mediated interactions with vascular and circulating cells\\%WikiPathways\\_20190410\\%WP4462\\%Homo sapiens & 959                                                                                                                 \\\\\n",
       "\\end{tabular}\n"
      ],
      "text/markdown": [
       "\n",
       "| <!--/--> | pathway | entrezgene |\n",
       "|---|---|---|\n",
       "| 72283 | Platelet-mediated interactions with vascular and circulating cells%WikiPathways_20190410%WP4462%Homo sapiens | 3553                                                                                                         |\n",
       "| 72284 | Platelet-mediated interactions with vascular and circulating cells%WikiPathways_20190410%WP4462%Homo sapiens | 6403                                                                                                         |\n",
       "| 72285 | Platelet-mediated interactions with vascular and circulating cells%WikiPathways_20190410%WP4462%Homo sapiens | 6347                                                                                                         |\n",
       "| 72286 | Platelet-mediated interactions with vascular and circulating cells%WikiPathways_20190410%WP4462%Homo sapiens | 6404                                                                                                         |\n",
       "| 72287 | Platelet-mediated interactions with vascular and circulating cells%WikiPathways_20190410%WP4462%Homo sapiens | 958                                                                                                          |\n",
       "| 72288 | Platelet-mediated interactions with vascular and circulating cells%WikiPathways_20190410%WP4462%Homo sapiens | 959                                                                                                          |\n",
       "\n"
      ],
      "text/plain": [
       "      pathway                                                                                                     \n",
       "72283 Platelet-mediated interactions with vascular and circulating cells%WikiPathways_20190410%WP4462%Homo sapiens\n",
       "72284 Platelet-mediated interactions with vascular and circulating cells%WikiPathways_20190410%WP4462%Homo sapiens\n",
       "72285 Platelet-mediated interactions with vascular and circulating cells%WikiPathways_20190410%WP4462%Homo sapiens\n",
       "72286 Platelet-mediated interactions with vascular and circulating cells%WikiPathways_20190410%WP4462%Homo sapiens\n",
       "72287 Platelet-mediated interactions with vascular and circulating cells%WikiPathways_20190410%WP4462%Homo sapiens\n",
       "72288 Platelet-mediated interactions with vascular and circulating cells%WikiPathways_20190410%WP4462%Homo sapiens\n",
       "      entrezgene\n",
       "72283 3553      \n",
       "72284 6403      \n",
       "72285 6347      \n",
       "72286 6404      \n",
       "72287 958       \n",
       "72288 959       "
      ]
     },
     "metadata": {},
     "output_type": "display_data"
    }
   ],
   "source": [
    "# edge table\n",
    "edge_table <- as.data.frame(allDatabases[allDatabases$pathway %in% selectedpws$pathway,])\n",
    "head(edge_table)\n",
    "tail(edge_table)"
   ]
  },
  {
   "cell_type": "markdown",
   "metadata": {},
   "source": [
    "Change pathway names to process names based on the manual clustering."
   ]
  },
  {
   "cell_type": "code",
   "execution_count": 7,
   "metadata": {},
   "outputs": [
    {
     "data": {
      "text/html": [
       "<table>\n",
       "<thead><tr><th></th><th scope=col>pathway</th><th scope=col>entrezgene</th></tr></thead>\n",
       "<tbody>\n",
       "\t<tr><th scope=row>7430</th><td>NFkB  </td><td>7205  </td></tr>\n",
       "\t<tr><th scope=row>7431</th><td>NFkB  </td><td>841   </td></tr>\n",
       "\t<tr><th scope=row>7432</th><td>NFkB  </td><td>1147  </td></tr>\n",
       "\t<tr><th scope=row>7433</th><td>NFkB  </td><td>257397</td></tr>\n",
       "\t<tr><th scope=row>7434</th><td>NFkB  </td><td>2919  </td></tr>\n",
       "\t<tr><th scope=row>7435</th><td>NFkB  </td><td>8767  </td></tr>\n",
       "</tbody>\n",
       "</table>\n"
      ],
      "text/latex": [
       "\\begin{tabular}{r|ll}\n",
       "  & pathway & entrezgene\\\\\n",
       "\\hline\n",
       "\t7430 & NFkB   & 7205  \\\\\n",
       "\t7431 & NFkB   & 841   \\\\\n",
       "\t7432 & NFkB   & 1147  \\\\\n",
       "\t7433 & NFkB   & 257397\\\\\n",
       "\t7434 & NFkB   & 2919  \\\\\n",
       "\t7435 & NFkB   & 8767  \\\\\n",
       "\\end{tabular}\n"
      ],
      "text/markdown": [
       "\n",
       "| <!--/--> | pathway | entrezgene |\n",
       "|---|---|---|\n",
       "| 7430 | NFkB   | 7205   |\n",
       "| 7431 | NFkB   | 841    |\n",
       "| 7432 | NFkB   | 1147   |\n",
       "| 7433 | NFkB   | 257397 |\n",
       "| 7434 | NFkB   | 2919   |\n",
       "| 7435 | NFkB   | 8767   |\n",
       "\n"
      ],
      "text/plain": [
       "     pathway entrezgene\n",
       "7430 NFkB    7205      \n",
       "7431 NFkB    841       \n",
       "7432 NFkB    1147      \n",
       "7433 NFkB    257397    \n",
       "7434 NFkB    2919      \n",
       "7435 NFkB    8767      "
      ]
     },
     "metadata": {},
     "output_type": "display_data"
    },
    {
     "data": {
      "text/html": [
       "<table>\n",
       "<thead><tr><th></th><th scope=col>pathway</th><th scope=col>entrezgene</th></tr></thead>\n",
       "<tbody>\n",
       "\t<tr><th scope=row>72283</th><td>Cytokines</td><td>3553     </td></tr>\n",
       "\t<tr><th scope=row>72284</th><td>Cytokines</td><td>6403     </td></tr>\n",
       "\t<tr><th scope=row>72285</th><td>Cytokines</td><td>6347     </td></tr>\n",
       "\t<tr><th scope=row>72286</th><td>Cytokines</td><td>6404     </td></tr>\n",
       "\t<tr><th scope=row>72287</th><td>Cytokines</td><td>958      </td></tr>\n",
       "\t<tr><th scope=row>72288</th><td>Cytokines</td><td>959      </td></tr>\n",
       "</tbody>\n",
       "</table>\n"
      ],
      "text/latex": [
       "\\begin{tabular}{r|ll}\n",
       "  & pathway & entrezgene\\\\\n",
       "\\hline\n",
       "\t72283 & Cytokines & 3553     \\\\\n",
       "\t72284 & Cytokines & 6403     \\\\\n",
       "\t72285 & Cytokines & 6347     \\\\\n",
       "\t72286 & Cytokines & 6404     \\\\\n",
       "\t72287 & Cytokines & 958      \\\\\n",
       "\t72288 & Cytokines & 959      \\\\\n",
       "\\end{tabular}\n"
      ],
      "text/markdown": [
       "\n",
       "| <!--/--> | pathway | entrezgene |\n",
       "|---|---|---|\n",
       "| 72283 | Cytokines | 3553      |\n",
       "| 72284 | Cytokines | 6403      |\n",
       "| 72285 | Cytokines | 6347      |\n",
       "| 72286 | Cytokines | 6404      |\n",
       "| 72287 | Cytokines | 958       |\n",
       "| 72288 | Cytokines | 959       |\n",
       "\n"
      ],
      "text/plain": [
       "      pathway   entrezgene\n",
       "72283 Cytokines 3553      \n",
       "72284 Cytokines 6403      \n",
       "72285 Cytokines 6347      \n",
       "72286 Cytokines 6404      \n",
       "72287 Cytokines 958       \n",
       "72288 Cytokines 959       "
      ]
     },
     "metadata": {},
     "output_type": "display_data"
    }
   ],
   "source": [
    "# change names to process names\n",
    "edge_table$pathway <- selectedpws$process[match(edge_table$pathway, selectedpws$pathway)]\n",
    "head(edge_table)\n",
    "tail(edge_table)"
   ]
  },
  {
   "cell_type": "code",
   "execution_count": 8,
   "metadata": {},
   "outputs": [
    {
     "data": {
      "text/html": [
       "<table>\n",
       "<thead><tr><th scope=col>hgnc_symbol</th><th scope=col>entrezgene</th></tr></thead>\n",
       "<tbody>\n",
       "\t<tr><td>AKT3   </td><td>10000  </td></tr>\n",
       "\t<tr><td>CDH3   </td><td> 1001  </td></tr>\n",
       "\t<tr><td>NAMPT  </td><td>10135  </td></tr>\n",
       "\t<tr><td>ATP6AP2</td><td>10159  </td></tr>\n",
       "\t<tr><td>TLR6   </td><td>10333  </td></tr>\n",
       "\t<tr><td>NOD1   </td><td>10392  </td></tr>\n",
       "</tbody>\n",
       "</table>\n"
      ],
      "text/latex": [
       "\\begin{tabular}{r|ll}\n",
       " hgnc\\_symbol & entrezgene\\\\\n",
       "\\hline\n",
       "\t AKT3    & 10000  \\\\\n",
       "\t CDH3    &  1001  \\\\\n",
       "\t NAMPT   & 10135  \\\\\n",
       "\t ATP6AP2 & 10159  \\\\\n",
       "\t TLR6    & 10333  \\\\\n",
       "\t NOD1    & 10392  \\\\\n",
       "\\end{tabular}\n"
      ],
      "text/markdown": [
       "\n",
       "| hgnc_symbol | entrezgene |\n",
       "|---|---|\n",
       "| AKT3    | 10000   |\n",
       "| CDH3    |  1001   |\n",
       "| NAMPT   | 10135   |\n",
       "| ATP6AP2 | 10159   |\n",
       "| TLR6    | 10333   |\n",
       "| NOD1    | 10392   |\n",
       "\n"
      ],
      "text/plain": [
       "  hgnc_symbol entrezgene\n",
       "1 AKT3        10000     \n",
       "2 CDH3         1001     \n",
       "3 NAMPT       10135     \n",
       "4 ATP6AP2     10159     \n",
       "5 TLR6        10333     \n",
       "6 NOD1        10392     "
      ]
     },
     "metadata": {},
     "output_type": "display_data"
    },
    {
     "data": {
      "text/html": [
       "<ol class=list-inline>\n",
       "\t<li>343</li>\n",
       "\t<li>2</li>\n",
       "</ol>\n"
      ],
      "text/latex": [
       "\\begin{enumerate*}\n",
       "\\item 343\n",
       "\\item 2\n",
       "\\end{enumerate*}\n"
      ],
      "text/markdown": [
       "1. 343\n",
       "2. 2\n",
       "\n",
       "\n"
      ],
      "text/plain": [
       "[1] 343   2"
      ]
     },
     "metadata": {},
     "output_type": "display_data"
    }
   ],
   "source": [
    "# only unique rows\n",
    "edge_table <- unique(edge_table)\n",
    "\n",
    "# map entrezgene IDs to hgnc symbols\n",
    "ensembl <- useMart(\"ensembl\", dataset = \"hsapiens_gene_ensembl\")\n",
    "\n",
    "genes <- getBM(\n",
    "  attributes = c('hgnc_symbol', 'entrezgene'), \n",
    "  filters = 'entrezgene',\n",
    "  values = edge_table$entrezgene,\n",
    "  mart = ensembl\n",
    ")\n",
    "\n",
    "head(genes)\n",
    "dim(genes)"
   ]
  },
  {
   "cell_type": "code",
   "execution_count": 9,
   "metadata": {},
   "outputs": [
    {
     "data": {
      "text/html": [
       "<table>\n",
       "<thead><tr><th></th><th scope=col>pathway</th><th scope=col>entrezgene</th><th scope=col>hgnc_symbol</th></tr></thead>\n",
       "<tbody>\n",
       "\t<tr><th scope=row>7430</th><td>NFkB  </td><td>7205  </td><td>TRIP6 </td></tr>\n",
       "\t<tr><th scope=row>7431</th><td>NFkB  </td><td>841   </td><td>CASP8 </td></tr>\n",
       "\t<tr><th scope=row>7432</th><td>NFkB  </td><td>1147  </td><td>CHUK  </td></tr>\n",
       "\t<tr><th scope=row>7433</th><td>NFkB  </td><td>257397</td><td>TAB3  </td></tr>\n",
       "\t<tr><th scope=row>7434</th><td>NFkB  </td><td>2919  </td><td>CXCL1 </td></tr>\n",
       "\t<tr><th scope=row>7435</th><td>NFkB  </td><td>8767  </td><td>RIPK2 </td></tr>\n",
       "</tbody>\n",
       "</table>\n"
      ],
      "text/latex": [
       "\\begin{tabular}{r|lll}\n",
       "  & pathway & entrezgene & hgnc\\_symbol\\\\\n",
       "\\hline\n",
       "\t7430 & NFkB   & 7205   & TRIP6 \\\\\n",
       "\t7431 & NFkB   & 841    & CASP8 \\\\\n",
       "\t7432 & NFkB   & 1147   & CHUK  \\\\\n",
       "\t7433 & NFkB   & 257397 & TAB3  \\\\\n",
       "\t7434 & NFkB   & 2919   & CXCL1 \\\\\n",
       "\t7435 & NFkB   & 8767   & RIPK2 \\\\\n",
       "\\end{tabular}\n"
      ],
      "text/markdown": [
       "\n",
       "| <!--/--> | pathway | entrezgene | hgnc_symbol |\n",
       "|---|---|---|---|\n",
       "| 7430 | NFkB   | 7205   | TRIP6  |\n",
       "| 7431 | NFkB   | 841    | CASP8  |\n",
       "| 7432 | NFkB   | 1147   | CHUK   |\n",
       "| 7433 | NFkB   | 257397 | TAB3   |\n",
       "| 7434 | NFkB   | 2919   | CXCL1  |\n",
       "| 7435 | NFkB   | 8767   | RIPK2  |\n",
       "\n"
      ],
      "text/plain": [
       "     pathway entrezgene hgnc_symbol\n",
       "7430 NFkB    7205       TRIP6      \n",
       "7431 NFkB    841        CASP8      \n",
       "7432 NFkB    1147       CHUK       \n",
       "7433 NFkB    257397     TAB3       \n",
       "7434 NFkB    2919       CXCL1      \n",
       "7435 NFkB    8767       RIPK2      "
      ]
     },
     "metadata": {},
     "output_type": "display_data"
    },
    {
     "data": {
      "text/html": [
       "<table>\n",
       "<thead><tr><th></th><th scope=col>pathway</th><th scope=col>entrezgene</th><th scope=col>hgnc_symbol</th></tr></thead>\n",
       "<tbody>\n",
       "\t<tr><th scope=row>72282</th><td>Cytokines</td><td>51284    </td><td>TLR7     </td></tr>\n",
       "\t<tr><th scope=row>72284</th><td>Cytokines</td><td>6403     </td><td>SELP     </td></tr>\n",
       "\t<tr><th scope=row>72285</th><td>Cytokines</td><td>6347     </td><td>CCL2     </td></tr>\n",
       "\t<tr><th scope=row>72286</th><td>Cytokines</td><td>6404     </td><td>SELPLG   </td></tr>\n",
       "\t<tr><th scope=row>72287</th><td>Cytokines</td><td>958      </td><td>CD40     </td></tr>\n",
       "\t<tr><th scope=row>72288</th><td>Cytokines</td><td>959      </td><td>CD40LG   </td></tr>\n",
       "</tbody>\n",
       "</table>\n"
      ],
      "text/latex": [
       "\\begin{tabular}{r|lll}\n",
       "  & pathway & entrezgene & hgnc\\_symbol\\\\\n",
       "\\hline\n",
       "\t72282 & Cytokines & 51284     & TLR7     \\\\\n",
       "\t72284 & Cytokines & 6403      & SELP     \\\\\n",
       "\t72285 & Cytokines & 6347      & CCL2     \\\\\n",
       "\t72286 & Cytokines & 6404      & SELPLG   \\\\\n",
       "\t72287 & Cytokines & 958       & CD40     \\\\\n",
       "\t72288 & Cytokines & 959       & CD40LG   \\\\\n",
       "\\end{tabular}\n"
      ],
      "text/markdown": [
       "\n",
       "| <!--/--> | pathway | entrezgene | hgnc_symbol |\n",
       "|---|---|---|---|\n",
       "| 72282 | Cytokines | 51284     | TLR7      |\n",
       "| 72284 | Cytokines | 6403      | SELP      |\n",
       "| 72285 | Cytokines | 6347      | CCL2      |\n",
       "| 72286 | Cytokines | 6404      | SELPLG    |\n",
       "| 72287 | Cytokines | 958       | CD40      |\n",
       "| 72288 | Cytokines | 959       | CD40LG    |\n",
       "\n"
      ],
      "text/plain": [
       "      pathway   entrezgene hgnc_symbol\n",
       "72282 Cytokines 51284      TLR7       \n",
       "72284 Cytokines 6403       SELP       \n",
       "72285 Cytokines 6347       CCL2       \n",
       "72286 Cytokines 6404       SELPLG     \n",
       "72287 Cytokines 958        CD40       \n",
       "72288 Cytokines 959        CD40LG     "
      ]
     },
     "metadata": {},
     "output_type": "display_data"
    }
   ],
   "source": [
    "# merge edge table with hgnc symbols\n",
    "# remove NAs as they are pseudogenes, microRNAs or discontinued genes\n",
    "edge_table$hgnc_symbol <- genes$hgnc_symbol[match(edge_table$entrezgene, genes$entrezgene)]\n",
    "edge_table <- edge_table[!is.na(edge_table$hgnc_symbol),]\n",
    "head(edge_table)\n",
    "tail(edge_table)\n",
    "\n",
    "# save edge table\n",
    "write.table(edge_table, file.path(getwd(), \"data-output\", \"edges.txt\"), col.names = T, row.names = F, sep = \"\\t\", quote = F)"
   ]
  },
  {
   "cell_type": "markdown",
   "metadata": {},
   "source": [
    "Now we only have to make the node table and then we can use these for the Cytoscape STRING automation notebook."
   ]
  },
  {
   "cell_type": "code",
   "execution_count": 10,
   "metadata": {},
   "outputs": [],
   "source": [
    "# node table\n",
    "# split edge table in two seperate data frames, rbind, unique, add type.\n",
    "pathwayNodes <- as.data.frame(unique(edge_table$pathway))\n",
    "colnames(pathwayNodes)[1] <- \"nodes\"\n",
    "\n",
    "geneNodes_entrezgene <- as.data.frame(unique(edge_table$entrezgene))\n",
    "colnames(geneNodes_entrezgene)[1] <- \"nodes\"\n",
    "\n",
    "geneNodes_hgnc <- as.data.frame(unique(edge_table$hgnc_symbol))\n",
    "colnames(geneNodes_hgnc)[1] <- \"nodes\"\n",
    "\n",
    "node_table_entrezgene <- as.data.frame(rbind(pathwayNodes, geneNodes_entrezgene))\n",
    "node_table_hgnc <- as.data.frame(rbind(pathwayNodes, geneNodes_hgnc))\n",
    "\n",
    "# add type\n",
    "node_table_entrezgene$type <- \"Gene\"\n",
    "node_table_entrezgene$type[node_table_entrezgene$nodes %in% infl$entrezgene] <- \"InflGene\"\n",
    "node_table_entrezgene$type[node_table_entrezgene$nodes %in% edge_table$pathway] <- \"Process\"\n",
    "\n",
    "node_table_hgnc$type <- \"Gene\"\n",
    "node_table_hgnc$type[node_table_hgnc$nodes %in% infl$hgnc_symbol] <- \"InflGene\"\n",
    "node_table_hgnc$type[node_table_hgnc$nodes %in% edge_table$pathway] <- \"Process\"\n",
    "\n",
    "# save node table\n",
    "write.table(node_table_entrezgene, file.path(getwd(), \"data-output\", \"nodes_entrezgene.txt\"), col.names = T, row.names = F, sep = \"\\t\", quote = F)\n",
    "write.table(node_table_hgnc, file.path(getwd(), \"data-output\", \"nodes_hgnc.txt\"), col.names = T, row.names = F, sep = \"\\t\", quote = F)"
   ]
  },
  {
   "cell_type": "code",
   "execution_count": 11,
   "metadata": {},
   "outputs": [
    {
     "data": {
      "text/plain": [
       "R version 3.5.1 (2018-07-02)\n",
       "Platform: x86_64-w64-mingw32/x64 (64-bit)\n",
       "Running under: Windows 10 x64 (build 17134)\n",
       "\n",
       "Matrix products: default\n",
       "\n",
       "locale:\n",
       "[1] LC_COLLATE=Dutch_Netherlands.1252  LC_CTYPE=Dutch_Netherlands.1252   \n",
       "[3] LC_MONETARY=Dutch_Netherlands.1252 LC_NUMERIC=C                      \n",
       "[5] LC_TIME=Dutch_Netherlands.1252    \n",
       "\n",
       "attached base packages:\n",
       "[1] stats     graphics  grDevices utils     datasets  methods   base     \n",
       "\n",
       "other attached packages:\n",
       "[1] biomaRt_2.38.0       tidyr_0.8.2          dplyr_0.7.8         \n",
       "[4] plyr_1.8.4           qusage_2.16.1        limma_3.38.3        \n",
       "[7] RevoUtils_11.0.1     RevoUtilsMath_11.0.0\n",
       "\n",
       "loaded via a namespace (and not attached):\n",
       " [1] pbdZMQ_0.3-3         progress_1.2.0       tidyselect_0.2.5    \n",
       " [4] repr_0.19.1          purrr_0.3.0          lattice_0.20-35     \n",
       " [7] htmltools_0.3.6      stats4_3.5.1         base64enc_0.1-3     \n",
       "[10] blob_1.1.1           XML_3.98-1.19        rlang_0.3.1         \n",
       "[13] pillar_1.3.1         glue_1.3.0           DBI_1.0.0           \n",
       "[16] BiocGenerics_0.28.0  bit64_0.9-7          bindrcpp_0.2.2      \n",
       "[19] uuid_0.1-2           emmeans_1.3.2        bindr_0.1.1         \n",
       "[22] stringr_1.3.1        lsmeans_2.30-0       mvtnorm_1.0-8       \n",
       "[25] evaluate_0.12        memoise_1.1.0        Biobase_2.42.0      \n",
       "[28] IRanges_2.16.0       curl_3.3             parallel_3.5.1      \n",
       "[31] AnnotationDbi_1.44.0 IRdisplay_0.7.0      Rcpp_1.0.0          \n",
       "[34] xtable_1.8-3         IRkernel_0.8.15      S4Vectors_0.20.1    \n",
       "[37] jsonlite_1.6         bit_1.1-14           hms_0.4.2           \n",
       "[40] digest_0.6.18        stringi_1.2.4        grid_3.5.1          \n",
       "[43] tools_3.5.1          bitops_1.0-6         magrittr_1.5        \n",
       "[46] RCurl_1.95-4.12      tibble_2.0.1         RSQLite_2.1.1       \n",
       "[49] crayon_1.3.4         pkgconfig_2.0.2      Matrix_1.2-14       \n",
       "[52] prettyunits_1.0.2    estimability_1.3     httr_1.4.0          \n",
       "[55] assertthat_0.2.1     R6_2.3.0             nlme_3.1-137        \n",
       "[58] compiler_3.5.1      "
      ]
     },
     "metadata": {},
     "output_type": "display_data"
    }
   ],
   "source": [
    "# information about this session\n",
    "sessionInfo()"
   ]
  }
 ],
 "metadata": {
  "kernelspec": {
   "display_name": "R",
   "language": "R",
   "name": "ir"
  },
  "language_info": {
   "codemirror_mode": "r",
   "file_extension": ".r",
   "mimetype": "text/x-r-source",
   "name": "R",
   "pygments_lexer": "r",
   "version": "3.5.1"
  }
 },
 "nbformat": 4,
 "nbformat_minor": 2
}
