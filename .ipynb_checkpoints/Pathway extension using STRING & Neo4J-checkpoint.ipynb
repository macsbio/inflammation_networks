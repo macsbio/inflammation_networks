{
 "cells": [
  {
   "cell_type": "markdown",
   "metadata": {},
   "source": [
    "# Network extension\n",
    "\n",
    "In this notebook we will extend the network with genes that were excluded based on the set criteria for the selection of pathways. These gene were in pathways from all three databases, however not in a pathway that was selected for the creation of the network. Via the STRING app in Cytoscape we will try to add these genes to the network using ppi interactions."
   ]
  },
  {
   "cell_type": "code",
   "execution_count": 1,
   "metadata": {},
   "outputs": [
    {
     "data": {
      "text/html": [
       "'C:/Users/Laurent/Documents/GitHub/inflammation_networks2'"
      ],
      "text/latex": [
       "'C:/Users/Laurent/Documents/GitHub/inflammation\\_networks2'"
      ],
      "text/markdown": [
       "'C:/Users/Laurent/Documents/GitHub/inflammation_networks2'"
      ],
      "text/plain": [
       "[1] \"C:/Users/Laurent/Documents/GitHub/inflammation_networks2\""
      ]
     },
     "metadata": {},
     "output_type": "display_data"
    }
   ],
   "source": [
    "# check working directory\n",
    "getwd()"
   ]
  },
  {
   "cell_type": "code",
   "execution_count": 2,
   "metadata": {},
   "outputs": [
    {
     "name": "stderr",
     "output_type": "stream",
     "text": [
      "Warning message:\n",
      "\"changing locked binding for 'length.path' in 'httr' whilst loading 'RNeo4j'\"\n",
      "Attaching package: 'dplyr'\n",
      "\n",
      "The following objects are masked from 'package:stats':\n",
      "\n",
      "    filter, lag\n",
      "\n",
      "The following objects are masked from 'package:base':\n",
      "\n",
      "    intersect, setdiff, setequal, union\n",
      "\n"
     ]
    }
   ],
   "source": [
    "# load libraries\n",
    "library(RCy3)\n",
    "library(RNeo4j)\n",
    "library(stringr)\n",
    "library(dplyr)"
   ]
  },
  {
   "cell_type": "markdown",
   "metadata": {},
   "source": [
    "Open Cytoscape on your computer and install the STRING app."
   ]
  },
  {
   "cell_type": "code",
   "execution_count": 3,
   "metadata": {},
   "outputs": [
    {
     "data": {
      "text/html": [
       "'You are connected to Cytoscape!'"
      ],
      "text/latex": [
       "'You are connected to Cytoscape!'"
      ],
      "text/markdown": [
       "'You are connected to Cytoscape!'"
      ],
      "text/plain": [
       "[1] \"You are connected to Cytoscape!\""
      ]
     },
     "metadata": {},
     "output_type": "display_data"
    },
    {
     "data": {
      "text/html": [
       "<dl class=dl-horizontal>\n",
       "\t<dt>apiVersion</dt>\n",
       "\t\t<dd>'v1'</dd>\n",
       "\t<dt>cytoscapeVersion</dt>\n",
       "\t\t<dd>'3.7.0'</dd>\n",
       "</dl>\n"
      ],
      "text/latex": [
       "\\begin{description*}\n",
       "\\item[apiVersion] 'v1'\n",
       "\\item[cytoscapeVersion] '3.7.0'\n",
       "\\end{description*}\n"
      ],
      "text/markdown": [
       "apiVersion\n",
       ":   'v1'cytoscapeVersion\n",
       ":   '3.7.0'\n",
       "\n"
      ],
      "text/plain": [
       "      apiVersion cytoscapeVersion \n",
       "            \"v1\"          \"3.7.0\" "
      ]
     },
     "metadata": {},
     "output_type": "display_data"
    },
    {
     "data": {
      "text/html": [
       "'App STRINGapp installed'"
      ],
      "text/latex": [
       "'App STRINGapp installed'"
      ],
      "text/markdown": [
       "'App STRINGapp installed'"
      ],
      "text/plain": [
       "[1] \"App STRINGapp installed\""
      ]
     },
     "metadata": {},
     "output_type": "display_data"
    },
    {
     "name": "stdout",
     "output_type": "stream",
     "text": [
      "[1] \"Available namespaces:\"\n",
      "[1] \"Success: the STRING app is installed\"\n"
     ]
    }
   ],
   "source": [
    "# check if Cytoscape is connected\n",
    "cytoscapePing()\n",
    "cytoscapeVersionInfo()\n",
    "\n",
    "# install STRING app\n",
    "installApp('STRINGapp') \n",
    "if(\"string\" %in% commandsHelp(\"\")) print(\"Success: the STRING app is installed\") else print(\"Warning: STRING app is not installed. Please install the STRING app before proceeding.\")"
   ]
  },
  {
   "cell_type": "markdown",
   "metadata": {},
   "source": [
    "To begin with we will create the network and a ppi network using the STRING app in Cytoscape."
   ]
  },
  {
   "cell_type": "code",
   "execution_count": 4,
   "metadata": {},
   "outputs": [
    {
     "data": {
      "text/html": [
       "<table>\n",
       "<thead><tr><th scope=col>nodes</th><th scope=col>type</th></tr></thead>\n",
       "<tbody>\n",
       "\t<tr><td>KEGG_NOD_LIKE_RECEPTOR_SIGNALING_PATHWAY                                      </td><td>Process                                                                       </td></tr>\n",
       "\t<tr><td>REACTOME_RIP_MEDIATED_NFKB_ACTIVATION_VIA_DAI                                 </td><td>Process                                                                       </td></tr>\n",
       "\t<tr><td>REACTOME_TAK1_ACTIVATES_NFKB_BY_PHOSPHORYLATION_AND_ACTIVATION_OF_IKKS_COMPLEX</td><td>Process                                                                       </td></tr>\n",
       "\t<tr><td>REACTOME_TRAF6_MEDIATED_NFKB_ACTIVATION                                       </td><td>Process                                                                       </td></tr>\n",
       "\t<tr><td>REACTOME_TRAF6_MEDIATED_IRF7_ACTIVATION_IN_TLR7_8_OR_9_SIGNALING              </td><td>Process                                                                       </td></tr>\n",
       "\t<tr><td>REACTOME_ADVANCED_GLYCOSYLATION_ENDPRODUCT_RECEPTOR_SIGNALING                 </td><td>Process                                                                       </td></tr>\n",
       "</tbody>\n",
       "</table>\n"
      ],
      "text/latex": [
       "\\begin{tabular}{r|ll}\n",
       " nodes & type\\\\\n",
       "\\hline\n",
       "\t KEGG\\_NOD\\_LIKE\\_RECEPTOR\\_SIGNALING\\_PATHWAY                                       & Process                                                                                 \\\\\n",
       "\t REACTOME\\_RIP\\_MEDIATED\\_NFKB\\_ACTIVATION\\_VIA\\_DAI                                  & Process                                                                                   \\\\\n",
       "\t REACTOME\\_TAK1\\_ACTIVATES\\_NFKB\\_BY\\_PHOSPHORYLATION\\_AND\\_ACTIVATION\\_OF\\_IKKS\\_COMPLEX & Process                                                                                           \\\\\n",
       "\t REACTOME\\_TRAF6\\_MEDIATED\\_NFKB\\_ACTIVATION                                        & Process                                                                               \\\\\n",
       "\t REACTOME\\_TRAF6\\_MEDIATED\\_IRF7\\_ACTIVATION\\_IN\\_TLR7\\_8\\_OR\\_9\\_SIGNALING               & Process                                                                                           \\\\\n",
       "\t REACTOME\\_ADVANCED\\_GLYCOSYLATION\\_ENDPRODUCT\\_RECEPTOR\\_SIGNALING                  & Process                                                                                 \\\\\n",
       "\\end{tabular}\n"
      ],
      "text/markdown": [
       "\n",
       "| nodes | type |\n",
       "|---|---|\n",
       "| KEGG_NOD_LIKE_RECEPTOR_SIGNALING_PATHWAY                                       | Process                                                                        |\n",
       "| REACTOME_RIP_MEDIATED_NFKB_ACTIVATION_VIA_DAI                                  | Process                                                                        |\n",
       "| REACTOME_TAK1_ACTIVATES_NFKB_BY_PHOSPHORYLATION_AND_ACTIVATION_OF_IKKS_COMPLEX | Process                                                                        |\n",
       "| REACTOME_TRAF6_MEDIATED_NFKB_ACTIVATION                                        | Process                                                                        |\n",
       "| REACTOME_TRAF6_MEDIATED_IRF7_ACTIVATION_IN_TLR7_8_OR_9_SIGNALING               | Process                                                                        |\n",
       "| REACTOME_ADVANCED_GLYCOSYLATION_ENDPRODUCT_RECEPTOR_SIGNALING                  | Process                                                                        |\n",
       "\n"
      ],
      "text/plain": [
       "  nodes                                                                         \n",
       "1 KEGG_NOD_LIKE_RECEPTOR_SIGNALING_PATHWAY                                      \n",
       "2 REACTOME_RIP_MEDIATED_NFKB_ACTIVATION_VIA_DAI                                 \n",
       "3 REACTOME_TAK1_ACTIVATES_NFKB_BY_PHOSPHORYLATION_AND_ACTIVATION_OF_IKKS_COMPLEX\n",
       "4 REACTOME_TRAF6_MEDIATED_NFKB_ACTIVATION                                       \n",
       "5 REACTOME_TRAF6_MEDIATED_IRF7_ACTIVATION_IN_TLR7_8_OR_9_SIGNALING              \n",
       "6 REACTOME_ADVANCED_GLYCOSYLATION_ENDPRODUCT_RECEPTOR_SIGNALING                 \n",
       "  type   \n",
       "1 Process\n",
       "2 Process\n",
       "3 Process\n",
       "4 Process\n",
       "5 Process\n",
       "6 Process"
      ]
     },
     "metadata": {},
     "output_type": "display_data"
    },
    {
     "data": {
      "text/html": [
       "<table>\n",
       "<thead><tr><th scope=col>pathway</th><th scope=col>entrezgene</th><th scope=col>hgnc_symbol</th></tr></thead>\n",
       "<tbody>\n",
       "\t<tr><td>KEGG_NOD_LIKE_RECEPTOR_SIGNALING_PATHWAY</td><td>  7205                                  </td><td>TRIP6                                   </td></tr>\n",
       "\t<tr><td>KEGG_NOD_LIKE_RECEPTOR_SIGNALING_PATHWAY</td><td>   841                                  </td><td>CASP8                                   </td></tr>\n",
       "\t<tr><td>KEGG_NOD_LIKE_RECEPTOR_SIGNALING_PATHWAY</td><td>  1147                                  </td><td>CHUK                                    </td></tr>\n",
       "\t<tr><td>KEGG_NOD_LIKE_RECEPTOR_SIGNALING_PATHWAY</td><td>257397                                  </td><td>TAB3                                    </td></tr>\n",
       "\t<tr><td>KEGG_NOD_LIKE_RECEPTOR_SIGNALING_PATHWAY</td><td>  2919                                  </td><td>CXCL1                                   </td></tr>\n",
       "\t<tr><td>KEGG_NOD_LIKE_RECEPTOR_SIGNALING_PATHWAY</td><td>  8767                                  </td><td>RIPK2                                   </td></tr>\n",
       "</tbody>\n",
       "</table>\n"
      ],
      "text/latex": [
       "\\begin{tabular}{r|lll}\n",
       " pathway & entrezgene & hgnc\\_symbol\\\\\n",
       "\\hline\n",
       "\t KEGG\\_NOD\\_LIKE\\_RECEPTOR\\_SIGNALING\\_PATHWAY &   7205                                             & TRIP6                                             \\\\\n",
       "\t KEGG\\_NOD\\_LIKE\\_RECEPTOR\\_SIGNALING\\_PATHWAY &    841                                             & CASP8                                             \\\\\n",
       "\t KEGG\\_NOD\\_LIKE\\_RECEPTOR\\_SIGNALING\\_PATHWAY &   1147                                             & CHUK                                              \\\\\n",
       "\t KEGG\\_NOD\\_LIKE\\_RECEPTOR\\_SIGNALING\\_PATHWAY & 257397                                             & TAB3                                              \\\\\n",
       "\t KEGG\\_NOD\\_LIKE\\_RECEPTOR\\_SIGNALING\\_PATHWAY &   2919                                             & CXCL1                                             \\\\\n",
       "\t KEGG\\_NOD\\_LIKE\\_RECEPTOR\\_SIGNALING\\_PATHWAY &   8767                                             & RIPK2                                             \\\\\n",
       "\\end{tabular}\n"
      ],
      "text/markdown": [
       "\n",
       "| pathway | entrezgene | hgnc_symbol |\n",
       "|---|---|---|\n",
       "| KEGG_NOD_LIKE_RECEPTOR_SIGNALING_PATHWAY |   7205                                   | TRIP6                                    |\n",
       "| KEGG_NOD_LIKE_RECEPTOR_SIGNALING_PATHWAY |    841                                   | CASP8                                    |\n",
       "| KEGG_NOD_LIKE_RECEPTOR_SIGNALING_PATHWAY |   1147                                   | CHUK                                     |\n",
       "| KEGG_NOD_LIKE_RECEPTOR_SIGNALING_PATHWAY | 257397                                   | TAB3                                     |\n",
       "| KEGG_NOD_LIKE_RECEPTOR_SIGNALING_PATHWAY |   2919                                   | CXCL1                                    |\n",
       "| KEGG_NOD_LIKE_RECEPTOR_SIGNALING_PATHWAY |   8767                                   | RIPK2                                    |\n",
       "\n"
      ],
      "text/plain": [
       "  pathway                                  entrezgene hgnc_symbol\n",
       "1 KEGG_NOD_LIKE_RECEPTOR_SIGNALING_PATHWAY   7205     TRIP6      \n",
       "2 KEGG_NOD_LIKE_RECEPTOR_SIGNALING_PATHWAY    841     CASP8      \n",
       "3 KEGG_NOD_LIKE_RECEPTOR_SIGNALING_PATHWAY   1147     CHUK       \n",
       "4 KEGG_NOD_LIKE_RECEPTOR_SIGNALING_PATHWAY 257397     TAB3       \n",
       "5 KEGG_NOD_LIKE_RECEPTOR_SIGNALING_PATHWAY   2919     CXCL1      \n",
       "6 KEGG_NOD_LIKE_RECEPTOR_SIGNALING_PATHWAY   8767     RIPK2      "
      ]
     },
     "metadata": {},
     "output_type": "display_data"
    },
    {
     "data": {
      "text/html": [
       "<table>\n",
       "<thead><tr><th scope=col>diseaseid</th><th scope=col>disease_name</th><th scope=col>geneid</th><th scope=col>symbol</th><th scope=col>uniprot</th><th scope=col>protein_class</th><th scope=col>gene_name</th><th scope=col>dsi</th><th scope=col>dpi</th><th scope=col>pli</th><th scope=col>score</th><th scope=col>el</th><th scope=col>ei</th><th scope=col>npmids</th><th scope=col>nsnps</th><th scope=col>year_initial</th><th scope=col>year_final</th></tr></thead>\n",
       "<tbody>\n",
       "\t<tr><td>C0021368                         </td><td>Inflammation                     </td><td>3576                             </td><td>CXCL8                            </td><td>P10145                           </td><td>signaling molecule               </td><td>C-X-C motif chemokine ligand 8   </td><td>0.342                            </td><td>0.862                            </td><td>       NA                        </td><td>0.40                             </td><td>no reported evidence             </td><td>NA                               </td><td>13                               </td><td>0                                </td><td>2003                             </td><td>2015                             </td></tr>\n",
       "\t<tr><td>C0021368                         </td><td>Inflammation                     </td><td>1401                             </td><td>CRP                              </td><td>P02741                           </td><td>                                 </td><td>C-reactive protein               </td><td>0.399                            </td><td>0.862                            </td><td>0.0037357                        </td><td>0.40                             </td><td>no reported evidence             </td><td>NA                               </td><td>18                               </td><td>0                                </td><td>2001                             </td><td>2011                             </td></tr>\n",
       "\t<tr><td>C0021368                         </td><td>Inflammation                     </td><td>7124                             </td><td>TNF                              </td><td>P01375                           </td><td>signaling molecule               </td><td>tumor necrosis factor            </td><td>0.263                            </td><td>0.966                            </td><td>0.8046000                        </td><td>0.40                             </td><td>no reported evidence             </td><td>NA                               </td><td>26                               </td><td>0                                </td><td>2001                             </td><td>2014                             </td></tr>\n",
       "\t<tr><td>C0021368                         </td><td>Inflammation                     </td><td>7040                             </td><td>TGFB1                            </td><td>P01137                           </td><td>signaling molecule               </td><td>transforming growth factor beta 1</td><td>0.336                            </td><td>0.931                            </td><td>0.1718200                        </td><td>0.38                             </td><td>no reported evidence             </td><td>NA                               </td><td>10                               </td><td>0                                </td><td>2002                             </td><td>2010                             </td></tr>\n",
       "\t<tr><td>C0021368                         </td><td>Inflammation                     </td><td>3569                             </td><td>IL6                              </td><td>P05231                           </td><td>                                 </td><td>interleukin 6                    </td><td>0.287                            </td><td>0.966                            </td><td>0.3387300                        </td><td>0.37                             </td><td>no reported evidence             </td><td>NA                               </td><td>18                               </td><td>0                                </td><td>2001                             </td><td>2016                             </td></tr>\n",
       "\t<tr><td>C0021368                         </td><td>Inflammation                     </td><td>3553                             </td><td>IL1B                             </td><td>P01584                           </td><td>                                 </td><td>interleukin 1 beta               </td><td>0.312                            </td><td>0.931                            </td><td>0.1256800                        </td><td>0.37                             </td><td>no reported evidence             </td><td>NA                               </td><td>16                               </td><td>0                                </td><td>1999                             </td><td>2017                             </td></tr>\n",
       "</tbody>\n",
       "</table>\n"
      ],
      "text/latex": [
       "\\begin{tabular}{r|lllllllllllllllll}\n",
       " diseaseid & disease\\_name & geneid & symbol & uniprot & protein\\_class & gene\\_name & dsi & dpi & pli & score & el & ei & npmids & nsnps & year\\_initial & year\\_final\\\\\n",
       "\\hline\n",
       "\t C0021368                          & Inflammation                      & 3576                              & CXCL8                             & P10145                            & signaling molecule                & C-X-C motif chemokine ligand 8    & 0.342                             & 0.862                             &        NA                         & 0.40                              & no reported evidence              & NA                                & 13                                & 0                                 & 2003                              & 2015                             \\\\\n",
       "\t C0021368                          & Inflammation                      & 1401                              & CRP                               & P02741                            &                                   & C-reactive protein                & 0.399                             & 0.862                             & 0.0037357                         & 0.40                              & no reported evidence              & NA                                & 18                                & 0                                 & 2001                              & 2011                             \\\\\n",
       "\t C0021368                          & Inflammation                      & 7124                              & TNF                               & P01375                            & signaling molecule                & tumor necrosis factor             & 0.263                             & 0.966                             & 0.8046000                         & 0.40                              & no reported evidence              & NA                                & 26                                & 0                                 & 2001                              & 2014                             \\\\\n",
       "\t C0021368                          & Inflammation                      & 7040                              & TGFB1                             & P01137                            & signaling molecule                & transforming growth factor beta 1 & 0.336                             & 0.931                             & 0.1718200                         & 0.38                              & no reported evidence              & NA                                & 10                                & 0                                 & 2002                              & 2010                             \\\\\n",
       "\t C0021368                          & Inflammation                      & 3569                              & IL6                               & P05231                            &                                   & interleukin 6                     & 0.287                             & 0.966                             & 0.3387300                         & 0.37                              & no reported evidence              & NA                                & 18                                & 0                                 & 2001                              & 2016                             \\\\\n",
       "\t C0021368                          & Inflammation                      & 3553                              & IL1B                              & P01584                            &                                   & interleukin 1 beta                & 0.312                             & 0.931                             & 0.1256800                         & 0.37                              & no reported evidence              & NA                                & 16                                & 0                                 & 1999                              & 2017                             \\\\\n",
       "\\end{tabular}\n"
      ],
      "text/markdown": [
       "\n",
       "| diseaseid | disease_name | geneid | symbol | uniprot | protein_class | gene_name | dsi | dpi | pli | score | el | ei | npmids | nsnps | year_initial | year_final |\n",
       "|---|---|---|---|---|---|---|---|---|---|---|---|---|---|---|---|---|\n",
       "| C0021368                          | Inflammation                      | 3576                              | CXCL8                             | P10145                            | signaling molecule                | C-X-C motif chemokine ligand 8    | 0.342                             | 0.862                             |        NA                         | 0.40                              | no reported evidence              | NA                                | 13                                | 0                                 | 2003                              | 2015                              |\n",
       "| C0021368                          | Inflammation                      | 1401                              | CRP                               | P02741                            |                                   | C-reactive protein                | 0.399                             | 0.862                             | 0.0037357                         | 0.40                              | no reported evidence              | NA                                | 18                                | 0                                 | 2001                              | 2011                              |\n",
       "| C0021368                          | Inflammation                      | 7124                              | TNF                               | P01375                            | signaling molecule                | tumor necrosis factor             | 0.263                             | 0.966                             | 0.8046000                         | 0.40                              | no reported evidence              | NA                                | 26                                | 0                                 | 2001                              | 2014                              |\n",
       "| C0021368                          | Inflammation                      | 7040                              | TGFB1                             | P01137                            | signaling molecule                | transforming growth factor beta 1 | 0.336                             | 0.931                             | 0.1718200                         | 0.38                              | no reported evidence              | NA                                | 10                                | 0                                 | 2002                              | 2010                              |\n",
       "| C0021368                          | Inflammation                      | 3569                              | IL6                               | P05231                            |                                   | interleukin 6                     | 0.287                             | 0.966                             | 0.3387300                         | 0.37                              | no reported evidence              | NA                                | 18                                | 0                                 | 2001                              | 2016                              |\n",
       "| C0021368                          | Inflammation                      | 3553                              | IL1B                              | P01584                            |                                   | interleukin 1 beta                | 0.312                             | 0.931                             | 0.1256800                         | 0.37                              | no reported evidence              | NA                                | 16                                | 0                                 | 1999                              | 2017                              |\n",
       "\n"
      ],
      "text/plain": [
       "  diseaseid disease_name geneid symbol uniprot protein_class     \n",
       "1 C0021368  Inflammation 3576   CXCL8  P10145  signaling molecule\n",
       "2 C0021368  Inflammation 1401   CRP    P02741                    \n",
       "3 C0021368  Inflammation 7124   TNF    P01375  signaling molecule\n",
       "4 C0021368  Inflammation 7040   TGFB1  P01137  signaling molecule\n",
       "5 C0021368  Inflammation 3569   IL6    P05231                    \n",
       "6 C0021368  Inflammation 3553   IL1B   P01584                    \n",
       "  gene_name                         dsi   dpi   pli       score\n",
       "1 C-X-C motif chemokine ligand 8    0.342 0.862        NA 0.40 \n",
       "2 C-reactive protein                0.399 0.862 0.0037357 0.40 \n",
       "3 tumor necrosis factor             0.263 0.966 0.8046000 0.40 \n",
       "4 transforming growth factor beta 1 0.336 0.931 0.1718200 0.38 \n",
       "5 interleukin 6                     0.287 0.966 0.3387300 0.37 \n",
       "6 interleukin 1 beta                0.312 0.931 0.1256800 0.37 \n",
       "  el                   ei npmids nsnps year_initial year_final\n",
       "1 no reported evidence NA 13     0     2003         2015      \n",
       "2 no reported evidence NA 18     0     2001         2011      \n",
       "3 no reported evidence NA 26     0     2001         2014      \n",
       "4 no reported evidence NA 10     0     2002         2010      \n",
       "5 no reported evidence NA 18     0     2001         2016      \n",
       "6 no reported evidence NA 16     0     1999         2017      "
      ]
     },
     "metadata": {},
     "output_type": "display_data"
    }
   ],
   "source": [
    "# load in network and data files\n",
    "nodes <- read.table(file.path(getwd(), \"data-output\", \"nodes_hgnc.txt\"), header = T, sep = \"\\t\")\n",
    "edges <- read.table(file.path(getwd(), \"data-output\", \"edges.txt\"), header = T, sep = \"\\t\")\n",
    "disgenet <- read.delim(file.path(getwd(), \"data-input\", \"C0021368_disease_gda_summary.tsv\"))\n",
    "\n",
    "head(nodes)\n",
    "head(edges)\n",
    "head(disgenet)"
   ]
  },
  {
   "cell_type": "code",
   "execution_count": 5,
   "metadata": {},
   "outputs": [
    {
     "data": {
      "text/html": [
       "<table>\n",
       "<thead><tr><th scope=col>id</th><th scope=col>type</th></tr></thead>\n",
       "<tbody>\n",
       "\t<tr><td>KEGG_NOD_LIKE_RECEPTOR_SIGNALING_PATHWAY                                      </td><td>Process                                                                       </td></tr>\n",
       "\t<tr><td>REACTOME_RIP_MEDIATED_NFKB_ACTIVATION_VIA_DAI                                 </td><td>Process                                                                       </td></tr>\n",
       "\t<tr><td>REACTOME_TAK1_ACTIVATES_NFKB_BY_PHOSPHORYLATION_AND_ACTIVATION_OF_IKKS_COMPLEX</td><td>Process                                                                       </td></tr>\n",
       "\t<tr><td>REACTOME_TRAF6_MEDIATED_NFKB_ACTIVATION                                       </td><td>Process                                                                       </td></tr>\n",
       "\t<tr><td>REACTOME_TRAF6_MEDIATED_IRF7_ACTIVATION_IN_TLR7_8_OR_9_SIGNALING              </td><td>Process                                                                       </td></tr>\n",
       "\t<tr><td>REACTOME_ADVANCED_GLYCOSYLATION_ENDPRODUCT_RECEPTOR_SIGNALING                 </td><td>Process                                                                       </td></tr>\n",
       "</tbody>\n",
       "</table>\n"
      ],
      "text/latex": [
       "\\begin{tabular}{r|ll}\n",
       " id & type\\\\\n",
       "\\hline\n",
       "\t KEGG\\_NOD\\_LIKE\\_RECEPTOR\\_SIGNALING\\_PATHWAY                                       & Process                                                                                 \\\\\n",
       "\t REACTOME\\_RIP\\_MEDIATED\\_NFKB\\_ACTIVATION\\_VIA\\_DAI                                  & Process                                                                                   \\\\\n",
       "\t REACTOME\\_TAK1\\_ACTIVATES\\_NFKB\\_BY\\_PHOSPHORYLATION\\_AND\\_ACTIVATION\\_OF\\_IKKS\\_COMPLEX & Process                                                                                           \\\\\n",
       "\t REACTOME\\_TRAF6\\_MEDIATED\\_NFKB\\_ACTIVATION                                        & Process                                                                               \\\\\n",
       "\t REACTOME\\_TRAF6\\_MEDIATED\\_IRF7\\_ACTIVATION\\_IN\\_TLR7\\_8\\_OR\\_9\\_SIGNALING               & Process                                                                                           \\\\\n",
       "\t REACTOME\\_ADVANCED\\_GLYCOSYLATION\\_ENDPRODUCT\\_RECEPTOR\\_SIGNALING                  & Process                                                                                 \\\\\n",
       "\\end{tabular}\n"
      ],
      "text/markdown": [
       "\n",
       "| id | type |\n",
       "|---|---|\n",
       "| KEGG_NOD_LIKE_RECEPTOR_SIGNALING_PATHWAY                                       | Process                                                                        |\n",
       "| REACTOME_RIP_MEDIATED_NFKB_ACTIVATION_VIA_DAI                                  | Process                                                                        |\n",
       "| REACTOME_TAK1_ACTIVATES_NFKB_BY_PHOSPHORYLATION_AND_ACTIVATION_OF_IKKS_COMPLEX | Process                                                                        |\n",
       "| REACTOME_TRAF6_MEDIATED_NFKB_ACTIVATION                                        | Process                                                                        |\n",
       "| REACTOME_TRAF6_MEDIATED_IRF7_ACTIVATION_IN_TLR7_8_OR_9_SIGNALING               | Process                                                                        |\n",
       "| REACTOME_ADVANCED_GLYCOSYLATION_ENDPRODUCT_RECEPTOR_SIGNALING                  | Process                                                                        |\n",
       "\n"
      ],
      "text/plain": [
       "  id                                                                            \n",
       "1 KEGG_NOD_LIKE_RECEPTOR_SIGNALING_PATHWAY                                      \n",
       "2 REACTOME_RIP_MEDIATED_NFKB_ACTIVATION_VIA_DAI                                 \n",
       "3 REACTOME_TAK1_ACTIVATES_NFKB_BY_PHOSPHORYLATION_AND_ACTIVATION_OF_IKKS_COMPLEX\n",
       "4 REACTOME_TRAF6_MEDIATED_NFKB_ACTIVATION                                       \n",
       "5 REACTOME_TRAF6_MEDIATED_IRF7_ACTIVATION_IN_TLR7_8_OR_9_SIGNALING              \n",
       "6 REACTOME_ADVANCED_GLYCOSYLATION_ENDPRODUCT_RECEPTOR_SIGNALING                 \n",
       "  type   \n",
       "1 Process\n",
       "2 Process\n",
       "3 Process\n",
       "4 Process\n",
       "5 Process\n",
       "6 Process"
      ]
     },
     "metadata": {},
     "output_type": "display_data"
    },
    {
     "data": {
      "text/html": [
       "<table>\n",
       "<thead><tr><th scope=col>source</th><th scope=col>target</th><th scope=col>interaction</th></tr></thead>\n",
       "<tbody>\n",
       "\t<tr><td>KEGG_NOD_LIKE_RECEPTOR_SIGNALING_PATHWAY</td><td>TRIP6                                   </td><td>interacts                               </td></tr>\n",
       "\t<tr><td>KEGG_NOD_LIKE_RECEPTOR_SIGNALING_PATHWAY</td><td>CASP8                                   </td><td>interacts                               </td></tr>\n",
       "\t<tr><td>KEGG_NOD_LIKE_RECEPTOR_SIGNALING_PATHWAY</td><td>CHUK                                    </td><td>interacts                               </td></tr>\n",
       "\t<tr><td>KEGG_NOD_LIKE_RECEPTOR_SIGNALING_PATHWAY</td><td>TAB3                                    </td><td>interacts                               </td></tr>\n",
       "\t<tr><td>KEGG_NOD_LIKE_RECEPTOR_SIGNALING_PATHWAY</td><td>CXCL1                                   </td><td>interacts                               </td></tr>\n",
       "\t<tr><td>KEGG_NOD_LIKE_RECEPTOR_SIGNALING_PATHWAY</td><td>RIPK2                                   </td><td>interacts                               </td></tr>\n",
       "</tbody>\n",
       "</table>\n"
      ],
      "text/latex": [
       "\\begin{tabular}{r|lll}\n",
       " source & target & interaction\\\\\n",
       "\\hline\n",
       "\t KEGG\\_NOD\\_LIKE\\_RECEPTOR\\_SIGNALING\\_PATHWAY & TRIP6                                              & interacts                                         \\\\\n",
       "\t KEGG\\_NOD\\_LIKE\\_RECEPTOR\\_SIGNALING\\_PATHWAY & CASP8                                              & interacts                                         \\\\\n",
       "\t KEGG\\_NOD\\_LIKE\\_RECEPTOR\\_SIGNALING\\_PATHWAY & CHUK                                               & interacts                                         \\\\\n",
       "\t KEGG\\_NOD\\_LIKE\\_RECEPTOR\\_SIGNALING\\_PATHWAY & TAB3                                               & interacts                                         \\\\\n",
       "\t KEGG\\_NOD\\_LIKE\\_RECEPTOR\\_SIGNALING\\_PATHWAY & CXCL1                                              & interacts                                         \\\\\n",
       "\t KEGG\\_NOD\\_LIKE\\_RECEPTOR\\_SIGNALING\\_PATHWAY & RIPK2                                              & interacts                                         \\\\\n",
       "\\end{tabular}\n"
      ],
      "text/markdown": [
       "\n",
       "| source | target | interaction |\n",
       "|---|---|---|\n",
       "| KEGG_NOD_LIKE_RECEPTOR_SIGNALING_PATHWAY | TRIP6                                    | interacts                                |\n",
       "| KEGG_NOD_LIKE_RECEPTOR_SIGNALING_PATHWAY | CASP8                                    | interacts                                |\n",
       "| KEGG_NOD_LIKE_RECEPTOR_SIGNALING_PATHWAY | CHUK                                     | interacts                                |\n",
       "| KEGG_NOD_LIKE_RECEPTOR_SIGNALING_PATHWAY | TAB3                                     | interacts                                |\n",
       "| KEGG_NOD_LIKE_RECEPTOR_SIGNALING_PATHWAY | CXCL1                                    | interacts                                |\n",
       "| KEGG_NOD_LIKE_RECEPTOR_SIGNALING_PATHWAY | RIPK2                                    | interacts                                |\n",
       "\n"
      ],
      "text/plain": [
       "  source                                   target interaction\n",
       "1 KEGG_NOD_LIKE_RECEPTOR_SIGNALING_PATHWAY TRIP6  interacts  \n",
       "2 KEGG_NOD_LIKE_RECEPTOR_SIGNALING_PATHWAY CASP8  interacts  \n",
       "3 KEGG_NOD_LIKE_RECEPTOR_SIGNALING_PATHWAY CHUK   interacts  \n",
       "4 KEGG_NOD_LIKE_RECEPTOR_SIGNALING_PATHWAY TAB3   interacts  \n",
       "5 KEGG_NOD_LIKE_RECEPTOR_SIGNALING_PATHWAY CXCL1  interacts  \n",
       "6 KEGG_NOD_LIKE_RECEPTOR_SIGNALING_PATHWAY RIPK2  interacts  "
      ]
     },
     "metadata": {},
     "output_type": "display_data"
    },
    {
     "data": {
      "text/html": [
       "<table>\n",
       "<thead><tr><th scope=col>entrezgene</th><th scope=col>hgnc_symbol</th><th scope=col>dis_score</th></tr></thead>\n",
       "<tbody>\n",
       "\t<tr><td>3576 </td><td>CXCL8</td><td>0.40 </td></tr>\n",
       "\t<tr><td>1401 </td><td>CRP  </td><td>0.40 </td></tr>\n",
       "\t<tr><td>7124 </td><td>TNF  </td><td>0.40 </td></tr>\n",
       "\t<tr><td>7040 </td><td>TGFB1</td><td>0.38 </td></tr>\n",
       "\t<tr><td>3569 </td><td>IL6  </td><td>0.37 </td></tr>\n",
       "\t<tr><td>3553 </td><td>IL1B </td><td>0.37 </td></tr>\n",
       "</tbody>\n",
       "</table>\n"
      ],
      "text/latex": [
       "\\begin{tabular}{r|lll}\n",
       " entrezgene & hgnc\\_symbol & dis\\_score\\\\\n",
       "\\hline\n",
       "\t 3576  & CXCL8 & 0.40 \\\\\n",
       "\t 1401  & CRP   & 0.40 \\\\\n",
       "\t 7124  & TNF   & 0.40 \\\\\n",
       "\t 7040  & TGFB1 & 0.38 \\\\\n",
       "\t 3569  & IL6   & 0.37 \\\\\n",
       "\t 3553  & IL1B  & 0.37 \\\\\n",
       "\\end{tabular}\n"
      ],
      "text/markdown": [
       "\n",
       "| entrezgene | hgnc_symbol | dis_score |\n",
       "|---|---|---|\n",
       "| 3576  | CXCL8 | 0.40  |\n",
       "| 1401  | CRP   | 0.40  |\n",
       "| 7124  | TNF   | 0.40  |\n",
       "| 7040  | TGFB1 | 0.38  |\n",
       "| 3569  | IL6   | 0.37  |\n",
       "| 3553  | IL1B  | 0.37  |\n",
       "\n"
      ],
      "text/plain": [
       "  entrezgene hgnc_symbol dis_score\n",
       "1 3576       CXCL8       0.40     \n",
       "2 1401       CRP         0.40     \n",
       "3 7124       TNF         0.40     \n",
       "4 7040       TGFB1       0.38     \n",
       "5 3569       IL6         0.37     \n",
       "6 3553       IL1B        0.37     "
      ]
     },
     "metadata": {},
     "output_type": "display_data"
    },
    {
     "data": {
      "text/html": [
       "<ol class=list-inline>\n",
       "\t<li>201</li>\n",
       "\t<li>3</li>\n",
       "</ol>\n"
      ],
      "text/latex": [
       "\\begin{enumerate*}\n",
       "\\item 201\n",
       "\\item 3\n",
       "\\end{enumerate*}\n"
      ],
      "text/markdown": [
       "1. 201\n",
       "2. 3\n",
       "\n",
       "\n"
      ],
      "text/plain": [
       "[1] 201   3"
      ]
     },
     "metadata": {},
     "output_type": "display_data"
    }
   ],
   "source": [
    "# clean up network and data files\n",
    "# nodes\n",
    "colnames(nodes)[1] <- \"id\"\n",
    "nodes$id <- as.character(nodes$id)\n",
    "\n",
    "# edges\n",
    "edges <- edges[,c(-2)]\n",
    "colnames(edges)[c(1,2)] <- c(\"source\", \"target\") \n",
    "edges$interaction <- \"interacts\"\n",
    "edges$source <- as.character(edges$source)\n",
    "edges$target <- as.character(edges$target)\n",
    "\n",
    "# disgenet\n",
    "disgenet <- disgenet[,c(\"geneid\", \"symbol\", \"score\")]\n",
    "colnames(disgenet)[c(1,2,3)] <- c(\"entrezgene\", \"hgnc_symbol\", \"dis_score\")\n",
    "# filtered\n",
    "infl <- disgenet[disgenet$dis_score > 0.01,]\n",
    "\n",
    "head(nodes)\n",
    "head(edges)\n",
    "head(infl)\n",
    "dim(infl)"
   ]
  },
  {
   "cell_type": "code",
   "execution_count": 6,
   "metadata": {},
   "outputs": [
    {
     "name": "stdout",
     "output_type": "stream",
     "text": [
      "Loading data...\n",
      "Applying default style...\n",
      "Applying preferred layout...\n"
     ]
    },
    {
     "data": {
      "text/html": [
       "<strong>networkSUID:</strong> 80"
      ],
      "text/latex": [
       "\\textbf{networkSUID:} 80"
      ],
      "text/markdown": [
       "**networkSUID:** 80"
      ],
      "text/plain": [
       "networkSUID \n",
       "         80 "
      ]
     },
     "metadata": {},
     "output_type": "display_data"
    }
   ],
   "source": [
    "# create network from files\n",
    "createNetworkFromDataFrames(nodes, edges, title = \"MyNetwork\", collection = \"MyCollection\")"
   ]
  },
  {
   "cell_type": "markdown",
   "metadata": {},
   "source": [
    "We now have the network and everything running and installen in Cytoscape. We will use the all genes that are in the network, including the genes associated with inflammation to create a ppi network via the STRING app."
   ]
  },
  {
   "cell_type": "code",
   "execution_count": 7,
   "metadata": {},
   "outputs": [
    {
     "data": {
      "text/html": [
       "<table>\n",
       "<thead><tr><th></th><th scope=col>hgnc_symbol</th></tr></thead>\n",
       "<tbody>\n",
       "\t<tr><th scope=row>28</th><td>TRIP6</td></tr>\n",
       "\t<tr><th scope=row>29</th><td>CASP8</td></tr>\n",
       "\t<tr><th scope=row>30</th><td>CHUK </td></tr>\n",
       "\t<tr><th scope=row>31</th><td>TAB3 </td></tr>\n",
       "\t<tr><th scope=row>32</th><td>CXCL1</td></tr>\n",
       "\t<tr><th scope=row>33</th><td>RIPK2</td></tr>\n",
       "</tbody>\n",
       "</table>\n"
      ],
      "text/latex": [
       "\\begin{tabular}{r|l}\n",
       "  & hgnc\\_symbol\\\\\n",
       "\\hline\n",
       "\t28 & TRIP6\\\\\n",
       "\t29 & CASP8\\\\\n",
       "\t30 & CHUK \\\\\n",
       "\t31 & TAB3 \\\\\n",
       "\t32 & CXCL1\\\\\n",
       "\t33 & RIPK2\\\\\n",
       "\\end{tabular}\n"
      ],
      "text/markdown": [
       "\n",
       "| <!--/--> | hgnc_symbol |\n",
       "|---|---|\n",
       "| 28 | TRIP6 |\n",
       "| 29 | CASP8 |\n",
       "| 30 | CHUK  |\n",
       "| 31 | TAB3  |\n",
       "| 32 | CXCL1 |\n",
       "| 33 | RIPK2 |\n",
       "\n"
      ],
      "text/plain": [
       "   hgnc_symbol\n",
       "28 TRIP6      \n",
       "29 CASP8      \n",
       "30 CHUK       \n",
       "31 TAB3       \n",
       "32 CXCL1      \n",
       "33 RIPK2      "
      ]
     },
     "metadata": {},
     "output_type": "display_data"
    },
    {
     "data": {
      "text/html": [
       "'The number of genes is 455.'"
      ],
      "text/latex": [
       "'The number of genes is 455.'"
      ],
      "text/markdown": [
       "'The number of genes is 455.'"
      ],
      "text/plain": [
       "[1] \"The number of genes is 455.\""
      ]
     },
     "metadata": {},
     "output_type": "display_data"
    }
   ],
   "source": [
    "# get all genes from network and combine them with inflammation genes\n",
    "networkGenes <- nodes[nodes$type != \"Process\",]\n",
    "networkGenes <- networkGenes[-2]\n",
    "colnames(networkGenes)[1] <- \"hgnc_symbol\"\n",
    "\n",
    "inflGenes <- as.data.frame(infl$hgnc_symbol)\n",
    "colnames(inflGenes)[1] <- \"hgnc_symbol\"\n",
    "\n",
    "networkGenes <- rbind(networkGenes, inflGenes)\n",
    "networkGenes <- unique(networkGenes)\n",
    "\n",
    "head(networkGenes)\n",
    "paste0(\"The number of genes is \", nrow(networkGenes), \".\")"
   ]
  },
  {
   "cell_type": "markdown",
   "metadata": {},
   "source": [
    "Lets create the ppi network!"
   ]
  },
  {
   "cell_type": "code",
   "execution_count": 8,
   "metadata": {},
   "outputs": [
    {
     "data": {
      "text/html": [
       "'Loaded network \\'String Network\\' with 449 nodes and 3674 edges'"
      ],
      "text/latex": [
       "'Loaded network \\textbackslash{}'String Network\\textbackslash{}' with 449 nodes and 3674 edges'"
      ],
      "text/markdown": [
       "'Loaded network \\'String Network\\' with 449 nodes and 3674 edges'"
      ],
      "text/plain": [
       "[1] \"Loaded network 'String Network' with 449 nodes and 3674 edges\""
      ]
     },
     "metadata": {},
     "output_type": "display_data"
    },
    {
     "data": {
      "text/html": [
       "<strong>message:</strong> 'Visual Style applied.'"
      ],
      "text/latex": [
       "\\textbf{message:} 'Visual Style applied.'"
      ],
      "text/markdown": [
       "**message:** 'Visual Style applied.'"
      ],
      "text/plain": [
       "                message \n",
       "\"Visual Style applied.\" "
      ]
     },
     "metadata": {},
     "output_type": "display_data"
    }
   ],
   "source": [
    "# create STRING app API command and create ppi network\n",
    "string_cmd <- paste('string protein query taxonID=9606 cutoff=0.9 limit=0 query=\"',paste(networkGenes$hgnc_symbol, collapse=\",\"),'\"',sep=\"\")\n",
    "commandsGET(string_cmd)\n",
    "\n",
    "setVisualStyle(\"default\")\n",
    "setNodeLabelMapping(table.column = \"display name\")"
   ]
  },
  {
   "cell_type": "markdown",
   "metadata": {},
   "source": [
    "### Now we have to do a manual part. We will merge the networks. Go to Cytoscape -> 'Tools' -> 'Merge' -> 'Networks...'. Then select the two network and click 'Advanced options'. For the STRING network chose 'query term' as matching column!"
   ]
  },
  {
   "cell_type": "markdown",
   "metadata": {},
   "source": [
    "Now we have the merged network we will extract the edge table and make two seperate files from this table for the Neo4J part. "
   ]
  },
  {
   "cell_type": "code",
   "execution_count": 11,
   "metadata": {},
   "outputs": [
    {
     "data": {
      "text/html": [
       "<table>\n",
       "<thead><tr><th></th><th scope=col>shared name</th><th scope=col>interaction</th></tr></thead>\n",
       "<tbody>\n",
       "\t<tr><th scope=row>16384</th><td>RNF135 (pp) IRF7 </td><td>pp               </td></tr>\n",
       "\t<tr><th scope=row>16385</th><td>RNF135 (pp) DDX58</td><td>pp               </td></tr>\n",
       "\t<tr><th scope=row>16386</th><td>RNF135 (pp) CHUK </td><td>pp               </td></tr>\n",
       "\t<tr><th scope=row>16387</th><td>RNF135 (pp) NFKB2</td><td>pp               </td></tr>\n",
       "\t<tr><th scope=row>16388</th><td>RNF135 (pp) CASP8</td><td>pp               </td></tr>\n",
       "\t<tr><th scope=row>16389</th><td>RNF135 (pp) TBK1 </td><td>pp               </td></tr>\n",
       "</tbody>\n",
       "</table>\n"
      ],
      "text/latex": [
       "\\begin{tabular}{r|ll}\n",
       "  & shared name & interaction\\\\\n",
       "\\hline\n",
       "\t16384 & RNF135 (pp) IRF7  & pp               \\\\\n",
       "\t16385 & RNF135 (pp) DDX58 & pp               \\\\\n",
       "\t16386 & RNF135 (pp) CHUK  & pp               \\\\\n",
       "\t16387 & RNF135 (pp) NFKB2 & pp               \\\\\n",
       "\t16388 & RNF135 (pp) CASP8 & pp               \\\\\n",
       "\t16389 & RNF135 (pp) TBK1  & pp               \\\\\n",
       "\\end{tabular}\n"
      ],
      "text/markdown": [
       "\n",
       "| <!--/--> | shared name | interaction |\n",
       "|---|---|---|\n",
       "| 16384 | RNF135 (pp) IRF7  | pp                |\n",
       "| 16385 | RNF135 (pp) DDX58 | pp                |\n",
       "| 16386 | RNF135 (pp) CHUK  | pp                |\n",
       "| 16387 | RNF135 (pp) NFKB2 | pp                |\n",
       "| 16388 | RNF135 (pp) CASP8 | pp                |\n",
       "| 16389 | RNF135 (pp) TBK1  | pp                |\n",
       "\n"
      ],
      "text/plain": [
       "      shared name       interaction\n",
       "16384 RNF135 (pp) IRF7  pp         \n",
       "16385 RNF135 (pp) DDX58 pp         \n",
       "16386 RNF135 (pp) CHUK  pp         \n",
       "16387 RNF135 (pp) NFKB2 pp         \n",
       "16388 RNF135 (pp) CASP8 pp         \n",
       "16389 RNF135 (pp) TBK1  pp         "
      ]
     },
     "metadata": {},
     "output_type": "display_data"
    }
   ],
   "source": [
    "# get table columns we need from edge table\n",
    "table <- getTableColumns(table = \"edge\", columns = c(\"shared name\", \"interaction\"))\n",
    "\n",
    "head(table)"
   ]
  },
  {
   "cell_type": "code",
   "execution_count": 12,
   "metadata": {},
   "outputs": [
    {
     "data": {
      "text/html": [
       "<table>\n",
       "<thead><tr><th></th><th scope=col>shared name</th><th scope=col>interaction</th></tr></thead>\n",
       "<tbody>\n",
       "\t<tr><th scope=row>12095</th><td>Platelet-mediated interactions with vascular and circulating cells%WikiPathways_20190410%WP4462%Homo sapiens (interacts) CD40LG</td><td>interacts                                                                                                                      </td></tr>\n",
       "\t<tr><th scope=row>12096</th><td>Platelet-mediated interactions with vascular and circulating cells%WikiPathways_20190410%WP4462%Homo sapiens (interacts) CD40  </td><td>interacts                                                                                                                      </td></tr>\n",
       "\t<tr><th scope=row>12097</th><td>Platelet-mediated interactions with vascular and circulating cells%WikiPathways_20190410%WP4462%Homo sapiens (interacts) SELPLG</td><td>interacts                                                                                                                      </td></tr>\n",
       "\t<tr><th scope=row>12098</th><td>Platelet-mediated interactions with vascular and circulating cells%WikiPathways_20190410%WP4462%Homo sapiens (interacts) CCL2  </td><td>interacts                                                                                                                      </td></tr>\n",
       "\t<tr><th scope=row>12099</th><td>Platelet-mediated interactions with vascular and circulating cells%WikiPathways_20190410%WP4462%Homo sapiens (interacts) SELP  </td><td>interacts                                                                                                                      </td></tr>\n",
       "\t<tr><th scope=row>12100</th><td>Platelet-mediated interactions with vascular and circulating cells%WikiPathways_20190410%WP4462%Homo sapiens (interacts) IL1B  </td><td>interacts                                                                                                                      </td></tr>\n",
       "</tbody>\n",
       "</table>\n"
      ],
      "text/latex": [
       "\\begin{tabular}{r|ll}\n",
       "  & shared name & interaction\\\\\n",
       "\\hline\n",
       "\t12095 & Platelet-mediated interactions with vascular and circulating cells\\%WikiPathways\\_20190410\\%WP4462\\%Homo sapiens (interacts) CD40LG & interacts                                                                                                                              \\\\\n",
       "\t12096 & Platelet-mediated interactions with vascular and circulating cells\\%WikiPathways\\_20190410\\%WP4462\\%Homo sapiens (interacts) CD40   & interacts                                                                                                                              \\\\\n",
       "\t12097 & Platelet-mediated interactions with vascular and circulating cells\\%WikiPathways\\_20190410\\%WP4462\\%Homo sapiens (interacts) SELPLG & interacts                                                                                                                              \\\\\n",
       "\t12098 & Platelet-mediated interactions with vascular and circulating cells\\%WikiPathways\\_20190410\\%WP4462\\%Homo sapiens (interacts) CCL2   & interacts                                                                                                                              \\\\\n",
       "\t12099 & Platelet-mediated interactions with vascular and circulating cells\\%WikiPathways\\_20190410\\%WP4462\\%Homo sapiens (interacts) SELP   & interacts                                                                                                                              \\\\\n",
       "\t12100 & Platelet-mediated interactions with vascular and circulating cells\\%WikiPathways\\_20190410\\%WP4462\\%Homo sapiens (interacts) IL1B   & interacts                                                                                                                              \\\\\n",
       "\\end{tabular}\n"
      ],
      "text/markdown": [
       "\n",
       "| <!--/--> | shared name | interaction |\n",
       "|---|---|---|\n",
       "| 12095 | Platelet-mediated interactions with vascular and circulating cells%WikiPathways_20190410%WP4462%Homo sapiens (interacts) CD40LG | interacts                                                                                                                       |\n",
       "| 12096 | Platelet-mediated interactions with vascular and circulating cells%WikiPathways_20190410%WP4462%Homo sapiens (interacts) CD40   | interacts                                                                                                                       |\n",
       "| 12097 | Platelet-mediated interactions with vascular and circulating cells%WikiPathways_20190410%WP4462%Homo sapiens (interacts) SELPLG | interacts                                                                                                                       |\n",
       "| 12098 | Platelet-mediated interactions with vascular and circulating cells%WikiPathways_20190410%WP4462%Homo sapiens (interacts) CCL2   | interacts                                                                                                                       |\n",
       "| 12099 | Platelet-mediated interactions with vascular and circulating cells%WikiPathways_20190410%WP4462%Homo sapiens (interacts) SELP   | interacts                                                                                                                       |\n",
       "| 12100 | Platelet-mediated interactions with vascular and circulating cells%WikiPathways_20190410%WP4462%Homo sapiens (interacts) IL1B   | interacts                                                                                                                       |\n",
       "\n"
      ],
      "text/plain": [
       "      shared name                                                                                                                    \n",
       "12095 Platelet-mediated interactions with vascular and circulating cells%WikiPathways_20190410%WP4462%Homo sapiens (interacts) CD40LG\n",
       "12096 Platelet-mediated interactions with vascular and circulating cells%WikiPathways_20190410%WP4462%Homo sapiens (interacts) CD40  \n",
       "12097 Platelet-mediated interactions with vascular and circulating cells%WikiPathways_20190410%WP4462%Homo sapiens (interacts) SELPLG\n",
       "12098 Platelet-mediated interactions with vascular and circulating cells%WikiPathways_20190410%WP4462%Homo sapiens (interacts) CCL2  \n",
       "12099 Platelet-mediated interactions with vascular and circulating cells%WikiPathways_20190410%WP4462%Homo sapiens (interacts) SELP  \n",
       "12100 Platelet-mediated interactions with vascular and circulating cells%WikiPathways_20190410%WP4462%Homo sapiens (interacts) IL1B  \n",
       "      interaction\n",
       "12095 interacts  \n",
       "12096 interacts  \n",
       "12097 interacts  \n",
       "12098 interacts  \n",
       "12099 interacts  \n",
       "12100 interacts  "
      ]
     },
     "metadata": {},
     "output_type": "display_data"
    },
    {
     "data": {
      "text/html": [
       "<table>\n",
       "<thead><tr><th></th><th scope=col>shared name</th><th scope=col>interaction</th></tr></thead>\n",
       "<tbody>\n",
       "\t<tr><th scope=row>16384</th><td>RNF135 (pp) IRF7 </td><td>pp               </td></tr>\n",
       "\t<tr><th scope=row>16385</th><td>RNF135 (pp) DDX58</td><td>pp               </td></tr>\n",
       "\t<tr><th scope=row>16386</th><td>RNF135 (pp) CHUK </td><td>pp               </td></tr>\n",
       "\t<tr><th scope=row>16387</th><td>RNF135 (pp) NFKB2</td><td>pp               </td></tr>\n",
       "\t<tr><th scope=row>16388</th><td>RNF135 (pp) CASP8</td><td>pp               </td></tr>\n",
       "\t<tr><th scope=row>16389</th><td>RNF135 (pp) TBK1 </td><td>pp               </td></tr>\n",
       "</tbody>\n",
       "</table>\n"
      ],
      "text/latex": [
       "\\begin{tabular}{r|ll}\n",
       "  & shared name & interaction\\\\\n",
       "\\hline\n",
       "\t16384 & RNF135 (pp) IRF7  & pp               \\\\\n",
       "\t16385 & RNF135 (pp) DDX58 & pp               \\\\\n",
       "\t16386 & RNF135 (pp) CHUK  & pp               \\\\\n",
       "\t16387 & RNF135 (pp) NFKB2 & pp               \\\\\n",
       "\t16388 & RNF135 (pp) CASP8 & pp               \\\\\n",
       "\t16389 & RNF135 (pp) TBK1  & pp               \\\\\n",
       "\\end{tabular}\n"
      ],
      "text/markdown": [
       "\n",
       "| <!--/--> | shared name | interaction |\n",
       "|---|---|---|\n",
       "| 16384 | RNF135 (pp) IRF7  | pp                |\n",
       "| 16385 | RNF135 (pp) DDX58 | pp                |\n",
       "| 16386 | RNF135 (pp) CHUK  | pp                |\n",
       "| 16387 | RNF135 (pp) NFKB2 | pp                |\n",
       "| 16388 | RNF135 (pp) CASP8 | pp                |\n",
       "| 16389 | RNF135 (pp) TBK1  | pp                |\n",
       "\n"
      ],
      "text/plain": [
       "      shared name       interaction\n",
       "16384 RNF135 (pp) IRF7  pp         \n",
       "16385 RNF135 (pp) DDX58 pp         \n",
       "16386 RNF135 (pp) CHUK  pp         \n",
       "16387 RNF135 (pp) NFKB2 pp         \n",
       "16388 RNF135 (pp) CASP8 pp         \n",
       "16389 RNF135 (pp) TBK1  pp         "
      ]
     },
     "metadata": {},
     "output_type": "display_data"
    }
   ],
   "source": [
    "table_process <- table[table$interaction == \"interacts\",]\n",
    "table_pp <- table[table$interaction == \"pp\",]\n",
    "\n",
    "head(table_process)\n",
    "head(table_pp)"
   ]
  },
  {
   "cell_type": "code",
   "execution_count": 13,
   "metadata": {},
   "outputs": [
    {
     "data": {
      "text/html": [
       "<table>\n",
       "<thead><tr><th scope=col>source</th><th scope=col>target</th></tr></thead>\n",
       "<tbody>\n",
       "\t<tr><td>Platelet-mediated                                                                         </td><td>interactionswithvascularandcirculatingcells%WikiPathways_20190410%WP4462%HomosapiensCD40LG</td></tr>\n",
       "\t<tr><td>Platelet-mediated                                                                         </td><td>interactionswithvascularandcirculatingcells%WikiPathways_20190410%WP4462%HomosapiensCD40  </td></tr>\n",
       "\t<tr><td>Platelet-mediated                                                                         </td><td>interactionswithvascularandcirculatingcells%WikiPathways_20190410%WP4462%HomosapiensSELPLG</td></tr>\n",
       "\t<tr><td>Platelet-mediated                                                                         </td><td>interactionswithvascularandcirculatingcells%WikiPathways_20190410%WP4462%HomosapiensCCL2  </td></tr>\n",
       "\t<tr><td>Platelet-mediated                                                                         </td><td>interactionswithvascularandcirculatingcells%WikiPathways_20190410%WP4462%HomosapiensSELP  </td></tr>\n",
       "\t<tr><td>Platelet-mediated                                                                         </td><td>interactionswithvascularandcirculatingcells%WikiPathways_20190410%WP4462%HomosapiensIL1B  </td></tr>\n",
       "</tbody>\n",
       "</table>\n"
      ],
      "text/latex": [
       "\\begin{tabular}{r|ll}\n",
       " source & target\\\\\n",
       "\\hline\n",
       "\t Platelet-mediated                                                                                  & interactionswithvascularandcirculatingcells\\%WikiPathways\\_20190410\\%WP4462\\%HomosapiensCD40LG\\\\\n",
       "\t Platelet-mediated                                                                                  & interactionswithvascularandcirculatingcells\\%WikiPathways\\_20190410\\%WP4462\\%HomosapiensCD40  \\\\\n",
       "\t Platelet-mediated                                                                                  & interactionswithvascularandcirculatingcells\\%WikiPathways\\_20190410\\%WP4462\\%HomosapiensSELPLG\\\\\n",
       "\t Platelet-mediated                                                                                  & interactionswithvascularandcirculatingcells\\%WikiPathways\\_20190410\\%WP4462\\%HomosapiensCCL2  \\\\\n",
       "\t Platelet-mediated                                                                                  & interactionswithvascularandcirculatingcells\\%WikiPathways\\_20190410\\%WP4462\\%HomosapiensSELP  \\\\\n",
       "\t Platelet-mediated                                                                                  & interactionswithvascularandcirculatingcells\\%WikiPathways\\_20190410\\%WP4462\\%HomosapiensIL1B  \\\\\n",
       "\\end{tabular}\n"
      ],
      "text/markdown": [
       "\n",
       "| source | target |\n",
       "|---|---|\n",
       "| Platelet-mediated                                                                          | interactionswithvascularandcirculatingcells%WikiPathways_20190410%WP4462%HomosapiensCD40LG |\n",
       "| Platelet-mediated                                                                          | interactionswithvascularandcirculatingcells%WikiPathways_20190410%WP4462%HomosapiensCD40   |\n",
       "| Platelet-mediated                                                                          | interactionswithvascularandcirculatingcells%WikiPathways_20190410%WP4462%HomosapiensSELPLG |\n",
       "| Platelet-mediated                                                                          | interactionswithvascularandcirculatingcells%WikiPathways_20190410%WP4462%HomosapiensCCL2   |\n",
       "| Platelet-mediated                                                                          | interactionswithvascularandcirculatingcells%WikiPathways_20190410%WP4462%HomosapiensSELP   |\n",
       "| Platelet-mediated                                                                          | interactionswithvascularandcirculatingcells%WikiPathways_20190410%WP4462%HomosapiensIL1B   |\n",
       "\n"
      ],
      "text/plain": [
       "  source           \n",
       "1 Platelet-mediated\n",
       "2 Platelet-mediated\n",
       "3 Platelet-mediated\n",
       "4 Platelet-mediated\n",
       "5 Platelet-mediated\n",
       "6 Platelet-mediated\n",
       "  target                                                                                    \n",
       "1 interactionswithvascularandcirculatingcells%WikiPathways_20190410%WP4462%HomosapiensCD40LG\n",
       "2 interactionswithvascularandcirculatingcells%WikiPathways_20190410%WP4462%HomosapiensCD40  \n",
       "3 interactionswithvascularandcirculatingcells%WikiPathways_20190410%WP4462%HomosapiensSELPLG\n",
       "4 interactionswithvascularandcirculatingcells%WikiPathways_20190410%WP4462%HomosapiensCCL2  \n",
       "5 interactionswithvascularandcirculatingcells%WikiPathways_20190410%WP4462%HomosapiensSELP  \n",
       "6 interactionswithvascularandcirculatingcells%WikiPathways_20190410%WP4462%HomosapiensIL1B  "
      ]
     },
     "metadata": {},
     "output_type": "display_data"
    }
   ],
   "source": [
    "# clean process table\n",
    "table_process <- table_process[-2]\n",
    "table_process <- as.data.frame(lapply(table_process, gsub, pattern =\"\\\\(\", replacement = ''))\n",
    "table_process <- as.data.frame(lapply(table_process, gsub, pattern =\"\\\\)\", replacement = ''))\n",
    "table_process <- as.data.frame(lapply(table_process, gsub, pattern =\"interacts\", replacement = ''))\n",
    "\n",
    "table_process <- as.data.frame(str_split_fixed(table_process$shared.name, \" \", n = 2))\n",
    "\n",
    "table_process <- as.data.frame(apply(table_process,2,function(x)gsub('\\\\s+', '',x)))\n",
    "colnames(table_process)[c(1,2)] <- c(\"source\", \"target\")\n",
    "                                     \n",
    "head(table_process)\n",
    "                                     \n",
    "# save table\n",
    "write.table(table_process, file.path(getwd(), \"data-output\", \"cat_gene_table.txt\"), col.names = T, row.names = F, sep = \"\\t\", quote = F)"
   ]
  },
  {
   "cell_type": "code",
   "execution_count": 14,
   "metadata": {},
   "outputs": [
    {
     "data": {
      "text/html": [
       "<table>\n",
       "<thead><tr><th scope=col>source</th><th scope=col>target</th></tr></thead>\n",
       "<tbody>\n",
       "\t<tr><td>RNF135</td><td>IRF7  </td></tr>\n",
       "\t<tr><td>RNF135</td><td>DDX58 </td></tr>\n",
       "\t<tr><td>RNF135</td><td>CHUK  </td></tr>\n",
       "\t<tr><td>RNF135</td><td>NFKB2 </td></tr>\n",
       "\t<tr><td>RNF135</td><td>CASP8 </td></tr>\n",
       "\t<tr><td>RNF135</td><td>TBK1  </td></tr>\n",
       "</tbody>\n",
       "</table>\n"
      ],
      "text/latex": [
       "\\begin{tabular}{r|ll}\n",
       " source & target\\\\\n",
       "\\hline\n",
       "\t RNF135 & IRF7  \\\\\n",
       "\t RNF135 & DDX58 \\\\\n",
       "\t RNF135 & CHUK  \\\\\n",
       "\t RNF135 & NFKB2 \\\\\n",
       "\t RNF135 & CASP8 \\\\\n",
       "\t RNF135 & TBK1  \\\\\n",
       "\\end{tabular}\n"
      ],
      "text/markdown": [
       "\n",
       "| source | target |\n",
       "|---|---|\n",
       "| RNF135 | IRF7   |\n",
       "| RNF135 | DDX58  |\n",
       "| RNF135 | CHUK   |\n",
       "| RNF135 | NFKB2  |\n",
       "| RNF135 | CASP8  |\n",
       "| RNF135 | TBK1   |\n",
       "\n"
      ],
      "text/plain": [
       "  source target\n",
       "1 RNF135 IRF7  \n",
       "2 RNF135 DDX58 \n",
       "3 RNF135 CHUK  \n",
       "4 RNF135 NFKB2 \n",
       "5 RNF135 CASP8 \n",
       "6 RNF135 TBK1  "
      ]
     },
     "metadata": {},
     "output_type": "display_data"
    }
   ],
   "source": [
    "# clean pp table\n",
    "table_pp <- table_pp[-2]\n",
    "table_pp <- as.data.frame(lapply(table_pp, gsub, pattern =\"\\\\(\", replacement = ''))\n",
    "table_pp <- as.data.frame(lapply(table_pp, gsub, pattern =\"\\\\)\", replacement = ''))\n",
    "table_pp <- as.data.frame(lapply(table_pp, gsub, pattern =\"pp\", replacement = ''))\n",
    "\n",
    "table_pp <- as.data.frame(str_split_fixed(table_pp$shared.name, \" \", n = 2))\n",
    "\n",
    "table_pp <- as.data.frame(apply(table_pp,2,function(x)gsub('\\\\s+', '',x)))\n",
    "colnames(table_pp)[c(1,2)] <- c(\"source\", \"target\")\n",
    "                             \n",
    "head(table_pp)\n",
    "\n",
    "# save table\n",
    "write.table(table_pp, file.path(getwd(), \"data-output\", \"ppi_table.txt\"), col.names = T, row.names = F, sep = \"\\t\", quote = F)"
   ]
  },
  {
   "cell_type": "markdown",
   "metadata": {},
   "source": [
    "Now that we have the edge table split up we can check the shared neighbors between process nodes and added gene nodes. We will use the RNeo4J package for this purpose. "
   ]
  },
  {
   "cell_type": "code",
   "execution_count": 15,
   "metadata": {},
   "outputs": [],
   "source": [
    "# first make conenction with Neo4J. Start Neo4J and open the url in a webbrowser. Create your own username and password\n",
    "graph = startGraph(\"http://localhost:7474/db/data/\", username = \"neo4j\", password = \"123\")"
   ]
  },
  {
   "cell_type": "code",
   "execution_count": 19,
   "metadata": {},
   "outputs": [],
   "source": [
    "# load in both tables and load them in Neo4J\n",
    "data = data.frame(read.table(file.path(getwd(), \"data-output\", \"cat_gene_table.txt\"), header = T, sep = \"\\t\"))\n",
    "data <- unique(data)\n",
    "\n",
    "query = \"\n",
    "MERGE (source:Category {id:{Category}})\n",
    "MERGE (target:Gene {id:{Gene}})\n",
    "CREATE (source)<-[:pathway]-(target)\n",
    "\"\n",
    "\n",
    "t = newTransaction(graph)\n",
    "\n",
    "for (i in 1:nrow(data)) {\n",
    "  Category = data[i, ]$source\n",
    "  Gene = data[i, ]$target\n",
    "  \n",
    "  appendCypher(t, \n",
    "               query, \n",
    "               Category = Category, \n",
    "               Gene = Gene \n",
    "               )\n",
    "}\n",
    "\n",
    "commit(t)\n",
    "\n",
    "data1 = data.frame(read.table(file.path(getwd(), \"data-output\", \"ppi_table.txt\"), header = T, sep = \"\\t\"))\n",
    "\n",
    "query = \"\n",
    "MERGE (source:Gene {id:{Gene}})\n",
    "MERGE (target:Gene1 {id:{Gene1}})\n",
    "CREATE (source)<-[:ppi]-(target)\n",
    "\"\n",
    "\n",
    "y = newTransaction(graph)\n",
    "\n",
    "for (i in 1:nrow(data1)) {\n",
    "  Gene = data1[i, ]$source\n",
    "  Gene1 = data1[i, ]$target\n",
    "  \n",
    "  appendCypher(y, \n",
    "               query, \n",
    "               Gene = Gene, \n",
    "               Gene1 = Gene1 \n",
    "  )\n",
    "}\n",
    "\n",
    "commit(y)"
   ]
  },
  {
   "cell_type": "code",
   "execution_count": 20,
   "metadata": {},
   "outputs": [
    {
     "data": {
      "text/html": [
       "<table>\n",
       "<thead><tr><th></th><th scope=col>source_id</th><th scope=col>target_id</th><th scope=col>common_neighbors</th></tr></thead>\n",
       "<tbody>\n",
       "\t<tr><th scope=row>4</th><td>REACTOME_CREATION_OF_C4_AND_C2_ACTIVATORS</td><td>LEP                                      </td><td>1                                        </td></tr>\n",
       "\t<tr><th scope=row>10</th><td>REACTOME_CREATION_OF_C4_AND_C2_ACTIVATORS</td><td>ADIPOQ                                   </td><td>1                                        </td></tr>\n",
       "\t<tr><th scope=row>16</th><td>REACTOME_THE_NLRP3_INFLAMMASOME          </td><td>CNR2                                     </td><td>1                                        </td></tr>\n",
       "\t<tr><th scope=row>18</th><td>REACTOME_THE_NLRP3_INFLAMMASOME          </td><td>CCL4                                     </td><td>1                                        </td></tr>\n",
       "\t<tr><th scope=row>22</th><td>REACTOME_THE_NLRP3_INFLAMMASOME          </td><td>F2R                                      </td><td>1                                        </td></tr>\n",
       "\t<tr><th scope=row>23</th><td>REACTOME_THE_NLRP3_INFLAMMASOME          </td><td>CALCA                                    </td><td>1                                        </td></tr>\n",
       "</tbody>\n",
       "</table>\n"
      ],
      "text/latex": [
       "\\begin{tabular}{r|lll}\n",
       "  & source\\_id & target\\_id & common\\_neighbors\\\\\n",
       "\\hline\n",
       "\t4 & REACTOME\\_CREATION\\_OF\\_C4\\_AND\\_C2\\_ACTIVATORS & LEP                                                   & 1                                                    \\\\\n",
       "\t10 & REACTOME\\_CREATION\\_OF\\_C4\\_AND\\_C2\\_ACTIVATORS & ADIPOQ                                                & 1                                                    \\\\\n",
       "\t16 & REACTOME\\_THE\\_NLRP3\\_INFLAMMASOME           & CNR2                                            & 1                                              \\\\\n",
       "\t18 & REACTOME\\_THE\\_NLRP3\\_INFLAMMASOME           & CCL4                                            & 1                                              \\\\\n",
       "\t22 & REACTOME\\_THE\\_NLRP3\\_INFLAMMASOME           & F2R                                             & 1                                              \\\\\n",
       "\t23 & REACTOME\\_THE\\_NLRP3\\_INFLAMMASOME           & CALCA                                           & 1                                              \\\\\n",
       "\\end{tabular}\n"
      ],
      "text/markdown": [
       "\n",
       "| <!--/--> | source_id | target_id | common_neighbors |\n",
       "|---|---|---|---|\n",
       "| 4 | REACTOME_CREATION_OF_C4_AND_C2_ACTIVATORS | LEP                                       | 1                                         |\n",
       "| 10 | REACTOME_CREATION_OF_C4_AND_C2_ACTIVATORS | ADIPOQ                                    | 1                                         |\n",
       "| 16 | REACTOME_THE_NLRP3_INFLAMMASOME           | CNR2                                      | 1                                         |\n",
       "| 18 | REACTOME_THE_NLRP3_INFLAMMASOME           | CCL4                                      | 1                                         |\n",
       "| 22 | REACTOME_THE_NLRP3_INFLAMMASOME           | F2R                                       | 1                                         |\n",
       "| 23 | REACTOME_THE_NLRP3_INFLAMMASOME           | CALCA                                     | 1                                         |\n",
       "\n"
      ],
      "text/plain": [
       "   source_id                                 target_id common_neighbors\n",
       "4  REACTOME_CREATION_OF_C4_AND_C2_ACTIVATORS LEP       1               \n",
       "10 REACTOME_CREATION_OF_C4_AND_C2_ACTIVATORS ADIPOQ    1               \n",
       "16 REACTOME_THE_NLRP3_INFLAMMASOME           CNR2      1               \n",
       "18 REACTOME_THE_NLRP3_INFLAMMASOME           CCL4      1               \n",
       "22 REACTOME_THE_NLRP3_INFLAMMASOME           F2R       1               \n",
       "23 REACTOME_THE_NLRP3_INFLAMMASOME           CALCA     1               "
      ]
     },
     "metadata": {},
     "output_type": "display_data"
    },
    {
     "data": {
      "text/html": [
       "<ol class=list-inline>\n",
       "\t<li>229</li>\n",
       "\t<li>3</li>\n",
       "</ol>\n"
      ],
      "text/latex": [
       "\\begin{enumerate*}\n",
       "\\item 229\n",
       "\\item 3\n",
       "\\end{enumerate*}\n"
      ],
      "text/markdown": [
       "1. 229\n",
       "2. 3\n",
       "\n",
       "\n"
      ],
      "text/plain": [
       "[1] 229   3"
      ]
     },
     "metadata": {},
     "output_type": "display_data"
    }
   ],
   "source": [
    "# perform Neo4J query\n",
    "shared_neighbors <- cypher(graph, \"MATCH(source:Category)-[:pathway]-(neighbor:Gene)-[:ppi]-(target:Gene1)\n",
    "WHERE NOT (source) = (target)\n",
    "RETURN DISTINCT source.id AS source_id, target.id AS target_id, count(neighbor) AS common_neighbors\")\n",
    "\n",
    "# only extract the added genes via STRING\n",
    "genes_added <- read.table(file.path(getwd(), \"data-input\", \"genes_added.txt\"), header = T, sep = \"\\t\")\n",
    "\n",
    "colnames(genes_added)[1] <- \"gene\"\n",
    "\n",
    "# retrieve rows if one of the added genes is in that row\n",
    "shared_neighbors_genes_added <- shared_neighbors[shared_neighbors$target_id %in% genes_added$gene,]\n",
    "\n",
    "head(shared_neighbors_genes_added)\n",
    "dim(shared_neighbors_genes_added)"
   ]
  },
  {
   "cell_type": "code",
   "execution_count": 21,
   "metadata": {},
   "outputs": [],
   "source": [
    "# save shared neighbors table\n",
    "write.table(shared_neighbors, file.path(getwd(), \"data-output\", \"shared_neighbors.txt\"), row.names = F, sep = \"\\t\", quote = F)\n",
    "write.table(shared_neighbors_genes_added, file.path(getwd(), \"data-output\", \"shared_neighbors_genes_added.txt\"), row.names = F, sep = \"\\t\", quote = F)"
   ]
  },
  {
   "cell_type": "markdown",
   "metadata": {},
   "source": [
    "With these shared neighbors we can decide if we would like to include genes. We opt to include genes with at least 4 shared neighbors to a process node. "
   ]
  },
  {
   "cell_type": "code",
   "execution_count": 22,
   "metadata": {},
   "outputs": [
    {
     "data": {
      "text/html": [
       "<table>\n",
       "<thead><tr><th></th><th scope=col>source_id</th><th scope=col>target_id</th><th scope=col>common_neighbors</th></tr></thead>\n",
       "<tbody>\n",
       "\t<tr><th scope=row>107</th><td>REACTOME_IL_6_SIGNALING                                      </td><td>PIK3R1                                                       </td><td> 4                                                           </td></tr>\n",
       "\t<tr><th scope=row>114</th><td>REACTOME_IL_6_SIGNALING                                      </td><td>SHC1                                                         </td><td> 5                                                           </td></tr>\n",
       "\t<tr><th scope=row>199</th><td>REACTOME_ADVANCED_GLYCOSYLATION_ENDPRODUCT_RECEPTOR_SIGNALING</td><td>CCL4                                                         </td><td> 4                                                           </td></tr>\n",
       "\t<tr><th scope=row>416</th><td>REACTOME_TRAF6_MEDIATED_NFKB_ACTIVATION                      </td><td>PIK3R1                                                       </td><td> 4                                                           </td></tr>\n",
       "\t<tr><th scope=row>438</th><td>REACTOME_TRAF6_MEDIATED_NFKB_ACTIVATION                      </td><td>UBA52                                                        </td><td> 8                                                           </td></tr>\n",
       "\t<tr><th scope=row>453</th><td>REACTOME_TRAF6_MEDIATED_NFKB_ACTIVATION                      </td><td>UBC                                                          </td><td>10                                                           </td></tr>\n",
       "</tbody>\n",
       "</table>\n"
      ],
      "text/latex": [
       "\\begin{tabular}{r|lll}\n",
       "  & source\\_id & target\\_id & common\\_neighbors\\\\\n",
       "\\hline\n",
       "\t107 & REACTOME\\_IL\\_6\\_SIGNALING                                       & PIK3R1                                                              &  4                                                                 \\\\\n",
       "\t114 & REACTOME\\_IL\\_6\\_SIGNALING                                       & SHC1                                                                &  5                                                                 \\\\\n",
       "\t199 & REACTOME\\_ADVANCED\\_GLYCOSYLATION\\_ENDPRODUCT\\_RECEPTOR\\_SIGNALING & CCL4                                                                    &  4                                                                     \\\\\n",
       "\t416 & REACTOME\\_TRAF6\\_MEDIATED\\_NFKB\\_ACTIVATION                       & PIK3R1                                                                &  4                                                                   \\\\\n",
       "\t438 & REACTOME\\_TRAF6\\_MEDIATED\\_NFKB\\_ACTIVATION                       & UBA52                                                                 &  8                                                                   \\\\\n",
       "\t453 & REACTOME\\_TRAF6\\_MEDIATED\\_NFKB\\_ACTIVATION                       & UBC                                                                   & 10                                                                   \\\\\n",
       "\\end{tabular}\n"
      ],
      "text/markdown": [
       "\n",
       "| <!--/--> | source_id | target_id | common_neighbors |\n",
       "|---|---|---|---|\n",
       "| 107 | REACTOME_IL_6_SIGNALING                                       | PIK3R1                                                        |  4                                                            |\n",
       "| 114 | REACTOME_IL_6_SIGNALING                                       | SHC1                                                          |  5                                                            |\n",
       "| 199 | REACTOME_ADVANCED_GLYCOSYLATION_ENDPRODUCT_RECEPTOR_SIGNALING | CCL4                                                          |  4                                                            |\n",
       "| 416 | REACTOME_TRAF6_MEDIATED_NFKB_ACTIVATION                       | PIK3R1                                                        |  4                                                            |\n",
       "| 438 | REACTOME_TRAF6_MEDIATED_NFKB_ACTIVATION                       | UBA52                                                         |  8                                                            |\n",
       "| 453 | REACTOME_TRAF6_MEDIATED_NFKB_ACTIVATION                       | UBC                                                           | 10                                                            |\n",
       "\n"
      ],
      "text/plain": [
       "    source_id                                                     target_id\n",
       "107 REACTOME_IL_6_SIGNALING                                       PIK3R1   \n",
       "114 REACTOME_IL_6_SIGNALING                                       SHC1     \n",
       "199 REACTOME_ADVANCED_GLYCOSYLATION_ENDPRODUCT_RECEPTOR_SIGNALING CCL4     \n",
       "416 REACTOME_TRAF6_MEDIATED_NFKB_ACTIVATION                       PIK3R1   \n",
       "438 REACTOME_TRAF6_MEDIATED_NFKB_ACTIVATION                       UBA52    \n",
       "453 REACTOME_TRAF6_MEDIATED_NFKB_ACTIVATION                       UBC      \n",
       "    common_neighbors\n",
       "107  4              \n",
       "114  5              \n",
       "199  4              \n",
       "416  4              \n",
       "438  8              \n",
       "453 10              "
      ]
     },
     "metadata": {},
     "output_type": "display_data"
    },
    {
     "data": {
      "text/html": [
       "<ol class=list-inline>\n",
       "\t<li>26</li>\n",
       "\t<li>3</li>\n",
       "</ol>\n"
      ],
      "text/latex": [
       "\\begin{enumerate*}\n",
       "\\item 26\n",
       "\\item 3\n",
       "\\end{enumerate*}\n"
      ],
      "text/markdown": [
       "1. 26\n",
       "2. 3\n",
       "\n",
       "\n"
      ],
      "text/plain": [
       "[1] 26  3"
      ]
     },
     "metadata": {},
     "output_type": "display_data"
    }
   ],
   "source": [
    "# at least 4 of more shared neighbors\n",
    "shared_neighbors_genes_added <- shared_neighbors_genes_added[shared_neighbors_genes_added$common_neighbors >= 4,]\n",
    "head(shared_neighbors_genes_added)\n",
    "dim(shared_neighbors_genes_added)"
   ]
  },
  {
   "cell_type": "code",
   "execution_count": 23,
   "metadata": {},
   "outputs": [
    {
     "data": {
      "text/html": [
       "<table>\n",
       "<thead><tr><th></th><th scope=col>source</th><th scope=col>target</th></tr></thead>\n",
       "<tbody>\n",
       "\t<tr><th scope=row>107</th><td>REACTOME_IL_6_SIGNALING                                      </td><td>PIK3R1                                                       </td></tr>\n",
       "\t<tr><th scope=row>114</th><td>REACTOME_IL_6_SIGNALING                                      </td><td>SHC1                                                         </td></tr>\n",
       "\t<tr><th scope=row>199</th><td>REACTOME_ADVANCED_GLYCOSYLATION_ENDPRODUCT_RECEPTOR_SIGNALING</td><td>CCL4                                                         </td></tr>\n",
       "\t<tr><th scope=row>416</th><td>REACTOME_TRAF6_MEDIATED_NFKB_ACTIVATION                      </td><td>PIK3R1                                                       </td></tr>\n",
       "\t<tr><th scope=row>438</th><td>REACTOME_TRAF6_MEDIATED_NFKB_ACTIVATION                      </td><td>UBA52                                                        </td></tr>\n",
       "\t<tr><th scope=row>453</th><td>REACTOME_TRAF6_MEDIATED_NFKB_ACTIVATION                      </td><td>UBC                                                          </td></tr>\n",
       "</tbody>\n",
       "</table>\n"
      ],
      "text/latex": [
       "\\begin{tabular}{r|ll}\n",
       "  & source & target\\\\\n",
       "\\hline\n",
       "\t107 & REACTOME\\_IL\\_6\\_SIGNALING                                       & PIK3R1                                                             \\\\\n",
       "\t114 & REACTOME\\_IL\\_6\\_SIGNALING                                       & SHC1                                                               \\\\\n",
       "\t199 & REACTOME\\_ADVANCED\\_GLYCOSYLATION\\_ENDPRODUCT\\_RECEPTOR\\_SIGNALING & CCL4                                                                   \\\\\n",
       "\t416 & REACTOME\\_TRAF6\\_MEDIATED\\_NFKB\\_ACTIVATION                       & PIK3R1                                                               \\\\\n",
       "\t438 & REACTOME\\_TRAF6\\_MEDIATED\\_NFKB\\_ACTIVATION                       & UBA52                                                                \\\\\n",
       "\t453 & REACTOME\\_TRAF6\\_MEDIATED\\_NFKB\\_ACTIVATION                       & UBC                                                                  \\\\\n",
       "\\end{tabular}\n"
      ],
      "text/markdown": [
       "\n",
       "| <!--/--> | source | target |\n",
       "|---|---|---|\n",
       "| 107 | REACTOME_IL_6_SIGNALING                                       | PIK3R1                                                        |\n",
       "| 114 | REACTOME_IL_6_SIGNALING                                       | SHC1                                                          |\n",
       "| 199 | REACTOME_ADVANCED_GLYCOSYLATION_ENDPRODUCT_RECEPTOR_SIGNALING | CCL4                                                          |\n",
       "| 416 | REACTOME_TRAF6_MEDIATED_NFKB_ACTIVATION                       | PIK3R1                                                        |\n",
       "| 438 | REACTOME_TRAF6_MEDIATED_NFKB_ACTIVATION                       | UBA52                                                         |\n",
       "| 453 | REACTOME_TRAF6_MEDIATED_NFKB_ACTIVATION                       | UBC                                                           |\n",
       "\n"
      ],
      "text/plain": [
       "    source                                                        target\n",
       "107 REACTOME_IL_6_SIGNALING                                       PIK3R1\n",
       "114 REACTOME_IL_6_SIGNALING                                       SHC1  \n",
       "199 REACTOME_ADVANCED_GLYCOSYLATION_ENDPRODUCT_RECEPTOR_SIGNALING CCL4  \n",
       "416 REACTOME_TRAF6_MEDIATED_NFKB_ACTIVATION                       PIK3R1\n",
       "438 REACTOME_TRAF6_MEDIATED_NFKB_ACTIVATION                       UBA52 \n",
       "453 REACTOME_TRAF6_MEDIATED_NFKB_ACTIVATION                       UBC   "
      ]
     },
     "metadata": {},
     "output_type": "display_data"
    },
    {
     "data": {
      "text/html": [
       "<ol class=list-inline>\n",
       "\t<li>598</li>\n",
       "\t<li>2</li>\n",
       "</ol>\n"
      ],
      "text/latex": [
       "\\begin{enumerate*}\n",
       "\\item 598\n",
       "\\item 2\n",
       "\\end{enumerate*}\n"
      ],
      "text/markdown": [
       "1. 598\n",
       "2. 2\n",
       "\n",
       "\n"
      ],
      "text/plain": [
       "[1] 598   2"
      ]
     },
     "metadata": {},
     "output_type": "display_data"
    }
   ],
   "source": [
    "# add these to the edge table and node table\n",
    "# edge table\n",
    "colnames(shared_neighbors_genes_added)[c(1,2)] <- c(\"source\", \"target\") \n",
    "shared_neighbors_genes_added <- shared_neighbors_genes_added[-3]\n",
    "edges1 <- edges[-3]\n",
    "edge_table <- rbind(shared_neighbors_genes_added, edges1)\n",
    "edge_table <- unique(edge_table)\n",
    "\n",
    "head(edge_table)\n",
    "dim(edge_table)\n",
    "\n",
    "# save edge table\n",
    "write.table(edge_table, file.path(getwd(), \"data-output\", \"edge_table_final.txt\"), row.names = F, sep = \"\\t\", quote = F)"
   ]
  },
  {
   "cell_type": "code",
   "execution_count": 24,
   "metadata": {},
   "outputs": [
    {
     "data": {
      "text/html": [
       "<table>\n",
       "<thead><tr><th></th><th scope=col>id</th><th scope=col>type</th></tr></thead>\n",
       "<tbody>\n",
       "\t<tr><th scope=row>1</th><td>REACTOME_IL_6_SIGNALING                                                       </td><td>Process                                                                       </td></tr>\n",
       "\t<tr><th scope=row>3</th><td>REACTOME_ADVANCED_GLYCOSYLATION_ENDPRODUCT_RECEPTOR_SIGNALING                 </td><td>Process                                                                       </td></tr>\n",
       "\t<tr><th scope=row>4</th><td>REACTOME_TRAF6_MEDIATED_NFKB_ACTIVATION                                       </td><td>Process                                                                       </td></tr>\n",
       "\t<tr><th scope=row>7</th><td>REACTOME_TAK1_ACTIVATES_NFKB_BY_PHOSPHORYLATION_AND_ACTIVATION_OF_IKKS_COMPLEX</td><td>Process                                                                       </td></tr>\n",
       "\t<tr><th scope=row>10</th><td>REACTOME_RIP_MEDIATED_NFKB_ACTIVATION_VIA_DAI                                 </td><td>Process                                                                       </td></tr>\n",
       "\t<tr><th scope=row>13</th><td>KEGG_NOD_LIKE_RECEPTOR_SIGNALING_PATHWAY                                      </td><td>Process                                                                       </td></tr>\n",
       "</tbody>\n",
       "</table>\n"
      ],
      "text/latex": [
       "\\begin{tabular}{r|ll}\n",
       "  & id & type\\\\\n",
       "\\hline\n",
       "\t1 & REACTOME\\_IL\\_6\\_SIGNALING                                                        & Process                                                                             \\\\\n",
       "\t3 & REACTOME\\_ADVANCED\\_GLYCOSYLATION\\_ENDPRODUCT\\_RECEPTOR\\_SIGNALING                  & Process                                                                                 \\\\\n",
       "\t4 & REACTOME\\_TRAF6\\_MEDIATED\\_NFKB\\_ACTIVATION                                        & Process                                                                               \\\\\n",
       "\t7 & REACTOME\\_TAK1\\_ACTIVATES\\_NFKB\\_BY\\_PHOSPHORYLATION\\_AND\\_ACTIVATION\\_OF\\_IKKS\\_COMPLEX & Process                                                                                           \\\\\n",
       "\t10 & REACTOME\\_RIP\\_MEDIATED\\_NFKB\\_ACTIVATION\\_VIA\\_DAI                                  & Process                                                                                   \\\\\n",
       "\t13 & KEGG\\_NOD\\_LIKE\\_RECEPTOR\\_SIGNALING\\_PATHWAY                                       & Process                                                                                 \\\\\n",
       "\\end{tabular}\n"
      ],
      "text/markdown": [
       "\n",
       "| <!--/--> | id | type |\n",
       "|---|---|---|\n",
       "| 1 | REACTOME_IL_6_SIGNALING                                                        | Process                                                                        |\n",
       "| 3 | REACTOME_ADVANCED_GLYCOSYLATION_ENDPRODUCT_RECEPTOR_SIGNALING                  | Process                                                                        |\n",
       "| 4 | REACTOME_TRAF6_MEDIATED_NFKB_ACTIVATION                                        | Process                                                                        |\n",
       "| 7 | REACTOME_TAK1_ACTIVATES_NFKB_BY_PHOSPHORYLATION_AND_ACTIVATION_OF_IKKS_COMPLEX | Process                                                                        |\n",
       "| 10 | REACTOME_RIP_MEDIATED_NFKB_ACTIVATION_VIA_DAI                                  | Process                                                                        |\n",
       "| 13 | KEGG_NOD_LIKE_RECEPTOR_SIGNALING_PATHWAY                                       | Process                                                                        |\n",
       "\n"
      ],
      "text/plain": [
       "   id                                                                            \n",
       "1  REACTOME_IL_6_SIGNALING                                                       \n",
       "3  REACTOME_ADVANCED_GLYCOSYLATION_ENDPRODUCT_RECEPTOR_SIGNALING                 \n",
       "4  REACTOME_TRAF6_MEDIATED_NFKB_ACTIVATION                                       \n",
       "7  REACTOME_TAK1_ACTIVATES_NFKB_BY_PHOSPHORYLATION_AND_ACTIVATION_OF_IKKS_COMPLEX\n",
       "10 REACTOME_RIP_MEDIATED_NFKB_ACTIVATION_VIA_DAI                                 \n",
       "13 KEGG_NOD_LIKE_RECEPTOR_SIGNALING_PATHWAY                                      \n",
       "   type   \n",
       "1  Process\n",
       "3  Process\n",
       "4  Process\n",
       "7  Process\n",
       "10 Process\n",
       "13 Process"
      ]
     },
     "metadata": {},
     "output_type": "display_data"
    },
    {
     "data": {
      "text/html": [
       "<ol class=list-inline>\n",
       "\t<li>381</li>\n",
       "\t<li>2</li>\n",
       "</ol>\n"
      ],
      "text/latex": [
       "\\begin{enumerate*}\n",
       "\\item 381\n",
       "\\item 2\n",
       "\\end{enumerate*}\n"
      ],
      "text/markdown": [
       "1. 381\n",
       "2. 2\n",
       "\n",
       "\n"
      ],
      "text/plain": [
       "[1] 381   2"
      ]
     },
     "metadata": {},
     "output_type": "display_data"
    }
   ],
   "source": [
    "# node table\n",
    "source <- as.data.frame(edge_table[,\"source\"])\n",
    "target <- as.data.frame(edge_table[,\"target\"])\n",
    "\n",
    "colnames(source)[1] <- \"id\"\n",
    "colnames(target)[1] <- \"id\"\n",
    "\n",
    "node_table <- rbind(source, target)\n",
    "node_table <- unique(node_table)\n",
    "\n",
    "# add node typing to table\n",
    "node_table$type <- \"Gene\"\n",
    "node_table$type[node_table$id %in% edge_table$source] <- \"Process\"\n",
    "node_table$type[node_table$id %in% infl$hgnc_symbol] <- \"InflGene\"\n",
    "\n",
    "head(node_table)\n",
    "dim(node_table)\n",
    "\n",
    "# save node_table\n",
    "write.table(node_table, file.path(getwd(), \"data-output\", \"node_table_final.txt\"), row.names = F, sep = \"\\t\", quote = F)"
   ]
  },
  {
   "cell_type": "markdown",
   "metadata": {},
   "source": [
    "We can use these files to create the network and integrate the gene expression data into this network for analysis."
   ]
  },
  {
   "cell_type": "code",
   "execution_count": 20,
   "metadata": {},
   "outputs": [
    {
     "data": {
      "text/plain": [
       "R version 3.5.1 (2018-07-02)\n",
       "Platform: x86_64-w64-mingw32/x64 (64-bit)\n",
       "Running under: Windows 10 x64 (build 17134)\n",
       "\n",
       "Matrix products: default\n",
       "\n",
       "locale:\n",
       "[1] LC_COLLATE=Dutch_Netherlands.1252  LC_CTYPE=Dutch_Netherlands.1252   \n",
       "[3] LC_MONETARY=Dutch_Netherlands.1252 LC_NUMERIC=C                      \n",
       "[5] LC_TIME=Dutch_Netherlands.1252    \n",
       "\n",
       "attached base packages:\n",
       "[1] stats     graphics  grDevices utils     datasets  methods   base     \n",
       "\n",
       "other attached packages:\n",
       "[1] dplyr_0.7.8          stringr_1.3.1        RNeo4j_1.7.0        \n",
       "[4] RCy3_2.2.6           RevoUtils_11.0.1     RevoUtilsMath_11.0.0\n",
       "\n",
       "loaded via a namespace (and not attached):\n",
       " [1] Rcpp_1.0.0          pillar_1.3.1        compiler_3.5.1     \n",
       " [4] bindr_0.1.1         R.methodsS3_1.7.1   R.utils_2.7.0      \n",
       " [7] base64enc_0.1-3     tools_3.5.1         digest_0.6.18      \n",
       "[10] uuid_0.1-2          tibble_2.0.1        jsonlite_1.6       \n",
       "[13] evaluate_0.12       pkgconfig_2.0.2     rlang_0.3.1        \n",
       "[16] graph_1.60.0        igraph_1.2.2        IRdisplay_0.7.0    \n",
       "[19] curl_3.3            IRkernel_0.8.15     parallel_3.5.1     \n",
       "[22] bindrcpp_0.2.2      repr_0.19.1         httr_1.4.0         \n",
       "[25] tidyselect_0.2.5    stats4_3.5.1        glue_1.3.0         \n",
       "[28] R6_2.3.0            XML_3.98-1.19       RJSONIO_1.3-1.1    \n",
       "[31] pbdZMQ_0.3-3        purrr_0.3.0         magrittr_1.5       \n",
       "[34] htmltools_0.3.6     BiocGenerics_0.28.0 assertthat_0.2.1   \n",
       "[37] stringi_1.2.4       crayon_1.3.4        R.oo_1.22.0        "
      ]
     },
     "metadata": {},
     "output_type": "display_data"
    }
   ],
   "source": [
    "# information about the session\n",
    "sessionInfo()"
   ]
  }
 ],
 "metadata": {
  "kernelspec": {
   "display_name": "R",
   "language": "R",
   "name": "ir"
  },
  "language_info": {
   "codemirror_mode": "r",
   "file_extension": ".r",
   "mimetype": "text/x-r-source",
   "name": "R",
   "pygments_lexer": "r",
   "version": "3.6.1"
  }
 },
 "nbformat": 4,
 "nbformat_minor": 2
}
