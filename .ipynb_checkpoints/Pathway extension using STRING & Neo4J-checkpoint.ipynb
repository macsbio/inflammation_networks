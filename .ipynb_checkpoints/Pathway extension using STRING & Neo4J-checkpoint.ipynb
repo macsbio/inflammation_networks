{
 "cells": [
  {
   "cell_type": "markdown",
   "metadata": {},
   "source": [
    "# Network extension\n",
    "\n",
    "In this notebook we will extend the network with genes that were excluded based on the set criteria for the selection of pathways. These gene were in pathways from all three databases, however not in a pathway that was selected for the creation of the network. Via the STRING app in Cytoscape we will try to add these genes to the network using ppi interactions."
   ]
  },
  {
   "cell_type": "code",
   "execution_count": 1,
   "metadata": {},
   "outputs": [
    {
     "data": {
      "text/html": [
       "'C:/Users/Laurent/Documents/GitHub/inflammation_networks2'"
      ],
      "text/latex": [
       "'C:/Users/Laurent/Documents/GitHub/inflammation\\_networks2'"
      ],
      "text/markdown": [
       "'C:/Users/Laurent/Documents/GitHub/inflammation_networks2'"
      ],
      "text/plain": [
       "[1] \"C:/Users/Laurent/Documents/GitHub/inflammation_networks2\""
      ]
     },
     "metadata": {},
     "output_type": "display_data"
    }
   ],
   "source": [
    "# check working directory\n",
    "getwd()"
   ]
  },
  {
   "cell_type": "code",
   "execution_count": 2,
   "metadata": {},
   "outputs": [
    {
     "name": "stderr",
     "output_type": "stream",
     "text": [
      "Warning message:\n",
      "\"changing locked binding for 'length.path' in 'httr' whilst loading 'RNeo4j'\"\n",
      "Attaching package: 'dplyr'\n",
      "\n",
      "The following objects are masked from 'package:stats':\n",
      "\n",
      "    filter, lag\n",
      "\n",
      "The following objects are masked from 'package:base':\n",
      "\n",
      "    intersect, setdiff, setequal, union\n",
      "\n"
     ]
    }
   ],
   "source": [
    "# load libraries\n",
    "library(RCy3)\n",
    "library(RNeo4j)\n",
    "library(stringr)\n",
    "library(dplyr)"
   ]
  },
  {
   "cell_type": "markdown",
   "metadata": {},
   "source": [
    "Open Cytoscape on your computer and install the STRING app."
   ]
  },
  {
   "cell_type": "code",
   "execution_count": 3,
   "metadata": {},
   "outputs": [
    {
     "data": {
      "text/html": [
       "'You are connected to Cytoscape!'"
      ],
      "text/latex": [
       "'You are connected to Cytoscape!'"
      ],
      "text/markdown": [
       "'You are connected to Cytoscape!'"
      ],
      "text/plain": [
       "[1] \"You are connected to Cytoscape!\""
      ]
     },
     "metadata": {},
     "output_type": "display_data"
    },
    {
     "data": {
      "text/html": [
       "<dl class=dl-horizontal>\n",
       "\t<dt>apiVersion</dt>\n",
       "\t\t<dd>'v1'</dd>\n",
       "\t<dt>cytoscapeVersion</dt>\n",
       "\t\t<dd>'3.7.1'</dd>\n",
       "</dl>\n"
      ],
      "text/latex": [
       "\\begin{description*}\n",
       "\\item[apiVersion] 'v1'\n",
       "\\item[cytoscapeVersion] '3.7.1'\n",
       "\\end{description*}\n"
      ],
      "text/markdown": [
       "apiVersion\n",
       ":   'v1'cytoscapeVersion\n",
       ":   '3.7.1'\n",
       "\n"
      ],
      "text/plain": [
       "      apiVersion cytoscapeVersion \n",
       "            \"v1\"          \"3.7.1\" "
      ]
     },
     "metadata": {},
     "output_type": "display_data"
    },
    {
     "data": {
      "text/html": [
       "'App STRINGapp installed'"
      ],
      "text/latex": [
       "'App STRINGapp installed'"
      ],
      "text/markdown": [
       "'App STRINGapp installed'"
      ],
      "text/plain": [
       "[1] \"App STRINGapp installed\""
      ]
     },
     "metadata": {},
     "output_type": "display_data"
    },
    {
     "name": "stdout",
     "output_type": "stream",
     "text": [
      "[1] \"Available namespaces:\"\n",
      "[1] \"Success: the STRING app is installed\"\n"
     ]
    }
   ],
   "source": [
    "# check if Cytoscape is connected\n",
    "cytoscapePing()\n",
    "cytoscapeVersionInfo()\n",
    "\n",
    "# install STRING app\n",
    "installApp('STRINGapp') \n",
    "if(\"string\" %in% commandsHelp(\"\")) print(\"Success: the STRING app is installed\") else print(\"Warning: STRING app is not installed. Please install the STRING app before proceeding.\")"
   ]
  },
  {
   "cell_type": "markdown",
   "metadata": {},
   "source": [
    "To begin with we will create the network and a ppi network using the STRING app in Cytoscape."
   ]
  },
  {
   "cell_type": "code",
   "execution_count": 4,
   "metadata": {},
   "outputs": [
    {
     "data": {
      "text/html": [
       "<table>\n",
       "<thead><tr><th scope=col>nodes</th><th scope=col>type</th></tr></thead>\n",
       "<tbody>\n",
       "\t<tr><td>NFkB        </td><td>Process     </td></tr>\n",
       "\t<tr><td>Inflammation</td><td>Process     </td></tr>\n",
       "\t<tr><td>Cytokines   </td><td>Process     </td></tr>\n",
       "\t<tr><td>Complement  </td><td>Process     </td></tr>\n",
       "\t<tr><td>Vitamin B12 </td><td>Process     </td></tr>\n",
       "\t<tr><td>Immune cells</td><td>Process     </td></tr>\n",
       "</tbody>\n",
       "</table>\n"
      ],
      "text/latex": [
       "\\begin{tabular}{r|ll}\n",
       " nodes & type\\\\\n",
       "\\hline\n",
       "\t NFkB         & Process     \\\\\n",
       "\t Inflammation & Process     \\\\\n",
       "\t Cytokines    & Process     \\\\\n",
       "\t Complement   & Process     \\\\\n",
       "\t Vitamin B12  & Process     \\\\\n",
       "\t Immune cells & Process     \\\\\n",
       "\\end{tabular}\n"
      ],
      "text/markdown": [
       "\n",
       "| nodes | type |\n",
       "|---|---|\n",
       "| NFkB         | Process      |\n",
       "| Inflammation | Process      |\n",
       "| Cytokines    | Process      |\n",
       "| Complement   | Process      |\n",
       "| Vitamin B12  | Process      |\n",
       "| Immune cells | Process      |\n",
       "\n"
      ],
      "text/plain": [
       "  nodes        type   \n",
       "1 NFkB         Process\n",
       "2 Inflammation Process\n",
       "3 Cytokines    Process\n",
       "4 Complement   Process\n",
       "5 Vitamin B12  Process\n",
       "6 Immune cells Process"
      ]
     },
     "metadata": {},
     "output_type": "display_data"
    },
    {
     "data": {
      "text/html": [
       "<table>\n",
       "<thead><tr><th scope=col>pathway</th><th scope=col>entrezgene</th><th scope=col>hgnc_symbol</th></tr></thead>\n",
       "<tbody>\n",
       "\t<tr><td>NFkB  </td><td>  7205</td><td>TRIP6 </td></tr>\n",
       "\t<tr><td>NFkB  </td><td>   841</td><td>CASP8 </td></tr>\n",
       "\t<tr><td>NFkB  </td><td>  1147</td><td>CHUK  </td></tr>\n",
       "\t<tr><td>NFkB  </td><td>257397</td><td>TAB3  </td></tr>\n",
       "\t<tr><td>NFkB  </td><td>  2919</td><td>CXCL1 </td></tr>\n",
       "\t<tr><td>NFkB  </td><td>  8767</td><td>RIPK2 </td></tr>\n",
       "</tbody>\n",
       "</table>\n"
      ],
      "text/latex": [
       "\\begin{tabular}{r|lll}\n",
       " pathway & entrezgene & hgnc\\_symbol\\\\\n",
       "\\hline\n",
       "\t NFkB   &   7205 & TRIP6 \\\\\n",
       "\t NFkB   &    841 & CASP8 \\\\\n",
       "\t NFkB   &   1147 & CHUK  \\\\\n",
       "\t NFkB   & 257397 & TAB3  \\\\\n",
       "\t NFkB   &   2919 & CXCL1 \\\\\n",
       "\t NFkB   &   8767 & RIPK2 \\\\\n",
       "\\end{tabular}\n"
      ],
      "text/markdown": [
       "\n",
       "| pathway | entrezgene | hgnc_symbol |\n",
       "|---|---|---|\n",
       "| NFkB   |   7205 | TRIP6  |\n",
       "| NFkB   |    841 | CASP8  |\n",
       "| NFkB   |   1147 | CHUK   |\n",
       "| NFkB   | 257397 | TAB3   |\n",
       "| NFkB   |   2919 | CXCL1  |\n",
       "| NFkB   |   8767 | RIPK2  |\n",
       "\n"
      ],
      "text/plain": [
       "  pathway entrezgene hgnc_symbol\n",
       "1 NFkB      7205     TRIP6      \n",
       "2 NFkB       841     CASP8      \n",
       "3 NFkB      1147     CHUK       \n",
       "4 NFkB    257397     TAB3       \n",
       "5 NFkB      2919     CXCL1      \n",
       "6 NFkB      8767     RIPK2      "
      ]
     },
     "metadata": {},
     "output_type": "display_data"
    },
    {
     "data": {
      "text/html": [
       "<table>\n",
       "<thead><tr><th scope=col>diseaseid</th><th scope=col>disease_name</th><th scope=col>geneid</th><th scope=col>symbol</th><th scope=col>uniprot</th><th scope=col>protein_class</th><th scope=col>gene_name</th><th scope=col>dsi</th><th scope=col>dpi</th><th scope=col>pli</th><th scope=col>score</th><th scope=col>el</th><th scope=col>ei</th><th scope=col>npmids</th><th scope=col>nsnps</th><th scope=col>year_initial</th><th scope=col>year_final</th></tr></thead>\n",
       "<tbody>\n",
       "\t<tr><td>C0021368                         </td><td>Inflammation                     </td><td>3576                             </td><td>CXCL8                            </td><td>P10145                           </td><td>signaling molecule               </td><td>C-X-C motif chemokine ligand 8   </td><td>0.342                            </td><td>0.862                            </td><td>       NA                        </td><td>0.40                             </td><td>no reported evidence             </td><td>NA                               </td><td>13                               </td><td>0                                </td><td>2003                             </td><td>2015                             </td></tr>\n",
       "\t<tr><td>C0021368                         </td><td>Inflammation                     </td><td>1401                             </td><td>CRP                              </td><td>P02741                           </td><td>                                 </td><td>C-reactive protein               </td><td>0.399                            </td><td>0.862                            </td><td>0.0037357                        </td><td>0.40                             </td><td>no reported evidence             </td><td>NA                               </td><td>18                               </td><td>0                                </td><td>2001                             </td><td>2011                             </td></tr>\n",
       "\t<tr><td>C0021368                         </td><td>Inflammation                     </td><td>7124                             </td><td>TNF                              </td><td>P01375                           </td><td>signaling molecule               </td><td>tumor necrosis factor            </td><td>0.263                            </td><td>0.966                            </td><td>0.8046000                        </td><td>0.40                             </td><td>no reported evidence             </td><td>NA                               </td><td>26                               </td><td>0                                </td><td>2001                             </td><td>2014                             </td></tr>\n",
       "\t<tr><td>C0021368                         </td><td>Inflammation                     </td><td>7040                             </td><td>TGFB1                            </td><td>P01137                           </td><td>signaling molecule               </td><td>transforming growth factor beta 1</td><td>0.336                            </td><td>0.931                            </td><td>0.1718200                        </td><td>0.38                             </td><td>no reported evidence             </td><td>NA                               </td><td>10                               </td><td>0                                </td><td>2002                             </td><td>2010                             </td></tr>\n",
       "\t<tr><td>C0021368                         </td><td>Inflammation                     </td><td>3569                             </td><td>IL6                              </td><td>P05231                           </td><td>                                 </td><td>interleukin 6                    </td><td>0.287                            </td><td>0.966                            </td><td>0.3387300                        </td><td>0.37                             </td><td>no reported evidence             </td><td>NA                               </td><td>18                               </td><td>0                                </td><td>2001                             </td><td>2016                             </td></tr>\n",
       "\t<tr><td>C0021368                         </td><td>Inflammation                     </td><td>3553                             </td><td>IL1B                             </td><td>P01584                           </td><td>                                 </td><td>interleukin 1 beta               </td><td>0.312                            </td><td>0.931                            </td><td>0.1256800                        </td><td>0.37                             </td><td>no reported evidence             </td><td>NA                               </td><td>16                               </td><td>0                                </td><td>1999                             </td><td>2017                             </td></tr>\n",
       "</tbody>\n",
       "</table>\n"
      ],
      "text/latex": [
       "\\begin{tabular}{r|lllllllllllllllll}\n",
       " diseaseid & disease\\_name & geneid & symbol & uniprot & protein\\_class & gene\\_name & dsi & dpi & pli & score & el & ei & npmids & nsnps & year\\_initial & year\\_final\\\\\n",
       "\\hline\n",
       "\t C0021368                          & Inflammation                      & 3576                              & CXCL8                             & P10145                            & signaling molecule                & C-X-C motif chemokine ligand 8    & 0.342                             & 0.862                             &        NA                         & 0.40                              & no reported evidence              & NA                                & 13                                & 0                                 & 2003                              & 2015                             \\\\\n",
       "\t C0021368                          & Inflammation                      & 1401                              & CRP                               & P02741                            &                                   & C-reactive protein                & 0.399                             & 0.862                             & 0.0037357                         & 0.40                              & no reported evidence              & NA                                & 18                                & 0                                 & 2001                              & 2011                             \\\\\n",
       "\t C0021368                          & Inflammation                      & 7124                              & TNF                               & P01375                            & signaling molecule                & tumor necrosis factor             & 0.263                             & 0.966                             & 0.8046000                         & 0.40                              & no reported evidence              & NA                                & 26                                & 0                                 & 2001                              & 2014                             \\\\\n",
       "\t C0021368                          & Inflammation                      & 7040                              & TGFB1                             & P01137                            & signaling molecule                & transforming growth factor beta 1 & 0.336                             & 0.931                             & 0.1718200                         & 0.38                              & no reported evidence              & NA                                & 10                                & 0                                 & 2002                              & 2010                             \\\\\n",
       "\t C0021368                          & Inflammation                      & 3569                              & IL6                               & P05231                            &                                   & interleukin 6                     & 0.287                             & 0.966                             & 0.3387300                         & 0.37                              & no reported evidence              & NA                                & 18                                & 0                                 & 2001                              & 2016                             \\\\\n",
       "\t C0021368                          & Inflammation                      & 3553                              & IL1B                              & P01584                            &                                   & interleukin 1 beta                & 0.312                             & 0.931                             & 0.1256800                         & 0.37                              & no reported evidence              & NA                                & 16                                & 0                                 & 1999                              & 2017                             \\\\\n",
       "\\end{tabular}\n"
      ],
      "text/markdown": [
       "\n",
       "| diseaseid | disease_name | geneid | symbol | uniprot | protein_class | gene_name | dsi | dpi | pli | score | el | ei | npmids | nsnps | year_initial | year_final |\n",
       "|---|---|---|---|---|---|---|---|---|---|---|---|---|---|---|---|---|\n",
       "| C0021368                          | Inflammation                      | 3576                              | CXCL8                             | P10145                            | signaling molecule                | C-X-C motif chemokine ligand 8    | 0.342                             | 0.862                             |        NA                         | 0.40                              | no reported evidence              | NA                                | 13                                | 0                                 | 2003                              | 2015                              |\n",
       "| C0021368                          | Inflammation                      | 1401                              | CRP                               | P02741                            |                                   | C-reactive protein                | 0.399                             | 0.862                             | 0.0037357                         | 0.40                              | no reported evidence              | NA                                | 18                                | 0                                 | 2001                              | 2011                              |\n",
       "| C0021368                          | Inflammation                      | 7124                              | TNF                               | P01375                            | signaling molecule                | tumor necrosis factor             | 0.263                             | 0.966                             | 0.8046000                         | 0.40                              | no reported evidence              | NA                                | 26                                | 0                                 | 2001                              | 2014                              |\n",
       "| C0021368                          | Inflammation                      | 7040                              | TGFB1                             | P01137                            | signaling molecule                | transforming growth factor beta 1 | 0.336                             | 0.931                             | 0.1718200                         | 0.38                              | no reported evidence              | NA                                | 10                                | 0                                 | 2002                              | 2010                              |\n",
       "| C0021368                          | Inflammation                      | 3569                              | IL6                               | P05231                            |                                   | interleukin 6                     | 0.287                             | 0.966                             | 0.3387300                         | 0.37                              | no reported evidence              | NA                                | 18                                | 0                                 | 2001                              | 2016                              |\n",
       "| C0021368                          | Inflammation                      | 3553                              | IL1B                              | P01584                            |                                   | interleukin 1 beta                | 0.312                             | 0.931                             | 0.1256800                         | 0.37                              | no reported evidence              | NA                                | 16                                | 0                                 | 1999                              | 2017                              |\n",
       "\n"
      ],
      "text/plain": [
       "  diseaseid disease_name geneid symbol uniprot protein_class     \n",
       "1 C0021368  Inflammation 3576   CXCL8  P10145  signaling molecule\n",
       "2 C0021368  Inflammation 1401   CRP    P02741                    \n",
       "3 C0021368  Inflammation 7124   TNF    P01375  signaling molecule\n",
       "4 C0021368  Inflammation 7040   TGFB1  P01137  signaling molecule\n",
       "5 C0021368  Inflammation 3569   IL6    P05231                    \n",
       "6 C0021368  Inflammation 3553   IL1B   P01584                    \n",
       "  gene_name                         dsi   dpi   pli       score\n",
       "1 C-X-C motif chemokine ligand 8    0.342 0.862        NA 0.40 \n",
       "2 C-reactive protein                0.399 0.862 0.0037357 0.40 \n",
       "3 tumor necrosis factor             0.263 0.966 0.8046000 0.40 \n",
       "4 transforming growth factor beta 1 0.336 0.931 0.1718200 0.38 \n",
       "5 interleukin 6                     0.287 0.966 0.3387300 0.37 \n",
       "6 interleukin 1 beta                0.312 0.931 0.1256800 0.37 \n",
       "  el                   ei npmids nsnps year_initial year_final\n",
       "1 no reported evidence NA 13     0     2003         2015      \n",
       "2 no reported evidence NA 18     0     2001         2011      \n",
       "3 no reported evidence NA 26     0     2001         2014      \n",
       "4 no reported evidence NA 10     0     2002         2010      \n",
       "5 no reported evidence NA 18     0     2001         2016      \n",
       "6 no reported evidence NA 16     0     1999         2017      "
      ]
     },
     "metadata": {},
     "output_type": "display_data"
    }
   ],
   "source": [
    "# load in network and data files\n",
    "nodes <- read.table(file.path(getwd(), \"data-output\", \"nodes_hgnc.txt\"), header = T, sep = \"\\t\")\n",
    "edges <- read.table(file.path(getwd(), \"data-output\", \"edges.txt\"), header = T, sep = \"\\t\")\n",
    "disgenet <- read.delim(file.path(getwd(), \"data-input\", \"C0021368_disease_gda_summary.tsv\"))\n",
    "\n",
    "head(nodes)\n",
    "head(edges)\n",
    "head(disgenet)"
   ]
  },
  {
   "cell_type": "code",
   "execution_count": 5,
   "metadata": {},
   "outputs": [
    {
     "data": {
      "text/html": [
       "<table>\n",
       "<thead><tr><th scope=col>id</th><th scope=col>type</th></tr></thead>\n",
       "<tbody>\n",
       "\t<tr><td>NFkB        </td><td>Process     </td></tr>\n",
       "\t<tr><td>Inflammation</td><td>Process     </td></tr>\n",
       "\t<tr><td>Cytokines   </td><td>Process     </td></tr>\n",
       "\t<tr><td>Complement  </td><td>Process     </td></tr>\n",
       "\t<tr><td>Vitamin B12 </td><td>Process     </td></tr>\n",
       "\t<tr><td>Immune cells</td><td>Process     </td></tr>\n",
       "</tbody>\n",
       "</table>\n"
      ],
      "text/latex": [
       "\\begin{tabular}{r|ll}\n",
       " id & type\\\\\n",
       "\\hline\n",
       "\t NFkB         & Process     \\\\\n",
       "\t Inflammation & Process     \\\\\n",
       "\t Cytokines    & Process     \\\\\n",
       "\t Complement   & Process     \\\\\n",
       "\t Vitamin B12  & Process     \\\\\n",
       "\t Immune cells & Process     \\\\\n",
       "\\end{tabular}\n"
      ],
      "text/markdown": [
       "\n",
       "| id | type |\n",
       "|---|---|\n",
       "| NFkB         | Process      |\n",
       "| Inflammation | Process      |\n",
       "| Cytokines    | Process      |\n",
       "| Complement   | Process      |\n",
       "| Vitamin B12  | Process      |\n",
       "| Immune cells | Process      |\n",
       "\n"
      ],
      "text/plain": [
       "  id           type   \n",
       "1 NFkB         Process\n",
       "2 Inflammation Process\n",
       "3 Cytokines    Process\n",
       "4 Complement   Process\n",
       "5 Vitamin B12  Process\n",
       "6 Immune cells Process"
      ]
     },
     "metadata": {},
     "output_type": "display_data"
    },
    {
     "data": {
      "text/html": [
       "<table>\n",
       "<thead><tr><th scope=col>source</th><th scope=col>target</th><th scope=col>interaction</th></tr></thead>\n",
       "<tbody>\n",
       "\t<tr><td>NFkB     </td><td>TRIP6    </td><td>interacts</td></tr>\n",
       "\t<tr><td>NFkB     </td><td>CASP8    </td><td>interacts</td></tr>\n",
       "\t<tr><td>NFkB     </td><td>CHUK     </td><td>interacts</td></tr>\n",
       "\t<tr><td>NFkB     </td><td>TAB3     </td><td>interacts</td></tr>\n",
       "\t<tr><td>NFkB     </td><td>CXCL1    </td><td>interacts</td></tr>\n",
       "\t<tr><td>NFkB     </td><td>RIPK2    </td><td>interacts</td></tr>\n",
       "</tbody>\n",
       "</table>\n"
      ],
      "text/latex": [
       "\\begin{tabular}{r|lll}\n",
       " source & target & interaction\\\\\n",
       "\\hline\n",
       "\t NFkB      & TRIP6     & interacts\\\\\n",
       "\t NFkB      & CASP8     & interacts\\\\\n",
       "\t NFkB      & CHUK      & interacts\\\\\n",
       "\t NFkB      & TAB3      & interacts\\\\\n",
       "\t NFkB      & CXCL1     & interacts\\\\\n",
       "\t NFkB      & RIPK2     & interacts\\\\\n",
       "\\end{tabular}\n"
      ],
      "text/markdown": [
       "\n",
       "| source | target | interaction |\n",
       "|---|---|---|\n",
       "| NFkB      | TRIP6     | interacts |\n",
       "| NFkB      | CASP8     | interacts |\n",
       "| NFkB      | CHUK      | interacts |\n",
       "| NFkB      | TAB3      | interacts |\n",
       "| NFkB      | CXCL1     | interacts |\n",
       "| NFkB      | RIPK2     | interacts |\n",
       "\n"
      ],
      "text/plain": [
       "  source target interaction\n",
       "1 NFkB   TRIP6  interacts  \n",
       "2 NFkB   CASP8  interacts  \n",
       "3 NFkB   CHUK   interacts  \n",
       "4 NFkB   TAB3   interacts  \n",
       "5 NFkB   CXCL1  interacts  \n",
       "6 NFkB   RIPK2  interacts  "
      ]
     },
     "metadata": {},
     "output_type": "display_data"
    },
    {
     "data": {
      "text/html": [
       "<table>\n",
       "<thead><tr><th scope=col>entrezgene</th><th scope=col>hgnc_symbol</th><th scope=col>dis_score</th></tr></thead>\n",
       "<tbody>\n",
       "\t<tr><td>3576 </td><td>CXCL8</td><td>0.40 </td></tr>\n",
       "\t<tr><td>1401 </td><td>CRP  </td><td>0.40 </td></tr>\n",
       "\t<tr><td>7124 </td><td>TNF  </td><td>0.40 </td></tr>\n",
       "\t<tr><td>7040 </td><td>TGFB1</td><td>0.38 </td></tr>\n",
       "\t<tr><td>3569 </td><td>IL6  </td><td>0.37 </td></tr>\n",
       "\t<tr><td>3553 </td><td>IL1B </td><td>0.37 </td></tr>\n",
       "</tbody>\n",
       "</table>\n"
      ],
      "text/latex": [
       "\\begin{tabular}{r|lll}\n",
       " entrezgene & hgnc\\_symbol & dis\\_score\\\\\n",
       "\\hline\n",
       "\t 3576  & CXCL8 & 0.40 \\\\\n",
       "\t 1401  & CRP   & 0.40 \\\\\n",
       "\t 7124  & TNF   & 0.40 \\\\\n",
       "\t 7040  & TGFB1 & 0.38 \\\\\n",
       "\t 3569  & IL6   & 0.37 \\\\\n",
       "\t 3553  & IL1B  & 0.37 \\\\\n",
       "\\end{tabular}\n"
      ],
      "text/markdown": [
       "\n",
       "| entrezgene | hgnc_symbol | dis_score |\n",
       "|---|---|---|\n",
       "| 3576  | CXCL8 | 0.40  |\n",
       "| 1401  | CRP   | 0.40  |\n",
       "| 7124  | TNF   | 0.40  |\n",
       "| 7040  | TGFB1 | 0.38  |\n",
       "| 3569  | IL6   | 0.37  |\n",
       "| 3553  | IL1B  | 0.37  |\n",
       "\n"
      ],
      "text/plain": [
       "  entrezgene hgnc_symbol dis_score\n",
       "1 3576       CXCL8       0.40     \n",
       "2 1401       CRP         0.40     \n",
       "3 7124       TNF         0.40     \n",
       "4 7040       TGFB1       0.38     \n",
       "5 3569       IL6         0.37     \n",
       "6 3553       IL1B        0.37     "
      ]
     },
     "metadata": {},
     "output_type": "display_data"
    },
    {
     "data": {
      "text/html": [
       "<ol class=list-inline>\n",
       "\t<li>201</li>\n",
       "\t<li>3</li>\n",
       "</ol>\n"
      ],
      "text/latex": [
       "\\begin{enumerate*}\n",
       "\\item 201\n",
       "\\item 3\n",
       "\\end{enumerate*}\n"
      ],
      "text/markdown": [
       "1. 201\n",
       "2. 3\n",
       "\n",
       "\n"
      ],
      "text/plain": [
       "[1] 201   3"
      ]
     },
     "metadata": {},
     "output_type": "display_data"
    }
   ],
   "source": [
    "# clean up network and data files\n",
    "# nodes\n",
    "colnames(nodes)[1] <- \"id\"\n",
    "nodes$id <- as.character(nodes$id)\n",
    "\n",
    "# edges\n",
    "edges <- edges[,c(-2)]\n",
    "colnames(edges)[c(1,2)] <- c(\"source\", \"target\") \n",
    "edges$interaction <- \"interacts\"\n",
    "edges$source <- as.character(edges$source)\n",
    "edges$target <- as.character(edges$target)\n",
    "\n",
    "# disgenet\n",
    "disgenet <- disgenet[,c(\"geneid\", \"symbol\", \"score\")]\n",
    "colnames(disgenet)[c(1,2,3)] <- c(\"entrezgene\", \"hgnc_symbol\", \"dis_score\")\n",
    "# filtered\n",
    "infl <- disgenet[disgenet$dis_score > 0.01,]\n",
    "\n",
    "head(nodes)\n",
    "head(edges)\n",
    "head(infl)\n",
    "dim(infl)"
   ]
  },
  {
   "cell_type": "code",
   "execution_count": 6,
   "metadata": {},
   "outputs": [
    {
     "name": "stdout",
     "output_type": "stream",
     "text": [
      "Loading data...\n",
      "Applying default style...\n",
      "Applying preferred layout...\n"
     ]
    },
    {
     "data": {
      "text/html": [
       "<strong>networkSUID:</strong> 80"
      ],
      "text/latex": [
       "\\textbf{networkSUID:} 80"
      ],
      "text/markdown": [
       "**networkSUID:** 80"
      ],
      "text/plain": [
       "networkSUID \n",
       "         80 "
      ]
     },
     "metadata": {},
     "output_type": "display_data"
    }
   ],
   "source": [
    "# create network from files\n",
    "createNetworkFromDataFrames(nodes, edges, title = \"MyNetwork\", collection = \"MyCollection\")"
   ]
  },
  {
   "cell_type": "markdown",
   "metadata": {},
   "source": [
    "We now have the network and everything running and installen in Cytoscape. We will use the all genes that are in the network, including the genes associated with inflammation to create a ppi network via the STRING app."
   ]
  },
  {
   "cell_type": "code",
   "execution_count": 7,
   "metadata": {},
   "outputs": [
    {
     "data": {
      "text/html": [
       "<table>\n",
       "<thead><tr><th></th><th scope=col>hgnc_symbol</th></tr></thead>\n",
       "<tbody>\n",
       "\t<tr><th scope=row>10</th><td>TRIP6</td></tr>\n",
       "\t<tr><th scope=row>11</th><td>CASP8</td></tr>\n",
       "\t<tr><th scope=row>12</th><td>CHUK </td></tr>\n",
       "\t<tr><th scope=row>13</th><td>TAB3 </td></tr>\n",
       "\t<tr><th scope=row>14</th><td>CXCL1</td></tr>\n",
       "\t<tr><th scope=row>15</th><td>RIPK2</td></tr>\n",
       "</tbody>\n",
       "</table>\n"
      ],
      "text/latex": [
       "\\begin{tabular}{r|l}\n",
       "  & hgnc\\_symbol\\\\\n",
       "\\hline\n",
       "\t10 & TRIP6\\\\\n",
       "\t11 & CASP8\\\\\n",
       "\t12 & CHUK \\\\\n",
       "\t13 & TAB3 \\\\\n",
       "\t14 & CXCL1\\\\\n",
       "\t15 & RIPK2\\\\\n",
       "\\end{tabular}\n"
      ],
      "text/markdown": [
       "\n",
       "| <!--/--> | hgnc_symbol |\n",
       "|---|---|\n",
       "| 10 | TRIP6 |\n",
       "| 11 | CASP8 |\n",
       "| 12 | CHUK  |\n",
       "| 13 | TAB3  |\n",
       "| 14 | CXCL1 |\n",
       "| 15 | RIPK2 |\n",
       "\n"
      ],
      "text/plain": [
       "   hgnc_symbol\n",
       "10 TRIP6      \n",
       "11 CASP8      \n",
       "12 CHUK       \n",
       "13 TAB3       \n",
       "14 CXCL1      \n",
       "15 RIPK2      "
      ]
     },
     "metadata": {},
     "output_type": "display_data"
    },
    {
     "data": {
      "text/html": [
       "'The number of genes is 455.'"
      ],
      "text/latex": [
       "'The number of genes is 455.'"
      ],
      "text/markdown": [
       "'The number of genes is 455.'"
      ],
      "text/plain": [
       "[1] \"The number of genes is 455.\""
      ]
     },
     "metadata": {},
     "output_type": "display_data"
    }
   ],
   "source": [
    "# get all genes from network and combine them with inflammation genes\n",
    "networkGenes <- nodes[nodes$type != \"Process\",]\n",
    "networkGenes <- networkGenes[-2]\n",
    "colnames(networkGenes)[1] <- \"hgnc_symbol\"\n",
    "\n",
    "inflGenes <- as.data.frame(infl$hgnc_symbol)\n",
    "colnames(inflGenes)[1] <- \"hgnc_symbol\"\n",
    "\n",
    "networkGenes <- rbind(networkGenes, inflGenes)\n",
    "networkGenes <- unique(networkGenes)\n",
    "\n",
    "head(networkGenes)\n",
    "paste0(\"The number of genes is \", nrow(networkGenes), \".\")"
   ]
  },
  {
   "cell_type": "markdown",
   "metadata": {},
   "source": [
    "Lets create the ppi network!"
   ]
  },
  {
   "cell_type": "code",
   "execution_count": 8,
   "metadata": {},
   "outputs": [
    {
     "data": {
      "text/html": [
       "'Loaded network \\'String Network\\' with 459 nodes and 4332 edges'"
      ],
      "text/latex": [
       "'Loaded network \\textbackslash{}'String Network\\textbackslash{}' with 459 nodes and 4332 edges'"
      ],
      "text/markdown": [
       "'Loaded network \\'String Network\\' with 459 nodes and 4332 edges'"
      ],
      "text/plain": [
       "[1] \"Loaded network 'String Network' with 459 nodes and 4332 edges\""
      ]
     },
     "metadata": {},
     "output_type": "display_data"
    },
    {
     "data": {
      "text/html": [
       "<strong>message:</strong> 'Visual Style applied.'"
      ],
      "text/latex": [
       "\\textbf{message:} 'Visual Style applied.'"
      ],
      "text/markdown": [
       "**message:** 'Visual Style applied.'"
      ],
      "text/plain": [
       "                message \n",
       "\"Visual Style applied.\" "
      ]
     },
     "metadata": {},
     "output_type": "display_data"
    }
   ],
   "source": [
    "# create STRING app API command and create ppi network\n",
    "string_cmd <- paste('string protein query taxonID=9606 cutoff=0.9 query=\"',paste(networkGenes$hgnc_symbol, collapse=\",\"),'\"',sep=\"\")\n",
    "commandsGET(string_cmd)\n",
    "\n",
    "setVisualStyle(\"default\")\n",
    "setNodeLabelMapping(table.column = \"display name\")"
   ]
  },
  {
   "cell_type": "markdown",
   "metadata": {},
   "source": [
    "### Now we have to do a manual part. We will merge the networks. Go to Cytoscape -> 'Tools' -> 'Merge' -> 'Networks...'. Then select the two network and click 'Advanced options'. For the STRING network chose 'query term' as matching column!"
   ]
  },
  {
   "cell_type": "markdown",
   "metadata": {},
   "source": [
    "Now we have the merged network we will extract the edge table and make two seperate files from this table for the Neo4J part. "
   ]
  },
  {
   "cell_type": "code",
   "execution_count": 9,
   "metadata": {},
   "outputs": [
    {
     "data": {
      "text/html": [
       "<table>\n",
       "<thead><tr><th></th><th scope=col>shared name</th><th scope=col>interaction</th></tr></thead>\n",
       "<tbody>\n",
       "\t<tr><th scope=row>16384</th><td>Cytokines (interacts) JAK1    </td><td>interacts                     </td></tr>\n",
       "\t<tr><th scope=row>16385</th><td>Cytokines (interacts) IL6ST   </td><td>interacts                     </td></tr>\n",
       "\t<tr><th scope=row>16386</th><td>Cytokines (interacts) IL6R    </td><td>interacts                     </td></tr>\n",
       "\t<tr><th scope=row>16387</th><td>Cytokines (interacts) IL6     </td><td>interacts                     </td></tr>\n",
       "\t<tr><th scope=row>16388</th><td>Inflammation (interacts) MYD88</td><td>interacts                     </td></tr>\n",
       "\t<tr><th scope=row>16389</th><td>Inflammation (interacts) IRAK1</td><td>interacts                     </td></tr>\n",
       "</tbody>\n",
       "</table>\n"
      ],
      "text/latex": [
       "\\begin{tabular}{r|ll}\n",
       "  & shared name & interaction\\\\\n",
       "\\hline\n",
       "\t16384 & Cytokines (interacts) JAK1     & interacts                     \\\\\n",
       "\t16385 & Cytokines (interacts) IL6ST    & interacts                     \\\\\n",
       "\t16386 & Cytokines (interacts) IL6R     & interacts                     \\\\\n",
       "\t16387 & Cytokines (interacts) IL6      & interacts                     \\\\\n",
       "\t16388 & Inflammation (interacts) MYD88 & interacts                     \\\\\n",
       "\t16389 & Inflammation (interacts) IRAK1 & interacts                     \\\\\n",
       "\\end{tabular}\n"
      ],
      "text/markdown": [
       "\n",
       "| <!--/--> | shared name | interaction |\n",
       "|---|---|---|\n",
       "| 16384 | Cytokines (interacts) JAK1     | interacts                      |\n",
       "| 16385 | Cytokines (interacts) IL6ST    | interacts                      |\n",
       "| 16386 | Cytokines (interacts) IL6R     | interacts                      |\n",
       "| 16387 | Cytokines (interacts) IL6      | interacts                      |\n",
       "| 16388 | Inflammation (interacts) MYD88 | interacts                      |\n",
       "| 16389 | Inflammation (interacts) IRAK1 | interacts                      |\n",
       "\n"
      ],
      "text/plain": [
       "      shared name                    interaction\n",
       "16384 Cytokines (interacts) JAK1     interacts  \n",
       "16385 Cytokines (interacts) IL6ST    interacts  \n",
       "16386 Cytokines (interacts) IL6R     interacts  \n",
       "16387 Cytokines (interacts) IL6      interacts  \n",
       "16388 Inflammation (interacts) MYD88 interacts  \n",
       "16389 Inflammation (interacts) IRAK1 interacts  "
      ]
     },
     "metadata": {},
     "output_type": "display_data"
    }
   ],
   "source": [
    "# get table columns we need from edge table\n",
    "table <- getTableColumns(table = \"edge\", columns = c(\"shared name\", \"interaction\"))\n",
    "\n",
    "head(table)"
   ]
  },
  {
   "cell_type": "code",
   "execution_count": 10,
   "metadata": {},
   "outputs": [
    {
     "data": {
      "text/html": [
       "<table>\n",
       "<thead><tr><th></th><th scope=col>shared name</th><th scope=col>interaction</th></tr></thead>\n",
       "<tbody>\n",
       "\t<tr><th scope=row>16384</th><td>Cytokines (interacts) JAK1    </td><td>interacts                     </td></tr>\n",
       "\t<tr><th scope=row>16385</th><td>Cytokines (interacts) IL6ST   </td><td>interacts                     </td></tr>\n",
       "\t<tr><th scope=row>16386</th><td>Cytokines (interacts) IL6R    </td><td>interacts                     </td></tr>\n",
       "\t<tr><th scope=row>16387</th><td>Cytokines (interacts) IL6     </td><td>interacts                     </td></tr>\n",
       "\t<tr><th scope=row>16388</th><td>Inflammation (interacts) MYD88</td><td>interacts                     </td></tr>\n",
       "\t<tr><th scope=row>16389</th><td>Inflammation (interacts) IRAK1</td><td>interacts                     </td></tr>\n",
       "</tbody>\n",
       "</table>\n"
      ],
      "text/latex": [
       "\\begin{tabular}{r|ll}\n",
       "  & shared name & interaction\\\\\n",
       "\\hline\n",
       "\t16384 & Cytokines (interacts) JAK1     & interacts                     \\\\\n",
       "\t16385 & Cytokines (interacts) IL6ST    & interacts                     \\\\\n",
       "\t16386 & Cytokines (interacts) IL6R     & interacts                     \\\\\n",
       "\t16387 & Cytokines (interacts) IL6      & interacts                     \\\\\n",
       "\t16388 & Inflammation (interacts) MYD88 & interacts                     \\\\\n",
       "\t16389 & Inflammation (interacts) IRAK1 & interacts                     \\\\\n",
       "\\end{tabular}\n"
      ],
      "text/markdown": [
       "\n",
       "| <!--/--> | shared name | interaction |\n",
       "|---|---|---|\n",
       "| 16384 | Cytokines (interacts) JAK1     | interacts                      |\n",
       "| 16385 | Cytokines (interacts) IL6ST    | interacts                      |\n",
       "| 16386 | Cytokines (interacts) IL6R     | interacts                      |\n",
       "| 16387 | Cytokines (interacts) IL6      | interacts                      |\n",
       "| 16388 | Inflammation (interacts) MYD88 | interacts                      |\n",
       "| 16389 | Inflammation (interacts) IRAK1 | interacts                      |\n",
       "\n"
      ],
      "text/plain": [
       "      shared name                    interaction\n",
       "16384 Cytokines (interacts) JAK1     interacts  \n",
       "16385 Cytokines (interacts) IL6ST    interacts  \n",
       "16386 Cytokines (interacts) IL6R     interacts  \n",
       "16387 Cytokines (interacts) IL6      interacts  \n",
       "16388 Inflammation (interacts) MYD88 interacts  \n",
       "16389 Inflammation (interacts) IRAK1 interacts  "
      ]
     },
     "metadata": {},
     "output_type": "display_data"
    },
    {
     "data": {
      "text/html": [
       "<table>\n",
       "<thead><tr><th></th><th scope=col>shared name</th><th scope=col>interaction</th></tr></thead>\n",
       "<tbody>\n",
       "\t<tr><th scope=row>11797</th><td>GNG2 (pp) CCL4  </td><td>pp              </td></tr>\n",
       "\t<tr><th scope=row>11798</th><td>GNG2 (pp) GNB1  </td><td>pp              </td></tr>\n",
       "\t<tr><th scope=row>11799</th><td>GNG2 (pp) CCL5  </td><td>pp              </td></tr>\n",
       "\t<tr><th scope=row>11800</th><td>GNG2 (pp) AKT1  </td><td>pp              </td></tr>\n",
       "\t<tr><th scope=row>11801</th><td>GNG2 (pp) BDKRB2</td><td>pp              </td></tr>\n",
       "\t<tr><th scope=row>11802</th><td>GNG2 (pp) ADM   </td><td>pp              </td></tr>\n",
       "</tbody>\n",
       "</table>\n"
      ],
      "text/latex": [
       "\\begin{tabular}{r|ll}\n",
       "  & shared name & interaction\\\\\n",
       "\\hline\n",
       "\t11797 & GNG2 (pp) CCL4   & pp              \\\\\n",
       "\t11798 & GNG2 (pp) GNB1   & pp              \\\\\n",
       "\t11799 & GNG2 (pp) CCL5   & pp              \\\\\n",
       "\t11800 & GNG2 (pp) AKT1   & pp              \\\\\n",
       "\t11801 & GNG2 (pp) BDKRB2 & pp              \\\\\n",
       "\t11802 & GNG2 (pp) ADM    & pp              \\\\\n",
       "\\end{tabular}\n"
      ],
      "text/markdown": [
       "\n",
       "| <!--/--> | shared name | interaction |\n",
       "|---|---|---|\n",
       "| 11797 | GNG2 (pp) CCL4   | pp               |\n",
       "| 11798 | GNG2 (pp) GNB1   | pp               |\n",
       "| 11799 | GNG2 (pp) CCL5   | pp               |\n",
       "| 11800 | GNG2 (pp) AKT1   | pp               |\n",
       "| 11801 | GNG2 (pp) BDKRB2 | pp               |\n",
       "| 11802 | GNG2 (pp) ADM    | pp               |\n",
       "\n"
      ],
      "text/plain": [
       "      shared name      interaction\n",
       "11797 GNG2 (pp) CCL4   pp         \n",
       "11798 GNG2 (pp) GNB1   pp         \n",
       "11799 GNG2 (pp) CCL5   pp         \n",
       "11800 GNG2 (pp) AKT1   pp         \n",
       "11801 GNG2 (pp) BDKRB2 pp         \n",
       "11802 GNG2 (pp) ADM    pp         "
      ]
     },
     "metadata": {},
     "output_type": "display_data"
    }
   ],
   "source": [
    "table_process <- table[table$interaction == \"interacts\",]\n",
    "table_pp <- table[table$interaction == \"pp\",]\n",
    "\n",
    "head(table_process)\n",
    "head(table_pp)"
   ]
  },
  {
   "cell_type": "code",
   "execution_count": 11,
   "metadata": {},
   "outputs": [
    {
     "data": {
      "text/html": [
       "<table>\n",
       "<thead><tr><th scope=col>source</th><th scope=col>target</th></tr></thead>\n",
       "<tbody>\n",
       "\t<tr><td>Cytokines   </td><td>JAK1        </td></tr>\n",
       "\t<tr><td>Cytokines   </td><td>IL6ST       </td></tr>\n",
       "\t<tr><td>Cytokines   </td><td>IL6R        </td></tr>\n",
       "\t<tr><td>Cytokines   </td><td>IL6         </td></tr>\n",
       "\t<tr><td>Inflammation</td><td>MYD88       </td></tr>\n",
       "\t<tr><td>Inflammation</td><td>IRAK1       </td></tr>\n",
       "</tbody>\n",
       "</table>\n"
      ],
      "text/latex": [
       "\\begin{tabular}{r|ll}\n",
       " source & target\\\\\n",
       "\\hline\n",
       "\t Cytokines    & JAK1        \\\\\n",
       "\t Cytokines    & IL6ST       \\\\\n",
       "\t Cytokines    & IL6R        \\\\\n",
       "\t Cytokines    & IL6         \\\\\n",
       "\t Inflammation & MYD88       \\\\\n",
       "\t Inflammation & IRAK1       \\\\\n",
       "\\end{tabular}\n"
      ],
      "text/markdown": [
       "\n",
       "| source | target |\n",
       "|---|---|\n",
       "| Cytokines    | JAK1         |\n",
       "| Cytokines    | IL6ST        |\n",
       "| Cytokines    | IL6R         |\n",
       "| Cytokines    | IL6          |\n",
       "| Inflammation | MYD88        |\n",
       "| Inflammation | IRAK1        |\n",
       "\n"
      ],
      "text/plain": [
       "  source       target\n",
       "1 Cytokines    JAK1  \n",
       "2 Cytokines    IL6ST \n",
       "3 Cytokines    IL6R  \n",
       "4 Cytokines    IL6   \n",
       "5 Inflammation MYD88 \n",
       "6 Inflammation IRAK1 "
      ]
     },
     "metadata": {},
     "output_type": "display_data"
    }
   ],
   "source": [
    "# clean process table\n",
    "table_process <- table_process[-2]\n",
    "table_process <- as.data.frame(lapply(table_process, gsub, pattern =\"\\\\(\", replacement = ''))\n",
    "table_process <- as.data.frame(lapply(table_process, gsub, pattern =\"\\\\)\", replacement = ''))\n",
    "table_process <- as.data.frame(lapply(table_process, gsub, pattern =\"interacts\", replacement = ''))\n",
    "\n",
    "table_process <- as.data.frame(str_split_fixed(table_process$shared.name, \" \", n = 2))\n",
    "\n",
    "table_process <- as.data.frame(apply(table_process,2,function(x)gsub('\\\\s+', '',x)))\n",
    "colnames(table_process)[c(1,2)] <- c(\"source\", \"target\")\n",
    "                                     \n",
    "head(table_process)\n",
    "                                     \n",
    "# save table\n",
    "write.table(table_process, file.path(getwd(), \"data-output\", \"cat_gene_table.txt\"), col.names = T, row.names = F, sep = \"\\t\", quote = F)"
   ]
  },
  {
   "cell_type": "code",
   "execution_count": 12,
   "metadata": {},
   "outputs": [
    {
     "data": {
      "text/html": [
       "<table>\n",
       "<thead><tr><th scope=col>source</th><th scope=col>target</th></tr></thead>\n",
       "<tbody>\n",
       "\t<tr><td>GNG2  </td><td>CCL4  </td></tr>\n",
       "\t<tr><td>GNG2  </td><td>GNB1  </td></tr>\n",
       "\t<tr><td>GNG2  </td><td>CCL5  </td></tr>\n",
       "\t<tr><td>GNG2  </td><td>AKT1  </td></tr>\n",
       "\t<tr><td>GNG2  </td><td>BDKRB2</td></tr>\n",
       "\t<tr><td>GNG2  </td><td>ADM   </td></tr>\n",
       "</tbody>\n",
       "</table>\n"
      ],
      "text/latex": [
       "\\begin{tabular}{r|ll}\n",
       " source & target\\\\\n",
       "\\hline\n",
       "\t GNG2   & CCL4  \\\\\n",
       "\t GNG2   & GNB1  \\\\\n",
       "\t GNG2   & CCL5  \\\\\n",
       "\t GNG2   & AKT1  \\\\\n",
       "\t GNG2   & BDKRB2\\\\\n",
       "\t GNG2   & ADM   \\\\\n",
       "\\end{tabular}\n"
      ],
      "text/markdown": [
       "\n",
       "| source | target |\n",
       "|---|---|\n",
       "| GNG2   | CCL4   |\n",
       "| GNG2   | GNB1   |\n",
       "| GNG2   | CCL5   |\n",
       "| GNG2   | AKT1   |\n",
       "| GNG2   | BDKRB2 |\n",
       "| GNG2   | ADM    |\n",
       "\n"
      ],
      "text/plain": [
       "  source target\n",
       "1 GNG2   CCL4  \n",
       "2 GNG2   GNB1  \n",
       "3 GNG2   CCL5  \n",
       "4 GNG2   AKT1  \n",
       "5 GNG2   BDKRB2\n",
       "6 GNG2   ADM   "
      ]
     },
     "metadata": {},
     "output_type": "display_data"
    }
   ],
   "source": [
    "# clean pp table\n",
    "table_pp <- table_pp[-2]\n",
    "table_pp <- as.data.frame(lapply(table_pp, gsub, pattern =\"\\\\(\", replacement = ''))\n",
    "table_pp <- as.data.frame(lapply(table_pp, gsub, pattern =\"\\\\)\", replacement = ''))\n",
    "table_pp <- as.data.frame(lapply(table_pp, gsub, pattern =\"pp\", replacement = ''))\n",
    "\n",
    "table_pp <- as.data.frame(str_split_fixed(table_pp$shared.name, \" \", n = 2))\n",
    "\n",
    "table_pp <- as.data.frame(apply(table_pp,2,function(x)gsub('\\\\s+', '',x)))\n",
    "colnames(table_pp)[c(1,2)] <- c(\"source\", \"target\")\n",
    "                             \n",
    "head(table_pp)\n",
    "\n",
    "# save table\n",
    "write.table(table_pp, file.path(getwd(), \"data-output\", \"ppi_table.txt\"), col.names = T, row.names = F, sep = \"\\t\", quote = F)"
   ]
  },
  {
   "cell_type": "markdown",
   "metadata": {},
   "source": [
    "Now that we have the edge table split up we can check the shared neighbors between process nodes and added gene nodes. We will use the RNeo4J package for this purpose. "
   ]
  },
  {
   "cell_type": "code",
   "execution_count": 13,
   "metadata": {},
   "outputs": [],
   "source": [
    "# first make conenction with Neo4J. Start Neo4J and open the url in a webbrowser. Create your own username and password\n",
    "graph = startGraph(\"http://localhost:7474/db/data/\", username = \"neo4j\", password = \"123\")"
   ]
  },
  {
   "cell_type": "code",
   "execution_count": 14,
   "metadata": {},
   "outputs": [],
   "source": [
    "# load in both tables and load them in Neo4J\n",
    "data = data.frame(read.table(file.path(getwd(), \"data-output\", \"cat_gene_table.txt\"), header = T, sep = \"\\t\"))\n",
    "data <- unique(data)\n",
    "\n",
    "query = \"\n",
    "MERGE (source:Category {id:{Category}})\n",
    "MERGE (target:Gene {id:{Gene}})\n",
    "CREATE (source)<-[:pathway]-(target)\n",
    "\"\n",
    "\n",
    "t = newTransaction(graph)\n",
    "\n",
    "for (i in 1:nrow(data)) {\n",
    "  Category = data[i, ]$source\n",
    "  Gene = data[i, ]$target\n",
    "  \n",
    "  appendCypher(t, \n",
    "               query, \n",
    "               Category = Category, \n",
    "               Gene = Gene \n",
    "               )\n",
    "}\n",
    "\n",
    "commit(t)\n",
    "\n",
    "data1 = data.frame(read.table(file.path(getwd(), \"data-output\", \"ppi_table.txt\"), header = T, sep = \"\\t\"))\n",
    "\n",
    "query = \"\n",
    "MERGE (source:Gene {id:{Gene}})\n",
    "MERGE (target:Gene1 {id:{Gene1}})\n",
    "CREATE (source)<-[:ppi]-(target)\n",
    "\"\n",
    "\n",
    "y = newTransaction(graph)\n",
    "\n",
    "for (i in 1:nrow(data1)) {\n",
    "  Gene = data1[i, ]$source\n",
    "  Gene1 = data1[i, ]$target\n",
    "  \n",
    "  appendCypher(y, \n",
    "               query, \n",
    "               Gene = Gene, \n",
    "               Gene1 = Gene1 \n",
    "  )\n",
    "}\n",
    "\n",
    "commit(y)"
   ]
  },
  {
   "cell_type": "code",
   "execution_count": 15,
   "metadata": {},
   "outputs": [
    {
     "data": {
      "text/html": [
       "<table>\n",
       "<thead><tr><th></th><th scope=col>source_id</th><th scope=col>target_id</th><th scope=col>common_neighbors</th></tr></thead>\n",
       "<tbody>\n",
       "\t<tr><th scope=row>2</th><td>Cytokines</td><td>GNB1     </td><td>12       </td></tr>\n",
       "\t<tr><th scope=row>4</th><td>Cytokines</td><td>PTPN11   </td><td>11       </td></tr>\n",
       "\t<tr><th scope=row>8</th><td>Cytokines</td><td>SHC1     </td><td>18       </td></tr>\n",
       "\t<tr><th scope=row>11</th><td>Cytokines</td><td>PIK3R1   </td><td>21       </td></tr>\n",
       "\t<tr><th scope=row>20</th><td>Cytokines</td><td>UBC      </td><td>15       </td></tr>\n",
       "\t<tr><th scope=row>22</th><td>Cytokines</td><td>UBA52    </td><td>12       </td></tr>\n",
       "</tbody>\n",
       "</table>\n"
      ],
      "text/latex": [
       "\\begin{tabular}{r|lll}\n",
       "  & source\\_id & target\\_id & common\\_neighbors\\\\\n",
       "\\hline\n",
       "\t2 & Cytokines & GNB1      & 12       \\\\\n",
       "\t4 & Cytokines & PTPN11    & 11       \\\\\n",
       "\t8 & Cytokines & SHC1      & 18       \\\\\n",
       "\t11 & Cytokines & PIK3R1    & 21       \\\\\n",
       "\t20 & Cytokines & UBC       & 15       \\\\\n",
       "\t22 & Cytokines & UBA52     & 12       \\\\\n",
       "\\end{tabular}\n"
      ],
      "text/markdown": [
       "\n",
       "| <!--/--> | source_id | target_id | common_neighbors |\n",
       "|---|---|---|---|\n",
       "| 2 | Cytokines | GNB1      | 12        |\n",
       "| 4 | Cytokines | PTPN11    | 11        |\n",
       "| 8 | Cytokines | SHC1      | 18        |\n",
       "| 11 | Cytokines | PIK3R1    | 21        |\n",
       "| 20 | Cytokines | UBC       | 15        |\n",
       "| 22 | Cytokines | UBA52     | 12        |\n",
       "\n"
      ],
      "text/plain": [
       "   source_id target_id common_neighbors\n",
       "2  Cytokines GNB1      12              \n",
       "4  Cytokines PTPN11    11              \n",
       "8  Cytokines SHC1      18              \n",
       "11 Cytokines PIK3R1    21              \n",
       "20 Cytokines UBC       15              \n",
       "22 Cytokines UBA52     12              "
      ]
     },
     "metadata": {},
     "output_type": "display_data"
    },
    {
     "data": {
      "text/html": [
       "<ol class=list-inline>\n",
       "\t<li>263</li>\n",
       "\t<li>3</li>\n",
       "</ol>\n"
      ],
      "text/latex": [
       "\\begin{enumerate*}\n",
       "\\item 263\n",
       "\\item 3\n",
       "\\end{enumerate*}\n"
      ],
      "text/markdown": [
       "1. 263\n",
       "2. 3\n",
       "\n",
       "\n"
      ],
      "text/plain": [
       "[1] 263   3"
      ]
     },
     "metadata": {},
     "output_type": "display_data"
    }
   ],
   "source": [
    "# perform Neo4J query\n",
    "shared_neighbors <- cypher(graph, \"MATCH(source:Category)-[:pathway]-(neighbor:Gene)-[:ppi]-(target:Gene1)\n",
    "WHERE NOT (source) = (target)\n",
    "RETURN DISTINCT source.id AS source_id, target.id AS target_id, count(neighbor) AS common_neighbors\")\n",
    "\n",
    "# only extract the 55 added genes via STRING\n",
    "genes_added <- read.table(file.path(getwd(), \"data-input\", \"genes_added.txt\"), header = T, sep = \"\\t\")\n",
    "\n",
    "colnames(genes_added)[1] <- \"gene\"\n",
    "\n",
    "# retrieve rows if one of the added genes is in that row\n",
    "shared_neighbors_genes_added <- shared_neighbors[shared_neighbors$target_id %in% genes_added$gene,]\n",
    "\n",
    "head(shared_neighbors_genes_added)\n",
    "dim(shared_neighbors_genes_added)"
   ]
  },
  {
   "cell_type": "code",
   "execution_count": 16,
   "metadata": {},
   "outputs": [],
   "source": [
    "# save shared neighbors table\n",
    "write.table(shared_neighbors, file.path(getwd(), \"data-output\", \"shared_neighbors.txt\"), row.names = F, sep = \"\\t\", quote = F)\n",
    "write.table(shared_neighbors_genes_added, file.path(getwd(), \"data-output\", \"shared_neighbors55.txt\"), row.names = F, sep = \"\\t\", quote = F)"
   ]
  },
  {
   "cell_type": "markdown",
   "metadata": {},
   "source": [
    "With these shared neighbors we can decide if we would like to include genes. We opt to include genes with at least 4 shared neighbors to a process node. "
   ]
  },
  {
   "cell_type": "code",
   "execution_count": 17,
   "metadata": {},
   "outputs": [
    {
     "data": {
      "text/html": [
       "<table>\n",
       "<thead><tr><th></th><th scope=col>source_id</th><th scope=col>target_id</th><th scope=col>common_neighbors</th></tr></thead>\n",
       "<tbody>\n",
       "\t<tr><th scope=row>2</th><td>Cytokines</td><td>GNB1     </td><td>12       </td></tr>\n",
       "\t<tr><th scope=row>4</th><td>Cytokines</td><td>PTPN11   </td><td>11       </td></tr>\n",
       "\t<tr><th scope=row>8</th><td>Cytokines</td><td>SHC1     </td><td>18       </td></tr>\n",
       "\t<tr><th scope=row>11</th><td>Cytokines</td><td>PIK3R1   </td><td>21       </td></tr>\n",
       "\t<tr><th scope=row>20</th><td>Cytokines</td><td>UBC      </td><td>15       </td></tr>\n",
       "\t<tr><th scope=row>22</th><td>Cytokines</td><td>UBA52    </td><td>12       </td></tr>\n",
       "</tbody>\n",
       "</table>\n"
      ],
      "text/latex": [
       "\\begin{tabular}{r|lll}\n",
       "  & source\\_id & target\\_id & common\\_neighbors\\\\\n",
       "\\hline\n",
       "\t2 & Cytokines & GNB1      & 12       \\\\\n",
       "\t4 & Cytokines & PTPN11    & 11       \\\\\n",
       "\t8 & Cytokines & SHC1      & 18       \\\\\n",
       "\t11 & Cytokines & PIK3R1    & 21       \\\\\n",
       "\t20 & Cytokines & UBC       & 15       \\\\\n",
       "\t22 & Cytokines & UBA52     & 12       \\\\\n",
       "\\end{tabular}\n"
      ],
      "text/markdown": [
       "\n",
       "| <!--/--> | source_id | target_id | common_neighbors |\n",
       "|---|---|---|---|\n",
       "| 2 | Cytokines | GNB1      | 12        |\n",
       "| 4 | Cytokines | PTPN11    | 11        |\n",
       "| 8 | Cytokines | SHC1      | 18        |\n",
       "| 11 | Cytokines | PIK3R1    | 21        |\n",
       "| 20 | Cytokines | UBC       | 15        |\n",
       "| 22 | Cytokines | UBA52     | 12        |\n",
       "\n"
      ],
      "text/plain": [
       "   source_id target_id common_neighbors\n",
       "2  Cytokines GNB1      12              \n",
       "4  Cytokines PTPN11    11              \n",
       "8  Cytokines SHC1      18              \n",
       "11 Cytokines PIK3R1    21              \n",
       "20 Cytokines UBC       15              \n",
       "22 Cytokines UBA52     12              "
      ]
     },
     "metadata": {},
     "output_type": "display_data"
    },
    {
     "data": {
      "text/html": [
       "<ol class=list-inline>\n",
       "\t<li>69</li>\n",
       "\t<li>3</li>\n",
       "</ol>\n"
      ],
      "text/latex": [
       "\\begin{enumerate*}\n",
       "\\item 69\n",
       "\\item 3\n",
       "\\end{enumerate*}\n"
      ],
      "text/markdown": [
       "1. 69\n",
       "2. 3\n",
       "\n",
       "\n"
      ],
      "text/plain": [
       "[1] 69  3"
      ]
     },
     "metadata": {},
     "output_type": "display_data"
    }
   ],
   "source": [
    "# at least 4 of more shared neighbors\n",
    "shared_neighbors_genes_added <- shared_neighbors_genes_added[shared_neighbors_genes_added$common_neighbors >= 4,]\n",
    "head(shared_neighbors_genes_added)\n",
    "dim(shared_neighbors_genes_added)"
   ]
  },
  {
   "cell_type": "code",
   "execution_count": 18,
   "metadata": {},
   "outputs": [
    {
     "data": {
      "text/html": [
       "<table>\n",
       "<thead><tr><th></th><th scope=col>source</th><th scope=col>target</th></tr></thead>\n",
       "<tbody>\n",
       "\t<tr><th scope=row>2</th><td>Cytokines</td><td>GNB1     </td></tr>\n",
       "\t<tr><th scope=row>4</th><td>Cytokines</td><td>PTPN11   </td></tr>\n",
       "\t<tr><th scope=row>8</th><td>Cytokines</td><td>SHC1     </td></tr>\n",
       "\t<tr><th scope=row>11</th><td>Cytokines</td><td>PIK3R1   </td></tr>\n",
       "\t<tr><th scope=row>20</th><td>Cytokines</td><td>UBC      </td></tr>\n",
       "\t<tr><th scope=row>22</th><td>Cytokines</td><td>UBA52    </td></tr>\n",
       "</tbody>\n",
       "</table>\n"
      ],
      "text/latex": [
       "\\begin{tabular}{r|ll}\n",
       "  & source & target\\\\\n",
       "\\hline\n",
       "\t2 & Cytokines & GNB1     \\\\\n",
       "\t4 & Cytokines & PTPN11   \\\\\n",
       "\t8 & Cytokines & SHC1     \\\\\n",
       "\t11 & Cytokines & PIK3R1   \\\\\n",
       "\t20 & Cytokines & UBC      \\\\\n",
       "\t22 & Cytokines & UBA52    \\\\\n",
       "\\end{tabular}\n"
      ],
      "text/markdown": [
       "\n",
       "| <!--/--> | source | target |\n",
       "|---|---|---|\n",
       "| 2 | Cytokines | GNB1      |\n",
       "| 4 | Cytokines | PTPN11    |\n",
       "| 8 | Cytokines | SHC1      |\n",
       "| 11 | Cytokines | PIK3R1    |\n",
       "| 20 | Cytokines | UBC       |\n",
       "| 22 | Cytokines | UBA52     |\n",
       "\n"
      ],
      "text/plain": [
       "   source    target\n",
       "2  Cytokines GNB1  \n",
       "4  Cytokines PTPN11\n",
       "8  Cytokines SHC1  \n",
       "11 Cytokines PIK3R1\n",
       "20 Cytokines UBC   \n",
       "22 Cytokines UBA52 "
      ]
     },
     "metadata": {},
     "output_type": "display_data"
    },
    {
     "data": {
      "text/html": [
       "<ol class=list-inline>\n",
       "\t<li>519</li>\n",
       "\t<li>2</li>\n",
       "</ol>\n"
      ],
      "text/latex": [
       "\\begin{enumerate*}\n",
       "\\item 519\n",
       "\\item 2\n",
       "\\end{enumerate*}\n"
      ],
      "text/markdown": [
       "1. 519\n",
       "2. 2\n",
       "\n",
       "\n"
      ],
      "text/plain": [
       "[1] 519   2"
      ]
     },
     "metadata": {},
     "output_type": "display_data"
    }
   ],
   "source": [
    "# add these to the edge table and node table\n",
    "# edge table\n",
    "colnames(shared_neighbors_genes_added)[c(1,2)] <- c(\"source\", \"target\") \n",
    "shared_neighbors_genes_added <- shared_neighbors_genes_added[-3]\n",
    "edges1 <- edges[-3]\n",
    "edge_table <- rbind(shared_neighbors_genes_added, edges1)\n",
    "edge_table <- unique(edge_table)\n",
    "\n",
    "head(edge_table)\n",
    "dim(edge_table)\n",
    "\n",
    "# save edge table\n",
    "write.table(edge_table, file.path(getwd(), \"data-output\", \"edge_table_final.txt\"), row.names = F, sep = \"\\t\", quote = F)"
   ]
  },
  {
   "cell_type": "code",
   "execution_count": 19,
   "metadata": {},
   "outputs": [
    {
     "data": {
      "text/html": [
       "<table>\n",
       "<thead><tr><th></th><th scope=col>id</th><th scope=col>type</th></tr></thead>\n",
       "<tbody>\n",
       "\t<tr><th scope=row>1</th><td>Cytokines   </td><td>Process     </td></tr>\n",
       "\t<tr><th scope=row>18</th><td>Inflammation</td><td>Process     </td></tr>\n",
       "\t<tr><th scope=row>25</th><td>NFkB        </td><td>Process     </td></tr>\n",
       "\t<tr><th scope=row>49</th><td>Angiogenesis</td><td>Process     </td></tr>\n",
       "\t<tr><th scope=row>68</th><td>Metabolism  </td><td>Process     </td></tr>\n",
       "\t<tr><th scope=row>194</th><td>Complement  </td><td>Process     </td></tr>\n",
       "</tbody>\n",
       "</table>\n"
      ],
      "text/latex": [
       "\\begin{tabular}{r|ll}\n",
       "  & id & type\\\\\n",
       "\\hline\n",
       "\t1 & Cytokines    & Process     \\\\\n",
       "\t18 & Inflammation & Process     \\\\\n",
       "\t25 & NFkB         & Process     \\\\\n",
       "\t49 & Angiogenesis & Process     \\\\\n",
       "\t68 & Metabolism   & Process     \\\\\n",
       "\t194 & Complement   & Process     \\\\\n",
       "\\end{tabular}\n"
      ],
      "text/markdown": [
       "\n",
       "| <!--/--> | id | type |\n",
       "|---|---|---|\n",
       "| 1 | Cytokines    | Process      |\n",
       "| 18 | Inflammation | Process      |\n",
       "| 25 | NFkB         | Process      |\n",
       "| 49 | Angiogenesis | Process      |\n",
       "| 68 | Metabolism   | Process      |\n",
       "| 194 | Complement   | Process      |\n",
       "\n"
      ],
      "text/plain": [
       "    id           type   \n",
       "1   Cytokines    Process\n",
       "18  Inflammation Process\n",
       "25  NFkB         Process\n",
       "49  Angiogenesis Process\n",
       "68  Metabolism   Process\n",
       "194 Complement   Process"
      ]
     },
     "metadata": {},
     "output_type": "display_data"
    },
    {
     "data": {
      "text/html": [
       "<ol class=list-inline>\n",
       "\t<li>385</li>\n",
       "\t<li>2</li>\n",
       "</ol>\n"
      ],
      "text/latex": [
       "\\begin{enumerate*}\n",
       "\\item 385\n",
       "\\item 2\n",
       "\\end{enumerate*}\n"
      ],
      "text/markdown": [
       "1. 385\n",
       "2. 2\n",
       "\n",
       "\n"
      ],
      "text/plain": [
       "[1] 385   2"
      ]
     },
     "metadata": {},
     "output_type": "display_data"
    }
   ],
   "source": [
    "# node table\n",
    "source <- as.data.frame(edge_table[,\"source\"])\n",
    "target <- as.data.frame(edge_table[,\"target\"])\n",
    "\n",
    "colnames(source)[1] <- \"id\"\n",
    "colnames(target)[1] <- \"id\"\n",
    "\n",
    "node_table <- rbind(source, target)\n",
    "node_table <- unique(node_table)\n",
    "\n",
    "# add node typing to table\n",
    "node_table$type <- \"Gene\"\n",
    "node_table$type[node_table$id %in% edge_table$source] <- \"Process\"\n",
    "node_table$type[node_table$id %in% infl$hgnc_symbol] <- \"InflGene\"\n",
    "\n",
    "head(node_table)\n",
    "dim(node_table)\n",
    "\n",
    "# save node_table\n",
    "write.table(node_table, file.path(getwd(), \"data-output\", \"node_table_final.txt\"), row.names = F, sep = \"\\t\", quote = F)"
   ]
  },
  {
   "cell_type": "markdown",
   "metadata": {},
   "source": [
    "We can use these files to create the network and integrate the gene expression data into this network for analysis."
   ]
  },
  {
   "cell_type": "code",
   "execution_count": 20,
   "metadata": {},
   "outputs": [
    {
     "data": {
      "text/plain": [
       "R version 3.5.1 (2018-07-02)\n",
       "Platform: x86_64-w64-mingw32/x64 (64-bit)\n",
       "Running under: Windows 10 x64 (build 17134)\n",
       "\n",
       "Matrix products: default\n",
       "\n",
       "locale:\n",
       "[1] LC_COLLATE=Dutch_Netherlands.1252  LC_CTYPE=Dutch_Netherlands.1252   \n",
       "[3] LC_MONETARY=Dutch_Netherlands.1252 LC_NUMERIC=C                      \n",
       "[5] LC_TIME=Dutch_Netherlands.1252    \n",
       "\n",
       "attached base packages:\n",
       "[1] stats     graphics  grDevices utils     datasets  methods   base     \n",
       "\n",
       "other attached packages:\n",
       "[1] dplyr_0.7.8          stringr_1.3.1        RNeo4j_1.7.0        \n",
       "[4] RCy3_2.2.6           RevoUtils_11.0.1     RevoUtilsMath_11.0.0\n",
       "\n",
       "loaded via a namespace (and not attached):\n",
       " [1] Rcpp_1.0.0          pillar_1.3.1        compiler_3.5.1     \n",
       " [4] bindr_0.1.1         R.methodsS3_1.7.1   R.utils_2.7.0      \n",
       " [7] base64enc_0.1-3     tools_3.5.1         digest_0.6.18      \n",
       "[10] uuid_0.1-2          tibble_2.0.1        jsonlite_1.6       \n",
       "[13] evaluate_0.12       pkgconfig_2.0.2     rlang_0.3.1        \n",
       "[16] graph_1.60.0        igraph_1.2.2        IRdisplay_0.7.0    \n",
       "[19] curl_3.3            IRkernel_0.8.15     parallel_3.5.1     \n",
       "[22] bindrcpp_0.2.2      repr_0.19.1         httr_1.4.0         \n",
       "[25] tidyselect_0.2.5    stats4_3.5.1        glue_1.3.0         \n",
       "[28] R6_2.3.0            XML_3.98-1.19       RJSONIO_1.3-1.1    \n",
       "[31] pbdZMQ_0.3-3        purrr_0.3.0         magrittr_1.5       \n",
       "[34] htmltools_0.3.6     BiocGenerics_0.28.0 assertthat_0.2.1   \n",
       "[37] stringi_1.2.4       crayon_1.3.4        R.oo_1.22.0        "
      ]
     },
     "metadata": {},
     "output_type": "display_data"
    }
   ],
   "source": [
    "# information about the session\n",
    "sessionInfo()"
   ]
  }
 ],
 "metadata": {
  "kernelspec": {
   "display_name": "R",
   "language": "R",
   "name": "ir"
  },
  "language_info": {
   "codemirror_mode": "r",
   "file_extension": ".r",
   "mimetype": "text/x-r-source",
   "name": "R",
   "pygments_lexer": "r",
   "version": "3.5.1"
  }
 },
 "nbformat": 4,
 "nbformat_minor": 2
}
