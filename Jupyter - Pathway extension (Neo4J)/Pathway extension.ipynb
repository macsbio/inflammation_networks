{
 "cells": [
  {
   "cell_type": "markdown",
   "metadata": {},
   "source": [
    "# Network extension\n",
    "\n",
    "In this notebook we will extend the network with genes that were excluded based on the set criteria for the selection of pathways. These gene were in pathways from all three databases, however not in a pathway that was selected for the creation of the network. Via the STRING app in Cytoscape we will try to add these genes to the network using ppi interactions."
   ]
  },
  {
   "cell_type": "code",
   "execution_count": 103,
   "metadata": {},
   "outputs": [
    {
     "data": {
      "text/html": [
       "'C:/Users/Laurent/Untitled Folder'"
      ],
      "text/latex": [
       "'C:/Users/Laurent/Untitled Folder'"
      ],
      "text/markdown": [
       "'C:/Users/Laurent/Untitled Folder'"
      ],
      "text/plain": [
       "[1] \"C:/Users/Laurent/Untitled Folder\""
      ]
     },
     "metadata": {},
     "output_type": "display_data"
    }
   ],
   "source": [
    "# check working directory\n",
    "getwd()"
   ]
  },
  {
   "cell_type": "code",
   "execution_count": 104,
   "metadata": {},
   "outputs": [],
   "source": [
    "# load libraries\n",
    "library(RCy3)\n",
    "library(RNeo4j)\n",
    "library(stringr)"
   ]
  },
  {
   "cell_type": "markdown",
   "metadata": {},
   "source": [
    "Open Cytoscape on your computer and install the STRING app."
   ]
  },
  {
   "cell_type": "code",
   "execution_count": 105,
   "metadata": {},
   "outputs": [
    {
     "data": {
      "text/html": [
       "'You are connected to Cytoscape!'"
      ],
      "text/latex": [
       "'You are connected to Cytoscape!'"
      ],
      "text/markdown": [
       "'You are connected to Cytoscape!'"
      ],
      "text/plain": [
       "[1] \"You are connected to Cytoscape!\""
      ]
     },
     "metadata": {},
     "output_type": "display_data"
    },
    {
     "data": {
      "text/html": [
       "<dl class=dl-horizontal>\n",
       "\t<dt>apiVersion</dt>\n",
       "\t\t<dd>'v1'</dd>\n",
       "\t<dt>cytoscapeVersion</dt>\n",
       "\t\t<dd>'3.7.1'</dd>\n",
       "</dl>\n"
      ],
      "text/latex": [
       "\\begin{description*}\n",
       "\\item[apiVersion] 'v1'\n",
       "\\item[cytoscapeVersion] '3.7.1'\n",
       "\\end{description*}\n"
      ],
      "text/markdown": [
       "apiVersion\n",
       ":   'v1'cytoscapeVersion\n",
       ":   '3.7.1'\n",
       "\n"
      ],
      "text/plain": [
       "      apiVersion cytoscapeVersion \n",
       "            \"v1\"          \"3.7.1\" "
      ]
     },
     "metadata": {},
     "output_type": "display_data"
    },
    {
     "data": {
      "text/html": [
       "'App STRINGapp installed'"
      ],
      "text/latex": [
       "'App STRINGapp installed'"
      ],
      "text/markdown": [
       "'App STRINGapp installed'"
      ],
      "text/plain": [
       "[1] \"App STRINGapp installed\""
      ]
     },
     "metadata": {},
     "output_type": "display_data"
    },
    {
     "name": "stdout",
     "output_type": "stream",
     "text": [
      "[1] \"Available namespaces:\"\n",
      "[1] \"Success: the STRING app is installed\"\n"
     ]
    }
   ],
   "source": [
    "# check if Cytoscape is connected\n",
    "cytoscapePing()\n",
    "cytoscapeVersionInfo()\n",
    "\n",
    "# install STRING app\n",
    "installApp('STRINGapp') \n",
    "if(\"string\" %in% commandsHelp(\"\")) print(\"Success: the STRING app is installed\") else print(\"Warning: STRING app is not installed. Please install the STRING app before proceeding.\")"
   ]
  },
  {
   "cell_type": "markdown",
   "metadata": {},
   "source": [
    "To begin with we will create the network and a ppi network using the STRING app in Cytoscape."
   ]
  },
  {
   "cell_type": "code",
   "execution_count": 121,
   "metadata": {},
   "outputs": [
    {
     "data": {
      "text/html": [
       "<table>\n",
       "<thead><tr><th scope=col>key</th><th scope=col>type</th></tr></thead>\n",
       "<tbody>\n",
       "\t<tr><td>WP_OVERVIEW_OF_NANOPARTICLE_EFFECTS               </td><td>Process                                           </td></tr>\n",
       "\t<tr><td>WP_FIBRIN_COMPLEMENT_RECEPTOR_3_SIGNALING_PATHWAY </td><td>Process                                           </td></tr>\n",
       "\t<tr><td>WP_DEVELOPMENT_AND_HETEROGENEITY_OF_THE_ILC_FAMILY</td><td>Process                                           </td></tr>\n",
       "\t<tr><td>Vitamin_B12                                       </td><td>Process                                           </td></tr>\n",
       "\t<tr><td>NFkB                                              </td><td>Process                                           </td></tr>\n",
       "\t<tr><td>Inflammation                                      </td><td>Process                                           </td></tr>\n",
       "</tbody>\n",
       "</table>\n"
      ],
      "text/latex": [
       "\\begin{tabular}{r|ll}\n",
       " key & type\\\\\n",
       "\\hline\n",
       "\t WP\\_OVERVIEW\\_OF\\_NANOPARTICLE\\_EFFECTS                & Process                                                   \\\\\n",
       "\t WP\\_FIBRIN\\_COMPLEMENT\\_RECEPTOR\\_3\\_SIGNALING\\_PATHWAY  & Process                                                       \\\\\n",
       "\t WP\\_DEVELOPMENT\\_AND\\_HETEROGENEITY\\_OF\\_THE\\_ILC\\_FAMILY & Process                                                         \\\\\n",
       "\t Vitamin\\_B12                                        & Process                                             \\\\\n",
       "\t NFkB                                               & Process                                           \\\\\n",
       "\t Inflammation                                       & Process                                           \\\\\n",
       "\\end{tabular}\n"
      ],
      "text/markdown": [
       "\n",
       "| key | type |\n",
       "|---|---|\n",
       "| WP_OVERVIEW_OF_NANOPARTICLE_EFFECTS                | Process                                            |\n",
       "| WP_FIBRIN_COMPLEMENT_RECEPTOR_3_SIGNALING_PATHWAY  | Process                                            |\n",
       "| WP_DEVELOPMENT_AND_HETEROGENEITY_OF_THE_ILC_FAMILY | Process                                            |\n",
       "| Vitamin_B12                                        | Process                                            |\n",
       "| NFkB                                               | Process                                            |\n",
       "| Inflammation                                       | Process                                            |\n",
       "\n"
      ],
      "text/plain": [
       "  key                                                type   \n",
       "1 WP_OVERVIEW_OF_NANOPARTICLE_EFFECTS                Process\n",
       "2 WP_FIBRIN_COMPLEMENT_RECEPTOR_3_SIGNALING_PATHWAY  Process\n",
       "3 WP_DEVELOPMENT_AND_HETEROGENEITY_OF_THE_ILC_FAMILY Process\n",
       "4 Vitamin_B12                                        Process\n",
       "5 NFkB                                               Process\n",
       "6 Inflammation                                       Process"
      ]
     },
     "metadata": {},
     "output_type": "display_data"
    },
    {
     "data": {
      "text/html": [
       "<table>\n",
       "<thead><tr><th scope=col>source</th><th scope=col>target</th></tr></thead>\n",
       "<tbody>\n",
       "\t<tr><td>NFkB  </td><td>S100B </td></tr>\n",
       "\t<tr><td>NFkB  </td><td>TLR3  </td></tr>\n",
       "\t<tr><td>NFkB  </td><td>NFKB2 </td></tr>\n",
       "\t<tr><td>NFkB  </td><td>NFKBIA</td></tr>\n",
       "\t<tr><td>NFkB  </td><td>NFKBIB</td></tr>\n",
       "\t<tr><td>NFkB  </td><td>RELA  </td></tr>\n",
       "</tbody>\n",
       "</table>\n"
      ],
      "text/latex": [
       "\\begin{tabular}{r|ll}\n",
       " source & target\\\\\n",
       "\\hline\n",
       "\t NFkB   & S100B \\\\\n",
       "\t NFkB   & TLR3  \\\\\n",
       "\t NFkB   & NFKB2 \\\\\n",
       "\t NFkB   & NFKBIA\\\\\n",
       "\t NFkB   & NFKBIB\\\\\n",
       "\t NFkB   & RELA  \\\\\n",
       "\\end{tabular}\n"
      ],
      "text/markdown": [
       "\n",
       "| source | target |\n",
       "|---|---|\n",
       "| NFkB   | S100B  |\n",
       "| NFkB   | TLR3   |\n",
       "| NFkB   | NFKB2  |\n",
       "| NFkB   | NFKBIA |\n",
       "| NFkB   | NFKBIB |\n",
       "| NFkB   | RELA   |\n",
       "\n"
      ],
      "text/plain": [
       "  source target\n",
       "1 NFkB   S100B \n",
       "2 NFkB   TLR3  \n",
       "3 NFkB   NFKB2 \n",
       "4 NFkB   NFKBIA\n",
       "5 NFkB   NFKBIB\n",
       "6 NFkB   RELA  "
      ]
     },
     "metadata": {},
     "output_type": "display_data"
    },
    {
     "data": {
      "text/html": [
       "<table>\n",
       "<thead><tr><th scope=col>hgnc_symbol</th><th scope=col>entrezgene</th><th scope=col>dis_score</th><th scope=col>GC_score</th><th scope=col>Type</th></tr></thead>\n",
       "<tbody>\n",
       "\t<tr><td>IL22    </td><td>50616   </td><td>0.01    </td><td>10.08   </td><td>InflGene</td></tr>\n",
       "\t<tr><td>CCR7    </td><td> 1236   </td><td>0.01    </td><td>10.12   </td><td>InflGene</td></tr>\n",
       "\t<tr><td>CAT     </td><td>  847   </td><td>0.01    </td><td>10.21   </td><td>InflGene</td></tr>\n",
       "\t<tr><td>SOD1    </td><td> 6647   </td><td>0.33    </td><td>10.35   </td><td>InflGene</td></tr>\n",
       "\t<tr><td>PLAT    </td><td> 5327   </td><td>0.01    </td><td>10.36   </td><td>InflGene</td></tr>\n",
       "\t<tr><td>AQP4    </td><td>  361   </td><td>0.01    </td><td>10.38   </td><td>InflGene</td></tr>\n",
       "</tbody>\n",
       "</table>\n"
      ],
      "text/latex": [
       "\\begin{tabular}{r|lllll}\n",
       " hgnc\\_symbol & entrezgene & dis\\_score & GC\\_score & Type\\\\\n",
       "\\hline\n",
       "\t IL22     & 50616    & 0.01     & 10.08    & InflGene\\\\\n",
       "\t CCR7     &  1236    & 0.01     & 10.12    & InflGene\\\\\n",
       "\t CAT      &   847    & 0.01     & 10.21    & InflGene\\\\\n",
       "\t SOD1     &  6647    & 0.33     & 10.35    & InflGene\\\\\n",
       "\t PLAT     &  5327    & 0.01     & 10.36    & InflGene\\\\\n",
       "\t AQP4     &   361    & 0.01     & 10.38    & InflGene\\\\\n",
       "\\end{tabular}\n"
      ],
      "text/markdown": [
       "\n",
       "| hgnc_symbol | entrezgene | dis_score | GC_score | Type |\n",
       "|---|---|---|---|---|\n",
       "| IL22     | 50616    | 0.01     | 10.08    | InflGene |\n",
       "| CCR7     |  1236    | 0.01     | 10.12    | InflGene |\n",
       "| CAT      |   847    | 0.01     | 10.21    | InflGene |\n",
       "| SOD1     |  6647    | 0.33     | 10.35    | InflGene |\n",
       "| PLAT     |  5327    | 0.01     | 10.36    | InflGene |\n",
       "| AQP4     |   361    | 0.01     | 10.38    | InflGene |\n",
       "\n"
      ],
      "text/plain": [
       "  hgnc_symbol entrezgene dis_score GC_score Type    \n",
       "1 IL22        50616      0.01      10.08    InflGene\n",
       "2 CCR7         1236      0.01      10.12    InflGene\n",
       "3 CAT           847      0.01      10.21    InflGene\n",
       "4 SOD1         6647      0.33      10.35    InflGene\n",
       "5 PLAT         5327      0.01      10.36    InflGene\n",
       "6 AQP4          361      0.01      10.38    InflGene"
      ]
     },
     "metadata": {},
     "output_type": "display_data"
    }
   ],
   "source": [
    "# load in network and data files\n",
    "nodes <- read.table(file.path(getwd(), \"network\", \"nodes.txt\"), header = T, sep = \"\\t\")\n",
    "edges <- read.table(file.path(getwd(), \"network\", \"edges.txt\"), header = T, sep = \"\\t\")\n",
    "inflGenes <- read.table(file.path(getwd(), \"inflGenes\", \"merged_infl_genes.txt\"), header = T, sep = \"\\t\")\n",
    "\n",
    "head(nodes)\n",
    "head(edges)\n",
    "head(inflGenes)"
   ]
  },
  {
   "cell_type": "code",
   "execution_count": 122,
   "metadata": {},
   "outputs": [
    {
     "data": {
      "text/html": [
       "<table>\n",
       "<thead><tr><th scope=col>id</th><th scope=col>type</th></tr></thead>\n",
       "<tbody>\n",
       "\t<tr><td>WP_OVERVIEW_OF_NANOPARTICLE_EFFECTS               </td><td>Process                                           </td></tr>\n",
       "\t<tr><td>WP_FIBRIN_COMPLEMENT_RECEPTOR_3_SIGNALING_PATHWAY </td><td>Process                                           </td></tr>\n",
       "\t<tr><td>WP_DEVELOPMENT_AND_HETEROGENEITY_OF_THE_ILC_FAMILY</td><td>Process                                           </td></tr>\n",
       "\t<tr><td>Vitamin_B12                                       </td><td>Process                                           </td></tr>\n",
       "\t<tr><td>NFkB                                              </td><td>Process                                           </td></tr>\n",
       "\t<tr><td>Inflammation                                      </td><td>Process                                           </td></tr>\n",
       "</tbody>\n",
       "</table>\n"
      ],
      "text/latex": [
       "\\begin{tabular}{r|ll}\n",
       " id & type\\\\\n",
       "\\hline\n",
       "\t WP\\_OVERVIEW\\_OF\\_NANOPARTICLE\\_EFFECTS                & Process                                                   \\\\\n",
       "\t WP\\_FIBRIN\\_COMPLEMENT\\_RECEPTOR\\_3\\_SIGNALING\\_PATHWAY  & Process                                                       \\\\\n",
       "\t WP\\_DEVELOPMENT\\_AND\\_HETEROGENEITY\\_OF\\_THE\\_ILC\\_FAMILY & Process                                                         \\\\\n",
       "\t Vitamin\\_B12                                        & Process                                             \\\\\n",
       "\t NFkB                                               & Process                                           \\\\\n",
       "\t Inflammation                                       & Process                                           \\\\\n",
       "\\end{tabular}\n"
      ],
      "text/markdown": [
       "\n",
       "| id | type |\n",
       "|---|---|\n",
       "| WP_OVERVIEW_OF_NANOPARTICLE_EFFECTS                | Process                                            |\n",
       "| WP_FIBRIN_COMPLEMENT_RECEPTOR_3_SIGNALING_PATHWAY  | Process                                            |\n",
       "| WP_DEVELOPMENT_AND_HETEROGENEITY_OF_THE_ILC_FAMILY | Process                                            |\n",
       "| Vitamin_B12                                        | Process                                            |\n",
       "| NFkB                                               | Process                                            |\n",
       "| Inflammation                                       | Process                                            |\n",
       "\n"
      ],
      "text/plain": [
       "  id                                                 type   \n",
       "1 WP_OVERVIEW_OF_NANOPARTICLE_EFFECTS                Process\n",
       "2 WP_FIBRIN_COMPLEMENT_RECEPTOR_3_SIGNALING_PATHWAY  Process\n",
       "3 WP_DEVELOPMENT_AND_HETEROGENEITY_OF_THE_ILC_FAMILY Process\n",
       "4 Vitamin_B12                                        Process\n",
       "5 NFkB                                               Process\n",
       "6 Inflammation                                       Process"
      ]
     },
     "metadata": {},
     "output_type": "display_data"
    },
    {
     "data": {
      "text/html": [
       "<table>\n",
       "<thead><tr><th scope=col>source</th><th scope=col>target</th><th scope=col>interaction</th></tr></thead>\n",
       "<tbody>\n",
       "\t<tr><td>NFkB     </td><td>S100B    </td><td>interacts</td></tr>\n",
       "\t<tr><td>NFkB     </td><td>TLR3     </td><td>interacts</td></tr>\n",
       "\t<tr><td>NFkB     </td><td>NFKB2    </td><td>interacts</td></tr>\n",
       "\t<tr><td>NFkB     </td><td>NFKBIA   </td><td>interacts</td></tr>\n",
       "\t<tr><td>NFkB     </td><td>NFKBIB   </td><td>interacts</td></tr>\n",
       "\t<tr><td>NFkB     </td><td>RELA     </td><td>interacts</td></tr>\n",
       "</tbody>\n",
       "</table>\n"
      ],
      "text/latex": [
       "\\begin{tabular}{r|lll}\n",
       " source & target & interaction\\\\\n",
       "\\hline\n",
       "\t NFkB      & S100B     & interacts\\\\\n",
       "\t NFkB      & TLR3      & interacts\\\\\n",
       "\t NFkB      & NFKB2     & interacts\\\\\n",
       "\t NFkB      & NFKBIA    & interacts\\\\\n",
       "\t NFkB      & NFKBIB    & interacts\\\\\n",
       "\t NFkB      & RELA      & interacts\\\\\n",
       "\\end{tabular}\n"
      ],
      "text/markdown": [
       "\n",
       "| source | target | interaction |\n",
       "|---|---|---|\n",
       "| NFkB      | S100B     | interacts |\n",
       "| NFkB      | TLR3      | interacts |\n",
       "| NFkB      | NFKB2     | interacts |\n",
       "| NFkB      | NFKBIA    | interacts |\n",
       "| NFkB      | NFKBIB    | interacts |\n",
       "| NFkB      | RELA      | interacts |\n",
       "\n"
      ],
      "text/plain": [
       "  source target interaction\n",
       "1 NFkB   S100B  interacts  \n",
       "2 NFkB   TLR3   interacts  \n",
       "3 NFkB   NFKB2  interacts  \n",
       "4 NFkB   NFKBIA interacts  \n",
       "5 NFkB   NFKBIB interacts  \n",
       "6 NFkB   RELA   interacts  "
      ]
     },
     "metadata": {},
     "output_type": "display_data"
    },
    {
     "data": {
      "text/html": [
       "<table>\n",
       "<thead><tr><th scope=col>hgnc_symbol</th></tr></thead>\n",
       "<tbody>\n",
       "\t<tr><td>IL22</td></tr>\n",
       "\t<tr><td>CCR7</td></tr>\n",
       "\t<tr><td>CAT </td></tr>\n",
       "\t<tr><td>SOD1</td></tr>\n",
       "\t<tr><td>PLAT</td></tr>\n",
       "\t<tr><td>AQP4</td></tr>\n",
       "</tbody>\n",
       "</table>\n"
      ],
      "text/latex": [
       "\\begin{tabular}{r|l}\n",
       " hgnc\\_symbol\\\\\n",
       "\\hline\n",
       "\t IL22\\\\\n",
       "\t CCR7\\\\\n",
       "\t CAT \\\\\n",
       "\t SOD1\\\\\n",
       "\t PLAT\\\\\n",
       "\t AQP4\\\\\n",
       "\\end{tabular}\n"
      ],
      "text/markdown": [
       "\n",
       "| hgnc_symbol |\n",
       "|---|\n",
       "| IL22 |\n",
       "| CCR7 |\n",
       "| CAT  |\n",
       "| SOD1 |\n",
       "| PLAT |\n",
       "| AQP4 |\n",
       "\n"
      ],
      "text/plain": [
       "  hgnc_symbol\n",
       "1 IL22       \n",
       "2 CCR7       \n",
       "3 CAT        \n",
       "4 SOD1       \n",
       "5 PLAT       \n",
       "6 AQP4       "
      ]
     },
     "metadata": {},
     "output_type": "display_data"
    }
   ],
   "source": [
    "# clean up network and data files\n",
    "# nodes\n",
    "colnames(nodes)[1] <- \"id\"\n",
    "nodes$id <- as.character(nodes$id)\n",
    "\n",
    "# edges\n",
    "edges <- edges[,c(-3,-4)]\n",
    "colnames(edges)[c(1,2)] <- c(\"source\", \"target\") \n",
    "edges$interaction <- \"interacts\"\n",
    "edges$target <- as.character(edges$target)\n",
    "\n",
    "# inflGenes\n",
    "inflGenes <- inflGenes[c(-2,-3,-4,-5)]\n",
    "\n",
    "head(nodes)\n",
    "head(edges)\n",
    "head(inflGenes)"
   ]
  },
  {
   "cell_type": "code",
   "execution_count": 108,
   "metadata": {},
   "outputs": [
    {
     "name": "stdout",
     "output_type": "stream",
     "text": [
      "Loading data...\n",
      "Applying default style...\n",
      "Applying preferred layout...\n"
     ]
    },
    {
     "data": {
      "text/html": [
       "<strong>networkSUID:</strong> 12273"
      ],
      "text/latex": [
       "\\textbf{networkSUID:} 12273"
      ],
      "text/markdown": [
       "**networkSUID:** 12273"
      ],
      "text/plain": [
       "networkSUID \n",
       "      12273 "
      ]
     },
     "metadata": {},
     "output_type": "display_data"
    }
   ],
   "source": [
    "# create network from files\n",
    "createNetworkFromDataFrames(nodes, edges, title = \"MyNetwork\", collection = \"MyCollection\")"
   ]
  },
  {
   "cell_type": "markdown",
   "metadata": {},
   "source": [
    "We now have the network and everything running and installen in Cytoscape. We will use the all genes that are in the network, including the genes associated with inflammation to create a ppi network via the STRING app. "
   ]
  },
  {
   "cell_type": "code",
   "execution_count": 109,
   "metadata": {},
   "outputs": [
    {
     "data": {
      "text/html": [
       "<table>\n",
       "<thead><tr><th></th><th scope=col>hgnc_symbol</th></tr></thead>\n",
       "<tbody>\n",
       "\t<tr><th scope=row>11</th><td>TOX   </td></tr>\n",
       "\t<tr><th scope=row>12</th><td>CD40LG</td></tr>\n",
       "\t<tr><th scope=row>13</th><td>SCARB1</td></tr>\n",
       "\t<tr><th scope=row>14</th><td>CD86  </td></tr>\n",
       "\t<tr><th scope=row>15</th><td>CD80  </td></tr>\n",
       "\t<tr><th scope=row>16</th><td>CD28  </td></tr>\n",
       "</tbody>\n",
       "</table>\n"
      ],
      "text/latex": [
       "\\begin{tabular}{r|l}\n",
       "  & hgnc\\_symbol\\\\\n",
       "\\hline\n",
       "\t11 & TOX   \\\\\n",
       "\t12 & CD40LG\\\\\n",
       "\t13 & SCARB1\\\\\n",
       "\t14 & CD86  \\\\\n",
       "\t15 & CD80  \\\\\n",
       "\t16 & CD28  \\\\\n",
       "\\end{tabular}\n"
      ],
      "text/markdown": [
       "\n",
       "| <!--/--> | hgnc_symbol |\n",
       "|---|---|\n",
       "| 11 | TOX    |\n",
       "| 12 | CD40LG |\n",
       "| 13 | SCARB1 |\n",
       "| 14 | CD86   |\n",
       "| 15 | CD80   |\n",
       "| 16 | CD28   |\n",
       "\n"
      ],
      "text/plain": [
       "   hgnc_symbol\n",
       "11 TOX        \n",
       "12 CD40LG     \n",
       "13 SCARB1     \n",
       "14 CD86       \n",
       "15 CD80       \n",
       "16 CD28       "
      ]
     },
     "metadata": {},
     "output_type": "display_data"
    },
    {
     "data": {
      "text/html": [
       "<ol class=list-inline>\n",
       "\t<li>454</li>\n",
       "\t<li>1</li>\n",
       "</ol>\n"
      ],
      "text/latex": [
       "\\begin{enumerate*}\n",
       "\\item 454\n",
       "\\item 1\n",
       "\\end{enumerate*}\n"
      ],
      "text/markdown": [
       "1. 454\n",
       "2. 1\n",
       "\n",
       "\n"
      ],
      "text/plain": [
       "[1] 454   1"
      ]
     },
     "metadata": {},
     "output_type": "display_data"
    }
   ],
   "source": [
    "# get all genes from network and combine them with inflammation genes\n",
    "networkGenes <- nodes[nodes$type != \"Process\",]\n",
    "networkGenes <- networkGenes[-2]\n",
    "colnames(networkGenes)[1] <- \"hgnc_symbol\"\n",
    "\n",
    "networkGenes <- rbind(networkGenes, inflGenes)\n",
    "networkGenes <- unique(networkGenes)\n",
    "\n",
    "head(networkGenes)\n",
    "dim(networkGenes)"
   ]
  },
  {
   "cell_type": "markdown",
   "metadata": {},
   "source": [
    "Lets create the ppi network!"
   ]
  },
  {
   "cell_type": "code",
   "execution_count": 111,
   "metadata": {},
   "outputs": [
    {
     "ename": "ERROR",
     "evalue": "Error in commandsGET(string_cmd): \n",
     "output_type": "error",
     "traceback": [
      "Error in commandsGET(string_cmd): \nTraceback:\n",
      "1. commandsGET(string_cmd)",
      "2. stop()"
     ]
    }
   ],
   "source": [
    "# create STRING app API command and create ppi network\n",
    "string_cmd <- paste('string protein query taxonID=9606 cutoff=0.9 query=\"',paste(networkGenes$hgnc_symbol, collapse=\",\"),'\"',sep=\"\")\n",
    "commandsGET(string_cmd)"
   ]
  },
  {
   "cell_type": "markdown",
   "metadata": {},
   "source": [
    "### Now we have to do a mnual part. We will merge the networks. Go to Cytoscape -> 'Tools' -> 'Merge' -> 'Networks...'. Then select the two network and click 'Advanced options'. For the STRING network chose 'query term' as matching column!"
   ]
  },
  {
   "cell_type": "markdown",
   "metadata": {},
   "source": [
    "Now we have the merged network we will extract the edge table and make two seperate files from this table for the Neo4J part. "
   ]
  },
  {
   "cell_type": "code",
   "execution_count": 80,
   "metadata": {},
   "outputs": [
    {
     "data": {
      "text/html": [
       "<table>\n",
       "<thead><tr><th></th><th scope=col>name</th><th scope=col>interaction</th></tr></thead>\n",
       "<tbody>\n",
       "\t<tr><th scope=row>16670</th><td>Allograft_rejection (interacts) IL10</td><td>interacts                           </td></tr>\n",
       "\t<tr><th scope=row>16671</th><td>Allograft_rejection (interacts) CD86</td><td>interacts                           </td></tr>\n",
       "\t<tr><th scope=row>16672</th><td>Allograft_rejection (interacts) IL4 </td><td>interacts                           </td></tr>\n",
       "\t<tr><th scope=row>16673</th><td>Allograft_rejection (interacts) CD80</td><td>interacts                           </td></tr>\n",
       "\t<tr><th scope=row>16674</th><td>Allograft_rejection (interacts) CD28</td><td>interacts                           </td></tr>\n",
       "\t<tr><th scope=row>16675</th><td>Allograft_rejection (interacts) IL5 </td><td>interacts                           </td></tr>\n",
       "</tbody>\n",
       "</table>\n"
      ],
      "text/latex": [
       "\\begin{tabular}{r|ll}\n",
       "  & name & interaction\\\\\n",
       "\\hline\n",
       "\t16670 & Allograft\\_rejection (interacts) IL10 & interacts                             \\\\\n",
       "\t16671 & Allograft\\_rejection (interacts) CD86 & interacts                             \\\\\n",
       "\t16672 & Allograft\\_rejection (interacts) IL4  & interacts                             \\\\\n",
       "\t16673 & Allograft\\_rejection (interacts) CD80 & interacts                             \\\\\n",
       "\t16674 & Allograft\\_rejection (interacts) CD28 & interacts                             \\\\\n",
       "\t16675 & Allograft\\_rejection (interacts) IL5  & interacts                             \\\\\n",
       "\\end{tabular}\n"
      ],
      "text/markdown": [
       "\n",
       "| <!--/--> | name | interaction |\n",
       "|---|---|---|\n",
       "| 16670 | Allograft_rejection (interacts) IL10 | interacts                            |\n",
       "| 16671 | Allograft_rejection (interacts) CD86 | interacts                            |\n",
       "| 16672 | Allograft_rejection (interacts) IL4  | interacts                            |\n",
       "| 16673 | Allograft_rejection (interacts) CD80 | interacts                            |\n",
       "| 16674 | Allograft_rejection (interacts) CD28 | interacts                            |\n",
       "| 16675 | Allograft_rejection (interacts) IL5  | interacts                            |\n",
       "\n"
      ],
      "text/plain": [
       "      name                                 interaction\n",
       "16670 Allograft_rejection (interacts) IL10 interacts  \n",
       "16671 Allograft_rejection (interacts) CD86 interacts  \n",
       "16672 Allograft_rejection (interacts) IL4  interacts  \n",
       "16673 Allograft_rejection (interacts) CD80 interacts  \n",
       "16674 Allograft_rejection (interacts) CD28 interacts  \n",
       "16675 Allograft_rejection (interacts) IL5  interacts  "
      ]
     },
     "metadata": {},
     "output_type": "display_data"
    }
   ],
   "source": [
    "# get table columns we need from edge table\n",
    "table <- getTableColumns(table = \"edge\", columns = c(\"name\", \"interaction\"))\n",
    "\n",
    "head(table)"
   ]
  },
  {
   "cell_type": "code",
   "execution_count": 81,
   "metadata": {},
   "outputs": [
    {
     "data": {
      "text/html": [
       "<table>\n",
       "<thead><tr><th></th><th scope=col>name</th><th scope=col>interaction</th></tr></thead>\n",
       "<tbody>\n",
       "\t<tr><th scope=row>16670</th><td>Allograft_rejection (interacts) IL10</td><td>interacts                           </td></tr>\n",
       "\t<tr><th scope=row>16671</th><td>Allograft_rejection (interacts) CD86</td><td>interacts                           </td></tr>\n",
       "\t<tr><th scope=row>16672</th><td>Allograft_rejection (interacts) IL4 </td><td>interacts                           </td></tr>\n",
       "\t<tr><th scope=row>16673</th><td>Allograft_rejection (interacts) CD80</td><td>interacts                           </td></tr>\n",
       "\t<tr><th scope=row>16674</th><td>Allograft_rejection (interacts) CD28</td><td>interacts                           </td></tr>\n",
       "\t<tr><th scope=row>16675</th><td>Allograft_rejection (interacts) IL5 </td><td>interacts                           </td></tr>\n",
       "</tbody>\n",
       "</table>\n"
      ],
      "text/latex": [
       "\\begin{tabular}{r|ll}\n",
       "  & name & interaction\\\\\n",
       "\\hline\n",
       "\t16670 & Allograft\\_rejection (interacts) IL10 & interacts                             \\\\\n",
       "\t16671 & Allograft\\_rejection (interacts) CD86 & interacts                             \\\\\n",
       "\t16672 & Allograft\\_rejection (interacts) IL4  & interacts                             \\\\\n",
       "\t16673 & Allograft\\_rejection (interacts) CD80 & interacts                             \\\\\n",
       "\t16674 & Allograft\\_rejection (interacts) CD28 & interacts                             \\\\\n",
       "\t16675 & Allograft\\_rejection (interacts) IL5  & interacts                             \\\\\n",
       "\\end{tabular}\n"
      ],
      "text/markdown": [
       "\n",
       "| <!--/--> | name | interaction |\n",
       "|---|---|---|\n",
       "| 16670 | Allograft_rejection (interacts) IL10 | interacts                            |\n",
       "| 16671 | Allograft_rejection (interacts) CD86 | interacts                            |\n",
       "| 16672 | Allograft_rejection (interacts) IL4  | interacts                            |\n",
       "| 16673 | Allograft_rejection (interacts) CD80 | interacts                            |\n",
       "| 16674 | Allograft_rejection (interacts) CD28 | interacts                            |\n",
       "| 16675 | Allograft_rejection (interacts) IL5  | interacts                            |\n",
       "\n"
      ],
      "text/plain": [
       "      name                                 interaction\n",
       "16670 Allograft_rejection (interacts) IL10 interacts  \n",
       "16671 Allograft_rejection (interacts) CD86 interacts  \n",
       "16672 Allograft_rejection (interacts) IL4  interacts  \n",
       "16673 Allograft_rejection (interacts) CD80 interacts  \n",
       "16674 Allograft_rejection (interacts) CD28 interacts  \n",
       "16675 Allograft_rejection (interacts) IL5  interacts  "
      ]
     },
     "metadata": {},
     "output_type": "display_data"
    },
    {
     "data": {
      "text/html": [
       "<table>\n",
       "<thead><tr><th></th><th scope=col>name</th><th scope=col>interaction</th></tr></thead>\n",
       "<tbody>\n",
       "\t<tr><th scope=row>17241</th><td>GNAI1 (pp) CCL4 </td><td>pp              </td></tr>\n",
       "\t<tr><th scope=row>17242</th><td>GNAI1 (pp) GNB1 </td><td>pp              </td></tr>\n",
       "\t<tr><th scope=row>17243</th><td>GNAI1 (pp) CCL5 </td><td>pp              </td></tr>\n",
       "\t<tr><th scope=row>17244</th><td>GNAI1 (pp) AKT1 </td><td>pp              </td></tr>\n",
       "\t<tr><th scope=row>17245</th><td>GNAI1 (pp) PLCB3</td><td>pp              </td></tr>\n",
       "\t<tr><th scope=row>17246</th><td>GNAI1 (pp) CCR3 </td><td>pp              </td></tr>\n",
       "</tbody>\n",
       "</table>\n"
      ],
      "text/latex": [
       "\\begin{tabular}{r|ll}\n",
       "  & name & interaction\\\\\n",
       "\\hline\n",
       "\t17241 & GNAI1 (pp) CCL4  & pp              \\\\\n",
       "\t17242 & GNAI1 (pp) GNB1  & pp              \\\\\n",
       "\t17243 & GNAI1 (pp) CCL5  & pp              \\\\\n",
       "\t17244 & GNAI1 (pp) AKT1  & pp              \\\\\n",
       "\t17245 & GNAI1 (pp) PLCB3 & pp              \\\\\n",
       "\t17246 & GNAI1 (pp) CCR3  & pp              \\\\\n",
       "\\end{tabular}\n"
      ],
      "text/markdown": [
       "\n",
       "| <!--/--> | name | interaction |\n",
       "|---|---|---|\n",
       "| 17241 | GNAI1 (pp) CCL4  | pp               |\n",
       "| 17242 | GNAI1 (pp) GNB1  | pp               |\n",
       "| 17243 | GNAI1 (pp) CCL5  | pp               |\n",
       "| 17244 | GNAI1 (pp) AKT1  | pp               |\n",
       "| 17245 | GNAI1 (pp) PLCB3 | pp               |\n",
       "| 17246 | GNAI1 (pp) CCR3  | pp               |\n",
       "\n"
      ],
      "text/plain": [
       "      name             interaction\n",
       "17241 GNAI1 (pp) CCL4  pp         \n",
       "17242 GNAI1 (pp) GNB1  pp         \n",
       "17243 GNAI1 (pp) CCL5  pp         \n",
       "17244 GNAI1 (pp) AKT1  pp         \n",
       "17245 GNAI1 (pp) PLCB3 pp         \n",
       "17246 GNAI1 (pp) CCR3  pp         "
      ]
     },
     "metadata": {},
     "output_type": "display_data"
    }
   ],
   "source": [
    "table_process <- table[table$interaction == \"interacts\",]\n",
    "table_pp <- table[table$interaction == \"pp\",]\n",
    "\n",
    "head(table_process)\n",
    "head(table_pp)"
   ]
  },
  {
   "cell_type": "code",
   "execution_count": 82,
   "metadata": {},
   "outputs": [
    {
     "data": {
      "text/html": [
       "<table>\n",
       "<thead><tr><th scope=col>source</th><th scope=col>target</th></tr></thead>\n",
       "<tbody>\n",
       "\t<tr><td>Allograft_rejection</td><td>IL10               </td></tr>\n",
       "\t<tr><td>Allograft_rejection</td><td>CD86               </td></tr>\n",
       "\t<tr><td>Allograft_rejection</td><td>IL4                </td></tr>\n",
       "\t<tr><td>Allograft_rejection</td><td>CD80               </td></tr>\n",
       "\t<tr><td>Allograft_rejection</td><td>CD28               </td></tr>\n",
       "\t<tr><td>Allograft_rejection</td><td>IL5                </td></tr>\n",
       "</tbody>\n",
       "</table>\n"
      ],
      "text/latex": [
       "\\begin{tabular}{r|ll}\n",
       " source & target\\\\\n",
       "\\hline\n",
       "\t Allograft\\_rejection & IL10                 \\\\\n",
       "\t Allograft\\_rejection & CD86                 \\\\\n",
       "\t Allograft\\_rejection & IL4                  \\\\\n",
       "\t Allograft\\_rejection & CD80                 \\\\\n",
       "\t Allograft\\_rejection & CD28                 \\\\\n",
       "\t Allograft\\_rejection & IL5                  \\\\\n",
       "\\end{tabular}\n"
      ],
      "text/markdown": [
       "\n",
       "| source | target |\n",
       "|---|---|\n",
       "| Allograft_rejection | IL10                |\n",
       "| Allograft_rejection | CD86                |\n",
       "| Allograft_rejection | IL4                 |\n",
       "| Allograft_rejection | CD80                |\n",
       "| Allograft_rejection | CD28                |\n",
       "| Allograft_rejection | IL5                 |\n",
       "\n"
      ],
      "text/plain": [
       "  source              target\n",
       "1 Allograft_rejection IL10  \n",
       "2 Allograft_rejection CD86  \n",
       "3 Allograft_rejection IL4   \n",
       "4 Allograft_rejection CD80  \n",
       "5 Allograft_rejection CD28  \n",
       "6 Allograft_rejection IL5   "
      ]
     },
     "metadata": {},
     "output_type": "display_data"
    }
   ],
   "source": [
    "# clean process table\n",
    "table_process <- table_process[-2]\n",
    "table_process <- as.data.frame(lapply(table_process, gsub, pattern =\"\\\\(\", replacement = ''))\n",
    "table_process <- as.data.frame(lapply(table_process, gsub, pattern =\"\\\\)\", replacement = ''))\n",
    "table_process <- as.data.frame(lapply(table_process, gsub, pattern =\"interacts\", replacement = ''))\n",
    "\n",
    "table_process <- as.data.frame(str_split_fixed(table_process$name, \" \", n = 2))\n",
    "\n",
    "table_process <- as.data.frame(apply(table_process,2,function(x)gsub('\\\\s+', '',x)))\n",
    "colnames(table_process)[c(1,2)] <- c(\"source\", \"target\")\n",
    "                                     \n",
    "head(table_process)\n",
    "                                     \n",
    "# save table\n",
    "write.table(table_process, file.path(getwd(), \"results\", \"cat_gene_table.txt\"), col.names = T, row.names = F, sep = \"\\t\", quote = F)"
   ]
  },
  {
   "cell_type": "code",
   "execution_count": 83,
   "metadata": {},
   "outputs": [
    {
     "data": {
      "text/html": [
       "<table>\n",
       "<thead><tr><th scope=col>source</th><th scope=col>target</th></tr></thead>\n",
       "<tbody>\n",
       "\t<tr><td>GNAI1</td><td>CCL4 </td></tr>\n",
       "\t<tr><td>GNAI1</td><td>GNB1 </td></tr>\n",
       "\t<tr><td>GNAI1</td><td>CCL5 </td></tr>\n",
       "\t<tr><td>GNAI1</td><td>AKT1 </td></tr>\n",
       "\t<tr><td>GNAI1</td><td>PLCB3</td></tr>\n",
       "\t<tr><td>GNAI1</td><td>CCR3 </td></tr>\n",
       "</tbody>\n",
       "</table>\n"
      ],
      "text/latex": [
       "\\begin{tabular}{r|ll}\n",
       " source & target\\\\\n",
       "\\hline\n",
       "\t GNAI1 & CCL4 \\\\\n",
       "\t GNAI1 & GNB1 \\\\\n",
       "\t GNAI1 & CCL5 \\\\\n",
       "\t GNAI1 & AKT1 \\\\\n",
       "\t GNAI1 & PLCB3\\\\\n",
       "\t GNAI1 & CCR3 \\\\\n",
       "\\end{tabular}\n"
      ],
      "text/markdown": [
       "\n",
       "| source | target |\n",
       "|---|---|\n",
       "| GNAI1 | CCL4  |\n",
       "| GNAI1 | GNB1  |\n",
       "| GNAI1 | CCL5  |\n",
       "| GNAI1 | AKT1  |\n",
       "| GNAI1 | PLCB3 |\n",
       "| GNAI1 | CCR3  |\n",
       "\n"
      ],
      "text/plain": [
       "  source target\n",
       "1 GNAI1  CCL4  \n",
       "2 GNAI1  GNB1  \n",
       "3 GNAI1  CCL5  \n",
       "4 GNAI1  AKT1  \n",
       "5 GNAI1  PLCB3 \n",
       "6 GNAI1  CCR3  "
      ]
     },
     "metadata": {},
     "output_type": "display_data"
    }
   ],
   "source": [
    "# clean pp table\n",
    "table_pp <- table_pp[-2]\n",
    "table_pp <- as.data.frame(lapply(table_pp, gsub, pattern =\"\\\\(\", replacement = ''))\n",
    "table_pp <- as.data.frame(lapply(table_pp, gsub, pattern =\"\\\\)\", replacement = ''))\n",
    "table_pp <- as.data.frame(lapply(table_pp, gsub, pattern =\"pp\", replacement = ''))\n",
    "\n",
    "table_pp <- as.data.frame(str_split_fixed(table_pp$name, \" \", n = 2))\n",
    "\n",
    "table_pp <- as.data.frame(apply(table_pp,2,function(x)gsub('\\\\s+', '',x)))\n",
    "colnames(table_pp)[c(1,2)] <- c(\"source\", \"target\")\n",
    "                             \n",
    "head(table_pp)\n",
    "\n",
    "# save table\n",
    "write.table(table_pp, file.path(getwd(), \"results\", \"ppi_table.txt\"), col.names = T, row.names = F, sep = \"\\t\", quote = F)\n"
   ]
  },
  {
   "cell_type": "markdown",
   "metadata": {},
   "source": [
    "Now that we have the edge table split up we can check the shared neighbors between process nodes and added gene nodes. We will use the RNeo4J package for this purpose. "
   ]
  },
  {
   "cell_type": "code",
   "execution_count": 87,
   "metadata": {},
   "outputs": [],
   "source": [
    "# first make conenction with Neo4J. Start Neo4J and open the url in a webbrowser. Create your own username and password\n",
    "graph = startGraph(\"http://localhost:7474/db/data/\", username = \"neo4j\", password = \"123\")"
   ]
  },
  {
   "cell_type": "code",
   "execution_count": 89,
   "metadata": {},
   "outputs": [],
   "source": [
    "# load in both tables and load them in Neo4J\n",
    "data = data.frame(read.table(file.path(getwd(), \"results\", \"cat_gene_table.txt\"), header = T, sep = \"\\t\"))\n",
    "data <- unique(data)\n",
    "\n",
    "query = \"\n",
    "MERGE (source:Category {id:{Category}})\n",
    "MERGE (target:Gene {id:{Gene}})\n",
    "CREATE (source)<-[:pathway]-(target)\n",
    "\"\n",
    "\n",
    "t = newTransaction(graph)\n",
    "\n",
    "for (i in 1:nrow(data)) {\n",
    "  Category = data[i, ]$source\n",
    "  Gene = data[i, ]$target\n",
    "  \n",
    "  appendCypher(t, \n",
    "               query, \n",
    "               Category = Category, \n",
    "               Gene = Gene \n",
    "               )\n",
    "}\n",
    "\n",
    "commit(t)\n",
    "\n",
    "data1 = data.frame(read.table(file.path(getwd(), \"results\", \"ppi_table.txt\"), header = T, sep = \"\\t\"))\n",
    "\n",
    "query = \"\n",
    "MERGE (source:Gene {id:{Gene}})\n",
    "MERGE (target:Gene1 {id:{Gene1}})\n",
    "CREATE (source)<-[:ppi]-(target)\n",
    "\"\n",
    "\n",
    "y = newTransaction(graph)\n",
    "\n",
    "for (i in 1:nrow(data1)) {\n",
    "  Gene = data1[i, ]$source\n",
    "  Gene1 = data1[i, ]$target\n",
    "  \n",
    "  appendCypher(y, \n",
    "               query, \n",
    "               Gene = Gene, \n",
    "               Gene1 = Gene1 \n",
    "  )\n",
    "}\n",
    "\n",
    "commit(y)"
   ]
  },
  {
   "cell_type": "code",
   "execution_count": 124,
   "metadata": {},
   "outputs": [
    {
     "data": {
      "text/html": [
       "<table>\n",
       "<thead><tr><th></th><th scope=col>source_id</th><th scope=col>target_id</th><th scope=col>common_neighbors</th></tr></thead>\n",
       "<tbody>\n",
       "\t<tr><th scope=row>35</th><td>Allograft_rejection</td><td>CD40               </td><td>2                  </td></tr>\n",
       "\t<tr><th scope=row>44</th><td>Allograft_rejection</td><td>FASLG              </td><td>1                  </td></tr>\n",
       "\t<tr><th scope=row>67</th><td>Allograft_rejection</td><td>FOXP3              </td><td>5                  </td></tr>\n",
       "\t<tr><th scope=row>69</th><td>Allograft_rejection</td><td>FCGR3A             </td><td>1                  </td></tr>\n",
       "\t<tr><th scope=row>75</th><td>Allograft_rejection</td><td>ANXA1              </td><td>1                  </td></tr>\n",
       "\t<tr><th scope=row>84</th><td>Allograft_rejection</td><td>POMC               </td><td>1                  </td></tr>\n",
       "</tbody>\n",
       "</table>\n"
      ],
      "text/latex": [
       "\\begin{tabular}{r|lll}\n",
       "  & source\\_id & target\\_id & common\\_neighbors\\\\\n",
       "\\hline\n",
       "\t35 & Allograft\\_rejection & CD40                  & 2                    \\\\\n",
       "\t44 & Allograft\\_rejection & FASLG                 & 1                    \\\\\n",
       "\t67 & Allograft\\_rejection & FOXP3                 & 5                    \\\\\n",
       "\t69 & Allograft\\_rejection & FCGR3A                & 1                    \\\\\n",
       "\t75 & Allograft\\_rejection & ANXA1                 & 1                    \\\\\n",
       "\t84 & Allograft\\_rejection & POMC                  & 1                    \\\\\n",
       "\\end{tabular}\n"
      ],
      "text/markdown": [
       "\n",
       "| <!--/--> | source_id | target_id | common_neighbors |\n",
       "|---|---|---|---|\n",
       "| 35 | Allograft_rejection | CD40                | 2                   |\n",
       "| 44 | Allograft_rejection | FASLG               | 1                   |\n",
       "| 67 | Allograft_rejection | FOXP3               | 5                   |\n",
       "| 69 | Allograft_rejection | FCGR3A              | 1                   |\n",
       "| 75 | Allograft_rejection | ANXA1               | 1                   |\n",
       "| 84 | Allograft_rejection | POMC                | 1                   |\n",
       "\n"
      ],
      "text/plain": [
       "   source_id           target_id common_neighbors\n",
       "35 Allograft_rejection CD40      2               \n",
       "44 Allograft_rejection FASLG     1               \n",
       "67 Allograft_rejection FOXP3     5               \n",
       "69 Allograft_rejection FCGR3A    1               \n",
       "75 Allograft_rejection ANXA1     1               \n",
       "84 Allograft_rejection POMC      1               "
      ]
     },
     "metadata": {},
     "output_type": "display_data"
    },
    {
     "data": {
      "text/html": [
       "<ol class=list-inline>\n",
       "\t<li>222</li>\n",
       "\t<li>3</li>\n",
       "</ol>\n"
      ],
      "text/latex": [
       "\\begin{enumerate*}\n",
       "\\item 222\n",
       "\\item 3\n",
       "\\end{enumerate*}\n"
      ],
      "text/markdown": [
       "1. 222\n",
       "2. 3\n",
       "\n",
       "\n"
      ],
      "text/plain": [
       "[1] 222   3"
      ]
     },
     "metadata": {},
     "output_type": "display_data"
    }
   ],
   "source": [
    "# perform Neo4J query\n",
    "shared_neighbors <- cypher(graph, \"MATCH(source:Category)-[:pathway]-(neighbor:Gene)-[:ppi]-(target:Gene1)\n",
    "WHERE NOT (source) = (target)\n",
    "RETURN DISTINCT source.id AS source_id, target.id AS target_id, count(neighbor) AS common_neighbors\")\n",
    "\n",
    "# only extract the 55 added genes via STRING\n",
    "genes55 <- read.table(file.path(getwd(), \"55genes\", \"55_genes.txt\"), header = T, sep = \"\\t\")\n",
    "\n",
    "colnames(genes55)[1] <- \"gene\"\n",
    "\n",
    "# retrieve rows if one of the 55 genes is in that row\n",
    "shared_neighbors55 <- shared_neighbors[shared_neighbors$target_id %in% genes55$gene,]\n",
    "\n",
    "head(shared_neighbors55)\n",
    "dim(shared_neighbors55)"
   ]
  },
  {
   "cell_type": "code",
   "execution_count": 114,
   "metadata": {},
   "outputs": [],
   "source": [
    "# save shared neighbors table\n",
    "write.table(shared_neighbors, file.path(getwd(), \"results\", \"shared_neighbors.txt\"), row.names = F, sep = \"\\t\", quote = F)\n",
    "write.table(shared_neighbors55, file.path(getwd(), \"results\", \"shared_neighbors55.txt\"), row.names = F, sep = \"\\t\", quote = F)"
   ]
  },
  {
   "cell_type": "markdown",
   "metadata": {},
   "source": [
    "With these shared neighbors we can decide if we would like to include genes. We opt to include genes with at least 4 shared neighbors to a process node. "
   ]
  },
  {
   "cell_type": "code",
   "execution_count": 125,
   "metadata": {},
   "outputs": [
    {
     "data": {
      "text/html": [
       "<table>\n",
       "<thead><tr><th></th><th scope=col>source_id</th><th scope=col>target_id</th><th scope=col>common_neighbors</th></tr></thead>\n",
       "<tbody>\n",
       "\t<tr><th scope=row>67</th><td>Allograft_rejection</td><td>FOXP3              </td><td>5                  </td></tr>\n",
       "\t<tr><th scope=row>131</th><td>Cytokines          </td><td>CTNNB1             </td><td>6                  </td></tr>\n",
       "\t<tr><th scope=row>171</th><td>Cytokines          </td><td>CD40               </td><td>4                  </td></tr>\n",
       "\t<tr><th scope=row>181</th><td>Cytokines          </td><td>NGF                </td><td>9                  </td></tr>\n",
       "\t<tr><th scope=row>194</th><td>Cytokines          </td><td>PPARA              </td><td>9                  </td></tr>\n",
       "\t<tr><th scope=row>201</th><td>Cytokines          </td><td>POMC               </td><td>4                  </td></tr>\n",
       "</tbody>\n",
       "</table>\n"
      ],
      "text/latex": [
       "\\begin{tabular}{r|lll}\n",
       "  & source\\_id & target\\_id & common\\_neighbors\\\\\n",
       "\\hline\n",
       "\t67 & Allograft\\_rejection & FOXP3                 & 5                    \\\\\n",
       "\t131 & Cytokines           & CTNNB1              & 6                  \\\\\n",
       "\t171 & Cytokines           & CD40                & 4                  \\\\\n",
       "\t181 & Cytokines           & NGF                 & 9                  \\\\\n",
       "\t194 & Cytokines           & PPARA               & 9                  \\\\\n",
       "\t201 & Cytokines           & POMC                & 4                  \\\\\n",
       "\\end{tabular}\n"
      ],
      "text/markdown": [
       "\n",
       "| <!--/--> | source_id | target_id | common_neighbors |\n",
       "|---|---|---|---|\n",
       "| 67 | Allograft_rejection | FOXP3               | 5                   |\n",
       "| 131 | Cytokines           | CTNNB1              | 6                   |\n",
       "| 171 | Cytokines           | CD40                | 4                   |\n",
       "| 181 | Cytokines           | NGF                 | 9                   |\n",
       "| 194 | Cytokines           | PPARA               | 9                   |\n",
       "| 201 | Cytokines           | POMC                | 4                   |\n",
       "\n"
      ],
      "text/plain": [
       "    source_id           target_id common_neighbors\n",
       "67  Allograft_rejection FOXP3     5               \n",
       "131 Cytokines           CTNNB1    6               \n",
       "171 Cytokines           CD40      4               \n",
       "181 Cytokines           NGF       9               \n",
       "194 Cytokines           PPARA     9               \n",
       "201 Cytokines           POMC      4               "
      ]
     },
     "metadata": {},
     "output_type": "display_data"
    },
    {
     "data": {
      "text/html": [
       "<ol class=list-inline>\n",
       "\t<li>56</li>\n",
       "\t<li>3</li>\n",
       "</ol>\n"
      ],
      "text/latex": [
       "\\begin{enumerate*}\n",
       "\\item 56\n",
       "\\item 3\n",
       "\\end{enumerate*}\n"
      ],
      "text/markdown": [
       "1. 56\n",
       "2. 3\n",
       "\n",
       "\n"
      ],
      "text/plain": [
       "[1] 56  3"
      ]
     },
     "metadata": {},
     "output_type": "display_data"
    }
   ],
   "source": [
    "# at least 4 of more shared neighbors\n",
    "shared_neighbors55 <- shared_neighbors55[shared_neighbors55$common_neighbors >= 4,]\n",
    "head(shared_neighbors55)\n",
    "dim(shared_neighbors55)"
   ]
  },
  {
   "cell_type": "code",
   "execution_count": 147,
   "metadata": {},
   "outputs": [
    {
     "data": {
      "text/html": [
       "<table>\n",
       "<thead><tr><th></th><th scope=col>source</th><th scope=col>target</th></tr></thead>\n",
       "<tbody>\n",
       "\t<tr><th scope=row>67</th><td>Allograft_rejection</td><td>FOXP3              </td></tr>\n",
       "\t<tr><th scope=row>131</th><td>Cytokines          </td><td>CTNNB1             </td></tr>\n",
       "\t<tr><th scope=row>171</th><td>Cytokines          </td><td>CD40               </td></tr>\n",
       "\t<tr><th scope=row>181</th><td>Cytokines          </td><td>NGF                </td></tr>\n",
       "\t<tr><th scope=row>194</th><td>Cytokines          </td><td>PPARA              </td></tr>\n",
       "\t<tr><th scope=row>201</th><td>Cytokines          </td><td>POMC               </td></tr>\n",
       "</tbody>\n",
       "</table>\n"
      ],
      "text/latex": [
       "\\begin{tabular}{r|ll}\n",
       "  & source & target\\\\\n",
       "\\hline\n",
       "\t67 & Allograft\\_rejection & FOXP3                \\\\\n",
       "\t131 & Cytokines           & CTNNB1             \\\\\n",
       "\t171 & Cytokines           & CD40               \\\\\n",
       "\t181 & Cytokines           & NGF                \\\\\n",
       "\t194 & Cytokines           & PPARA              \\\\\n",
       "\t201 & Cytokines           & POMC               \\\\\n",
       "\\end{tabular}\n"
      ],
      "text/markdown": [
       "\n",
       "| <!--/--> | source | target |\n",
       "|---|---|---|\n",
       "| 67 | Allograft_rejection | FOXP3               |\n",
       "| 131 | Cytokines           | CTNNB1              |\n",
       "| 171 | Cytokines           | CD40                |\n",
       "| 181 | Cytokines           | NGF                 |\n",
       "| 194 | Cytokines           | PPARA               |\n",
       "| 201 | Cytokines           | POMC                |\n",
       "\n"
      ],
      "text/plain": [
       "    source              target\n",
       "67  Allograft_rejection FOXP3 \n",
       "131 Cytokines           CTNNB1\n",
       "171 Cytokines           CD40  \n",
       "181 Cytokines           NGF   \n",
       "194 Cytokines           PPARA \n",
       "201 Cytokines           POMC  "
      ]
     },
     "metadata": {},
     "output_type": "display_data"
    },
    {
     "data": {
      "text/html": [
       "<ol class=list-inline>\n",
       "\t<li>713</li>\n",
       "\t<li>2</li>\n",
       "</ol>\n"
      ],
      "text/latex": [
       "\\begin{enumerate*}\n",
       "\\item 713\n",
       "\\item 2\n",
       "\\end{enumerate*}\n"
      ],
      "text/markdown": [
       "1. 713\n",
       "2. 2\n",
       "\n",
       "\n"
      ],
      "text/plain": [
       "[1] 713   2"
      ]
     },
     "metadata": {},
     "output_type": "display_data"
    },
    {
     "data": {
      "text/html": [
       "<table>\n",
       "<thead><tr><th></th><th scope=col>id</th></tr></thead>\n",
       "<tbody>\n",
       "\t<tr><th scope=row>1</th><td>Allograft_rejection   </td></tr>\n",
       "\t<tr><th scope=row>2</th><td>Cytokines             </td></tr>\n",
       "\t<tr><th scope=row>16</th><td>Diseases              </td></tr>\n",
       "\t<tr><th scope=row>20</th><td>Immune_cell_regulation</td></tr>\n",
       "\t<tr><th scope=row>28</th><td>Inflammation          </td></tr>\n",
       "\t<tr><th scope=row>38</th><td>NFkB                  </td></tr>\n",
       "</tbody>\n",
       "</table>\n"
      ],
      "text/latex": [
       "\\begin{tabular}{r|l}\n",
       "  & id\\\\\n",
       "\\hline\n",
       "\t1 & Allograft\\_rejection   \\\\\n",
       "\t2 & Cytokines             \\\\\n",
       "\t16 & Diseases              \\\\\n",
       "\t20 & Immune\\_cell\\_regulation\\\\\n",
       "\t28 & Inflammation          \\\\\n",
       "\t38 & NFkB                  \\\\\n",
       "\\end{tabular}\n"
      ],
      "text/markdown": [
       "\n",
       "| <!--/--> | id |\n",
       "|---|---|\n",
       "| 1 | Allograft_rejection    |\n",
       "| 2 | Cytokines              |\n",
       "| 16 | Diseases               |\n",
       "| 20 | Immune_cell_regulation |\n",
       "| 28 | Inflammation           |\n",
       "| 38 | NFkB                   |\n",
       "\n"
      ],
      "text/plain": [
       "   id                    \n",
       "1  Allograft_rejection   \n",
       "2  Cytokines             \n",
       "16 Diseases              \n",
       "20 Immune_cell_regulation\n",
       "28 Inflammation          \n",
       "38 NFkB                  "
      ]
     },
     "metadata": {},
     "output_type": "display_data"
    }
   ],
   "source": [
    "# add these to the edge table and node table\n",
    "# edge table\n",
    "colnames(shared_neighbors55)[c(1,2)] <- c(\"source\", \"target\") \n",
    "shared_neighbors55 <- shared_neighbors55[-3]\n",
    "edges1 <- edges[-3]\n",
    "edge_table <- rbind(shared_neighbors55, edges1)\n",
    "\n",
    "head(edge_table)\n",
    "dim(edge_table)\n",
    "\n",
    "# save edge table\n",
    "write.table(edge_table, file.path(getwd(), \"results\", \"edges.txt\"), row.names = F, sep = \"\\t\", quote = F)"
   ]
  },
  {
   "cell_type": "code",
   "execution_count": 149,
   "metadata": {},
   "outputs": [
    {
     "data": {
      "text/html": [
       "<table>\n",
       "<thead><tr><th></th><th scope=col>id</th><th scope=col>type</th></tr></thead>\n",
       "<tbody>\n",
       "\t<tr><th scope=row>1</th><td>Allograft_rejection   </td><td>Process               </td></tr>\n",
       "\t<tr><th scope=row>2</th><td>Cytokines             </td><td>Process               </td></tr>\n",
       "\t<tr><th scope=row>16</th><td>Diseases              </td><td>Process               </td></tr>\n",
       "\t<tr><th scope=row>20</th><td>Immune_cell_regulation</td><td>Process               </td></tr>\n",
       "\t<tr><th scope=row>28</th><td>Inflammation          </td><td>Process               </td></tr>\n",
       "\t<tr><th scope=row>38</th><td>NFkB                  </td><td>Process               </td></tr>\n",
       "</tbody>\n",
       "</table>\n"
      ],
      "text/latex": [
       "\\begin{tabular}{r|ll}\n",
       "  & id & type\\\\\n",
       "\\hline\n",
       "\t1 & Allograft\\_rejection    & Process                 \\\\\n",
       "\t2 & Cytokines              & Process               \\\\\n",
       "\t16 & Diseases               & Process               \\\\\n",
       "\t20 & Immune\\_cell\\_regulation & Process                   \\\\\n",
       "\t28 & Inflammation           & Process               \\\\\n",
       "\t38 & NFkB                   & Process               \\\\\n",
       "\\end{tabular}\n"
      ],
      "text/markdown": [
       "\n",
       "| <!--/--> | id | type |\n",
       "|---|---|---|\n",
       "| 1 | Allograft_rejection    | Process                |\n",
       "| 2 | Cytokines              | Process                |\n",
       "| 16 | Diseases               | Process                |\n",
       "| 20 | Immune_cell_regulation | Process                |\n",
       "| 28 | Inflammation           | Process                |\n",
       "| 38 | NFkB                   | Process                |\n",
       "\n"
      ],
      "text/plain": [
       "   id                     type   \n",
       "1  Allograft_rejection    Process\n",
       "2  Cytokines              Process\n",
       "16 Diseases               Process\n",
       "20 Immune_cell_regulation Process\n",
       "28 Inflammation           Process\n",
       "38 NFkB                   Process"
      ]
     },
     "metadata": {},
     "output_type": "display_data"
    }
   ],
   "source": [
    "# node table\n",
    "source <- as.data.frame(edge_table[,\"source\"])\n",
    "target <- as.data.frame(edge_table[,\"target\"])\n",
    "\n",
    "colnames(source)[1] <- \"id\"\n",
    "colnames(target)[1] <- \"id\"\n",
    "\n",
    "node_table <- rbind(source, target)\n",
    "node_table <- unique(node_table)\n",
    "\n",
    "# add node typing to table\n",
    "node_table$type <- \"Gene\"\n",
    "\n",
    "node_table$type[node_table$id == \"Diseases\"] <- \"Process\"\n",
    "node_table$type[node_table$id == \"WP_OVERVIEW_OF_NANOPARTICLE_EFFECTS\"] <- \"Process\"\n",
    "node_table$type[node_table$id == \"Immune_cell_regulation\"] <- \"Process\"\n",
    "node_table$type[node_table$id == \"NFkB\"] <- \"Process\"\n",
    "node_table$type[node_table$id == \"Allograft_rejection\"] <- \"Process\"\n",
    "node_table$type[node_table$id == \"Vitamin_B12\"] <- \"Process\"\n",
    "node_table$type[node_table$id == \"WP_FIBRIN_COMPLEMENT_RECEPTOR_3_SIGNALING_PATHWAY\"] <- \"Process\"\n",
    "node_table$type[node_table$id == \"WP_DEVELOPMENT_AND_HETEROGENEITY_OF_THE_ILC_FAMILY\"] <- \"Process\"\n",
    "node_table$type[node_table$id == \"Inflammation\"] <- \"Process\"\n",
    "node_table$type[node_table$id == \"Cytokines\"] <- \"Process\"\n",
    "\n",
    "# type genes associated with inflammation\n",
    "node_table$type[node_table$id %in% inflGenes$hgnc_symbol] <- \"InflGene\"\n",
    "\n",
    "head(node_table)\n",
    "\n",
    "# save node_table\n",
    "write.table(node_table, file.path(getwd(), \"results\", \"nodes.txt\"), row.names = F, sep = \"\\t\", quote = F)"
   ]
  },
  {
   "cell_type": "markdown",
   "metadata": {},
   "source": [
    "We can use these files to create the network and integrate the gene expression data into this network for analysis."
   ]
  }
 ],
 "metadata": {
  "kernelspec": {
   "display_name": "R",
   "language": "R",
   "name": "ir"
  },
  "language_info": {
   "codemirror_mode": "r",
   "file_extension": ".r",
   "mimetype": "text/x-r-source",
   "name": "R",
   "pygments_lexer": "r",
   "version": "3.5.1"
  }
 },
 "nbformat": 4,
 "nbformat_minor": 2
}
