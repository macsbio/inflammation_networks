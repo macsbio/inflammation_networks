{
 "cells": [
  {
   "cell_type": "markdown",
   "metadata": {},
   "source": [
    "# Network extension\n",
    "\n",
    "In this notebook we will extend the network with genes that were excluded based on the set criteria for the selection of pathways. These gene were in pathways from all three databases, however not in a pathway that was selected for the creation of the network. Via the STRING app in Cytoscape we will try to add these genes to the network using ppi interactions."
   ]
  },
  {
   "cell_type": "code",
   "execution_count": 1,
   "metadata": {},
   "outputs": [
    {
     "data": {
      "text/html": [
       "'C:/Users/Laurent/Documents/GitHub/inflammation_networks2/Jupyter - Pathway extension (Neo4J)'"
      ],
      "text/latex": [
       "'C:/Users/Laurent/Documents/GitHub/inflammation\\_networks2/Jupyter - Pathway extension (Neo4J)'"
      ],
      "text/markdown": [
       "'C:/Users/Laurent/Documents/GitHub/inflammation_networks2/Jupyter - Pathway extension (Neo4J)'"
      ],
      "text/plain": [
       "[1] \"C:/Users/Laurent/Documents/GitHub/inflammation_networks2/Jupyter - Pathway extension (Neo4J)\""
      ]
     },
     "metadata": {},
     "output_type": "display_data"
    }
   ],
   "source": [
    "# check working directory\n",
    "getwd()"
   ]
  },
  {
   "cell_type": "code",
   "execution_count": 2,
   "metadata": {},
   "outputs": [
    {
     "name": "stderr",
     "output_type": "stream",
     "text": [
      "Warning message:\n",
      "\"changing locked binding for 'length.path' in 'httr' whilst loading 'RNeo4j'\""
     ]
    }
   ],
   "source": [
    "# load libraries\n",
    "library(RCy3)\n",
    "library(RNeo4j)\n",
    "library(stringr)"
   ]
  },
  {
   "cell_type": "markdown",
   "metadata": {},
   "source": [
    "Open Cytoscape on your computer and install the STRING app."
   ]
  },
  {
   "cell_type": "code",
   "execution_count": 3,
   "metadata": {},
   "outputs": [
    {
     "data": {
      "text/html": [
       "'You are connected to Cytoscape!'"
      ],
      "text/latex": [
       "'You are connected to Cytoscape!'"
      ],
      "text/markdown": [
       "'You are connected to Cytoscape!'"
      ],
      "text/plain": [
       "[1] \"You are connected to Cytoscape!\""
      ]
     },
     "metadata": {},
     "output_type": "display_data"
    },
    {
     "data": {
      "text/html": [
       "<dl class=dl-horizontal>\n",
       "\t<dt>apiVersion</dt>\n",
       "\t\t<dd>'v1'</dd>\n",
       "\t<dt>cytoscapeVersion</dt>\n",
       "\t\t<dd>'3.7.0'</dd>\n",
       "</dl>\n"
      ],
      "text/latex": [
       "\\begin{description*}\n",
       "\\item[apiVersion] 'v1'\n",
       "\\item[cytoscapeVersion] '3.7.0'\n",
       "\\end{description*}\n"
      ],
      "text/markdown": [
       "apiVersion\n",
       ":   'v1'cytoscapeVersion\n",
       ":   '3.7.0'\n",
       "\n"
      ],
      "text/plain": [
       "      apiVersion cytoscapeVersion \n",
       "            \"v1\"          \"3.7.0\" "
      ]
     },
     "metadata": {},
     "output_type": "display_data"
    },
    {
     "data": {
      "text/html": [
       "'App STRINGapp installed'"
      ],
      "text/latex": [
       "'App STRINGapp installed'"
      ],
      "text/markdown": [
       "'App STRINGapp installed'"
      ],
      "text/plain": [
       "[1] \"App STRINGapp installed\""
      ]
     },
     "metadata": {},
     "output_type": "display_data"
    },
    {
     "name": "stdout",
     "output_type": "stream",
     "text": [
      "[1] \"Available namespaces:\"\n",
      "[1] \"Success: the STRING app is installed\"\n"
     ]
    }
   ],
   "source": [
    "# check if Cytoscape is connected\n",
    "cytoscapePing()\n",
    "cytoscapeVersionInfo()\n",
    "\n",
    "# install STRING app\n",
    "installApp('STRINGapp') \n",
    "if(\"string\" %in% commandsHelp(\"\")) print(\"Success: the STRING app is installed\") else print(\"Warning: STRING app is not installed. Please install the STRING app before proceeding.\")"
   ]
  },
  {
   "cell_type": "markdown",
   "metadata": {},
   "source": [
    "To begin with we will create the network and a ppi network using the STRING app in Cytoscape."
   ]
  },
  {
   "cell_type": "code",
   "execution_count": 4,
   "metadata": {},
   "outputs": [
    {
     "data": {
      "text/html": [
       "<table>\n",
       "<thead><tr><th scope=col>key</th><th scope=col>type</th></tr></thead>\n",
       "<tbody>\n",
       "\t<tr><td>Allograft_rejection                                                                      </td><td>Process                                                                                  </td></tr>\n",
       "\t<tr><td>Cytokines                                                                                </td><td>Process                                                                                  </td></tr>\n",
       "\t<tr><td>Development and heterogeneity of the ILC family%WikiPathways_20181110%WP3893%Homo sapiens</td><td>Process                                                                                  </td></tr>\n",
       "\t<tr><td>Diseases                                                                                 </td><td>Process                                                                                  </td></tr>\n",
       "\t<tr><td>Fibrin Complement Receptor 3 Signaling Pathway%WikiPathways_20181110%WP4136%Homo sapiens </td><td>Process                                                                                  </td></tr>\n",
       "\t<tr><td>Immune_cell_regulation                                                                   </td><td>Process                                                                                  </td></tr>\n",
       "</tbody>\n",
       "</table>\n"
      ],
      "text/latex": [
       "\\begin{tabular}{r|ll}\n",
       " key & type\\\\\n",
       "\\hline\n",
       "\t Allograft\\_rejection                                                                       & Process                                                                                    \\\\\n",
       "\t Cytokines                                                                                 & Process                                                                                  \\\\\n",
       "\t Development and heterogeneity of the ILC family\\%WikiPathways\\_20181110\\%WP3893\\%Homo sapiens & Process                                                                                          \\\\\n",
       "\t Diseases                                                                                  & Process                                                                                  \\\\\n",
       "\t Fibrin Complement Receptor 3 Signaling Pathway\\%WikiPathways\\_20181110\\%WP4136\\%Homo sapiens  & Process                                                                                          \\\\\n",
       "\t Immune\\_cell\\_regulation                                                                    & Process                                                                                      \\\\\n",
       "\\end{tabular}\n"
      ],
      "text/markdown": [
       "\n",
       "| key | type |\n",
       "|---|---|\n",
       "| Allograft_rejection                                                                       | Process                                                                                   |\n",
       "| Cytokines                                                                                 | Process                                                                                   |\n",
       "| Development and heterogeneity of the ILC family%WikiPathways_20181110%WP3893%Homo sapiens | Process                                                                                   |\n",
       "| Diseases                                                                                  | Process                                                                                   |\n",
       "| Fibrin Complement Receptor 3 Signaling Pathway%WikiPathways_20181110%WP4136%Homo sapiens  | Process                                                                                   |\n",
       "| Immune_cell_regulation                                                                    | Process                                                                                   |\n",
       "\n"
      ],
      "text/plain": [
       "  key                                                                                      \n",
       "1 Allograft_rejection                                                                      \n",
       "2 Cytokines                                                                                \n",
       "3 Development and heterogeneity of the ILC family%WikiPathways_20181110%WP3893%Homo sapiens\n",
       "4 Diseases                                                                                 \n",
       "5 Fibrin Complement Receptor 3 Signaling Pathway%WikiPathways_20181110%WP4136%Homo sapiens \n",
       "6 Immune_cell_regulation                                                                   \n",
       "  type   \n",
       "1 Process\n",
       "2 Process\n",
       "3 Process\n",
       "4 Process\n",
       "5 Process\n",
       "6 Process"
      ]
     },
     "metadata": {},
     "output_type": "display_data"
    },
    {
     "data": {
      "text/html": [
       "<table>\n",
       "<thead><tr><th scope=col>source</th><th scope=col>target</th></tr></thead>\n",
       "<tbody>\n",
       "\t<tr><td>NFkB </td><td>TRIP6</td></tr>\n",
       "\t<tr><td>NFkB </td><td>CASP8</td></tr>\n",
       "\t<tr><td>NFkB </td><td>CHUK </td></tr>\n",
       "\t<tr><td>NFkB </td><td>TAB3 </td></tr>\n",
       "\t<tr><td>NFkB </td><td>CXCL1</td></tr>\n",
       "\t<tr><td>NFkB </td><td>RIPK2</td></tr>\n",
       "</tbody>\n",
       "</table>\n"
      ],
      "text/latex": [
       "\\begin{tabular}{r|ll}\n",
       " source & target\\\\\n",
       "\\hline\n",
       "\t NFkB  & TRIP6\\\\\n",
       "\t NFkB  & CASP8\\\\\n",
       "\t NFkB  & CHUK \\\\\n",
       "\t NFkB  & TAB3 \\\\\n",
       "\t NFkB  & CXCL1\\\\\n",
       "\t NFkB  & RIPK2\\\\\n",
       "\\end{tabular}\n"
      ],
      "text/markdown": [
       "\n",
       "| source | target |\n",
       "|---|---|\n",
       "| NFkB  | TRIP6 |\n",
       "| NFkB  | CASP8 |\n",
       "| NFkB  | CHUK  |\n",
       "| NFkB  | TAB3  |\n",
       "| NFkB  | CXCL1 |\n",
       "| NFkB  | RIPK2 |\n",
       "\n"
      ],
      "text/plain": [
       "  source target\n",
       "1 NFkB   TRIP6 \n",
       "2 NFkB   CASP8 \n",
       "3 NFkB   CHUK  \n",
       "4 NFkB   TAB3  \n",
       "5 NFkB   CXCL1 \n",
       "6 NFkB   RIPK2 "
      ]
     },
     "metadata": {},
     "output_type": "display_data"
    },
    {
     "data": {
      "text/html": [
       "<table>\n",
       "<thead><tr><th scope=col>hgnc_symbol</th><th scope=col>entrezgene</th><th scope=col>dis_score</th><th scope=col>GC_score</th><th scope=col>Type</th></tr></thead>\n",
       "<tbody>\n",
       "\t<tr><td>IL22    </td><td>50616   </td><td>0.01    </td><td>10.08   </td><td>InflGene</td></tr>\n",
       "\t<tr><td>CCR7    </td><td> 1236   </td><td>0.01    </td><td>10.12   </td><td>InflGene</td></tr>\n",
       "\t<tr><td>CAT     </td><td>  847   </td><td>0.01    </td><td>10.21   </td><td>InflGene</td></tr>\n",
       "\t<tr><td>SOD1    </td><td> 6647   </td><td>0.33    </td><td>10.35   </td><td>InflGene</td></tr>\n",
       "\t<tr><td>PLAT    </td><td> 5327   </td><td>0.01    </td><td>10.36   </td><td>InflGene</td></tr>\n",
       "\t<tr><td>AQP4    </td><td>  361   </td><td>0.01    </td><td>10.38   </td><td>InflGene</td></tr>\n",
       "</tbody>\n",
       "</table>\n"
      ],
      "text/latex": [
       "\\begin{tabular}{r|lllll}\n",
       " hgnc\\_symbol & entrezgene & dis\\_score & GC\\_score & Type\\\\\n",
       "\\hline\n",
       "\t IL22     & 50616    & 0.01     & 10.08    & InflGene\\\\\n",
       "\t CCR7     &  1236    & 0.01     & 10.12    & InflGene\\\\\n",
       "\t CAT      &   847    & 0.01     & 10.21    & InflGene\\\\\n",
       "\t SOD1     &  6647    & 0.33     & 10.35    & InflGene\\\\\n",
       "\t PLAT     &  5327    & 0.01     & 10.36    & InflGene\\\\\n",
       "\t AQP4     &   361    & 0.01     & 10.38    & InflGene\\\\\n",
       "\\end{tabular}\n"
      ],
      "text/markdown": [
       "\n",
       "| hgnc_symbol | entrezgene | dis_score | GC_score | Type |\n",
       "|---|---|---|---|---|\n",
       "| IL22     | 50616    | 0.01     | 10.08    | InflGene |\n",
       "| CCR7     |  1236    | 0.01     | 10.12    | InflGene |\n",
       "| CAT      |   847    | 0.01     | 10.21    | InflGene |\n",
       "| SOD1     |  6647    | 0.33     | 10.35    | InflGene |\n",
       "| PLAT     |  5327    | 0.01     | 10.36    | InflGene |\n",
       "| AQP4     |   361    | 0.01     | 10.38    | InflGene |\n",
       "\n"
      ],
      "text/plain": [
       "  hgnc_symbol entrezgene dis_score GC_score Type    \n",
       "1 IL22        50616      0.01      10.08    InflGene\n",
       "2 CCR7         1236      0.01      10.12    InflGene\n",
       "3 CAT           847      0.01      10.21    InflGene\n",
       "4 SOD1         6647      0.33      10.35    InflGene\n",
       "5 PLAT         5327      0.01      10.36    InflGene\n",
       "6 AQP4          361      0.01      10.38    InflGene"
      ]
     },
     "metadata": {},
     "output_type": "display_data"
    }
   ],
   "source": [
    "# load in network and data files\n",
    "nodes <- read.table(file.path(getwd(), \"network\", \"nodes.txt\"), header = T, sep = \"\\t\")\n",
    "edges <- read.table(file.path(getwd(), \"network\", \"edges.txt\"), header = T, sep = \"\\t\")\n",
    "inflGenes <- read.table(file.path(getwd(), \"inflGenes\", \"merged_infl_genes.txt\"), header = T, sep = \"\\t\")\n",
    "\n",
    "head(nodes)\n",
    "head(edges)\n",
    "head(inflGenes)"
   ]
  },
  {
   "cell_type": "code",
   "execution_count": 5,
   "metadata": {},
   "outputs": [
    {
     "data": {
      "text/html": [
       "<table>\n",
       "<thead><tr><th scope=col>id</th><th scope=col>type</th></tr></thead>\n",
       "<tbody>\n",
       "\t<tr><td>Allograft_rejection                                                                      </td><td>Process                                                                                  </td></tr>\n",
       "\t<tr><td>Cytokines                                                                                </td><td>Process                                                                                  </td></tr>\n",
       "\t<tr><td>Development and heterogeneity of the ILC family%WikiPathways_20181110%WP3893%Homo sapiens</td><td>Process                                                                                  </td></tr>\n",
       "\t<tr><td>Diseases                                                                                 </td><td>Process                                                                                  </td></tr>\n",
       "\t<tr><td>Fibrin Complement Receptor 3 Signaling Pathway%WikiPathways_20181110%WP4136%Homo sapiens </td><td>Process                                                                                  </td></tr>\n",
       "\t<tr><td>Immune_cell_regulation                                                                   </td><td>Process                                                                                  </td></tr>\n",
       "</tbody>\n",
       "</table>\n"
      ],
      "text/latex": [
       "\\begin{tabular}{r|ll}\n",
       " id & type\\\\\n",
       "\\hline\n",
       "\t Allograft\\_rejection                                                                       & Process                                                                                    \\\\\n",
       "\t Cytokines                                                                                 & Process                                                                                  \\\\\n",
       "\t Development and heterogeneity of the ILC family\\%WikiPathways\\_20181110\\%WP3893\\%Homo sapiens & Process                                                                                          \\\\\n",
       "\t Diseases                                                                                  & Process                                                                                  \\\\\n",
       "\t Fibrin Complement Receptor 3 Signaling Pathway\\%WikiPathways\\_20181110\\%WP4136\\%Homo sapiens  & Process                                                                                          \\\\\n",
       "\t Immune\\_cell\\_regulation                                                                    & Process                                                                                      \\\\\n",
       "\\end{tabular}\n"
      ],
      "text/markdown": [
       "\n",
       "| id | type |\n",
       "|---|---|\n",
       "| Allograft_rejection                                                                       | Process                                                                                   |\n",
       "| Cytokines                                                                                 | Process                                                                                   |\n",
       "| Development and heterogeneity of the ILC family%WikiPathways_20181110%WP3893%Homo sapiens | Process                                                                                   |\n",
       "| Diseases                                                                                  | Process                                                                                   |\n",
       "| Fibrin Complement Receptor 3 Signaling Pathway%WikiPathways_20181110%WP4136%Homo sapiens  | Process                                                                                   |\n",
       "| Immune_cell_regulation                                                                    | Process                                                                                   |\n",
       "\n"
      ],
      "text/plain": [
       "  id                                                                                       \n",
       "1 Allograft_rejection                                                                      \n",
       "2 Cytokines                                                                                \n",
       "3 Development and heterogeneity of the ILC family%WikiPathways_20181110%WP3893%Homo sapiens\n",
       "4 Diseases                                                                                 \n",
       "5 Fibrin Complement Receptor 3 Signaling Pathway%WikiPathways_20181110%WP4136%Homo sapiens \n",
       "6 Immune_cell_regulation                                                                   \n",
       "  type   \n",
       "1 Process\n",
       "2 Process\n",
       "3 Process\n",
       "4 Process\n",
       "5 Process\n",
       "6 Process"
      ]
     },
     "metadata": {},
     "output_type": "display_data"
    },
    {
     "data": {
      "text/html": [
       "<table>\n",
       "<thead><tr><th scope=col>source</th><th scope=col>target</th><th scope=col>interaction</th></tr></thead>\n",
       "<tbody>\n",
       "\t<tr><td>NFkB     </td><td>TRIP6    </td><td>interacts</td></tr>\n",
       "\t<tr><td>NFkB     </td><td>CASP8    </td><td>interacts</td></tr>\n",
       "\t<tr><td>NFkB     </td><td>CHUK     </td><td>interacts</td></tr>\n",
       "\t<tr><td>NFkB     </td><td>TAB3     </td><td>interacts</td></tr>\n",
       "\t<tr><td>NFkB     </td><td>CXCL1    </td><td>interacts</td></tr>\n",
       "\t<tr><td>NFkB     </td><td>RIPK2    </td><td>interacts</td></tr>\n",
       "</tbody>\n",
       "</table>\n"
      ],
      "text/latex": [
       "\\begin{tabular}{r|lll}\n",
       " source & target & interaction\\\\\n",
       "\\hline\n",
       "\t NFkB      & TRIP6     & interacts\\\\\n",
       "\t NFkB      & CASP8     & interacts\\\\\n",
       "\t NFkB      & CHUK      & interacts\\\\\n",
       "\t NFkB      & TAB3      & interacts\\\\\n",
       "\t NFkB      & CXCL1     & interacts\\\\\n",
       "\t NFkB      & RIPK2     & interacts\\\\\n",
       "\\end{tabular}\n"
      ],
      "text/markdown": [
       "\n",
       "| source | target | interaction |\n",
       "|---|---|---|\n",
       "| NFkB      | TRIP6     | interacts |\n",
       "| NFkB      | CASP8     | interacts |\n",
       "| NFkB      | CHUK      | interacts |\n",
       "| NFkB      | TAB3      | interacts |\n",
       "| NFkB      | CXCL1     | interacts |\n",
       "| NFkB      | RIPK2     | interacts |\n",
       "\n"
      ],
      "text/plain": [
       "  source target interaction\n",
       "1 NFkB   TRIP6  interacts  \n",
       "2 NFkB   CASP8  interacts  \n",
       "3 NFkB   CHUK   interacts  \n",
       "4 NFkB   TAB3   interacts  \n",
       "5 NFkB   CXCL1  interacts  \n",
       "6 NFkB   RIPK2  interacts  "
      ]
     },
     "metadata": {},
     "output_type": "display_data"
    },
    {
     "data": {
      "text/html": [
       "<table>\n",
       "<thead><tr><th scope=col>hgnc_symbol</th></tr></thead>\n",
       "<tbody>\n",
       "\t<tr><td>IL22</td></tr>\n",
       "\t<tr><td>CCR7</td></tr>\n",
       "\t<tr><td>CAT </td></tr>\n",
       "\t<tr><td>SOD1</td></tr>\n",
       "\t<tr><td>PLAT</td></tr>\n",
       "\t<tr><td>AQP4</td></tr>\n",
       "</tbody>\n",
       "</table>\n"
      ],
      "text/latex": [
       "\\begin{tabular}{r|l}\n",
       " hgnc\\_symbol\\\\\n",
       "\\hline\n",
       "\t IL22\\\\\n",
       "\t CCR7\\\\\n",
       "\t CAT \\\\\n",
       "\t SOD1\\\\\n",
       "\t PLAT\\\\\n",
       "\t AQP4\\\\\n",
       "\\end{tabular}\n"
      ],
      "text/markdown": [
       "\n",
       "| hgnc_symbol |\n",
       "|---|\n",
       "| IL22 |\n",
       "| CCR7 |\n",
       "| CAT  |\n",
       "| SOD1 |\n",
       "| PLAT |\n",
       "| AQP4 |\n",
       "\n"
      ],
      "text/plain": [
       "  hgnc_symbol\n",
       "1 IL22       \n",
       "2 CCR7       \n",
       "3 CAT        \n",
       "4 SOD1       \n",
       "5 PLAT       \n",
       "6 AQP4       "
      ]
     },
     "metadata": {},
     "output_type": "display_data"
    }
   ],
   "source": [
    "# clean up network and data files\n",
    "# nodes\n",
    "colnames(nodes)[1] <- \"id\"\n",
    "nodes$id <- as.character(nodes$id)\n",
    "\n",
    "# edges\n",
    "edges <- edges[,c(-3,-4)]\n",
    "colnames(edges)[c(1,2)] <- c(\"source\", \"target\") \n",
    "edges$interaction <- \"interacts\"\n",
    "edges$target <- as.character(edges$target)\n",
    "\n",
    "# inflGenes\n",
    "inflGenes <- inflGenes[c(-2,-3,-4,-5)]\n",
    "\n",
    "head(nodes)\n",
    "head(edges)\n",
    "head(inflGenes)"
   ]
  },
  {
   "cell_type": "code",
   "execution_count": 6,
   "metadata": {},
   "outputs": [
    {
     "name": "stdout",
     "output_type": "stream",
     "text": [
      "Loading data...\n",
      "Applying default style...\n",
      "Applying preferred layout...\n"
     ]
    },
    {
     "data": {
      "text/html": [
       "<strong>networkSUID:</strong> 80"
      ],
      "text/latex": [
       "\\textbf{networkSUID:} 80"
      ],
      "text/markdown": [
       "**networkSUID:** 80"
      ],
      "text/plain": [
       "networkSUID \n",
       "         80 "
      ]
     },
     "metadata": {},
     "output_type": "display_data"
    }
   ],
   "source": [
    "# create network from files\n",
    "createNetworkFromDataFrames(nodes, edges, title = \"MyNetwork\", collection = \"MyCollection\")"
   ]
  },
  {
   "cell_type": "markdown",
   "metadata": {},
   "source": [
    "We now have the network and everything running and installen in Cytoscape. We will use the all genes that are in the network, including the genes associated with inflammation to create a ppi network via the STRING app."
   ]
  },
  {
   "cell_type": "code",
   "execution_count": 7,
   "metadata": {},
   "outputs": [
    {
     "data": {
      "text/html": [
       "<table>\n",
       "<thead><tr><th></th><th scope=col>hgnc_symbol</th></tr></thead>\n",
       "<tbody>\n",
       "\t<tr><th scope=row>11</th><td>AGER </td></tr>\n",
       "\t<tr><th scope=row>12</th><td>AKT1 </td></tr>\n",
       "\t<tr><th scope=row>13</th><td>APOA1</td></tr>\n",
       "\t<tr><th scope=row>14</th><td>C3   </td></tr>\n",
       "\t<tr><th scope=row>15</th><td>C5   </td></tr>\n",
       "\t<tr><th scope=row>16</th><td>CALCA</td></tr>\n",
       "</tbody>\n",
       "</table>\n"
      ],
      "text/latex": [
       "\\begin{tabular}{r|l}\n",
       "  & hgnc\\_symbol\\\\\n",
       "\\hline\n",
       "\t11 & AGER \\\\\n",
       "\t12 & AKT1 \\\\\n",
       "\t13 & APOA1\\\\\n",
       "\t14 & C3   \\\\\n",
       "\t15 & C5   \\\\\n",
       "\t16 & CALCA\\\\\n",
       "\\end{tabular}\n"
      ],
      "text/markdown": [
       "\n",
       "| <!--/--> | hgnc_symbol |\n",
       "|---|---|\n",
       "| 11 | AGER  |\n",
       "| 12 | AKT1  |\n",
       "| 13 | APOA1 |\n",
       "| 14 | C3    |\n",
       "| 15 | C5    |\n",
       "| 16 | CALCA |\n",
       "\n"
      ],
      "text/plain": [
       "   hgnc_symbol\n",
       "11 AGER       \n",
       "12 AKT1       \n",
       "13 APOA1      \n",
       "14 C3         \n",
       "15 C5         \n",
       "16 CALCA      "
      ]
     },
     "metadata": {},
     "output_type": "display_data"
    },
    {
     "data": {
      "text/html": [
       "<ol class=list-inline>\n",
       "\t<li>459</li>\n",
       "\t<li>1</li>\n",
       "</ol>\n"
      ],
      "text/latex": [
       "\\begin{enumerate*}\n",
       "\\item 459\n",
       "\\item 1\n",
       "\\end{enumerate*}\n"
      ],
      "text/markdown": [
       "1. 459\n",
       "2. 1\n",
       "\n",
       "\n"
      ],
      "text/plain": [
       "[1] 459   1"
      ]
     },
     "metadata": {},
     "output_type": "display_data"
    }
   ],
   "source": [
    "# get all genes from network and combine them with inflammation genes\n",
    "networkGenes <- nodes[nodes$type != \"Process\",]\n",
    "networkGenes <- networkGenes[-2]\n",
    "colnames(networkGenes)[1] <- \"hgnc_symbol\"\n",
    "\n",
    "networkGenes <- rbind(networkGenes, inflGenes)\n",
    "networkGenes <- unique(networkGenes)\n",
    "\n",
    "head(networkGenes)\n",
    "dim(networkGenes)"
   ]
  },
  {
   "cell_type": "markdown",
   "metadata": {},
   "source": [
    "Lets create the ppi network!"
   ]
  },
  {
   "cell_type": "code",
   "execution_count": 8,
   "metadata": {},
   "outputs": [
    {
     "data": {
      "text/html": [
       "'Loaded network \\'String Network\\' with 465 nodes and 5301 edges'"
      ],
      "text/latex": [
       "'Loaded network \\textbackslash{}'String Network\\textbackslash{}' with 465 nodes and 5301 edges'"
      ],
      "text/markdown": [
       "'Loaded network \\'String Network\\' with 465 nodes and 5301 edges'"
      ],
      "text/plain": [
       "[1] \"Loaded network 'String Network' with 465 nodes and 5301 edges\""
      ]
     },
     "metadata": {},
     "output_type": "display_data"
    }
   ],
   "source": [
    "# create STRING app API command and create ppi network\n",
    "string_cmd <- paste('string protein query taxonID=9606 cutoff=0.9 query=\"',paste(networkGenes$hgnc_symbol, collapse=\",\"),'\"',sep=\"\")\n",
    "commandsGET(string_cmd)\n",
    "\n",
    "setVisualStyle(\"default\")\n",
    "setNodeLabelMapping(table.column = \"display name\")"
   ]
  },
  {
   "cell_type": "markdown",
   "metadata": {},
   "source": [
    "### Now we have to do a manual part. We will merge the networks. Go to Cytoscape -> 'Tools' -> 'Merge' -> 'Networks...'. Then select the two network and click 'Advanced options'. For the STRING network chose 'query term' as matching column!"
   ]
  },
  {
   "cell_type": "markdown",
   "metadata": {},
   "source": [
    "Now we have the merged network we will extract the edge table and make two seperate files from this table for the Neo4J part. "
   ]
  },
  {
   "cell_type": "code",
   "execution_count": 10,
   "metadata": {},
   "outputs": [
    {
     "data": {
      "text/html": [
       "<table>\n",
       "<thead><tr><th></th><th scope=col>name</th><th scope=col>interaction</th></tr></thead>\n",
       "<tbody>\n",
       "\t<tr><th scope=row>16384</th><td>HGF (pp) JAK2 </td><td>pp            </td></tr>\n",
       "\t<tr><th scope=row>16385</th><td>HGF (pp) SRC  </td><td>pp            </td></tr>\n",
       "\t<tr><th scope=row>16386</th><td>HGF (pp) PLAU </td><td>pp            </td></tr>\n",
       "\t<tr><th scope=row>16387</th><td>HGF (pp) NRAS </td><td>pp            </td></tr>\n",
       "\t<tr><th scope=row>16388</th><td>HGF (pp) TGFB2</td><td>pp            </td></tr>\n",
       "\t<tr><th scope=row>16389</th><td>HGF (pp) RAC1 </td><td>pp            </td></tr>\n",
       "</tbody>\n",
       "</table>\n"
      ],
      "text/latex": [
       "\\begin{tabular}{r|ll}\n",
       "  & name & interaction\\\\\n",
       "\\hline\n",
       "\t16384 & HGF (pp) JAK2  & pp            \\\\\n",
       "\t16385 & HGF (pp) SRC   & pp            \\\\\n",
       "\t16386 & HGF (pp) PLAU  & pp            \\\\\n",
       "\t16387 & HGF (pp) NRAS  & pp            \\\\\n",
       "\t16388 & HGF (pp) TGFB2 & pp            \\\\\n",
       "\t16389 & HGF (pp) RAC1  & pp            \\\\\n",
       "\\end{tabular}\n"
      ],
      "text/markdown": [
       "\n",
       "| <!--/--> | name | interaction |\n",
       "|---|---|---|\n",
       "| 16384 | HGF (pp) JAK2  | pp             |\n",
       "| 16385 | HGF (pp) SRC   | pp             |\n",
       "| 16386 | HGF (pp) PLAU  | pp             |\n",
       "| 16387 | HGF (pp) NRAS  | pp             |\n",
       "| 16388 | HGF (pp) TGFB2 | pp             |\n",
       "| 16389 | HGF (pp) RAC1  | pp             |\n",
       "\n"
      ],
      "text/plain": [
       "      name           interaction\n",
       "16384 HGF (pp) JAK2  pp         \n",
       "16385 HGF (pp) SRC   pp         \n",
       "16386 HGF (pp) PLAU  pp         \n",
       "16387 HGF (pp) NRAS  pp         \n",
       "16388 HGF (pp) TGFB2 pp         \n",
       "16389 HGF (pp) RAC1  pp         "
      ]
     },
     "metadata": {},
     "output_type": "display_data"
    }
   ],
   "source": [
    "# get table columns we need from edge table\n",
    "table <- getTableColumns(table = \"edge\", columns = c(\"name\", \"interaction\"))\n",
    "\n",
    "head(table)"
   ]
  },
  {
   "cell_type": "code",
   "execution_count": 11,
   "metadata": {},
   "outputs": [
    {
     "data": {
      "text/html": [
       "<table>\n",
       "<thead><tr><th></th><th scope=col>name</th><th scope=col>interaction</th></tr></thead>\n",
       "<tbody>\n",
       "\t<tr><th scope=row>14139</th><td>Vitamin_B12 (interacts) MYD88 </td><td>interacts                     </td></tr>\n",
       "\t<tr><th scope=row>14140</th><td>Vitamin_B12 (interacts) IL18  </td><td>interacts                     </td></tr>\n",
       "\t<tr><th scope=row>14141</th><td>Vitamin_B12 (interacts) MMP9  </td><td>interacts                     </td></tr>\n",
       "\t<tr><th scope=row>14142</th><td>Vitamin_B12 (interacts) TLR1  </td><td>interacts                     </td></tr>\n",
       "\t<tr><th scope=row>14143</th><td>Vitamin_B12 (interacts) TLR2  </td><td>interacts                     </td></tr>\n",
       "\t<tr><th scope=row>14144</th><td>Vitamin_B12 (interacts) S100A9</td><td>interacts                     </td></tr>\n",
       "</tbody>\n",
       "</table>\n"
      ],
      "text/latex": [
       "\\begin{tabular}{r|ll}\n",
       "  & name & interaction\\\\\n",
       "\\hline\n",
       "\t14139 & Vitamin\\_B12 (interacts) MYD88  & interacts                       \\\\\n",
       "\t14140 & Vitamin\\_B12 (interacts) IL18   & interacts                       \\\\\n",
       "\t14141 & Vitamin\\_B12 (interacts) MMP9   & interacts                       \\\\\n",
       "\t14142 & Vitamin\\_B12 (interacts) TLR1   & interacts                       \\\\\n",
       "\t14143 & Vitamin\\_B12 (interacts) TLR2   & interacts                       \\\\\n",
       "\t14144 & Vitamin\\_B12 (interacts) S100A9 & interacts                       \\\\\n",
       "\\end{tabular}\n"
      ],
      "text/markdown": [
       "\n",
       "| <!--/--> | name | interaction |\n",
       "|---|---|---|\n",
       "| 14139 | Vitamin_B12 (interacts) MYD88  | interacts                      |\n",
       "| 14140 | Vitamin_B12 (interacts) IL18   | interacts                      |\n",
       "| 14141 | Vitamin_B12 (interacts) MMP9   | interacts                      |\n",
       "| 14142 | Vitamin_B12 (interacts) TLR1   | interacts                      |\n",
       "| 14143 | Vitamin_B12 (interacts) TLR2   | interacts                      |\n",
       "| 14144 | Vitamin_B12 (interacts) S100A9 | interacts                      |\n",
       "\n"
      ],
      "text/plain": [
       "      name                           interaction\n",
       "14139 Vitamin_B12 (interacts) MYD88  interacts  \n",
       "14140 Vitamin_B12 (interacts) IL18   interacts  \n",
       "14141 Vitamin_B12 (interacts) MMP9   interacts  \n",
       "14142 Vitamin_B12 (interacts) TLR1   interacts  \n",
       "14143 Vitamin_B12 (interacts) TLR2   interacts  \n",
       "14144 Vitamin_B12 (interacts) S100A9 interacts  "
      ]
     },
     "metadata": {},
     "output_type": "display_data"
    },
    {
     "data": {
      "text/html": [
       "<table>\n",
       "<thead><tr><th></th><th scope=col>name</th><th scope=col>interaction</th></tr></thead>\n",
       "<tbody>\n",
       "\t<tr><th scope=row>16384</th><td>HGF (pp) JAK2 </td><td>pp            </td></tr>\n",
       "\t<tr><th scope=row>16385</th><td>HGF (pp) SRC  </td><td>pp            </td></tr>\n",
       "\t<tr><th scope=row>16386</th><td>HGF (pp) PLAU </td><td>pp            </td></tr>\n",
       "\t<tr><th scope=row>16387</th><td>HGF (pp) NRAS </td><td>pp            </td></tr>\n",
       "\t<tr><th scope=row>16388</th><td>HGF (pp) TGFB2</td><td>pp            </td></tr>\n",
       "\t<tr><th scope=row>16389</th><td>HGF (pp) RAC1 </td><td>pp            </td></tr>\n",
       "</tbody>\n",
       "</table>\n"
      ],
      "text/latex": [
       "\\begin{tabular}{r|ll}\n",
       "  & name & interaction\\\\\n",
       "\\hline\n",
       "\t16384 & HGF (pp) JAK2  & pp            \\\\\n",
       "\t16385 & HGF (pp) SRC   & pp            \\\\\n",
       "\t16386 & HGF (pp) PLAU  & pp            \\\\\n",
       "\t16387 & HGF (pp) NRAS  & pp            \\\\\n",
       "\t16388 & HGF (pp) TGFB2 & pp            \\\\\n",
       "\t16389 & HGF (pp) RAC1  & pp            \\\\\n",
       "\\end{tabular}\n"
      ],
      "text/markdown": [
       "\n",
       "| <!--/--> | name | interaction |\n",
       "|---|---|---|\n",
       "| 16384 | HGF (pp) JAK2  | pp             |\n",
       "| 16385 | HGF (pp) SRC   | pp             |\n",
       "| 16386 | HGF (pp) PLAU  | pp             |\n",
       "| 16387 | HGF (pp) NRAS  | pp             |\n",
       "| 16388 | HGF (pp) TGFB2 | pp             |\n",
       "| 16389 | HGF (pp) RAC1  | pp             |\n",
       "\n"
      ],
      "text/plain": [
       "      name           interaction\n",
       "16384 HGF (pp) JAK2  pp         \n",
       "16385 HGF (pp) SRC   pp         \n",
       "16386 HGF (pp) PLAU  pp         \n",
       "16387 HGF (pp) NRAS  pp         \n",
       "16388 HGF (pp) TGFB2 pp         \n",
       "16389 HGF (pp) RAC1  pp         "
      ]
     },
     "metadata": {},
     "output_type": "display_data"
    }
   ],
   "source": [
    "table_process <- table[table$interaction == \"interacts\",]\n",
    "table_pp <- table[table$interaction == \"pp\",]\n",
    "\n",
    "head(table_process)\n",
    "head(table_pp)"
   ]
  },
  {
   "cell_type": "code",
   "execution_count": 12,
   "metadata": {},
   "outputs": [
    {
     "data": {
      "text/html": [
       "<table>\n",
       "<thead><tr><th scope=col>source</th><th scope=col>target</th></tr></thead>\n",
       "<tbody>\n",
       "\t<tr><td>Vitamin_B12</td><td>MYD88      </td></tr>\n",
       "\t<tr><td>Vitamin_B12</td><td>IL18       </td></tr>\n",
       "\t<tr><td>Vitamin_B12</td><td>MMP9       </td></tr>\n",
       "\t<tr><td>Vitamin_B12</td><td>TLR1       </td></tr>\n",
       "\t<tr><td>Vitamin_B12</td><td>TLR2       </td></tr>\n",
       "\t<tr><td>Vitamin_B12</td><td>S100A9     </td></tr>\n",
       "</tbody>\n",
       "</table>\n"
      ],
      "text/latex": [
       "\\begin{tabular}{r|ll}\n",
       " source & target\\\\\n",
       "\\hline\n",
       "\t Vitamin\\_B12 & MYD88        \\\\\n",
       "\t Vitamin\\_B12 & IL18         \\\\\n",
       "\t Vitamin\\_B12 & MMP9         \\\\\n",
       "\t Vitamin\\_B12 & TLR1         \\\\\n",
       "\t Vitamin\\_B12 & TLR2         \\\\\n",
       "\t Vitamin\\_B12 & S100A9       \\\\\n",
       "\\end{tabular}\n"
      ],
      "text/markdown": [
       "\n",
       "| source | target |\n",
       "|---|---|\n",
       "| Vitamin_B12 | MYD88       |\n",
       "| Vitamin_B12 | IL18        |\n",
       "| Vitamin_B12 | MMP9        |\n",
       "| Vitamin_B12 | TLR1        |\n",
       "| Vitamin_B12 | TLR2        |\n",
       "| Vitamin_B12 | S100A9      |\n",
       "\n"
      ],
      "text/plain": [
       "  source      target\n",
       "1 Vitamin_B12 MYD88 \n",
       "2 Vitamin_B12 IL18  \n",
       "3 Vitamin_B12 MMP9  \n",
       "4 Vitamin_B12 TLR1  \n",
       "5 Vitamin_B12 TLR2  \n",
       "6 Vitamin_B12 S100A9"
      ]
     },
     "metadata": {},
     "output_type": "display_data"
    }
   ],
   "source": [
    "# clean process table\n",
    "table_process <- table_process[-2]\n",
    "table_process <- as.data.frame(lapply(table_process, gsub, pattern =\"\\\\(\", replacement = ''))\n",
    "table_process <- as.data.frame(lapply(table_process, gsub, pattern =\"\\\\)\", replacement = ''))\n",
    "table_process <- as.data.frame(lapply(table_process, gsub, pattern =\"interacts\", replacement = ''))\n",
    "\n",
    "table_process <- as.data.frame(str_split_fixed(table_process$name, \" \", n = 2))\n",
    "\n",
    "table_process <- as.data.frame(apply(table_process,2,function(x)gsub('\\\\s+', '',x)))\n",
    "colnames(table_process)[c(1,2)] <- c(\"source\", \"target\")\n",
    "                                     \n",
    "head(table_process)\n",
    "                                     \n",
    "# save table\n",
    "write.table(table_process, file.path(getwd(), \"results\", \"cat_gene_table.txt\"), col.names = T, row.names = F, sep = \"\\t\", quote = F)"
   ]
  },
  {
   "cell_type": "code",
   "execution_count": 13,
   "metadata": {},
   "outputs": [
    {
     "data": {
      "text/html": [
       "<table>\n",
       "<thead><tr><th scope=col>source</th><th scope=col>target</th></tr></thead>\n",
       "<tbody>\n",
       "\t<tr><td>HGF  </td><td>JAK2 </td></tr>\n",
       "\t<tr><td>HGF  </td><td>SRC  </td></tr>\n",
       "\t<tr><td>HGF  </td><td>PLAU </td></tr>\n",
       "\t<tr><td>HGF  </td><td>NRAS </td></tr>\n",
       "\t<tr><td>HGF  </td><td>TGFB2</td></tr>\n",
       "\t<tr><td>HGF  </td><td>RAC1 </td></tr>\n",
       "</tbody>\n",
       "</table>\n"
      ],
      "text/latex": [
       "\\begin{tabular}{r|ll}\n",
       " source & target\\\\\n",
       "\\hline\n",
       "\t HGF   & JAK2 \\\\\n",
       "\t HGF   & SRC  \\\\\n",
       "\t HGF   & PLAU \\\\\n",
       "\t HGF   & NRAS \\\\\n",
       "\t HGF   & TGFB2\\\\\n",
       "\t HGF   & RAC1 \\\\\n",
       "\\end{tabular}\n"
      ],
      "text/markdown": [
       "\n",
       "| source | target |\n",
       "|---|---|\n",
       "| HGF   | JAK2  |\n",
       "| HGF   | SRC   |\n",
       "| HGF   | PLAU  |\n",
       "| HGF   | NRAS  |\n",
       "| HGF   | TGFB2 |\n",
       "| HGF   | RAC1  |\n",
       "\n"
      ],
      "text/plain": [
       "  source target\n",
       "1 HGF    JAK2  \n",
       "2 HGF    SRC   \n",
       "3 HGF    PLAU  \n",
       "4 HGF    NRAS  \n",
       "5 HGF    TGFB2 \n",
       "6 HGF    RAC1  "
      ]
     },
     "metadata": {},
     "output_type": "display_data"
    }
   ],
   "source": [
    "# clean pp table\n",
    "table_pp <- table_pp[-2]\n",
    "table_pp <- as.data.frame(lapply(table_pp, gsub, pattern =\"\\\\(\", replacement = ''))\n",
    "table_pp <- as.data.frame(lapply(table_pp, gsub, pattern =\"\\\\)\", replacement = ''))\n",
    "table_pp <- as.data.frame(lapply(table_pp, gsub, pattern =\"pp\", replacement = ''))\n",
    "\n",
    "table_pp <- as.data.frame(str_split_fixed(table_pp$name, \" \", n = 2))\n",
    "\n",
    "table_pp <- as.data.frame(apply(table_pp,2,function(x)gsub('\\\\s+', '',x)))\n",
    "colnames(table_pp)[c(1,2)] <- c(\"source\", \"target\")\n",
    "                             \n",
    "head(table_pp)\n",
    "\n",
    "# save table\n",
    "write.table(table_pp, file.path(getwd(), \"results\", \"ppi_table.txt\"), col.names = T, row.names = F, sep = \"\\t\", quote = F)\n"
   ]
  },
  {
   "cell_type": "markdown",
   "metadata": {},
   "source": [
    "Now that we have the edge table split up we can check the shared neighbors between process nodes and added gene nodes. We will use the RNeo4J package for this purpose. "
   ]
  },
  {
   "cell_type": "code",
   "execution_count": 19,
   "metadata": {},
   "outputs": [],
   "source": [
    "# first make conenction with Neo4J. Start Neo4J and open the url in a webbrowser. Create your own username and password\n",
    "graph = startGraph(\"http://localhost:7474/db/data/\", username = \"neo4j\", password = \"123\")"
   ]
  },
  {
   "cell_type": "code",
   "execution_count": 20,
   "metadata": {},
   "outputs": [],
   "source": [
    "# load in both tables and load them in Neo4J\n",
    "data = data.frame(read.table(file.path(getwd(), \"results\", \"cat_gene_table.txt\"), header = T, sep = \"\\t\"))\n",
    "data <- unique(data)\n",
    "\n",
    "query = \"\n",
    "MERGE (source:Category {id:{Category}})\n",
    "MERGE (target:Gene {id:{Gene}})\n",
    "CREATE (source)<-[:pathway]-(target)\n",
    "\"\n",
    "\n",
    "t = newTransaction(graph)\n",
    "\n",
    "for (i in 1:nrow(data)) {\n",
    "  Category = data[i, ]$source\n",
    "  Gene = data[i, ]$target\n",
    "  \n",
    "  appendCypher(t, \n",
    "               query, \n",
    "               Category = Category, \n",
    "               Gene = Gene \n",
    "               )\n",
    "}\n",
    "\n",
    "commit(t)\n",
    "\n",
    "data1 = data.frame(read.table(file.path(getwd(), \"results\", \"ppi_table.txt\"), header = T, sep = \"\\t\"))\n",
    "\n",
    "query = \"\n",
    "MERGE (source:Gene {id:{Gene}})\n",
    "MERGE (target:Gene1 {id:{Gene1}})\n",
    "CREATE (source)<-[:ppi]-(target)\n",
    "\"\n",
    "\n",
    "y = newTransaction(graph)\n",
    "\n",
    "for (i in 1:nrow(data1)) {\n",
    "  Gene = data1[i, ]$source\n",
    "  Gene1 = data1[i, ]$target\n",
    "  \n",
    "  appendCypher(y, \n",
    "               query, \n",
    "               Gene = Gene, \n",
    "               Gene1 = Gene1 \n",
    "  )\n",
    "}\n",
    "\n",
    "commit(y)"
   ]
  },
  {
   "cell_type": "code",
   "execution_count": 21,
   "metadata": {},
   "outputs": [
    {
     "data": {
      "text/html": [
       "<table>\n",
       "<thead><tr><th></th><th scope=col>source_id</th><th scope=col>target_id</th><th scope=col>common_neighbors</th></tr></thead>\n",
       "<tbody>\n",
       "\t<tr><th scope=row>13</th><td>Vitamin_B12</td><td>PPARA      </td><td>4          </td></tr>\n",
       "\t<tr><th scope=row>14</th><td>Vitamin_B12</td><td>C4A        </td><td>6          </td></tr>\n",
       "\t<tr><th scope=row>17</th><td>Vitamin_B12</td><td>TF         </td><td>7          </td></tr>\n",
       "\t<tr><th scope=row>26</th><td>Vitamin_B12</td><td>ADIPOQ     </td><td>3          </td></tr>\n",
       "\t<tr><th scope=row>28</th><td>Vitamin_B12</td><td>LEP        </td><td>1          </td></tr>\n",
       "\t<tr><th scope=row>49</th><td>Vitamin_B12</td><td>NGF        </td><td>3          </td></tr>\n",
       "</tbody>\n",
       "</table>\n"
      ],
      "text/latex": [
       "\\begin{tabular}{r|lll}\n",
       "  & source\\_id & target\\_id & common\\_neighbors\\\\\n",
       "\\hline\n",
       "\t13 & Vitamin\\_B12 & PPARA         & 4            \\\\\n",
       "\t14 & Vitamin\\_B12 & C4A           & 6            \\\\\n",
       "\t17 & Vitamin\\_B12 & TF            & 7            \\\\\n",
       "\t26 & Vitamin\\_B12 & ADIPOQ        & 3            \\\\\n",
       "\t28 & Vitamin\\_B12 & LEP           & 1            \\\\\n",
       "\t49 & Vitamin\\_B12 & NGF           & 3            \\\\\n",
       "\\end{tabular}\n"
      ],
      "text/markdown": [
       "\n",
       "| <!--/--> | source_id | target_id | common_neighbors |\n",
       "|---|---|---|---|\n",
       "| 13 | Vitamin_B12 | PPARA       | 4           |\n",
       "| 14 | Vitamin_B12 | C4A         | 6           |\n",
       "| 17 | Vitamin_B12 | TF          | 7           |\n",
       "| 26 | Vitamin_B12 | ADIPOQ      | 3           |\n",
       "| 28 | Vitamin_B12 | LEP         | 1           |\n",
       "| 49 | Vitamin_B12 | NGF         | 3           |\n",
       "\n"
      ],
      "text/plain": [
       "   source_id   target_id common_neighbors\n",
       "13 Vitamin_B12 PPARA     4               \n",
       "14 Vitamin_B12 C4A       6               \n",
       "17 Vitamin_B12 TF        7               \n",
       "26 Vitamin_B12 ADIPOQ    3               \n",
       "28 Vitamin_B12 LEP       1               \n",
       "49 Vitamin_B12 NGF       3               "
      ]
     },
     "metadata": {},
     "output_type": "display_data"
    },
    {
     "data": {
      "text/html": [
       "<ol class=list-inline>\n",
       "\t<li>185</li>\n",
       "\t<li>3</li>\n",
       "</ol>\n"
      ],
      "text/latex": [
       "\\begin{enumerate*}\n",
       "\\item 185\n",
       "\\item 3\n",
       "\\end{enumerate*}\n"
      ],
      "text/markdown": [
       "1. 185\n",
       "2. 3\n",
       "\n",
       "\n"
      ],
      "text/plain": [
       "[1] 185   3"
      ]
     },
     "metadata": {},
     "output_type": "display_data"
    }
   ],
   "source": [
    "# perform Neo4J query\n",
    "shared_neighbors <- cypher(graph, \"MATCH(source:Category)-[:pathway]-(neighbor:Gene)-[:ppi]-(target:Gene1)\n",
    "WHERE NOT (source) = (target)\n",
    "RETURN DISTINCT source.id AS source_id, target.id AS target_id, count(neighbor) AS common_neighbors\")\n",
    "\n",
    "# only extract the 55 added genes via STRING\n",
    "genes55 <- read.table(file.path(getwd(), \"55genes\", \"55_genes.txt\"), header = T, sep = \"\\t\")\n",
    "\n",
    "colnames(genes55)[1] <- \"gene\"\n",
    "\n",
    "# retrieve rows if one of the 55 genes is in that row\n",
    "shared_neighbors55 <- shared_neighbors[shared_neighbors$target_id %in% genes55$gene,]\n",
    "\n",
    "head(shared_neighbors55)\n",
    "dim(shared_neighbors55)"
   ]
  },
  {
   "cell_type": "code",
   "execution_count": 22,
   "metadata": {},
   "outputs": [],
   "source": [
    "# save shared neighbors table\n",
    "write.table(shared_neighbors, file.path(getwd(), \"results\", \"shared_neighbors.txt\"), row.names = F, sep = \"\\t\", quote = F)\n",
    "write.table(shared_neighbors55, file.path(getwd(), \"results\", \"shared_neighbors55.txt\"), row.names = F, sep = \"\\t\", quote = F)"
   ]
  },
  {
   "cell_type": "markdown",
   "metadata": {},
   "source": [
    "With these shared neighbors we can decide if we would like to include genes. We opt to include genes with at least 4 shared neighbors to a process node. "
   ]
  },
  {
   "cell_type": "code",
   "execution_count": 23,
   "metadata": {},
   "outputs": [
    {
     "data": {
      "text/html": [
       "<table>\n",
       "<thead><tr><th></th><th scope=col>source_id</th><th scope=col>target_id</th><th scope=col>common_neighbors</th></tr></thead>\n",
       "<tbody>\n",
       "\t<tr><th scope=row>13</th><td>Vitamin_B12</td><td>PPARA      </td><td>4          </td></tr>\n",
       "\t<tr><th scope=row>14</th><td>Vitamin_B12</td><td>C4A        </td><td>6          </td></tr>\n",
       "\t<tr><th scope=row>17</th><td>Vitamin_B12</td><td>TF         </td><td>7          </td></tr>\n",
       "\t<tr><th scope=row>125</th><td>Vitamin_B12</td><td>LCN2       </td><td>4          </td></tr>\n",
       "\t<tr><th scope=row>185</th><td>Vitamin_B12</td><td>ELANE      </td><td>4          </td></tr>\n",
       "\t<tr><th scope=row>193</th><td>Vitamin_B12</td><td>BPI        </td><td>4          </td></tr>\n",
       "</tbody>\n",
       "</table>\n"
      ],
      "text/latex": [
       "\\begin{tabular}{r|lll}\n",
       "  & source\\_id & target\\_id & common\\_neighbors\\\\\n",
       "\\hline\n",
       "\t13 & Vitamin\\_B12 & PPARA         & 4            \\\\\n",
       "\t14 & Vitamin\\_B12 & C4A           & 6            \\\\\n",
       "\t17 & Vitamin\\_B12 & TF            & 7            \\\\\n",
       "\t125 & Vitamin\\_B12 & LCN2          & 4            \\\\\n",
       "\t185 & Vitamin\\_B12 & ELANE         & 4            \\\\\n",
       "\t193 & Vitamin\\_B12 & BPI           & 4            \\\\\n",
       "\\end{tabular}\n"
      ],
      "text/markdown": [
       "\n",
       "| <!--/--> | source_id | target_id | common_neighbors |\n",
       "|---|---|---|---|\n",
       "| 13 | Vitamin_B12 | PPARA       | 4           |\n",
       "| 14 | Vitamin_B12 | C4A         | 6           |\n",
       "| 17 | Vitamin_B12 | TF          | 7           |\n",
       "| 125 | Vitamin_B12 | LCN2        | 4           |\n",
       "| 185 | Vitamin_B12 | ELANE       | 4           |\n",
       "| 193 | Vitamin_B12 | BPI         | 4           |\n",
       "\n"
      ],
      "text/plain": [
       "    source_id   target_id common_neighbors\n",
       "13  Vitamin_B12 PPARA     4               \n",
       "14  Vitamin_B12 C4A       6               \n",
       "17  Vitamin_B12 TF        7               \n",
       "125 Vitamin_B12 LCN2      4               \n",
       "185 Vitamin_B12 ELANE     4               \n",
       "193 Vitamin_B12 BPI       4               "
      ]
     },
     "metadata": {},
     "output_type": "display_data"
    },
    {
     "data": {
      "text/html": [
       "<ol class=list-inline>\n",
       "\t<li>55</li>\n",
       "\t<li>3</li>\n",
       "</ol>\n"
      ],
      "text/latex": [
       "\\begin{enumerate*}\n",
       "\\item 55\n",
       "\\item 3\n",
       "\\end{enumerate*}\n"
      ],
      "text/markdown": [
       "1. 55\n",
       "2. 3\n",
       "\n",
       "\n"
      ],
      "text/plain": [
       "[1] 55  3"
      ]
     },
     "metadata": {},
     "output_type": "display_data"
    }
   ],
   "source": [
    "# at least 4 of more shared neighbors\n",
    "shared_neighbors55 <- shared_neighbors55[shared_neighbors55$common_neighbors >= 4,]\n",
    "head(shared_neighbors55)\n",
    "dim(shared_neighbors55)"
   ]
  },
  {
   "cell_type": "code",
   "execution_count": 24,
   "metadata": {},
   "outputs": [
    {
     "data": {
      "text/html": [
       "<table>\n",
       "<thead><tr><th></th><th scope=col>source</th><th scope=col>target</th></tr></thead>\n",
       "<tbody>\n",
       "\t<tr><th scope=row>13</th><td>Vitamin_B12</td><td>PPARA      </td></tr>\n",
       "\t<tr><th scope=row>14</th><td>Vitamin_B12</td><td>C4A        </td></tr>\n",
       "\t<tr><th scope=row>17</th><td>Vitamin_B12</td><td>TF         </td></tr>\n",
       "\t<tr><th scope=row>125</th><td>Vitamin_B12</td><td>LCN2       </td></tr>\n",
       "\t<tr><th scope=row>185</th><td>Vitamin_B12</td><td>ELANE      </td></tr>\n",
       "\t<tr><th scope=row>193</th><td>Vitamin_B12</td><td>BPI        </td></tr>\n",
       "</tbody>\n",
       "</table>\n"
      ],
      "text/latex": [
       "\\begin{tabular}{r|ll}\n",
       "  & source & target\\\\\n",
       "\\hline\n",
       "\t13 & Vitamin\\_B12 & PPARA        \\\\\n",
       "\t14 & Vitamin\\_B12 & C4A          \\\\\n",
       "\t17 & Vitamin\\_B12 & TF           \\\\\n",
       "\t125 & Vitamin\\_B12 & LCN2         \\\\\n",
       "\t185 & Vitamin\\_B12 & ELANE        \\\\\n",
       "\t193 & Vitamin\\_B12 & BPI          \\\\\n",
       "\\end{tabular}\n"
      ],
      "text/markdown": [
       "\n",
       "| <!--/--> | source | target |\n",
       "|---|---|---|\n",
       "| 13 | Vitamin_B12 | PPARA       |\n",
       "| 14 | Vitamin_B12 | C4A         |\n",
       "| 17 | Vitamin_B12 | TF          |\n",
       "| 125 | Vitamin_B12 | LCN2        |\n",
       "| 185 | Vitamin_B12 | ELANE       |\n",
       "| 193 | Vitamin_B12 | BPI         |\n",
       "\n"
      ],
      "text/plain": [
       "    source      target\n",
       "13  Vitamin_B12 PPARA \n",
       "14  Vitamin_B12 C4A   \n",
       "17  Vitamin_B12 TF    \n",
       "125 Vitamin_B12 LCN2  \n",
       "185 Vitamin_B12 ELANE \n",
       "193 Vitamin_B12 BPI   "
      ]
     },
     "metadata": {},
     "output_type": "display_data"
    },
    {
     "data": {
      "text/html": [
       "<ol class=list-inline>\n",
       "\t<li>632</li>\n",
       "\t<li>2</li>\n",
       "</ol>\n"
      ],
      "text/latex": [
       "\\begin{enumerate*}\n",
       "\\item 632\n",
       "\\item 2\n",
       "\\end{enumerate*}\n"
      ],
      "text/markdown": [
       "1. 632\n",
       "2. 2\n",
       "\n",
       "\n"
      ],
      "text/plain": [
       "[1] 632   2"
      ]
     },
     "metadata": {},
     "output_type": "display_data"
    }
   ],
   "source": [
    "# add these to the edge table and node table\n",
    "# edge table\n",
    "colnames(shared_neighbors55)[c(1,2)] <- c(\"source\", \"target\") \n",
    "shared_neighbors55 <- shared_neighbors55[-3]\n",
    "edges1 <- edges[-3]\n",
    "edge_table <- rbind(shared_neighbors55, edges1)\n",
    "edge_table <- unique(edge_table)\n",
    "\n",
    "head(edge_table)\n",
    "dim(edge_table)\n",
    "\n",
    "# save edge table\n",
    "write.table(edge_table, file.path(getwd(), \"results\", \"edges.txt\"), row.names = F, sep = \"\\t\", quote = F)"
   ]
  },
  {
   "cell_type": "code",
   "execution_count": 25,
   "metadata": {},
   "outputs": [
    {
     "data": {
      "text/html": [
       "<table>\n",
       "<thead><tr><th></th><th scope=col>id</th><th scope=col>type</th></tr></thead>\n",
       "<tbody>\n",
       "\t<tr><th scope=row>1</th><td>Vitamin_B12           </td><td>Process               </td></tr>\n",
       "\t<tr><th scope=row>7</th><td>NFkB                  </td><td>Process               </td></tr>\n",
       "\t<tr><th scope=row>19</th><td>Inflammation          </td><td>Process               </td></tr>\n",
       "\t<tr><th scope=row>29</th><td>Immune_cell_regulation</td><td>Process               </td></tr>\n",
       "\t<tr><th scope=row>37</th><td>Diseases              </td><td>Process               </td></tr>\n",
       "\t<tr><th scope=row>41</th><td>Cytokines             </td><td>Process               </td></tr>\n",
       "</tbody>\n",
       "</table>\n"
      ],
      "text/latex": [
       "\\begin{tabular}{r|ll}\n",
       "  & id & type\\\\\n",
       "\\hline\n",
       "\t1 & Vitamin\\_B12            & Process                 \\\\\n",
       "\t7 & NFkB                   & Process               \\\\\n",
       "\t19 & Inflammation           & Process               \\\\\n",
       "\t29 & Immune\\_cell\\_regulation & Process                   \\\\\n",
       "\t37 & Diseases               & Process               \\\\\n",
       "\t41 & Cytokines              & Process               \\\\\n",
       "\\end{tabular}\n"
      ],
      "text/markdown": [
       "\n",
       "| <!--/--> | id | type |\n",
       "|---|---|---|\n",
       "| 1 | Vitamin_B12            | Process                |\n",
       "| 7 | NFkB                   | Process                |\n",
       "| 19 | Inflammation           | Process                |\n",
       "| 29 | Immune_cell_regulation | Process                |\n",
       "| 37 | Diseases               | Process                |\n",
       "| 41 | Cytokines              | Process                |\n",
       "\n"
      ],
      "text/plain": [
       "   id                     type   \n",
       "1  Vitamin_B12            Process\n",
       "7  NFkB                   Process\n",
       "19 Inflammation           Process\n",
       "29 Immune_cell_regulation Process\n",
       "37 Diseases               Process\n",
       "41 Cytokines              Process"
      ]
     },
     "metadata": {},
     "output_type": "display_data"
    },
    {
     "data": {
      "text/html": [
       "<ol class=list-inline>\n",
       "\t<li>436</li>\n",
       "\t<li>2</li>\n",
       "</ol>\n"
      ],
      "text/latex": [
       "\\begin{enumerate*}\n",
       "\\item 436\n",
       "\\item 2\n",
       "\\end{enumerate*}\n"
      ],
      "text/markdown": [
       "1. 436\n",
       "2. 2\n",
       "\n",
       "\n"
      ],
      "text/plain": [
       "[1] 436   2"
      ]
     },
     "metadata": {},
     "output_type": "display_data"
    }
   ],
   "source": [
    "# node table\n",
    "source <- as.data.frame(edge_table[,\"source\"])\n",
    "target <- as.data.frame(edge_table[,\"target\"])\n",
    "\n",
    "colnames(source)[1] <- \"id\"\n",
    "colnames(target)[1] <- \"id\"\n",
    "\n",
    "node_table <- rbind(source, target)\n",
    "node_table <- unique(node_table)\n",
    "\n",
    "# add node typing to table\n",
    "node_table$type <- \"Gene\"\n",
    "\n",
    "node_table$type[node_table$id == \"Diseases\"] <- \"Process\"\n",
    "node_table$type[node_table$id == \"WP_OVERVIEW_OF_NANOPARTICLE_EFFECTS\"] <- \"Process\"\n",
    "node_table$type[node_table$id == \"Immune_cell_regulation\"] <- \"Process\"\n",
    "node_table$type[node_table$id == \"NFkB\"] <- \"Process\"\n",
    "node_table$type[node_table$id == \"Allograft_rejection\"] <- \"Process\"\n",
    "node_table$type[node_table$id == \"Vitamin_B12\"] <- \"Process\"\n",
    "node_table$type[node_table$id == \"WP_FIBRIN_COMPLEMENT_RECEPTOR_3_SIGNALING_PATHWAY\"] <- \"Process\"\n",
    "node_table$type[node_table$id == \"WP_DEVELOPMENT_AND_HETEROGENEITY_OF_THE_ILC_FAMILY\"] <- \"Process\"\n",
    "node_table$type[node_table$id == \"Inflammation\"] <- \"Process\"\n",
    "node_table$type[node_table$id == \"Cytokines\"] <- \"Process\"\n",
    "\n",
    "# type genes associated with inflammation\n",
    "node_table$type[node_table$id %in% inflGenes$hgnc_symbol] <- \"InflGene\"\n",
    "\n",
    "head(node_table)\n",
    "dim(node_table)\n",
    "\n",
    "# save node_table\n",
    "write.table(node_table, file.path(getwd(), \"results\", \"nodes.txt\"), row.names = F, sep = \"\\t\", quote = F)"
   ]
  },
  {
   "cell_type": "markdown",
   "metadata": {},
   "source": [
    "We can use these files to create the network and integrate the gene expression data into this network for analysis."
   ]
  }
 ],
 "metadata": {
  "kernelspec": {
   "display_name": "R",
   "language": "R",
   "name": "ir"
  },
  "language_info": {
   "codemirror_mode": "r",
   "file_extension": ".r",
   "mimetype": "text/x-r-source",
   "name": "R",
   "pygments_lexer": "r",
   "version": "3.5.1"
  }
 },
 "nbformat": 4,
 "nbformat_minor": 2
}
