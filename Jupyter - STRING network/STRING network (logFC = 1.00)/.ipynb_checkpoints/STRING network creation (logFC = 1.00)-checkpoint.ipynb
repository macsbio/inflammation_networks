{
 "cells": [
  {
   "cell_type": "markdown",
   "metadata": {},
   "source": [
    "# Automation Cytoscape network creation using RCy3 package\n",
    "We are going to use the RCy3 package in R to automate the workflow for STRING network creation. We are using multiple gene epxression datasets acquired from different studies. These datasets contain gene expression profiles of patients with various diseases. The diseases which are going to be used in this notebook are: lung-cancer (LC), breast-cancer (BC), metabolically unhealthy obesity (MUO), rheumatoid arthritis (RA), dilated cardiomyopathy (DCM), ishemic cardiomyopathy (ICM) and systemis lupus erythematosus (SLE).\n",
    "\n",
    "The network will consist of pathways, pathway clusters and the genes which occur in these pathways. These pathways are acquired based on genes associated with inflammation which were retrieved from DisGeNET and GeneCards."
   ]
  },
  {
   "cell_type": "code",
   "execution_count": 1,
   "metadata": {},
   "outputs": [
    {
     "data": {
      "text/html": [
       "'C:/Users/Laurent/Documents/GitHub/inflammation_networks2/Jupyter - STRING network/STRING network (logFC = 1.00)'"
      ],
      "text/latex": [
       "'C:/Users/Laurent/Documents/GitHub/inflammation\\_networks2/Jupyter - STRING network/STRING network (logFC = 1.00)'"
      ],
      "text/markdown": [
       "'C:/Users/Laurent/Documents/GitHub/inflammation_networks2/Jupyter - STRING network/STRING network (logFC = 1.00)'"
      ],
      "text/plain": [
       "[1] \"C:/Users/Laurent/Documents/GitHub/inflammation_networks2/Jupyter - STRING network/STRING network (logFC = 1.00)\""
      ]
     },
     "metadata": {},
     "output_type": "display_data"
    }
   ],
   "source": [
    "# check working directory\n",
    "getwd()"
   ]
  },
  {
   "cell_type": "code",
   "execution_count": 2,
   "metadata": {},
   "outputs": [],
   "source": [
    "# load libraries\n",
    "library(RCy3)"
   ]
  },
  {
   "cell_type": "markdown",
   "metadata": {},
   "source": [
    "### We first start with opening cytoscape and checking if we are connected.\n",
    "Then we will load all our necessary files."
   ]
  },
  {
   "cell_type": "code",
   "execution_count": 3,
   "metadata": {},
   "outputs": [
    {
     "data": {
      "text/html": [
       "'You are connected to Cytoscape!'"
      ],
      "text/latex": [
       "'You are connected to Cytoscape!'"
      ],
      "text/markdown": [
       "'You are connected to Cytoscape!'"
      ],
      "text/plain": [
       "[1] \"You are connected to Cytoscape!\""
      ]
     },
     "metadata": {},
     "output_type": "display_data"
    }
   ],
   "source": [
    "# check connecitojn with cytoscape\n",
    "cytoscapePing()"
   ]
  },
  {
   "cell_type": "code",
   "execution_count": 4,
   "metadata": {},
   "outputs": [],
   "source": [
    "# load data\n",
    "inflgenes <- read.table(file.path(getwd(), \"merged_infl_genes.txt\"), header = T, sep = \"\\t\")\n",
    "pwgenes <- read.table(file.path(getwd(), \"pwgenes.txt\"), header = T, sep = \"\\t\")\n",
    "expr_data <- read.table(file.path(getwd(), \"merged_data_final.txt\"), header = T, sep = \"\\t\")\n",
    "\n",
    "# merge data files\n",
    "inflgenes <- inflgenes[c(-1,-3,-4,-5)]\n",
    "pwgenes <- pwgenes[c(-1,-3)]\n",
    "colnames(pwgenes)[1] <- \"entrezgene\"\n",
    "genes <- unique(rbind(inflgenes, pwgenes))\n",
    "\n",
    "# type genes to either inflammation genes or genes\n",
    "genes$type <- \"Gene\"\n",
    "genes$type[genes$entrezgene %in% inflgenes$entrezgene] <- \"InflGene\""
   ]
  },
  {
   "cell_type": "markdown",
   "metadata": {},
   "source": [
    "Lets install STRING in Cytoscape before we move on."
   ]
  },
  {
   "cell_type": "code",
   "execution_count": 5,
   "metadata": {},
   "outputs": [
    {
     "data": {
      "text/html": [
       "'App STRINGapp installed'"
      ],
      "text/latex": [
       "'App STRINGapp installed'"
      ],
      "text/markdown": [
       "'App STRINGapp installed'"
      ],
      "text/plain": [
       "[1] \"App STRINGapp installed\""
      ]
     },
     "metadata": {},
     "output_type": "display_data"
    },
    {
     "name": "stdout",
     "output_type": "stream",
     "text": [
      "[1] \"Available namespaces:\"\n",
      "[1] \"Success: the STRING app is installed\"\n"
     ]
    }
   ],
   "source": [
    "# install string\n",
    "installApp('STRINGapp') \n",
    "if(\"string\" %in% commandsHelp(\"\")) print(\"Success: the STRING app is installed\") else print(\"Warning: STRING app is not installed. Please install the STRING app before proceeding.\")"
   ]
  },
  {
   "cell_type": "markdown",
   "metadata": {},
   "source": [
    "### Network creation\n",
    "Lets create the network using STRING command API."
   ]
  },
  {
   "cell_type": "code",
   "execution_count": 6,
   "metadata": {},
   "outputs": [
    {
     "data": {
      "text/html": [
       "'Loaded network \\'String Network\\' with 456 nodes and 5242 edges'"
      ],
      "text/latex": [
       "'Loaded network \\textbackslash{}'String Network\\textbackslash{}' with 456 nodes and 5242 edges'"
      ],
      "text/markdown": [
       "'Loaded network \\'String Network\\' with 456 nodes and 5242 edges'"
      ],
      "text/plain": [
       "[1] \"Loaded network 'String Network' with 456 nodes and 5242 edges\""
      ]
     },
     "metadata": {},
     "output_type": "display_data"
    },
    {
     "data": {
      "text/html": [
       "<strong>message:</strong> 'Visual Style applied.'"
      ],
      "text/latex": [
       "\\textbf{message:} 'Visual Style applied.'"
      ],
      "text/markdown": [
       "**message:** 'Visual Style applied.'"
      ],
      "text/plain": [
       "                message \n",
       "\"Visual Style applied.\" "
      ]
     },
     "metadata": {},
     "output_type": "display_data"
    }
   ],
   "source": [
    "# create string network from genes and set visual style to default\n",
    "string_cmd <- paste('string protein query taxonID=9606 cutoff=0.9 query=\"',paste(genes$entrezgene, collapse=\",\"),'\"',sep=\"\")\n",
    "commandsGET(string_cmd)\n",
    "\n",
    "setVisualStyle(\"default\")\n",
    "setNodeLabelMapping(table.column = \"display name\")"
   ]
  },
  {
   "cell_type": "code",
   "execution_count": 7,
   "metadata": {},
   "outputs": [],
   "source": [
    "# delete unnecessary columns\n",
    "deleteTableColumn(column = \"description\", table = \"node\")\n",
    "deleteTableColumn(column = \"full name\", table = \"node\")\n",
    "deleteTableColumn(column = \"database identifier\", table = \"node\")\n",
    "deleteTableColumn(column = \"name space\", table = \"node\")\n",
    "deleteTableColumn(column = \"@id\", table = \"node\")\n",
    "deleteTableColumn(column = \"node type\", table = \"node\")\n",
    "deleteTableColumn(column = \"enhancedLabel Passthrough\", table = \"node\")\n",
    "deleteTableColumn(column = \"STRING style\", table = \"node\")\n",
    "deleteTableColumn(column = \"species\", table = \"node\")\n",
    "deleteTableColumn(column = \"sequence\", table = \"node\")\n",
    "deleteTableColumn(column = \"namespace\", table = \"node\")\n",
    "deleteTableColumn(column = \"canonical\", table = \"node\")\n",
    "deleteTableColumn(column = \"canonical name\", table = \"node\")\n",
    "deleteTableColumn(column = \"compartment cytosol\", table = \"node\")\n",
    "deleteTableColumn(column = \"compartment chloroplast\", table = \"node\")\n",
    "deleteTableColumn(column = \"compartment cytoskeleton\", table = \"node\")\n",
    "deleteTableColumn(column = \"compartment extracellular\", table = \"node\")\n",
    "deleteTableColumn(column = \"compartment endosome\", table = \"node\")\n",
    "deleteTableColumn(column = \"compartment endoplasmic reticulum\", table = \"node\")\n",
    "deleteTableColumn(column = \"compartment golgi apparatus\", table = \"node\")\n",
    "deleteTableColumn(column = \"compartment lysosome\", table = \"node\")\n",
    "deleteTableColumn(column = \"compartment mitochondrion\", table = \"node\")\n",
    "deleteTableColumn(column = \"compartment nucleus\", table = \"node\")\n",
    "deleteTableColumn(column = \"compartment vacuole\", table = \"node\")\n",
    "deleteTableColumn(column = \"compartment peroxisome\", table = \"node\")\n",
    "deleteTableColumn(column = \"compartment plasma membrane\", table = \"node\")\n",
    "deleteTableColumn(column = \"image\", table = \"node\")\n",
    "deleteTableColumn(column = \"interactor score\", table = \"node\")\n",
    "deleteTableColumn(column = \"target development level\", table = \"node\")\n",
    "deleteTableColumn(column = \"target family\", table = \"node\")\n",
    "deleteTableColumn(column = \"tissue adrenal gland\", table = \"node\")\n",
    "deleteTableColumn(column = \"tissue atrium\", table = \"node\")\n",
    "deleteTableColumn(column = \"tissue blood\", table = \"node\")\n",
    "deleteTableColumn(column = \"tissue bone\", table = \"node\")\n",
    "deleteTableColumn(column = \"tissue bone marrow\", table = \"node\")\n",
    "deleteTableColumn(column = \"tissue eye\", table = \"node\")\n",
    "deleteTableColumn(column = \"tissue gall bladder\", table = \"node\")\n",
    "deleteTableColumn(column = \"tissue heart\", table = \"node\")\n",
    "deleteTableColumn(column = \"tissue intestine\", table = \"node\")\n",
    "deleteTableColumn(column = \"tissue kidney\", table = \"node\")\n",
    "deleteTableColumn(column = \"tissue left atrium\", table = \"node\")\n",
    "deleteTableColumn(column = \"tissue left ventricle\", table = \"node\")\n",
    "deleteTableColumn(column = \"tissue liver\", table = \"node\")\n",
    "deleteTableColumn(column = \"tissue lung\", table = \"node\")\n",
    "deleteTableColumn(column = \"tissue lymph node\", table = \"node\")\n",
    "deleteTableColumn(column = \"tissue muscle\", table = \"node\")\n",
    "deleteTableColumn(column = \"tissue nervous system\", table = \"node\")\n",
    "deleteTableColumn(column = \"tissue pancreas\", table = \"node\")\n",
    "deleteTableColumn(column = \"tissue right atrium\", table = \"node\")\n",
    "deleteTableColumn(column = \"tissue right ventricle\", table = \"node\")\n",
    "deleteTableColumn(column = \"tissue saliva\", table = \"node\")\n",
    "deleteTableColumn(column = \"tissue skin\", table = \"node\")\n",
    "deleteTableColumn(column = \"tissue spleen\", table = \"node\")\n",
    "deleteTableColumn(column = \"tissue stomach\", table = \"node\")\n",
    "deleteTableColumn(column = \"tissue thyroid gland\", table = \"node\")\n",
    "deleteTableColumn(column = \"tissue urine\", table = \"node\")\n",
    "deleteTableColumn(column = \"tissue ventricle\", table = \"node\")"
   ]
  },
  {
   "cell_type": "markdown",
   "metadata": {},
   "source": [
    "## One gene did not get mapped properly to an HGNC-symbol, namely: TRPV1 (ID:ENSP00000459962). Lets do this manually in the node table, column 'display name'!"
   ]
  },
  {
   "cell_type": "markdown",
   "metadata": {},
   "source": [
    "We have to load in our gene expression data file, and merge this file with the table in cytoscape."
   ]
  },
  {
   "cell_type": "code",
   "execution_count": 8,
   "metadata": {},
   "outputs": [
    {
     "data": {
      "text/html": [
       "'Success: Data loaded in defaultnode table'"
      ],
      "text/latex": [
       "'Success: Data loaded in defaultnode table'"
      ],
      "text/markdown": [
       "'Success: Data loaded in defaultnode table'"
      ],
      "text/plain": [
       "[1] \"Success: Data loaded in defaultnode table\""
      ]
     },
     "metadata": {},
     "output_type": "display_data"
    },
    {
     "data": {
      "text/html": [
       "'Success: Data loaded in defaultnode table'"
      ],
      "text/latex": [
       "'Success: Data loaded in defaultnode table'"
      ],
      "text/markdown": [
       "'Success: Data loaded in defaultnode table'"
      ],
      "text/plain": [
       "[1] \"Success: Data loaded in defaultnode table\""
      ]
     },
     "metadata": {},
     "output_type": "display_data"
    }
   ],
   "source": [
    "# add gene expression data\n",
    "loadTableData(expr_data, data.key.colum = \"hgnc_symbol\", table.key.column = \"display name\")\n",
    "\n",
    "# add gene type\n",
    "loadTableData(genes, data.key.colum = \"entrezgene\", table.key.column = \"query term\")"
   ]
  },
  {
   "cell_type": "markdown",
   "metadata": {},
   "source": [
    "Now we will cluster the network using community clusters (gLay)."
   ]
  },
  {
   "cell_type": "code",
   "execution_count": 9,
   "metadata": {},
   "outputs": [
    {
     "data": {
      "text/html": [
       "<ol class=list-inline>\n",
       "\t<li>'Clusters: 48'</li>\n",
       "\t<li>'Average size: 9,5'</li>\n",
       "\t<li>'Maximum size: 184'</li>\n",
       "\t<li>'Minimum size: 1'</li>\n",
       "\t<li>'Modularity: 0,65'</li>\n",
       "\t<li>'Created new network view: DGraphView: suid=11526, model=String Network--clustered'</li>\n",
       "</ol>\n"
      ],
      "text/latex": [
       "\\begin{enumerate*}\n",
       "\\item 'Clusters: 48'\n",
       "\\item 'Average size: 9,5'\n",
       "\\item 'Maximum size: 184'\n",
       "\\item 'Minimum size: 1'\n",
       "\\item 'Modularity: 0,65'\n",
       "\\item 'Created new network view: DGraphView: suid=11526, model=String Network--clustered'\n",
       "\\end{enumerate*}\n"
      ],
      "text/markdown": [
       "1. 'Clusters: 48'\n",
       "2. 'Average size: 9,5'\n",
       "3. 'Maximum size: 184'\n",
       "4. 'Minimum size: 1'\n",
       "5. 'Modularity: 0,65'\n",
       "6. 'Created new network view: DGraphView: suid=11526, model=String Network--clustered'\n",
       "\n",
       "\n"
      ],
      "text/plain": [
       "[1] \"Clusters: 48\"                                                                     \n",
       "[2] \"Average size: 9,5\"                                                                \n",
       "[3] \"Maximum size: 184\"                                                                \n",
       "[4] \"Minimum size: 1\"                                                                  \n",
       "[5] \"Modularity: 0,65\"                                                                 \n",
       "[6] \"Created new network view: DGraphView: suid=11526, model=String Network--clustered\""
      ]
     },
     "metadata": {},
     "output_type": "display_data"
    }
   ],
   "source": [
    "# cluster network using gLay clustering\n",
    "glay_cmd <- paste('cluster glay clusterAttribute=\"__glayCluster\" createGroups=false restoreEdges=false selectedOnly=false showUI=true undirectedEdges=true', sep=\"\")\n",
    "commandsGET(glay_cmd)"
   ]
  },
  {
   "cell_type": "markdown",
   "metadata": {},
   "source": [
    "### Visualization \n",
    "Before we start to visualize our network, we have to perform some manual stuff!\n",
    "Go to 'Tools' -> 'Network Analyzer' -> 'Network Analysis' -> 'Analyze Network...' -> 'OK'"
   ]
  },
  {
   "cell_type": "markdown",
   "metadata": {},
   "source": [
    "Now lets clone the network that every disease dataset hads its own network and then we will map the gene expression on the respective networks and visualize it.\n",
    "\n",
    "Now we have a network available for every dataset we have, we can set a visual style which maps the gene expression (logFC) and significance (p-value) for every gene node in the network per dataset."
   ]
  },
  {
   "cell_type": "code",
   "execution_count": 10,
   "metadata": {},
   "outputs": [
    {
     "name": "stdout",
     "output_type": "stream",
     "text": [
      "[1] \"Done!\"\n",
      "[1] \"Done!\"\n"
     ]
    }
   ],
   "source": [
    "# create network for every disease and map gene expression data\n",
    "# lock width and height of nodes\n",
    "lockNodeDimensions(TRUE)\n",
    "\n",
    "# create for every gene expression set a own network, using the clone network function\n",
    "# we have 7 gene expression sets so we repeat this function 8 times\n",
    "diseases <- c(\"BC\",\"LC\",\"MUO\",\"RA\",\"DCM\",\"ICM\",\"SLE\")\n",
    "\n",
    "x <- 1\n",
    "repeat {\n",
    "  cloneNetwork(network = \"String Network--clustered\")\n",
    "  setCurrentNetwork(network=\"String Network--clustered_1\")\n",
    "  renameNetwork(diseases[x])\n",
    "  x = x + 1\n",
    "  if (x == length(diseases)+1){\n",
    "    print(\"Done!\")\n",
    "    break}\n",
    "}\n",
    "\n",
    "# Map logFC and pValue per disease for every respective network and add visual style to every network\n",
    "x <- 1\n",
    "repeat {\n",
    "  setCurrentNetwork(network = diseases[x])\n",
    "  \n",
    "  style.name = paste(\"style_\", diseases[x], sep = \"\")\n",
    "  \n",
    "  # map logFC of gene expression data per disease on respective networks\n",
    "  mappings <- list(nodeFill <- mapVisualProperty(\"node fill color\", table.column = paste(\"logFC_\", diseases[x] , sep = \"\"), \n",
    "                                                 mapping.type = \"continuous\",\n",
    "                                                 c(-1.00,0 ,1.00),\n",
    "                                                 c(\"#0000FF\", \"#FFFFFF\", \"#FF0000\")),\n",
    "                   \n",
    "                   # map significance per disease on respective networks\n",
    "                   nodeBorder <- mapVisualProperty(\"node border paint\", table.column = paste(\"PValue_\", diseases[x], sep = \"\"),\n",
    "                                                   mapping.type = \"continuous\",\n",
    "                                                   table.column.values = c(0.00, 0.05, 1.00), \n",
    "                                                   c(\"#00FF00\", \"#FFFFFF\", \"#FFFFFF\")),\n",
    "                   \n",
    "                   # map node shapes\n",
    "                   nodeShape <- mapVisualProperty(\"Node Shape\", table.column = \"type\", \n",
    "                                                  mapping.type = \"discrete\", \n",
    "                                                  table.column.values = c(\"Gene\", \"InflGene\"),\n",
    "                                                  c(\"DIAMOND\", \"VEE\")),\n",
    "                   \n",
    "                   label <- mapVisualProperty(\"Node Label\", table.column = \"display name\",\n",
    "                                              mapping.type = \"passthrough\"))\n",
    "  \n",
    "  defaults <- list(NODE_FILL_COLOR = \"#999999\",\n",
    "                   NODE_BORDER_PAINT = \"#999999\",\n",
    "                   NODE_BORDER_WIDTH = 7,\n",
    "                   NODE_LABEL_FONT_SIZE = 18,\n",
    "                   NETWORK_TITLE = diseases[x])\n",
    "  \n",
    "  # create and set unique visual style per disease dataset\n",
    "  createVisualStyle(style.name, defaults, mappings = mappings)\n",
    "  setVisualStyle(style.name)\n",
    "  \n",
    "  x = x + 1\n",
    "  if (x == length(diseases)+1){\n",
    "    print(\"Done!\")\n",
    "    break}\n",
    "}"
   ]
  },
  {
   "cell_type": "markdown",
   "metadata": {},
   "source": [
    "Before we are going to select nodes (which we cant deselect...), we are going to save images of the main networks. We do this before selecting nodes so that our images don't contain the yellow highlighted selected nodes. Prior to this step, make sure there are no images saved with the same name, otherwise this part will not work!"
   ]
  },
  {
   "cell_type": "code",
   "execution_count": 11,
   "metadata": {},
   "outputs": [
    {
     "name": "stdout",
     "output_type": "stream",
     "text": [
      "[1] \"Done!\"\n"
     ]
    }
   ],
   "source": [
    "# save disease networks\n",
    "x <- 1\n",
    "repeat {\n",
    "  setCurrentNetwork(network = diseases[x])\n",
    "  fitContent()\n",
    "  \n",
    "  png.file <- file.path(getwd(), \"images\", \"networks\", paste(\"gene_expr_network\", diseases[x], \".png\", sep = \"\"))\n",
    "  exportImage(png.file, type = \"png\", resolution=600, zoom=500)\n",
    "  \n",
    "  x = x + 1\n",
    "  if (x == length(diseases)+1){\n",
    "    print(\"Done!\")\n",
    "    break}\n",
    "}"
   ]
  },
  {
   "cell_type": "markdown",
   "metadata": {},
   "source": [
    "### Subnetwork creation\n",
    "We are also interested in the significant differentially expressed genes and inflammation associated genes. So lets make subnetworks out of these properties!"
   ]
  },
  {
   "cell_type": "code",
   "execution_count": 12,
   "metadata": {},
   "outputs": [
    {
     "name": "stdout",
     "output_type": "stream",
     "text": [
      "[1] \"Done!\"\n",
      "[1] \"Done!\"\n"
     ]
    }
   ],
   "source": [
    "# create subnetwork of significant differentially expressed genes\n",
    "x <- 1\n",
    "repeat {\n",
    "  setCurrentNetwork(network = diseases[x])\n",
    "  \n",
    "  createColumnFilter(filter.name = \"expr genes\",     column = paste(\"logFC_\", diseases[x], sep = \"\") , c(-1.00,1.00), \"IS_NOT_BETWEEN\")\n",
    "  createColumnFilter(filter.name = \"sig genes\",      column = paste(\"PValue_\", diseases[x], sep = \"\"), 0.05, \"LESS_THAN\")\n",
    "  sigexpr <- createCompositeFilter('combined filter', filter.list = c(\"sig genes\", \"expr genes\"), type = \"ALL\")\n",
    "  \n",
    "  selectNodes(nodes = sigexpr$nodes, by.col = \"display name\")\n",
    "  \n",
    "  createSubnetwork(nodes = \"selected\", subnetwork.name = paste(\"subnetwork \", diseases[x], \" genes\", sep = \"\"))\n",
    "  \n",
    "  x = x + 1\n",
    "  if (x == length(diseases)+1){\n",
    "    print(\"Done!\")\n",
    "    break}\n",
    "}\n",
    "\n",
    "# create subnetwork of significant differentially expressed inflammation genes\n",
    "x <- 1\n",
    "repeat {\n",
    "  setCurrentNetwork(network = diseases[x])\n",
    "  \n",
    "  createColumnFilter(filter.name = \"Infl filter\",    column = \"type\", \"InflGene\", \"IS\")\n",
    "  createColumnFilter(filter.name = \"expr genes\",     column = paste(\"logFC_\", diseases[x], sep = \"\") , c(-1.00,1.00), \"IS_NOT_BETWEEN\")\n",
    "  createColumnFilter(filter.name = \"sig genes\",      column = paste(\"PValue_\", diseases[x], sep = \"\"), 0.05, \"LESS_THAN\")\n",
    "  sigexpr <- createCompositeFilter('combined filter', filter.list = c(\"Infl filter\", \"sig genes\", \"expr genes\"), type = \"ALL\")\n",
    "  \n",
    "  \n",
    "  selectNodes(nodes = sigexpr$nodes, by.col = \"display name\")\n",
    "  \n",
    "  createSubnetwork(nodes = \"selected\", subnetwork.name = paste(\"subnetwork \", diseases[x], \" inflGenes\",sep = \"\"))\n",
    "  \n",
    "  x = x + 1\n",
    "  if (x == length(diseases)+1){\n",
    "    print(\"Done!\")\n",
    "    break}\n",
    "}"
   ]
  },
  {
   "cell_type": "markdown",
   "metadata": {},
   "source": [
    "### Saving everything\n",
    "We are almost finished! We already saved the images of the main networks for every disease, but we still want to save the images of the subnetworks. So lets do that, and after we will save the cytoscape session so nothing is lost."
   ]
  },
  {
   "cell_type": "code",
   "execution_count": 13,
   "metadata": {},
   "outputs": [
    {
     "name": "stdout",
     "output_type": "stream",
     "text": [
      "[1] \"Done!\"\n",
      "[1] \"Done!\"\n"
     ]
    }
   ],
   "source": [
    "# save subnetworks genes\n",
    "subgenes <- c(\"subnetwork BC genes\",\"subnetwork LC genes\",\"subnetwork MUO genes\",\n",
    "              \"subnetwork RA genes\",\"subnetwork DCM genes\",\n",
    "              \"subnetwork ICM genes\",\"subnetwork SLE genes\")\n",
    "x <- 1\n",
    "repeat {\n",
    "  setCurrentNetwork(network = subgenes[x])\n",
    "  fitContent()\n",
    "  \n",
    "  png.file <- file.path(getwd(), \"images\", \"subGeneNetworks\", paste(\"subgene_expr_network\", diseases[x], \".png\", sep = \"\"))\n",
    "  exportImage(png.file, type = \"png\", resolution=600, zoom=500)\n",
    "  \n",
    "  x = x + 1\n",
    "  if (x == length(diseases)+1){\n",
    "    print(\"Done!\")\n",
    "    break}\n",
    "}\n",
    "\n",
    "# save subnetworks inflammation genes\n",
    "subInflGenes <- c(\"subnetwork BC inflGenes\",\"subnetwork LC inflGenes\",\"subnetwork MUO inflGenes\",\n",
    "                  \"subnetwork RA inflGenes\",\"subnetwork DCM inflGenes\",\n",
    "                  \"subnetwork ICM inflGenes\",\"subnetwork SLE inflGenes\")\n",
    "x <- 1\n",
    "repeat {\n",
    "  setCurrentNetwork(network = subInflGenes[x])\n",
    "  fitContent()\n",
    "  \n",
    "  png.file <- file.path(getwd(), \"images\", \"subInflGeneNetworks\", paste(\"subinflgene_expr_network\", diseases[x], \".png\", sep = \"\"))\n",
    "  exportImage(png.file, type = \"png\", resolution=600, zoom=500)\n",
    "  \n",
    "  x = x + 1\n",
    "  if (x == length(diseases)+1){\n",
    "    print(\"Done!\")\n",
    "    break}\n",
    "}\n",
    "\n",
    "# save Cytoscape session file\n",
    "session.file <- file.path(getwd(), \"network\", \"string_networks.cys\")\n",
    "saveSession(session.file)"
   ]
  }
 ],
 "metadata": {
  "kernelspec": {
   "display_name": "R",
   "language": "R",
   "name": "ir"
  },
  "language_info": {
   "codemirror_mode": "r",
   "file_extension": ".r",
   "mimetype": "text/x-r-source",
   "name": "R",
   "pygments_lexer": "r",
   "version": "3.5.1"
  }
 },
 "nbformat": 4,
 "nbformat_minor": 2
}
