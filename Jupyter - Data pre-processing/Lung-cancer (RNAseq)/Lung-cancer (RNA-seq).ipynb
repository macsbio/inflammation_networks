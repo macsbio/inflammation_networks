{
 "cells": [
  {
   "cell_type": "markdown",
   "metadata": {},
   "source": [
    "# Lung-cancer - Gene expression data pre-processing (RNAseq)\n"
   ]
  },
  {
   "cell_type": "markdown",
   "metadata": {},
   "source": [
    "The following step only works in RStudio. If working in another environment, please set the working directory properly and check if the working directory is correct!"
   ]
  },
  {
   "cell_type": "code",
   "execution_count": null,
   "metadata": {},
   "outputs": [],
   "source": [
    "# set wd to where script file is saved\n",
    "setwd(dirname(rstudioapi::callFun(\"getActiveDocumentContext\")$path))"
   ]
  },
  {
   "cell_type": "code",
   "execution_count": 1,
   "metadata": {},
   "outputs": [
    {
     "data": {
      "text/html": [
       "'C:/Users/Laurent/Jupyter-DataPreProcessing/Lung-cancer (RNAseq)'"
      ],
      "text/latex": [
       "'C:/Users/Laurent/Jupyter-DataPreProcessing/Lung-cancer (RNAseq)'"
      ],
      "text/markdown": [
       "'C:/Users/Laurent/Jupyter-DataPreProcessing/Lung-cancer (RNAseq)'"
      ],
      "text/plain": [
       "[1] \"C:/Users/Laurent/Jupyter-DataPreProcessing/Lung-cancer (RNAseq)\""
      ]
     },
     "metadata": {},
     "output_type": "display_data"
    }
   ],
   "source": [
    "# check wd\n",
    "getwd()"
   ]
  },
  {
   "cell_type": "code",
   "execution_count": 2,
   "metadata": {},
   "outputs": [
    {
     "name": "stderr",
     "output_type": "stream",
     "text": [
      "Warning message:\n",
      "\"package 'readxl' was built under R version 3.5.2\"Warning message:\n",
      "\"package 'edgeR' was built under R version 3.5.2\"Loading required package: limma\n",
      "Warning message:\n",
      "\"package 'data.table' was built under R version 3.5.2\"\n",
      "Attaching package: 'dplyr'\n",
      "\n",
      "The following object is masked from 'package:biomaRt':\n",
      "\n",
      "    select\n",
      "\n",
      "The following objects are masked from 'package:data.table':\n",
      "\n",
      "    between, first, last\n",
      "\n",
      "The following objects are masked from 'package:stats':\n",
      "\n",
      "    filter, lag\n",
      "\n",
      "The following objects are masked from 'package:base':\n",
      "\n",
      "    intersect, setdiff, setequal, union\n",
      "\n"
     ]
    }
   ],
   "source": [
    "# load libraries\n",
    "library(readxl)\n",
    "library(edgeR)\n",
    "library(data.table)\n",
    "library(biomaRt)\n",
    "library(dplyr)"
   ]
  },
  {
   "cell_type": "code",
   "execution_count": 3,
   "metadata": {},
   "outputs": [],
   "source": [
    "# read data table\n",
    "data <- as.data.frame(read_excel(file.path(getwd(), \"Data\", \"data-lung-cancer.xlsx\")))\n",
    "row.names(data) <- data$ENSG_ID"
   ]
  },
  {
   "cell_type": "code",
   "execution_count": 5,
   "metadata": {},
   "outputs": [],
   "source": [
    "# run EdgeR\n",
    "group <- factor(c(rep(\"case\", 6), rep(\"control\", 6)))\n",
    "y <- DGEList(counts = data[,2:13], group = group)\n",
    "y <- calcNormFactors(y)\n",
    "design <- model.matrix(~group)\n",
    "y <- estimateDisp(y, design)\n",
    "fit <- glmQLFit(y, design)\n",
    "qlf <- glmQLFTest(fit, coef = 2)\n",
    "res <- as.data.frame(topTags(qlf,n=Inf))"
   ]
  },
  {
   "cell_type": "code",
   "execution_count": 6,
   "metadata": {},
   "outputs": [],
   "source": [
    "# add row names as 1st column\n",
    "res <- setDT(res, keep.rownames = TRUE)[]\n",
    "colnames(res)[1] <- \"GeneID\""
   ]
  },
  {
   "cell_type": "code",
   "execution_count": 7,
   "metadata": {},
   "outputs": [
    {
     "name": "stderr",
     "output_type": "stream",
     "text": [
      "                                                                      \r"
     ]
    },
    {
     "data": {
      "text/html": [
       "<table>\n",
       "<thead><tr><th scope=col>GeneID</th><th scope=col>logFC</th><th scope=col>logCPM</th><th scope=col>F</th><th scope=col>PValue</th><th scope=col>FDR</th><th scope=col>hgnc_symbol</th></tr></thead>\n",
       "<tbody>\n",
       "\t<tr><td>ENSG00000000003</td><td> 1.2109203     </td><td> 5.511086      </td><td> 5.58916076    </td><td>3.028582e-02   </td><td>0.201038947    </td><td>TSPAN6         </td></tr>\n",
       "\t<tr><td>ENSG00000000005</td><td> 1.6015344     </td><td>-3.289581      </td><td> 2.03992682    </td><td>1.713982e-01   </td><td>0.444140353    </td><td>TNMD           </td></tr>\n",
       "\t<tr><td>ENSG00000000419</td><td> 0.4674649     </td><td> 4.989019      </td><td> 1.17212668    </td><td>2.941380e-01   </td><td>0.564898506    </td><td>DPM1           </td></tr>\n",
       "\t<tr><td>ENSG00000000457</td><td> 0.0544462     </td><td> 3.877977      </td><td> 0.01912656    </td><td>8.916352e-01   </td><td>1.000000000    </td><td>SCYL3          </td></tr>\n",
       "\t<tr><td>ENSG00000000460</td><td> 1.4376887     </td><td> 2.534168      </td><td>10.94382106    </td><td>4.173094e-03   </td><td>0.100584579    </td><td>C1orf112       </td></tr>\n",
       "\t<tr><td>ENSG00000000938</td><td>-2.9959429     </td><td> 6.392048      </td><td>43.04053693    </td><td>4.943410e-06   </td><td>0.005027991    </td><td>FGR            </td></tr>\n",
       "</tbody>\n",
       "</table>\n"
      ],
      "text/latex": [
       "\\begin{tabular}{r|lllllll}\n",
       " GeneID & logFC & logCPM & F & PValue & FDR & hgnc\\_symbol\\\\\n",
       "\\hline\n",
       "\t ENSG00000000003 &  1.2109203      &  5.511086       &  5.58916076     & 3.028582e-02    & 0.201038947     & TSPAN6         \\\\\n",
       "\t ENSG00000000005 &  1.6015344      & -3.289581       &  2.03992682     & 1.713982e-01    & 0.444140353     & TNMD           \\\\\n",
       "\t ENSG00000000419 &  0.4674649      &  4.989019       &  1.17212668     & 2.941380e-01    & 0.564898506     & DPM1           \\\\\n",
       "\t ENSG00000000457 &  0.0544462      &  3.877977       &  0.01912656     & 8.916352e-01    & 1.000000000     & SCYL3          \\\\\n",
       "\t ENSG00000000460 &  1.4376887      &  2.534168       & 10.94382106     & 4.173094e-03    & 0.100584579     & C1orf112       \\\\\n",
       "\t ENSG00000000938 & -2.9959429      &  6.392048       & 43.04053693     & 4.943410e-06    & 0.005027991     & FGR            \\\\\n",
       "\\end{tabular}\n"
      ],
      "text/markdown": [
       "\n",
       "| GeneID | logFC | logCPM | F | PValue | FDR | hgnc_symbol |\n",
       "|---|---|---|---|---|---|---|\n",
       "| ENSG00000000003 |  1.2109203      |  5.511086       |  5.58916076     | 3.028582e-02    | 0.201038947     | TSPAN6          |\n",
       "| ENSG00000000005 |  1.6015344      | -3.289581       |  2.03992682     | 1.713982e-01    | 0.444140353     | TNMD            |\n",
       "| ENSG00000000419 |  0.4674649      |  4.989019       |  1.17212668     | 2.941380e-01    | 0.564898506     | DPM1            |\n",
       "| ENSG00000000457 |  0.0544462      |  3.877977       |  0.01912656     | 8.916352e-01    | 1.000000000     | SCYL3           |\n",
       "| ENSG00000000460 |  1.4376887      |  2.534168       | 10.94382106     | 4.173094e-03    | 0.100584579     | C1orf112        |\n",
       "| ENSG00000000938 | -2.9959429      |  6.392048       | 43.04053693     | 4.943410e-06    | 0.005027991     | FGR             |\n",
       "\n"
      ],
      "text/plain": [
       "  GeneID          logFC      logCPM    F           PValue       FDR        \n",
       "1 ENSG00000000003  1.2109203  5.511086  5.58916076 3.028582e-02 0.201038947\n",
       "2 ENSG00000000005  1.6015344 -3.289581  2.03992682 1.713982e-01 0.444140353\n",
       "3 ENSG00000000419  0.4674649  4.989019  1.17212668 2.941380e-01 0.564898506\n",
       "4 ENSG00000000457  0.0544462  3.877977  0.01912656 8.916352e-01 1.000000000\n",
       "5 ENSG00000000460  1.4376887  2.534168 10.94382106 4.173094e-03 0.100584579\n",
       "6 ENSG00000000938 -2.9959429  6.392048 43.04053693 4.943410e-06 0.005027991\n",
       "  hgnc_symbol\n",
       "1 TSPAN6     \n",
       "2 TNMD       \n",
       "3 DPM1       \n",
       "4 SCYL3      \n",
       "5 C1orf112   \n",
       "6 FGR        "
      ]
     },
     "metadata": {},
     "output_type": "display_data"
    },
    {
     "data": {
      "text/html": [
       "<ol class=list-inline>\n",
       "\t<li>56760</li>\n",
       "\t<li>7</li>\n",
       "</ol>\n"
      ],
      "text/latex": [
       "\\begin{enumerate*}\n",
       "\\item 56760\n",
       "\\item 7\n",
       "\\end{enumerate*}\n"
      ],
      "text/markdown": [
       "1. 56760\n",
       "2. 7\n",
       "\n",
       "\n"
      ],
      "text/plain": [
       "[1] 56760     7"
      ]
     },
     "metadata": {},
     "output_type": "display_data"
    }
   ],
   "source": [
    "# add HGNC symbols\n",
    "mart <- useDataset(\"hsapiens_gene_ensembl\", useMart(\"ensembl\"))\n",
    "genes <- res$GeneID\n",
    "G_list <- getBM(filters= \"ensembl_gene_id\", attributes= c(\"ensembl_gene_id\",\"hgnc_symbol\"),values=genes,mart= mart)\n",
    "res <- merge(res,G_list,by.x=\"GeneID\",by.y=\"ensembl_gene_id\")\n",
    "\n",
    "head(res)\n",
    "dim(res)"
   ]
  },
  {
   "cell_type": "code",
   "execution_count": 8,
   "metadata": {},
   "outputs": [
    {
     "data": {
      "image/png": "[encoded data removed]",
      "text/plain": [
       "Plot with title \"Histogram of res$logFC\""
      ]
     },
     "metadata": {},
     "output_type": "display_data"
    },
    {
     "data": {
      "image/png": "[encoded data removed]",
      "text/plain": [
       "Plot with title \"Histogram of res$PValue\""
      ]
     },
     "metadata": {},
     "output_type": "display_data"
    },
    {
     "data": {
      "image/png": "[encoded data removed]",
      "text/plain": [
       "Plot with title \"Histogram of res$FDR\""
      ]
     },
     "metadata": {},
     "output_type": "display_data"
    }
   ],
   "source": [
    "# check histograms of statistics\n",
    "hist(res$logFC)\n",
    "hist(res$PValue)\n",
    "hist(res$FDR)"
   ]
  },
  {
   "cell_type": "code",
   "execution_count": 9,
   "metadata": {},
   "outputs": [],
   "source": [
    "# save result\n",
    "write.table(res, file.path(getwd(), \"Data\", \"Stats\", \"lung-cancer_stats.txt\"), quote=F, sep=\"\\t\", col.names=T, row.names=F)"
   ]
  },
  {
   "cell_type": "code",
   "execution_count": null,
   "metadata": {},
   "outputs": [],
   "source": []
  }
 ],
 "metadata": {
  "kernelspec": {
   "display_name": "R",
   "language": "R",
   "name": "ir"
  },
  "language_info": {
   "codemirror_mode": "r",
   "file_extension": ".r",
   "mimetype": "text/x-r-source",
   "name": "R",
   "pygments_lexer": "r",
   "version": "3.5.1"
  }
 },
 "nbformat": 4,
 "nbformat_minor": 2
}
