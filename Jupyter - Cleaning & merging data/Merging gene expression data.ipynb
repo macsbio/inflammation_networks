{
 "cells": [
  {
   "cell_type": "markdown",
   "metadata": {},
   "source": [
    "# Merging gene expression data\n",
    "In this R script we will merge the gene expression data files that were obtained from GEO and TCGA and pre-processed. Notebooks of the pre-processing of the data can be found at [GitHub](https://github.com/macsbio/inflammation_networks/tree/master/Jupyter-DataPreProcessing). In another notebook, which can be found in the repository, we cleaned the gene expression datasets. "
   ]
  },
  {
   "cell_type": "markdown",
   "metadata": {},
   "source": [
    "## The following step only works in RStudio. If working in another environment, please set the working directory properly and check if the working directory is correct. "
   ]
  },
  {
   "cell_type": "code",
   "execution_count": null,
   "metadata": {},
   "outputs": [],
   "source": [
    "# set wd to where script file is saved\n",
    "setwd(dirname(rstudioapi::callFun(\"getActiveDocumentContext\")$path))"
   ]
  },
  {
   "cell_type": "code",
   "execution_count": 1,
   "metadata": {},
   "outputs": [
    {
     "data": {
      "text/html": [
       "'C:/Users/Laurent/Jupyter - Cleaning &amp; merging data'"
      ],
      "text/latex": [
       "'C:/Users/Laurent/Jupyter - Cleaning \\& merging data'"
      ],
      "text/markdown": [
       "'C:/Users/Laurent/Jupyter - Cleaning &amp; merging data'"
      ],
      "text/plain": [
       "[1] \"C:/Users/Laurent/Jupyter - Cleaning & merging data\""
      ]
     },
     "metadata": {},
     "output_type": "display_data"
    }
   ],
   "source": [
    "# check wd\n",
    "getwd()"
   ]
  },
  {
   "cell_type": "code",
   "execution_count": 2,
   "metadata": {},
   "outputs": [
    {
     "name": "stderr",
     "output_type": "stream",
     "text": [
      "\n",
      "Attaching package: 'dplyr'\n",
      "\n",
      "The following objects are masked from 'package:stats':\n",
      "\n",
      "    filter, lag\n",
      "\n",
      "The following objects are masked from 'package:base':\n",
      "\n",
      "    intersect, setdiff, setequal, union\n",
      "\n"
     ]
    }
   ],
   "source": [
    "# load libraries\n",
    "library(dplyr)\n",
    "library(biomaRt)"
   ]
  },
  {
   "cell_type": "code",
   "execution_count": 3,
   "metadata": {},
   "outputs": [
    {
     "data": {
      "text/html": [
       "<table>\n",
       "<thead><tr><th scope=col>ensembl_gene_id</th><th scope=col>logFC_BC</th><th scope=col>PValue_BC</th><th scope=col>entrezgene</th></tr></thead>\n",
       "<tbody>\n",
       "\t<tr><td>ENSG00000000003</td><td>-0.19677472    </td><td>0.733608386    </td><td> 7105          </td></tr>\n",
       "\t<tr><td>ENSG00000000005</td><td>-8.22242726    </td><td>0.000011400    </td><td>64102          </td></tr>\n",
       "\t<tr><td>ENSG00000000419</td><td> 0.06848394    </td><td>0.833040252    </td><td> 8813          </td></tr>\n",
       "\t<tr><td>ENSG00000000457</td><td> 0.88768039    </td><td>0.055529182    </td><td>57147          </td></tr>\n",
       "\t<tr><td>ENSG00000000460</td><td> 1.27175890    </td><td>0.019866978    </td><td>55732          </td></tr>\n",
       "\t<tr><td>ENSG00000000938</td><td>-3.09305336    </td><td>0.000177035    </td><td> 2268          </td></tr>\n",
       "</tbody>\n",
       "</table>\n"
      ],
      "text/latex": [
       "\\begin{tabular}{r|llll}\n",
       " ensembl\\_gene\\_id & logFC\\_BC & PValue\\_BC & entrezgene\\\\\n",
       "\\hline\n",
       "\t ENSG00000000003 & -0.19677472     & 0.733608386     &  7105          \\\\\n",
       "\t ENSG00000000005 & -8.22242726     & 0.000011400     & 64102          \\\\\n",
       "\t ENSG00000000419 &  0.06848394     & 0.833040252     &  8813          \\\\\n",
       "\t ENSG00000000457 &  0.88768039     & 0.055529182     & 57147          \\\\\n",
       "\t ENSG00000000460 &  1.27175890     & 0.019866978     & 55732          \\\\\n",
       "\t ENSG00000000938 & -3.09305336     & 0.000177035     &  2268          \\\\\n",
       "\\end{tabular}\n"
      ],
      "text/markdown": [
       "\n",
       "| ensembl_gene_id | logFC_BC | PValue_BC | entrezgene |\n",
       "|---|---|---|---|\n",
       "| ENSG00000000003 | -0.19677472     | 0.733608386     |  7105           |\n",
       "| ENSG00000000005 | -8.22242726     | 0.000011400     | 64102           |\n",
       "| ENSG00000000419 |  0.06848394     | 0.833040252     |  8813           |\n",
       "| ENSG00000000457 |  0.88768039     | 0.055529182     | 57147           |\n",
       "| ENSG00000000460 |  1.27175890     | 0.019866978     | 55732           |\n",
       "| ENSG00000000938 | -3.09305336     | 0.000177035     |  2268           |\n",
       "\n"
      ],
      "text/plain": [
       "  ensembl_gene_id logFC_BC    PValue_BC   entrezgene\n",
       "1 ENSG00000000003 -0.19677472 0.733608386  7105     \n",
       "2 ENSG00000000005 -8.22242726 0.000011400 64102     \n",
       "3 ENSG00000000419  0.06848394 0.833040252  8813     \n",
       "4 ENSG00000000457  0.88768039 0.055529182 57147     \n",
       "5 ENSG00000000460  1.27175890 0.019866978 55732     \n",
       "6 ENSG00000000938 -3.09305336 0.000177035  2268     "
      ]
     },
     "metadata": {},
     "output_type": "display_data"
    }
   ],
   "source": [
    "# load data files\n",
    "data1 <- read.table(file.path(getwd(),\"Datasets\", \"Clean\", \"breast-cancer_stats_clean.txt\"), header = T, sep = \"\\t\")\n",
    "data2 <- read.table(file.path(getwd(),\"Datasets\", \"Clean\", \"lung-cancer-stats_clean.txt\"), header = T, sep = \"\\t\")\n",
    "data3 <- read.table(file.path(getwd(),\"Datasets\", \"Clean\", \"MUO-Lean_stats_clean.txt\"), header = T, sep = \"\\t\")\n",
    "data4 <- read.table(file.path(getwd(),\"Datasets\", \"Clean\", \"RA-control_GSE55235_stats_clean.txt\"), header = T, sep = \"\\t\")\n",
    "\n",
    "data5 <- read.table(file.path(getwd(),\"Datasets\", \"Clean\", \"RETT-control_FC_stats_clean.txt\"), header = T, sep = \"\\t\")\n",
    "data6 <- read.table(file.path(getwd(),\"Datasets\", \"Clean\", \"RETT-control_TC_stats_clean.txt\"), header = T, sep = \"\\t\")\n",
    "data7 <- read.table(file.path(getwd(),\"Datasets\", \"Clean\", \"SLE_stats_clean.txt\"), header = T, sep = \"\\t\")\n",
    "\n",
    "head(data1)"
   ]
  },
  {
   "cell_type": "markdown",
   "metadata": {},
   "source": [
    "Now we have read in all cleaned data files, we would like to create a data frame that contains all unique entrezgene IDs of all these data files togethet. So if we merge all data files, we don't lose any data. We create a new dataframe with all unique entrezgene IDs, because we would like to have a data frame we add a column called \"Nonsense\". This columns contains the value 1 for every row. That way we have two dimensions, so we have a data frame. "
   ]
  },
  {
   "cell_type": "code",
   "execution_count": 11,
   "metadata": {},
   "outputs": [
    {
     "name": "stderr",
     "output_type": "stream",
     "text": [
      "Warning message in cbind(data1$entrezgene, data2$entrezgene, data3$entrezgene, data4$entrezgene, :\n",
      "\"number of rows of result is not a multiple of vector length (arg 1)\""
     ]
    },
    {
     "data": {
      "text/html": [
       "<table>\n",
       "<thead><tr><th scope=col>entrezgene</th><th scope=col>Nonsense</th></tr></thead>\n",
       "<tbody>\n",
       "\t<tr><td> 7105</td><td>1    </td></tr>\n",
       "\t<tr><td>64102</td><td>1    </td></tr>\n",
       "\t<tr><td> 8813</td><td>1    </td></tr>\n",
       "\t<tr><td>57147</td><td>1    </td></tr>\n",
       "\t<tr><td>55732</td><td>1    </td></tr>\n",
       "\t<tr><td> 2268</td><td>1    </td></tr>\n",
       "</tbody>\n",
       "</table>\n"
      ],
      "text/latex": [
       "\\begin{tabular}{r|ll}\n",
       " entrezgene & Nonsense\\\\\n",
       "\\hline\n",
       "\t  7105 & 1    \\\\\n",
       "\t 64102 & 1    \\\\\n",
       "\t  8813 & 1    \\\\\n",
       "\t 57147 & 1    \\\\\n",
       "\t 55732 & 1    \\\\\n",
       "\t  2268 & 1    \\\\\n",
       "\\end{tabular}\n"
      ],
      "text/markdown": [
       "\n",
       "| entrezgene | Nonsense |\n",
       "|---|---|\n",
       "|  7105 | 1     |\n",
       "| 64102 | 1     |\n",
       "|  8813 | 1     |\n",
       "| 57147 | 1     |\n",
       "| 55732 | 1     |\n",
       "|  2268 | 1     |\n",
       "\n"
      ],
      "text/plain": [
       "  entrezgene Nonsense\n",
       "1  7105      1       \n",
       "2 64102      1       \n",
       "3  8813      1       \n",
       "4 57147      1       \n",
       "5 55732      1       \n",
       "6  2268      1       "
      ]
     },
     "metadata": {},
     "output_type": "display_data"
    }
   ],
   "source": [
    "# get all unique entrezgene IDs from all datasets\n",
    "dataStacked <- as.data.frame(cbind(data1$entrezgene,data2$entrezgene,data3$entrezgene,data4$entrezgene,\n",
    "                     data5$entrezgene,data6$entrezgene,data7$entrezgene))\n",
    "dataStacked <- stack(dataStacked)\n",
    "dataStacked$Nonsense <- 1\n",
    "dataStacked <- dataStacked[, -2]\n",
    "dataStacked <- unique(dataStacked)\n",
    "dataStacked <- na.omit(dataStacked)\n",
    "colnames(dataStacked)[1] <- \"entrezgene\"\n",
    "\n",
    "head(dataStacked)"
   ]
  },
  {
   "cell_type": "code",
   "execution_count": 12,
   "metadata": {},
   "outputs": [
    {
     "data": {
      "text/html": [
       "<table>\n",
       "<thead><tr><th scope=col>entrezgene</th><th scope=col>logFC_BC</th><th scope=col>PValue_BC</th><th scope=col>logFC_LC</th><th scope=col>PValue_LC</th><th scope=col>logFC_MUO</th><th scope=col>PValue_MUO</th><th scope=col>logFC_RA235</th><th scope=col>PValue_RA235</th><th scope=col>logFC_RETT_FC</th><th scope=col>PValue_RETT_FC</th><th scope=col>logFC_RETT_TC</th><th scope=col>PValue_RETT_TC</th><th scope=col>logFC_SLE</th><th scope=col>PValue_SLE</th></tr></thead>\n",
       "<tbody>\n",
       "\t<tr><td> 7105       </td><td>-0.19677472 </td><td>0.733608386 </td><td> 1.2109203  </td><td>0.030285815 </td><td>-0.19539969 </td><td>0.0754891770</td><td>-0.30046001 </td><td>1.865526e-02</td><td> 0.53858538 </td><td>0.00140977  </td><td> 0.11512825 </td><td>0.4126980   </td><td>-0.4260808  </td><td>0.0003047616</td></tr>\n",
       "\t<tr><td>64102       </td><td>-8.22242726 </td><td>0.000011400 </td><td> 1.6015344  </td><td>0.171398244 </td><td> 1.80412948 </td><td>0.0000016200</td><td>-0.04860816 </td><td>8.196471e-01</td><td> 0.08571963 </td><td>0.30895631  </td><td> 0.05364937 </td><td>0.5195787   </td><td>        NA  </td><td>          NA</td></tr>\n",
       "\t<tr><td> 8813       </td><td> 0.06848394 </td><td>0.833040252 </td><td> 0.4674649  </td><td>0.294138000 </td><td>-0.40356445 </td><td>0.0001569100</td><td>-0.34473391 </td><td>2.328536e-02</td><td>         NA </td><td>        NA  </td><td>         NA </td><td>       NA   </td><td> 0.0000000  </td><td>1.0000000000</td></tr>\n",
       "\t<tr><td>57147       </td><td> 0.88768039 </td><td>0.055529182 </td><td> 0.0544462  </td><td>0.891635248 </td><td>-0.15488979 </td><td>0.1700401430</td><td> 0.08311677 </td><td>4.803042e-01</td><td>-0.10965825 </td><td>0.24317441  </td><td>-0.07608135 </td><td>0.4200971   </td><td> 0.0000000  </td><td>1.0000000000</td></tr>\n",
       "\t<tr><td>55732       </td><td> 1.27175890 </td><td>0.019866978 </td><td> 1.4376887  </td><td>0.004173094 </td><td> 0.08653913 </td><td>0.0135634820</td><td>-0.21473569 </td><td>3.695494e-02</td><td> 0.01494288 </td><td>0.91233348  </td><td>-0.14298550 </td><td>0.3013756   </td><td> 0.0000000  </td><td>1.0000000000</td></tr>\n",
       "\t<tr><td> 2268       </td><td>-3.09305336 </td><td>0.000177035 </td><td>-2.9959429  </td><td>0.000004940 </td><td> 0.55657959 </td><td>0.0000000911</td><td> 1.34143362 </td><td>6.749178e-06</td><td>-0.24507187 </td><td>0.33607730  </td><td>-0.16621479 </td><td>0.5103585   </td><td>-0.2494521  </td><td>0.4988292847</td></tr>\n",
       "</tbody>\n",
       "</table>\n"
      ],
      "text/latex": [
       "\\begin{tabular}{r|lllllllllllllll}\n",
       " entrezgene & logFC\\_BC & PValue\\_BC & logFC\\_LC & PValue\\_LC & logFC\\_MUO & PValue\\_MUO & logFC\\_RA235 & PValue\\_RA235 & logFC\\_RETT\\_FC & PValue\\_RETT\\_FC & logFC\\_RETT\\_TC & PValue\\_RETT\\_TC & logFC\\_SLE & PValue\\_SLE\\\\\n",
       "\\hline\n",
       "\t  7105        & -0.19677472  & 0.733608386  &  1.2109203   & 0.030285815  & -0.19539969  & 0.0754891770 & -0.30046001  & 1.865526e-02 &  0.53858538  & 0.00140977   &  0.11512825  & 0.4126980    & -0.4260808   & 0.0003047616\\\\\n",
       "\t 64102        & -8.22242726  & 0.000011400  &  1.6015344   & 0.171398244  &  1.80412948  & 0.0000016200 & -0.04860816  & 8.196471e-01 &  0.08571963  & 0.30895631   &  0.05364937  & 0.5195787    &         NA   &           NA\\\\\n",
       "\t  8813        &  0.06848394  & 0.833040252  &  0.4674649   & 0.294138000  & -0.40356445  & 0.0001569100 & -0.34473391  & 2.328536e-02 &          NA  &         NA   &          NA  &        NA    &  0.0000000   & 1.0000000000\\\\\n",
       "\t 57147        &  0.88768039  & 0.055529182  &  0.0544462   & 0.891635248  & -0.15488979  & 0.1700401430 &  0.08311677  & 4.803042e-01 & -0.10965825  & 0.24317441   & -0.07608135  & 0.4200971    &  0.0000000   & 1.0000000000\\\\\n",
       "\t 55732        &  1.27175890  & 0.019866978  &  1.4376887   & 0.004173094  &  0.08653913  & 0.0135634820 & -0.21473569  & 3.695494e-02 &  0.01494288  & 0.91233348   & -0.14298550  & 0.3013756    &  0.0000000   & 1.0000000000\\\\\n",
       "\t  2268        & -3.09305336  & 0.000177035  & -2.9959429   & 0.000004940  &  0.55657959  & 0.0000000911 &  1.34143362  & 6.749178e-06 & -0.24507187  & 0.33607730   & -0.16621479  & 0.5103585    & -0.2494521   & 0.4988292847\\\\\n",
       "\\end{tabular}\n"
      ],
      "text/markdown": [
       "\n",
       "| entrezgene | logFC_BC | PValue_BC | logFC_LC | PValue_LC | logFC_MUO | PValue_MUO | logFC_RA235 | PValue_RA235 | logFC_RETT_FC | PValue_RETT_FC | logFC_RETT_TC | PValue_RETT_TC | logFC_SLE | PValue_SLE |\n",
       "|---|---|---|---|---|---|---|---|---|---|---|---|---|---|---|\n",
       "|  7105        | -0.19677472  | 0.733608386  |  1.2109203   | 0.030285815  | -0.19539969  | 0.0754891770 | -0.30046001  | 1.865526e-02 |  0.53858538  | 0.00140977   |  0.11512825  | 0.4126980    | -0.4260808   | 0.0003047616 |\n",
       "| 64102        | -8.22242726  | 0.000011400  |  1.6015344   | 0.171398244  |  1.80412948  | 0.0000016200 | -0.04860816  | 8.196471e-01 |  0.08571963  | 0.30895631   |  0.05364937  | 0.5195787    |         NA   |           NA |\n",
       "|  8813        |  0.06848394  | 0.833040252  |  0.4674649   | 0.294138000  | -0.40356445  | 0.0001569100 | -0.34473391  | 2.328536e-02 |          NA  |         NA   |          NA  |        NA    |  0.0000000   | 1.0000000000 |\n",
       "| 57147        |  0.88768039  | 0.055529182  |  0.0544462   | 0.891635248  | -0.15488979  | 0.1700401430 |  0.08311677  | 4.803042e-01 | -0.10965825  | 0.24317441   | -0.07608135  | 0.4200971    |  0.0000000   | 1.0000000000 |\n",
       "| 55732        |  1.27175890  | 0.019866978  |  1.4376887   | 0.004173094  |  0.08653913  | 0.0135634820 | -0.21473569  | 3.695494e-02 |  0.01494288  | 0.91233348   | -0.14298550  | 0.3013756    |  0.0000000   | 1.0000000000 |\n",
       "|  2268        | -3.09305336  | 0.000177035  | -2.9959429   | 0.000004940  |  0.55657959  | 0.0000000911 |  1.34143362  | 6.749178e-06 | -0.24507187  | 0.33607730   | -0.16621479  | 0.5103585    | -0.2494521   | 0.4988292847 |\n",
       "\n"
      ],
      "text/plain": [
       "  entrezgene logFC_BC    PValue_BC   logFC_LC   PValue_LC   logFC_MUO  \n",
       "1  7105      -0.19677472 0.733608386  1.2109203 0.030285815 -0.19539969\n",
       "2 64102      -8.22242726 0.000011400  1.6015344 0.171398244  1.80412948\n",
       "3  8813       0.06848394 0.833040252  0.4674649 0.294138000 -0.40356445\n",
       "4 57147       0.88768039 0.055529182  0.0544462 0.891635248 -0.15488979\n",
       "5 55732       1.27175890 0.019866978  1.4376887 0.004173094  0.08653913\n",
       "6  2268      -3.09305336 0.000177035 -2.9959429 0.000004940  0.55657959\n",
       "  PValue_MUO   logFC_RA235 PValue_RA235 logFC_RETT_FC PValue_RETT_FC\n",
       "1 0.0754891770 -0.30046001 1.865526e-02  0.53858538   0.00140977    \n",
       "2 0.0000016200 -0.04860816 8.196471e-01  0.08571963   0.30895631    \n",
       "3 0.0001569100 -0.34473391 2.328536e-02          NA           NA    \n",
       "4 0.1700401430  0.08311677 4.803042e-01 -0.10965825   0.24317441    \n",
       "5 0.0135634820 -0.21473569 3.695494e-02  0.01494288   0.91233348    \n",
       "6 0.0000000911  1.34143362 6.749178e-06 -0.24507187   0.33607730    \n",
       "  logFC_RETT_TC PValue_RETT_TC logFC_SLE  PValue_SLE  \n",
       "1  0.11512825   0.4126980      -0.4260808 0.0003047616\n",
       "2  0.05364937   0.5195787              NA           NA\n",
       "3          NA          NA       0.0000000 1.0000000000\n",
       "4 -0.07608135   0.4200971       0.0000000 1.0000000000\n",
       "5 -0.14298550   0.3013756       0.0000000 1.0000000000\n",
       "6 -0.16621479   0.5103585      -0.2494521 0.4988292847"
      ]
     },
     "metadata": {},
     "output_type": "display_data"
    }
   ],
   "source": [
    "# merge tables based on dataStacked, with all entrezgene IDs from all datasets\n",
    "dataTotal <- dataStacked %>% left_join(data1, by = \"entrezgene\")\n",
    "dataTotal <- dataTotal[,c(-2,-3)]\n",
    "dataTotal <- dataTotal %>% left_join(data2, by = \"entrezgene\")\n",
    "dataTotal <- dataTotal[,c(-4,-5)]\n",
    "dataTotal <- dataTotal %>% left_join(data3, by = \"entrezgene\")\n",
    "dataTotal <- dataTotal[,-6]\n",
    "dataTotal <- dataTotal %>% left_join(data4, by = \"entrezgene\")\n",
    "dataTotal <- dataTotal[,-8]\n",
    "\n",
    "dataTotal <- dataTotal %>% left_join(data5, by = \"entrezgene\")\n",
    "dataTotal <- dataTotal[,c(-10,-11)]\n",
    "dataTotal <- dataTotal %>% left_join(data6, by = \"entrezgene\")\n",
    "dataTotal <- dataTotal[,c(-12,-13)]\n",
    "dataTotal <- dataTotal %>% left_join(data7, by = \"entrezgene\")\n",
    "\n",
    "head(dataTotal)"
   ]
  },
  {
   "cell_type": "markdown",
   "metadata": {},
   "source": [
    "We have merged the data files together! Now we only have to add hgnc symbols where ever it is possible and save the file!"
   ]
  },
  {
   "cell_type": "code",
   "execution_count": 13,
   "metadata": {},
   "outputs": [
    {
     "name": "stderr",
     "output_type": "stream",
     "text": [
      "                                                                      \r"
     ]
    },
    {
     "data": {
      "text/html": [
       "<table>\n",
       "<thead><tr><th scope=col>entrezgene</th><th scope=col>hgnc_symbol</th><th scope=col>logFC_BC</th><th scope=col>PValue_BC</th><th scope=col>logFC_LC</th><th scope=col>PValue_LC</th><th scope=col>logFC_MUO</th><th scope=col>PValue_MUO</th><th scope=col>logFC_RA235</th><th scope=col>PValue_RA235</th><th scope=col>logFC_RETT_FC</th><th scope=col>PValue_RETT_FC</th><th scope=col>logFC_RETT_TC</th><th scope=col>PValue_RETT_TC</th><th scope=col>logFC_SLE</th><th scope=col>PValue_SLE</th></tr></thead>\n",
       "<tbody>\n",
       "\t<tr><td> 7105       </td><td>TSPAN6      </td><td>-0.19677472 </td><td>0.733608386 </td><td> 1.2109203  </td><td>0.030285815 </td><td>-0.19539969 </td><td>0.0754891770</td><td>-0.30046001 </td><td>1.865526e-02</td><td> 0.53858538 </td><td>0.00140977  </td><td> 0.11512825 </td><td>0.4126980   </td><td>-0.4260808  </td><td>0.0003047616</td></tr>\n",
       "\t<tr><td>64102       </td><td>TNMD        </td><td>-8.22242726 </td><td>0.000011400 </td><td> 1.6015344  </td><td>0.171398244 </td><td> 1.80412948 </td><td>0.0000016200</td><td>-0.04860816 </td><td>8.196471e-01</td><td> 0.08571963 </td><td>0.30895631  </td><td> 0.05364937 </td><td>0.5195787   </td><td>        NA  </td><td>          NA</td></tr>\n",
       "\t<tr><td> 8813       </td><td>DPM1        </td><td> 0.06848394 </td><td>0.833040252 </td><td> 0.4674649  </td><td>0.294138000 </td><td>-0.40356445 </td><td>0.0001569100</td><td>-0.34473391 </td><td>2.328536e-02</td><td>         NA </td><td>        NA  </td><td>         NA </td><td>       NA   </td><td> 0.0000000  </td><td>1.0000000000</td></tr>\n",
       "\t<tr><td>57147       </td><td>SCYL3       </td><td> 0.88768039 </td><td>0.055529182 </td><td> 0.0544462  </td><td>0.891635248 </td><td>-0.15488979 </td><td>0.1700401430</td><td> 0.08311677 </td><td>4.803042e-01</td><td>-0.10965825 </td><td>0.24317441  </td><td>-0.07608135 </td><td>0.4200971   </td><td> 0.0000000  </td><td>1.0000000000</td></tr>\n",
       "\t<tr><td>55732       </td><td>C1orf112    </td><td> 1.27175890 </td><td>0.019866978 </td><td> 1.4376887  </td><td>0.004173094 </td><td> 0.08653913 </td><td>0.0135634820</td><td>-0.21473569 </td><td>3.695494e-02</td><td> 0.01494288 </td><td>0.91233348  </td><td>-0.14298550 </td><td>0.3013756   </td><td> 0.0000000  </td><td>1.0000000000</td></tr>\n",
       "\t<tr><td> 2268       </td><td>FGR         </td><td>-3.09305336 </td><td>0.000177035 </td><td>-2.9959429  </td><td>0.000004940 </td><td> 0.55657959 </td><td>0.0000000911</td><td> 1.34143362 </td><td>6.749178e-06</td><td>-0.24507187 </td><td>0.33607730  </td><td>-0.16621479 </td><td>0.5103585   </td><td>-0.2494521  </td><td>0.4988292847</td></tr>\n",
       "</tbody>\n",
       "</table>\n"
      ],
      "text/latex": [
       "\\begin{tabular}{r|llllllllllllllll}\n",
       " entrezgene & hgnc\\_symbol & logFC\\_BC & PValue\\_BC & logFC\\_LC & PValue\\_LC & logFC\\_MUO & PValue\\_MUO & logFC\\_RA235 & PValue\\_RA235 & logFC\\_RETT\\_FC & PValue\\_RETT\\_FC & logFC\\_RETT\\_TC & PValue\\_RETT\\_TC & logFC\\_SLE & PValue\\_SLE\\\\\n",
       "\\hline\n",
       "\t  7105        & TSPAN6       & -0.19677472  & 0.733608386  &  1.2109203   & 0.030285815  & -0.19539969  & 0.0754891770 & -0.30046001  & 1.865526e-02 &  0.53858538  & 0.00140977   &  0.11512825  & 0.4126980    & -0.4260808   & 0.0003047616\\\\\n",
       "\t 64102        & TNMD         & -8.22242726  & 0.000011400  &  1.6015344   & 0.171398244  &  1.80412948  & 0.0000016200 & -0.04860816  & 8.196471e-01 &  0.08571963  & 0.30895631   &  0.05364937  & 0.5195787    &         NA   &           NA\\\\\n",
       "\t  8813        & DPM1         &  0.06848394  & 0.833040252  &  0.4674649   & 0.294138000  & -0.40356445  & 0.0001569100 & -0.34473391  & 2.328536e-02 &          NA  &         NA   &          NA  &        NA    &  0.0000000   & 1.0000000000\\\\\n",
       "\t 57147        & SCYL3        &  0.88768039  & 0.055529182  &  0.0544462   & 0.891635248  & -0.15488979  & 0.1700401430 &  0.08311677  & 4.803042e-01 & -0.10965825  & 0.24317441   & -0.07608135  & 0.4200971    &  0.0000000   & 1.0000000000\\\\\n",
       "\t 55732        & C1orf112     &  1.27175890  & 0.019866978  &  1.4376887   & 0.004173094  &  0.08653913  & 0.0135634820 & -0.21473569  & 3.695494e-02 &  0.01494288  & 0.91233348   & -0.14298550  & 0.3013756    &  0.0000000   & 1.0000000000\\\\\n",
       "\t  2268        & FGR          & -3.09305336  & 0.000177035  & -2.9959429   & 0.000004940  &  0.55657959  & 0.0000000911 &  1.34143362  & 6.749178e-06 & -0.24507187  & 0.33607730   & -0.16621479  & 0.5103585    & -0.2494521   & 0.4988292847\\\\\n",
       "\\end{tabular}\n"
      ],
      "text/markdown": [
       "\n",
       "| entrezgene | hgnc_symbol | logFC_BC | PValue_BC | logFC_LC | PValue_LC | logFC_MUO | PValue_MUO | logFC_RA235 | PValue_RA235 | logFC_RETT_FC | PValue_RETT_FC | logFC_RETT_TC | PValue_RETT_TC | logFC_SLE | PValue_SLE |\n",
       "|---|---|---|---|---|---|---|---|---|---|---|---|---|---|---|---|\n",
       "|  7105        | TSPAN6       | -0.19677472  | 0.733608386  |  1.2109203   | 0.030285815  | -0.19539969  | 0.0754891770 | -0.30046001  | 1.865526e-02 |  0.53858538  | 0.00140977   |  0.11512825  | 0.4126980    | -0.4260808   | 0.0003047616 |\n",
       "| 64102        | TNMD         | -8.22242726  | 0.000011400  |  1.6015344   | 0.171398244  |  1.80412948  | 0.0000016200 | -0.04860816  | 8.196471e-01 |  0.08571963  | 0.30895631   |  0.05364937  | 0.5195787    |         NA   |           NA |\n",
       "|  8813        | DPM1         |  0.06848394  | 0.833040252  |  0.4674649   | 0.294138000  | -0.40356445  | 0.0001569100 | -0.34473391  | 2.328536e-02 |          NA  |         NA   |          NA  |        NA    |  0.0000000   | 1.0000000000 |\n",
       "| 57147        | SCYL3        |  0.88768039  | 0.055529182  |  0.0544462   | 0.891635248  | -0.15488979  | 0.1700401430 |  0.08311677  | 4.803042e-01 | -0.10965825  | 0.24317441   | -0.07608135  | 0.4200971    |  0.0000000   | 1.0000000000 |\n",
       "| 55732        | C1orf112     |  1.27175890  | 0.019866978  |  1.4376887   | 0.004173094  |  0.08653913  | 0.0135634820 | -0.21473569  | 3.695494e-02 |  0.01494288  | 0.91233348   | -0.14298550  | 0.3013756    |  0.0000000   | 1.0000000000 |\n",
       "|  2268        | FGR          | -3.09305336  | 0.000177035  | -2.9959429   | 0.000004940  |  0.55657959  | 0.0000000911 |  1.34143362  | 6.749178e-06 | -0.24507187  | 0.33607730   | -0.16621479  | 0.5103585    | -0.2494521   | 0.4988292847 |\n",
       "\n"
      ],
      "text/plain": [
       "  entrezgene hgnc_symbol logFC_BC    PValue_BC   logFC_LC   PValue_LC  \n",
       "1  7105      TSPAN6      -0.19677472 0.733608386  1.2109203 0.030285815\n",
       "2 64102      TNMD        -8.22242726 0.000011400  1.6015344 0.171398244\n",
       "3  8813      DPM1         0.06848394 0.833040252  0.4674649 0.294138000\n",
       "4 57147      SCYL3        0.88768039 0.055529182  0.0544462 0.891635248\n",
       "5 55732      C1orf112     1.27175890 0.019866978  1.4376887 0.004173094\n",
       "6  2268      FGR         -3.09305336 0.000177035 -2.9959429 0.000004940\n",
       "  logFC_MUO   PValue_MUO   logFC_RA235 PValue_RA235 logFC_RETT_FC\n",
       "1 -0.19539969 0.0754891770 -0.30046001 1.865526e-02  0.53858538  \n",
       "2  1.80412948 0.0000016200 -0.04860816 8.196471e-01  0.08571963  \n",
       "3 -0.40356445 0.0001569100 -0.34473391 2.328536e-02          NA  \n",
       "4 -0.15488979 0.1700401430  0.08311677 4.803042e-01 -0.10965825  \n",
       "5  0.08653913 0.0135634820 -0.21473569 3.695494e-02  0.01494288  \n",
       "6  0.55657959 0.0000000911  1.34143362 6.749178e-06 -0.24507187  \n",
       "  PValue_RETT_FC logFC_RETT_TC PValue_RETT_TC logFC_SLE  PValue_SLE  \n",
       "1 0.00140977      0.11512825   0.4126980      -0.4260808 0.0003047616\n",
       "2 0.30895631      0.05364937   0.5195787              NA           NA\n",
       "3         NA              NA          NA       0.0000000 1.0000000000\n",
       "4 0.24317441     -0.07608135   0.4200971       0.0000000 1.0000000000\n",
       "5 0.91233348     -0.14298550   0.3013756       0.0000000 1.0000000000\n",
       "6 0.33607730     -0.16621479   0.5103585      -0.2494521 0.4988292847"
      ]
     },
     "metadata": {},
     "output_type": "display_data"
    }
   ],
   "source": [
    "# add hgnc symbol to dataTotal\n",
    "ensembl <- useMart(\"ensembl\", dataset = \"hsapiens_gene_ensembl\")\n",
    "mygenes <- dataTotal\n",
    "\n",
    "my.genes1 <- getBM(\n",
    "  attributes = c('entrezgene', 'hgnc_symbol'), \n",
    "  filters = 'entrezgene',\n",
    "  values = mygenes,\n",
    "  mart = ensembl\n",
    ")\n",
    "\n",
    "# clean merged data file\n",
    "dataTotal <- dataTotal %>% left_join(my.genes1, by = \"entrezgene\")\n",
    "dataTotal <- dataTotal[,c(1,16,2,3,4,5,6,7,8,9,10,11,12,13,14,15)]\n",
    "dataTotal <- unique(dataTotal)\n",
    "\n",
    "head(dataTotal)"
   ]
  },
  {
   "cell_type": "code",
   "execution_count": 14,
   "metadata": {},
   "outputs": [],
   "source": [
    "# save file\n",
    "write.table(dataTotal, file.path(getwd(), \"DataSets\", \"merged_data_final.txt\"), row.names = F, col.names = T, sep = \"\\t\", quote = F)"
   ]
  },
  {
   "cell_type": "code",
   "execution_count": null,
   "metadata": {},
   "outputs": [],
   "source": []
  }
 ],
 "metadata": {
  "kernelspec": {
   "display_name": "R",
   "language": "R",
   "name": "ir"
  },
  "language_info": {
   "codemirror_mode": "r",
   "file_extension": ".r",
   "mimetype": "text/x-r-source",
   "name": "R",
   "pygments_lexer": "r",
   "version": "3.5.1"
  }
 },
 "nbformat": 4,
 "nbformat_minor": 2
}
