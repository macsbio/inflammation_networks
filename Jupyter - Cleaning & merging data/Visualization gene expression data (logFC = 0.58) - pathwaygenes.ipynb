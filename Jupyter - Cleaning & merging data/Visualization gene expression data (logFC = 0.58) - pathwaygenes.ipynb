{
 "cells": [
  {
   "cell_type": "markdown",
   "metadata": {},
   "source": [
    "# Visualization gene expression data"
   ]
  },
  {
   "cell_type": "markdown",
   "metadata": {},
   "source": [
    "Previously we merged the gene expression data files of various diseases together. In this notebook we will some basic visualizations to get a better understanding of our data before we are going to integrate it with our network. In this notebook we will use the merged_data_final.txt file."
   ]
  },
  {
   "cell_type": "markdown",
   "metadata": {},
   "source": [
    "#### The following step only works in RStudio. If working in another environment, please set the working directory properly and check if the working directory is correct. "
   ]
  },
  {
   "cell_type": "code",
   "execution_count": null,
   "metadata": {},
   "outputs": [],
   "source": [
    "# set working directory to where file is saved\n",
    "setwd(dirname(rstudioapi::callFun(\"getActiveDocumentContext\")$path))"
   ]
  },
  {
   "cell_type": "code",
   "execution_count": 1,
   "metadata": {},
   "outputs": [
    {
     "data": {
      "text/html": [
       "'C:/Users/Laurent/Documents/GitHub/inflammation_networks2/Jupyter - Cleaning &amp; merging data'"
      ],
      "text/latex": [
       "'C:/Users/Laurent/Documents/GitHub/inflammation\\_networks2/Jupyter - Cleaning \\& merging data'"
      ],
      "text/markdown": [
       "'C:/Users/Laurent/Documents/GitHub/inflammation_networks2/Jupyter - Cleaning &amp; merging data'"
      ],
      "text/plain": [
       "[1] \"C:/Users/Laurent/Documents/GitHub/inflammation_networks2/Jupyter - Cleaning & merging data\""
      ]
     },
     "metadata": {},
     "output_type": "display_data"
    }
   ],
   "source": [
    "# get working directory\n",
    "getwd()"
   ]
  },
  {
   "cell_type": "code",
   "execution_count": 1,
   "metadata": {},
   "outputs": [
    {
     "name": "stderr",
     "output_type": "stream",
     "text": [
      "\n",
      "Attaching package: 'dplyr'\n",
      "\n",
      "The following objects are masked from 'package:stats':\n",
      "\n",
      "    filter, lag\n",
      "\n",
      "The following objects are masked from 'package:base':\n",
      "\n",
      "    intersect, setdiff, setequal, union\n",
      "\n",
      "Warning message:\n",
      "\"package 'gplots' was built under R version 3.5.2\"\n",
      "Attaching package: 'gplots'\n",
      "\n",
      "The following object is masked from 'package:stats':\n",
      "\n",
      "    lowess\n",
      "\n",
      "Warning message:\n",
      "\"package 'RColorBrewer' was built under R version 3.5.2\""
     ]
    }
   ],
   "source": [
    "# load in libraries\n",
    "library(dplyr)\n",
    "library(gplots)\n",
    "library(RColorBrewer)"
   ]
  },
  {
   "cell_type": "code",
   "execution_count": 2,
   "metadata": {},
   "outputs": [],
   "source": [
    "# load in merged data file\n",
    "dataset <- read.table(file.path(getwd(), \"Datasets\", \"merged_data_final.txt\"), header = T, sep = \"\\t\")\n",
    "pwGenes <- read.table(file.path(getwd(), \"Datasets\", \"pwgenes.txt\"), header = T, sep = \"\\t\")\n",
    "inflGenes <- read.table(file.path(getwd(), \"Datasets\", \"merged_infl_genes.txt\"), header = T, sep = \"\\t\")\n",
    "\n",
    "dataset <- dataset[dataset$entrezgene %in% pwGenes$entrezgene,]"
   ]
  },
  {
   "cell_type": "markdown",
   "metadata": {},
   "source": [
    "### log Fold Change and p-value\n",
    "The merged data files contains 6 diseases, and 8 datasets. It contains the following diseases: breast cancer, lung cancer, metabolically unhealthy obese, rheumatoid arthritis,cardiomyopathy and systemic lupus erythematosus.\n",
    "\n",
    "We first start with plotting the log fold change (LogFC) and the p.value (PValue) of all datasets."
   ]
  },
  {
   "cell_type": "code",
   "execution_count": 3,
   "metadata": {},
   "outputs": [
    {
     "data": {
      "image/png": "[encoded data removed]",
      "text/plain": [
       "Plot with title \"Histogram of datBC$logFC_BC\""
      ]
     },
     "metadata": {},
     "output_type": "display_data"
    },
    {
     "data": {
      "text/html": [
       "<table>\n",
       "<thead><tr><th></th><th scope=col>entrezgene</th><th scope=col>hgnc_symbol</th><th scope=col>logFC_BC</th><th scope=col>PValue_BC</th></tr></thead>\n",
       "<tbody>\n",
       "\t<tr><th scope=row>21</th><td> 572       </td><td>BAD        </td><td> 1.30012657</td><td>0.011579067</td></tr>\n",
       "\t<tr><th scope=row>40</th><td>8837       </td><td>CFLAR      </td><td>-2.36341068</td><td>0.000189463</td></tr>\n",
       "\t<tr><th scope=row>41</th><td>8837       </td><td>CFLAR      </td><td>-2.36341068</td><td>0.000189463</td></tr>\n",
       "\t<tr><th scope=row>96</th><td>1387       </td><td>CREBBP     </td><td>-0.25057172</td><td>0.406873313</td></tr>\n",
       "\t<tr><th scope=row>98</th><td>4353       </td><td>MPO        </td><td>-1.62245883</td><td>0.102294888</td></tr>\n",
       "\t<tr><th scope=row>111</th><td>3683       </td><td>ITGAL      </td><td> 0.03348179</td><td>0.949460737</td></tr>\n",
       "</tbody>\n",
       "</table>\n"
      ],
      "text/latex": [
       "\\begin{tabular}{r|llll}\n",
       "  & entrezgene & hgnc\\_symbol & logFC\\_BC & PValue\\_BC\\\\\n",
       "\\hline\n",
       "\t21 &  572        & BAD         &  1.30012657 & 0.011579067\\\\\n",
       "\t40 & 8837        & CFLAR       & -2.36341068 & 0.000189463\\\\\n",
       "\t41 & 8837        & CFLAR       & -2.36341068 & 0.000189463\\\\\n",
       "\t96 & 1387        & CREBBP      & -0.25057172 & 0.406873313\\\\\n",
       "\t98 & 4353        & MPO         & -1.62245883 & 0.102294888\\\\\n",
       "\t111 & 3683        & ITGAL       &  0.03348179 & 0.949460737\\\\\n",
       "\\end{tabular}\n"
      ],
      "text/markdown": [
       "\n",
       "| <!--/--> | entrezgene | hgnc_symbol | logFC_BC | PValue_BC |\n",
       "|---|---|---|---|---|\n",
       "| 21 |  572        | BAD         |  1.30012657 | 0.011579067 |\n",
       "| 40 | 8837        | CFLAR       | -2.36341068 | 0.000189463 |\n",
       "| 41 | 8837        | CFLAR       | -2.36341068 | 0.000189463 |\n",
       "| 96 | 1387        | CREBBP      | -0.25057172 | 0.406873313 |\n",
       "| 98 | 4353        | MPO         | -1.62245883 | 0.102294888 |\n",
       "| 111 | 3683        | ITGAL       |  0.03348179 | 0.949460737 |\n",
       "\n"
      ],
      "text/plain": [
       "    entrezgene hgnc_symbol logFC_BC    PValue_BC  \n",
       "21   572       BAD          1.30012657 0.011579067\n",
       "40  8837       CFLAR       -2.36341068 0.000189463\n",
       "41  8837       CFLAR       -2.36341068 0.000189463\n",
       "96  1387       CREBBP      -0.25057172 0.406873313\n",
       "98  4353       MPO         -1.62245883 0.102294888\n",
       "111 3683       ITGAL        0.03348179 0.949460737"
      ]
     },
     "metadata": {},
     "output_type": "display_data"
    },
    {
     "data": {
      "image/png": "[encoded data removed]",
      "text/plain": [
       "Plot with title \"Histogram of datBC$PValue_BC\""
      ]
     },
     "metadata": {},
     "output_type": "display_data"
    }
   ],
   "source": [
    "# breast cancer\n",
    "datBC <- dataset[,-5:-16]\n",
    "datBC <- na.omit(datBC)\n",
    "hist(datBC$logFC_BC)\n",
    "hist(datBC$PValue_BC)\n",
    "head(datBC)"
   ]
  },
  {
   "cell_type": "code",
   "execution_count": 4,
   "metadata": {},
   "outputs": [
    {
     "data": {
      "image/png": "[encoded data removed]",
      "text/plain": [
       "Plot with title \"Histogram of datLC$logFC_LC\""
      ]
     },
     "metadata": {},
     "output_type": "display_data"
    },
    {
     "data": {
      "text/html": [
       "<table>\n",
       "<thead><tr><th></th><th scope=col>entrezgene</th><th scope=col>hgnc_symbol</th><th scope=col>logFC_LC</th><th scope=col>PValue_LC</th></tr></thead>\n",
       "<tbody>\n",
       "\t<tr><th scope=row>21</th><td> 572       </td><td>BAD        </td><td>-0.2364393 </td><td>0.678109901</td></tr>\n",
       "\t<tr><th scope=row>40</th><td>8837       </td><td>CFLAR      </td><td>-0.9003248 </td><td>0.035051720</td></tr>\n",
       "\t<tr><th scope=row>41</th><td>8837       </td><td>CFLAR      </td><td>-0.9003248 </td><td>0.035051720</td></tr>\n",
       "\t<tr><th scope=row>96</th><td>1387       </td><td>CREBBP     </td><td>-0.2728974 </td><td>0.408924360</td></tr>\n",
       "\t<tr><th scope=row>98</th><td>4353       </td><td>MPO        </td><td>-0.6992241 </td><td>0.403822810</td></tr>\n",
       "\t<tr><th scope=row>111</th><td>3683       </td><td>ITGAL      </td><td>-1.8676739 </td><td>0.000113644</td></tr>\n",
       "</tbody>\n",
       "</table>\n"
      ],
      "text/latex": [
       "\\begin{tabular}{r|llll}\n",
       "  & entrezgene & hgnc\\_symbol & logFC\\_LC & PValue\\_LC\\\\\n",
       "\\hline\n",
       "\t21 &  572        & BAD         & -0.2364393  & 0.678109901\\\\\n",
       "\t40 & 8837        & CFLAR       & -0.9003248  & 0.035051720\\\\\n",
       "\t41 & 8837        & CFLAR       & -0.9003248  & 0.035051720\\\\\n",
       "\t96 & 1387        & CREBBP      & -0.2728974  & 0.408924360\\\\\n",
       "\t98 & 4353        & MPO         & -0.6992241  & 0.403822810\\\\\n",
       "\t111 & 3683        & ITGAL       & -1.8676739  & 0.000113644\\\\\n",
       "\\end{tabular}\n"
      ],
      "text/markdown": [
       "\n",
       "| <!--/--> | entrezgene | hgnc_symbol | logFC_LC | PValue_LC |\n",
       "|---|---|---|---|---|\n",
       "| 21 |  572        | BAD         | -0.2364393  | 0.678109901 |\n",
       "| 40 | 8837        | CFLAR       | -0.9003248  | 0.035051720 |\n",
       "| 41 | 8837        | CFLAR       | -0.9003248  | 0.035051720 |\n",
       "| 96 | 1387        | CREBBP      | -0.2728974  | 0.408924360 |\n",
       "| 98 | 4353        | MPO         | -0.6992241  | 0.403822810 |\n",
       "| 111 | 3683        | ITGAL       | -1.8676739  | 0.000113644 |\n",
       "\n"
      ],
      "text/plain": [
       "    entrezgene hgnc_symbol logFC_LC   PValue_LC  \n",
       "21   572       BAD         -0.2364393 0.678109901\n",
       "40  8837       CFLAR       -0.9003248 0.035051720\n",
       "41  8837       CFLAR       -0.9003248 0.035051720\n",
       "96  1387       CREBBP      -0.2728974 0.408924360\n",
       "98  4353       MPO         -0.6992241 0.403822810\n",
       "111 3683       ITGAL       -1.8676739 0.000113644"
      ]
     },
     "metadata": {},
     "output_type": "display_data"
    },
    {
     "data": {
      "image/png": "[encoded data removed]",
      "text/plain": [
       "Plot with title \"Histogram of datLC$PValue_LC\""
      ]
     },
     "metadata": {},
     "output_type": "display_data"
    }
   ],
   "source": [
    "# lung cancer\n",
    "datLC <- dataset[,c(-3,-4,-7:-16)]\n",
    "datLC <- na.omit(datLC)\n",
    "hist(datLC$logFC_LC)\n",
    "hist(datLC$PValue_LC)\n",
    "head(datLC)"
   ]
  },
  {
   "cell_type": "code",
   "execution_count": 5,
   "metadata": {},
   "outputs": [
    {
     "data": {
      "image/png": "[encoded data removed]",
      "text/plain": [
       "Plot with title \"Histogram of datMUO$logFC_MUO\""
      ]
     },
     "metadata": {},
     "output_type": "display_data"
    },
    {
     "data": {
      "text/html": [
       "<table>\n",
       "<thead><tr><th></th><th scope=col>entrezgene</th><th scope=col>hgnc_symbol</th><th scope=col>logFC_MUO</th><th scope=col>PValue_MUO</th></tr></thead>\n",
       "<tbody>\n",
       "\t<tr><th scope=row>21</th><td> 572        </td><td>BAD         </td><td> 0.011038645</td><td>0.882893931 </td></tr>\n",
       "\t<tr><th scope=row>40</th><td>8837        </td><td>CFLAR       </td><td>-0.092093332</td><td>0.182310154 </td></tr>\n",
       "\t<tr><th scope=row>41</th><td>8837        </td><td>CFLAR       </td><td>-0.074497769</td><td>0.204760091 </td></tr>\n",
       "\t<tr><th scope=row>96</th><td>1387        </td><td>CREBBP      </td><td> 0.009730749</td><td>0.885018203 </td></tr>\n",
       "\t<tr><th scope=row>98</th><td>4353        </td><td>MPO         </td><td>-0.091360910</td><td>0.009776241 </td></tr>\n",
       "\t<tr><th scope=row>111</th><td>3683        </td><td>ITGAL       </td><td> 0.632132396</td><td>0.000053200 </td></tr>\n",
       "</tbody>\n",
       "</table>\n"
      ],
      "text/latex": [
       "\\begin{tabular}{r|llll}\n",
       "  & entrezgene & hgnc\\_symbol & logFC\\_MUO & PValue\\_MUO\\\\\n",
       "\\hline\n",
       "\t21 &  572         & BAD          &  0.011038645 & 0.882893931 \\\\\n",
       "\t40 & 8837         & CFLAR        & -0.092093332 & 0.182310154 \\\\\n",
       "\t41 & 8837         & CFLAR        & -0.074497769 & 0.204760091 \\\\\n",
       "\t96 & 1387         & CREBBP       &  0.009730749 & 0.885018203 \\\\\n",
       "\t98 & 4353         & MPO          & -0.091360910 & 0.009776241 \\\\\n",
       "\t111 & 3683         & ITGAL        &  0.632132396 & 0.000053200 \\\\\n",
       "\\end{tabular}\n"
      ],
      "text/markdown": [
       "\n",
       "| <!--/--> | entrezgene | hgnc_symbol | logFC_MUO | PValue_MUO |\n",
       "|---|---|---|---|---|\n",
       "| 21 |  572         | BAD          |  0.011038645 | 0.882893931  |\n",
       "| 40 | 8837         | CFLAR        | -0.092093332 | 0.182310154  |\n",
       "| 41 | 8837         | CFLAR        | -0.074497769 | 0.204760091  |\n",
       "| 96 | 1387         | CREBBP       |  0.009730749 | 0.885018203  |\n",
       "| 98 | 4353         | MPO          | -0.091360910 | 0.009776241  |\n",
       "| 111 | 3683         | ITGAL        |  0.632132396 | 0.000053200  |\n",
       "\n"
      ],
      "text/plain": [
       "    entrezgene hgnc_symbol logFC_MUO    PValue_MUO \n",
       "21   572       BAD          0.011038645 0.882893931\n",
       "40  8837       CFLAR       -0.092093332 0.182310154\n",
       "41  8837       CFLAR       -0.074497769 0.204760091\n",
       "96  1387       CREBBP       0.009730749 0.885018203\n",
       "98  4353       MPO         -0.091360910 0.009776241\n",
       "111 3683       ITGAL        0.632132396 0.000053200"
      ]
     },
     "metadata": {},
     "output_type": "display_data"
    },
    {
     "data": {
      "image/png": "[encoded data removed]",
      "text/plain": [
       "Plot with title \"Histogram of datMUO$PValue_MUO\""
      ]
     },
     "metadata": {},
     "output_type": "display_data"
    }
   ],
   "source": [
    "# metabolically unhealthy obese\n",
    "datMUO <- dataset[,c(-3:-6,-9:-16)]\n",
    "datMUO <- na.omit(datMUO)\n",
    "hist(datMUO$logFC_MUO)\n",
    "hist(datMUO$PValue_MUO)\n",
    "head(datMUO)"
   ]
  },
  {
   "cell_type": "code",
   "execution_count": 6,
   "metadata": {},
   "outputs": [
    {
     "data": {
      "image/png": "[encoded data removed]",
      "text/plain": [
       "Plot with title \"Histogram of datRA$logFC_RA\""
      ]
     },
     "metadata": {},
     "output_type": "display_data"
    },
    {
     "data": {
      "text/html": [
       "<table>\n",
       "<thead><tr><th></th><th scope=col>entrezgene</th><th scope=col>hgnc_symbol</th><th scope=col>logFC_RA</th><th scope=col>PValue_RA</th></tr></thead>\n",
       "<tbody>\n",
       "\t<tr><th scope=row>21</th><td> 572        </td><td>BAD         </td><td> 0.007609654</td><td>9.322607e-01</td></tr>\n",
       "\t<tr><th scope=row>40</th><td>8837        </td><td>CFLAR       </td><td>-0.054253568</td><td>8.150366e-01</td></tr>\n",
       "\t<tr><th scope=row>41</th><td>8837        </td><td>CFLAR       </td><td>-0.054253568</td><td>8.150366e-01</td></tr>\n",
       "\t<tr><th scope=row>96</th><td>1387        </td><td>CREBBP      </td><td>-0.219000215</td><td>3.059827e-02</td></tr>\n",
       "\t<tr><th scope=row>98</th><td>4353        </td><td>MPO         </td><td> 0.031264167</td><td>5.867719e-01</td></tr>\n",
       "\t<tr><th scope=row>111</th><td>3683        </td><td>ITGAL       </td><td> 1.273246121</td><td>5.504818e-11</td></tr>\n",
       "</tbody>\n",
       "</table>\n"
      ],
      "text/latex": [
       "\\begin{tabular}{r|llll}\n",
       "  & entrezgene & hgnc\\_symbol & logFC\\_RA & PValue\\_RA\\\\\n",
       "\\hline\n",
       "\t21 &  572         & BAD          &  0.007609654 & 9.322607e-01\\\\\n",
       "\t40 & 8837         & CFLAR        & -0.054253568 & 8.150366e-01\\\\\n",
       "\t41 & 8837         & CFLAR        & -0.054253568 & 8.150366e-01\\\\\n",
       "\t96 & 1387         & CREBBP       & -0.219000215 & 3.059827e-02\\\\\n",
       "\t98 & 4353         & MPO          &  0.031264167 & 5.867719e-01\\\\\n",
       "\t111 & 3683         & ITGAL        &  1.273246121 & 5.504818e-11\\\\\n",
       "\\end{tabular}\n"
      ],
      "text/markdown": [
       "\n",
       "| <!--/--> | entrezgene | hgnc_symbol | logFC_RA | PValue_RA |\n",
       "|---|---|---|---|---|\n",
       "| 21 |  572         | BAD          |  0.007609654 | 9.322607e-01 |\n",
       "| 40 | 8837         | CFLAR        | -0.054253568 | 8.150366e-01 |\n",
       "| 41 | 8837         | CFLAR        | -0.054253568 | 8.150366e-01 |\n",
       "| 96 | 1387         | CREBBP       | -0.219000215 | 3.059827e-02 |\n",
       "| 98 | 4353         | MPO          |  0.031264167 | 5.867719e-01 |\n",
       "| 111 | 3683         | ITGAL        |  1.273246121 | 5.504818e-11 |\n",
       "\n"
      ],
      "text/plain": [
       "    entrezgene hgnc_symbol logFC_RA     PValue_RA   \n",
       "21   572       BAD          0.007609654 9.322607e-01\n",
       "40  8837       CFLAR       -0.054253568 8.150366e-01\n",
       "41  8837       CFLAR       -0.054253568 8.150366e-01\n",
       "96  1387       CREBBP      -0.219000215 3.059827e-02\n",
       "98  4353       MPO          0.031264167 5.867719e-01\n",
       "111 3683       ITGAL        1.273246121 5.504818e-11"
      ]
     },
     "metadata": {},
     "output_type": "display_data"
    },
    {
     "data": {
      "image/png": "[encoded data removed]",
      "text/plain": [
       "Plot with title \"Histogram of datRA$PValue_RA\""
      ]
     },
     "metadata": {},
     "output_type": "display_data"
    }
   ],
   "source": [
    "# rheumatoid arthritis\n",
    "datRA <- dataset[,c(-3:-8,-11:-16)]\n",
    "datRA <- na.omit(datRA)\n",
    "hist(datRA$logFC_RA)\n",
    "hist(datRA$PValue_RA)\n",
    "head(datRA)"
   ]
  },
  {
   "cell_type": "code",
   "execution_count": 7,
   "metadata": {},
   "outputs": [
    {
     "data": {
      "image/png": "[encoded data removed]",
      "text/plain": [
       "Plot with title \"Histogram of datDCM$logFC_DCM\""
      ]
     },
     "metadata": {},
     "output_type": "display_data"
    },
    {
     "data": {
      "text/html": [
       "<table>\n",
       "<thead><tr><th></th><th scope=col>entrezgene</th><th scope=col>hgnc_symbol</th><th scope=col>logFC_DCM</th><th scope=col>PValue_DCM</th></tr></thead>\n",
       "<tbody>\n",
       "\t<tr><th scope=row>21</th><td> 572       </td><td>BAD        </td><td>-0.06581474</td><td>0.73692297 </td></tr>\n",
       "\t<tr><th scope=row>40</th><td>8837       </td><td>CFLAR      </td><td>-0.04456432</td><td>0.74319857 </td></tr>\n",
       "\t<tr><th scope=row>41</th><td>8837       </td><td>CFLAR      </td><td>-0.04456432</td><td>0.74319857 </td></tr>\n",
       "\t<tr><th scope=row>96</th><td>1387       </td><td>CREBBP     </td><td>-0.08341177</td><td>0.49923591 </td></tr>\n",
       "\t<tr><th scope=row>98</th><td>4353       </td><td>MPO        </td><td> 0.37304506</td><td>0.55174821 </td></tr>\n",
       "\t<tr><th scope=row>111</th><td>3683       </td><td>ITGAL      </td><td> 0.79459600</td><td>0.04268294 </td></tr>\n",
       "</tbody>\n",
       "</table>\n"
      ],
      "text/latex": [
       "\\begin{tabular}{r|llll}\n",
       "  & entrezgene & hgnc\\_symbol & logFC\\_DCM & PValue\\_DCM\\\\\n",
       "\\hline\n",
       "\t21 &  572        & BAD         & -0.06581474 & 0.73692297 \\\\\n",
       "\t40 & 8837        & CFLAR       & -0.04456432 & 0.74319857 \\\\\n",
       "\t41 & 8837        & CFLAR       & -0.04456432 & 0.74319857 \\\\\n",
       "\t96 & 1387        & CREBBP      & -0.08341177 & 0.49923591 \\\\\n",
       "\t98 & 4353        & MPO         &  0.37304506 & 0.55174821 \\\\\n",
       "\t111 & 3683        & ITGAL       &  0.79459600 & 0.04268294 \\\\\n",
       "\\end{tabular}\n"
      ],
      "text/markdown": [
       "\n",
       "| <!--/--> | entrezgene | hgnc_symbol | logFC_DCM | PValue_DCM |\n",
       "|---|---|---|---|---|\n",
       "| 21 |  572        | BAD         | -0.06581474 | 0.73692297  |\n",
       "| 40 | 8837        | CFLAR       | -0.04456432 | 0.74319857  |\n",
       "| 41 | 8837        | CFLAR       | -0.04456432 | 0.74319857  |\n",
       "| 96 | 1387        | CREBBP      | -0.08341177 | 0.49923591  |\n",
       "| 98 | 4353        | MPO         |  0.37304506 | 0.55174821  |\n",
       "| 111 | 3683        | ITGAL       |  0.79459600 | 0.04268294  |\n",
       "\n"
      ],
      "text/plain": [
       "    entrezgene hgnc_symbol logFC_DCM   PValue_DCM\n",
       "21   572       BAD         -0.06581474 0.73692297\n",
       "40  8837       CFLAR       -0.04456432 0.74319857\n",
       "41  8837       CFLAR       -0.04456432 0.74319857\n",
       "96  1387       CREBBP      -0.08341177 0.49923591\n",
       "98  4353       MPO          0.37304506 0.55174821\n",
       "111 3683       ITGAL        0.79459600 0.04268294"
      ]
     },
     "metadata": {},
     "output_type": "display_data"
    },
    {
     "data": {
      "image/png": "[encoded data removed]",
      "text/plain": [
       "Plot with title \"Histogram of datDCM$PValue_DCM\""
      ]
     },
     "metadata": {},
     "output_type": "display_data"
    }
   ],
   "source": [
    "# DCM\n",
    "datDCM <- dataset[,c(-3:-10,-13:-16)]\n",
    "datDCM <- na.omit(datDCM)\n",
    "hist(datDCM$logFC_DCM)\n",
    "hist(datDCM$PValue_DCM)\n",
    "head(datDCM)"
   ]
  },
  {
   "cell_type": "code",
   "execution_count": 8,
   "metadata": {},
   "outputs": [
    {
     "data": {
      "image/png": "[encoded data removed]",
      "text/plain": [
       "Plot with title \"Histogram of datICM$logFC_ICM\""
      ]
     },
     "metadata": {},
     "output_type": "display_data"
    },
    {
     "data": {
      "text/html": [
       "<table>\n",
       "<thead><tr><th></th><th scope=col>entrezgene</th><th scope=col>hgnc_symbol</th><th scope=col>logFC_ICM</th><th scope=col>PValue_ICM</th></tr></thead>\n",
       "<tbody>\n",
       "\t<tr><th scope=row>21</th><td> 572       </td><td>BAD        </td><td> 0.34989726</td><td>0.06263541 </td></tr>\n",
       "\t<tr><th scope=row>40</th><td>8837       </td><td>CFLAR      </td><td>-0.07295253</td><td>0.64275117 </td></tr>\n",
       "\t<tr><th scope=row>41</th><td>8837       </td><td>CFLAR      </td><td>-0.07295253</td><td>0.64275117 </td></tr>\n",
       "\t<tr><th scope=row>96</th><td>1387       </td><td>CREBBP     </td><td>-0.12596498</td><td>0.35667478 </td></tr>\n",
       "\t<tr><th scope=row>98</th><td>4353       </td><td>MPO        </td><td> 0.29705613</td><td>0.63926582 </td></tr>\n",
       "\t<tr><th scope=row>111</th><td>3683       </td><td>ITGAL      </td><td> 0.05589086</td><td>0.85624100 </td></tr>\n",
       "</tbody>\n",
       "</table>\n"
      ],
      "text/latex": [
       "\\begin{tabular}{r|llll}\n",
       "  & entrezgene & hgnc\\_symbol & logFC\\_ICM & PValue\\_ICM\\\\\n",
       "\\hline\n",
       "\t21 &  572        & BAD         &  0.34989726 & 0.06263541 \\\\\n",
       "\t40 & 8837        & CFLAR       & -0.07295253 & 0.64275117 \\\\\n",
       "\t41 & 8837        & CFLAR       & -0.07295253 & 0.64275117 \\\\\n",
       "\t96 & 1387        & CREBBP      & -0.12596498 & 0.35667478 \\\\\n",
       "\t98 & 4353        & MPO         &  0.29705613 & 0.63926582 \\\\\n",
       "\t111 & 3683        & ITGAL       &  0.05589086 & 0.85624100 \\\\\n",
       "\\end{tabular}\n"
      ],
      "text/markdown": [
       "\n",
       "| <!--/--> | entrezgene | hgnc_symbol | logFC_ICM | PValue_ICM |\n",
       "|---|---|---|---|---|\n",
       "| 21 |  572        | BAD         |  0.34989726 | 0.06263541  |\n",
       "| 40 | 8837        | CFLAR       | -0.07295253 | 0.64275117  |\n",
       "| 41 | 8837        | CFLAR       | -0.07295253 | 0.64275117  |\n",
       "| 96 | 1387        | CREBBP      | -0.12596498 | 0.35667478  |\n",
       "| 98 | 4353        | MPO         |  0.29705613 | 0.63926582  |\n",
       "| 111 | 3683        | ITGAL       |  0.05589086 | 0.85624100  |\n",
       "\n"
      ],
      "text/plain": [
       "    entrezgene hgnc_symbol logFC_ICM   PValue_ICM\n",
       "21   572       BAD          0.34989726 0.06263541\n",
       "40  8837       CFLAR       -0.07295253 0.64275117\n",
       "41  8837       CFLAR       -0.07295253 0.64275117\n",
       "96  1387       CREBBP      -0.12596498 0.35667478\n",
       "98  4353       MPO          0.29705613 0.63926582\n",
       "111 3683       ITGAL        0.05589086 0.85624100"
      ]
     },
     "metadata": {},
     "output_type": "display_data"
    },
    {
     "data": {
      "image/png": "[encoded data removed]",
      "text/plain": [
       "Plot with title \"Histogram of datICM$PValue_ICM\""
      ]
     },
     "metadata": {},
     "output_type": "display_data"
    }
   ],
   "source": [
    "# ICM\n",
    "datICM <- dataset[,c(-3:-12,-15:-16)]\n",
    "datICM <- na.omit(datICM)\n",
    "hist(datICM$logFC_ICM)\n",
    "hist(datICM$PValue_ICM)\n",
    "head(datICM)"
   ]
  },
  {
   "cell_type": "code",
   "execution_count": 9,
   "metadata": {},
   "outputs": [
    {
     "data": {
      "image/png": "[encoded data removed]",
      "text/plain": [
       "Plot with title \"Histogram of datSLE$logFC_SLE\""
      ]
     },
     "metadata": {},
     "output_type": "display_data"
    },
    {
     "data": {
      "text/html": [
       "<table>\n",
       "<thead><tr><th></th><th scope=col>entrezgene</th><th scope=col>hgnc_symbol</th><th scope=col>logFC_SLE</th><th scope=col>PValue_SLE</th></tr></thead>\n",
       "<tbody>\n",
       "\t<tr><th scope=row>21</th><td> 572        </td><td>BAD         </td><td> 0.000000000</td><td>1.000000e+00</td></tr>\n",
       "\t<tr><th scope=row>40</th><td>8837        </td><td>CFLAR       </td><td>-0.636725088</td><td>4.768234e-03</td></tr>\n",
       "\t<tr><th scope=row>41</th><td>8837        </td><td>CFLAR       </td><td>-0.636725088</td><td>4.768234e-03</td></tr>\n",
       "\t<tr><th scope=row>96</th><td>1387        </td><td>CREBBP      </td><td>-0.021242595</td><td>9.482814e-01</td></tr>\n",
       "\t<tr><th scope=row>98</th><td>4353        </td><td>MPO         </td><td> 0.221139335</td><td>1.174282e-05</td></tr>\n",
       "\t<tr><th scope=row>111</th><td>3683        </td><td>ITGAL       </td><td> 0.007922311</td><td>9.805294e-01</td></tr>\n",
       "</tbody>\n",
       "</table>\n"
      ],
      "text/latex": [
       "\\begin{tabular}{r|llll}\n",
       "  & entrezgene & hgnc\\_symbol & logFC\\_SLE & PValue\\_SLE\\\\\n",
       "\\hline\n",
       "\t21 &  572         & BAD          &  0.000000000 & 1.000000e+00\\\\\n",
       "\t40 & 8837         & CFLAR        & -0.636725088 & 4.768234e-03\\\\\n",
       "\t41 & 8837         & CFLAR        & -0.636725088 & 4.768234e-03\\\\\n",
       "\t96 & 1387         & CREBBP       & -0.021242595 & 9.482814e-01\\\\\n",
       "\t98 & 4353         & MPO          &  0.221139335 & 1.174282e-05\\\\\n",
       "\t111 & 3683         & ITGAL        &  0.007922311 & 9.805294e-01\\\\\n",
       "\\end{tabular}\n"
      ],
      "text/markdown": [
       "\n",
       "| <!--/--> | entrezgene | hgnc_symbol | logFC_SLE | PValue_SLE |\n",
       "|---|---|---|---|---|\n",
       "| 21 |  572         | BAD          |  0.000000000 | 1.000000e+00 |\n",
       "| 40 | 8837         | CFLAR        | -0.636725088 | 4.768234e-03 |\n",
       "| 41 | 8837         | CFLAR        | -0.636725088 | 4.768234e-03 |\n",
       "| 96 | 1387         | CREBBP       | -0.021242595 | 9.482814e-01 |\n",
       "| 98 | 4353         | MPO          |  0.221139335 | 1.174282e-05 |\n",
       "| 111 | 3683         | ITGAL        |  0.007922311 | 9.805294e-01 |\n",
       "\n"
      ],
      "text/plain": [
       "    entrezgene hgnc_symbol logFC_SLE    PValue_SLE  \n",
       "21   572       BAD          0.000000000 1.000000e+00\n",
       "40  8837       CFLAR       -0.636725088 4.768234e-03\n",
       "41  8837       CFLAR       -0.636725088 4.768234e-03\n",
       "96  1387       CREBBP      -0.021242595 9.482814e-01\n",
       "98  4353       MPO          0.221139335 1.174282e-05\n",
       "111 3683       ITGAL        0.007922311 9.805294e-01"
      ]
     },
     "metadata": {},
     "output_type": "display_data"
    },
    {
     "data": {
      "image/png": "[encoded data removed]",
      "text/plain": [
       "Plot with title \"Histogram of datSLE$PValue_SLE\""
      ]
     },
     "metadata": {},
     "output_type": "display_data"
    }
   ],
   "source": [
    "# systemic lupus erythematosus\n",
    "datSLE <- dataset[,c(-3:-14)]\n",
    "datSLE <- na.omit(datSLE)\n",
    "hist(datSLE$logFC_SLE)\n",
    "hist(datSLE$PValue_SLE)\n",
    "head(datSLE)"
   ]
  },
  {
   "cell_type": "markdown",
   "metadata": {},
   "source": [
    "For all datasets, the fold change is quite what we want to see. No datasets has high frequencies at the respective extremities. For the p.values however, we that systemic lupus erythematosus and lung cancer have a higher frequency of p.value = 1.0 compared to the other datasets and comapred to the other p.values within the dataset. "
   ]
  },
  {
   "cell_type": "markdown",
   "metadata": {},
   "source": [
    "### Significant differentially expressed genes\n",
    "It is interesting to see the number and percentage of significant differentially expressed genes per dataset. In this case we chose and log fold change lower than -0.58 and higher than 0.58.\n",
    "\n",
    "So, let us check what these values are!"
   ]
  },
  {
   "cell_type": "code",
   "execution_count": 10,
   "metadata": {},
   "outputs": [
    {
     "name": "stdout",
     "output_type": "stream",
     "text": [
      "[1] \"The number of significant differentially expressed genes is 198\"\n",
      "[1] \"The percentage of significant differentially expressed genes is 48.77%\"\n"
     ]
    }
   ],
   "source": [
    "# breast cancer\n",
    "datBC1 <- subset(datBC, datBC$logFC_BC <= -0.58)\n",
    "datBC2 <- subset(datBC, datBC$logFC_BC >= 0.58)\n",
    "datBC3 <- rbind(datBC1, datBC2)\n",
    "datBC4 <- subset(datBC3, datBC3$PValue_BC <= 0.05) # data frame with significant differentially expressed genes\n",
    "nBC <- nrow(datBC4)\n",
    "print(paste0(\"The number of significant differentially expressed genes is \", nBC))\n",
    "percBC <- (as.numeric(nBC) / as.numeric(nrow(datBC)) * 100)\n",
    "percBC <- as.numeric(format(round(percBC, 2), nsmall = 2))\n",
    "print(paste0(\"The percentage of significant differentially expressed genes is \", percBC, \"%\"))"
   ]
  },
  {
   "cell_type": "code",
   "execution_count": 11,
   "metadata": {},
   "outputs": [
    {
     "name": "stdout",
     "output_type": "stream",
     "text": [
      "[1] \"The number of significant differentially expressed genes is 147\"\n",
      "[1] \"The percentage of significant differentially expressed genes is 34.51%\"\n"
     ]
    }
   ],
   "source": [
    "# lung cancer\n",
    "datLC1 <- subset(datLC, datLC$logFC_LC <= -0.58)\n",
    "datLC2 <- subset(datLC, datLC$logFC_LC >= 0.58)\n",
    "datLC3 <- rbind(datLC1, datLC2)\n",
    "datLC4 <- subset(datLC3, datLC3$PValue_LC <= 0.05) # data frame with significant differentially expressed genes\n",
    "nLC <- nrow(datLC4)\n",
    "print(paste0(\"The number of significant differentially expressed genes is \", nLC))\n",
    "percLC <- (as.numeric(nLC) / as.numeric(nrow(datLC)) * 100)\n",
    "percLC <- as.numeric(format(round(percLC, 2), nsmall = 2))\n",
    "print(paste0(\"The percentage of significant differentially expressed genes is \", percLC, \"%\"))"
   ]
  },
  {
   "cell_type": "code",
   "execution_count": 12,
   "metadata": {},
   "outputs": [
    {
     "name": "stdout",
     "output_type": "stream",
     "text": [
      "[1] \"The number of significant differentially expressed genes is 44\"\n",
      "[1] \"The percentage of significant differentially expressed genes is 11.43%\"\n"
     ]
    }
   ],
   "source": [
    "# metabolically unhealthy obese\n",
    "datMUO1 <- subset(datMUO, datMUO$logFC_MUO <= -0.58)\n",
    "datMUO2 <- subset(datMUO, datMUO$logFC_MUO >= 0.58)\n",
    "datMUO3 <- rbind(datMUO1, datMUO2)\n",
    "datMUO4 <- subset(datMUO3, datMUO3$PValue_MUO <= 0.05) # data frame with significant differentially expressed genes\n",
    "nMUO <- nrow(datMUO4)\n",
    "print(paste0(\"The number of significant differentially expressed genes is \", nMUO))\n",
    "percMUO <- (as.numeric(nMUO) / as.numeric(nrow(datMUO)) * 100)\n",
    "percMUO <- as.numeric(format(round(percMUO, 2), nsmall = 2))\n",
    "print(paste0(\"The percentage of significant differentially expressed genes is \", percMUO, \"%\"))"
   ]
  },
  {
   "cell_type": "code",
   "execution_count": 13,
   "metadata": {},
   "outputs": [
    {
     "name": "stdout",
     "output_type": "stream",
     "text": [
      "[1] \"The number of significant differentially expressed genes is 111\"\n",
      "[1] \"The percentage of significant differentially expressed genes is 29.76%\"\n"
     ]
    }
   ],
   "source": [
    "# rheumatoid arthritis\n",
    "datRA_1 <- subset(datRA, datRA$logFC_RA <= -0.58)\n",
    "datRA_2 <- subset(datRA, datRA$logFC_RA >= 0.58)\n",
    "datRA_3 <- rbind(datRA_1, datRA_2)\n",
    "datRA_4 <- subset(datRA_3, datRA_3$PValue_RA <= 0.05) # data frame with significant differentially expressed genes\n",
    "nRA <- nrow(datRA_4)\n",
    "print(paste0(\"The number of significant differentially expressed genes is \", nRA))\n",
    "percRA <- (as.numeric(nRA) / as.numeric(nrow(datRA)) * 100)\n",
    "percRA <- as.numeric(format(round(percRA, 2), nsmall = 2))\n",
    "print(paste0(\"The percentage of significant differentially expressed genes is \", percRA, \"%\"))"
   ]
  },
  {
   "cell_type": "code",
   "execution_count": 14,
   "metadata": {},
   "outputs": [
    {
     "name": "stdout",
     "output_type": "stream",
     "text": [
      "[1] \"The number of significant differentially expressed genes is 62\"\n",
      "[1] \"The percentage of significant differentially expressed genes is 17.08%\"\n"
     ]
    }
   ],
   "source": [
    "# DCM\n",
    "datDCM1 <- subset(datDCM, datDCM$logFC_DCM <= -0.58)\n",
    "datDCM2 <- subset(datDCM, datDCM$logFC_DCM >= 0.58)\n",
    "datDCM3 <- rbind(datDCM1, datDCM2)\n",
    "datDCM4 <- subset(datDCM3, datDCM3$PValue_DCM <= 0.05) # data frame with significant differentially expressed genes\n",
    "nDCM <- nrow(datDCM4)\n",
    "print(paste0(\"The number of significant differentially expressed genes is \", nDCM))\n",
    "percDCM <- (as.numeric(nDCM) / as.numeric(nrow(datDCM)) * 100)\n",
    "percDCM <- as.numeric(format(round(percDCM, 2), nsmall = 2))\n",
    "print(paste0(\"The percentage of significant differentially expressed genes is \", percDCM, \"%\"))"
   ]
  },
  {
   "cell_type": "code",
   "execution_count": 15,
   "metadata": {},
   "outputs": [
    {
     "name": "stdout",
     "output_type": "stream",
     "text": [
      "[1] \"The number of significant differentially expressed genes is 88\"\n",
      "[1] \"The percentage of significant differentially expressed genes is 24.24%\"\n"
     ]
    }
   ],
   "source": [
    "# ICM\n",
    "datICM1 <- subset(datICM, datICM$logFC_ICM <= -0.58)\n",
    "datICM2 <- subset(datICM, datICM$logFC_ICM >= 0.58)\n",
    "datICM3 <- rbind(datICM1, datICM2)\n",
    "datICM4 <- subset(datICM3, datICM3$PValue_ICM <= 0.05) # data frame with significant differentially expressed genes\n",
    "nICM <- nrow(datICM4)\n",
    "print(paste0(\"The number of significant differentially expressed genes is \", nICM))\n",
    "percICM <- (as.numeric(nICM) / as.numeric(nrow(datICM)) * 100)\n",
    "percICM <- as.numeric(format(round(percICM, 2), nsmall = 2))\n",
    "print(paste0(\"The percentage of significant differentially expressed genes is \", percICM, \"%\"))"
   ]
  },
  {
   "cell_type": "code",
   "execution_count": 16,
   "metadata": {},
   "outputs": [
    {
     "name": "stdout",
     "output_type": "stream",
     "text": [
      "[1] \"The number of significant differentially expressed genes is 24\"\n",
      "[1] \"The percentage of significant differentially expressed genes is 6.15%\"\n"
     ]
    }
   ],
   "source": [
    "# systemic lupuc erythematosus\n",
    "datSLE1 <- subset(datSLE, datSLE$logFC_SLE <= -0.58)\n",
    "datSLE2 <- subset(datSLE, datSLE$logFC_SLE >= 0.58)\n",
    "datSLE3 <- rbind(datSLE1, datSLE2)\n",
    "datSLE4 <- subset(datSLE3, datSLE3$PValue_SLE <= 0.05) # data frame with significant differentially expressed genes\n",
    "nSLE <- nrow(datSLE4)\n",
    "print(paste0(\"The number of significant differentially expressed genes is \", nSLE))\n",
    "percSLE <- (as.numeric(nSLE) / as.numeric(nrow(datSLE)) * 100)\n",
    "percSLE <- as.numeric(format(round(percSLE, 2), nsmall = 2))\n",
    "print(paste0(\"The percentage of significant differentially expressed genes is \", percSLE, \"%\"))"
   ]
  },
  {
   "cell_type": "markdown",
   "metadata": {},
   "source": [
    "### Clear visualization\n",
    "Now we have these values, let's put them into a data frame so it is easily to read!"
   ]
  },
  {
   "cell_type": "code",
   "execution_count": 17,
   "metadata": {
    "scrolled": true
   },
   "outputs": [
    {
     "data": {
      "text/html": [
       "<table>\n",
       "<thead><tr><th scope=col>Disease</th><th scope=col>Significant Genes (n)</th><th scope=col>Percentage Significant Genes</th></tr></thead>\n",
       "<tbody>\n",
       "\t<tr><td>Breast cancer       </td><td>198                 </td><td>48.77%              </td></tr>\n",
       "\t<tr><td>Lung cancer         </td><td>147                 </td><td>34.51%              </td></tr>\n",
       "\t<tr><td>MUO                 </td><td> 44                 </td><td>11.43%              </td></tr>\n",
       "\t<tr><td>Rheumatoid arthritis</td><td>111                 </td><td>29.76%              </td></tr>\n",
       "\t<tr><td>DCM                 </td><td> 62                 </td><td>17.08%              </td></tr>\n",
       "\t<tr><td>ICM                 </td><td> 88                 </td><td>24.24%              </td></tr>\n",
       "\t<tr><td>SLE                 </td><td> 24                 </td><td>6.15%               </td></tr>\n",
       "</tbody>\n",
       "</table>\n"
      ],
      "text/latex": [
       "\\begin{tabular}{r|lll}\n",
       " Disease & Significant Genes (n) & Percentage Significant Genes\\\\\n",
       "\\hline\n",
       "\t Breast cancer        & 198                  & 48.77\\%            \\\\\n",
       "\t Lung cancer          & 147                  & 34.51\\%            \\\\\n",
       "\t MUO                  &  44                  & 11.43\\%            \\\\\n",
       "\t Rheumatoid arthritis & 111                  & 29.76\\%            \\\\\n",
       "\t DCM                  &  62                  & 17.08\\%            \\\\\n",
       "\t ICM                  &  88                  & 24.24\\%            \\\\\n",
       "\t SLE                  &  24                  & 6.15\\%             \\\\\n",
       "\\end{tabular}\n"
      ],
      "text/markdown": [
       "\n",
       "| Disease | Significant Genes (n) | Percentage Significant Genes |\n",
       "|---|---|---|\n",
       "| Breast cancer        | 198                  | 48.77%               |\n",
       "| Lung cancer          | 147                  | 34.51%               |\n",
       "| MUO                  |  44                  | 11.43%               |\n",
       "| Rheumatoid arthritis | 111                  | 29.76%               |\n",
       "| DCM                  |  62                  | 17.08%               |\n",
       "| ICM                  |  88                  | 24.24%               |\n",
       "| SLE                  |  24                  | 6.15%                |\n",
       "\n"
      ],
      "text/plain": [
       "  Disease              Significant Genes (n) Percentage Significant Genes\n",
       "1 Breast cancer        198                   48.77%                      \n",
       "2 Lung cancer          147                   34.51%                      \n",
       "3 MUO                   44                   11.43%                      \n",
       "4 Rheumatoid arthritis 111                   29.76%                      \n",
       "5 DCM                   62                   17.08%                      \n",
       "6 ICM                   88                   24.24%                      \n",
       "7 SLE                   24                   6.15%                       "
      ]
     },
     "metadata": {},
     "output_type": "display_data"
    }
   ],
   "source": [
    "# create data frame from significant differentially expressed genes and percentage of these genes\n",
    "sigGenes <- c(nBC, nLC, nMUO, nRA, nDCM, nICM, nSLE)\n",
    "percGenes <- c(paste0(percBC, \"%\"), paste0(percLC, \"%\"), \n",
    "              paste0(percMUO, \"%\"), paste0(percRA, \"%\"), \n",
    "              paste0(percDCM, \"%\"), paste0(percICM, \"%\"), paste0(percSLE, \"%\"))\n",
    "Disease <- c(\"Breast cancer\", \"Lung cancer\", \"MUO\", \"Rheumatoid arthritis\",\n",
    "                                                    \"DCM\", \"ICM\", \"SLE\")\n",
    "df2 <- data.frame(Disease, sigGenes, percGenes)\n",
    "colnames(df2)[c(2,3)] <- c(\"Significant Genes (n)\", \"Percentage Significant Genes\")\n",
    "\n",
    "# save data frame as text file\n",
    "write.table(df2, file.path(getwd(), \"Results\", \"pw_genes\", \"0.58sigGenes.txt\"), sep = \"\\t\", row.names = F, quote = F)\n",
    "\n",
    "# view table\n",
    "df2"
   ]
  },
  {
   "cell_type": "markdown",
   "metadata": {},
   "source": [
    "## Further visualization\n",
    "It is isteresting to visualize the amount of significant up- and downregulated genes per disease. The easiest method to visualize this, is to create a barplot."
   ]
  },
  {
   "cell_type": "code",
   "execution_count": 18,
   "metadata": {},
   "outputs": [
    {
     "data": {
      "text/html": [
       "<table>\n",
       "<thead><tr><th scope=col>BC</th><th scope=col>LC</th><th scope=col>MUO</th><th scope=col>RA</th><th scope=col>DCM</th><th scope=col>ICM</th><th scope=col>SLE</th></tr></thead>\n",
       "<tbody>\n",
       "\t<tr><td> 48</td><td> 42</td><td>37 </td><td>61 </td><td>17 </td><td>14 </td><td> 9 </td></tr>\n",
       "\t<tr><td>150</td><td>105</td><td> 7 </td><td>50 </td><td>45 </td><td>74 </td><td>15 </td></tr>\n",
       "</tbody>\n",
       "</table>\n"
      ],
      "text/latex": [
       "\\begin{tabular}{lllllll}\n",
       " BC & LC & MUO & RA & DCM & ICM & SLE\\\\\n",
       "\\hline\n",
       "\t  48 &  42 & 37  & 61  & 17  & 14  &  9 \\\\\n",
       "\t 150 & 105 &  7  & 50  & 45  & 74  & 15 \\\\\n",
       "\\end{tabular}\n"
      ],
      "text/markdown": [
       "\n",
       "| BC | LC | MUO | RA | DCM | ICM | SLE |\n",
       "|---|---|---|---|---|---|---|\n",
       "|  48 |  42 | 37  | 61  | 17  | 14  |  9  |\n",
       "| 150 | 105 |  7  | 50  | 45  | 74  | 15  |\n",
       "\n"
      ],
      "text/plain": [
       "     BC  LC  MUO RA DCM ICM SLE\n",
       "[1,]  48  42 37  61 17  14   9 \n",
       "[2,] 150 105  7  50 45  74  15 "
      ]
     },
     "metadata": {},
     "output_type": "display_data"
    },
    {
     "data": {
      "text/html": [
       "<strong>jpeg:</strong> 3"
      ],
      "text/latex": [
       "\\textbf{jpeg:} 3"
      ],
      "text/markdown": [
       "**jpeg:** 3"
      ],
      "text/plain": [
       "jpeg \n",
       "   3 "
      ]
     },
     "metadata": {},
     "output_type": "display_data"
    },
    {
     "data": {
      "text/html": [
       "<strong>png:</strong> 2"
      ],
      "text/latex": [
       "\\textbf{png:} 2"
      ],
      "text/markdown": [
       "**png:** 2"
      ],
      "text/plain": [
       "png \n",
       "  2 "
      ]
     },
     "metadata": {},
     "output_type": "display_data"
    },
    {
     "data": {
      "image/png": "[encoded data removed]",
      "text/plain": [
       "Plot with title \"Number of Significant Differentially Expressed Genes\n",
       "(logFC < -0.58 OR > 0.58)\""
      ]
     },
     "metadata": {},
     "output_type": "display_data"
    }
   ],
   "source": [
    "# store values of significant up- and downregulated genes as variables to make a barplot out of them\n",
    "# because we only stored the genes with a log fold change lower than -0.58 or higher than 0.58, we still have to select the significant genes with a p-value lower < 0.05\n",
    "# we have to store these numbers seperately to create a distinction between to two in the matrix and thus barplot\n",
    "downBC <- nrow(subset(datBC1, datBC1$PValue_BC <= 0.05))\n",
    "upBC <- nrow(subset(datBC2, datBC2$PValue_BC <= 0.05))\n",
    "downLC <- nrow(subset(datLC1, datLC1$PValue_LC <= 0.05))\n",
    "upLC <- nrow(subset(datLC2, datLC2$PValue_LC <= 0.05))\n",
    "downMUO <- nrow(subset(datMUO1, datMUO1$PValue_MUO <= 0.05))\n",
    "upMUO <- nrow(subset(datMUO2, datMUO2$PValue_MUO <= 0.05))\n",
    "downRA <- nrow(subset(datRA_1, datRA_1$PValue_RA <= 0.05))\n",
    "upRA <- nrow(subset(datRA_2, datRA_2$PValue_RA <= 0.05))\n",
    "downDCM <- nrow(subset(datDCM1, datDCM1$PValue_DCM <= 0.05))\n",
    "upDCM <- nrow(subset(datDCM2, datDCM2$PValue_DCM <= 0.05))\n",
    "downICM <- nrow(subset(datICM1, datICM1$PValue_ICM <= 0.05))\n",
    "upICM <- nrow(subset(datICM2, datICM2$PValue_ICM <= 0.05))\n",
    "downSLE <- nrow(subset(datSLE1, datSLE1$PValue_SLE <= 0.05))\n",
    "upSLE <- nrow(subset(datSLE2, datSLE2$PValue_SLE <= 0.05))\n",
    "\n",
    "# create matrix before creating barplot\n",
    "df1 <- matrix(ncol = 7, nrow = 2)\n",
    "colnames(df1) <- c(\"BC\", \"LC\", \"MUO\", \"RA\", \"DCM\", \"ICM\", \"SLE\")\n",
    "df1[1,1] = upBC\n",
    "df1[2,1] = downBC\n",
    "df1[1,2] = upLC\n",
    "df1[2,2] = downLC\n",
    "df1[1,3] = upMUO\n",
    "df1[2,3] = downMUO\n",
    "df1[1,4] = upRA\n",
    "df1[2,4] = downRA\n",
    "df1[1,5] = upDCM\n",
    "df1[2,5] = downDCM\n",
    "df1[1,6] = upICM\n",
    "df1[2,6] = downICM\n",
    "df1[1,7] = upSLE\n",
    "df1[2,7] = downSLE\n",
    "\n",
    "df1\n",
    "\n",
    "# create barplot\n",
    "bar_plot <- barplot(df1, beside = TRUE, main = \"Number of Significant Differentially Expressed Genes\n",
    "(logFC < -0.58 OR > 0.58)\",\n",
    "                    names.arg = c(colnames(df1)), \n",
    "                    ylab = \"Number (n)\", \n",
    "                    ylim = c(0, 200),\n",
    "                    col = c(\"#FF0000\", \"#0000FF\", \"#FF0000\", \"#0000FF\", \"#FF0000\", \"#0000FF\", \"#FF0000\",\n",
    "                            \"#0000FF\", \"#FF0000\",\"#0000FF\", \"#FF0000\", \"#0000FF\", \"#FF0000\", \"#0000FF\"),\n",
    "                    legend = c(\"Upregulated\", \"Downregulated\"),\n",
    "                    args.legend = list(x = \"topright\"))\n",
    "text(bar_plot, c(48, 150, 42, 105, 37, 7, 61, 50, 17, 45, 14, 74, 9, 15) ,df1 ,cex= 0.7 ,pos = 3) \n",
    "\n",
    "\n",
    "# save barplot as image\n",
    "dev.copy(jpeg, filename = file.path(getwd(),\"Results\", \"pw_genes\", \"0.58barplot_nSigGenes.jpg\"));\n",
    "dev.off ();"
   ]
  },
  {
   "cell_type": "markdown",
   "metadata": {},
   "source": [
    "To look easier at the percentage of significant differentially expressed genes, and compare these values easier between the different datasets, we should make a barplot out of these values. "
   ]
  },
  {
   "cell_type": "code",
   "execution_count": 19,
   "metadata": {
    "scrolled": true
   },
   "outputs": [
    {
     "data": {
      "text/html": [
       "<strong>jpeg:</strong> 3"
      ],
      "text/latex": [
       "\\textbf{jpeg:} 3"
      ],
      "text/markdown": [
       "**jpeg:** 3"
      ],
      "text/plain": [
       "jpeg \n",
       "   3 "
      ]
     },
     "metadata": {},
     "output_type": "display_data"
    },
    {
     "data": {
      "text/html": [
       "<strong>png:</strong> 2"
      ],
      "text/latex": [
       "\\textbf{png:} 2"
      ],
      "text/markdown": [
       "**png:** 2"
      ],
      "text/plain": [
       "png \n",
       "  2 "
      ]
     },
     "metadata": {},
     "output_type": "display_data"
    },
    {
     "data": {
      "image/png": "[encoded data removed]",
      "text/plain": [
       "Plot with title \"Percentage of Significant Differentially Expressed Genes\n",
       "(logFC < -0.58 OR > 0.58)\""
      ]
     },
     "metadata": {},
     "output_type": "display_data"
    }
   ],
   "source": [
    "# create barplot of percentage of significant differentially expressed genes\n",
    "x <- as.numeric(c(percBC, percLC, percMUO, percRA, percDCM, percICM, percSLE))\n",
    "y <- c(\"BC\", \"LC\", \"MUO\", \"RA\", \"DCM\", \"ICM\", \"SLE\")\n",
    "bar_plot1 <- barplot(x, main = \"Percentage of Significant Differentially Expressed Genes\n",
    "(logFC < -0.58 OR > 0.58)\",\n",
    "        names.arg = c(y), ylab = \"Percentage (%)\",\n",
    "        ylim = c(0,100))\n",
    "text(bar_plot1, c(48.77, 34.51, 11.43, 29.76, 17.08, 24.24, 6.15) , x,cex=1 ,pos = 3)\n",
    "\n",
    "# save boxplot as image\n",
    "dev.copy(jpeg, filename = file.path(getwd(),\"Results\", \"pw_genes\", \"0.58barplot_percSigGenes.jpg\"));\n",
    "dev.off ();"
   ]
  },
  {
   "cell_type": "markdown",
   "metadata": {},
   "source": [
    "It is important to note that these percentages don't represent the perfecentage of significant differentially expressed genes of the _whole genome_. Rather these percentages indicate the significant differentially expressed genes of the _total number of genes measured_ by the respective method used. "
   ]
  },
  {
   "cell_type": "markdown",
   "metadata": {},
   "source": [
    "### Amount of similar measured genes\n",
    "It is also interesting to know how many similar significant differentially expressed genes are measured between two datasets."
   ]
  },
  {
   "cell_type": "code",
   "execution_count": 20,
   "metadata": {},
   "outputs": [
    {
     "data": {
      "text/html": [
       "<table>\n",
       "<thead><tr><th scope=col>Disease</th><th scope=col>BC</th><th scope=col>LC</th><th scope=col>MUO</th><th scope=col>RA</th><th scope=col>DCM</th><th scope=col>ICM</th><th scope=col>SLE</th></tr></thead>\n",
       "<tbody>\n",
       "\t<tr><td>BC </td><td>NA </td><td>NA </td><td>NA </td><td>NA </td><td>NA </td><td>NA </td><td>NA </td></tr>\n",
       "\t<tr><td>LC </td><td>NA </td><td>NA </td><td>NA </td><td>NA </td><td>NA </td><td>NA </td><td>NA </td></tr>\n",
       "\t<tr><td>MUO</td><td>NA </td><td>NA </td><td>NA </td><td>NA </td><td>NA </td><td>NA </td><td>NA </td></tr>\n",
       "\t<tr><td>RA </td><td>NA </td><td>NA </td><td>NA </td><td>NA </td><td>NA </td><td>NA </td><td>NA </td></tr>\n",
       "\t<tr><td>DCM</td><td>NA </td><td>NA </td><td>NA </td><td>NA </td><td>NA </td><td>NA </td><td>NA </td></tr>\n",
       "\t<tr><td>ICM</td><td>NA </td><td>NA </td><td>NA </td><td>NA </td><td>NA </td><td>NA </td><td>NA </td></tr>\n",
       "\t<tr><td>SLE</td><td>NA </td><td>NA </td><td>NA </td><td>NA </td><td>NA </td><td>NA </td><td>NA </td></tr>\n",
       "</tbody>\n",
       "</table>\n"
      ],
      "text/latex": [
       "\\begin{tabular}{r|llllllll}\n",
       " Disease & BC & LC & MUO & RA & DCM & ICM & SLE\\\\\n",
       "\\hline\n",
       "\t BC  & NA  & NA  & NA  & NA  & NA  & NA  & NA \\\\\n",
       "\t LC  & NA  & NA  & NA  & NA  & NA  & NA  & NA \\\\\n",
       "\t MUO & NA  & NA  & NA  & NA  & NA  & NA  & NA \\\\\n",
       "\t RA  & NA  & NA  & NA  & NA  & NA  & NA  & NA \\\\\n",
       "\t DCM & NA  & NA  & NA  & NA  & NA  & NA  & NA \\\\\n",
       "\t ICM & NA  & NA  & NA  & NA  & NA  & NA  & NA \\\\\n",
       "\t SLE & NA  & NA  & NA  & NA  & NA  & NA  & NA \\\\\n",
       "\\end{tabular}\n"
      ],
      "text/markdown": [
       "\n",
       "| Disease | BC | LC | MUO | RA | DCM | ICM | SLE |\n",
       "|---|---|---|---|---|---|---|---|\n",
       "| BC  | NA  | NA  | NA  | NA  | NA  | NA  | NA  |\n",
       "| LC  | NA  | NA  | NA  | NA  | NA  | NA  | NA  |\n",
       "| MUO | NA  | NA  | NA  | NA  | NA  | NA  | NA  |\n",
       "| RA  | NA  | NA  | NA  | NA  | NA  | NA  | NA  |\n",
       "| DCM | NA  | NA  | NA  | NA  | NA  | NA  | NA  |\n",
       "| ICM | NA  | NA  | NA  | NA  | NA  | NA  | NA  |\n",
       "| SLE | NA  | NA  | NA  | NA  | NA  | NA  | NA  |\n",
       "\n"
      ],
      "text/plain": [
       "  Disease BC LC MUO RA DCM ICM SLE\n",
       "1 BC      NA NA NA  NA NA  NA  NA \n",
       "2 LC      NA NA NA  NA NA  NA  NA \n",
       "3 MUO     NA NA NA  NA NA  NA  NA \n",
       "4 RA      NA NA NA  NA NA  NA  NA \n",
       "5 DCM     NA NA NA  NA NA  NA  NA \n",
       "6 ICM     NA NA NA  NA NA  NA  NA \n",
       "7 SLE     NA NA NA  NA NA  NA  NA "
      ]
     },
     "metadata": {},
     "output_type": "display_data"
    }
   ],
   "source": [
    "# first create an empty data frame\n",
    "Disease_list <- c(\"BC\", \"LC\", \"MUO\", \"RA\",\n",
    "                  \"DCM\", \"ICM\", \"SLE\")\n",
    "df <- data.frame(matrix(ncol = 8, nrow = 7))\n",
    "colnames(df)[1] <- \"Disease\"\n",
    "colnames(df)[2:8] <- Disease_list\n",
    "df$Disease <- Disease_list\n",
    "df"
   ]
  },
  {
   "cell_type": "code",
   "execution_count": 21,
   "metadata": {},
   "outputs": [],
   "source": [
    "# fill in values of data files\n",
    "df[1,2] = length(datBC4$entrezgene) # breast cancer\n",
    "df[2,3] = length(datLC4$entrezgene) # lung cancer\n",
    "df[3,4] = length(datMUO4$entrezgene) # MUO\n",
    "df[4,5] = length(datRA_4$entrezgene) # rheumatoid arthritis\n",
    "df[5,6] = length(datDCM4$entrezgene) # DCM\n",
    "df[6,7] = length(datICM4$entrezgene) # ICM\n",
    "df[7,8] = length(datSLE4$entrezgene) # SLE"
   ]
  },
  {
   "cell_type": "code",
   "execution_count": 22,
   "metadata": {},
   "outputs": [],
   "source": [
    "# breast cancer vs the rest\n",
    "df[1,3] = length(as.data.frame(datBC4 %>% filter(datBC4$entrezgene %in% datLC4$entrezgene))$entrezgene) # lung cancer\n",
    "df[2,2] = length(as.data.frame(datBC4 %>% filter(datBC4$entrezgene %in% datLC4$entrezgene))$entrezgene)\n",
    "\n",
    "df[1,4] = length(as.data.frame(datBC4 %>% filter(datBC4$entrezgene %in% datMUO4$entrezgene))$entrezgene) # MUO\n",
    "df[3,2] = length(as.data.frame(datBC4 %>% filter(datBC4$entrezgene %in% datMUO4$entrezgene))$entrezgene)\n",
    "\n",
    "df[1,5] = length(as.data.frame(datBC4 %>% filter(datBC4$entrezgene %in% datRA_4$entrezgene))$entrezgene) # RA\n",
    "df[4,2] = length(as.data.frame(datBC4 %>% filter(datBC4$entrezgene %in% datRA_4$entrezgene))$entrezgene)\n",
    "\n",
    "df[1,6] = length(as.data.frame(datBC4 %>% filter(datBC4$entrezgene %in% datDCM4$entrezgene))$entrezgene) # DCM\n",
    "df[5,2] = length(as.data.frame(datBC4 %>% filter(datBC4$entrezgene %in% datDCM4$entrezgene))$entrezgene)\n",
    "\n",
    "df[1,7] = length(as.data.frame(datBC4 %>% filter(datBC4$entrezgene %in% datICM4$entrezgene))$entrezgene) # ICM\n",
    "df[6,2] = length(as.data.frame(datBC4 %>% filter(datBC4$entrezgene %in% datICM4$entrezgene))$entrezgene)\n",
    "\n",
    "df[1,8] = length(as.data.frame(datBC4 %>% filter(datBC4$entrezgene %in% datSLE4$entrezgene))$entrezgene) # SLE\n",
    "df[7,2] = length(as.data.frame(datBC4 %>% filter(datBC4$entrezgene %in% datSLE4$entrezgene))$entrezgene)"
   ]
  },
  {
   "cell_type": "code",
   "execution_count": 23,
   "metadata": {},
   "outputs": [],
   "source": [
    "# lung cancer vs the rest\n",
    "df[2,4] = length(as.data.frame(datLC4 %>% filter(datLC4$entrezgene %in% datMUO4$entrezgene))$entrezgene) # MUO\n",
    "df[3,3] = length(as.data.frame(datLC4 %>% filter(datLC4$entrezgene %in% datMUO4$entrezgene))$entrezgene)\n",
    "\n",
    "df[2,5] = length(as.data.frame(datLC4 %>% filter(datLC4$entrezgene %in% datRA_4$entrezgene))$entrezgene) # RA\n",
    "df[4,3] = length(as.data.frame(datLC4 %>% filter(datLC4$entrezgene %in% datRA_4$entrezgene))$entrezgene)\n",
    "\n",
    "df[2,6] = length(as.data.frame(datLC4 %>% filter(datLC4$entrezgene %in% datDCM4$entrezgene))$entrezgene) # DCM\n",
    "df[5,3] = length(as.data.frame(datLC4 %>% filter(datLC4$entrezgene %in% datDCM4$entrezgene))$entrezgene)\n",
    "\n",
    "df[2,7] = length(as.data.frame(datLC4 %>% filter(datLC4$entrezgene %in% datICM4$entrezgene))$entrezgene) # ICM\n",
    "df[6,3] = length(as.data.frame(datLC4 %>% filter(datLC4$entrezgene %in% datICM4$entrezgene))$entrezgene)\n",
    "\n",
    "df[2,8] = length(as.data.frame(datLC4 %>% filter(datLC4$entrezgene %in% datSLE4$entrezgene))$entrezgene) # SLE\n",
    "df[7,3] = length(as.data.frame(datLC4 %>% filter(datLC4$entrezgene %in% datSLE4$entrezgene))$entrezgene)"
   ]
  },
  {
   "cell_type": "code",
   "execution_count": 24,
   "metadata": {},
   "outputs": [],
   "source": [
    "# MUO vs the rest\n",
    "df[3,5] = length(as.data.frame(datMUO4 %>% filter(datMUO4$entrezgene %in% datRA_4$entrezgene))$entrezgene) # RA\n",
    "df[4,4] = length(as.data.frame(datMUO4 %>% filter(datMUO4$entrezgene %in% datRA_4$entrezgene))$entrezgene)\n",
    "\n",
    "df[3,6] = length(as.data.frame(datMUO4 %>% filter(datMUO4$entrezgene %in% datDCM4$entrezgene))$entrezgene) # DCM\n",
    "df[5,4] = length(as.data.frame(datMUO4 %>% filter(datMUO4$entrezgene %in% datDCM4$entrezgene))$entrezgene)\n",
    "\n",
    "df[3,7] = length(as.data.frame(datMUO4 %>% filter(datMUO4$entrezgene %in% datICM4$entrezgene))$entrezgene) # ICM\n",
    "df[6,4] = length(as.data.frame(datMUO4 %>% filter(datMUO4$entrezgene %in% datICM4$entrezgene))$entrezgene)\n",
    "\n",
    "df[3,8] = length(as.data.frame(datMUO4 %>% filter(datMUO4$entrezgene %in% datSLE4$entrezgene))$entrezgene) # SLE\n",
    "df[7,4] = length(as.data.frame(datMUO4 %>% filter(datMUO4$entrezgene %in% datSLE4$entrezgene))$entrezgene)"
   ]
  },
  {
   "cell_type": "code",
   "execution_count": 25,
   "metadata": {},
   "outputs": [],
   "source": [
    "# RA235 vs the rest\n",
    "df[4,6] = length(as.data.frame(datRA_4 %>% filter(datRA_4$entrezgene %in% datDCM4$entrezgene))$entrezgene) # DCM\n",
    "df[5,5] = length(as.data.frame(datRA_4 %>% filter(datRA_4$entrezgene %in% datDCM4$entrezgene))$entrezgene)\n",
    "\n",
    "df[4,7] = length(as.data.frame(datRA_4 %>% filter(datRA_4$entrezgene %in% datICM4$entrezgene))$entrezgene) # ICM\n",
    "df[6,5] = length(as.data.frame(datRA_4 %>% filter(datRA_4$entrezgene %in% datICM4$entrezgene))$entrezgene)\n",
    "\n",
    "df[4,8] = length(as.data.frame(datRA_4 %>% filter(datRA_4$entrezgene %in% datSLE4$entrezgene))$entrezgene) # SLE\n",
    "df[7,5] = length(as.data.frame(datRA_4 %>% filter(datRA_4$entrezgene %in% datSLE4$entrezgene))$entrezgene)"
   ]
  },
  {
   "cell_type": "code",
   "execution_count": 26,
   "metadata": {},
   "outputs": [],
   "source": [
    "# DCM vs the rest\n",
    "df[5,7] = length(as.data.frame(datDCM4 %>% filter(datDCM4$entrezgene %in% datICM4$entrezgene))$entrezgene) # ICM\n",
    "df[6,6] = length(as.data.frame(datDCM4 %>% filter(datDCM4$entrezgene %in% datICM4$entrezgene))$entrezgene)\n",
    "\n",
    "df[7,6] = length(as.data.frame(datDCM4 %>% filter(datDCM4$entrezgene %in% datSLE4$entrezgene))$entrezgene) # SLE\n",
    "df[5,8] = length(as.data.frame(datDCM4 %>% filter(datDCM4$entrezgene %in% datSLE4$entrezgene))$entrezgene)"
   ]
  },
  {
   "cell_type": "code",
   "execution_count": 27,
   "metadata": {},
   "outputs": [],
   "source": [
    "# ICM vs the rest\n",
    "df[6,8] = length(as.data.frame(datICM4 %>% filter(datICM4$entrezgene %in% datSLE4$entrezgene))$entrezgene) # SLE\n",
    "df[7,7] = length(as.data.frame(datICM4 %>% filter(datICM4$entrezgene %in% datSLE4$entrezgene))$entrezgene)"
   ]
  },
  {
   "cell_type": "code",
   "execution_count": 28,
   "metadata": {
    "scrolled": true
   },
   "outputs": [
    {
     "data": {
      "text/html": [
       "<table>\n",
       "<thead><tr><th scope=col>Disease</th><th scope=col>BC</th><th scope=col>LC</th><th scope=col>MUO</th><th scope=col>RA</th><th scope=col>DCM</th><th scope=col>ICM</th><th scope=col>SLE</th></tr></thead>\n",
       "<tbody>\n",
       "\t<tr><td>BC </td><td>198</td><td> 76</td><td>26 </td><td> 63</td><td>36 </td><td>46 </td><td>13 </td></tr>\n",
       "\t<tr><td>LC </td><td> 76</td><td>147</td><td>14 </td><td> 49</td><td>27 </td><td>34 </td><td>12 </td></tr>\n",
       "\t<tr><td>MUO</td><td> 26</td><td> 14</td><td>44 </td><td> 28</td><td>12 </td><td>12 </td><td> 2 </td></tr>\n",
       "\t<tr><td>RA </td><td> 63</td><td> 49</td><td>28 </td><td>111</td><td>25 </td><td>33 </td><td> 5 </td></tr>\n",
       "\t<tr><td>DCM</td><td> 36</td><td> 27</td><td>12 </td><td> 25</td><td>62 </td><td>40 </td><td> 2 </td></tr>\n",
       "\t<tr><td>ICM</td><td> 46</td><td> 34</td><td>12 </td><td> 33</td><td>40 </td><td>88 </td><td> 7 </td></tr>\n",
       "\t<tr><td>SLE</td><td> 13</td><td> 12</td><td> 2 </td><td>  5</td><td> 2 </td><td> 7 </td><td>24 </td></tr>\n",
       "</tbody>\n",
       "</table>\n"
      ],
      "text/latex": [
       "\\begin{tabular}{r|llllllll}\n",
       " Disease & BC & LC & MUO & RA & DCM & ICM & SLE\\\\\n",
       "\\hline\n",
       "\t BC  & 198 &  76 & 26  &  63 & 36  & 46  & 13 \\\\\n",
       "\t LC  &  76 & 147 & 14  &  49 & 27  & 34  & 12 \\\\\n",
       "\t MUO &  26 &  14 & 44  &  28 & 12  & 12  &  2 \\\\\n",
       "\t RA  &  63 &  49 & 28  & 111 & 25  & 33  &  5 \\\\\n",
       "\t DCM &  36 &  27 & 12  &  25 & 62  & 40  &  2 \\\\\n",
       "\t ICM &  46 &  34 & 12  &  33 & 40  & 88  &  7 \\\\\n",
       "\t SLE &  13 &  12 &  2  &   5 &  2  &  7  & 24 \\\\\n",
       "\\end{tabular}\n"
      ],
      "text/markdown": [
       "\n",
       "| Disease | BC | LC | MUO | RA | DCM | ICM | SLE |\n",
       "|---|---|---|---|---|---|---|---|\n",
       "| BC  | 198 |  76 | 26  |  63 | 36  | 46  | 13  |\n",
       "| LC  |  76 | 147 | 14  |  49 | 27  | 34  | 12  |\n",
       "| MUO |  26 |  14 | 44  |  28 | 12  | 12  |  2  |\n",
       "| RA  |  63 |  49 | 28  | 111 | 25  | 33  |  5  |\n",
       "| DCM |  36 |  27 | 12  |  25 | 62  | 40  |  2  |\n",
       "| ICM |  46 |  34 | 12  |  33 | 40  | 88  |  7  |\n",
       "| SLE |  13 |  12 |  2  |   5 |  2  |  7  | 24  |\n",
       "\n"
      ],
      "text/plain": [
       "  Disease BC  LC  MUO RA  DCM ICM SLE\n",
       "1 BC      198  76 26   63 36  46  13 \n",
       "2 LC       76 147 14   49 27  34  12 \n",
       "3 MUO      26  14 44   28 12  12   2 \n",
       "4 RA       63  49 28  111 25  33   5 \n",
       "5 DCM      36  27 12   25 62  40   2 \n",
       "6 ICM      46  34 12   33 40  88   7 \n",
       "7 SLE      13  12  2    5  2   7  24 "
      ]
     },
     "metadata": {},
     "output_type": "display_data"
    }
   ],
   "source": [
    "# save data frame as text file\n",
    "write.table(df, file.path(getwd(), \"Results\", \"pw_genes\", \"0.58n_sigGenes.txt\"), sep = \"\\t\", row.names = F, quote = F)\n",
    "\n",
    "# view table\n",
    "df"
   ]
  },
  {
   "cell_type": "code",
   "execution_count": 29,
   "metadata": {},
   "outputs": [],
   "source": [
    "# create another empty data frame, just like before\n",
    "df_perc <- data.frame(matrix(ncol = 8, nrow = 7))\n",
    "colnames(df_perc)[1] <- \"Disease\"\n",
    "colnames(df_perc)[2:8] <- Disease_list\n",
    "df_perc$Disease <- Disease_list\n",
    "\n",
    "# fill in the number of significant differntially expressed genes per disease\n",
    "# fill in values of data files\n",
    "df_perc[1,2] = length(datBC4$entrezgene) # breast cancer\n",
    "df_perc[2,3] = length(datLC4$entrezgene) # lung cancer\n",
    "df_perc[3,4] = length(datMUO4$entrezgene) # MUO\n",
    "df_perc[4,5] = length(datRA_4$entrezgene) # rheumatoid arthritis\n",
    "df_perc[5,6] = length(datDCM4$entrezgene) # DCM\n",
    "df_perc[6,7] = length(datICM4$entrezgene) # ICM\n",
    "df_perc[7,8] = length(datSLE4$entrezgene) # SLE"
   ]
  },
  {
   "cell_type": "code",
   "execution_count": 30,
   "metadata": {},
   "outputs": [
    {
     "data": {
      "text/html": [
       "<table>\n",
       "<thead><tr><th scope=col>Disease</th><th scope=col>BC</th><th scope=col>LC</th><th scope=col>MUO</th><th scope=col>RA</th><th scope=col>DCM</th><th scope=col>ICM</th><th scope=col>SLE</th></tr></thead>\n",
       "<tbody>\n",
       "\t<tr><td>BC </td><td>198</td><td> 38</td><td>13 </td><td> 32</td><td>18 </td><td>23 </td><td> 7 </td></tr>\n",
       "\t<tr><td>LC </td><td> 52</td><td>147</td><td>10 </td><td> 33</td><td>18 </td><td>23 </td><td> 8 </td></tr>\n",
       "\t<tr><td>MUO</td><td> 59</td><td> 32</td><td>44 </td><td> 64</td><td>27 </td><td>27 </td><td> 4 </td></tr>\n",
       "\t<tr><td>RA </td><td> 57</td><td> 44</td><td>25 </td><td>111</td><td>22 </td><td>30 </td><td> 4 </td></tr>\n",
       "\t<tr><td>DCM</td><td> 58</td><td> 44</td><td>19 </td><td> 40</td><td>62 </td><td>64 </td><td> 3 </td></tr>\n",
       "\t<tr><td>ICM</td><td> 52</td><td> 39</td><td>14 </td><td> 38</td><td>46 </td><td>88 </td><td> 8 </td></tr>\n",
       "\t<tr><td>SLE</td><td> 54</td><td> 50</td><td> 8 </td><td> 21</td><td> 8 </td><td>29 </td><td>24 </td></tr>\n",
       "</tbody>\n",
       "</table>\n"
      ],
      "text/latex": [
       "\\begin{tabular}{r|llllllll}\n",
       " Disease & BC & LC & MUO & RA & DCM & ICM & SLE\\\\\n",
       "\\hline\n",
       "\t BC  & 198 &  38 & 13  &  32 & 18  & 23  &  7 \\\\\n",
       "\t LC  &  52 & 147 & 10  &  33 & 18  & 23  &  8 \\\\\n",
       "\t MUO &  59 &  32 & 44  &  64 & 27  & 27  &  4 \\\\\n",
       "\t RA  &  57 &  44 & 25  & 111 & 22  & 30  &  4 \\\\\n",
       "\t DCM &  58 &  44 & 19  &  40 & 62  & 64  &  3 \\\\\n",
       "\t ICM &  52 &  39 & 14  &  38 & 46  & 88  &  8 \\\\\n",
       "\t SLE &  54 &  50 &  8  &  21 &  8  & 29  & 24 \\\\\n",
       "\\end{tabular}\n"
      ],
      "text/markdown": [
       "\n",
       "| Disease | BC | LC | MUO | RA | DCM | ICM | SLE |\n",
       "|---|---|---|---|---|---|---|---|\n",
       "| BC  | 198 |  38 | 13  |  32 | 18  | 23  |  7  |\n",
       "| LC  |  52 | 147 | 10  |  33 | 18  | 23  |  8  |\n",
       "| MUO |  59 |  32 | 44  |  64 | 27  | 27  |  4  |\n",
       "| RA  |  57 |  44 | 25  | 111 | 22  | 30  |  4  |\n",
       "| DCM |  58 |  44 | 19  |  40 | 62  | 64  |  3  |\n",
       "| ICM |  52 |  39 | 14  |  38 | 46  | 88  |  8  |\n",
       "| SLE |  54 |  50 |  8  |  21 |  8  | 29  | 24  |\n",
       "\n"
      ],
      "text/plain": [
       "  Disease BC  LC  MUO RA  DCM ICM SLE\n",
       "1 BC      198  38 13   32 18  23   7 \n",
       "2 LC       52 147 10   33 18  23   8 \n",
       "3 MUO      59  32 44   64 27  27   4 \n",
       "4 RA       57  44 25  111 22  30   4 \n",
       "5 DCM      58  44 19   40 62  64   3 \n",
       "6 ICM      52  39 14   38 46  88   8 \n",
       "7 SLE      54  50  8   21  8  29  24 "
      ]
     },
     "metadata": {},
     "output_type": "display_data"
    }
   ],
   "source": [
    "# breast cancer\n",
    "df_perc[1,3] = round(((df[1,3] / df_perc[1,2]) * 100), 1)\n",
    "df_perc[1,4] = round(((df[1,4] / df_perc[1,2]) * 100), 1)\n",
    "df_perc[1,5] = round(((df[1,5] / df_perc[1,2]) * 100), 1)\n",
    "df_perc[1,6] = round(((df[1,6] / df_perc[1,2]) * 100), 1)\n",
    "df_perc[1,7] = round(((df[1,7] / df_perc[1,2]) * 100), 1)\n",
    "df_perc[1,8] = round(((df[1,8] / df_perc[1,2]) * 100), 1)\n",
    "\n",
    "# lung cancer\n",
    "df_perc[2,2] = round(((df[2,2] / df_perc[2,3]) * 100), 1)\n",
    "df_perc[2,4] = round(((df[2,4] / df_perc[2,3]) * 100), 1)\n",
    "df_perc[2,5] = round(((df[2,5] / df_perc[2,3]) * 100), 1)\n",
    "df_perc[2,6] = round(((df[2,6] / df_perc[2,3]) * 100), 1)\n",
    "df_perc[2,7] = round(((df[2,7] / df_perc[2,3]) * 100), 1)\n",
    "df_perc[2,8] = round(((df[2,8] / df_perc[2,3]) * 100), 1)\n",
    "\n",
    "# MUO\n",
    "df_perc[3,2] = round(((df[3,2] / df_perc[3,4]) * 100), 1)\n",
    "df_perc[3,3] = round(((df[3,3] / df_perc[3,4]) * 100), 1)\n",
    "df_perc[3,5] = round(((df[3,5] / df_perc[3,4]) * 100), 1)\n",
    "df_perc[3,6] = round(((df[3,6] / df_perc[3,4]) * 100), 1)\n",
    "df_perc[3,7] = round(((df[3,7] / df_perc[3,4]) * 100), 1)\n",
    "df_perc[3,8] = round(((df[3,8] / df_perc[3,4]) * 100), 1)\n",
    "\n",
    "# RA\n",
    "df_perc[4,2] = round(((df[4,2] / df_perc[4,5]) * 100), 1)\n",
    "df_perc[4,3] = round(((df[4,3] / df_perc[4,5]) * 100), 1)\n",
    "df_perc[4,4] = round(((df[4,4] / df_perc[4,5]) * 100), 1)\n",
    "df_perc[4,6] = round(((df[4,6] / df_perc[4,5]) * 100), 1)\n",
    "df_perc[4,7] = round(((df[4,7] / df_perc[4,5]) * 100), 1)\n",
    "df_perc[4,8] = round(((df[4,8] / df_perc[4,5]) * 100), 1)\n",
    "\n",
    "# DCM\n",
    "df_perc[5,2] = round(((df[5,2] / df_perc[5,6]) * 100), 1)\n",
    "df_perc[5,3] = round(((df[5,3] / df_perc[5,6]) * 100), 1)\n",
    "df_perc[5,4] = round(((df[5,4] / df_perc[5,6]) * 100), 1)\n",
    "df_perc[5,5] = round(((df[5,5] / df_perc[5,6]) * 100), 1)\n",
    "df_perc[5,7] = round(((df[5,7] / df_perc[5,6]) * 100), 1)\n",
    "df_perc[5,8] = round(((df[5,8] / df_perc[5,6]) * 100), 1)\n",
    "\n",
    "# ICM\n",
    "df_perc[6,2] = round(((df[6,2] / df_perc[6,7]) * 100), 1)\n",
    "df_perc[6,3] = round(((df[6,3] / df_perc[6,7]) * 100), 1)\n",
    "df_perc[6,4] = round(((df[6,4] / df_perc[6,7]) * 100), 1)\n",
    "df_perc[6,5] = round(((df[6,5] / df_perc[6,7]) * 100), 1)\n",
    "df_perc[6,6] = round(((df[6,6] / df_perc[6,7]) * 100), 1)\n",
    "df_perc[6,8] = round(((df[6,8] / df_perc[6,7]) * 100), 1)\n",
    "\n",
    "# SLE\n",
    "df_perc[7,2] = round(((df[7,2] / df_perc[7,8]) * 100), 1)\n",
    "df_perc[7,3] = round(((df[7,3] / df_perc[7,8]) * 100), 1)\n",
    "df_perc[7,4] = round(((df[7,4] / df_perc[7,8]) * 100), 1)\n",
    "df_perc[7,5] = round(((df[7,5] / df_perc[7,8]) * 100), 1)\n",
    "df_perc[7,6] = round(((df[7,6] / df_perc[7,8]) * 100), 1)\n",
    "df_perc[7,7] = round(((df[7,7] / df_perc[7,8]) * 100), 1)\n",
    "\n",
    "df_perc1 <- df_perc\n",
    "df_perc1 <- format(df_perc1, digits = 1)\n",
    "df_perc1"
   ]
  },
  {
   "cell_type": "code",
   "execution_count": 31,
   "metadata": {},
   "outputs": [
    {
     "data": {
      "text/html": [
       "<table>\n",
       "<thead><tr><th scope=col>Disease</th><th scope=col>BC</th><th scope=col>LC</th><th scope=col>MUO</th><th scope=col>RA</th><th scope=col>DCM</th><th scope=col>ICM</th><th scope=col>SLE</th></tr></thead>\n",
       "<tbody>\n",
       "\t<tr><td>BC    </td><td>198   </td><td>38.4 %</td><td>13.1 %</td><td>31.8 %</td><td>18.2 %</td><td>23.2 %</td><td>6.6 % </td></tr>\n",
       "\t<tr><td>LC    </td><td>51.7 %</td><td>147   </td><td>9.5 % </td><td>33.3 %</td><td>18.4 %</td><td>23.1 %</td><td>8.2 % </td></tr>\n",
       "\t<tr><td>MUO   </td><td>59.1 %</td><td>31.8 %</td><td>44    </td><td>63.6 %</td><td>27.3 %</td><td>27.3 %</td><td>4.5 % </td></tr>\n",
       "\t<tr><td>RA    </td><td>56.8 %</td><td>44.1 %</td><td>25.2 %</td><td>111   </td><td>22.5 %</td><td>29.7 %</td><td>4.5 % </td></tr>\n",
       "\t<tr><td>DCM   </td><td>58.1 %</td><td>43.5 %</td><td>19.4 %</td><td>40.3 %</td><td>62    </td><td>64.5 %</td><td>3.2 % </td></tr>\n",
       "\t<tr><td>ICM   </td><td>52.3 %</td><td>38.6 %</td><td>13.6 %</td><td>37.5 %</td><td>45.5 %</td><td>88    </td><td>8 %   </td></tr>\n",
       "\t<tr><td>SLE   </td><td>54.2 %</td><td>50 %  </td><td>8.3 % </td><td>20.8 %</td><td>8.3 % </td><td>29.2 %</td><td>24    </td></tr>\n",
       "</tbody>\n",
       "</table>\n"
      ],
      "text/latex": [
       "\\begin{tabular}{r|llllllll}\n",
       " Disease & BC & LC & MUO & RA & DCM & ICM & SLE\\\\\n",
       "\\hline\n",
       "\t BC       & 198      & 38.4 \\% & 13.1 \\% & 31.8 \\% & 18.2 \\% & 23.2 \\% & 6.6 \\% \\\\\n",
       "\t LC       & 51.7 \\% & 147      & 9.5 \\%  & 33.3 \\% & 18.4 \\% & 23.1 \\% & 8.2 \\% \\\\\n",
       "\t MUO      & 59.1 \\% & 31.8 \\% & 44       & 63.6 \\% & 27.3 \\% & 27.3 \\% & 4.5 \\% \\\\\n",
       "\t RA       & 56.8 \\% & 44.1 \\% & 25.2 \\% & 111      & 22.5 \\% & 29.7 \\% & 4.5 \\% \\\\\n",
       "\t DCM      & 58.1 \\% & 43.5 \\% & 19.4 \\% & 40.3 \\% & 62       & 64.5 \\% & 3.2 \\% \\\\\n",
       "\t ICM      & 52.3 \\% & 38.6 \\% & 13.6 \\% & 37.5 \\% & 45.5 \\% & 88       & 8 \\%   \\\\\n",
       "\t SLE      & 54.2 \\% & 50 \\%   & 8.3 \\%  & 20.8 \\% & 8.3 \\%  & 29.2 \\% & 24      \\\\\n",
       "\\end{tabular}\n"
      ],
      "text/markdown": [
       "\n",
       "| Disease | BC | LC | MUO | RA | DCM | ICM | SLE |\n",
       "|---|---|---|---|---|---|---|---|\n",
       "| BC     | 198    | 38.4 % | 13.1 % | 31.8 % | 18.2 % | 23.2 % | 6.6 %  |\n",
       "| LC     | 51.7 % | 147    | 9.5 %  | 33.3 % | 18.4 % | 23.1 % | 8.2 %  |\n",
       "| MUO    | 59.1 % | 31.8 % | 44     | 63.6 % | 27.3 % | 27.3 % | 4.5 %  |\n",
       "| RA     | 56.8 % | 44.1 % | 25.2 % | 111    | 22.5 % | 29.7 % | 4.5 %  |\n",
       "| DCM    | 58.1 % | 43.5 % | 19.4 % | 40.3 % | 62     | 64.5 % | 3.2 %  |\n",
       "| ICM    | 52.3 % | 38.6 % | 13.6 % | 37.5 % | 45.5 % | 88     | 8 %    |\n",
       "| SLE    | 54.2 % | 50 %   | 8.3 %  | 20.8 % | 8.3 %  | 29.2 % | 24     |\n",
       "\n"
      ],
      "text/plain": [
       "  Disease BC     LC     MUO    RA     DCM    ICM    SLE  \n",
       "1 BC      198    38.4 % 13.1 % 31.8 % 18.2 % 23.2 % 6.6 %\n",
       "2 LC      51.7 % 147    9.5 %  33.3 % 18.4 % 23.1 % 8.2 %\n",
       "3 MUO     59.1 % 31.8 % 44     63.6 % 27.3 % 27.3 % 4.5 %\n",
       "4 RA      56.8 % 44.1 % 25.2 % 111    22.5 % 29.7 % 4.5 %\n",
       "5 DCM     58.1 % 43.5 % 19.4 % 40.3 % 62     64.5 % 3.2 %\n",
       "6 ICM     52.3 % 38.6 % 13.6 % 37.5 % 45.5 % 88     8 %  \n",
       "7 SLE     54.2 % 50 %   8.3 %  20.8 % 8.3 %  29.2 % 24   "
      ]
     },
     "metadata": {},
     "output_type": "display_data"
    }
   ],
   "source": [
    "# add percentages, has to go via this way instead of adding it in the lines of code above. \n",
    "# While adding it to the lines of code above, errors occur that no numeric values are used in the equation\n",
    "# breast cancer\n",
    "df_perc[1,3] = paste(df_perc[1,3],\"%\")\n",
    "df_perc[1,4] = paste(df_perc[1,4],\"%\")\n",
    "df_perc[1,5] = paste(df_perc[1,5],\"%\")\n",
    "df_perc[1,6] = paste(df_perc[1,6],\"%\")\n",
    "df_perc[1,7] = paste(df_perc[1,7],\"%\")\n",
    "df_perc[1,8] = paste(df_perc[1,8],\"%\")\n",
    "\n",
    "# lung cancer\n",
    "df_perc[2,2] = paste(df_perc[2,2],\"%\") \n",
    "df_perc[2,4] = paste(df_perc[2,4],\"%\") \n",
    "df_perc[2,5] = paste(df_perc[2,5],\"%\")\n",
    "df_perc[2,6] = paste(df_perc[2,6],\"%\")\n",
    "df_perc[2,7] = paste(df_perc[2,7],\"%\")\n",
    "df_perc[2,8] = paste(df_perc[2,8],\"%\")\n",
    "\n",
    "# MUO\n",
    "df_perc[3,2] = paste(df_perc[3,2],\"%\")\n",
    "df_perc[3,3] = paste(df_perc[3,3],\"%\")\n",
    "df_perc[3,5] = paste(df_perc[3,5],\"%\")\n",
    "df_perc[3,6] = paste(df_perc[3,6],\"%\")\n",
    "df_perc[3,7] = paste(df_perc[3,7],\"%\")\n",
    "df_perc[3,8] = paste(df_perc[3,8],\"%\")\n",
    "\n",
    "# RA\n",
    "df_perc[4,2] = paste(df_perc[4,2],\"%\")\n",
    "df_perc[4,3] = paste(df_perc[4,3],\"%\")\n",
    "df_perc[4,4] = paste(df_perc[4,4],\"%\")\n",
    "df_perc[4,6] = paste(df_perc[4,6],\"%\")\n",
    "df_perc[4,7] = paste(df_perc[4,7],\"%\")\n",
    "df_perc[4,8] = paste(df_perc[4,8],\"%\")\n",
    "\n",
    "# DCM\n",
    "df_perc[5,2] = paste(df_perc[5,2],\"%\")\n",
    "df_perc[5,3] = paste(df_perc[5,3],\"%\")\n",
    "df_perc[5,4] = paste(df_perc[5,4],\"%\")\n",
    "df_perc[5,5] = paste(df_perc[5,5],\"%\")\n",
    "df_perc[5,7] = paste(df_perc[5,7],\"%\")\n",
    "df_perc[5,8] = paste(df_perc[5,8],\"%\")\n",
    "\n",
    "# ICM\n",
    "df_perc[6,2] = paste(df_perc[6,2],\"%\")\n",
    "df_perc[6,3] = paste(df_perc[6,3],\"%\")\n",
    "df_perc[6,4] = paste(df_perc[6,4],\"%\")\n",
    "df_perc[6,5] = paste(df_perc[6,5],\"%\")\n",
    "df_perc[6,6] = paste(df_perc[6,6],\"%\")\n",
    "df_perc[6,8] = paste(df_perc[6,8],\"%\")\n",
    "\n",
    "# SLE\n",
    "df_perc[7,2] = paste(df_perc[7,2],\"%\")\n",
    "df_perc[7,3] = paste(df_perc[7,3],\"%\")\n",
    "df_perc[7,4] = paste(df_perc[7,4],\"%\")\n",
    "df_perc[7,5] = paste(df_perc[7,5],\"%\")\n",
    "df_perc[7,6] = paste(df_perc[7,6],\"%\")\n",
    "df_perc[7,7] = paste(df_perc[7,7],\"%\")\n",
    "\n",
    "# save data frame as text file\n",
    "write.table(df_perc, file.path(getwd(), \"Results\", \"pw_genes\", \"0.58perc_n_sigGenes.txt\"), sep = \"\\t\", row.names = F, quote = F)\n",
    "\n",
    "df_perc"
   ]
  },
  {
   "cell_type": "code",
   "execution_count": 32,
   "metadata": {},
   "outputs": [
    {
     "data": {
      "text/html": [
       "<table>\n",
       "<thead><tr><th></th><th scope=col>BC</th><th scope=col>LC</th><th scope=col>MUO</th><th scope=col>RA</th><th scope=col>DCM</th><th scope=col>ICM</th><th scope=col>SLE</th></tr></thead>\n",
       "<tbody>\n",
       "\t<tr><th scope=row>BC</th><td>198</td><td> 38</td><td>13 </td><td> 32</td><td>18 </td><td>23 </td><td> 7 </td></tr>\n",
       "\t<tr><th scope=row>LC</th><td> 52</td><td>147</td><td>10 </td><td> 33</td><td>18 </td><td>23 </td><td> 8 </td></tr>\n",
       "\t<tr><th scope=row>MUO</th><td> 59</td><td> 32</td><td>44 </td><td> 64</td><td>27 </td><td>27 </td><td> 4 </td></tr>\n",
       "\t<tr><th scope=row>RA</th><td> 57</td><td> 44</td><td>25 </td><td>111</td><td>22 </td><td>30 </td><td> 4 </td></tr>\n",
       "\t<tr><th scope=row>DCM</th><td> 58</td><td> 44</td><td>19 </td><td> 40</td><td>62 </td><td>64 </td><td> 3 </td></tr>\n",
       "\t<tr><th scope=row>ICM</th><td> 52</td><td> 39</td><td>14 </td><td> 38</td><td>46 </td><td>88 </td><td> 8 </td></tr>\n",
       "\t<tr><th scope=row>SLE</th><td> 54</td><td> 50</td><td> 8 </td><td> 21</td><td> 8 </td><td>29 </td><td>24 </td></tr>\n",
       "</tbody>\n",
       "</table>\n"
      ],
      "text/latex": [
       "\\begin{tabular}{r|lllllll}\n",
       "  & BC & LC & MUO & RA & DCM & ICM & SLE\\\\\n",
       "\\hline\n",
       "\tBC & 198 &  38 & 13  &  32 & 18  & 23  &  7 \\\\\n",
       "\tLC &  52 & 147 & 10  &  33 & 18  & 23  &  8 \\\\\n",
       "\tMUO &  59 &  32 & 44  &  64 & 27  & 27  &  4 \\\\\n",
       "\tRA &  57 &  44 & 25  & 111 & 22  & 30  &  4 \\\\\n",
       "\tDCM &  58 &  44 & 19  &  40 & 62  & 64  &  3 \\\\\n",
       "\tICM &  52 &  39 & 14  &  38 & 46  & 88  &  8 \\\\\n",
       "\tSLE &  54 &  50 &  8  &  21 &  8  & 29  & 24 \\\\\n",
       "\\end{tabular}\n"
      ],
      "text/markdown": [
       "\n",
       "| <!--/--> | BC | LC | MUO | RA | DCM | ICM | SLE |\n",
       "|---|---|---|---|---|---|---|---|\n",
       "| BC | 198 |  38 | 13  |  32 | 18  | 23  |  7  |\n",
       "| LC |  52 | 147 | 10  |  33 | 18  | 23  |  8  |\n",
       "| MUO |  59 |  32 | 44  |  64 | 27  | 27  |  4  |\n",
       "| RA |  57 |  44 | 25  | 111 | 22  | 30  |  4  |\n",
       "| DCM |  58 |  44 | 19  |  40 | 62  | 64  |  3  |\n",
       "| ICM |  52 |  39 | 14  |  38 | 46  | 88  |  8  |\n",
       "| SLE |  54 |  50 |  8  |  21 |  8  | 29  | 24  |\n",
       "\n"
      ],
      "text/plain": [
       "    BC  LC  MUO RA  DCM ICM SLE\n",
       "BC  198  38 13   32 18  23   7 \n",
       "LC   52 147 10   33 18  23   8 \n",
       "MUO  59  32 44   64 27  27   4 \n",
       "RA   57  44 25  111 22  30   4 \n",
       "DCM  58  44 19   40 62  64   3 \n",
       "ICM  52  39 14   38 46  88   8 \n",
       "SLE  54  50  8   21  8  29  24 "
      ]
     },
     "metadata": {},
     "output_type": "display_data"
    }
   ],
   "source": [
    "# create matrix from data frame and have first column as rownames\n",
    "rownames(df_perc1) <- df_perc1$Disease\n",
    "df_perc1 <- df_perc1[-1]\n",
    "\n",
    "df_perc1 <- as.matrix(as.data.frame(lapply(df_perc1, as.numeric), row.names = Disease_list))\n",
    "\n",
    "df_perc_matrix <- as.matrix(df_perc1)\n",
    "df_perc_matrix"
   ]
  },
  {
   "cell_type": "code",
   "execution_count": 33,
   "metadata": {},
   "outputs": [
    {
     "name": "stderr",
     "output_type": "stream",
     "text": [
      "Warning message in heatmap.2(as.matrix(df_perc_matrix), cellnote = df_perc_matrix, :\n",
      "\"Discrepancy: Rowv is FALSE, while dendrogram is `both'. Omitting row dendogram.\"Warning message in heatmap.2(as.matrix(df_perc_matrix), cellnote = df_perc_matrix, :\n",
      "\"Discrepancy: Colv is FALSE, while dendrogram is `column'. Omitting column dendogram.\""
     ]
    },
    {
     "data": {
      "text/html": [
       "<strong>jpeg:</strong> 3"
      ],
      "text/latex": [
       "\\textbf{jpeg:} 3"
      ],
      "text/markdown": [
       "**jpeg:** 3"
      ],
      "text/plain": [
       "jpeg \n",
       "   3 "
      ]
     },
     "metadata": {},
     "output_type": "display_data"
    },
    {
     "data": {
      "text/html": [
       "<strong>png:</strong> 2"
      ],
      "text/latex": [
       "\\textbf{png:} 2"
      ],
      "text/markdown": [
       "**png:** 2"
      ],
      "text/plain": [
       "png \n",
       "  2 "
      ]
     },
     "metadata": {},
     "output_type": "display_data"
    },
    {
     "data": {
      "image/png": "[encoded data removed]",
      "text/plain": [
       "Plot with title \"Percentage overlapping genes (%)\n",
       "logFC < -0.58 OR > 0.58\n",
       "Pathway genes\""
      ]
     },
     "metadata": {},
     "output_type": "display_data"
    }
   ],
   "source": [
    "# create color mapping\n",
    "colfunc <- colorRampPalette(c(\"yellow\", \"red\"))\n",
    "\n",
    "# create heatmap\n",
    "df_perc_matrix[1,1] <- NA\n",
    "df_perc_matrix[2,2] <- NA\n",
    "df_perc_matrix[3,3] <- NA\n",
    "df_perc_matrix[4,4] <- NA\n",
    "df_perc_matrix[5,5] <- NA\n",
    "df_perc_matrix[6,6] <- NA\n",
    "df_perc_matrix[7,7] <- NA\n",
    "\n",
    "df_perc_hm <- heatmap.2(as.matrix(df_perc_matrix) , cellnote = df_perc_matrix, notecol = \"black\", \n",
    "                     Rowv = NA, Colv = NA, col =colfunc,\n",
    "                     trace = \"none\", density.info = \"none\", key = F,\n",
    "                     main = \"Percentage overlapping genes (%)\n",
    "logFC < -0.58 OR > 0.58\n",
    "Pathway genes\", margin = c(5,4), lhei = c(1,7))\n",
    "\n",
    "# save heatmap as image\n",
    "dev.copy(jpeg, filename = file.path(getwd(),\"Results\", \"pw_genes\", \"0.58heatmap.jpg\"));\n",
    "dev.off ();"
   ]
  }
 ],
 "metadata": {
  "kernelspec": {
   "display_name": "R",
   "language": "R",
   "name": "ir"
  },
  "language_info": {
   "codemirror_mode": "r",
   "file_extension": ".r",
   "mimetype": "text/x-r-source",
   "name": "R",
   "pygments_lexer": "r",
   "version": "3.5.1"
  }
 },
 "nbformat": 4,
 "nbformat_minor": 2
}
