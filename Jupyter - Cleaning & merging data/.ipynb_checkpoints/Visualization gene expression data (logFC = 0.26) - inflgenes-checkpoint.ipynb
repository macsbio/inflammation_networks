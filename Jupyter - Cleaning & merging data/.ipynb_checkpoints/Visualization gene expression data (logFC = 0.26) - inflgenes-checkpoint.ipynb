{
 "cells": [
  {
   "cell_type": "markdown",
   "metadata": {},
   "source": [
    "# Visualization gene expression data"
   ]
  },
  {
   "cell_type": "markdown",
   "metadata": {},
   "source": [
    "Previously we merged the gene expression data files of various diseases together. In this notebook we will some basic visualizations to get a better understanding of our data before we are going to integrate it with our network. In this notebook we will use the merged_data_final.txt file."
   ]
  },
  {
   "cell_type": "markdown",
   "metadata": {},
   "source": [
    "#### The following step only works in RStudio. If working in another environment, please set the working directory properly and check if the working directory is correct. "
   ]
  },
  {
   "cell_type": "code",
   "execution_count": null,
   "metadata": {},
   "outputs": [],
   "source": [
    "# set working directory to where file is saved\n",
    "setwd(dirname(rstudioapi::callFun(\"getActiveDocumentContext\")$path))"
   ]
  },
  {
   "cell_type": "code",
   "execution_count": 1,
   "metadata": {},
   "outputs": [
    {
     "data": {
      "text/html": [
       "'C:/Users/Laurent/Documents/GitHub/inflammation_networks2/Jupyter - Cleaning &amp; merging data'"
      ],
      "text/latex": [
       "'C:/Users/Laurent/Documents/GitHub/inflammation\\_networks2/Jupyter - Cleaning \\& merging data'"
      ],
      "text/markdown": [
       "'C:/Users/Laurent/Documents/GitHub/inflammation_networks2/Jupyter - Cleaning &amp; merging data'"
      ],
      "text/plain": [
       "[1] \"C:/Users/Laurent/Documents/GitHub/inflammation_networks2/Jupyter - Cleaning & merging data\""
      ]
     },
     "metadata": {},
     "output_type": "display_data"
    }
   ],
   "source": [
    "# get working directory\n",
    "getwd()"
   ]
  },
  {
   "cell_type": "code",
   "execution_count": 2,
   "metadata": {},
   "outputs": [
    {
     "name": "stderr",
     "output_type": "stream",
     "text": [
      "\n",
      "Attaching package: 'dplyr'\n",
      "\n",
      "The following objects are masked from 'package:stats':\n",
      "\n",
      "    filter, lag\n",
      "\n",
      "The following objects are masked from 'package:base':\n",
      "\n",
      "    intersect, setdiff, setequal, union\n",
      "\n",
      "Warning message:\n",
      "\"package 'gplots' was built under R version 3.5.2\"\n",
      "Attaching package: 'gplots'\n",
      "\n",
      "The following object is masked from 'package:stats':\n",
      "\n",
      "    lowess\n",
      "\n",
      "Warning message:\n",
      "\"package 'RColorBrewer' was built under R version 3.5.2\""
     ]
    }
   ],
   "source": [
    "# load in libraries\n",
    "library(dplyr)\n",
    "library(gplots)\n",
    "library(RColorBrewer)"
   ]
  },
  {
   "cell_type": "code",
   "execution_count": 3,
   "metadata": {},
   "outputs": [],
   "source": [
    "# load in merged data file\n",
    "dataset <- read.table(file.path(getwd(), \"Datasets\", \"merged_data_final.txt\"), header = T, sep = \"\\t\")\n",
    "pwGenes <- read.table(file.path(getwd(), \"Datasets\", \"pwgenes.txt\"), header = T, sep = \"\\t\")\n",
    "inflGenes <- read.table(file.path(getwd(), \"Datasets\", \"merged_infl_genes.txt\"), header = T, sep = \"\\t\")\n",
    "\n",
    "dataset <- dataset[dataset$entrezgene %in% inflGenes$entrezgene,]"
   ]
  },
  {
   "cell_type": "markdown",
   "metadata": {},
   "source": [
    "### log Fold Change and p-value\n",
    "The merged data files contains 6 diseases, and 8 datasets. It contains the following diseases: breast cancer, lung cancer, metabolically unhealthy obese, rheumatoid arthritis, cardiomyopathy and systemic lupus erythematosus.\n",
    "\n",
    "We first start with plotting the log fold change (LogFC) and the p.value (PValue) of all datasets."
   ]
  },
  {
   "cell_type": "code",
   "execution_count": 4,
   "metadata": {},
   "outputs": [
    {
     "data": {
      "image/png": "[encoded data removed]",
      "text/plain": [
       "Plot with title \"Histogram of datBC$logFC_BC\""
      ]
     },
     "metadata": {},
     "output_type": "display_data"
    },
    {
     "data": {
      "text/html": [
       "<table>\n",
       "<thead><tr><th></th><th scope=col>entrezgene</th><th scope=col>hgnc_symbol</th><th scope=col>logFC_BC</th><th scope=col>PValue_BC</th></tr></thead>\n",
       "<tbody>\n",
       "\t<tr><th scope=row>16</th><td>1080      </td><td>CFTR      </td><td>-3.2763882</td><td>0.01511809</td></tr>\n",
       "\t<tr><th scope=row>98</th><td>4353      </td><td>MPO       </td><td>-1.6224588</td><td>0.10229489</td></tr>\n",
       "\t<tr><th scope=row>99</th><td>5444      </td><td>PON1      </td><td> 2.1573000</td><td>0.08773326</td></tr>\n",
       "\t<tr><th scope=row>103</th><td>5244      </td><td>ABCB4     </td><td> 0.6704685</td><td>0.47745368</td></tr>\n",
       "\t<tr><th scope=row>129</th><td>6863      </td><td>TAC1      </td><td>-0.2333249</td><td>0.87562852</td></tr>\n",
       "\t<tr><th scope=row>175</th><td>4843      </td><td>NOS2      </td><td>-1.0090962</td><td>0.26226786</td></tr>\n",
       "</tbody>\n",
       "</table>\n"
      ],
      "text/latex": [
       "\\begin{tabular}{r|llll}\n",
       "  & entrezgene & hgnc\\_symbol & logFC\\_BC & PValue\\_BC\\\\\n",
       "\\hline\n",
       "\t16 & 1080       & CFTR       & -3.2763882 & 0.01511809\\\\\n",
       "\t98 & 4353       & MPO        & -1.6224588 & 0.10229489\\\\\n",
       "\t99 & 5444       & PON1       &  2.1573000 & 0.08773326\\\\\n",
       "\t103 & 5244       & ABCB4      &  0.6704685 & 0.47745368\\\\\n",
       "\t129 & 6863       & TAC1       & -0.2333249 & 0.87562852\\\\\n",
       "\t175 & 4843       & NOS2       & -1.0090962 & 0.26226786\\\\\n",
       "\\end{tabular}\n"
      ],
      "text/markdown": [
       "\n",
       "| <!--/--> | entrezgene | hgnc_symbol | logFC_BC | PValue_BC |\n",
       "|---|---|---|---|---|\n",
       "| 16 | 1080       | CFTR       | -3.2763882 | 0.01511809 |\n",
       "| 98 | 4353       | MPO        | -1.6224588 | 0.10229489 |\n",
       "| 99 | 5444       | PON1       |  2.1573000 | 0.08773326 |\n",
       "| 103 | 5244       | ABCB4      |  0.6704685 | 0.47745368 |\n",
       "| 129 | 6863       | TAC1       | -0.2333249 | 0.87562852 |\n",
       "| 175 | 4843       | NOS2       | -1.0090962 | 0.26226786 |\n",
       "\n"
      ],
      "text/plain": [
       "    entrezgene hgnc_symbol logFC_BC   PValue_BC \n",
       "16  1080       CFTR        -3.2763882 0.01511809\n",
       "98  4353       MPO         -1.6224588 0.10229489\n",
       "99  5444       PON1         2.1573000 0.08773326\n",
       "103 5244       ABCB4        0.6704685 0.47745368\n",
       "129 6863       TAC1        -0.2333249 0.87562852\n",
       "175 4843       NOS2        -1.0090962 0.26226786"
      ]
     },
     "metadata": {},
     "output_type": "display_data"
    },
    {
     "data": {
      "image/png": "[encoded data removed]",
      "text/plain": [
       "Plot with title \"Histogram of datBC$PValue_BC\""
      ]
     },
     "metadata": {},
     "output_type": "display_data"
    }
   ],
   "source": [
    "# breast cancer\n",
    "datBC <- dataset[,-5:-16]\n",
    "datBC <- na.omit(datBC)\n",
    "hist(datBC$logFC_BC)\n",
    "hist(datBC$PValue_BC)\n",
    "head(datBC)"
   ]
  },
  {
   "cell_type": "code",
   "execution_count": 5,
   "metadata": {},
   "outputs": [
    {
     "data": {
      "image/png": "[encoded data removed]",
      "text/plain": [
       "Plot with title \"Histogram of datLC$logFC_LC\""
      ]
     },
     "metadata": {},
     "output_type": "display_data"
    },
    {
     "data": {
      "text/html": [
       "<table>\n",
       "<thead><tr><th></th><th scope=col>entrezgene</th><th scope=col>hgnc_symbol</th><th scope=col>logFC_LC</th><th scope=col>PValue_LC</th></tr></thead>\n",
       "<tbody>\n",
       "\t<tr><th scope=row>16</th><td>1080       </td><td>CFTR       </td><td>-3.0027070 </td><td>0.005160998</td></tr>\n",
       "\t<tr><th scope=row>98</th><td>4353       </td><td>MPO        </td><td>-0.6992241 </td><td>0.403822810</td></tr>\n",
       "\t<tr><th scope=row>99</th><td>5444       </td><td>PON1       </td><td> 0.9835855 </td><td>0.364190817</td></tr>\n",
       "\t<tr><th scope=row>103</th><td>5244       </td><td>ABCB4      </td><td> 1.5513377 </td><td>0.042166049</td></tr>\n",
       "\t<tr><th scope=row>129</th><td>6863       </td><td>TAC1       </td><td>-1.9742671 </td><td>0.155852758</td></tr>\n",
       "\t<tr><th scope=row>175</th><td>4843       </td><td>NOS2       </td><td>-0.6432359 </td><td>0.457910752</td></tr>\n",
       "</tbody>\n",
       "</table>\n"
      ],
      "text/latex": [
       "\\begin{tabular}{r|llll}\n",
       "  & entrezgene & hgnc\\_symbol & logFC\\_LC & PValue\\_LC\\\\\n",
       "\\hline\n",
       "\t16 & 1080        & CFTR        & -3.0027070  & 0.005160998\\\\\n",
       "\t98 & 4353        & MPO         & -0.6992241  & 0.403822810\\\\\n",
       "\t99 & 5444        & PON1        &  0.9835855  & 0.364190817\\\\\n",
       "\t103 & 5244        & ABCB4       &  1.5513377  & 0.042166049\\\\\n",
       "\t129 & 6863        & TAC1        & -1.9742671  & 0.155852758\\\\\n",
       "\t175 & 4843        & NOS2        & -0.6432359  & 0.457910752\\\\\n",
       "\\end{tabular}\n"
      ],
      "text/markdown": [
       "\n",
       "| <!--/--> | entrezgene | hgnc_symbol | logFC_LC | PValue_LC |\n",
       "|---|---|---|---|---|\n",
       "| 16 | 1080        | CFTR        | -3.0027070  | 0.005160998 |\n",
       "| 98 | 4353        | MPO         | -0.6992241  | 0.403822810 |\n",
       "| 99 | 5444        | PON1        |  0.9835855  | 0.364190817 |\n",
       "| 103 | 5244        | ABCB4       |  1.5513377  | 0.042166049 |\n",
       "| 129 | 6863        | TAC1        | -1.9742671  | 0.155852758 |\n",
       "| 175 | 4843        | NOS2        | -0.6432359  | 0.457910752 |\n",
       "\n"
      ],
      "text/plain": [
       "    entrezgene hgnc_symbol logFC_LC   PValue_LC  \n",
       "16  1080       CFTR        -3.0027070 0.005160998\n",
       "98  4353       MPO         -0.6992241 0.403822810\n",
       "99  5444       PON1         0.9835855 0.364190817\n",
       "103 5244       ABCB4        1.5513377 0.042166049\n",
       "129 6863       TAC1        -1.9742671 0.155852758\n",
       "175 4843       NOS2        -0.6432359 0.457910752"
      ]
     },
     "metadata": {},
     "output_type": "display_data"
    },
    {
     "data": {
      "image/png": "[encoded data removed]",
      "text/plain": [
       "Plot with title \"Histogram of datLC$PValue_LC\""
      ]
     },
     "metadata": {},
     "output_type": "display_data"
    }
   ],
   "source": [
    "# lung cancer\n",
    "datLC <- dataset[,c(-3,-4,-7:-16)]\n",
    "datLC <- na.omit(datLC)\n",
    "hist(datLC$logFC_LC)\n",
    "hist(datLC$PValue_LC)\n",
    "head(datLC)"
   ]
  },
  {
   "cell_type": "code",
   "execution_count": 6,
   "metadata": {},
   "outputs": [
    {
     "data": {
      "image/png": "[encoded data removed]",
      "text/plain": [
       "Plot with title \"Histogram of datMUO$logFC_MUO\""
      ]
     },
     "metadata": {},
     "output_type": "display_data"
    },
    {
     "data": {
      "text/html": [
       "<table>\n",
       "<thead><tr><th></th><th scope=col>entrezgene</th><th scope=col>hgnc_symbol</th><th scope=col>logFC_MUO</th><th scope=col>PValue_MUO</th></tr></thead>\n",
       "<tbody>\n",
       "\t<tr><th scope=row>16</th><td>1080        </td><td>CFTR        </td><td>-0.006469726</td><td>0.722095099 </td></tr>\n",
       "\t<tr><th scope=row>98</th><td>4353        </td><td>MPO         </td><td>-0.091360910</td><td>0.009776241 </td></tr>\n",
       "\t<tr><th scope=row>99</th><td>5444        </td><td>PON1        </td><td>-0.013357980</td><td>0.477753966 </td></tr>\n",
       "\t<tr><th scope=row>103</th><td>5244        </td><td>ABCB4       </td><td>-0.006748745</td><td>0.803063952 </td></tr>\n",
       "\t<tr><th scope=row>129</th><td>6863        </td><td>TAC1        </td><td>-0.001761298</td><td>0.917000531 </td></tr>\n",
       "\t<tr><th scope=row>175</th><td>4843        </td><td>NOS2        </td><td>-0.069187708</td><td>0.039085108 </td></tr>\n",
       "</tbody>\n",
       "</table>\n"
      ],
      "text/latex": [
       "\\begin{tabular}{r|llll}\n",
       "  & entrezgene & hgnc\\_symbol & logFC\\_MUO & PValue\\_MUO\\\\\n",
       "\\hline\n",
       "\t16 & 1080         & CFTR         & -0.006469726 & 0.722095099 \\\\\n",
       "\t98 & 4353         & MPO          & -0.091360910 & 0.009776241 \\\\\n",
       "\t99 & 5444         & PON1         & -0.013357980 & 0.477753966 \\\\\n",
       "\t103 & 5244         & ABCB4        & -0.006748745 & 0.803063952 \\\\\n",
       "\t129 & 6863         & TAC1         & -0.001761298 & 0.917000531 \\\\\n",
       "\t175 & 4843         & NOS2         & -0.069187708 & 0.039085108 \\\\\n",
       "\\end{tabular}\n"
      ],
      "text/markdown": [
       "\n",
       "| <!--/--> | entrezgene | hgnc_symbol | logFC_MUO | PValue_MUO |\n",
       "|---|---|---|---|---|\n",
       "| 16 | 1080         | CFTR         | -0.006469726 | 0.722095099  |\n",
       "| 98 | 4353         | MPO          | -0.091360910 | 0.009776241  |\n",
       "| 99 | 5444         | PON1         | -0.013357980 | 0.477753966  |\n",
       "| 103 | 5244         | ABCB4        | -0.006748745 | 0.803063952  |\n",
       "| 129 | 6863         | TAC1         | -0.001761298 | 0.917000531  |\n",
       "| 175 | 4843         | NOS2         | -0.069187708 | 0.039085108  |\n",
       "\n"
      ],
      "text/plain": [
       "    entrezgene hgnc_symbol logFC_MUO    PValue_MUO \n",
       "16  1080       CFTR        -0.006469726 0.722095099\n",
       "98  4353       MPO         -0.091360910 0.009776241\n",
       "99  5444       PON1        -0.013357980 0.477753966\n",
       "103 5244       ABCB4       -0.006748745 0.803063952\n",
       "129 6863       TAC1        -0.001761298 0.917000531\n",
       "175 4843       NOS2        -0.069187708 0.039085108"
      ]
     },
     "metadata": {},
     "output_type": "display_data"
    },
    {
     "data": {
      "image/png": "[encoded data removed]",
      "text/plain": [
       "Plot with title \"Histogram of datMUO$PValue_MUO\""
      ]
     },
     "metadata": {},
     "output_type": "display_data"
    }
   ],
   "source": [
    "# metabolically unhealthy obese\n",
    "datMUO <- dataset[,c(-3:-6,-9:-16)]\n",
    "datMUO <- na.omit(datMUO)\n",
    "hist(datMUO$logFC_MUO)\n",
    "hist(datMUO$PValue_MUO)\n",
    "head(datMUO)"
   ]
  },
  {
   "cell_type": "code",
   "execution_count": 7,
   "metadata": {},
   "outputs": [
    {
     "data": {
      "image/png": "[encoded data removed]",
      "text/plain": [
       "Plot with title \"Histogram of datRA$logFC_RA\""
      ]
     },
     "metadata": {},
     "output_type": "display_data"
    },
    {
     "data": {
      "text/html": [
       "<table>\n",
       "<thead><tr><th></th><th scope=col>entrezgene</th><th scope=col>hgnc_symbol</th><th scope=col>logFC_RA</th><th scope=col>PValue_RA</th></tr></thead>\n",
       "<tbody>\n",
       "\t<tr><th scope=row>16</th><td>1080       </td><td>CFTR       </td><td> 0.01608933</td><td>0.7759827  </td></tr>\n",
       "\t<tr><th scope=row>98</th><td>4353       </td><td>MPO        </td><td> 0.03126417</td><td>0.5867719  </td></tr>\n",
       "\t<tr><th scope=row>99</th><td>5444       </td><td>PON1       </td><td>-0.06780424</td><td>0.3336729  </td></tr>\n",
       "\t<tr><th scope=row>103</th><td>5244       </td><td>ABCB4      </td><td> 0.08573051</td><td>0.3118938  </td></tr>\n",
       "\t<tr><th scope=row>129</th><td>6863       </td><td>TAC1       </td><td> 0.75188065</td><td>0.4038620  </td></tr>\n",
       "\t<tr><th scope=row>175</th><td>4843       </td><td>NOS2       </td><td> 0.01529895</td><td>0.8793439  </td></tr>\n",
       "</tbody>\n",
       "</table>\n"
      ],
      "text/latex": [
       "\\begin{tabular}{r|llll}\n",
       "  & entrezgene & hgnc\\_symbol & logFC\\_RA & PValue\\_RA\\\\\n",
       "\\hline\n",
       "\t16 & 1080        & CFTR        &  0.01608933 & 0.7759827  \\\\\n",
       "\t98 & 4353        & MPO         &  0.03126417 & 0.5867719  \\\\\n",
       "\t99 & 5444        & PON1        & -0.06780424 & 0.3336729  \\\\\n",
       "\t103 & 5244        & ABCB4       &  0.08573051 & 0.3118938  \\\\\n",
       "\t129 & 6863        & TAC1        &  0.75188065 & 0.4038620  \\\\\n",
       "\t175 & 4843        & NOS2        &  0.01529895 & 0.8793439  \\\\\n",
       "\\end{tabular}\n"
      ],
      "text/markdown": [
       "\n",
       "| <!--/--> | entrezgene | hgnc_symbol | logFC_RA | PValue_RA |\n",
       "|---|---|---|---|---|\n",
       "| 16 | 1080        | CFTR        |  0.01608933 | 0.7759827   |\n",
       "| 98 | 4353        | MPO         |  0.03126417 | 0.5867719   |\n",
       "| 99 | 5444        | PON1        | -0.06780424 | 0.3336729   |\n",
       "| 103 | 5244        | ABCB4       |  0.08573051 | 0.3118938   |\n",
       "| 129 | 6863        | TAC1        |  0.75188065 | 0.4038620   |\n",
       "| 175 | 4843        | NOS2        |  0.01529895 | 0.8793439   |\n",
       "\n"
      ],
      "text/plain": [
       "    entrezgene hgnc_symbol logFC_RA    PValue_RA\n",
       "16  1080       CFTR         0.01608933 0.7759827\n",
       "98  4353       MPO          0.03126417 0.5867719\n",
       "99  5444       PON1        -0.06780424 0.3336729\n",
       "103 5244       ABCB4        0.08573051 0.3118938\n",
       "129 6863       TAC1         0.75188065 0.4038620\n",
       "175 4843       NOS2         0.01529895 0.8793439"
      ]
     },
     "metadata": {},
     "output_type": "display_data"
    },
    {
     "data": {
      "image/png": "[encoded data removed]",
      "text/plain": [
       "Plot with title \"Histogram of datRA$PValue_RA\""
      ]
     },
     "metadata": {},
     "output_type": "display_data"
    }
   ],
   "source": [
    "# rheumatoid arthritis\n",
    "datRA <- dataset[,c(-3:-8,-11:-16)]\n",
    "datRA <- na.omit(datRA)\n",
    "hist(datRA$logFC_RA)\n",
    "hist(datRA$PValue_RA)\n",
    "head(datRA)"
   ]
  },
  {
   "cell_type": "code",
   "execution_count": 8,
   "metadata": {},
   "outputs": [
    {
     "data": {
      "image/png": "[encoded data removed]",
      "text/plain": [
       "Plot with title \"Histogram of datDCM$logFC_DCM\""
      ]
     },
     "metadata": {},
     "output_type": "display_data"
    },
    {
     "data": {
      "text/html": [
       "<table>\n",
       "<thead><tr><th></th><th scope=col>entrezgene</th><th scope=col>hgnc_symbol</th><th scope=col>logFC_DCM</th><th scope=col>PValue_DCM</th></tr></thead>\n",
       "<tbody>\n",
       "\t<tr><th scope=row>16</th><td>1080       </td><td>CFTR       </td><td>-0.8952918 </td><td>0.182213325</td></tr>\n",
       "\t<tr><th scope=row>98</th><td>4353       </td><td>MPO        </td><td> 0.3730451 </td><td>0.551748214</td></tr>\n",
       "\t<tr><th scope=row>99</th><td>5444       </td><td>PON1       </td><td> 0.4253471 </td><td>0.540758503</td></tr>\n",
       "\t<tr><th scope=row>103</th><td>5244       </td><td>ABCB4      </td><td>-0.2470975 </td><td>0.306761596</td></tr>\n",
       "\t<tr><th scope=row>175</th><td>4843       </td><td>NOS2       </td><td>-0.5476593 </td><td>0.376353760</td></tr>\n",
       "\t<tr><th scope=row>197</th><td>6401       </td><td>SELE       </td><td>-2.0193006 </td><td>0.004205974</td></tr>\n",
       "</tbody>\n",
       "</table>\n"
      ],
      "text/latex": [
       "\\begin{tabular}{r|llll}\n",
       "  & entrezgene & hgnc\\_symbol & logFC\\_DCM & PValue\\_DCM\\\\\n",
       "\\hline\n",
       "\t16 & 1080        & CFTR        & -0.8952918  & 0.182213325\\\\\n",
       "\t98 & 4353        & MPO         &  0.3730451  & 0.551748214\\\\\n",
       "\t99 & 5444        & PON1        &  0.4253471  & 0.540758503\\\\\n",
       "\t103 & 5244        & ABCB4       & -0.2470975  & 0.306761596\\\\\n",
       "\t175 & 4843        & NOS2        & -0.5476593  & 0.376353760\\\\\n",
       "\t197 & 6401        & SELE        & -2.0193006  & 0.004205974\\\\\n",
       "\\end{tabular}\n"
      ],
      "text/markdown": [
       "\n",
       "| <!--/--> | entrezgene | hgnc_symbol | logFC_DCM | PValue_DCM |\n",
       "|---|---|---|---|---|\n",
       "| 16 | 1080        | CFTR        | -0.8952918  | 0.182213325 |\n",
       "| 98 | 4353        | MPO         |  0.3730451  | 0.551748214 |\n",
       "| 99 | 5444        | PON1        |  0.4253471  | 0.540758503 |\n",
       "| 103 | 5244        | ABCB4       | -0.2470975  | 0.306761596 |\n",
       "| 175 | 4843        | NOS2        | -0.5476593  | 0.376353760 |\n",
       "| 197 | 6401        | SELE        | -2.0193006  | 0.004205974 |\n",
       "\n"
      ],
      "text/plain": [
       "    entrezgene hgnc_symbol logFC_DCM  PValue_DCM \n",
       "16  1080       CFTR        -0.8952918 0.182213325\n",
       "98  4353       MPO          0.3730451 0.551748214\n",
       "99  5444       PON1         0.4253471 0.540758503\n",
       "103 5244       ABCB4       -0.2470975 0.306761596\n",
       "175 4843       NOS2        -0.5476593 0.376353760\n",
       "197 6401       SELE        -2.0193006 0.004205974"
      ]
     },
     "metadata": {},
     "output_type": "display_data"
    },
    {
     "data": {
      "image/png": "[encoded data removed]",
      "text/plain": [
       "Plot with title \"Histogram of datDCM$PValue_DCM\""
      ]
     },
     "metadata": {},
     "output_type": "display_data"
    }
   ],
   "source": [
    "# DCM\n",
    "datDCM <- dataset[,c(-3:-10,-13:-16)]\n",
    "datDCM <- na.omit(datDCM)\n",
    "hist(datDCM$logFC_DCM)\n",
    "hist(datDCM$PValue_DCM)\n",
    "head(datDCM)"
   ]
  },
  {
   "cell_type": "code",
   "execution_count": 9,
   "metadata": {},
   "outputs": [
    {
     "data": {
      "image/png": "[encoded data removed]",
      "text/plain": [
       "Plot with title \"Histogram of datICM$logFC_ICM\""
      ]
     },
     "metadata": {},
     "output_type": "display_data"
    },
    {
     "data": {
      "text/html": [
       "<table>\n",
       "<thead><tr><th></th><th scope=col>entrezgene</th><th scope=col>hgnc_symbol</th><th scope=col>logFC_ICM</th><th scope=col>PValue_ICM</th></tr></thead>\n",
       "<tbody>\n",
       "\t<tr><th scope=row>16</th><td>1080       </td><td>CFTR       </td><td>-0.68622759</td><td>0.2203106  </td></tr>\n",
       "\t<tr><th scope=row>98</th><td>4353       </td><td>MPO        </td><td> 0.29705613</td><td>0.6392658  </td></tr>\n",
       "\t<tr><th scope=row>99</th><td>5444       </td><td>PON1       </td><td>-0.03725434</td><td>0.9602850  </td></tr>\n",
       "\t<tr><th scope=row>103</th><td>5244       </td><td>ABCB4      </td><td>-0.01557306</td><td>0.9496882  </td></tr>\n",
       "\t<tr><th scope=row>175</th><td>4843       </td><td>NOS2       </td><td>-0.53344860</td><td>0.4110768  </td></tr>\n",
       "\t<tr><th scope=row>197</th><td>6401       </td><td>SELE       </td><td>-2.66929952</td><td>0.0000474  </td></tr>\n",
       "</tbody>\n",
       "</table>\n"
      ],
      "text/latex": [
       "\\begin{tabular}{r|llll}\n",
       "  & entrezgene & hgnc\\_symbol & logFC\\_ICM & PValue\\_ICM\\\\\n",
       "\\hline\n",
       "\t16 & 1080        & CFTR        & -0.68622759 & 0.2203106  \\\\\n",
       "\t98 & 4353        & MPO         &  0.29705613 & 0.6392658  \\\\\n",
       "\t99 & 5444        & PON1        & -0.03725434 & 0.9602850  \\\\\n",
       "\t103 & 5244        & ABCB4       & -0.01557306 & 0.9496882  \\\\\n",
       "\t175 & 4843        & NOS2        & -0.53344860 & 0.4110768  \\\\\n",
       "\t197 & 6401        & SELE        & -2.66929952 & 0.0000474  \\\\\n",
       "\\end{tabular}\n"
      ],
      "text/markdown": [
       "\n",
       "| <!--/--> | entrezgene | hgnc_symbol | logFC_ICM | PValue_ICM |\n",
       "|---|---|---|---|---|\n",
       "| 16 | 1080        | CFTR        | -0.68622759 | 0.2203106   |\n",
       "| 98 | 4353        | MPO         |  0.29705613 | 0.6392658   |\n",
       "| 99 | 5444        | PON1        | -0.03725434 | 0.9602850   |\n",
       "| 103 | 5244        | ABCB4       | -0.01557306 | 0.9496882   |\n",
       "| 175 | 4843        | NOS2        | -0.53344860 | 0.4110768   |\n",
       "| 197 | 6401        | SELE        | -2.66929952 | 0.0000474   |\n",
       "\n"
      ],
      "text/plain": [
       "    entrezgene hgnc_symbol logFC_ICM   PValue_ICM\n",
       "16  1080       CFTR        -0.68622759 0.2203106 \n",
       "98  4353       MPO          0.29705613 0.6392658 \n",
       "99  5444       PON1        -0.03725434 0.9602850 \n",
       "103 5244       ABCB4       -0.01557306 0.9496882 \n",
       "175 4843       NOS2        -0.53344860 0.4110768 \n",
       "197 6401       SELE        -2.66929952 0.0000474 "
      ]
     },
     "metadata": {},
     "output_type": "display_data"
    },
    {
     "data": {
      "image/png": "[encoded data removed]",
      "text/plain": [
       "Plot with title \"Histogram of datICM$PValue_ICM\""
      ]
     },
     "metadata": {},
     "output_type": "display_data"
    }
   ],
   "source": [
    "# ICM\n",
    "datICM <- dataset[,c(-3:-12,-15:-16)]\n",
    "datICM <- na.omit(datICM)\n",
    "hist(datICM$logFC_ICM)\n",
    "hist(datICM$PValue_ICM)\n",
    "head(datICM)"
   ]
  },
  {
   "cell_type": "code",
   "execution_count": 10,
   "metadata": {},
   "outputs": [
    {
     "data": {
      "image/png": "[encoded data removed]",
      "text/plain": [
       "Plot with title \"Histogram of datSLE$logFC_SLE\""
      ]
     },
     "metadata": {},
     "output_type": "display_data"
    },
    {
     "data": {
      "text/html": [
       "<table>\n",
       "<thead><tr><th></th><th scope=col>entrezgene</th><th scope=col>hgnc_symbol</th><th scope=col>logFC_SLE</th><th scope=col>PValue_SLE</th></tr></thead>\n",
       "<tbody>\n",
       "\t<tr><th scope=row>16</th><td>1080        </td><td>CFTR        </td><td> 0.0000000  </td><td>1.000000e+00</td></tr>\n",
       "\t<tr><th scope=row>98</th><td>4353        </td><td>MPO         </td><td> 0.2211393  </td><td>1.174282e-05</td></tr>\n",
       "\t<tr><th scope=row>99</th><td>5444        </td><td>PON1        </td><td> 0.1799693  </td><td>2.435425e-01</td></tr>\n",
       "\t<tr><th scope=row>103</th><td>5244        </td><td>ABCB4       </td><td>-0.1593155  </td><td>5.447508e-01</td></tr>\n",
       "\t<tr><th scope=row>129</th><td>6863        </td><td>TAC1        </td><td> 0.2944176  </td><td>3.187096e-01</td></tr>\n",
       "\t<tr><th scope=row>175</th><td>4843        </td><td>NOS2        </td><td>-0.1402326  </td><td>6.791753e-01</td></tr>\n",
       "</tbody>\n",
       "</table>\n"
      ],
      "text/latex": [
       "\\begin{tabular}{r|llll}\n",
       "  & entrezgene & hgnc\\_symbol & logFC\\_SLE & PValue\\_SLE\\\\\n",
       "\\hline\n",
       "\t16 & 1080         & CFTR         &  0.0000000   & 1.000000e+00\\\\\n",
       "\t98 & 4353         & MPO          &  0.2211393   & 1.174282e-05\\\\\n",
       "\t99 & 5444         & PON1         &  0.1799693   & 2.435425e-01\\\\\n",
       "\t103 & 5244         & ABCB4        & -0.1593155   & 5.447508e-01\\\\\n",
       "\t129 & 6863         & TAC1         &  0.2944176   & 3.187096e-01\\\\\n",
       "\t175 & 4843         & NOS2         & -0.1402326   & 6.791753e-01\\\\\n",
       "\\end{tabular}\n"
      ],
      "text/markdown": [
       "\n",
       "| <!--/--> | entrezgene | hgnc_symbol | logFC_SLE | PValue_SLE |\n",
       "|---|---|---|---|---|\n",
       "| 16 | 1080         | CFTR         |  0.0000000   | 1.000000e+00 |\n",
       "| 98 | 4353         | MPO          |  0.2211393   | 1.174282e-05 |\n",
       "| 99 | 5444         | PON1         |  0.1799693   | 2.435425e-01 |\n",
       "| 103 | 5244         | ABCB4        | -0.1593155   | 5.447508e-01 |\n",
       "| 129 | 6863         | TAC1         |  0.2944176   | 3.187096e-01 |\n",
       "| 175 | 4843         | NOS2         | -0.1402326   | 6.791753e-01 |\n",
       "\n"
      ],
      "text/plain": [
       "    entrezgene hgnc_symbol logFC_SLE  PValue_SLE  \n",
       "16  1080       CFTR         0.0000000 1.000000e+00\n",
       "98  4353       MPO          0.2211393 1.174282e-05\n",
       "99  5444       PON1         0.1799693 2.435425e-01\n",
       "103 5244       ABCB4       -0.1593155 5.447508e-01\n",
       "129 6863       TAC1         0.2944176 3.187096e-01\n",
       "175 4843       NOS2        -0.1402326 6.791753e-01"
      ]
     },
     "metadata": {},
     "output_type": "display_data"
    },
    {
     "data": {
      "image/png": "[encoded data removed]",
      "text/plain": [
       "Plot with title \"Histogram of datSLE$PValue_SLE\""
      ]
     },
     "metadata": {},
     "output_type": "display_data"
    }
   ],
   "source": [
    "# systemic lupus erythematosus\n",
    "datSLE <- dataset[,c(-3:-14)]\n",
    "datSLE <- na.omit(datSLE)\n",
    "hist(datSLE$logFC_SLE)\n",
    "hist(datSLE$PValue_SLE)\n",
    "head(datSLE)"
   ]
  },
  {
   "cell_type": "markdown",
   "metadata": {},
   "source": [
    "For all datasets, the fold change is quite what we want to see. No datasets has high frequencies at the respective extremities. For the p.values however, we that systemic lupus erythematosus and lung cancer have a higher frequency of p.value = 1.0 compared to the other datasets and comapred to the other p.values within the dataset."
   ]
  },
  {
   "cell_type": "markdown",
   "metadata": {},
   "source": [
    "### Significant differentially expressed genes\n",
    "It is interesting to see the number and percentage of significant differentially expressed genes per dataset. In this case we chose and log fold change lower than -0.26 and higher than 0.26.\n",
    "\n",
    "So, let us check what these values are!"
   ]
  },
  {
   "cell_type": "code",
   "execution_count": 11,
   "metadata": {},
   "outputs": [
    {
     "name": "stdout",
     "output_type": "stream",
     "text": [
      "[1] \"The number of significant differentially expressed genes is 73\"\n",
      "[1] \"The percentage of significant differentially expressed genes is 52.9%\"\n"
     ]
    }
   ],
   "source": [
    "# breast cancer\n",
    "datBC1 <- subset(datBC, datBC$logFC_BC <= -0.26)\n",
    "datBC2 <- subset(datBC, datBC$logFC_BC >= 0.26)\n",
    "datBC3 <- rbind(datBC1, datBC2)\n",
    "datBC4 <- subset(datBC3, datBC3$PValue_BC <= 0.05) # data frame with significant differentially expressed genes\n",
    "nBC <- nrow(datBC4)\n",
    "print(paste0(\"The number of significant differentially expressed genes is \", nBC))\n",
    "percBC <- (as.numeric(nBC) / as.numeric(nrow(datBC)) * 100)\n",
    "percBC <- as.numeric(format(round(percBC, 2), nsmall = 2))\n",
    "print(paste0(\"The percentage of significant differentially expressed genes is \", percBC, \"%\"))"
   ]
  },
  {
   "cell_type": "code",
   "execution_count": 12,
   "metadata": {},
   "outputs": [
    {
     "name": "stdout",
     "output_type": "stream",
     "text": [
      "[1] \"The number of significant differentially expressed genes is 63\"\n",
      "[1] \"The percentage of significant differentially expressed genes is 41.18%\"\n"
     ]
    }
   ],
   "source": [
    "# lung cancer\n",
    "datLC1 <- subset(datLC, datLC$logFC_LC <= -0.26)\n",
    "datLC2 <- subset(datLC, datLC$logFC_LC >= 0.26)\n",
    "datLC3 <- rbind(datLC1, datLC2)\n",
    "datLC4 <- subset(datLC3, datLC3$PValue_LC <= 0.05) # data frame with significant differentially expressed genes\n",
    "nLC <- nrow(datLC4)\n",
    "print(paste0(\"The number of significant differentially expressed genes is \", nLC))\n",
    "percLC <- (as.numeric(nLC) / as.numeric(nrow(datLC)) * 100)\n",
    "percLC <- as.numeric(format(round(percLC, 2), nsmall = 2))\n",
    "print(paste0(\"The percentage of significant differentially expressed genes is \", percLC, \"%\"))"
   ]
  },
  {
   "cell_type": "code",
   "execution_count": 13,
   "metadata": {},
   "outputs": [
    {
     "name": "stdout",
     "output_type": "stream",
     "text": [
      "[1] \"The number of significant differentially expressed genes is 42\"\n",
      "[1] \"The percentage of significant differentially expressed genes is 29.37%\"\n"
     ]
    }
   ],
   "source": [
    "# metabolically unhealthy obese\n",
    "datMUO1 <- subset(datMUO, datMUO$logFC_MUO <= -0.26)\n",
    "datMUO2 <- subset(datMUO, datMUO$logFC_MUO >= 0.26)\n",
    "datMUO3 <- rbind(datMUO1, datMUO2)\n",
    "datMUO4 <- subset(datMUO3, datMUO3$PValue_MUO <= 0.05) # data frame with significant differentially expressed genes\n",
    "nMUO <- nrow(datMUO4)\n",
    "print(paste0(\"The number of significant differentially expressed genes is \", nMUO))\n",
    "percMUO <- (as.numeric(nMUO) / as.numeric(nrow(datMUO)) * 100)\n",
    "percMUO <- as.numeric(format(round(percMUO, 2), nsmall = 2))\n",
    "print(paste0(\"The percentage of significant differentially expressed genes is \", percMUO, \"%\"))"
   ]
  },
  {
   "cell_type": "code",
   "execution_count": 14,
   "metadata": {},
   "outputs": [
    {
     "name": "stdout",
     "output_type": "stream",
     "text": [
      "[1] \"The number of significant differentially expressed genes is 50\"\n",
      "[1] \"The percentage of significant differentially expressed genes is 37.31%\"\n"
     ]
    }
   ],
   "source": [
    "# rheumatoid arthritis\n",
    "datRA_1 <- subset(datRA, datRA$logFC_RA <= -0.26)\n",
    "datRA_2 <- subset(datRA, datRA$logFC_RA >= 0.26)\n",
    "datRA_3 <- rbind(datRA_1, datRA_2)\n",
    "datRA_4 <- subset(datRA_3, datRA_3$PValue_RA <= 0.05) # data frame with significant differentially expressed genes\n",
    "nRA <- nrow(datRA_4)\n",
    "print(paste0(\"The number of significant differentially expressed genes is \", nRA))\n",
    "percRA <- (as.numeric(nRA) / as.numeric(nrow(datRA)) * 100)\n",
    "percRA <- as.numeric(format(round(percRA, 2), nsmall = 2))\n",
    "print(paste0(\"The percentage of significant differentially expressed genes is \", percRA, \"%\"))"
   ]
  },
  {
   "cell_type": "code",
   "execution_count": 15,
   "metadata": {},
   "outputs": [
    {
     "name": "stdout",
     "output_type": "stream",
     "text": [
      "[1] \"The number of significant differentially expressed genes is 33\"\n",
      "[1] \"The percentage of significant differentially expressed genes is 27.27%\"\n"
     ]
    }
   ],
   "source": [
    "# DCM\n",
    "datDCM1 <- subset(datDCM, datDCM$logFC_DCM <= -0.26)\n",
    "datDCM2 <- subset(datDCM, datDCM$logFC_DCM >= 0.26)\n",
    "datDCM3 <- rbind(datDCM1, datDCM2)\n",
    "datDCM4 <- subset(datDCM3, datDCM3$PValue_DCM <= 0.05) # data frame with significant differentially expressed genes\n",
    "nDCM <- nrow(datDCM4)\n",
    "print(paste0(\"The number of significant differentially expressed genes is \", nDCM))\n",
    "percDCM <- (as.numeric(nDCM) / as.numeric(nrow(datDCM)) * 100)\n",
    "percDCM <- as.numeric(format(round(percDCM, 2), nsmall = 2))\n",
    "print(paste0(\"The percentage of significant differentially expressed genes is \", percDCM, \"%\"))"
   ]
  },
  {
   "cell_type": "code",
   "execution_count": 16,
   "metadata": {},
   "outputs": [
    {
     "name": "stdout",
     "output_type": "stream",
     "text": [
      "[1] \"The number of significant differentially expressed genes is 42\"\n",
      "[1] \"The percentage of significant differentially expressed genes is 34.71%\"\n"
     ]
    }
   ],
   "source": [
    "# ICM\n",
    "datICM1 <- subset(datICM, datICM$logFC_ICM <= -0.26)\n",
    "datICM2 <- subset(datICM, datICM$logFC_ICM >= 0.26)\n",
    "datICM3 <- rbind(datICM1, datICM2)\n",
    "datICM4 <- subset(datICM3, datICM3$PValue_ICM <= 0.05) # data frame with significant differentially expressed genes\n",
    "nICM <- nrow(datICM4)\n",
    "print(paste0(\"The number of significant differentially expressed genes is \", nICM))\n",
    "percICM <- (as.numeric(nICM) / as.numeric(nrow(datICM)) * 100)\n",
    "percICM <- as.numeric(format(round(percICM, 2), nsmall = 2))\n",
    "print(paste0(\"The percentage of significant differentially expressed genes is \", percICM, \"%\"))"
   ]
  },
  {
   "cell_type": "code",
   "execution_count": 17,
   "metadata": {},
   "outputs": [
    {
     "name": "stdout",
     "output_type": "stream",
     "text": [
      "[1] \"The number of significant differentially expressed genes is 24\"\n",
      "[1] \"The percentage of significant differentially expressed genes is 16.22%\"\n"
     ]
    }
   ],
   "source": [
    "# systemic lupuc erythematosus\n",
    "datSLE1 <- subset(datSLE, datSLE$logFC_SLE <= -0.26)\n",
    "datSLE2 <- subset(datSLE, datSLE$logFC_SLE >= 0.26)\n",
    "datSLE3 <- rbind(datSLE1, datSLE2)\n",
    "datSLE4 <- subset(datSLE3, datSLE3$PValue_SLE <= 0.05) # data frame with significant differentially expressed genes\n",
    "nSLE <- nrow(datSLE4)\n",
    "print(paste0(\"The number of significant differentially expressed genes is \", nSLE))\n",
    "percSLE <- (as.numeric(nSLE) / as.numeric(nrow(datSLE)) * 100)\n",
    "percSLE <- as.numeric(format(round(percSLE, 2), nsmall = 2))\n",
    "print(paste0(\"The percentage of significant differentially expressed genes is \", percSLE, \"%\"))"
   ]
  },
  {
   "cell_type": "markdown",
   "metadata": {},
   "source": [
    "### Clear visualization\n",
    "Now we have these values, let's put them into a data frame so it is easily to read!"
   ]
  },
  {
   "cell_type": "code",
   "execution_count": 18,
   "metadata": {
    "scrolled": true
   },
   "outputs": [
    {
     "data": {
      "text/html": [
       "<table>\n",
       "<thead><tr><th scope=col>Disease</th><th scope=col>Significant Genes (n)</th><th scope=col>Percentage Significant Genes</th></tr></thead>\n",
       "<tbody>\n",
       "\t<tr><td>Breast cancer       </td><td>73                  </td><td>52.9%               </td></tr>\n",
       "\t<tr><td>Lung cancer         </td><td>63                  </td><td>41.18%              </td></tr>\n",
       "\t<tr><td>MUO                 </td><td>42                  </td><td>29.37%              </td></tr>\n",
       "\t<tr><td>Rheumatoid arthritis</td><td>50                  </td><td>37.31%              </td></tr>\n",
       "\t<tr><td>DCM                 </td><td>33                  </td><td>27.27%              </td></tr>\n",
       "\t<tr><td>ICM                 </td><td>42                  </td><td>34.71%              </td></tr>\n",
       "\t<tr><td>SLE                 </td><td>24                  </td><td>16.22%              </td></tr>\n",
       "</tbody>\n",
       "</table>\n"
      ],
      "text/latex": [
       "\\begin{tabular}{r|lll}\n",
       " Disease & Significant Genes (n) & Percentage Significant Genes\\\\\n",
       "\\hline\n",
       "\t Breast cancer        & 73                   & 52.9\\%             \\\\\n",
       "\t Lung cancer          & 63                   & 41.18\\%            \\\\\n",
       "\t MUO                  & 42                   & 29.37\\%            \\\\\n",
       "\t Rheumatoid arthritis & 50                   & 37.31\\%            \\\\\n",
       "\t DCM                  & 33                   & 27.27\\%            \\\\\n",
       "\t ICM                  & 42                   & 34.71\\%            \\\\\n",
       "\t SLE                  & 24                   & 16.22\\%            \\\\\n",
       "\\end{tabular}\n"
      ],
      "text/markdown": [
       "\n",
       "| Disease | Significant Genes (n) | Percentage Significant Genes |\n",
       "|---|---|---|\n",
       "| Breast cancer        | 73                   | 52.9%                |\n",
       "| Lung cancer          | 63                   | 41.18%               |\n",
       "| MUO                  | 42                   | 29.37%               |\n",
       "| Rheumatoid arthritis | 50                   | 37.31%               |\n",
       "| DCM                  | 33                   | 27.27%               |\n",
       "| ICM                  | 42                   | 34.71%               |\n",
       "| SLE                  | 24                   | 16.22%               |\n",
       "\n"
      ],
      "text/plain": [
       "  Disease              Significant Genes (n) Percentage Significant Genes\n",
       "1 Breast cancer        73                    52.9%                       \n",
       "2 Lung cancer          63                    41.18%                      \n",
       "3 MUO                  42                    29.37%                      \n",
       "4 Rheumatoid arthritis 50                    37.31%                      \n",
       "5 DCM                  33                    27.27%                      \n",
       "6 ICM                  42                    34.71%                      \n",
       "7 SLE                  24                    16.22%                      "
      ]
     },
     "metadata": {},
     "output_type": "display_data"
    }
   ],
   "source": [
    "# create data frame from significant differentially expressed genes and percentage of these genes\n",
    "sigGenes <- c(nBC, nLC, nMUO, nRA, nDCM, nICM, nSLE)\n",
    "percGenes <- c(paste0(percBC, \"%\"), paste0(percLC, \"%\"), \n",
    "              paste0(percMUO, \"%\"), paste0(percRA, \"%\"), \n",
    "              paste0(percDCM, \"%\"), paste0(percICM, \"%\"), paste0(percSLE, \"%\"))\n",
    "Disease <- c(\"Breast cancer\", \"Lung cancer\", \"MUO\", \"Rheumatoid arthritis\",\n",
    "                                                    \"DCM\", \"ICM\", \"SLE\")\n",
    "df2 <- data.frame(Disease, sigGenes, percGenes)\n",
    "colnames(df2)[c(2,3)] <- c(\"Significant Genes (n)\", \"Percentage Significant Genes\")\n",
    "\n",
    "# save data frame as text file\n",
    "write.table(df2, file.path(getwd(), \"Results\", \"infl_genes\", \"0.26sigGenes.txt\"), sep = \"\\t\", row.names = F, quote = F)\n",
    "\n",
    "# view table\n",
    "df2"
   ]
  },
  {
   "cell_type": "markdown",
   "metadata": {},
   "source": [
    "## Further visualization\n",
    "It is isteresting to visualize the amount of significant up- and downregulated genes per disease. The easiest method to visualize this, is to create a barplot."
   ]
  },
  {
   "cell_type": "code",
   "execution_count": 19,
   "metadata": {},
   "outputs": [
    {
     "data": {
      "text/html": [
       "<table>\n",
       "<thead><tr><th scope=col>BC</th><th scope=col>LC</th><th scope=col>MUO</th><th scope=col>RA</th><th scope=col>DCM</th><th scope=col>ICM</th><th scope=col>SLE</th></tr></thead>\n",
       "<tbody>\n",
       "\t<tr><td>15</td><td>21</td><td>31</td><td>26</td><td> 6</td><td>10</td><td>14</td></tr>\n",
       "\t<tr><td>58</td><td>42</td><td>11</td><td>24</td><td>27</td><td>32</td><td>10</td></tr>\n",
       "</tbody>\n",
       "</table>\n"
      ],
      "text/latex": [
       "\\begin{tabular}{lllllll}\n",
       " BC & LC & MUO & RA & DCM & ICM & SLE\\\\\n",
       "\\hline\n",
       "\t 15 & 21 & 31 & 26 &  6 & 10 & 14\\\\\n",
       "\t 58 & 42 & 11 & 24 & 27 & 32 & 10\\\\\n",
       "\\end{tabular}\n"
      ],
      "text/markdown": [
       "\n",
       "| BC | LC | MUO | RA | DCM | ICM | SLE |\n",
       "|---|---|---|---|---|---|---|\n",
       "| 15 | 21 | 31 | 26 |  6 | 10 | 14 |\n",
       "| 58 | 42 | 11 | 24 | 27 | 32 | 10 |\n",
       "\n"
      ],
      "text/plain": [
       "     BC LC MUO RA DCM ICM SLE\n",
       "[1,] 15 21 31  26  6  10  14 \n",
       "[2,] 58 42 11  24 27  32  10 "
      ]
     },
     "metadata": {},
     "output_type": "display_data"
    },
    {
     "data": {
      "text/html": [
       "<strong>jpeg:</strong> 3"
      ],
      "text/latex": [
       "\\textbf{jpeg:} 3"
      ],
      "text/markdown": [
       "**jpeg:** 3"
      ],
      "text/plain": [
       "jpeg \n",
       "   3 "
      ]
     },
     "metadata": {},
     "output_type": "display_data"
    },
    {
     "data": {
      "text/html": [
       "<strong>png:</strong> 2"
      ],
      "text/latex": [
       "\\textbf{png:} 2"
      ],
      "text/markdown": [
       "**png:** 2"
      ],
      "text/plain": [
       "png \n",
       "  2 "
      ]
     },
     "metadata": {},
     "output_type": "display_data"
    },
    {
     "data": {
      "image/png": "[encoded data removed]",
      "text/plain": [
       "Plot with title \"Number of Significant Differentially Expressed Genes \n",
       "(logFC < -0.26 OR > 0.26)\""
      ]
     },
     "metadata": {},
     "output_type": "display_data"
    }
   ],
   "source": [
    "# store values of significant up- and downregulated genes as variables to make a barplot out of them\n",
    "# because we only stored the genes with a log fold change lower than -0.26 or higher than 0.26, we still have to select the significant genes with a p-value lower < 0.05\n",
    "# we have to store these numbers seperately to create a distinction between to two in the matrix and thus barplot\n",
    "downBC <- nrow(subset(datBC1, datBC1$PValue_BC <= 0.05))\n",
    "upBC <- nrow(subset(datBC2, datBC2$PValue_BC <= 0.05))\n",
    "downLC <- nrow(subset(datLC1, datLC1$PValue_LC <= 0.05))\n",
    "upLC <- nrow(subset(datLC2, datLC2$PValue_LC <= 0.05))\n",
    "downMUO <- nrow(subset(datMUO1, datMUO1$PValue_MUO <= 0.05))\n",
    "upMUO <- nrow(subset(datMUO2, datMUO2$PValue_MUO <= 0.05))\n",
    "downRA <- nrow(subset(datRA_1, datRA_1$PValue_RA <= 0.05))\n",
    "upRA <- nrow(subset(datRA_2, datRA_2$PValue_RA <= 0.05))\n",
    "downDCM <- nrow(subset(datDCM1, datDCM1$PValue_DCM <= 0.05))\n",
    "upDCM <- nrow(subset(datDCM2, datDCM2$PValue_DCM <= 0.05))\n",
    "downICM <- nrow(subset(datICM1, datICM1$PValue_ICM <= 0.05))\n",
    "upICM <- nrow(subset(datICM2, datICM2$PValue_ICM <= 0.05))\n",
    "downSLE <- nrow(subset(datSLE1, datSLE1$PValue_SLE <= 0.05))\n",
    "upSLE <- nrow(subset(datSLE2, datSLE2$PValue_SLE <= 0.05))\n",
    "\n",
    "# create matrix before creating barplot\n",
    "df1 <- matrix(ncol = 7, nrow = 2)\n",
    "colnames(df1) <- c(\"BC\", \"LC\", \"MUO\", \"RA\", \"DCM\", \"ICM\", \"SLE\")\n",
    "df1[1,1] = upBC\n",
    "df1[2,1] = downBC\n",
    "df1[1,2] = upLC\n",
    "df1[2,2] = downLC\n",
    "df1[1,3] = upMUO\n",
    "df1[2,3] = downMUO\n",
    "df1[1,4] = upRA\n",
    "df1[2,4] = downRA\n",
    "df1[1,5] = upDCM\n",
    "df1[2,5] = downDCM\n",
    "df1[1,6] = upICM\n",
    "df1[2,6] = downICM\n",
    "df1[1,7] = upSLE\n",
    "df1[2,7] = downSLE\n",
    "\n",
    "df1\n",
    "\n",
    "# create barplot\n",
    "bar_plot <- barplot(df1, beside = TRUE, main = \"Number of Significant Differentially Expressed Genes \n",
    "(logFC < -0.26 OR > 0.26)\",\n",
    "                    names.arg = c(colnames(df1)), \n",
    "                    ylab = \"Number (n)\", \n",
    "                    ylim = c(0, 80),\n",
    "                    col = c(\"#FF0000\", \"#0000FF\", \"#FF0000\", \"#0000FF\", \"#FF0000\", \"#0000FF\", \"#FF0000\",\n",
    "                            \"#0000FF\", \"#FF0000\",\"#0000FF\", \"#FF0000\", \"#0000FF\", \"#FF0000\", \"#0000FF\"),\n",
    "                    legend = c(\"Upregulated\", \"Downregulated\"),\n",
    "                    args.legend = list(x = \"topright\"))\n",
    "text(bar_plot, c(15, 58, 21, 42, 31, 11, 26, 24, 6, 27, 10, 32, 14, 10) ,df1 ,cex= 0.7 ,pos = 3) \n",
    "\n",
    "\n",
    "# save barplot as image\n",
    "dev.copy(jpeg, filename = file.path(getwd(),\"Results\", \"infl_genes\", \"0.26barplot_nSigGenes.jpg\"));\n",
    "dev.off ();"
   ]
  },
  {
   "cell_type": "markdown",
   "metadata": {},
   "source": [
    "To look easier at the percentage of significant differentially expressed genes, and compare these values easier between the different datasets, we should make a barplot out of these values. "
   ]
  },
  {
   "cell_type": "code",
   "execution_count": 20,
   "metadata": {
    "scrolled": true
   },
   "outputs": [
    {
     "data": {
      "text/html": [
       "<strong>jpeg:</strong> 3"
      ],
      "text/latex": [
       "\\textbf{jpeg:} 3"
      ],
      "text/markdown": [
       "**jpeg:** 3"
      ],
      "text/plain": [
       "jpeg \n",
       "   3 "
      ]
     },
     "metadata": {},
     "output_type": "display_data"
    },
    {
     "data": {
      "text/html": [
       "<strong>png:</strong> 2"
      ],
      "text/latex": [
       "\\textbf{png:} 2"
      ],
      "text/markdown": [
       "**png:** 2"
      ],
      "text/plain": [
       "png \n",
       "  2 "
      ]
     },
     "metadata": {},
     "output_type": "display_data"
    },
    {
     "data": {
      "image/png": "[encoded data removed]",
      "text/plain": [
       "Plot with title \"Percentage of Significant Differentially Expressed Genes\n",
       "(logFC < -0.26 OR > 0.26)\""
      ]
     },
     "metadata": {},
     "output_type": "display_data"
    }
   ],
   "source": [
    "# create barplot of percentage of significant differentially expressed genes\n",
    "x <- as.numeric(c(percBC, percLC, percMUO, percRA, percDCM, percICM, percSLE))\n",
    "y <- c(\"BC\", \"LC\", \"MUO\", \"RA\", \"DCM\", \"ICM\", \"SLE\")\n",
    "bar_plot1 <- barplot(x, main = \"Percentage of Significant Differentially Expressed Genes\n",
    "(logFC < -0.26 OR > 0.26)\",\n",
    "        names.arg = c(y), ylab = \"Percentage (%)\",\n",
    "        ylim = c(0,100))\n",
    "text(bar_plot1, c(52.9, 41.18, 29.37, 37.31, 27.27, 34.71, 16.22) , x,cex=1 ,pos = 3)\n",
    "\n",
    "# save boxplot as image\n",
    "dev.copy(jpeg, filename = file.path(getwd(),\"Results\", \"infl_genes\", \"0.26barplot_percSigGenes.jpg\"));\n",
    "dev.off ();"
   ]
  },
  {
   "cell_type": "markdown",
   "metadata": {},
   "source": [
    "It is important to note that these percentages don't represent the perfecentage of significant differentially expressed genes of the _whole genome_. Rather these percentages indicate the significant differentially expressed genes of the _total number of genes measured_ by the respective method used. "
   ]
  },
  {
   "cell_type": "markdown",
   "metadata": {},
   "source": [
    "### Amount of similar measured genes\n",
    "It is also interesting to know how many similar significant differentially expressed genes are measured between two datasets."
   ]
  },
  {
   "cell_type": "code",
   "execution_count": 21,
   "metadata": {},
   "outputs": [
    {
     "data": {
      "text/html": [
       "<table>\n",
       "<thead><tr><th scope=col>Disease</th><th scope=col>BC</th><th scope=col>LC</th><th scope=col>MUO</th><th scope=col>RA</th><th scope=col>DCM</th><th scope=col>ICM</th><th scope=col>SLE</th></tr></thead>\n",
       "<tbody>\n",
       "\t<tr><td>BC </td><td>NA </td><td>NA </td><td>NA </td><td>NA </td><td>NA </td><td>NA </td><td>NA </td></tr>\n",
       "\t<tr><td>LC </td><td>NA </td><td>NA </td><td>NA </td><td>NA </td><td>NA </td><td>NA </td><td>NA </td></tr>\n",
       "\t<tr><td>MUO</td><td>NA </td><td>NA </td><td>NA </td><td>NA </td><td>NA </td><td>NA </td><td>NA </td></tr>\n",
       "\t<tr><td>RA </td><td>NA </td><td>NA </td><td>NA </td><td>NA </td><td>NA </td><td>NA </td><td>NA </td></tr>\n",
       "\t<tr><td>DCM</td><td>NA </td><td>NA </td><td>NA </td><td>NA </td><td>NA </td><td>NA </td><td>NA </td></tr>\n",
       "\t<tr><td>ICM</td><td>NA </td><td>NA </td><td>NA </td><td>NA </td><td>NA </td><td>NA </td><td>NA </td></tr>\n",
       "\t<tr><td>SLE</td><td>NA </td><td>NA </td><td>NA </td><td>NA </td><td>NA </td><td>NA </td><td>NA </td></tr>\n",
       "</tbody>\n",
       "</table>\n"
      ],
      "text/latex": [
       "\\begin{tabular}{r|llllllll}\n",
       " Disease & BC & LC & MUO & RA & DCM & ICM & SLE\\\\\n",
       "\\hline\n",
       "\t BC  & NA  & NA  & NA  & NA  & NA  & NA  & NA \\\\\n",
       "\t LC  & NA  & NA  & NA  & NA  & NA  & NA  & NA \\\\\n",
       "\t MUO & NA  & NA  & NA  & NA  & NA  & NA  & NA \\\\\n",
       "\t RA  & NA  & NA  & NA  & NA  & NA  & NA  & NA \\\\\n",
       "\t DCM & NA  & NA  & NA  & NA  & NA  & NA  & NA \\\\\n",
       "\t ICM & NA  & NA  & NA  & NA  & NA  & NA  & NA \\\\\n",
       "\t SLE & NA  & NA  & NA  & NA  & NA  & NA  & NA \\\\\n",
       "\\end{tabular}\n"
      ],
      "text/markdown": [
       "\n",
       "| Disease | BC | LC | MUO | RA | DCM | ICM | SLE |\n",
       "|---|---|---|---|---|---|---|---|\n",
       "| BC  | NA  | NA  | NA  | NA  | NA  | NA  | NA  |\n",
       "| LC  | NA  | NA  | NA  | NA  | NA  | NA  | NA  |\n",
       "| MUO | NA  | NA  | NA  | NA  | NA  | NA  | NA  |\n",
       "| RA  | NA  | NA  | NA  | NA  | NA  | NA  | NA  |\n",
       "| DCM | NA  | NA  | NA  | NA  | NA  | NA  | NA  |\n",
       "| ICM | NA  | NA  | NA  | NA  | NA  | NA  | NA  |\n",
       "| SLE | NA  | NA  | NA  | NA  | NA  | NA  | NA  |\n",
       "\n"
      ],
      "text/plain": [
       "  Disease BC LC MUO RA DCM ICM SLE\n",
       "1 BC      NA NA NA  NA NA  NA  NA \n",
       "2 LC      NA NA NA  NA NA  NA  NA \n",
       "3 MUO     NA NA NA  NA NA  NA  NA \n",
       "4 RA      NA NA NA  NA NA  NA  NA \n",
       "5 DCM     NA NA NA  NA NA  NA  NA \n",
       "6 ICM     NA NA NA  NA NA  NA  NA \n",
       "7 SLE     NA NA NA  NA NA  NA  NA "
      ]
     },
     "metadata": {},
     "output_type": "display_data"
    }
   ],
   "source": [
    "# first create an empty data frame\n",
    "Disease_list <- c(\"BC\", \"LC\", \"MUO\", \"RA\",\n",
    "                  \"DCM\", \"ICM\", \"SLE\")\n",
    "df <- data.frame(matrix(ncol = 8, nrow = 7))\n",
    "colnames(df)[1] <- \"Disease\"\n",
    "colnames(df)[2:8] <- Disease_list\n",
    "df$Disease <- Disease_list\n",
    "df"
   ]
  },
  {
   "cell_type": "code",
   "execution_count": 22,
   "metadata": {},
   "outputs": [],
   "source": [
    "# fill in values of data files\n",
    "df[1,2] = length(datBC4$entrezgene) # breast cancer\n",
    "df[2,3] = length(datLC4$entrezgene) # lung cancer\n",
    "df[3,4] = length(datMUO4$entrezgene) # MUO\n",
    "df[4,5] = length(datRA_4$entrezgene) # rheumatoid arthritis\n",
    "df[5,6] = length(datDCM4$entrezgene) # DCM\n",
    "df[6,7] = length(datICM4$entrezgene) # ICM\n",
    "df[7,8] = length(datSLE4$entrezgene) # SLE"
   ]
  },
  {
   "cell_type": "code",
   "execution_count": 23,
   "metadata": {},
   "outputs": [],
   "source": [
    "# breast cancer vs the rest\n",
    "df[1,3] = length(as.data.frame(datBC4 %>% filter(datBC4$entrezgene %in% datLC4$entrezgene))$entrezgene) # lung cancer\n",
    "df[2,2] = length(as.data.frame(datBC4 %>% filter(datBC4$entrezgene %in% datLC4$entrezgene))$entrezgene)\n",
    "\n",
    "df[1,4] = length(as.data.frame(datBC4 %>% filter(datBC4$entrezgene %in% datMUO4$entrezgene))$entrezgene) # MUO\n",
    "df[3,2] = length(as.data.frame(datBC4 %>% filter(datBC4$entrezgene %in% datMUO4$entrezgene))$entrezgene)\n",
    "\n",
    "df[1,5] = length(as.data.frame(datBC4 %>% filter(datBC4$entrezgene %in% datRA_4$entrezgene))$entrezgene) # RA\n",
    "df[4,2] = length(as.data.frame(datBC4 %>% filter(datBC4$entrezgene %in% datRA_4$entrezgene))$entrezgene)\n",
    "\n",
    "df[1,6] = length(as.data.frame(datBC4 %>% filter(datBC4$entrezgene %in% datDCM4$entrezgene))$entrezgene) # DCM\n",
    "df[5,2] = length(as.data.frame(datBC4 %>% filter(datBC4$entrezgene %in% datDCM4$entrezgene))$entrezgene)\n",
    "\n",
    "df[1,7] = length(as.data.frame(datBC4 %>% filter(datBC4$entrezgene %in% datICM4$entrezgene))$entrezgene) # ICM\n",
    "df[6,2] = length(as.data.frame(datBC4 %>% filter(datBC4$entrezgene %in% datICM4$entrezgene))$entrezgene)\n",
    "\n",
    "df[1,8] = length(as.data.frame(datBC4 %>% filter(datBC4$entrezgene %in% datSLE4$entrezgene))$entrezgene) # SLE\n",
    "df[7,2] = length(as.data.frame(datBC4 %>% filter(datBC4$entrezgene %in% datSLE4$entrezgene))$entrezgene)"
   ]
  },
  {
   "cell_type": "code",
   "execution_count": 24,
   "metadata": {},
   "outputs": [],
   "source": [
    "# lung cancer vs the rest\n",
    "df[2,4] = length(as.data.frame(datLC4 %>% filter(datLC4$entrezgene %in% datMUO4$entrezgene))$entrezgene) # MUO\n",
    "df[3,3] = length(as.data.frame(datLC4 %>% filter(datLC4$entrezgene %in% datMUO4$entrezgene))$entrezgene)\n",
    "\n",
    "df[2,5] = length(as.data.frame(datLC4 %>% filter(datLC4$entrezgene %in% datRA_4$entrezgene))$entrezgene) # RA\n",
    "df[4,3] = length(as.data.frame(datLC4 %>% filter(datLC4$entrezgene %in% datRA_4$entrezgene))$entrezgene)\n",
    "\n",
    "df[2,6] = length(as.data.frame(datLC4 %>% filter(datLC4$entrezgene %in% datDCM4$entrezgene))$entrezgene) # DCM\n",
    "df[5,3] = length(as.data.frame(datLC4 %>% filter(datLC4$entrezgene %in% datDCM4$entrezgene))$entrezgene)\n",
    "\n",
    "df[2,7] = length(as.data.frame(datLC4 %>% filter(datLC4$entrezgene %in% datICM4$entrezgene))$entrezgene) # ICM\n",
    "df[6,3] = length(as.data.frame(datLC4 %>% filter(datLC4$entrezgene %in% datICM4$entrezgene))$entrezgene)\n",
    "\n",
    "df[2,8] = length(as.data.frame(datLC4 %>% filter(datLC4$entrezgene %in% datSLE4$entrezgene))$entrezgene) # SLE\n",
    "df[7,3] = length(as.data.frame(datLC4 %>% filter(datLC4$entrezgene %in% datSLE4$entrezgene))$entrezgene)"
   ]
  },
  {
   "cell_type": "code",
   "execution_count": 25,
   "metadata": {},
   "outputs": [],
   "source": [
    "# MUO vs the rest\n",
    "df[3,5] = length(as.data.frame(datMUO4 %>% filter(datMUO4$entrezgene %in% datRA_4$entrezgene))$entrezgene) # RA\n",
    "df[4,4] = length(as.data.frame(datMUO4 %>% filter(datMUO4$entrezgene %in% datRA_4$entrezgene))$entrezgene)\n",
    "\n",
    "df[3,6] = length(as.data.frame(datMUO4 %>% filter(datMUO4$entrezgene %in% datDCM4$entrezgene))$entrezgene) # DCM\n",
    "df[5,4] = length(as.data.frame(datMUO4 %>% filter(datMUO4$entrezgene %in% datDCM4$entrezgene))$entrezgene)\n",
    "\n",
    "df[3,7] = length(as.data.frame(datMUO4 %>% filter(datMUO4$entrezgene %in% datICM4$entrezgene))$entrezgene) # ICM\n",
    "df[6,4] = length(as.data.frame(datMUO4 %>% filter(datMUO4$entrezgene %in% datICM4$entrezgene))$entrezgene)\n",
    "\n",
    "df[3,8] = length(as.data.frame(datMUO4 %>% filter(datMUO4$entrezgene %in% datSLE4$entrezgene))$entrezgene) # SLE\n",
    "df[7,4] = length(as.data.frame(datMUO4 %>% filter(datMUO4$entrezgene %in% datSLE4$entrezgene))$entrezgene)"
   ]
  },
  {
   "cell_type": "code",
   "execution_count": 26,
   "metadata": {},
   "outputs": [],
   "source": [
    "# RA235 vs the rest\n",
    "df[4,6] = length(as.data.frame(datRA_4 %>% filter(datRA_4$entrezgene %in% datDCM4$entrezgene))$entrezgene) # DCM\n",
    "df[5,5] = length(as.data.frame(datRA_4 %>% filter(datRA_4$entrezgene %in% datDCM4$entrezgene))$entrezgene)\n",
    "\n",
    "df[4,7] = length(as.data.frame(datRA_4 %>% filter(datRA_4$entrezgene %in% datICM4$entrezgene))$entrezgene) # ICM\n",
    "df[6,5] = length(as.data.frame(datRA_4 %>% filter(datRA_4$entrezgene %in% datICM4$entrezgene))$entrezgene)\n",
    "\n",
    "df[4,8] = length(as.data.frame(datRA_4 %>% filter(datRA_4$entrezgene %in% datSLE4$entrezgene))$entrezgene) # SLE\n",
    "df[7,5] = length(as.data.frame(datRA_4 %>% filter(datRA_4$entrezgene %in% datSLE4$entrezgene))$entrezgene)"
   ]
  },
  {
   "cell_type": "code",
   "execution_count": 27,
   "metadata": {},
   "outputs": [],
   "source": [
    "# DCM vs the rest\n",
    "df[5,7] = length(as.data.frame(datDCM4 %>% filter(datDCM4$entrezgene %in% datICM4$entrezgene))$entrezgene) # ICM\n",
    "df[6,6] = length(as.data.frame(datDCM4 %>% filter(datDCM4$entrezgene %in% datICM4$entrezgene))$entrezgene)\n",
    "\n",
    "df[7,6] = length(as.data.frame(datDCM4 %>% filter(datDCM4$entrezgene %in% datSLE4$entrezgene))$entrezgene) # SLE\n",
    "df[5,8] = length(as.data.frame(datDCM4 %>% filter(datDCM4$entrezgene %in% datSLE4$entrezgene))$entrezgene)"
   ]
  },
  {
   "cell_type": "code",
   "execution_count": 28,
   "metadata": {},
   "outputs": [],
   "source": [
    "# ICM vs the rest\n",
    "df[6,8] = length(as.data.frame(datICM4 %>% filter(datICM4$entrezgene %in% datSLE4$entrezgene))$entrezgene) # SLE\n",
    "df[7,7] = length(as.data.frame(datICM4 %>% filter(datICM4$entrezgene %in% datSLE4$entrezgene))$entrezgene)"
   ]
  },
  {
   "cell_type": "code",
   "execution_count": 29,
   "metadata": {
    "scrolled": true
   },
   "outputs": [
    {
     "data": {
      "text/html": [
       "<table>\n",
       "<thead><tr><th scope=col>Disease</th><th scope=col>BC</th><th scope=col>LC</th><th scope=col>MUO</th><th scope=col>RA</th><th scope=col>DCM</th><th scope=col>ICM</th><th scope=col>SLE</th></tr></thead>\n",
       "<tbody>\n",
       "\t<tr><td>BC </td><td>73 </td><td>35 </td><td>27 </td><td>29 </td><td>22 </td><td>20 </td><td>14 </td></tr>\n",
       "\t<tr><td>LC </td><td>35 </td><td>63 </td><td>19 </td><td>25 </td><td>13 </td><td>15 </td><td>12 </td></tr>\n",
       "\t<tr><td>MUO</td><td>27 </td><td>19 </td><td>42 </td><td>22 </td><td>11 </td><td>17 </td><td> 8 </td></tr>\n",
       "\t<tr><td>RA </td><td>29 </td><td>25 </td><td>22 </td><td>50 </td><td>13 </td><td>19 </td><td>11 </td></tr>\n",
       "\t<tr><td>DCM</td><td>22 </td><td>13 </td><td>11 </td><td>13 </td><td>33 </td><td>22 </td><td> 7 </td></tr>\n",
       "\t<tr><td>ICM</td><td>20 </td><td>15 </td><td>17 </td><td>19 </td><td>22 </td><td>42 </td><td> 9 </td></tr>\n",
       "\t<tr><td>SLE</td><td>14 </td><td>12 </td><td> 8 </td><td>11 </td><td> 7 </td><td> 9 </td><td>24 </td></tr>\n",
       "</tbody>\n",
       "</table>\n"
      ],
      "text/latex": [
       "\\begin{tabular}{r|llllllll}\n",
       " Disease & BC & LC & MUO & RA & DCM & ICM & SLE\\\\\n",
       "\\hline\n",
       "\t BC  & 73  & 35  & 27  & 29  & 22  & 20  & 14 \\\\\n",
       "\t LC  & 35  & 63  & 19  & 25  & 13  & 15  & 12 \\\\\n",
       "\t MUO & 27  & 19  & 42  & 22  & 11  & 17  &  8 \\\\\n",
       "\t RA  & 29  & 25  & 22  & 50  & 13  & 19  & 11 \\\\\n",
       "\t DCM & 22  & 13  & 11  & 13  & 33  & 22  &  7 \\\\\n",
       "\t ICM & 20  & 15  & 17  & 19  & 22  & 42  &  9 \\\\\n",
       "\t SLE & 14  & 12  &  8  & 11  &  7  &  9  & 24 \\\\\n",
       "\\end{tabular}\n"
      ],
      "text/markdown": [
       "\n",
       "| Disease | BC | LC | MUO | RA | DCM | ICM | SLE |\n",
       "|---|---|---|---|---|---|---|---|\n",
       "| BC  | 73  | 35  | 27  | 29  | 22  | 20  | 14  |\n",
       "| LC  | 35  | 63  | 19  | 25  | 13  | 15  | 12  |\n",
       "| MUO | 27  | 19  | 42  | 22  | 11  | 17  |  8  |\n",
       "| RA  | 29  | 25  | 22  | 50  | 13  | 19  | 11  |\n",
       "| DCM | 22  | 13  | 11  | 13  | 33  | 22  |  7  |\n",
       "| ICM | 20  | 15  | 17  | 19  | 22  | 42  |  9  |\n",
       "| SLE | 14  | 12  |  8  | 11  |  7  |  9  | 24  |\n",
       "\n"
      ],
      "text/plain": [
       "  Disease BC LC MUO RA DCM ICM SLE\n",
       "1 BC      73 35 27  29 22  20  14 \n",
       "2 LC      35 63 19  25 13  15  12 \n",
       "3 MUO     27 19 42  22 11  17   8 \n",
       "4 RA      29 25 22  50 13  19  11 \n",
       "5 DCM     22 13 11  13 33  22   7 \n",
       "6 ICM     20 15 17  19 22  42   9 \n",
       "7 SLE     14 12  8  11  7   9  24 "
      ]
     },
     "metadata": {},
     "output_type": "display_data"
    }
   ],
   "source": [
    "# save data frame as text file\n",
    "write.table(df, file.path(getwd(), \"Results\", \"infl_genes\", \"0.26n_sigGenes.txt\"), sep = \"\\t\", row.names = F, quote = F)\n",
    "\n",
    "# view table\n",
    "df"
   ]
  },
  {
   "cell_type": "code",
   "execution_count": 30,
   "metadata": {},
   "outputs": [],
   "source": [
    "# create another empty data frame, just like before\n",
    "df_perc <- data.frame(matrix(ncol = 8, nrow = 7))\n",
    "colnames(df_perc)[1] <- \"Disease\"\n",
    "colnames(df_perc)[2:8] <- Disease_list\n",
    "df_perc$Disease <- Disease_list\n",
    "\n",
    "# fill in the number of significant differntially expressed genes per disease\n",
    "# fill in values of data files\n",
    "df_perc[1,2] = length(datBC4$entrezgene) # breast cancer\n",
    "df_perc[2,3] = length(datLC4$entrezgene) # lung cancer\n",
    "df_perc[3,4] = length(datMUO4$entrezgene) # MUO\n",
    "df_perc[4,5] = length(datRA_4$entrezgene) # rheumatoid arthritis\n",
    "df_perc[5,6] = length(datDCM4$entrezgene) # DCM\n",
    "df_perc[6,7] = length(datICM4$entrezgene) # ICM\n",
    "df_perc[7,8] = length(datSLE4$entrezgene) # SLE"
   ]
  },
  {
   "cell_type": "code",
   "execution_count": 31,
   "metadata": {},
   "outputs": [
    {
     "data": {
      "text/html": [
       "<table>\n",
       "<thead><tr><th scope=col>Disease</th><th scope=col>BC</th><th scope=col>LC</th><th scope=col>MUO</th><th scope=col>RA</th><th scope=col>DCM</th><th scope=col>ICM</th><th scope=col>SLE</th></tr></thead>\n",
       "<tbody>\n",
       "\t<tr><td>BC </td><td>73 </td><td>48 </td><td>37 </td><td>40 </td><td>30 </td><td>27 </td><td>19 </td></tr>\n",
       "\t<tr><td>LC </td><td>56 </td><td>63 </td><td>30 </td><td>40 </td><td>21 </td><td>24 </td><td>19 </td></tr>\n",
       "\t<tr><td>MUO</td><td>64 </td><td>45 </td><td>42 </td><td>52 </td><td>26 </td><td>40 </td><td>19 </td></tr>\n",
       "\t<tr><td>RA </td><td>58 </td><td>50 </td><td>44 </td><td>50 </td><td>26 </td><td>38 </td><td>22 </td></tr>\n",
       "\t<tr><td>DCM</td><td>67 </td><td>39 </td><td>33 </td><td>39 </td><td>33 </td><td>67 </td><td>21 </td></tr>\n",
       "\t<tr><td>ICM</td><td>48 </td><td>36 </td><td>40 </td><td>45 </td><td>52 </td><td>42 </td><td>21 </td></tr>\n",
       "\t<tr><td>SLE</td><td>58 </td><td>50 </td><td>33 </td><td>46 </td><td>29 </td><td>38 </td><td>24 </td></tr>\n",
       "</tbody>\n",
       "</table>\n"
      ],
      "text/latex": [
       "\\begin{tabular}{r|llllllll}\n",
       " Disease & BC & LC & MUO & RA & DCM & ICM & SLE\\\\\n",
       "\\hline\n",
       "\t BC  & 73  & 48  & 37  & 40  & 30  & 27  & 19 \\\\\n",
       "\t LC  & 56  & 63  & 30  & 40  & 21  & 24  & 19 \\\\\n",
       "\t MUO & 64  & 45  & 42  & 52  & 26  & 40  & 19 \\\\\n",
       "\t RA  & 58  & 50  & 44  & 50  & 26  & 38  & 22 \\\\\n",
       "\t DCM & 67  & 39  & 33  & 39  & 33  & 67  & 21 \\\\\n",
       "\t ICM & 48  & 36  & 40  & 45  & 52  & 42  & 21 \\\\\n",
       "\t SLE & 58  & 50  & 33  & 46  & 29  & 38  & 24 \\\\\n",
       "\\end{tabular}\n"
      ],
      "text/markdown": [
       "\n",
       "| Disease | BC | LC | MUO | RA | DCM | ICM | SLE |\n",
       "|---|---|---|---|---|---|---|---|\n",
       "| BC  | 73  | 48  | 37  | 40  | 30  | 27  | 19  |\n",
       "| LC  | 56  | 63  | 30  | 40  | 21  | 24  | 19  |\n",
       "| MUO | 64  | 45  | 42  | 52  | 26  | 40  | 19  |\n",
       "| RA  | 58  | 50  | 44  | 50  | 26  | 38  | 22  |\n",
       "| DCM | 67  | 39  | 33  | 39  | 33  | 67  | 21  |\n",
       "| ICM | 48  | 36  | 40  | 45  | 52  | 42  | 21  |\n",
       "| SLE | 58  | 50  | 33  | 46  | 29  | 38  | 24  |\n",
       "\n"
      ],
      "text/plain": [
       "  Disease BC LC MUO RA DCM ICM SLE\n",
       "1 BC      73 48 37  40 30  27  19 \n",
       "2 LC      56 63 30  40 21  24  19 \n",
       "3 MUO     64 45 42  52 26  40  19 \n",
       "4 RA      58 50 44  50 26  38  22 \n",
       "5 DCM     67 39 33  39 33  67  21 \n",
       "6 ICM     48 36 40  45 52  42  21 \n",
       "7 SLE     58 50 33  46 29  38  24 "
      ]
     },
     "metadata": {},
     "output_type": "display_data"
    }
   ],
   "source": [
    "# breast cancer\n",
    "df_perc[1,3] = round(((df[1,3] / df_perc[1,2]) * 100), 1)\n",
    "df_perc[1,4] = round(((df[1,4] / df_perc[1,2]) * 100), 1)\n",
    "df_perc[1,5] = round(((df[1,5] / df_perc[1,2]) * 100), 1)\n",
    "df_perc[1,6] = round(((df[1,6] / df_perc[1,2]) * 100), 1)\n",
    "df_perc[1,7] = round(((df[1,7] / df_perc[1,2]) * 100), 1)\n",
    "df_perc[1,8] = round(((df[1,8] / df_perc[1,2]) * 100), 1)\n",
    "\n",
    "# lung cancer\n",
    "df_perc[2,2] = round(((df[2,2] / df_perc[2,3]) * 100), 1)\n",
    "df_perc[2,4] = round(((df[2,4] / df_perc[2,3]) * 100), 1)\n",
    "df_perc[2,5] = round(((df[2,5] / df_perc[2,3]) * 100), 1)\n",
    "df_perc[2,6] = round(((df[2,6] / df_perc[2,3]) * 100), 1)\n",
    "df_perc[2,7] = round(((df[2,7] / df_perc[2,3]) * 100), 1)\n",
    "df_perc[2,8] = round(((df[2,8] / df_perc[2,3]) * 100), 1)\n",
    "\n",
    "# MUO\n",
    "df_perc[3,2] = round(((df[3,2] / df_perc[3,4]) * 100), 1)\n",
    "df_perc[3,3] = round(((df[3,3] / df_perc[3,4]) * 100), 1)\n",
    "df_perc[3,5] = round(((df[3,5] / df_perc[3,4]) * 100), 1)\n",
    "df_perc[3,6] = round(((df[3,6] / df_perc[3,4]) * 100), 1)\n",
    "df_perc[3,7] = round(((df[3,7] / df_perc[3,4]) * 100), 1)\n",
    "df_perc[3,8] = round(((df[3,8] / df_perc[3,4]) * 100), 1)\n",
    "\n",
    "# RA\n",
    "df_perc[4,2] = round(((df[4,2] / df_perc[4,5]) * 100), 1)\n",
    "df_perc[4,3] = round(((df[4,3] / df_perc[4,5]) * 100), 1)\n",
    "df_perc[4,4] = round(((df[4,4] / df_perc[4,5]) * 100), 1)\n",
    "df_perc[4,6] = round(((df[4,6] / df_perc[4,5]) * 100), 1)\n",
    "df_perc[4,7] = round(((df[4,7] / df_perc[4,5]) * 100), 1)\n",
    "df_perc[4,8] = round(((df[4,8] / df_perc[4,5]) * 100), 1)\n",
    "\n",
    "# DCM\n",
    "df_perc[5,2] = round(((df[5,2] / df_perc[5,6]) * 100), 1)\n",
    "df_perc[5,3] = round(((df[5,3] / df_perc[5,6]) * 100), 1)\n",
    "df_perc[5,4] = round(((df[5,4] / df_perc[5,6]) * 100), 1)\n",
    "df_perc[5,5] = round(((df[5,5] / df_perc[5,6]) * 100), 1)\n",
    "df_perc[5,7] = round(((df[5,7] / df_perc[5,6]) * 100), 1)\n",
    "df_perc[5,8] = round(((df[5,8] / df_perc[5,6]) * 100), 1)\n",
    "\n",
    "# ICM\n",
    "df_perc[6,2] = round(((df[6,2] / df_perc[6,7]) * 100), 1)\n",
    "df_perc[6,3] = round(((df[6,3] / df_perc[6,7]) * 100), 1)\n",
    "df_perc[6,4] = round(((df[6,4] / df_perc[6,7]) * 100), 1)\n",
    "df_perc[6,5] = round(((df[6,5] / df_perc[6,7]) * 100), 1)\n",
    "df_perc[6,6] = round(((df[6,6] / df_perc[6,7]) * 100), 1)\n",
    "df_perc[6,8] = round(((df[6,8] / df_perc[6,7]) * 100), 1)\n",
    "\n",
    "# SLE\n",
    "df_perc[7,2] = round(((df[7,2] / df_perc[7,8]) * 100), 1)\n",
    "df_perc[7,3] = round(((df[7,3] / df_perc[7,8]) * 100), 1)\n",
    "df_perc[7,4] = round(((df[7,4] / df_perc[7,8]) * 100), 1)\n",
    "df_perc[7,5] = round(((df[7,5] / df_perc[7,8]) * 100), 1)\n",
    "df_perc[7,6] = round(((df[7,6] / df_perc[7,8]) * 100), 1)\n",
    "df_perc[7,7] = round(((df[7,7] / df_perc[7,8]) * 100), 1)\n",
    "\n",
    "df_perc1 <- df_perc\n",
    "df_perc1 <- format(df_perc1, digits = 1)\n",
    "df_perc1"
   ]
  },
  {
   "cell_type": "code",
   "execution_count": 32,
   "metadata": {},
   "outputs": [
    {
     "data": {
      "text/html": [
       "<table>\n",
       "<thead><tr><th scope=col>Disease</th><th scope=col>BC</th><th scope=col>LC</th><th scope=col>MUO</th><th scope=col>RA</th><th scope=col>DCM</th><th scope=col>ICM</th><th scope=col>SLE</th></tr></thead>\n",
       "<tbody>\n",
       "\t<tr><td>BC    </td><td>73    </td><td>47.9 %</td><td>37 %  </td><td>39.7 %</td><td>30.1 %</td><td>27.4 %</td><td>19.2 %</td></tr>\n",
       "\t<tr><td>LC    </td><td>55.6 %</td><td>63    </td><td>30.2 %</td><td>39.7 %</td><td>20.6 %</td><td>23.8 %</td><td>19 %  </td></tr>\n",
       "\t<tr><td>MUO   </td><td>64.3 %</td><td>45.2 %</td><td>42    </td><td>52.4 %</td><td>26.2 %</td><td>40.5 %</td><td>19 %  </td></tr>\n",
       "\t<tr><td>RA    </td><td>58 %  </td><td>50 %  </td><td>44 %  </td><td>50    </td><td>26 %  </td><td>38 %  </td><td>22 %  </td></tr>\n",
       "\t<tr><td>DCM   </td><td>66.7 %</td><td>39.4 %</td><td>33.3 %</td><td>39.4 %</td><td>33    </td><td>66.7 %</td><td>21.2 %</td></tr>\n",
       "\t<tr><td>ICM   </td><td>47.6 %</td><td>35.7 %</td><td>40.5 %</td><td>45.2 %</td><td>52.4 %</td><td>42    </td><td>21.4 %</td></tr>\n",
       "\t<tr><td>SLE   </td><td>58.3 %</td><td>50 %  </td><td>33.3 %</td><td>45.8 %</td><td>29.2 %</td><td>37.5 %</td><td>24    </td></tr>\n",
       "</tbody>\n",
       "</table>\n"
      ],
      "text/latex": [
       "\\begin{tabular}{r|llllllll}\n",
       " Disease & BC & LC & MUO & RA & DCM & ICM & SLE\\\\\n",
       "\\hline\n",
       "\t BC       & 73       & 47.9 \\% & 37 \\%   & 39.7 \\% & 30.1 \\% & 27.4 \\% & 19.2 \\%\\\\\n",
       "\t LC       & 55.6 \\% & 63       & 30.2 \\% & 39.7 \\% & 20.6 \\% & 23.8 \\% & 19 \\%  \\\\\n",
       "\t MUO      & 64.3 \\% & 45.2 \\% & 42       & 52.4 \\% & 26.2 \\% & 40.5 \\% & 19 \\%  \\\\\n",
       "\t RA       & 58 \\%   & 50 \\%   & 44 \\%   & 50       & 26 \\%   & 38 \\%   & 22 \\%  \\\\\n",
       "\t DCM      & 66.7 \\% & 39.4 \\% & 33.3 \\% & 39.4 \\% & 33       & 66.7 \\% & 21.2 \\%\\\\\n",
       "\t ICM      & 47.6 \\% & 35.7 \\% & 40.5 \\% & 45.2 \\% & 52.4 \\% & 42       & 21.4 \\%\\\\\n",
       "\t SLE      & 58.3 \\% & 50 \\%   & 33.3 \\% & 45.8 \\% & 29.2 \\% & 37.5 \\% & 24      \\\\\n",
       "\\end{tabular}\n"
      ],
      "text/markdown": [
       "\n",
       "| Disease | BC | LC | MUO | RA | DCM | ICM | SLE |\n",
       "|---|---|---|---|---|---|---|---|\n",
       "| BC     | 73     | 47.9 % | 37 %   | 39.7 % | 30.1 % | 27.4 % | 19.2 % |\n",
       "| LC     | 55.6 % | 63     | 30.2 % | 39.7 % | 20.6 % | 23.8 % | 19 %   |\n",
       "| MUO    | 64.3 % | 45.2 % | 42     | 52.4 % | 26.2 % | 40.5 % | 19 %   |\n",
       "| RA     | 58 %   | 50 %   | 44 %   | 50     | 26 %   | 38 %   | 22 %   |\n",
       "| DCM    | 66.7 % | 39.4 % | 33.3 % | 39.4 % | 33     | 66.7 % | 21.2 % |\n",
       "| ICM    | 47.6 % | 35.7 % | 40.5 % | 45.2 % | 52.4 % | 42     | 21.4 % |\n",
       "| SLE    | 58.3 % | 50 %   | 33.3 % | 45.8 % | 29.2 % | 37.5 % | 24     |\n",
       "\n"
      ],
      "text/plain": [
       "  Disease BC     LC     MUO    RA     DCM    ICM    SLE   \n",
       "1 BC      73     47.9 % 37 %   39.7 % 30.1 % 27.4 % 19.2 %\n",
       "2 LC      55.6 % 63     30.2 % 39.7 % 20.6 % 23.8 % 19 %  \n",
       "3 MUO     64.3 % 45.2 % 42     52.4 % 26.2 % 40.5 % 19 %  \n",
       "4 RA      58 %   50 %   44 %   50     26 %   38 %   22 %  \n",
       "5 DCM     66.7 % 39.4 % 33.3 % 39.4 % 33     66.7 % 21.2 %\n",
       "6 ICM     47.6 % 35.7 % 40.5 % 45.2 % 52.4 % 42     21.4 %\n",
       "7 SLE     58.3 % 50 %   33.3 % 45.8 % 29.2 % 37.5 % 24    "
      ]
     },
     "metadata": {},
     "output_type": "display_data"
    }
   ],
   "source": [
    "# add percentages, has to go via this way instead of adding it in the lines of code above. \n",
    "# While adding it to the lines of code above, errors occur that no numeric values are used in the equation\n",
    "# breast cancer\n",
    "df_perc[1,3] = paste(df_perc[1,3],\"%\")\n",
    "df_perc[1,4] = paste(df_perc[1,4],\"%\")\n",
    "df_perc[1,5] = paste(df_perc[1,5],\"%\")\n",
    "df_perc[1,6] = paste(df_perc[1,6],\"%\")\n",
    "df_perc[1,7] = paste(df_perc[1,7],\"%\")\n",
    "df_perc[1,8] = paste(df_perc[1,8],\"%\")\n",
    "\n",
    "# lung cancer\n",
    "df_perc[2,2] = paste(df_perc[2,2],\"%\") \n",
    "df_perc[2,4] = paste(df_perc[2,4],\"%\") \n",
    "df_perc[2,5] = paste(df_perc[2,5],\"%\")\n",
    "df_perc[2,6] = paste(df_perc[2,6],\"%\")\n",
    "df_perc[2,7] = paste(df_perc[2,7],\"%\")\n",
    "df_perc[2,8] = paste(df_perc[2,8],\"%\")\n",
    "\n",
    "# MUO\n",
    "df_perc[3,2] = paste(df_perc[3,2],\"%\")\n",
    "df_perc[3,3] = paste(df_perc[3,3],\"%\")\n",
    "df_perc[3,5] = paste(df_perc[3,5],\"%\")\n",
    "df_perc[3,6] = paste(df_perc[3,6],\"%\")\n",
    "df_perc[3,7] = paste(df_perc[3,7],\"%\")\n",
    "df_perc[3,8] = paste(df_perc[3,8],\"%\")\n",
    "\n",
    "# RA\n",
    "df_perc[4,2] = paste(df_perc[4,2],\"%\")\n",
    "df_perc[4,3] = paste(df_perc[4,3],\"%\")\n",
    "df_perc[4,4] = paste(df_perc[4,4],\"%\")\n",
    "df_perc[4,6] = paste(df_perc[4,6],\"%\")\n",
    "df_perc[4,7] = paste(df_perc[4,7],\"%\")\n",
    "df_perc[4,8] = paste(df_perc[4,8],\"%\")\n",
    "\n",
    "# DCM\n",
    "df_perc[5,2] = paste(df_perc[5,2],\"%\")\n",
    "df_perc[5,3] = paste(df_perc[5,3],\"%\")\n",
    "df_perc[5,4] = paste(df_perc[5,4],\"%\")\n",
    "df_perc[5,5] = paste(df_perc[5,5],\"%\")\n",
    "df_perc[5,7] = paste(df_perc[5,7],\"%\")\n",
    "df_perc[5,8] = paste(df_perc[5,8],\"%\")\n",
    "\n",
    "# ICM\n",
    "df_perc[6,2] = paste(df_perc[6,2],\"%\")\n",
    "df_perc[6,3] = paste(df_perc[6,3],\"%\")\n",
    "df_perc[6,4] = paste(df_perc[6,4],\"%\")\n",
    "df_perc[6,5] = paste(df_perc[6,5],\"%\")\n",
    "df_perc[6,6] = paste(df_perc[6,6],\"%\")\n",
    "df_perc[6,8] = paste(df_perc[6,8],\"%\")\n",
    "\n",
    "# SLE\n",
    "df_perc[7,2] = paste(df_perc[7,2],\"%\")\n",
    "df_perc[7,3] = paste(df_perc[7,3],\"%\")\n",
    "df_perc[7,4] = paste(df_perc[7,4],\"%\")\n",
    "df_perc[7,5] = paste(df_perc[7,5],\"%\")\n",
    "df_perc[7,6] = paste(df_perc[7,6],\"%\")\n",
    "df_perc[7,7] = paste(df_perc[7,7],\"%\")\n",
    "\n",
    "# save data frame as text file\n",
    "write.table(df_perc, file.path(getwd(), \"Results\", \"infl_genes\", \"0.26perc_n_sigGenes.txt\"), sep = \"\\t\", row.names = F, quote = F)\n",
    "\n",
    "df_perc"
   ]
  },
  {
   "cell_type": "code",
   "execution_count": 33,
   "metadata": {},
   "outputs": [
    {
     "data": {
      "text/html": [
       "<table>\n",
       "<thead><tr><th></th><th scope=col>BC</th><th scope=col>LC</th><th scope=col>MUO</th><th scope=col>RA</th><th scope=col>DCM</th><th scope=col>ICM</th><th scope=col>SLE</th></tr></thead>\n",
       "<tbody>\n",
       "\t<tr><th scope=row>BC</th><td>73</td><td>48</td><td>37</td><td>40</td><td>30</td><td>27</td><td>19</td></tr>\n",
       "\t<tr><th scope=row>LC</th><td>56</td><td>63</td><td>30</td><td>40</td><td>21</td><td>24</td><td>19</td></tr>\n",
       "\t<tr><th scope=row>MUO</th><td>64</td><td>45</td><td>42</td><td>52</td><td>26</td><td>40</td><td>19</td></tr>\n",
       "\t<tr><th scope=row>RA</th><td>58</td><td>50</td><td>44</td><td>50</td><td>26</td><td>38</td><td>22</td></tr>\n",
       "\t<tr><th scope=row>DCM</th><td>67</td><td>39</td><td>33</td><td>39</td><td>33</td><td>67</td><td>21</td></tr>\n",
       "\t<tr><th scope=row>ICM</th><td>48</td><td>36</td><td>40</td><td>45</td><td>52</td><td>42</td><td>21</td></tr>\n",
       "\t<tr><th scope=row>SLE</th><td>58</td><td>50</td><td>33</td><td>46</td><td>29</td><td>38</td><td>24</td></tr>\n",
       "</tbody>\n",
       "</table>\n"
      ],
      "text/latex": [
       "\\begin{tabular}{r|lllllll}\n",
       "  & BC & LC & MUO & RA & DCM & ICM & SLE\\\\\n",
       "\\hline\n",
       "\tBC & 73 & 48 & 37 & 40 & 30 & 27 & 19\\\\\n",
       "\tLC & 56 & 63 & 30 & 40 & 21 & 24 & 19\\\\\n",
       "\tMUO & 64 & 45 & 42 & 52 & 26 & 40 & 19\\\\\n",
       "\tRA & 58 & 50 & 44 & 50 & 26 & 38 & 22\\\\\n",
       "\tDCM & 67 & 39 & 33 & 39 & 33 & 67 & 21\\\\\n",
       "\tICM & 48 & 36 & 40 & 45 & 52 & 42 & 21\\\\\n",
       "\tSLE & 58 & 50 & 33 & 46 & 29 & 38 & 24\\\\\n",
       "\\end{tabular}\n"
      ],
      "text/markdown": [
       "\n",
       "| <!--/--> | BC | LC | MUO | RA | DCM | ICM | SLE |\n",
       "|---|---|---|---|---|---|---|---|\n",
       "| BC | 73 | 48 | 37 | 40 | 30 | 27 | 19 |\n",
       "| LC | 56 | 63 | 30 | 40 | 21 | 24 | 19 |\n",
       "| MUO | 64 | 45 | 42 | 52 | 26 | 40 | 19 |\n",
       "| RA | 58 | 50 | 44 | 50 | 26 | 38 | 22 |\n",
       "| DCM | 67 | 39 | 33 | 39 | 33 | 67 | 21 |\n",
       "| ICM | 48 | 36 | 40 | 45 | 52 | 42 | 21 |\n",
       "| SLE | 58 | 50 | 33 | 46 | 29 | 38 | 24 |\n",
       "\n"
      ],
      "text/plain": [
       "    BC LC MUO RA DCM ICM SLE\n",
       "BC  73 48 37  40 30  27  19 \n",
       "LC  56 63 30  40 21  24  19 \n",
       "MUO 64 45 42  52 26  40  19 \n",
       "RA  58 50 44  50 26  38  22 \n",
       "DCM 67 39 33  39 33  67  21 \n",
       "ICM 48 36 40  45 52  42  21 \n",
       "SLE 58 50 33  46 29  38  24 "
      ]
     },
     "metadata": {},
     "output_type": "display_data"
    }
   ],
   "source": [
    "# create matrix from data frame and have first column as rownames\n",
    "rownames(df_perc1) <- df_perc1$Disease\n",
    "df_perc1 <- df_perc1[-1]\n",
    "\n",
    "df_perc1 <- as.matrix(as.data.frame(lapply(df_perc1, as.numeric), row.names = Disease_list))\n",
    "\n",
    "df_perc_matrix <- as.matrix(df_perc1)\n",
    "df_perc_matrix"
   ]
  },
  {
   "cell_type": "code",
   "execution_count": 34,
   "metadata": {},
   "outputs": [
    {
     "name": "stderr",
     "output_type": "stream",
     "text": [
      "Warning message in heatmap.2(as.matrix(df_perc_matrix), cellnote = df_perc_matrix, :\n",
      "\"Discrepancy: Rowv is FALSE, while dendrogram is `both'. Omitting row dendogram.\"Warning message in heatmap.2(as.matrix(df_perc_matrix), cellnote = df_perc_matrix, :\n",
      "\"Discrepancy: Colv is FALSE, while dendrogram is `column'. Omitting column dendogram.\""
     ]
    },
    {
     "data": {
      "text/html": [
       "<strong>jpeg:</strong> 3"
      ],
      "text/latex": [
       "\\textbf{jpeg:} 3"
      ],
      "text/markdown": [
       "**jpeg:** 3"
      ],
      "text/plain": [
       "jpeg \n",
       "   3 "
      ]
     },
     "metadata": {},
     "output_type": "display_data"
    },
    {
     "data": {
      "text/html": [
       "<strong>png:</strong> 2"
      ],
      "text/latex": [
       "\\textbf{png:} 2"
      ],
      "text/markdown": [
       "**png:** 2"
      ],
      "text/plain": [
       "png \n",
       "  2 "
      ]
     },
     "metadata": {},
     "output_type": "display_data"
    },
    {
     "data": {
      "image/png": "[encoded data removed]",
      "text/plain": [
       "Plot with title \"Percentage overlapping genes (%)\n",
       "logFC < -0.26 OR > 0.26\n",
       "Inflammation associated genes\""
      ]
     },
     "metadata": {},
     "output_type": "display_data"
    }
   ],
   "source": [
    "# create color mapping\n",
    "colfunc <- colorRampPalette(c(\"yellow\", \"red\"))\n",
    "\n",
    "# create heatmap\n",
    "df_perc_matrix[1,1] <- NA\n",
    "df_perc_matrix[2,2] <- NA\n",
    "df_perc_matrix[3,3] <- NA\n",
    "df_perc_matrix[4,4] <- NA\n",
    "df_perc_matrix[5,5] <- NA\n",
    "df_perc_matrix[6,6] <- NA\n",
    "df_perc_matrix[7,7] <- NA\n",
    "\n",
    "df_perc_hm <- heatmap.2(as.matrix(df_perc_matrix) , cellnote = df_perc_matrix, notecol = \"black\", \n",
    "                     Rowv = NA, Colv = NA, col =colfunc,\n",
    "                     trace = \"none\", density.info = \"none\", key = F,\n",
    "                     main = \"Percentage overlapping genes (%)\n",
    "logFC < -0.26 OR > 0.26\n",
    "Inflammation associated genes\", margin = c(5,4), lhei = c(1,7))\n",
    "\n",
    "# save heatmap as image\n",
    "dev.copy(jpeg, filename = file.path(getwd(),\"Results\", \"infl_genes\", \"0.26heatmap.jpg\"));\n",
    "dev.off ();"
   ]
  }
 ],
 "metadata": {
  "kernelspec": {
   "display_name": "R",
   "language": "R",
   "name": "ir"
  },
  "language_info": {
   "codemirror_mode": "r",
   "file_extension": ".r",
   "mimetype": "text/x-r-source",
   "name": "R",
   "pygments_lexer": "r",
   "version": "3.5.1"
  }
 },
 "nbformat": 4,
 "nbformat_minor": 2
}
