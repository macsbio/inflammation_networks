{
 "cells": [
  {
   "cell_type": "markdown",
   "metadata": {},
   "source": [
    "# Cleaning gene expression data\n",
    "In this R script we will clean the gene expression data files that were obtained from GEO and TCGA and pre-processed. Notebooks of the pre-processing of the data can be found at [GitHub](https://github.com/macsbio/inflammation_networks/tree/master/Jupyter-DataPreProcessing). In another notebook, which can be found in the repository, we will merge the cleaned gene expression datasets. "
   ]
  },
  {
   "cell_type": "markdown",
   "metadata": {},
   "source": [
    "## The following step only works in RStudio. If working in another environment, please set the working directory properly and check if the working directory is correct. "
   ]
  },
  {
   "cell_type": "code",
   "execution_count": 1,
   "metadata": {},
   "outputs": [
    {
     "ename": "ERROR",
     "evalue": "Error: RStudio not running\n",
     "output_type": "error",
     "traceback": [
      "Error: RStudio not running\nTraceback:\n",
      "1. setwd(dirname(rstudioapi::callFun(\"getActiveDocumentContext\")$path))",
      "2. dirname(rstudioapi::callFun(\"getActiveDocumentContext\")$path)",
      "3. rstudioapi::callFun(\"getActiveDocumentContext\")",
      "4. verifyAvailable()",
      "5. stop(\"RStudio not running\", call. = FALSE)"
     ]
    }
   ],
   "source": [
    "# set wd to where script file is saved\n",
    "setwd(dirname(rstudioapi::callFun(\"getActiveDocumentContext\")$path))"
   ]
  },
  {
   "cell_type": "code",
   "execution_count": 1,
   "metadata": {},
   "outputs": [
    {
     "data": {
      "text/html": [
       "'C:/Users/Laurent/Jupyter - Cleaning &amp; merging data'"
      ],
      "text/latex": [
       "'C:/Users/Laurent/Jupyter - Cleaning \\& merging data'"
      ],
      "text/markdown": [
       "'C:/Users/Laurent/Jupyter - Cleaning &amp; merging data'"
      ],
      "text/plain": [
       "[1] \"C:/Users/Laurent/Jupyter - Cleaning & merging data\""
      ]
     },
     "metadata": {},
     "output_type": "display_data"
    }
   ],
   "source": [
    "# check wd\n",
    "getwd()"
   ]
  },
  {
   "cell_type": "code",
   "execution_count": 2,
   "metadata": {},
   "outputs": [
    {
     "name": "stderr",
     "output_type": "stream",
     "text": [
      "\n",
      "Attaching package: 'dplyr'\n",
      "\n",
      "The following objects are masked from 'package:stats':\n",
      "\n",
      "    filter, lag\n",
      "\n",
      "The following objects are masked from 'package:base':\n",
      "\n",
      "    intersect, setdiff, setequal, union\n",
      "\n"
     ]
    }
   ],
   "source": [
    "# load libraries\n",
    "library(dplyr)\n",
    "library(biomaRt)"
   ]
  },
  {
   "cell_type": "markdown",
   "metadata": {},
   "source": [
    "First of all we have to read gene expression data files of all diseases. In this case we have 8 data files. These data files were pre-processed as mentioned above, using R or [ArrayAnalysis](http://www.arrayanalysis.org/). "
   ]
  },
  {
   "cell_type": "code",
   "execution_count": 3,
   "metadata": {
    "scrolled": true
   },
   "outputs": [
    {
     "data": {
      "text/html": [
       "<table>\n",
       "<thead><tr><th scope=col>GeneID</th><th scope=col>GeneName</th><th scope=col>logFC</th><th scope=col>logCPM</th><th scope=col>F</th><th scope=col>PValue</th><th scope=col>FDR</th></tr></thead>\n",
       "<tbody>\n",
       "\t<tr><td>ENSG00000000003</td><td>TSPAN6         </td><td>-0.19677472    </td><td>5.878281       </td><td> 0.12159179    </td><td>0.733608386    </td><td>0.822084270    </td></tr>\n",
       "\t<tr><td>ENSG00000000005</td><td>TNMD           </td><td>-8.22242726    </td><td>3.044306       </td><td>53.86632165    </td><td>0.000011400    </td><td>0.000817970    </td></tr>\n",
       "\t<tr><td>ENSG00000000419</td><td>DPM1           </td><td> 0.06848394    </td><td>4.849708       </td><td> 0.04650132    </td><td>0.833040252    </td><td>0.892648753    </td></tr>\n",
       "\t<tr><td>ENSG00000000457</td><td>SCYL3          </td><td> 0.88768039    </td><td>4.612369       </td><td> 4.53550697    </td><td>0.055529182    </td><td>0.137126409    </td></tr>\n",
       "\t<tr><td>ENSG00000000460</td><td>C1orf112       </td><td> 1.27175890    </td><td>2.944843       </td><td> 7.29990937    </td><td>0.019866978    </td><td>0.068869167    </td></tr>\n",
       "\t<tr><td>ENSG00000000938</td><td>FGR            </td><td>-3.09305336    </td><td>3.656325       </td><td>29.46189716    </td><td>0.000177035    </td><td>0.003730564    </td></tr>\n",
       "</tbody>\n",
       "</table>\n"
      ],
      "text/latex": [
       "\\begin{tabular}{r|lllllll}\n",
       " GeneID & GeneName & logFC & logCPM & F & PValue & FDR\\\\\n",
       "\\hline\n",
       "\t ENSG00000000003 & TSPAN6          & -0.19677472     & 5.878281        &  0.12159179     & 0.733608386     & 0.822084270    \\\\\n",
       "\t ENSG00000000005 & TNMD            & -8.22242726     & 3.044306        & 53.86632165     & 0.000011400     & 0.000817970    \\\\\n",
       "\t ENSG00000000419 & DPM1            &  0.06848394     & 4.849708        &  0.04650132     & 0.833040252     & 0.892648753    \\\\\n",
       "\t ENSG00000000457 & SCYL3           &  0.88768039     & 4.612369        &  4.53550697     & 0.055529182     & 0.137126409    \\\\\n",
       "\t ENSG00000000460 & C1orf112        &  1.27175890     & 2.944843        &  7.29990937     & 0.019866978     & 0.068869167    \\\\\n",
       "\t ENSG00000000938 & FGR             & -3.09305336     & 3.656325        & 29.46189716     & 0.000177035     & 0.003730564    \\\\\n",
       "\\end{tabular}\n"
      ],
      "text/markdown": [
       "\n",
       "| GeneID | GeneName | logFC | logCPM | F | PValue | FDR |\n",
       "|---|---|---|---|---|---|---|\n",
       "| ENSG00000000003 | TSPAN6          | -0.19677472     | 5.878281        |  0.12159179     | 0.733608386     | 0.822084270     |\n",
       "| ENSG00000000005 | TNMD            | -8.22242726     | 3.044306        | 53.86632165     | 0.000011400     | 0.000817970     |\n",
       "| ENSG00000000419 | DPM1            |  0.06848394     | 4.849708        |  0.04650132     | 0.833040252     | 0.892648753     |\n",
       "| ENSG00000000457 | SCYL3           |  0.88768039     | 4.612369        |  4.53550697     | 0.055529182     | 0.137126409     |\n",
       "| ENSG00000000460 | C1orf112        |  1.27175890     | 2.944843        |  7.29990937     | 0.019866978     | 0.068869167     |\n",
       "| ENSG00000000938 | FGR             | -3.09305336     | 3.656325        | 29.46189716     | 0.000177035     | 0.003730564     |\n",
       "\n"
      ],
      "text/plain": [
       "  GeneID          GeneName logFC       logCPM   F           PValue     \n",
       "1 ENSG00000000003 TSPAN6   -0.19677472 5.878281  0.12159179 0.733608386\n",
       "2 ENSG00000000005 TNMD     -8.22242726 3.044306 53.86632165 0.000011400\n",
       "3 ENSG00000000419 DPM1      0.06848394 4.849708  0.04650132 0.833040252\n",
       "4 ENSG00000000457 SCYL3     0.88768039 4.612369  4.53550697 0.055529182\n",
       "5 ENSG00000000460 C1orf112  1.27175890 2.944843  7.29990937 0.019866978\n",
       "6 ENSG00000000938 FGR      -3.09305336 3.656325 29.46189716 0.000177035\n",
       "  FDR        \n",
       "1 0.822084270\n",
       "2 0.000817970\n",
       "3 0.892648753\n",
       "4 0.137126409\n",
       "5 0.068869167\n",
       "6 0.003730564"
      ]
     },
     "metadata": {},
     "output_type": "display_data"
    }
   ],
   "source": [
    "# load data\n",
    "data1 <- read.table(file.path(getwd(), \"Datasets\", \"breast-cancer_stats.txt\"), header = T, sep = \"\\t\")\n",
    "data2 <- read.table(file.path(getwd(), \"Datasets\", \"lung-cancer-stats.txt\"), header = T, sep = \"\\t\")\n",
    "data3 <- read.table(file.path(getwd(), \"Datasets\", \"MUO-Lean_stats.txt\"), header = T, sep = \"\\t\")\n",
    "data4 <- read.table(file.path(getwd(), \"Datasets\", \"RA-control_GSE55235_stats.txt\"), header = T, sep = \"\\t\")\n",
    "data5 <- read.table(file.path(getwd(), \"Datasets\", \"RETT-control_FC_stats.txt\"), header = T, sep = \"\\t\")\n",
    "data6 <- read.table(file.path(getwd(), \"Datasets\", \"RETT-control_TC_stats.txt\"), header = T, sep = \"\\t\")\n",
    "data7 <- read.table(file.path(getwd(), \"Datasets\", \"SLE_stats.txt\"), header = T, sep = \"\\t\")\n",
    "\n",
    "# view data1 as example on how data looks like\n",
    "head(data1)"
   ]
  },
  {
   "cell_type": "markdown",
   "metadata": {},
   "source": [
    "We see that the column names of data1 are not the column names we desire. There are also some columns we are not going to use (GeneName, logCPM, F and FDR), so we might as well remove those.\n",
    "We have to change this for all datasets. "
   ]
  },
  {
   "cell_type": "code",
   "execution_count": 4,
   "metadata": {},
   "outputs": [
    {
     "data": {
      "text/html": [
       "<table>\n",
       "<thead><tr><th scope=col>ensembl_gene_id</th><th scope=col>logFC_BC</th><th scope=col>PValue_BC</th></tr></thead>\n",
       "<tbody>\n",
       "\t<tr><td>ENSG00000000003</td><td>-0.19677472    </td><td>0.733608386    </td></tr>\n",
       "\t<tr><td>ENSG00000000005</td><td>-8.22242726    </td><td>0.000011400    </td></tr>\n",
       "\t<tr><td>ENSG00000000419</td><td> 0.06848394    </td><td>0.833040252    </td></tr>\n",
       "\t<tr><td>ENSG00000000457</td><td> 0.88768039    </td><td>0.055529182    </td></tr>\n",
       "\t<tr><td>ENSG00000000460</td><td> 1.27175890    </td><td>0.019866978    </td></tr>\n",
       "\t<tr><td>ENSG00000000938</td><td>-3.09305336    </td><td>0.000177035    </td></tr>\n",
       "</tbody>\n",
       "</table>\n"
      ],
      "text/latex": [
       "\\begin{tabular}{r|lll}\n",
       " ensembl\\_gene\\_id & logFC\\_BC & PValue\\_BC\\\\\n",
       "\\hline\n",
       "\t ENSG00000000003 & -0.19677472     & 0.733608386    \\\\\n",
       "\t ENSG00000000005 & -8.22242726     & 0.000011400    \\\\\n",
       "\t ENSG00000000419 &  0.06848394     & 0.833040252    \\\\\n",
       "\t ENSG00000000457 &  0.88768039     & 0.055529182    \\\\\n",
       "\t ENSG00000000460 &  1.27175890     & 0.019866978    \\\\\n",
       "\t ENSG00000000938 & -3.09305336     & 0.000177035    \\\\\n",
       "\\end{tabular}\n"
      ],
      "text/markdown": [
       "\n",
       "| ensembl_gene_id | logFC_BC | PValue_BC |\n",
       "|---|---|---|\n",
       "| ENSG00000000003 | -0.19677472     | 0.733608386     |\n",
       "| ENSG00000000005 | -8.22242726     | 0.000011400     |\n",
       "| ENSG00000000419 |  0.06848394     | 0.833040252     |\n",
       "| ENSG00000000457 |  0.88768039     | 0.055529182     |\n",
       "| ENSG00000000460 |  1.27175890     | 0.019866978     |\n",
       "| ENSG00000000938 | -3.09305336     | 0.000177035     |\n",
       "\n"
      ],
      "text/plain": [
       "  ensembl_gene_id logFC_BC    PValue_BC  \n",
       "1 ENSG00000000003 -0.19677472 0.733608386\n",
       "2 ENSG00000000005 -8.22242726 0.000011400\n",
       "3 ENSG00000000419  0.06848394 0.833040252\n",
       "4 ENSG00000000457  0.88768039 0.055529182\n",
       "5 ENSG00000000460  1.27175890 0.019866978\n",
       "6 ENSG00000000938 -3.09305336 0.000177035"
      ]
     },
     "metadata": {},
     "output_type": "display_data"
    }
   ],
   "source": [
    "# clean up data\n",
    "data1 <- data1[,c(-2,-4,-5,-7)] \n",
    "colnames(data1)[c(1,2,3)] <- c(\"ensembl_gene_id\", \"logFC_BC\", \"PValue_BC\")\n",
    "\n",
    "data2 <- data2[,-6]\n",
    "colnames(data2)[c(3,4,5)] <- c(\"ensembl_gene_id\", \"logFC_LC\", \"PValue_LC\")\n",
    "\n",
    "data3 <- data3[,c(-1,-3,-5)]\n",
    "data3 <- data3[,c(3,1,2)]\n",
    "data3 <- data3[!(data3$hgnc_symbol == \"---\"),]\n",
    "colnames(data3)[c(2,3)] <- c(\"logFC_MUO\", \"PValue_MUO\")\n",
    "\n",
    "data4 <- data4[,c(-3,-4,-5,-7,-8)]\n",
    "colnames(data4)[c(1,2,3)] <- c(\"ensembl_gene_id\", \"logFC_RA\",\"PValue_RA\")\n",
    "\n",
    "data5 <- data5[,c(-4,-6)]\n",
    "colnames(data5)[c(1,2,3,4)] <- c(\"ensembl_gene_id\", \"hgnc_symbol\", \"logFC_RETT_FC\", \"PValue_RETT_FC\")\n",
    "\n",
    "data6 <- data6[,c(-4,-6)]\n",
    "colnames(data6)[c(1,2,3,4)] <- c(\"ensembl_gene_id\", \"hgnc_symbol\", \"logFC_RETT_TC\", \"PValue_RETT_TC\")\n",
    "\n",
    "data7 <- data7[,c(-3,-4,-6)]\n",
    "colnames(data7)[c(1,2,3)] <- c(\"entrezgene\", \"logFC_SLE\", \"PValue_SLE\")\n",
    "\n",
    "# view data1 as example on how data looks like\n",
    "head(data1)"
   ]
  },
  {
   "cell_type": "markdown",
   "metadata": {},
   "source": [
    "For example we see that data1 contains ensembl gene IDs, while we would like to have entrezgene IDs. We have to change this by mapping the ensembl IDs to entrezgene IDs. \n",
    "\n",
    "## Datasets 1, 4, 5 and 6 have Ensembl IDs, 3 has hgnc_symbols and datasets 2 and 7 have already entrezgene IDs!"
   ]
  },
  {
   "cell_type": "code",
   "execution_count": 5,
   "metadata": {},
   "outputs": [
    {
     "name": "stderr",
     "output_type": "stream",
     "text": [
      "Warning message:                                                      \n",
      "\"Column `ensembl_gene_id` joining factor and character vector, coercing into character vector\""
     ]
    },
    {
     "data": {
      "text/html": [
       "<table>\n",
       "<thead><tr><th scope=col>ensembl_gene_id</th><th scope=col>logFC_BC</th><th scope=col>PValue_BC</th><th scope=col>entrezgene</th></tr></thead>\n",
       "<tbody>\n",
       "\t<tr><td>ENSG00000000003</td><td>-0.19677472    </td><td>0.733608386    </td><td> 7105          </td></tr>\n",
       "\t<tr><td>ENSG00000000005</td><td>-8.22242726    </td><td>0.000011400    </td><td>64102          </td></tr>\n",
       "\t<tr><td>ENSG00000000419</td><td> 0.06848394    </td><td>0.833040252    </td><td> 8813          </td></tr>\n",
       "\t<tr><td>ENSG00000000457</td><td> 0.88768039    </td><td>0.055529182    </td><td>57147          </td></tr>\n",
       "\t<tr><td>ENSG00000000460</td><td> 1.27175890    </td><td>0.019866978    </td><td>55732          </td></tr>\n",
       "\t<tr><td>ENSG00000000938</td><td>-3.09305336    </td><td>0.000177035    </td><td> 2268          </td></tr>\n",
       "</tbody>\n",
       "</table>\n"
      ],
      "text/latex": [
       "\\begin{tabular}{r|llll}\n",
       " ensembl\\_gene\\_id & logFC\\_BC & PValue\\_BC & entrezgene\\\\\n",
       "\\hline\n",
       "\t ENSG00000000003 & -0.19677472     & 0.733608386     &  7105          \\\\\n",
       "\t ENSG00000000005 & -8.22242726     & 0.000011400     & 64102          \\\\\n",
       "\t ENSG00000000419 &  0.06848394     & 0.833040252     &  8813          \\\\\n",
       "\t ENSG00000000457 &  0.88768039     & 0.055529182     & 57147          \\\\\n",
       "\t ENSG00000000460 &  1.27175890     & 0.019866978     & 55732          \\\\\n",
       "\t ENSG00000000938 & -3.09305336     & 0.000177035     &  2268          \\\\\n",
       "\\end{tabular}\n"
      ],
      "text/markdown": [
       "\n",
       "| ensembl_gene_id | logFC_BC | PValue_BC | entrezgene |\n",
       "|---|---|---|---|\n",
       "| ENSG00000000003 | -0.19677472     | 0.733608386     |  7105           |\n",
       "| ENSG00000000005 | -8.22242726     | 0.000011400     | 64102           |\n",
       "| ENSG00000000419 |  0.06848394     | 0.833040252     |  8813           |\n",
       "| ENSG00000000457 |  0.88768039     | 0.055529182     | 57147           |\n",
       "| ENSG00000000460 |  1.27175890     | 0.019866978     | 55732           |\n",
       "| ENSG00000000938 | -3.09305336     | 0.000177035     |  2268           |\n",
       "\n"
      ],
      "text/plain": [
       "  ensembl_gene_id logFC_BC    PValue_BC   entrezgene\n",
       "1 ENSG00000000003 -0.19677472 0.733608386  7105     \n",
       "2 ENSG00000000005 -8.22242726 0.000011400 64102     \n",
       "3 ENSG00000000419  0.06848394 0.833040252  8813     \n",
       "4 ENSG00000000457  0.88768039 0.055529182 57147     \n",
       "5 ENSG00000000460  1.27175890 0.019866978 55732     \n",
       "6 ENSG00000000938 -3.09305336 0.000177035  2268     "
      ]
     },
     "metadata": {},
     "output_type": "display_data"
    }
   ],
   "source": [
    "# entrezgene IDs from ensembl gene IDs\n",
    "# because data 1, 4, 5, 6 and 7 have ensembl IDs, we have to perform this chunk of code 5 times.\n",
    "ensembl <- useMart(\"ensembl\", dataset = \"hsapiens_gene_ensembl\")\n",
    "mygenes <- data1\n",
    "\n",
    "my.genes1 <- getBM(\n",
    "  attributes = c('entrezgene', 'ensembl_gene_id'), \n",
    "  filters = 'ensembl_gene_id',\n",
    "  values = mygenes,\n",
    "  mart = ensembl\n",
    ")\n",
    "\n",
    "data1 <- data1 %>% left_join(my.genes1, by = \"ensembl_gene_id\")\n",
    "\n",
    "head(data1)"
   ]
  },
  {
   "cell_type": "code",
   "execution_count": 6,
   "metadata": {},
   "outputs": [
    {
     "name": "stderr",
     "output_type": "stream",
     "text": [
      "Warning message:                                                      \n",
      "\"Column `ensembl_gene_id` joining factor and character vector, coercing into character vector\""
     ]
    },
    {
     "data": {
      "text/html": [
       "<table>\n",
       "<thead><tr><th scope=col>ensembl_gene_id</th><th scope=col>logFC_RA235</th><th scope=col>PValue_RA235</th><th scope=col>entrezgene</th></tr></thead>\n",
       "<tbody>\n",
       "\t<tr><td>ENSG00000223865</td><td>2.432572       </td><td>9.646176e-17   </td><td> 3115          </td></tr>\n",
       "\t<tr><td>ENSG00000211952</td><td>7.955072       </td><td>1.875752e-15   </td><td>   NA          </td></tr>\n",
       "\t<tr><td>ENSG00000132465</td><td>8.390554       </td><td>1.989380e-15   </td><td> 3512          </td></tr>\n",
       "\t<tr><td>ENSG00000111801</td><td>2.761847       </td><td>2.238005e-15   </td><td>10384          </td></tr>\n",
       "\t<tr><td>ENSG00000110777</td><td>6.009361       </td><td>2.591924e-15   </td><td> 5450          </td></tr>\n",
       "\t<tr><td>ENSG00000242574</td><td>3.658038       </td><td>3.447606e-15   </td><td> 3109          </td></tr>\n",
       "</tbody>\n",
       "</table>\n"
      ],
      "text/latex": [
       "\\begin{tabular}{r|llll}\n",
       " ensembl\\_gene\\_id & logFC\\_RA235 & PValue\\_RA235 & entrezgene\\\\\n",
       "\\hline\n",
       "\t ENSG00000223865 & 2.432572        & 9.646176e-17    &  3115          \\\\\n",
       "\t ENSG00000211952 & 7.955072        & 1.875752e-15    &    NA          \\\\\n",
       "\t ENSG00000132465 & 8.390554        & 1.989380e-15    &  3512          \\\\\n",
       "\t ENSG00000111801 & 2.761847        & 2.238005e-15    & 10384          \\\\\n",
       "\t ENSG00000110777 & 6.009361        & 2.591924e-15    &  5450          \\\\\n",
       "\t ENSG00000242574 & 3.658038        & 3.447606e-15    &  3109          \\\\\n",
       "\\end{tabular}\n"
      ],
      "text/markdown": [
       "\n",
       "| ensembl_gene_id | logFC_RA235 | PValue_RA235 | entrezgene |\n",
       "|---|---|---|---|\n",
       "| ENSG00000223865 | 2.432572        | 9.646176e-17    |  3115           |\n",
       "| ENSG00000211952 | 7.955072        | 1.875752e-15    |    NA           |\n",
       "| ENSG00000132465 | 8.390554        | 1.989380e-15    |  3512           |\n",
       "| ENSG00000111801 | 2.761847        | 2.238005e-15    | 10384           |\n",
       "| ENSG00000110777 | 6.009361        | 2.591924e-15    |  5450           |\n",
       "| ENSG00000242574 | 3.658038        | 3.447606e-15    |  3109           |\n",
       "\n"
      ],
      "text/plain": [
       "  ensembl_gene_id logFC_RA235 PValue_RA235 entrezgene\n",
       "1 ENSG00000223865 2.432572    9.646176e-17  3115     \n",
       "2 ENSG00000211952 7.955072    1.875752e-15    NA     \n",
       "3 ENSG00000132465 8.390554    1.989380e-15  3512     \n",
       "4 ENSG00000111801 2.761847    2.238005e-15 10384     \n",
       "5 ENSG00000110777 6.009361    2.591924e-15  5450     \n",
       "6 ENSG00000242574 3.658038    3.447606e-15  3109     "
      ]
     },
     "metadata": {},
     "output_type": "display_data"
    }
   ],
   "source": [
    "# entrezgene IDs from ensembl gene IDs\n",
    "# because data 1, 4, 5, 6 and 7 have ensembl IDs, we have to perform this chunk of code 5 times.\n",
    "ensembl <- useMart(\"ensembl\", dataset = \"hsapiens_gene_ensembl\")\n",
    "mygenes <- data4\n",
    "\n",
    "my.genes1 <- getBM(\n",
    "  attributes = c('entrezgene', 'ensembl_gene_id'), \n",
    "  filters = 'ensembl_gene_id',\n",
    "  values = mygenes,\n",
    "  mart = ensembl\n",
    ")\n",
    "\n",
    "data4 <- data4 %>% left_join(my.genes1, by = \"ensembl_gene_id\")\n",
    "\n",
    "head(data4)"
   ]
  },
  {
   "cell_type": "code",
   "execution_count": 7,
   "metadata": {},
   "outputs": [
    {
     "name": "stderr",
     "output_type": "stream",
     "text": [
      "Warning message:                                                      \n",
      "\"Column `ensembl_gene_id` joining factor and character vector, coercing into character vector\""
     ]
    },
    {
     "data": {
      "text/html": [
       "<table>\n",
       "<thead><tr><th scope=col>ensembl_gene_id</th><th scope=col>hgnc_symbol</th><th scope=col>logFC_RETT_FC</th><th scope=col>PValue_RETT_FC</th><th scope=col>entrezgene</th></tr></thead>\n",
       "<tbody>\n",
       "\t<tr><td>ENSG00000184254</td><td>ALDH1A3        </td><td> 1.4808993     </td><td>5.82e-06       </td><td>   220         </td></tr>\n",
       "\t<tr><td>ENSG00000184828</td><td>ZBTB7C         </td><td> 0.9939575     </td><td>8.11e-06       </td><td>201501         </td></tr>\n",
       "\t<tr><td>ENSG00000112799</td><td>LY86           </td><td>-0.7647789     </td><td>1.16e-05       </td><td>  9450         </td></tr>\n",
       "\t<tr><td>ENSG00000168329</td><td>CX3CR1         </td><td>-1.5765757     </td><td>1.56e-05       </td><td>  1524         </td></tr>\n",
       "\t<tr><td>ENSG00000119535</td><td>CSF3R          </td><td>-0.8475975     </td><td>1.88e-05       </td><td>  1441         </td></tr>\n",
       "\t<tr><td>ENSG00000232859</td><td>LYRM9          </td><td> 1.0868543     </td><td>1.88e-05       </td><td>201229         </td></tr>\n",
       "</tbody>\n",
       "</table>\n"
      ],
      "text/latex": [
       "\\begin{tabular}{r|lllll}\n",
       " ensembl\\_gene\\_id & hgnc\\_symbol & logFC\\_RETT\\_FC & PValue\\_RETT\\_FC & entrezgene\\\\\n",
       "\\hline\n",
       "\t ENSG00000184254 & ALDH1A3         &  1.4808993      & 5.82e-06        &    220         \\\\\n",
       "\t ENSG00000184828 & ZBTB7C          &  0.9939575      & 8.11e-06        & 201501         \\\\\n",
       "\t ENSG00000112799 & LY86            & -0.7647789      & 1.16e-05        &   9450         \\\\\n",
       "\t ENSG00000168329 & CX3CR1          & -1.5765757      & 1.56e-05        &   1524         \\\\\n",
       "\t ENSG00000119535 & CSF3R           & -0.8475975      & 1.88e-05        &   1441         \\\\\n",
       "\t ENSG00000232859 & LYRM9           &  1.0868543      & 1.88e-05        & 201229         \\\\\n",
       "\\end{tabular}\n"
      ],
      "text/markdown": [
       "\n",
       "| ensembl_gene_id | hgnc_symbol | logFC_RETT_FC | PValue_RETT_FC | entrezgene |\n",
       "|---|---|---|---|---|\n",
       "| ENSG00000184254 | ALDH1A3         |  1.4808993      | 5.82e-06        |    220          |\n",
       "| ENSG00000184828 | ZBTB7C          |  0.9939575      | 8.11e-06        | 201501          |\n",
       "| ENSG00000112799 | LY86            | -0.7647789      | 1.16e-05        |   9450          |\n",
       "| ENSG00000168329 | CX3CR1          | -1.5765757      | 1.56e-05        |   1524          |\n",
       "| ENSG00000119535 | CSF3R           | -0.8475975      | 1.88e-05        |   1441          |\n",
       "| ENSG00000232859 | LYRM9           |  1.0868543      | 1.88e-05        | 201229          |\n",
       "\n"
      ],
      "text/plain": [
       "  ensembl_gene_id hgnc_symbol logFC_RETT_FC PValue_RETT_FC entrezgene\n",
       "1 ENSG00000184254 ALDH1A3      1.4808993    5.82e-06          220    \n",
       "2 ENSG00000184828 ZBTB7C       0.9939575    8.11e-06       201501    \n",
       "3 ENSG00000112799 LY86        -0.7647789    1.16e-05         9450    \n",
       "4 ENSG00000168329 CX3CR1      -1.5765757    1.56e-05         1524    \n",
       "5 ENSG00000119535 CSF3R       -0.8475975    1.88e-05         1441    \n",
       "6 ENSG00000232859 LYRM9        1.0868543    1.88e-05       201229    "
      ]
     },
     "metadata": {},
     "output_type": "display_data"
    }
   ],
   "source": [
    "# entrezgene IDs from ensembl gene IDs\n",
    "# because data 1, 4, 5, 6 and 7 have ensembl IDs, we have to perform this chunk of code 5 times.\n",
    "ensembl <- useMart(\"ensembl\", dataset = \"hsapiens_gene_ensembl\")\n",
    "mygenes <- data5\n",
    "\n",
    "my.genes1 <- getBM(\n",
    "  attributes = c('entrezgene', 'ensembl_gene_id'), \n",
    "  filters = 'ensembl_gene_id',\n",
    "  values = mygenes,\n",
    "  mart = ensembl\n",
    ")\n",
    "\n",
    "data5 <- data5 %>% left_join(my.genes1, by = \"ensembl_gene_id\")\n",
    "\n",
    "head(data5)"
   ]
  },
  {
   "cell_type": "code",
   "execution_count": 8,
   "metadata": {},
   "outputs": [
    {
     "name": "stderr",
     "output_type": "stream",
     "text": [
      "Warning message:                                                      \n",
      "\"Column `ensembl_gene_id` joining factor and character vector, coercing into character vector\""
     ]
    },
    {
     "data": {
      "text/html": [
       "<table>\n",
       "<thead><tr><th scope=col>ensembl_gene_id</th><th scope=col>hgnc_symbol</th><th scope=col>logFC_RETT_TC</th><th scope=col>PValue_RETT_TC</th><th scope=col>entrezgene</th></tr></thead>\n",
       "<tbody>\n",
       "\t<tr><td>ENSG00000168329</td><td>CX3CR1         </td><td>-2.0635340     </td><td>7.22e-07       </td><td>  1524         </td></tr>\n",
       "\t<tr><td>ENSG00000141750</td><td>STAC2          </td><td> 1.2639781     </td><td>1.60e-06       </td><td>342667         </td></tr>\n",
       "\t<tr><td>ENSG00000165025</td><td>SYK            </td><td>-0.8430392     </td><td>2.35e-06       </td><td>  6850         </td></tr>\n",
       "\t<tr><td>ENSG00000112799</td><td>LY86           </td><td>-0.8457504     </td><td>3.78e-06       </td><td>  9450         </td></tr>\n",
       "\t<tr><td>ENSG00000197943</td><td>PLCG2          </td><td>-0.7966658     </td><td>4.83e-06       </td><td>  5336         </td></tr>\n",
       "\t<tr><td>ENSG00000242574</td><td>HLA-DMB        </td><td>-1.2366369     </td><td>1.18e-05       </td><td>  3109         </td></tr>\n",
       "</tbody>\n",
       "</table>\n"
      ],
      "text/latex": [
       "\\begin{tabular}{r|lllll}\n",
       " ensembl\\_gene\\_id & hgnc\\_symbol & logFC\\_RETT\\_TC & PValue\\_RETT\\_TC & entrezgene\\\\\n",
       "\\hline\n",
       "\t ENSG00000168329 & CX3CR1          & -2.0635340      & 7.22e-07        &   1524         \\\\\n",
       "\t ENSG00000141750 & STAC2           &  1.2639781      & 1.60e-06        & 342667         \\\\\n",
       "\t ENSG00000165025 & SYK             & -0.8430392      & 2.35e-06        &   6850         \\\\\n",
       "\t ENSG00000112799 & LY86            & -0.8457504      & 3.78e-06        &   9450         \\\\\n",
       "\t ENSG00000197943 & PLCG2           & -0.7966658      & 4.83e-06        &   5336         \\\\\n",
       "\t ENSG00000242574 & HLA-DMB         & -1.2366369      & 1.18e-05        &   3109         \\\\\n",
       "\\end{tabular}\n"
      ],
      "text/markdown": [
       "\n",
       "| ensembl_gene_id | hgnc_symbol | logFC_RETT_TC | PValue_RETT_TC | entrezgene |\n",
       "|---|---|---|---|---|\n",
       "| ENSG00000168329 | CX3CR1          | -2.0635340      | 7.22e-07        |   1524          |\n",
       "| ENSG00000141750 | STAC2           |  1.2639781      | 1.60e-06        | 342667          |\n",
       "| ENSG00000165025 | SYK             | -0.8430392      | 2.35e-06        |   6850          |\n",
       "| ENSG00000112799 | LY86            | -0.8457504      | 3.78e-06        |   9450          |\n",
       "| ENSG00000197943 | PLCG2           | -0.7966658      | 4.83e-06        |   5336          |\n",
       "| ENSG00000242574 | HLA-DMB         | -1.2366369      | 1.18e-05        |   3109          |\n",
       "\n"
      ],
      "text/plain": [
       "  ensembl_gene_id hgnc_symbol logFC_RETT_TC PValue_RETT_TC entrezgene\n",
       "1 ENSG00000168329 CX3CR1      -2.0635340    7.22e-07         1524    \n",
       "2 ENSG00000141750 STAC2        1.2639781    1.60e-06       342667    \n",
       "3 ENSG00000165025 SYK         -0.8430392    2.35e-06         6850    \n",
       "4 ENSG00000112799 LY86        -0.8457504    3.78e-06         9450    \n",
       "5 ENSG00000197943 PLCG2       -0.7966658    4.83e-06         5336    \n",
       "6 ENSG00000242574 HLA-DMB     -1.2366369    1.18e-05         3109    "
      ]
     },
     "metadata": {},
     "output_type": "display_data"
    }
   ],
   "source": [
    "# entrezgene IDs from ensembl gene IDs\n",
    "# because data 1, 4, 5, 6 and 7 have ensembl IDs, we have to perform this chunk of code 5 times.\n",
    "ensembl <- useMart(\"ensembl\", dataset = \"hsapiens_gene_ensembl\")\n",
    "mygenes <- data6\n",
    "\n",
    "my.genes1 <- getBM(\n",
    "  attributes = c('entrezgene', 'ensembl_gene_id'), \n",
    "  filters = 'ensembl_gene_id',\n",
    "  values = mygenes,\n",
    "  mart = ensembl\n",
    ")\n",
    "\n",
    "data6 <- data6 %>% left_join(my.genes1, by = \"ensembl_gene_id\")\n",
    "\n",
    "head(data6)"
   ]
  },
  {
   "cell_type": "markdown",
   "metadata": {},
   "source": [
    "We have now the entrezgene IDs for datasets 1, 2, 4, 5, 6, 7 and 8. Only dataset 3 has to be mapped to entrezgene IDs. "
   ]
  },
  {
   "cell_type": "code",
   "execution_count": 9,
   "metadata": {},
   "outputs": [
    {
     "name": "stderr",
     "output_type": "stream",
     "text": [
      "Warning message:                                                      \n",
      "\"Column `hgnc_symbol` joining factor and character vector, coercing into character vector\""
     ]
    },
    {
     "data": {
      "text/html": [
       "<table>\n",
       "<thead><tr><th scope=col>hgnc_symbol</th><th scope=col>logFC_MUO</th><th scope=col>PValue_MUO</th><th scope=col>entrezgene</th></tr></thead>\n",
       "<tbody>\n",
       "\t<tr><td>PLA2G7    </td><td> 3.6562151</td><td>7.99e-12  </td><td> 7941     </td></tr>\n",
       "\t<tr><td>ETFA      </td><td>-0.6770891</td><td>4.31e-11  </td><td> 2108     </td></tr>\n",
       "\t<tr><td>LYZ       </td><td> 2.3115932</td><td>5.25e-11  </td><td> 4069     </td></tr>\n",
       "\t<tr><td>ALPK3     </td><td>-2.3067365</td><td>5.93e-11  </td><td>57538     </td></tr>\n",
       "\t<tr><td>HLA-DMB   </td><td> 0.6703927</td><td>1.07e-10  </td><td> 3109     </td></tr>\n",
       "\t<tr><td>ARRB2     </td><td> 1.3011300</td><td>1.30e-10  </td><td>  409     </td></tr>\n",
       "</tbody>\n",
       "</table>\n"
      ],
      "text/latex": [
       "\\begin{tabular}{r|llll}\n",
       " hgnc\\_symbol & logFC\\_MUO & PValue\\_MUO & entrezgene\\\\\n",
       "\\hline\n",
       "\t PLA2G7     &  3.6562151 & 7.99e-12   &  7941     \\\\\n",
       "\t ETFA       & -0.6770891 & 4.31e-11   &  2108     \\\\\n",
       "\t LYZ        &  2.3115932 & 5.25e-11   &  4069     \\\\\n",
       "\t ALPK3      & -2.3067365 & 5.93e-11   & 57538     \\\\\n",
       "\t HLA-DMB    &  0.6703927 & 1.07e-10   &  3109     \\\\\n",
       "\t ARRB2      &  1.3011300 & 1.30e-10   &   409     \\\\\n",
       "\\end{tabular}\n"
      ],
      "text/markdown": [
       "\n",
       "| hgnc_symbol | logFC_MUO | PValue_MUO | entrezgene |\n",
       "|---|---|---|---|\n",
       "| PLA2G7     |  3.6562151 | 7.99e-12   |  7941      |\n",
       "| ETFA       | -0.6770891 | 4.31e-11   |  2108      |\n",
       "| LYZ        |  2.3115932 | 5.25e-11   |  4069      |\n",
       "| ALPK3      | -2.3067365 | 5.93e-11   | 57538      |\n",
       "| HLA-DMB    |  0.6703927 | 1.07e-10   |  3109      |\n",
       "| ARRB2      |  1.3011300 | 1.30e-10   |   409      |\n",
       "\n"
      ],
      "text/plain": [
       "  hgnc_symbol logFC_MUO  PValue_MUO entrezgene\n",
       "1 PLA2G7       3.6562151 7.99e-12    7941     \n",
       "2 ETFA        -0.6770891 4.31e-11    2108     \n",
       "3 LYZ          2.3115932 5.25e-11    4069     \n",
       "4 ALPK3       -2.3067365 5.93e-11   57538     \n",
       "5 HLA-DMB      0.6703927 1.07e-10    3109     \n",
       "6 ARRB2        1.3011300 1.30e-10     409     "
      ]
     },
     "metadata": {},
     "output_type": "display_data"
    }
   ],
   "source": [
    "# entrezegene IDs from hgnc symbols\n",
    "ensembl <- useMart(\"ensembl\", dataset = \"hsapiens_gene_ensembl\")\n",
    "mygenes <- data3\n",
    "\n",
    "my.genes1 <- getBM(\n",
    "  attributes = c('entrezgene', 'hgnc_symbol'), \n",
    "  filters = 'hgnc_symbol',\n",
    "  values = mygenes,\n",
    "  mart = ensembl\n",
    ")\n",
    "\n",
    "data3 <- data3 %>% left_join(my.genes1, by = \"hgnc_symbol\")\n",
    "\n",
    "head(data3)"
   ]
  },
  {
   "cell_type": "markdown",
   "metadata": {},
   "source": [
    "Save these files so we have access to our cleaned data files."
   ]
  },
  {
   "cell_type": "code",
   "execution_count": 23,
   "metadata": {},
   "outputs": [],
   "source": [
    "# save files\n",
    "write.table(data1, file.path(getwd(),\"Datasets\", \"Clean\", \"breast-cancer_stats_clean.txt\"), row.names = F, sep = \"\\t\", quote = F)\n",
    "write.table(data2, file.path(getwd(),\"Datasets\", \"Clean\", \"lung-cancer-stats_clean.txt\"), row.names = F, sep = \"\\t\", quote = F)\n",
    "write.table(data3, file.path(getwd(),\"Datasets\", \"Clean\", \"MUO-Lean_stats_clean.txt\"), row.names = F, sep = \"\\t\", quote = F)\n",
    "write.table(data4, file.path(getwd(),\"Datasets\", \"Clean\", \"RA-control_GSE55235_stats_clean.txt\"), row.names = F, sep = \"\\t\", quote = F)\n",
    "write.table(data5, file.path(getwd(),\"Datasets\", \"Clean\", \"RETT-control_FC_stats_clean.txt\"), row.names = F, sep = \"\\t\", quote = F)\n",
    "write.table(data6, file.path(getwd(),\"Datasets\", \"Clean\", \"RETT-control_TC_stats_clean.txt\"), row.names = F, sep = \"\\t\", quote = F)\n",
    "write.table(data7, file.path(getwd(),\"Datasets\", \"Clean\", \"SLE_stats_clean.txt\"), row.names = F, sep = \"\\t\", quote = F)"
   ]
  },
  {
   "cell_type": "markdown",
   "metadata": {},
   "source": [
    "We now have cleaned our gene expression data files. In the next jupyter notebook, which can be found in this repository, we are going to merge these data files, so only have one file for all our gene expression data."
   ]
  },
  {
   "cell_type": "code",
   "execution_count": null,
   "metadata": {},
   "outputs": [],
   "source": []
  }
 ],
 "metadata": {
  "kernelspec": {
   "display_name": "R",
   "language": "R",
   "name": "ir"
  },
  "language_info": {
   "codemirror_mode": "r",
   "file_extension": ".r",
   "mimetype": "text/x-r-source",
   "name": "R",
   "pygments_lexer": "r",
   "version": "3.5.1"
  }
 },
 "nbformat": 4,
 "nbformat_minor": 2
}
