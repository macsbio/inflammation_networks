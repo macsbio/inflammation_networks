{
 "cells": [
  {
   "cell_type": "markdown",
   "metadata": {},
   "source": [
    "# Cleaning gene expression data\n",
    "In this R script we will clean the gene expression data files that were obtained from GEO and TCGA and that were pre-processed. Notebooks of the pre-processing of the data can be found at [GitHub](https://github.com/macsbio/inflammation_networks/tree/master/Jupyter-DataPreProcessing). In another notebook, which can be found in the repository, we will merge the cleaned gene expression datasets. "
   ]
  },
  {
   "cell_type": "code",
   "execution_count": 16,
   "metadata": {},
   "outputs": [
    {
     "data": {
      "text/html": [
       "'C:/Users/Laurent/Documents/GitHub/inflammation_networks2/Jupyter - Cleaning &amp; merging data'"
      ],
      "text/latex": [
       "'C:/Users/Laurent/Documents/GitHub/inflammation\\_networks2/Jupyter - Cleaning \\& merging data'"
      ],
      "text/markdown": [
       "'C:/Users/Laurent/Documents/GitHub/inflammation_networks2/Jupyter - Cleaning &amp; merging data'"
      ],
      "text/plain": [
       "[1] \"C:/Users/Laurent/Documents/GitHub/inflammation_networks2/Jupyter - Cleaning & merging data\""
      ]
     },
     "metadata": {},
     "output_type": "display_data"
    }
   ],
   "source": [
    "# check wd\n",
    "getwd()"
   ]
  },
  {
   "cell_type": "code",
   "execution_count": 17,
   "metadata": {},
   "outputs": [],
   "source": [
    "# load libraries\n",
    "library(dplyr)\n",
    "library(biomaRt)"
   ]
  },
  {
   "cell_type": "markdown",
   "metadata": {},
   "source": [
    "First of all we have to read gene expression data files of all diseases. In this case we have 8 data files. These data files were pre-processed as mentioned above, using R or [ArrayAnalysis](http://www.arrayanalysis.org/). "
   ]
  },
  {
   "cell_type": "code",
   "execution_count": 20,
   "metadata": {
    "scrolled": true
   },
   "outputs": [
    {
     "data": {
      "text/html": [
       "<table>\n",
       "<thead><tr><th scope=col>ENSG_ID</th><th scope=col>baseMean</th><th scope=col>log2FoldChange</th><th scope=col>lfcSE</th><th scope=col>stat</th><th scope=col>pvalue</th><th scope=col>padj</th><th scope=col>hgnc_symbol</th></tr></thead>\n",
       "<tbody>\n",
       "\t<tr><td>ENSG00000000003</td><td>3568.1353      </td><td>-0.6346625     </td><td>0.13853996     </td><td> -4.581079     </td><td>4.625831e-06   </td><td>1.171792e-05   </td><td>TSPAN6         </td></tr>\n",
       "\t<tr><td>ENSG00000000005</td><td> 484.2763      </td><td>-4.0222475     </td><td>0.35036730     </td><td>-11.480088     </td><td>1.661109e-30   </td><td>3.748896e-29   </td><td>TNMD           </td></tr>\n",
       "\t<tr><td>ENSG00000000419</td><td>1938.3714      </td><td> 0.3567976     </td><td>0.08902614     </td><td>  4.007784     </td><td>6.129101e-05   </td><td>1.351941e-04   </td><td>DPM1           </td></tr>\n",
       "\t<tr><td>ENSG00000000457</td><td>1670.1705      </td><td> 0.3033830     </td><td>0.07960962     </td><td>  3.810884     </td><td>1.384706e-04   </td><td>2.921716e-04   </td><td>SCYL3          </td></tr>\n",
       "\t<tr><td>ENSG00000000460</td><td> 519.0613      </td><td> 1.0983553     </td><td>0.09921183     </td><td> 11.070810     </td><td>1.738228e-28   </td><td>3.342777e-27   </td><td>C1orf112       </td></tr>\n",
       "\t<tr><td>ENSG00000000938</td><td> 751.0182      </td><td>-0.3356203     </td><td>0.19280380     </td><td> -1.740735     </td><td>8.173009e-02   </td><td>1.107454e-01   </td><td>FGR            </td></tr>\n",
       "</tbody>\n",
       "</table>\n"
      ],
      "text/latex": [
       "\\begin{tabular}{r|llllllll}\n",
       " ENSG\\_ID & baseMean & log2FoldChange & lfcSE & stat & pvalue & padj & hgnc\\_symbol\\\\\n",
       "\\hline\n",
       "\t ENSG00000000003 & 3568.1353       & -0.6346625      & 0.13853996      &  -4.581079      & 4.625831e-06    & 1.171792e-05    & TSPAN6         \\\\\n",
       "\t ENSG00000000005 &  484.2763       & -4.0222475      & 0.35036730      & -11.480088      & 1.661109e-30    & 3.748896e-29    & TNMD           \\\\\n",
       "\t ENSG00000000419 & 1938.3714       &  0.3567976      & 0.08902614      &   4.007784      & 6.129101e-05    & 1.351941e-04    & DPM1           \\\\\n",
       "\t ENSG00000000457 & 1670.1705       &  0.3033830      & 0.07960962      &   3.810884      & 1.384706e-04    & 2.921716e-04    & SCYL3          \\\\\n",
       "\t ENSG00000000460 &  519.0613       &  1.0983553      & 0.09921183      &  11.070810      & 1.738228e-28    & 3.342777e-27    & C1orf112       \\\\\n",
       "\t ENSG00000000938 &  751.0182       & -0.3356203      & 0.19280380      &  -1.740735      & 8.173009e-02    & 1.107454e-01    & FGR            \\\\\n",
       "\\end{tabular}\n"
      ],
      "text/markdown": [
       "\n",
       "| ENSG_ID | baseMean | log2FoldChange | lfcSE | stat | pvalue | padj | hgnc_symbol |\n",
       "|---|---|---|---|---|---|---|---|\n",
       "| ENSG00000000003 | 3568.1353       | -0.6346625      | 0.13853996      |  -4.581079      | 4.625831e-06    | 1.171792e-05    | TSPAN6          |\n",
       "| ENSG00000000005 |  484.2763       | -4.0222475      | 0.35036730      | -11.480088      | 1.661109e-30    | 3.748896e-29    | TNMD            |\n",
       "| ENSG00000000419 | 1938.3714       |  0.3567976      | 0.08902614      |   4.007784      | 6.129101e-05    | 1.351941e-04    | DPM1            |\n",
       "| ENSG00000000457 | 1670.1705       |  0.3033830      | 0.07960962      |   3.810884      | 1.384706e-04    | 2.921716e-04    | SCYL3           |\n",
       "| ENSG00000000460 |  519.0613       |  1.0983553      | 0.09921183      |  11.070810      | 1.738228e-28    | 3.342777e-27    | C1orf112        |\n",
       "| ENSG00000000938 |  751.0182       | -0.3356203      | 0.19280380      |  -1.740735      | 8.173009e-02    | 1.107454e-01    | FGR             |\n",
       "\n"
      ],
      "text/plain": [
       "  ENSG_ID         baseMean  log2FoldChange lfcSE      stat       pvalue      \n",
       "1 ENSG00000000003 3568.1353 -0.6346625     0.13853996  -4.581079 4.625831e-06\n",
       "2 ENSG00000000005  484.2763 -4.0222475     0.35036730 -11.480088 1.661109e-30\n",
       "3 ENSG00000000419 1938.3714  0.3567976     0.08902614   4.007784 6.129101e-05\n",
       "4 ENSG00000000457 1670.1705  0.3033830     0.07960962   3.810884 1.384706e-04\n",
       "5 ENSG00000000460  519.0613  1.0983553     0.09921183  11.070810 1.738228e-28\n",
       "6 ENSG00000000938  751.0182 -0.3356203     0.19280380  -1.740735 8.173009e-02\n",
       "  padj         hgnc_symbol\n",
       "1 1.171792e-05 TSPAN6     \n",
       "2 3.748896e-29 TNMD       \n",
       "3 1.351941e-04 DPM1       \n",
       "4 2.921716e-04 SCYL3      \n",
       "5 3.342777e-27 C1orf112   \n",
       "6 1.107454e-01 FGR        "
      ]
     },
     "metadata": {},
     "output_type": "display_data"
    }
   ],
   "source": [
    "# load data\n",
    "data1 <- read.table(file.path(getwd(), \"Datasets\", \"breast-cancer_stats60.txt\"), header = T, sep = \"\\t\")\n",
    "data2 <- read.table(file.path(getwd(), \"Datasets\", \"NAFLD_stats.txt\"), header = T, sep = \"\\t\")\n",
    "data3 <- read.table(file.path(getwd(), \"Datasets\", \"MUO-Lean_stats.txt\"), header = T, sep = \"\\t\")\n",
    "data4 <- read.table(file.path(getwd(), \"Datasets\", \"RA-control_GSE55235_stats.txt\"), header = T, sep = \"\\t\")\n",
    "data5 <- read.table(file.path(getwd(), \"Datasets\", \"DCM_stats.txt\"), header = T, sep = \"\\t\")\n",
    "\n",
    "# view data1 as example on how data looks like\n",
    "head(data1)"
   ]
  },
  {
   "cell_type": "markdown",
   "metadata": {},
   "source": [
    "We see that the column names of data1 are not the column names we desire. There are also some columns we are not going to use (GeneName, logCPM, F and FDR), so we might as well remove those.\n",
    "We have to change this for all datasets. "
   ]
  },
  {
   "cell_type": "code",
   "execution_count": 21,
   "metadata": {},
   "outputs": [
    {
     "data": {
      "text/html": [
       "<table>\n",
       "<thead><tr><th scope=col>ensembl_gene_id</th><th scope=col>hgnc_symbol</th><th scope=col>logFC_BC</th><th scope=col>PValue_BC</th></tr></thead>\n",
       "<tbody>\n",
       "\t<tr><td>ENSG00000000003</td><td>TSPAN6         </td><td>-0.6346625     </td><td>4.625831e-06   </td></tr>\n",
       "\t<tr><td>ENSG00000000005</td><td>TNMD           </td><td>-4.0222475     </td><td>1.661109e-30   </td></tr>\n",
       "\t<tr><td>ENSG00000000419</td><td>DPM1           </td><td> 0.3567976     </td><td>6.129101e-05   </td></tr>\n",
       "\t<tr><td>ENSG00000000457</td><td>SCYL3          </td><td> 0.3033830     </td><td>1.384706e-04   </td></tr>\n",
       "\t<tr><td>ENSG00000000460</td><td>C1orf112       </td><td> 1.0983553     </td><td>1.738228e-28   </td></tr>\n",
       "\t<tr><td>ENSG00000000938</td><td>FGR            </td><td>-0.3356203     </td><td>8.173009e-02   </td></tr>\n",
       "</tbody>\n",
       "</table>\n"
      ],
      "text/latex": [
       "\\begin{tabular}{r|llll}\n",
       " ensembl\\_gene\\_id & hgnc\\_symbol & logFC\\_BC & PValue\\_BC\\\\\n",
       "\\hline\n",
       "\t ENSG00000000003 & TSPAN6          & -0.6346625      & 4.625831e-06   \\\\\n",
       "\t ENSG00000000005 & TNMD            & -4.0222475      & 1.661109e-30   \\\\\n",
       "\t ENSG00000000419 & DPM1            &  0.3567976      & 6.129101e-05   \\\\\n",
       "\t ENSG00000000457 & SCYL3           &  0.3033830      & 1.384706e-04   \\\\\n",
       "\t ENSG00000000460 & C1orf112        &  1.0983553      & 1.738228e-28   \\\\\n",
       "\t ENSG00000000938 & FGR             & -0.3356203      & 8.173009e-02   \\\\\n",
       "\\end{tabular}\n"
      ],
      "text/markdown": [
       "\n",
       "| ensembl_gene_id | hgnc_symbol | logFC_BC | PValue_BC |\n",
       "|---|---|---|---|\n",
       "| ENSG00000000003 | TSPAN6          | -0.6346625      | 4.625831e-06    |\n",
       "| ENSG00000000005 | TNMD            | -4.0222475      | 1.661109e-30    |\n",
       "| ENSG00000000419 | DPM1            |  0.3567976      | 6.129101e-05    |\n",
       "| ENSG00000000457 | SCYL3           |  0.3033830      | 1.384706e-04    |\n",
       "| ENSG00000000460 | C1orf112        |  1.0983553      | 1.738228e-28    |\n",
       "| ENSG00000000938 | FGR             | -0.3356203      | 8.173009e-02    |\n",
       "\n"
      ],
      "text/plain": [
       "  ensembl_gene_id hgnc_symbol logFC_BC   PValue_BC   \n",
       "1 ENSG00000000003 TSPAN6      -0.6346625 4.625831e-06\n",
       "2 ENSG00000000005 TNMD        -4.0222475 1.661109e-30\n",
       "3 ENSG00000000419 DPM1         0.3567976 6.129101e-05\n",
       "4 ENSG00000000457 SCYL3        0.3033830 1.384706e-04\n",
       "5 ENSG00000000460 C1orf112     1.0983553 1.738228e-28\n",
       "6 ENSG00000000938 FGR         -0.3356203 8.173009e-02"
      ]
     },
     "metadata": {},
     "output_type": "display_data"
    }
   ],
   "source": [
    "# clean up data\n",
    "data1 <- data1[,c(-2,-4,-5,-7)] \n",
    "colnames(data1)[c(1,2,3)] <- c(\"ensembl_gene_id\", \"logFC_BC\", \"PValue_BC\")\n",
    "data1 <- data1[,c(1,4,2,3)]\n",
    "\n",
    "data2 <- data2[,c(-1, -3, -4, -5, -7, -8)]\n",
    "data2 <- data2[,c(3,4,1,2)]\n",
    "colnames(data2)[c(1:4)] <- c(\"hgnc_symbol\", \"entrezgene\", \"logFC_NAFLD\", \"PValue_NAFLD\")\n",
    "data2 <- data2[!grepl(\"///\", data2$hgnc_symbol),]\n",
    "\n",
    "data3 <- data3[,c(-1,-3,-5)]\n",
    "data3 <- data3[,c(3,1,2)]\n",
    "data3 <- data3[!(data3$hgnc_symbol == \"---\"),]\n",
    "colnames(data3)[c(2,3)] <- c(\"logFC_MUO\", \"PValue_MUO\")\n",
    "\n",
    "data4 <- data4[,c(-3,-4,-5,-7,-8)]\n",
    "colnames(data4)[c(1,2,3)] <- c(\"ensembl_gene_id\", \"logFC_RA\",\"PValue_RA\")\n",
    "\n",
    "data5 <- data5[,c(-3,-4,-6)]\n",
    "colnames(data5)[c(1,2,3,4)] <- c(\"ensembl_gene_id\", \"logFC_DCM\", \"PValue_DCM\", \"hgnc_symbol\")\n",
    "\n",
    "# view data1 as example on how data looks like\n",
    "head(data1)"
   ]
  },
  {
   "cell_type": "markdown",
   "metadata": {},
   "source": [
    "For example we see that data1 contains ensembl gene IDs, while we would like to have entrezgene IDs. We have to change this by mapping the ensembl IDs to entrezgene IDs. \n",
    "\n",
    "## Datasets 1, 4 and 5 have Ensembl IDs, 3 has hgnc_symbols and datasets 2 already has entrezgene IDs!"
   ]
  },
  {
   "cell_type": "code",
   "execution_count": 22,
   "metadata": {},
   "outputs": [
    {
     "name": "stderr",
     "output_type": "stream",
     "text": [
      "Warning message:                                                      \n",
      "\"Column `ensembl_gene_id` joining factor and character vector, coercing into character vector\""
     ]
    },
    {
     "data": {
      "text/html": [
       "<table>\n",
       "<thead><tr><th scope=col>ensembl_gene_id</th><th scope=col>hgnc_symbol</th><th scope=col>logFC_BC</th><th scope=col>PValue_BC</th><th scope=col>entrezgene</th></tr></thead>\n",
       "<tbody>\n",
       "\t<tr><td>ENSG00000000003</td><td>TSPAN6         </td><td>-0.6346625     </td><td>4.625831e-06   </td><td> 7105          </td></tr>\n",
       "\t<tr><td>ENSG00000000005</td><td>TNMD           </td><td>-4.0222475     </td><td>1.661109e-30   </td><td>64102          </td></tr>\n",
       "\t<tr><td>ENSG00000000419</td><td>DPM1           </td><td> 0.3567976     </td><td>6.129101e-05   </td><td> 8813          </td></tr>\n",
       "\t<tr><td>ENSG00000000457</td><td>SCYL3          </td><td> 0.3033830     </td><td>1.384706e-04   </td><td>57147          </td></tr>\n",
       "\t<tr><td>ENSG00000000460</td><td>C1orf112       </td><td> 1.0983553     </td><td>1.738228e-28   </td><td>55732          </td></tr>\n",
       "\t<tr><td>ENSG00000000938</td><td>FGR            </td><td>-0.3356203     </td><td>8.173009e-02   </td><td> 2268          </td></tr>\n",
       "</tbody>\n",
       "</table>\n"
      ],
      "text/latex": [
       "\\begin{tabular}{r|lllll}\n",
       " ensembl\\_gene\\_id & hgnc\\_symbol & logFC\\_BC & PValue\\_BC & entrezgene\\\\\n",
       "\\hline\n",
       "\t ENSG00000000003 & TSPAN6          & -0.6346625      & 4.625831e-06    &  7105          \\\\\n",
       "\t ENSG00000000005 & TNMD            & -4.0222475      & 1.661109e-30    & 64102          \\\\\n",
       "\t ENSG00000000419 & DPM1            &  0.3567976      & 6.129101e-05    &  8813          \\\\\n",
       "\t ENSG00000000457 & SCYL3           &  0.3033830      & 1.384706e-04    & 57147          \\\\\n",
       "\t ENSG00000000460 & C1orf112        &  1.0983553      & 1.738228e-28    & 55732          \\\\\n",
       "\t ENSG00000000938 & FGR             & -0.3356203      & 8.173009e-02    &  2268          \\\\\n",
       "\\end{tabular}\n"
      ],
      "text/markdown": [
       "\n",
       "| ensembl_gene_id | hgnc_symbol | logFC_BC | PValue_BC | entrezgene |\n",
       "|---|---|---|---|---|\n",
       "| ENSG00000000003 | TSPAN6          | -0.6346625      | 4.625831e-06    |  7105           |\n",
       "| ENSG00000000005 | TNMD            | -4.0222475      | 1.661109e-30    | 64102           |\n",
       "| ENSG00000000419 | DPM1            |  0.3567976      | 6.129101e-05    |  8813           |\n",
       "| ENSG00000000457 | SCYL3           |  0.3033830      | 1.384706e-04    | 57147           |\n",
       "| ENSG00000000460 | C1orf112        |  1.0983553      | 1.738228e-28    | 55732           |\n",
       "| ENSG00000000938 | FGR             | -0.3356203      | 8.173009e-02    |  2268           |\n",
       "\n"
      ],
      "text/plain": [
       "  ensembl_gene_id hgnc_symbol logFC_BC   PValue_BC    entrezgene\n",
       "1 ENSG00000000003 TSPAN6      -0.6346625 4.625831e-06  7105     \n",
       "2 ENSG00000000005 TNMD        -4.0222475 1.661109e-30 64102     \n",
       "3 ENSG00000000419 DPM1         0.3567976 6.129101e-05  8813     \n",
       "4 ENSG00000000457 SCYL3        0.3033830 1.384706e-04 57147     \n",
       "5 ENSG00000000460 C1orf112     1.0983553 1.738228e-28 55732     \n",
       "6 ENSG00000000938 FGR         -0.3356203 8.173009e-02  2268     "
      ]
     },
     "metadata": {},
     "output_type": "display_data"
    }
   ],
   "source": [
    "# entrezgene IDs from ensembl gene IDs\n",
    "# because data 1, 4, 5, 6 and 7 have ensembl IDs, we have to perform this chunk of code 5 times.\n",
    "ensembl <- useEnsembl(\"ensembl\", dataset = \"hsapiens_gene_ensembl\", miror = \"useast\")\n",
    "mygenes <- data1\n",
    "\n",
    "my.genes1 <- getBM(\n",
    "  attributes = c('entrezgene', 'ensembl_gene_id'), \n",
    "  filters = 'ensembl_gene_id',\n",
    "  values = mygenes,\n",
    "  mart = ensembl\n",
    ")\n",
    "\n",
    "data1 <- data1 %>% left_join(my.genes1, by = \"ensembl_gene_id\")\n",
    "\n",
    "head(data1)"
   ]
  },
  {
   "cell_type": "code",
   "execution_count": 7,
   "metadata": {},
   "outputs": [
    {
     "name": "stderr",
     "output_type": "stream",
     "text": [
      "Warning message:                                                      \n",
      "\"Column `ensembl_gene_id` joining factor and character vector, coercing into character vector\""
     ]
    },
    {
     "data": {
      "text/html": [
       "<table>\n",
       "<thead><tr><th scope=col>ensembl_gene_id</th><th scope=col>logFC_RA</th><th scope=col>PValue_RA</th><th scope=col>entrezgene</th></tr></thead>\n",
       "<tbody>\n",
       "\t<tr><td>ENSG00000223865</td><td>2.432572       </td><td>9.646176e-17   </td><td> 3115          </td></tr>\n",
       "\t<tr><td>ENSG00000211952</td><td>7.955072       </td><td>1.875752e-15   </td><td>   NA          </td></tr>\n",
       "\t<tr><td>ENSG00000132465</td><td>8.390554       </td><td>1.989380e-15   </td><td> 3512          </td></tr>\n",
       "\t<tr><td>ENSG00000111801</td><td>2.761847       </td><td>2.238005e-15   </td><td>10384          </td></tr>\n",
       "\t<tr><td>ENSG00000110777</td><td>6.009361       </td><td>2.591924e-15   </td><td> 5450          </td></tr>\n",
       "\t<tr><td>ENSG00000242574</td><td>3.658038       </td><td>3.447606e-15   </td><td> 3109          </td></tr>\n",
       "</tbody>\n",
       "</table>\n"
      ],
      "text/latex": [
       "\\begin{tabular}{r|llll}\n",
       " ensembl\\_gene\\_id & logFC\\_RA & PValue\\_RA & entrezgene\\\\\n",
       "\\hline\n",
       "\t ENSG00000223865 & 2.432572        & 9.646176e-17    &  3115          \\\\\n",
       "\t ENSG00000211952 & 7.955072        & 1.875752e-15    &    NA          \\\\\n",
       "\t ENSG00000132465 & 8.390554        & 1.989380e-15    &  3512          \\\\\n",
       "\t ENSG00000111801 & 2.761847        & 2.238005e-15    & 10384          \\\\\n",
       "\t ENSG00000110777 & 6.009361        & 2.591924e-15    &  5450          \\\\\n",
       "\t ENSG00000242574 & 3.658038        & 3.447606e-15    &  3109          \\\\\n",
       "\\end{tabular}\n"
      ],
      "text/markdown": [
       "\n",
       "| ensembl_gene_id | logFC_RA | PValue_RA | entrezgene |\n",
       "|---|---|---|---|\n",
       "| ENSG00000223865 | 2.432572        | 9.646176e-17    |  3115           |\n",
       "| ENSG00000211952 | 7.955072        | 1.875752e-15    |    NA           |\n",
       "| ENSG00000132465 | 8.390554        | 1.989380e-15    |  3512           |\n",
       "| ENSG00000111801 | 2.761847        | 2.238005e-15    | 10384           |\n",
       "| ENSG00000110777 | 6.009361        | 2.591924e-15    |  5450           |\n",
       "| ENSG00000242574 | 3.658038        | 3.447606e-15    |  3109           |\n",
       "\n"
      ],
      "text/plain": [
       "  ensembl_gene_id logFC_RA PValue_RA    entrezgene\n",
       "1 ENSG00000223865 2.432572 9.646176e-17  3115     \n",
       "2 ENSG00000211952 7.955072 1.875752e-15    NA     \n",
       "3 ENSG00000132465 8.390554 1.989380e-15  3512     \n",
       "4 ENSG00000111801 2.761847 2.238005e-15 10384     \n",
       "5 ENSG00000110777 6.009361 2.591924e-15  5450     \n",
       "6 ENSG00000242574 3.658038 3.447606e-15  3109     "
      ]
     },
     "metadata": {},
     "output_type": "display_data"
    }
   ],
   "source": [
    "# entrezgene IDs from ensembl gene IDs\n",
    "# because data 1, 4, 5 and 6 have ensembl IDs, we have to perform this chunk of code 4 times.\n",
    "ensembl <- useMart(\"ensembl\", dataset = \"hsapiens_gene_ensembl\")\n",
    "mygenes <- data4\n",
    "\n",
    "my.genes1 <- getBM(\n",
    "  attributes = c('entrezgene', 'ensembl_gene_id'), \n",
    "  filters = 'ensembl_gene_id',\n",
    "  values = mygenes,\n",
    "  mart = ensembl\n",
    ")\n",
    "\n",
    "data4 <- data4 %>% left_join(my.genes1, by = \"ensembl_gene_id\")\n",
    "\n",
    "head(data4)"
   ]
  },
  {
   "cell_type": "code",
   "execution_count": 8,
   "metadata": {},
   "outputs": [
    {
     "name": "stderr",
     "output_type": "stream",
     "text": [
      "Warning message:                                                      \n",
      "\"Column `ensembl_gene_id` joining factor and character vector, coercing into character vector\""
     ]
    },
    {
     "data": {
      "text/html": [
       "<table>\n",
       "<thead><tr><th scope=col>ensembl_gene_id</th><th scope=col>logFC_DCM</th><th scope=col>PValue_DCM</th><th scope=col>hgnc_symbol</th><th scope=col>entrezgene</th></tr></thead>\n",
       "<tbody>\n",
       "\t<tr><td>ENSG00000000003</td><td>-0.05590022    </td><td>7.977584e-01   </td><td>TSPAN6         </td><td> 7105          </td></tr>\n",
       "\t<tr><td>ENSG00000000005</td><td> 2.92402119    </td><td>9.558365e-05   </td><td>TNMD           </td><td>64102          </td></tr>\n",
       "\t<tr><td>ENSG00000000419</td><td>-0.09280415    </td><td>7.007694e-01   </td><td>DPM1           </td><td> 8813          </td></tr>\n",
       "\t<tr><td>ENSG00000000457</td><td> 0.12344168    </td><td>6.039372e-01   </td><td>SCYL3          </td><td>57147          </td></tr>\n",
       "\t<tr><td>ENSG00000000460</td><td>-0.07692294    </td><td>8.106303e-01   </td><td>C1orf112       </td><td>55732          </td></tr>\n",
       "\t<tr><td>ENSG00000000938</td><td>-0.14915484    </td><td>7.410703e-01   </td><td>FGR            </td><td> 2268          </td></tr>\n",
       "</tbody>\n",
       "</table>\n"
      ],
      "text/latex": [
       "\\begin{tabular}{r|lllll}\n",
       " ensembl\\_gene\\_id & logFC\\_DCM & PValue\\_DCM & hgnc\\_symbol & entrezgene\\\\\n",
       "\\hline\n",
       "\t ENSG00000000003 & -0.05590022     & 7.977584e-01    & TSPAN6          &  7105          \\\\\n",
       "\t ENSG00000000005 &  2.92402119     & 9.558365e-05    & TNMD            & 64102          \\\\\n",
       "\t ENSG00000000419 & -0.09280415     & 7.007694e-01    & DPM1            &  8813          \\\\\n",
       "\t ENSG00000000457 &  0.12344168     & 6.039372e-01    & SCYL3           & 57147          \\\\\n",
       "\t ENSG00000000460 & -0.07692294     & 8.106303e-01    & C1orf112        & 55732          \\\\\n",
       "\t ENSG00000000938 & -0.14915484     & 7.410703e-01    & FGR             &  2268          \\\\\n",
       "\\end{tabular}\n"
      ],
      "text/markdown": [
       "\n",
       "| ensembl_gene_id | logFC_DCM | PValue_DCM | hgnc_symbol | entrezgene |\n",
       "|---|---|---|---|---|\n",
       "| ENSG00000000003 | -0.05590022     | 7.977584e-01    | TSPAN6          |  7105           |\n",
       "| ENSG00000000005 |  2.92402119     | 9.558365e-05    | TNMD            | 64102           |\n",
       "| ENSG00000000419 | -0.09280415     | 7.007694e-01    | DPM1            |  8813           |\n",
       "| ENSG00000000457 |  0.12344168     | 6.039372e-01    | SCYL3           | 57147           |\n",
       "| ENSG00000000460 | -0.07692294     | 8.106303e-01    | C1orf112        | 55732           |\n",
       "| ENSG00000000938 | -0.14915484     | 7.410703e-01    | FGR             |  2268           |\n",
       "\n"
      ],
      "text/plain": [
       "  ensembl_gene_id logFC_DCM   PValue_DCM   hgnc_symbol entrezgene\n",
       "1 ENSG00000000003 -0.05590022 7.977584e-01 TSPAN6       7105     \n",
       "2 ENSG00000000005  2.92402119 9.558365e-05 TNMD        64102     \n",
       "3 ENSG00000000419 -0.09280415 7.007694e-01 DPM1         8813     \n",
       "4 ENSG00000000457  0.12344168 6.039372e-01 SCYL3       57147     \n",
       "5 ENSG00000000460 -0.07692294 8.106303e-01 C1orf112    55732     \n",
       "6 ENSG00000000938 -0.14915484 7.410703e-01 FGR          2268     "
      ]
     },
     "metadata": {},
     "output_type": "display_data"
    }
   ],
   "source": [
    "# entrezgene IDs from ensembl gene IDs\n",
    "# because data 1, 4, 5 and 6 have ensembl IDs, we have to perform this chunk of code 4 times.\n",
    "ensembl <- useMart(\"ensembl\", dataset = \"hsapiens_gene_ensembl\")\n",
    "mygenes <- data5\n",
    "\n",
    "my.genes1 <- getBM(\n",
    "  attributes = c('entrezgene', 'ensembl_gene_id'), \n",
    "  filters = 'ensembl_gene_id',\n",
    "  values = mygenes,\n",
    "  mart = ensembl\n",
    ")\n",
    "\n",
    "data5 <- data5 %>% left_join(my.genes1, by = \"ensembl_gene_id\")\n",
    "\n",
    "head(data5)"
   ]
  },
  {
   "cell_type": "code",
   "execution_count": 9,
   "metadata": {},
   "outputs": [
    {
     "name": "stderr",
     "output_type": "stream",
     "text": [
      "Warning message:                                                      \n",
      "\"Column `ensembl_gene_id` joining factor and character vector, coercing into character vector\""
     ]
    },
    {
     "data": {
      "text/html": [
       "<table>\n",
       "<thead><tr><th scope=col>ensembl_gene_id</th><th scope=col>logFC_ICM</th><th scope=col>PValue_ICM</th><th scope=col>hgnc_symbol</th><th scope=col>entrezgene</th></tr></thead>\n",
       "<tbody>\n",
       "\t<tr><td>ENSG00000000003</td><td>-0.30891354    </td><td>0.23532135     </td><td>TSPAN6         </td><td> 7105          </td></tr>\n",
       "\t<tr><td>ENSG00000000005</td><td> 1.84791635    </td><td>0.01961827     </td><td>TNMD           </td><td>64102          </td></tr>\n",
       "\t<tr><td>ENSG00000000419</td><td>-0.07775583    </td><td>0.73349588     </td><td>DPM1           </td><td> 8813          </td></tr>\n",
       "\t<tr><td>ENSG00000000457</td><td> 0.36591905    </td><td>0.14264643     </td><td>SCYL3          </td><td>57147          </td></tr>\n",
       "\t<tr><td>ENSG00000000460</td><td> 0.14191353    </td><td>0.64189891     </td><td>C1orf112       </td><td>55732          </td></tr>\n",
       "\t<tr><td>ENSG00000000938</td><td>-0.19886117    </td><td>0.59028843     </td><td>FGR            </td><td> 2268          </td></tr>\n",
       "</tbody>\n",
       "</table>\n"
      ],
      "text/latex": [
       "\\begin{tabular}{r|lllll}\n",
       " ensembl\\_gene\\_id & logFC\\_ICM & PValue\\_ICM & hgnc\\_symbol & entrezgene\\\\\n",
       "\\hline\n",
       "\t ENSG00000000003 & -0.30891354     & 0.23532135      & TSPAN6          &  7105          \\\\\n",
       "\t ENSG00000000005 &  1.84791635     & 0.01961827      & TNMD            & 64102          \\\\\n",
       "\t ENSG00000000419 & -0.07775583     & 0.73349588      & DPM1            &  8813          \\\\\n",
       "\t ENSG00000000457 &  0.36591905     & 0.14264643      & SCYL3           & 57147          \\\\\n",
       "\t ENSG00000000460 &  0.14191353     & 0.64189891      & C1orf112        & 55732          \\\\\n",
       "\t ENSG00000000938 & -0.19886117     & 0.59028843      & FGR             &  2268          \\\\\n",
       "\\end{tabular}\n"
      ],
      "text/markdown": [
       "\n",
       "| ensembl_gene_id | logFC_ICM | PValue_ICM | hgnc_symbol | entrezgene |\n",
       "|---|---|---|---|---|\n",
       "| ENSG00000000003 | -0.30891354     | 0.23532135      | TSPAN6          |  7105           |\n",
       "| ENSG00000000005 |  1.84791635     | 0.01961827      | TNMD            | 64102           |\n",
       "| ENSG00000000419 | -0.07775583     | 0.73349588      | DPM1            |  8813           |\n",
       "| ENSG00000000457 |  0.36591905     | 0.14264643      | SCYL3           | 57147           |\n",
       "| ENSG00000000460 |  0.14191353     | 0.64189891      | C1orf112        | 55732           |\n",
       "| ENSG00000000938 | -0.19886117     | 0.59028843      | FGR             |  2268           |\n",
       "\n"
      ],
      "text/plain": [
       "  ensembl_gene_id logFC_ICM   PValue_ICM hgnc_symbol entrezgene\n",
       "1 ENSG00000000003 -0.30891354 0.23532135 TSPAN6       7105     \n",
       "2 ENSG00000000005  1.84791635 0.01961827 TNMD        64102     \n",
       "3 ENSG00000000419 -0.07775583 0.73349588 DPM1         8813     \n",
       "4 ENSG00000000457  0.36591905 0.14264643 SCYL3       57147     \n",
       "5 ENSG00000000460  0.14191353 0.64189891 C1orf112    55732     \n",
       "6 ENSG00000000938 -0.19886117 0.59028843 FGR          2268     "
      ]
     },
     "metadata": {},
     "output_type": "display_data"
    }
   ],
   "source": [
    "# entrezgene IDs from ensembl gene IDs\n",
    "# because data 1, 4, 5 and 6 have ensembl IDs, we have to perform this chunk of code 4 times.\n",
    "ensembl <- useMart(\"ensembl\", dataset = \"hsapiens_gene_ensembl\")\n",
    "mygenes <- data6\n",
    "\n",
    "my.genes1 <- getBM(\n",
    "  attributes = c('entrezgene', 'ensembl_gene_id'), \n",
    "  filters = 'ensembl_gene_id',\n",
    "  values = mygenes,\n",
    "  mart = ensembl\n",
    ")\n",
    "\n",
    "data6 <- data6 %>% left_join(my.genes1, by = \"ensembl_gene_id\")\n",
    "\n",
    "head(data6)"
   ]
  },
  {
   "cell_type": "markdown",
   "metadata": {},
   "source": [
    "We have now the entrezgene IDs for datasets 1, 2, 4, 5, 6, 7 and 8. Only dataset 3 has to be mapped to entrezgene IDs. "
   ]
  },
  {
   "cell_type": "code",
   "execution_count": 10,
   "metadata": {},
   "outputs": [
    {
     "name": "stderr",
     "output_type": "stream",
     "text": [
      "Warning message:                                                      \n",
      "\"Column `hgnc_symbol` joining factor and character vector, coercing into character vector\""
     ]
    },
    {
     "data": {
      "text/html": [
       "<table>\n",
       "<thead><tr><th scope=col>hgnc_symbol</th><th scope=col>logFC_MUO</th><th scope=col>PValue_MUO</th><th scope=col>entrezgene</th></tr></thead>\n",
       "<tbody>\n",
       "\t<tr><td>PLA2G7    </td><td> 3.6562151</td><td>7.99e-12  </td><td> 7941     </td></tr>\n",
       "\t<tr><td>ETFA      </td><td>-0.6770891</td><td>4.31e-11  </td><td> 2108     </td></tr>\n",
       "\t<tr><td>LYZ       </td><td> 2.3115932</td><td>5.25e-11  </td><td> 4069     </td></tr>\n",
       "\t<tr><td>ALPK3     </td><td>-2.3067365</td><td>5.93e-11  </td><td>57538     </td></tr>\n",
       "\t<tr><td>HLA-DMB   </td><td> 0.6703927</td><td>1.07e-10  </td><td> 3109     </td></tr>\n",
       "\t<tr><td>ARRB2     </td><td> 1.3011300</td><td>1.30e-10  </td><td>  409     </td></tr>\n",
       "</tbody>\n",
       "</table>\n"
      ],
      "text/latex": [
       "\\begin{tabular}{r|llll}\n",
       " hgnc\\_symbol & logFC\\_MUO & PValue\\_MUO & entrezgene\\\\\n",
       "\\hline\n",
       "\t PLA2G7     &  3.6562151 & 7.99e-12   &  7941     \\\\\n",
       "\t ETFA       & -0.6770891 & 4.31e-11   &  2108     \\\\\n",
       "\t LYZ        &  2.3115932 & 5.25e-11   &  4069     \\\\\n",
       "\t ALPK3      & -2.3067365 & 5.93e-11   & 57538     \\\\\n",
       "\t HLA-DMB    &  0.6703927 & 1.07e-10   &  3109     \\\\\n",
       "\t ARRB2      &  1.3011300 & 1.30e-10   &   409     \\\\\n",
       "\\end{tabular}\n"
      ],
      "text/markdown": [
       "\n",
       "| hgnc_symbol | logFC_MUO | PValue_MUO | entrezgene |\n",
       "|---|---|---|---|\n",
       "| PLA2G7     |  3.6562151 | 7.99e-12   |  7941      |\n",
       "| ETFA       | -0.6770891 | 4.31e-11   |  2108      |\n",
       "| LYZ        |  2.3115932 | 5.25e-11   |  4069      |\n",
       "| ALPK3      | -2.3067365 | 5.93e-11   | 57538      |\n",
       "| HLA-DMB    |  0.6703927 | 1.07e-10   |  3109      |\n",
       "| ARRB2      |  1.3011300 | 1.30e-10   |   409      |\n",
       "\n"
      ],
      "text/plain": [
       "  hgnc_symbol logFC_MUO  PValue_MUO entrezgene\n",
       "1 PLA2G7       3.6562151 7.99e-12    7941     \n",
       "2 ETFA        -0.6770891 4.31e-11    2108     \n",
       "3 LYZ          2.3115932 5.25e-11    4069     \n",
       "4 ALPK3       -2.3067365 5.93e-11   57538     \n",
       "5 HLA-DMB      0.6703927 1.07e-10    3109     \n",
       "6 ARRB2        1.3011300 1.30e-10     409     "
      ]
     },
     "metadata": {},
     "output_type": "display_data"
    }
   ],
   "source": [
    "# entrezegene IDs from hgnc symbols\n",
    "ensembl <- useMart(\"ensembl\", dataset = \"hsapiens_gene_ensembl\")\n",
    "mygenes <- data3\n",
    "\n",
    "my.genes1 <- getBM(\n",
    "  attributes = c('entrezgene', 'hgnc_symbol'), \n",
    "  filters = 'hgnc_symbol',\n",
    "  values = mygenes,\n",
    "  mart = ensembl\n",
    ")\n",
    "\n",
    "data3 <- data3 %>% left_join(my.genes1, by = \"hgnc_symbol\")\n",
    "\n",
    "head(data3)"
   ]
  },
  {
   "cell_type": "markdown",
   "metadata": {},
   "source": [
    "Save these files so we have access to our cleaned data files."
   ]
  },
  {
   "cell_type": "code",
   "execution_count": 11,
   "metadata": {},
   "outputs": [],
   "source": [
    "# save files\n",
    "write.table(data1, file.path(getwd(),\"Datasets\", \"Clean\", \"breast-cancer_stats60_clean.txt\"), row.names = F, sep = \"\\t\", quote = F)\n",
    "write.table(data2, file.path(getwd(),\"Datasets\", \"Clean\", \"NAFLD_stats_clean.txt\"), row.names = F, sep = \"\\t\", quote = F)\n",
    "write.table(data3, file.path(getwd(),\"Datasets\", \"Clean\", \"MUO-Lean_stats_clean.txt\"), row.names = F, sep = \"\\t\", quote = F)\n",
    "write.table(data4, file.path(getwd(),\"Datasets\", \"Clean\", \"RA-control_GSE55235_stats_clean.txt\"), row.names = F, sep = \"\\t\", quote = F)\n",
    "write.table(data5, file.path(getwd(),\"Datasets\", \"Clean\", \"DCM_clean.txt\"), row.names = F, sep = \"\\t\", quote = F)"
   ]
  },
  {
   "cell_type": "markdown",
   "metadata": {},
   "source": [
    "We now have cleaned our gene expression data files. In the next jupyter notebook, which can be found in this repository, we are going to merge these data files, so only have one file for all our gene expression data."
   ]
  },
  {
   "cell_type": "code",
   "execution_count": 5,
   "metadata": {},
   "outputs": [
    {
     "data": {
      "text/plain": [
       "R version 3.5.1 (2018-07-02)\n",
       "Platform: x86_64-w64-mingw32/x64 (64-bit)\n",
       "Running under: Windows 10 x64 (build 17134)\n",
       "\n",
       "Matrix products: default\n",
       "\n",
       "locale:\n",
       "[1] LC_COLLATE=Dutch_Netherlands.1252  LC_CTYPE=Dutch_Netherlands.1252   \n",
       "[3] LC_MONETARY=Dutch_Netherlands.1252 LC_NUMERIC=C                      \n",
       "[5] LC_TIME=Dutch_Netherlands.1252    \n",
       "\n",
       "attached base packages:\n",
       "[1] stats     graphics  grDevices utils     datasets  methods   base     \n",
       "\n",
       "other attached packages:\n",
       "[1] biomaRt_2.38.0       dplyr_0.7.8          RevoUtils_11.0.1    \n",
       "[4] RevoUtilsMath_11.0.0\n",
       "\n",
       "loaded via a namespace (and not attached):\n",
       " [1] Rcpp_1.0.0           pillar_1.3.1         compiler_3.5.1      \n",
       " [4] bindr_0.1.1          prettyunits_1.0.2    progress_1.2.0      \n",
       " [7] base64enc_0.1-3      bitops_1.0-6         tools_3.5.1         \n",
       "[10] digest_0.6.18        uuid_0.1-2           bit_1.1-14          \n",
       "[13] jsonlite_1.6         evaluate_0.12        RSQLite_2.1.1       \n",
       "[16] memoise_1.1.0        tibble_2.0.1         pkgconfig_2.0.2     \n",
       "[19] rlang_0.3.1          IRdisplay_0.7.0      DBI_1.0.0           \n",
       "[22] parallel_3.5.1       IRkernel_0.8.15      bindrcpp_0.2.2      \n",
       "[25] httr_1.4.0           stringr_1.3.1        repr_0.19.1         \n",
       "[28] hms_0.4.2            IRanges_2.16.0       S4Vectors_0.20.1    \n",
       "[31] stats4_3.5.1         bit64_0.9-7          tidyselect_0.2.5    \n",
       "[34] Biobase_2.42.0       glue_1.3.0           R6_2.3.0            \n",
       "[37] AnnotationDbi_1.44.0 XML_3.98-1.19        pbdZMQ_0.3-3        \n",
       "[40] purrr_0.3.0          blob_1.1.1           magrittr_1.5        \n",
       "[43] BiocGenerics_0.28.0  htmltools_0.3.6      assertthat_0.2.1    \n",
       "[46] stringi_1.2.4        RCurl_1.95-4.12      crayon_1.3.4        "
      ]
     },
     "metadata": {},
     "output_type": "display_data"
    }
   ],
   "source": [
    "# informaiton about session\n",
    "sessionInfo()"
   ]
  }
 ],
 "metadata": {
  "kernelspec": {
   "display_name": "R",
   "language": "R",
   "name": "ir"
  },
  "language_info": {
   "codemirror_mode": "r",
   "file_extension": ".r",
   "mimetype": "text/x-r-source",
   "name": "R",
   "pygments_lexer": "r",
   "version": "3.5.1"
  }
 },
 "nbformat": 4,
 "nbformat_minor": 2
}
