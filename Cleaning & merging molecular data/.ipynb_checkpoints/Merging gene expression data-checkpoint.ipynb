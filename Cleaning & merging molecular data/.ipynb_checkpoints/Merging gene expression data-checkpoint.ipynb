{
 "cells": [
  {
   "cell_type": "markdown",
   "metadata": {},
   "source": [
    "# Merging gene expression data\n",
    "In this R script we will merge the gene expression data files that were obtained from GEO and TCGA and pre-processed. Notebooks of the pre-processing of the data can be found at [GitHub](https://github.com/macsbio/inflammation_networks/tree/master/Jupyter-DataPreProcessing). In another notebook, which can be found in the repository, we cleaned the gene expression datasets. "
   ]
  },
  {
   "cell_type": "code",
   "execution_count": 25,
   "metadata": {},
   "outputs": [
    {
     "data": {
      "text/html": [
       "'C:/Users/Laurent/Documents/GitHub/inflammation_networks2/Jupyter - Cleaning &amp; merging data'"
      ],
      "text/latex": [
       "'C:/Users/Laurent/Documents/GitHub/inflammation\\_networks2/Jupyter - Cleaning \\& merging data'"
      ],
      "text/markdown": [
       "'C:/Users/Laurent/Documents/GitHub/inflammation_networks2/Jupyter - Cleaning &amp; merging data'"
      ],
      "text/plain": [
       "[1] \"C:/Users/Laurent/Documents/GitHub/inflammation_networks2/Jupyter - Cleaning & merging data\""
      ]
     },
     "metadata": {},
     "output_type": "display_data"
    }
   ],
   "source": [
    "# check wd\n",
    "getwd()"
   ]
  },
  {
   "cell_type": "code",
   "execution_count": 26,
   "metadata": {},
   "outputs": [],
   "source": [
    "# load libraries\n",
    "library(dplyr)\n",
    "library(biomaRt)"
   ]
  },
  {
   "cell_type": "code",
   "execution_count": 37,
   "metadata": {},
   "outputs": [
    {
     "data": {
      "text/html": [
       "<table>\n",
       "<thead><tr><th scope=col>ensembl_gene_id</th><th scope=col>hgnc_symbol</th><th scope=col>logFC_BC</th><th scope=col>PValue_BC</th><th scope=col>entrezgene</th></tr></thead>\n",
       "<tbody>\n",
       "\t<tr><td>ENSG00000000003</td><td>TSPAN6         </td><td>-0.6346625     </td><td>4.625831e-06   </td><td> 7105          </td></tr>\n",
       "\t<tr><td>ENSG00000000005</td><td>TNMD           </td><td>-4.0222475     </td><td>1.661109e-30   </td><td>64102          </td></tr>\n",
       "\t<tr><td>ENSG00000000419</td><td>DPM1           </td><td> 0.3567976     </td><td>6.129101e-05   </td><td> 8813          </td></tr>\n",
       "\t<tr><td>ENSG00000000457</td><td>SCYL3          </td><td> 0.3033830     </td><td>1.384706e-04   </td><td>57147          </td></tr>\n",
       "\t<tr><td>ENSG00000000460</td><td>C1orf112       </td><td> 1.0983553     </td><td>1.738228e-28   </td><td>55732          </td></tr>\n",
       "\t<tr><td>ENSG00000000938</td><td>FGR            </td><td>-0.3356203     </td><td>8.173009e-02   </td><td> 2268          </td></tr>\n",
       "</tbody>\n",
       "</table>\n"
      ],
      "text/latex": [
       "\\begin{tabular}{r|lllll}\n",
       " ensembl\\_gene\\_id & hgnc\\_symbol & logFC\\_BC & PValue\\_BC & entrezgene\\\\\n",
       "\\hline\n",
       "\t ENSG00000000003 & TSPAN6          & -0.6346625      & 4.625831e-06    &  7105          \\\\\n",
       "\t ENSG00000000005 & TNMD            & -4.0222475      & 1.661109e-30    & 64102          \\\\\n",
       "\t ENSG00000000419 & DPM1            &  0.3567976      & 6.129101e-05    &  8813          \\\\\n",
       "\t ENSG00000000457 & SCYL3           &  0.3033830      & 1.384706e-04    & 57147          \\\\\n",
       "\t ENSG00000000460 & C1orf112        &  1.0983553      & 1.738228e-28    & 55732          \\\\\n",
       "\t ENSG00000000938 & FGR             & -0.3356203      & 8.173009e-02    &  2268          \\\\\n",
       "\\end{tabular}\n"
      ],
      "text/markdown": [
       "\n",
       "| ensembl_gene_id | hgnc_symbol | logFC_BC | PValue_BC | entrezgene |\n",
       "|---|---|---|---|---|\n",
       "| ENSG00000000003 | TSPAN6          | -0.6346625      | 4.625831e-06    |  7105           |\n",
       "| ENSG00000000005 | TNMD            | -4.0222475      | 1.661109e-30    | 64102           |\n",
       "| ENSG00000000419 | DPM1            |  0.3567976      | 6.129101e-05    |  8813           |\n",
       "| ENSG00000000457 | SCYL3           |  0.3033830      | 1.384706e-04    | 57147           |\n",
       "| ENSG00000000460 | C1orf112        |  1.0983553      | 1.738228e-28    | 55732           |\n",
       "| ENSG00000000938 | FGR             | -0.3356203      | 8.173009e-02    |  2268           |\n",
       "\n"
      ],
      "text/plain": [
       "  ensembl_gene_id hgnc_symbol logFC_BC   PValue_BC    entrezgene\n",
       "1 ENSG00000000003 TSPAN6      -0.6346625 4.625831e-06  7105     \n",
       "2 ENSG00000000005 TNMD        -4.0222475 1.661109e-30 64102     \n",
       "3 ENSG00000000419 DPM1         0.3567976 6.129101e-05  8813     \n",
       "4 ENSG00000000457 SCYL3        0.3033830 1.384706e-04 57147     \n",
       "5 ENSG00000000460 C1orf112     1.0983553 1.738228e-28 55732     \n",
       "6 ENSG00000000938 FGR         -0.3356203 8.173009e-02  2268     "
      ]
     },
     "metadata": {},
     "output_type": "display_data"
    }
   ],
   "source": [
    "# load data files\n",
    "data1 <- read.table(file.path(getwd(),\"Datasets\", \"Clean\", \"breast-cancer_stats60_clean.txt\"), header = T, sep = \"\\t\")\n",
    "data2 <- read.table(file.path(getwd(),\"Datasets\", \"Clean\", \"MUO-Lean_stats_clean.txt\"), header = T, sep = \"\\t\")\n",
    "data3 <- read.table(file.path(getwd(),\"Datasets\", \"Clean\", \"RA-control_GSE55235_stats_clean.txt\"), header = T, sep = \"\\t\")\n",
    "data4 <- read.table(file.path(getwd(),\"Datasets\", \"Clean\", \"DCM_clean.txt\"), header = T, sep = \"\\t\")\n",
    "\n",
    "head(data1)"
   ]
  },
  {
   "cell_type": "markdown",
   "metadata": {},
   "source": [
    "Now we have read in all cleaned data files, we would like to create a data frame that contains all unique entrezgene IDs of all these data files togethet. So if we merge all data files, we don't lose any data. We create a new dataframe with all unique entrezgene IDs, because we would like to have a data frame we add a column called \"Nonsense\". This columns contains the value 1 for every row. That way we have two dimensions, so we have a data frame. "
   ]
  },
  {
   "cell_type": "code",
   "execution_count": 28,
   "metadata": {},
   "outputs": [
    {
     "name": "stderr",
     "output_type": "stream",
     "text": [
      "Warning message in cbind(data1$entrezgene, data2$entrezgene, data3$entrezgene, data4$entrezgene):\n",
      "\"number of rows of result is not a multiple of vector length (arg 1)\""
     ]
    },
    {
     "data": {
      "text/html": [
       "<table>\n",
       "<thead><tr><th scope=col>entrezgene</th></tr></thead>\n",
       "<tbody>\n",
       "\t<tr><td> 7105</td></tr>\n",
       "\t<tr><td>64102</td></tr>\n",
       "\t<tr><td> 8813</td></tr>\n",
       "\t<tr><td>57147</td></tr>\n",
       "\t<tr><td>55732</td></tr>\n",
       "\t<tr><td> 2268</td></tr>\n",
       "</tbody>\n",
       "</table>\n"
      ],
      "text/latex": [
       "\\begin{tabular}{r|l}\n",
       " entrezgene\\\\\n",
       "\\hline\n",
       "\t  7105\\\\\n",
       "\t 64102\\\\\n",
       "\t  8813\\\\\n",
       "\t 57147\\\\\n",
       "\t 55732\\\\\n",
       "\t  2268\\\\\n",
       "\\end{tabular}\n"
      ],
      "text/markdown": [
       "\n",
       "| entrezgene |\n",
       "|---|\n",
       "|  7105 |\n",
       "| 64102 |\n",
       "|  8813 |\n",
       "| 57147 |\n",
       "| 55732 |\n",
       "|  2268 |\n",
       "\n"
      ],
      "text/plain": [
       "  entrezgene\n",
       "1  7105     \n",
       "2 64102     \n",
       "3  8813     \n",
       "4 57147     \n",
       "5 55732     \n",
       "6  2268     "
      ]
     },
     "metadata": {},
     "output_type": "display_data"
    },
    {
     "ename": "ERROR",
     "evalue": "Error in print0(paste(\"The number of unique entrezgene IDs is\", nrow(dataStacked))): could not find function \"print0\"\n",
     "output_type": "error",
     "traceback": [
      "Error in print0(paste(\"The number of unique entrezgene IDs is\", nrow(dataStacked))): could not find function \"print0\"\nTraceback:\n"
     ]
    }
   ],
   "source": [
    "# get all unique entrezgene IDs from all datasets\n",
    "dataStacked <- as.data.frame(cbind(data1$entrezgene,data2$entrezgene,data3$entrezgene,data4$entrezgene))\n",
    "dataStacked <- stack(dataStacked)\n",
    "dataStacked <- dataStacked[, -2]\n",
    "dataStacked <- unique(dataStacked)\n",
    "dataStacked <- as.data.frame(na.omit(dataStacked))\n",
    "colnames(dataStacked)[1] <- \"entrezgene\"\n",
    "\n",
    "head(dataStacked)\n",
    "print0(paste(\"The number of unique entrezgene IDs is\", nrow(dataStacked)))"
   ]
  },
  {
   "cell_type": "code",
   "execution_count": 38,
   "metadata": {},
   "outputs": [
    {
     "name": "stderr",
     "output_type": "stream",
     "text": [
      "Warning message:\n",
      "\"Column `entrezgene` has different attributes on LHS and RHS of join\"Warning message:\n",
      "\"Column `entrezgene` has different attributes on LHS and RHS of join\"Warning message:\n",
      "\"Column `entrezgene` has different attributes on LHS and RHS of join\"Warning message:\n",
      "\"Column `entrezgene` has different attributes on LHS and RHS of join\""
     ]
    },
    {
     "data": {
      "text/html": [
       "<table>\n",
       "<thead><tr><th scope=col>entrezgene</th><th scope=col>logFC_BC</th><th scope=col>PValue_BC</th><th scope=col>logFC_MUO</th><th scope=col>PValue_MUO</th><th scope=col>logFC_RA</th><th scope=col>PValue_RA</th><th scope=col>logFC_DCM</th><th scope=col>PValue_DCM</th></tr></thead>\n",
       "<tbody>\n",
       "\t<tr><td> 7105       </td><td>-0.6346625  </td><td>4.625831e-06</td><td>-0.19539969 </td><td>0.0754891770</td><td>-0.30046001 </td><td>1.865526e-02</td><td>-0.05590022 </td><td>7.977584e-01</td></tr>\n",
       "\t<tr><td>64102       </td><td>-4.0222475  </td><td>1.661109e-30</td><td> 1.80412948 </td><td>0.0000016200</td><td>-0.04860816 </td><td>8.196471e-01</td><td> 2.92402119 </td><td>9.558365e-05</td></tr>\n",
       "\t<tr><td> 8813       </td><td> 0.3567976  </td><td>6.129101e-05</td><td>-0.40356445 </td><td>0.0001569100</td><td>-0.34473391 </td><td>2.328536e-02</td><td>-0.09280415 </td><td>7.007694e-01</td></tr>\n",
       "\t<tr><td>57147       </td><td> 0.3033830  </td><td>1.384706e-04</td><td>-0.15488979 </td><td>0.1700401430</td><td> 0.08311677 </td><td>4.803042e-01</td><td> 0.12344168 </td><td>6.039372e-01</td></tr>\n",
       "\t<tr><td>55732       </td><td> 1.0983553  </td><td>1.738228e-28</td><td> 0.08653913 </td><td>0.0135634820</td><td>-0.21473569 </td><td>3.695494e-02</td><td>-0.07692294 </td><td>8.106303e-01</td></tr>\n",
       "\t<tr><td> 2268       </td><td>-0.3356203  </td><td>8.173009e-02</td><td> 0.55657959 </td><td>0.0000000911</td><td> 1.34143362 </td><td>6.749178e-06</td><td>-0.14915484 </td><td>7.410703e-01</td></tr>\n",
       "</tbody>\n",
       "</table>\n"
      ],
      "text/latex": [
       "\\begin{tabular}{r|lllllllll}\n",
       " entrezgene & logFC\\_BC & PValue\\_BC & logFC\\_MUO & PValue\\_MUO & logFC\\_RA & PValue\\_RA & logFC\\_DCM & PValue\\_DCM\\\\\n",
       "\\hline\n",
       "\t  7105        & -0.6346625   & 4.625831e-06 & -0.19539969  & 0.0754891770 & -0.30046001  & 1.865526e-02 & -0.05590022  & 7.977584e-01\\\\\n",
       "\t 64102        & -4.0222475   & 1.661109e-30 &  1.80412948  & 0.0000016200 & -0.04860816  & 8.196471e-01 &  2.92402119  & 9.558365e-05\\\\\n",
       "\t  8813        &  0.3567976   & 6.129101e-05 & -0.40356445  & 0.0001569100 & -0.34473391  & 2.328536e-02 & -0.09280415  & 7.007694e-01\\\\\n",
       "\t 57147        &  0.3033830   & 1.384706e-04 & -0.15488979  & 0.1700401430 &  0.08311677  & 4.803042e-01 &  0.12344168  & 6.039372e-01\\\\\n",
       "\t 55732        &  1.0983553   & 1.738228e-28 &  0.08653913  & 0.0135634820 & -0.21473569  & 3.695494e-02 & -0.07692294  & 8.106303e-01\\\\\n",
       "\t  2268        & -0.3356203   & 8.173009e-02 &  0.55657959  & 0.0000000911 &  1.34143362  & 6.749178e-06 & -0.14915484  & 7.410703e-01\\\\\n",
       "\\end{tabular}\n"
      ],
      "text/markdown": [
       "\n",
       "| entrezgene | logFC_BC | PValue_BC | logFC_MUO | PValue_MUO | logFC_RA | PValue_RA | logFC_DCM | PValue_DCM |\n",
       "|---|---|---|---|---|---|---|---|---|\n",
       "|  7105        | -0.6346625   | 4.625831e-06 | -0.19539969  | 0.0754891770 | -0.30046001  | 1.865526e-02 | -0.05590022  | 7.977584e-01 |\n",
       "| 64102        | -4.0222475   | 1.661109e-30 |  1.80412948  | 0.0000016200 | -0.04860816  | 8.196471e-01 |  2.92402119  | 9.558365e-05 |\n",
       "|  8813        |  0.3567976   | 6.129101e-05 | -0.40356445  | 0.0001569100 | -0.34473391  | 2.328536e-02 | -0.09280415  | 7.007694e-01 |\n",
       "| 57147        |  0.3033830   | 1.384706e-04 | -0.15488979  | 0.1700401430 |  0.08311677  | 4.803042e-01 |  0.12344168  | 6.039372e-01 |\n",
       "| 55732        |  1.0983553   | 1.738228e-28 |  0.08653913  | 0.0135634820 | -0.21473569  | 3.695494e-02 | -0.07692294  | 8.106303e-01 |\n",
       "|  2268        | -0.3356203   | 8.173009e-02 |  0.55657959  | 0.0000000911 |  1.34143362  | 6.749178e-06 | -0.14915484  | 7.410703e-01 |\n",
       "\n"
      ],
      "text/plain": [
       "  entrezgene logFC_BC   PValue_BC    logFC_MUO   PValue_MUO   logFC_RA   \n",
       "1  7105      -0.6346625 4.625831e-06 -0.19539969 0.0754891770 -0.30046001\n",
       "2 64102      -4.0222475 1.661109e-30  1.80412948 0.0000016200 -0.04860816\n",
       "3  8813       0.3567976 6.129101e-05 -0.40356445 0.0001569100 -0.34473391\n",
       "4 57147       0.3033830 1.384706e-04 -0.15488979 0.1700401430  0.08311677\n",
       "5 55732       1.0983553 1.738228e-28  0.08653913 0.0135634820 -0.21473569\n",
       "6  2268      -0.3356203 8.173009e-02  0.55657959 0.0000000911  1.34143362\n",
       "  PValue_RA    logFC_DCM   PValue_DCM  \n",
       "1 1.865526e-02 -0.05590022 7.977584e-01\n",
       "2 8.196471e-01  2.92402119 9.558365e-05\n",
       "3 2.328536e-02 -0.09280415 7.007694e-01\n",
       "4 4.803042e-01  0.12344168 6.039372e-01\n",
       "5 3.695494e-02 -0.07692294 8.106303e-01\n",
       "6 6.749178e-06 -0.14915484 7.410703e-01"
      ]
     },
     "metadata": {},
     "output_type": "display_data"
    },
    {
     "data": {
      "text/html": [
       "21588"
      ],
      "text/latex": [
       "21588"
      ],
      "text/markdown": [
       "21588"
      ],
      "text/plain": [
       "[1] 21588"
      ]
     },
     "metadata": {},
     "output_type": "display_data"
    }
   ],
   "source": [
    "# merge tables based on dataStacked, with all entrezgene IDs from all datasets\n",
    "dataTotal <- dataStacked %>% left_join(data1, by = \"entrezgene\")\n",
    "dataTotal <- dataTotal[,c(-2,-3)]\n",
    "dataTotal <- dataTotal %>% left_join(data2, by = \"entrezgene\")\n",
    "dataTotal <- dataTotal[,c(-4)]\n",
    "dataTotal <- dataTotal %>% left_join(data3, by = \"entrezgene\")\n",
    "dataTotal <- dataTotal[,-6]\n",
    "dataTotal <- dataTotal %>% left_join(data4, by = \"entrezgene\")\n",
    "dataTotal <- dataTotal[,c(-8,-11)]\n",
    "\n",
    "head(dataTotal)\n",
    "nrow(dataTotal)"
   ]
  },
  {
   "cell_type": "markdown",
   "metadata": {},
   "source": [
    "We have merged the data files together! Now we only have to add hgnc symbols where ever it is possible and save the file!"
   ]
  },
  {
   "cell_type": "code",
   "execution_count": 39,
   "metadata": {},
   "outputs": [
    {
     "name": "stderr",
     "output_type": "stream",
     "text": [
      "Warning message:                                                      \n",
      "\"Column `entrezgene` has different attributes on LHS and RHS of join\""
     ]
    },
    {
     "data": {
      "text/html": [
       "<table>\n",
       "<thead><tr><th scope=col>entrezgene</th><th scope=col>hgnc_symbol</th><th scope=col>logFC_BC</th><th scope=col>PValue_BC</th><th scope=col>logFC_MUO</th><th scope=col>PValue_MUO</th><th scope=col>logFC_RA</th><th scope=col>PValue_RA</th><th scope=col>logFC_DCM</th><th scope=col>PValue_DCM</th></tr></thead>\n",
       "<tbody>\n",
       "\t<tr><td> 7105       </td><td>TSPAN6      </td><td>-0.6346625  </td><td>4.625831e-06</td><td>-0.19539969 </td><td>0.0754891770</td><td>-0.30046001 </td><td>1.865526e-02</td><td>-0.05590022 </td><td>7.977584e-01</td></tr>\n",
       "\t<tr><td>64102       </td><td>TNMD        </td><td>-4.0222475  </td><td>1.661109e-30</td><td> 1.80412948 </td><td>0.0000016200</td><td>-0.04860816 </td><td>8.196471e-01</td><td> 2.92402119 </td><td>9.558365e-05</td></tr>\n",
       "\t<tr><td> 8813       </td><td>DPM1        </td><td> 0.3567976  </td><td>6.129101e-05</td><td>-0.40356445 </td><td>0.0001569100</td><td>-0.34473391 </td><td>2.328536e-02</td><td>-0.09280415 </td><td>7.007694e-01</td></tr>\n",
       "\t<tr><td>57147       </td><td>SCYL3       </td><td> 0.3033830  </td><td>1.384706e-04</td><td>-0.15488979 </td><td>0.1700401430</td><td> 0.08311677 </td><td>4.803042e-01</td><td> 0.12344168 </td><td>6.039372e-01</td></tr>\n",
       "\t<tr><td>55732       </td><td>C1orf112    </td><td> 1.0983553  </td><td>1.738228e-28</td><td> 0.08653913 </td><td>0.0135634820</td><td>-0.21473569 </td><td>3.695494e-02</td><td>-0.07692294 </td><td>8.106303e-01</td></tr>\n",
       "\t<tr><td> 2268       </td><td>FGR         </td><td>-0.3356203  </td><td>8.173009e-02</td><td> 0.55657959 </td><td>0.0000000911</td><td> 1.34143362 </td><td>6.749178e-06</td><td>-0.14915484 </td><td>7.410703e-01</td></tr>\n",
       "</tbody>\n",
       "</table>\n"
      ],
      "text/latex": [
       "\\begin{tabular}{r|llllllllll}\n",
       " entrezgene & hgnc\\_symbol & logFC\\_BC & PValue\\_BC & logFC\\_MUO & PValue\\_MUO & logFC\\_RA & PValue\\_RA & logFC\\_DCM & PValue\\_DCM\\\\\n",
       "\\hline\n",
       "\t  7105        & TSPAN6       & -0.6346625   & 4.625831e-06 & -0.19539969  & 0.0754891770 & -0.30046001  & 1.865526e-02 & -0.05590022  & 7.977584e-01\\\\\n",
       "\t 64102        & TNMD         & -4.0222475   & 1.661109e-30 &  1.80412948  & 0.0000016200 & -0.04860816  & 8.196471e-01 &  2.92402119  & 9.558365e-05\\\\\n",
       "\t  8813        & DPM1         &  0.3567976   & 6.129101e-05 & -0.40356445  & 0.0001569100 & -0.34473391  & 2.328536e-02 & -0.09280415  & 7.007694e-01\\\\\n",
       "\t 57147        & SCYL3        &  0.3033830   & 1.384706e-04 & -0.15488979  & 0.1700401430 &  0.08311677  & 4.803042e-01 &  0.12344168  & 6.039372e-01\\\\\n",
       "\t 55732        & C1orf112     &  1.0983553   & 1.738228e-28 &  0.08653913  & 0.0135634820 & -0.21473569  & 3.695494e-02 & -0.07692294  & 8.106303e-01\\\\\n",
       "\t  2268        & FGR          & -0.3356203   & 8.173009e-02 &  0.55657959  & 0.0000000911 &  1.34143362  & 6.749178e-06 & -0.14915484  & 7.410703e-01\\\\\n",
       "\\end{tabular}\n"
      ],
      "text/markdown": [
       "\n",
       "| entrezgene | hgnc_symbol | logFC_BC | PValue_BC | logFC_MUO | PValue_MUO | logFC_RA | PValue_RA | logFC_DCM | PValue_DCM |\n",
       "|---|---|---|---|---|---|---|---|---|---|\n",
       "|  7105        | TSPAN6       | -0.6346625   | 4.625831e-06 | -0.19539969  | 0.0754891770 | -0.30046001  | 1.865526e-02 | -0.05590022  | 7.977584e-01 |\n",
       "| 64102        | TNMD         | -4.0222475   | 1.661109e-30 |  1.80412948  | 0.0000016200 | -0.04860816  | 8.196471e-01 |  2.92402119  | 9.558365e-05 |\n",
       "|  8813        | DPM1         |  0.3567976   | 6.129101e-05 | -0.40356445  | 0.0001569100 | -0.34473391  | 2.328536e-02 | -0.09280415  | 7.007694e-01 |\n",
       "| 57147        | SCYL3        |  0.3033830   | 1.384706e-04 | -0.15488979  | 0.1700401430 |  0.08311677  | 4.803042e-01 |  0.12344168  | 6.039372e-01 |\n",
       "| 55732        | C1orf112     |  1.0983553   | 1.738228e-28 |  0.08653913  | 0.0135634820 | -0.21473569  | 3.695494e-02 | -0.07692294  | 8.106303e-01 |\n",
       "|  2268        | FGR          | -0.3356203   | 8.173009e-02 |  0.55657959  | 0.0000000911 |  1.34143362  | 6.749178e-06 | -0.14915484  | 7.410703e-01 |\n",
       "\n"
      ],
      "text/plain": [
       "  entrezgene hgnc_symbol logFC_BC   PValue_BC    logFC_MUO   PValue_MUO  \n",
       "1  7105      TSPAN6      -0.6346625 4.625831e-06 -0.19539969 0.0754891770\n",
       "2 64102      TNMD        -4.0222475 1.661109e-30  1.80412948 0.0000016200\n",
       "3  8813      DPM1         0.3567976 6.129101e-05 -0.40356445 0.0001569100\n",
       "4 57147      SCYL3        0.3033830 1.384706e-04 -0.15488979 0.1700401430\n",
       "5 55732      C1orf112     1.0983553 1.738228e-28  0.08653913 0.0135634820\n",
       "6  2268      FGR         -0.3356203 8.173009e-02  0.55657959 0.0000000911\n",
       "  logFC_RA    PValue_RA    logFC_DCM   PValue_DCM  \n",
       "1 -0.30046001 1.865526e-02 -0.05590022 7.977584e-01\n",
       "2 -0.04860816 8.196471e-01  2.92402119 9.558365e-05\n",
       "3 -0.34473391 2.328536e-02 -0.09280415 7.007694e-01\n",
       "4  0.08311677 4.803042e-01  0.12344168 6.039372e-01\n",
       "5 -0.21473569 3.695494e-02 -0.07692294 8.106303e-01\n",
       "6  1.34143362 6.749178e-06 -0.14915484 7.410703e-01"
      ]
     },
     "metadata": {},
     "output_type": "display_data"
    }
   ],
   "source": [
    "# add hgnc symbol to dataTotal\n",
    "ensembl <- useEnsembl(\"ensembl\", dataset = \"hsapiens_gene_ensembl\", mirro = \"useast\")\n",
    "mygenes <- as.data.frame(dataTotal$entrezgene)\n",
    "colnames(mygenes)[1] <- \"entrezgene\"\n",
    "mygenes$entrezgene <- as.character(mygenes$entrezgene)\n",
    "\n",
    "my.genes1 <- getBM(\n",
    "  attributes = c('entrezgene', 'hgnc_symbol'), \n",
    "  filters = 'entrezgene',\n",
    "  values = mygenes,\n",
    "  mart = ensembl\n",
    ")\n",
    "\n",
    "# clean merged data file\n",
    "dataTotal <- dataTotal %>% left_join(my.genes1, by = \"entrezgene\")\n",
    "dataTotal <- dataTotal[,c(1,10,2,3,4,5,6,7,8,9)]\n",
    "dataTotal <- unique(dataTotal)\n",
    "\n",
    "head(dataTotal)"
   ]
  },
  {
   "cell_type": "code",
   "execution_count": 40,
   "metadata": {},
   "outputs": [],
   "source": [
    "# save file\n",
    "write.table(dataTotal, file.path(getwd(), \"Datasets\", \"merged_data_final.txt\"), row.names = F, col.names = T, sep = \"\\t\", quote = F)"
   ]
  },
  {
   "cell_type": "code",
   "execution_count": 16,
   "metadata": {},
   "outputs": [
    {
     "data": {
      "text/plain": [
       "R version 3.5.1 (2018-07-02)\n",
       "Platform: x86_64-w64-mingw32/x64 (64-bit)\n",
       "Running under: Windows 10 x64 (build 17134)\n",
       "\n",
       "Matrix products: default\n",
       "\n",
       "locale:\n",
       "[1] LC_COLLATE=Dutch_Netherlands.1252  LC_CTYPE=Dutch_Netherlands.1252   \n",
       "[3] LC_MONETARY=Dutch_Netherlands.1252 LC_NUMERIC=C                      \n",
       "[5] LC_TIME=Dutch_Netherlands.1252    \n",
       "\n",
       "attached base packages:\n",
       "[1] stats     graphics  grDevices utils     datasets  methods   base     \n",
       "\n",
       "other attached packages:\n",
       "[1] biomaRt_2.38.0       dplyr_0.7.8          RevoUtils_11.0.1    \n",
       "[4] RevoUtilsMath_11.0.0\n",
       "\n",
       "loaded via a namespace (and not attached):\n",
       " [1] Rcpp_1.0.0           pillar_1.3.1         compiler_3.5.1      \n",
       " [4] bindr_0.1.1          prettyunits_1.0.2    progress_1.2.0      \n",
       " [7] base64enc_0.1-3      bitops_1.0-6         tools_3.5.1         \n",
       "[10] digest_0.6.18        uuid_0.1-2           bit_1.1-14          \n",
       "[13] jsonlite_1.6         evaluate_0.12        RSQLite_2.1.1       \n",
       "[16] memoise_1.1.0        tibble_2.0.1         pkgconfig_2.0.2     \n",
       "[19] rlang_0.3.1          IRdisplay_0.7.0      DBI_1.0.0           \n",
       "[22] curl_3.3             parallel_3.5.1       IRkernel_0.8.15     \n",
       "[25] bindrcpp_0.2.2       httr_1.4.0           stringr_1.3.1       \n",
       "[28] repr_0.19.1          hms_0.4.2            IRanges_2.16.0      \n",
       "[31] S4Vectors_0.20.1     stats4_3.5.1         bit64_0.9-7         \n",
       "[34] tidyselect_0.2.5     Biobase_2.42.0       glue_1.3.0          \n",
       "[37] R6_2.3.0             AnnotationDbi_1.44.0 XML_3.98-1.19       \n",
       "[40] pbdZMQ_0.3-3         purrr_0.3.0          blob_1.1.1          \n",
       "[43] magrittr_1.5         BiocGenerics_0.28.0  htmltools_0.3.6     \n",
       "[46] assertthat_0.2.1     stringi_1.2.4        RCurl_1.95-4.12     \n",
       "[49] crayon_1.3.4        "
      ]
     },
     "metadata": {},
     "output_type": "display_data"
    }
   ],
   "source": [
    "# information about session\n",
    "sessionInfo()"
   ]
  }
 ],
 "metadata": {
  "kernelspec": {
   "display_name": "R",
   "language": "R",
   "name": "ir"
  },
  "language_info": {
   "codemirror_mode": "r",
   "file_extension": ".r",
   "mimetype": "text/x-r-source",
   "name": "R",
   "pygments_lexer": "r",
   "version": "3.5.1"
  }
 },
 "nbformat": 4,
 "nbformat_minor": 2
}
