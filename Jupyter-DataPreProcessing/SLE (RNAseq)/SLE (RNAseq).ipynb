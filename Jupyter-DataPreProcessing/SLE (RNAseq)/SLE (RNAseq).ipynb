{
 "cells": [
  {
   "cell_type": "markdown",
   "metadata": {},
   "source": [
    "# SLE - Gene expression data pre-processing (RNAseq)"
   ]
  },
  {
   "cell_type": "markdown",
   "metadata": {},
   "source": [
    "The following step only works in RStudio. If working in another environment, please set the working directory properly and check with input 3 if the working directory is correct!"
   ]
  },
  {
   "cell_type": "code",
   "execution_count": null,
   "metadata": {},
   "outputs": [],
   "source": [
    "# set working directory\n",
    "setwd(dirname(rstudioapi::callFun(\"getActiveDocumentContext\")$path)) "
   ]
  },
  {
   "cell_type": "code",
   "execution_count": 1,
   "metadata": {},
   "outputs": [
    {
     "data": {
      "text/html": [
       "'C:/Users/Laurent/Jupyter-DataPreProcessing/SLE (RNAseq)'"
      ],
      "text/latex": [
       "'C:/Users/Laurent/Jupyter-DataPreProcessing/SLE (RNAseq)'"
      ],
      "text/markdown": [
       "'C:/Users/Laurent/Jupyter-DataPreProcessing/SLE (RNAseq)'"
      ],
      "text/plain": [
       "[1] \"C:/Users/Laurent/Jupyter-DataPreProcessing/SLE (RNAseq)\""
      ]
     },
     "metadata": {},
     "output_type": "display_data"
    }
   ],
   "source": [
    "# check working directory\n",
    "getwd()"
   ]
  },
  {
   "cell_type": "code",
   "execution_count": 3,
   "metadata": {},
   "outputs": [
    {
     "name": "stderr",
     "output_type": "stream",
     "text": [
      "Warning message:\n",
      "\"package 'readxl' was built under R version 3.5.2\"Warning message:\n",
      "\"package 'edgeR' was built under R version 3.5.2\"Loading required package: limma\n",
      "Warning message:\n",
      "\"package 'data.table' was built under R version 3.5.2\"\n",
      "Attaching package: 'dplyr'\n",
      "\n",
      "The following object is masked from 'package:biomaRt':\n",
      "\n",
      "    select\n",
      "\n",
      "The following objects are masked from 'package:data.table':\n",
      "\n",
      "    between, first, last\n",
      "\n",
      "The following objects are masked from 'package:stats':\n",
      "\n",
      "    filter, lag\n",
      "\n",
      "The following objects are masked from 'package:base':\n",
      "\n",
      "    intersect, setdiff, setequal, union\n",
      "\n"
     ]
    }
   ],
   "source": [
    "# load libraries\n",
    "library(readxl)\n",
    "library(edgeR)\n",
    "library(data.table)\n",
    "library(biomaRt)\n",
    "library(dplyr)"
   ]
  },
  {
   "cell_type": "code",
   "execution_count": 18,
   "metadata": {},
   "outputs": [
    {
     "name": "stderr",
     "output_type": "stream",
     "text": [
      "New names:\n",
      "* `Case 1` -> `Case 1..2`\n",
      "* `Case 1` -> `Case 1..3`\n",
      "* `Case 2` -> `Case 2..4`\n",
      "* `Case 2` -> `Case 2..5`\n",
      "* `Case 3` -> `Case 3..6`\n",
      "* ... and 115 more\n"
     ]
    },
    {
     "data": {
      "text/html": [
       "<table>\n",
       "<thead><tr><th scope=col>ENSG_ID</th><th scope=col>Case 1..2</th><th scope=col>Case 1..3</th><th scope=col>Case 2..4</th><th scope=col>Case 2..5</th><th scope=col>Case 3..6</th><th scope=col>Case 3..7</th><th scope=col>Case 4..8</th><th scope=col>Case 4..9</th><th scope=col>Case 5..10</th><th scope=col>...</th><th scope=col>Control 25..112</th><th scope=col>Control 25..113</th><th scope=col>Control 26..114</th><th scope=col>Control 26..115</th><th scope=col>Control 27..116</th><th scope=col>Control 27..117</th><th scope=col>Control 28..118</th><th scope=col>Control 28..119</th><th scope=col>Control 29..120</th><th scope=col>Control 29..121</th></tr></thead>\n",
       "<tbody>\n",
       "\t<tr><td>ENSG00000223972</td><td>0              </td><td> 0             </td><td> 1             </td><td> 0             </td><td> 0             </td><td> 0             </td><td>0              </td><td>0              </td><td>2              </td><td>...            </td><td> 0             </td><td> 0             </td><td> 2             </td><td> 1             </td><td> 0             </td><td> 0             </td><td> 0             </td><td> 0             </td><td> 0             </td><td> 0             </td></tr>\n",
       "\t<tr><td>ENSG00000227232</td><td>9              </td><td>13             </td><td>26             </td><td>21             </td><td>18             </td><td>14             </td><td>5              </td><td>6              </td><td>9              </td><td>...            </td><td>14             </td><td>17             </td><td>13             </td><td>16             </td><td>22             </td><td>17             </td><td>14             </td><td>18             </td><td>21             </td><td>19             </td></tr>\n",
       "\t<tr><td>ENSG00000243485</td><td>0              </td><td> 0             </td><td> 0             </td><td> 0             </td><td> 0             </td><td> 0             </td><td>0              </td><td>0              </td><td>0              </td><td>...            </td><td> 0             </td><td> 0             </td><td> 0             </td><td> 0             </td><td> 0             </td><td> 0             </td><td> 0             </td><td> 0             </td><td> 0             </td><td> 0             </td></tr>\n",
       "\t<tr><td>ENSG00000221311</td><td>0              </td><td> 0             </td><td> 0             </td><td> 0             </td><td> 0             </td><td> 0             </td><td>0              </td><td>0              </td><td>0              </td><td>...            </td><td> 0             </td><td> 0             </td><td> 0             </td><td> 0             </td><td> 0             </td><td> 0             </td><td> 0             </td><td> 0             </td><td> 0             </td><td> 0             </td></tr>\n",
       "\t<tr><td>ENSG00000237613</td><td>0              </td><td> 0             </td><td> 0             </td><td> 0             </td><td> 0             </td><td> 0             </td><td>0              </td><td>0              </td><td>0              </td><td>...            </td><td> 0             </td><td> 0             </td><td> 0             </td><td> 0             </td><td> 0             </td><td> 0             </td><td> 0             </td><td> 0             </td><td> 0             </td><td> 0             </td></tr>\n",
       "\t<tr><td>ENSG00000268020</td><td>0              </td><td> 0             </td><td> 0             </td><td> 0             </td><td> 0             </td><td> 0             </td><td>0              </td><td>0              </td><td>0              </td><td>...            </td><td> 0             </td><td> 0             </td><td> 0             </td><td> 0             </td><td> 0             </td><td> 0             </td><td> 0             </td><td> 0             </td><td> 0             </td><td> 0             </td></tr>\n",
       "</tbody>\n",
       "</table>\n"
      ],
      "text/latex": [
       "\\begin{tabular}{r|lllllllllllllllllllllllllllllllllllllllllllllllllllllllllllllllllllllllllllllllllllllllllllllllllllllllllllllllllllllllll}\n",
       " ENSG\\_ID & Case 1..2 & Case 1..3 & Case 2..4 & Case 2..5 & Case 3..6 & Case 3..7 & Case 4..8 & Case 4..9 & Case 5..10 & ... & Control 25..112 & Control 25..113 & Control 26..114 & Control 26..115 & Control 27..116 & Control 27..117 & Control 28..118 & Control 28..119 & Control 29..120 & Control 29..121\\\\\n",
       "\\hline\n",
       "\t ENSG00000223972 & 0               &  0              &  1              &  0              &  0              &  0              & 0               & 0               & 2               & ...             &  0              &  0              &  2              &  1              &  0              &  0              &  0              &  0              &  0              &  0             \\\\\n",
       "\t ENSG00000227232 & 9               & 13              & 26              & 21              & 18              & 14              & 5               & 6               & 9               & ...             & 14              & 17              & 13              & 16              & 22              & 17              & 14              & 18              & 21              & 19             \\\\\n",
       "\t ENSG00000243485 & 0               &  0              &  0              &  0              &  0              &  0              & 0               & 0               & 0               & ...             &  0              &  0              &  0              &  0              &  0              &  0              &  0              &  0              &  0              &  0             \\\\\n",
       "\t ENSG00000221311 & 0               &  0              &  0              &  0              &  0              &  0              & 0               & 0               & 0               & ...             &  0              &  0              &  0              &  0              &  0              &  0              &  0              &  0              &  0              &  0             \\\\\n",
       "\t ENSG00000237613 & 0               &  0              &  0              &  0              &  0              &  0              & 0               & 0               & 0               & ...             &  0              &  0              &  0              &  0              &  0              &  0              &  0              &  0              &  0              &  0             \\\\\n",
       "\t ENSG00000268020 & 0               &  0              &  0              &  0              &  0              &  0              & 0               & 0               & 0               & ...             &  0              &  0              &  0              &  0              &  0              &  0              &  0              &  0              &  0              &  0             \\\\\n",
       "\\end{tabular}\n"
      ],
      "text/markdown": [
       "\n",
       "| ENSG_ID | Case 1..2 | Case 1..3 | Case 2..4 | Case 2..5 | Case 3..6 | Case 3..7 | Case 4..8 | Case 4..9 | Case 5..10 | ... | Control 25..112 | Control 25..113 | Control 26..114 | Control 26..115 | Control 27..116 | Control 27..117 | Control 28..118 | Control 28..119 | Control 29..120 | Control 29..121 |\n",
       "|---|---|---|---|---|---|---|---|---|---|---|---|---|---|---|---|---|---|---|---|---|\n",
       "| ENSG00000223972 | 0               |  0              |  1              |  0              |  0              |  0              | 0               | 0               | 2               | ...             |  0              |  0              |  2              |  1              |  0              |  0              |  0              |  0              |  0              |  0              |\n",
       "| ENSG00000227232 | 9               | 13              | 26              | 21              | 18              | 14              | 5               | 6               | 9               | ...             | 14              | 17              | 13              | 16              | 22              | 17              | 14              | 18              | 21              | 19              |\n",
       "| ENSG00000243485 | 0               |  0              |  0              |  0              |  0              |  0              | 0               | 0               | 0               | ...             |  0              |  0              |  0              |  0              |  0              |  0              |  0              |  0              |  0              |  0              |\n",
       "| ENSG00000221311 | 0               |  0              |  0              |  0              |  0              |  0              | 0               | 0               | 0               | ...             |  0              |  0              |  0              |  0              |  0              |  0              |  0              |  0              |  0              |  0              |\n",
       "| ENSG00000237613 | 0               |  0              |  0              |  0              |  0              |  0              | 0               | 0               | 0               | ...             |  0              |  0              |  0              |  0              |  0              |  0              |  0              |  0              |  0              |  0              |\n",
       "| ENSG00000268020 | 0               |  0              |  0              |  0              |  0              |  0              | 0               | 0               | 0               | ...             |  0              |  0              |  0              |  0              |  0              |  0              |  0              |  0              |  0              |  0              |\n",
       "\n"
      ],
      "text/plain": [
       "  ENSG_ID         Case 1..2 Case 1..3 Case 2..4 Case 2..5 Case 3..6 Case 3..7\n",
       "1 ENSG00000223972 0          0         1         0         0         0       \n",
       "2 ENSG00000227232 9         13        26        21        18        14       \n",
       "3 ENSG00000243485 0          0         0         0         0         0       \n",
       "4 ENSG00000221311 0          0         0         0         0         0       \n",
       "5 ENSG00000237613 0          0         0         0         0         0       \n",
       "6 ENSG00000268020 0          0         0         0         0         0       \n",
       "  Case 4..8 Case 4..9 Case 5..10 ... Control 25..112 Control 25..113\n",
       "1 0         0         2          ...  0               0             \n",
       "2 5         6         9          ... 14              17             \n",
       "3 0         0         0          ...  0               0             \n",
       "4 0         0         0          ...  0               0             \n",
       "5 0         0         0          ...  0               0             \n",
       "6 0         0         0          ...  0               0             \n",
       "  Control 26..114 Control 26..115 Control 27..116 Control 27..117\n",
       "1  2               1               0               0             \n",
       "2 13              16              22              17             \n",
       "3  0               0               0               0             \n",
       "4  0               0               0               0             \n",
       "5  0               0               0               0             \n",
       "6  0               0               0               0             \n",
       "  Control 28..118 Control 28..119 Control 29..120 Control 29..121\n",
       "1  0               0               0               0             \n",
       "2 14              18              21              19             \n",
       "3  0               0               0               0             \n",
       "4  0               0               0               0             \n",
       "5  0               0               0               0             \n",
       "6  0               0               0               0             "
      ]
     },
     "metadata": {},
     "output_type": "display_data"
    },
    {
     "data": {
      "text/html": [
       "<ol class=list-inline>\n",
       "\t<li>62069</li>\n",
       "\t<li>121</li>\n",
       "</ol>\n"
      ],
      "text/latex": [
       "\\begin{enumerate*}\n",
       "\\item 62069\n",
       "\\item 121\n",
       "\\end{enumerate*}\n"
      ],
      "text/markdown": [
       "1. 62069\n",
       "2. 121\n",
       "\n",
       "\n"
      ],
      "text/plain": [
       "[1] 62069   121"
      ]
     },
     "metadata": {},
     "output_type": "display_data"
    }
   ],
   "source": [
    "# read data table and clean data\n",
    "data <- as.data.frame(read_excel(file.path(getwd(), \"Data\", \"Counts\", \"GSE112087_counts-matrix-EnsembIDs-GRCh37.p10.xlsx\")))\n",
    "row.names(data) <- data$ENSG_ID\n",
    "data1 <- filter(data, data$`ENSG_ID` != \"NA\")\n",
    "\n",
    "head(data1)\n",
    "dim(data1)"
   ]
  },
  {
   "cell_type": "code",
   "execution_count": 14,
   "metadata": {},
   "outputs": [],
   "source": [
    "# run EdgeR\n",
    "group <- factor(c(rep(\"case\", 62), rep(\"control\", 58)))\n",
    "y <- DGEList(counts = data1[,2:121], group = group)\n",
    "y <- calcNormFactors(y)\n",
    "design <- model.matrix(~group)\n",
    "y <- estimateDisp(y, design)\n",
    "fit <- glmQLFit(y, design)\n",
    "qlf <- glmQLFTest(fit, coef = 2)\n",
    "res <- as.data.frame(topTags(qlf,n=Inf))"
   ]
  },
  {
   "cell_type": "code",
   "execution_count": 17,
   "metadata": {},
   "outputs": [
    {
     "data": {
      "text/html": [
       "<table>\n",
       "<thead><tr><th scope=col>GeneID</th><th scope=col>logFC</th><th scope=col>logCPM</th><th scope=col>F</th><th scope=col>PValue</th><th scope=col>FDR</th></tr></thead>\n",
       "<tbody>\n",
       "\t<tr><td>31762       </td><td>-0.8531636  </td><td> 8.946759   </td><td>128.8051    </td><td>5.616781e-21</td><td>3.486280e-16</td></tr>\n",
       "\t<tr><td>60753       </td><td>-3.6190113  </td><td>12.119700   </td><td>121.5867    </td><td>3.470175e-20</td><td>7.073875e-16</td></tr>\n",
       "\t<tr><td>28730       </td><td>-1.7880423  </td><td> 8.290834   </td><td>121.2098    </td><td>3.821949e-20</td><td>7.073875e-16</td></tr>\n",
       "\t<tr><td>51487       </td><td>-0.7270065  </td><td> 8.140407   </td><td>119.8350    </td><td>5.442603e-20</td><td>7.073875e-16</td></tr>\n",
       "\t<tr><td>36956       </td><td>-1.3555971  </td><td> 8.525345   </td><td>119.6569    </td><td>5.698396e-20</td><td>7.073875e-16</td></tr>\n",
       "\t<tr><td>27106       </td><td>-1.4183684  </td><td> 5.023418   </td><td>117.4663    </td><td>1.005474e-19</td><td>1.039988e-15</td></tr>\n",
       "</tbody>\n",
       "</table>\n"
      ],
      "text/latex": [
       "\\begin{tabular}{r|llllll}\n",
       " GeneID & logFC & logCPM & F & PValue & FDR\\\\\n",
       "\\hline\n",
       "\t 31762        & -0.8531636   &  8.946759    & 128.8051     & 5.616781e-21 & 3.486280e-16\\\\\n",
       "\t 60753        & -3.6190113   & 12.119700    & 121.5867     & 3.470175e-20 & 7.073875e-16\\\\\n",
       "\t 28730        & -1.7880423   &  8.290834    & 121.2098     & 3.821949e-20 & 7.073875e-16\\\\\n",
       "\t 51487        & -0.7270065   &  8.140407    & 119.8350     & 5.442603e-20 & 7.073875e-16\\\\\n",
       "\t 36956        & -1.3555971   &  8.525345    & 119.6569     & 5.698396e-20 & 7.073875e-16\\\\\n",
       "\t 27106        & -1.4183684   &  5.023418    & 117.4663     & 1.005474e-19 & 1.039988e-15\\\\\n",
       "\\end{tabular}\n"
      ],
      "text/markdown": [
       "\n",
       "| GeneID | logFC | logCPM | F | PValue | FDR |\n",
       "|---|---|---|---|---|---|\n",
       "| 31762        | -0.8531636   |  8.946759    | 128.8051     | 5.616781e-21 | 3.486280e-16 |\n",
       "| 60753        | -3.6190113   | 12.119700    | 121.5867     | 3.470175e-20 | 7.073875e-16 |\n",
       "| 28730        | -1.7880423   |  8.290834    | 121.2098     | 3.821949e-20 | 7.073875e-16 |\n",
       "| 51487        | -0.7270065   |  8.140407    | 119.8350     | 5.442603e-20 | 7.073875e-16 |\n",
       "| 36956        | -1.3555971   |  8.525345    | 119.6569     | 5.698396e-20 | 7.073875e-16 |\n",
       "| 27106        | -1.4183684   |  5.023418    | 117.4663     | 1.005474e-19 | 1.039988e-15 |\n",
       "\n"
      ],
      "text/plain": [
       "  GeneID logFC      logCPM    F        PValue       FDR         \n",
       "1 31762  -0.8531636  8.946759 128.8051 5.616781e-21 3.486280e-16\n",
       "2 60753  -3.6190113 12.119700 121.5867 3.470175e-20 7.073875e-16\n",
       "3 28730  -1.7880423  8.290834 121.2098 3.821949e-20 7.073875e-16\n",
       "4 51487  -0.7270065  8.140407 119.8350 5.442603e-20 7.073875e-16\n",
       "5 36956  -1.3555971  8.525345 119.6569 5.698396e-20 7.073875e-16\n",
       "6 27106  -1.4183684  5.023418 117.4663 1.005474e-19 1.039988e-15"
      ]
     },
     "metadata": {},
     "output_type": "display_data"
    },
    {
     "data": {
      "text/html": [
       "<ol class=list-inline>\n",
       "\t<li>62069</li>\n",
       "\t<li>6</li>\n",
       "</ol>\n"
      ],
      "text/latex": [
       "\\begin{enumerate*}\n",
       "\\item 62069\n",
       "\\item 6\n",
       "\\end{enumerate*}\n"
      ],
      "text/markdown": [
       "1. 62069\n",
       "2. 6\n",
       "\n",
       "\n"
      ],
      "text/plain": [
       "[1] 62069     6"
      ]
     },
     "metadata": {},
     "output_type": "display_data"
    }
   ],
   "source": [
    "# add row names as 1st column\n",
    "res <- setDT(res, keep.rownames = TRUE)[]\n",
    "colnames(res)[1] <- \"GeneID\"\n",
    "\n",
    "head(res)\n",
    "dim(res)"
   ]
  },
  {
   "cell_type": "code",
   "execution_count": 23,
   "metadata": {},
   "outputs": [
    {
     "data": {
      "image/png": "[encoded data removed]",
      "text/plain": [
       "Plot with title \"Histogram of res$logFC\""
      ]
     },
     "metadata": {},
     "output_type": "display_data"
    },
    {
     "data": {
      "image/png": "[encoded data removed]",
      "text/plain": [
       "Plot with title \"Histogram of res$PValue\""
      ]
     },
     "metadata": {},
     "output_type": "display_data"
    },
    {
     "data": {
      "image/png": "[encoded data removed]",
      "text/plain": [
       "Plot with title \"Histogram of res$FDR\""
      ]
     },
     "metadata": {},
     "output_type": "display_data"
    }
   ],
   "source": [
    "# check histograms of statistics\n",
    "hist(res$logFC)\n",
    "hist(res$PValue)\n",
    "hist(res$FDR)"
   ]
  },
  {
   "cell_type": "code",
   "execution_count": 21,
   "metadata": {},
   "outputs": [],
   "source": [
    "# save result\n",
    "write.table(res, file.path(getwd(), \"Data\", \"Stats\", \"SLE_stats1.txt\"), quote=F, sep=\"\\t\", col.names=T, row.names=F)"
   ]
  }
 ],
 "metadata": {
  "kernelspec": {
   "display_name": "R",
   "language": "R",
   "name": "ir"
  },
  "language_info": {
   "codemirror_mode": "r",
   "file_extension": ".r",
   "mimetype": "text/x-r-source",
   "name": "R",
   "pygments_lexer": "r",
   "version": "3.5.1"
  }
 },
 "nbformat": 4,
 "nbformat_minor": 2
}
