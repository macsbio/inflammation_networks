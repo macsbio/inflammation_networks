{
 "cells": [
  {
   "cell_type": "markdown",
   "metadata": {},
   "source": [
    "# Automation Cytoscape network creation using RCy3 package\n",
    "We are going to use the RCy3 package in R to automate the workflow for STRING network creation. We are using multiple gene epxression datasets acquired from different studies. These datasets contain gene expression profiles of patients with various diseases. The diseases which are going to be used in this notebook are: lung-cancer (LC), breast-cancer (BC), metabolically unhealthy obesity (MUO), rheumatoid arthritis (RA), dilated cardiomyopathy (DCM), ishemic cardiomyopathy (ICM) and systemis lupus erythematosus (SLE).\n",
    "\n",
    "The network will consist of pathways, pathway clusters and the genes which occur in these pathways. These pathways are acquired based on genes associated with inflammation which were retrieved from DisGeNET and GeneCards."
   ]
  },
  {
   "cell_type": "code",
   "execution_count": 1,
   "metadata": {},
   "outputs": [
    {
     "data": {
      "text/html": [
       "'C:/Users/Laurent/Documents/GitHub/inflammation_networks2'"
      ],
      "text/latex": [
       "'C:/Users/Laurent/Documents/GitHub/inflammation\\_networks2'"
      ],
      "text/markdown": [
       "'C:/Users/Laurent/Documents/GitHub/inflammation_networks2'"
      ],
      "text/plain": [
       "[1] \"C:/Users/Laurent/Documents/GitHub/inflammation_networks2\""
      ]
     },
     "metadata": {},
     "output_type": "display_data"
    }
   ],
   "source": [
    "# check working directory\n",
    "getwd()"
   ]
  },
  {
   "cell_type": "code",
   "execution_count": 2,
   "metadata": {},
   "outputs": [],
   "source": [
    "# load libraries\n",
    "library(RCy3)"
   ]
  },
  {
   "cell_type": "markdown",
   "metadata": {},
   "source": [
    "### We first start with opening cytoscape and checking if we are connected.\n",
    "Then we will load all our necessary files."
   ]
  },
  {
   "cell_type": "code",
   "execution_count": 3,
   "metadata": {},
   "outputs": [
    {
     "data": {
      "text/html": [
       "'You are connected to Cytoscape!'"
      ],
      "text/latex": [
       "'You are connected to Cytoscape!'"
      ],
      "text/markdown": [
       "'You are connected to Cytoscape!'"
      ],
      "text/plain": [
       "[1] \"You are connected to Cytoscape!\""
      ]
     },
     "metadata": {},
     "output_type": "display_data"
    }
   ],
   "source": [
    "# check connecitojn with cytoscape\n",
    "cytoscapePing()"
   ]
  },
  {
   "cell_type": "code",
   "execution_count": 4,
   "metadata": {},
   "outputs": [
    {
     "data": {
      "text/html": [
       "<table>\n",
       "<thead><tr><th scope=col>diseaseid</th><th scope=col>disease_name</th><th scope=col>geneid</th><th scope=col>symbol</th><th scope=col>uniprot</th><th scope=col>protein_class</th><th scope=col>gene_name</th><th scope=col>dsi</th><th scope=col>dpi</th><th scope=col>pli</th><th scope=col>score</th><th scope=col>el</th><th scope=col>ei</th><th scope=col>npmids</th><th scope=col>nsnps</th><th scope=col>year_initial</th><th scope=col>year_final</th></tr></thead>\n",
       "<tbody>\n",
       "\t<tr><td>C0021368                         </td><td>Inflammation                     </td><td>3576                             </td><td>CXCL8                            </td><td>P10145                           </td><td>signaling molecule               </td><td>C-X-C motif chemokine ligand 8   </td><td>0.342                            </td><td>0.862                            </td><td>       NA                        </td><td>0.40                             </td><td>no reported evidence             </td><td>NA                               </td><td>13                               </td><td>0                                </td><td>2003                             </td><td>2015                             </td></tr>\n",
       "\t<tr><td>C0021368                         </td><td>Inflammation                     </td><td>1401                             </td><td>CRP                              </td><td>P02741                           </td><td>                                 </td><td>C-reactive protein               </td><td>0.399                            </td><td>0.862                            </td><td>0.0037357                        </td><td>0.40                             </td><td>no reported evidence             </td><td>NA                               </td><td>18                               </td><td>0                                </td><td>2001                             </td><td>2011                             </td></tr>\n",
       "\t<tr><td>C0021368                         </td><td>Inflammation                     </td><td>7124                             </td><td>TNF                              </td><td>P01375                           </td><td>signaling molecule               </td><td>tumor necrosis factor            </td><td>0.263                            </td><td>0.966                            </td><td>0.8046000                        </td><td>0.40                             </td><td>no reported evidence             </td><td>NA                               </td><td>26                               </td><td>0                                </td><td>2001                             </td><td>2014                             </td></tr>\n",
       "\t<tr><td>C0021368                         </td><td>Inflammation                     </td><td>7040                             </td><td>TGFB1                            </td><td>P01137                           </td><td>signaling molecule               </td><td>transforming growth factor beta 1</td><td>0.336                            </td><td>0.931                            </td><td>0.1718200                        </td><td>0.38                             </td><td>no reported evidence             </td><td>NA                               </td><td>10                               </td><td>0                                </td><td>2002                             </td><td>2010                             </td></tr>\n",
       "\t<tr><td>C0021368                         </td><td>Inflammation                     </td><td>3569                             </td><td>IL6                              </td><td>P05231                           </td><td>                                 </td><td>interleukin 6                    </td><td>0.287                            </td><td>0.966                            </td><td>0.3387300                        </td><td>0.37                             </td><td>no reported evidence             </td><td>NA                               </td><td>18                               </td><td>0                                </td><td>2001                             </td><td>2016                             </td></tr>\n",
       "\t<tr><td>C0021368                         </td><td>Inflammation                     </td><td>3553                             </td><td>IL1B                             </td><td>P01584                           </td><td>                                 </td><td>interleukin 1 beta               </td><td>0.312                            </td><td>0.931                            </td><td>0.1256800                        </td><td>0.37                             </td><td>no reported evidence             </td><td>NA                               </td><td>16                               </td><td>0                                </td><td>1999                             </td><td>2017                             </td></tr>\n",
       "</tbody>\n",
       "</table>\n"
      ],
      "text/latex": [
       "\\begin{tabular}{r|lllllllllllllllll}\n",
       " diseaseid & disease\\_name & geneid & symbol & uniprot & protein\\_class & gene\\_name & dsi & dpi & pli & score & el & ei & npmids & nsnps & year\\_initial & year\\_final\\\\\n",
       "\\hline\n",
       "\t C0021368                          & Inflammation                      & 3576                              & CXCL8                             & P10145                            & signaling molecule                & C-X-C motif chemokine ligand 8    & 0.342                             & 0.862                             &        NA                         & 0.40                              & no reported evidence              & NA                                & 13                                & 0                                 & 2003                              & 2015                             \\\\\n",
       "\t C0021368                          & Inflammation                      & 1401                              & CRP                               & P02741                            &                                   & C-reactive protein                & 0.399                             & 0.862                             & 0.0037357                         & 0.40                              & no reported evidence              & NA                                & 18                                & 0                                 & 2001                              & 2011                             \\\\\n",
       "\t C0021368                          & Inflammation                      & 7124                              & TNF                               & P01375                            & signaling molecule                & tumor necrosis factor             & 0.263                             & 0.966                             & 0.8046000                         & 0.40                              & no reported evidence              & NA                                & 26                                & 0                                 & 2001                              & 2014                             \\\\\n",
       "\t C0021368                          & Inflammation                      & 7040                              & TGFB1                             & P01137                            & signaling molecule                & transforming growth factor beta 1 & 0.336                             & 0.931                             & 0.1718200                         & 0.38                              & no reported evidence              & NA                                & 10                                & 0                                 & 2002                              & 2010                             \\\\\n",
       "\t C0021368                          & Inflammation                      & 3569                              & IL6                               & P05231                            &                                   & interleukin 6                     & 0.287                             & 0.966                             & 0.3387300                         & 0.37                              & no reported evidence              & NA                                & 18                                & 0                                 & 2001                              & 2016                             \\\\\n",
       "\t C0021368                          & Inflammation                      & 3553                              & IL1B                              & P01584                            &                                   & interleukin 1 beta                & 0.312                             & 0.931                             & 0.1256800                         & 0.37                              & no reported evidence              & NA                                & 16                                & 0                                 & 1999                              & 2017                             \\\\\n",
       "\\end{tabular}\n"
      ],
      "text/markdown": [
       "\n",
       "| diseaseid | disease_name | geneid | symbol | uniprot | protein_class | gene_name | dsi | dpi | pli | score | el | ei | npmids | nsnps | year_initial | year_final |\n",
       "|---|---|---|---|---|---|---|---|---|---|---|---|---|---|---|---|---|\n",
       "| C0021368                          | Inflammation                      | 3576                              | CXCL8                             | P10145                            | signaling molecule                | C-X-C motif chemokine ligand 8    | 0.342                             | 0.862                             |        NA                         | 0.40                              | no reported evidence              | NA                                | 13                                | 0                                 | 2003                              | 2015                              |\n",
       "| C0021368                          | Inflammation                      | 1401                              | CRP                               | P02741                            |                                   | C-reactive protein                | 0.399                             | 0.862                             | 0.0037357                         | 0.40                              | no reported evidence              | NA                                | 18                                | 0                                 | 2001                              | 2011                              |\n",
       "| C0021368                          | Inflammation                      | 7124                              | TNF                               | P01375                            | signaling molecule                | tumor necrosis factor             | 0.263                             | 0.966                             | 0.8046000                         | 0.40                              | no reported evidence              | NA                                | 26                                | 0                                 | 2001                              | 2014                              |\n",
       "| C0021368                          | Inflammation                      | 7040                              | TGFB1                             | P01137                            | signaling molecule                | transforming growth factor beta 1 | 0.336                             | 0.931                             | 0.1718200                         | 0.38                              | no reported evidence              | NA                                | 10                                | 0                                 | 2002                              | 2010                              |\n",
       "| C0021368                          | Inflammation                      | 3569                              | IL6                               | P05231                            |                                   | interleukin 6                     | 0.287                             | 0.966                             | 0.3387300                         | 0.37                              | no reported evidence              | NA                                | 18                                | 0                                 | 2001                              | 2016                              |\n",
       "| C0021368                          | Inflammation                      | 3553                              | IL1B                              | P01584                            |                                   | interleukin 1 beta                | 0.312                             | 0.931                             | 0.1256800                         | 0.37                              | no reported evidence              | NA                                | 16                                | 0                                 | 1999                              | 2017                              |\n",
       "\n"
      ],
      "text/plain": [
       "  diseaseid disease_name geneid symbol uniprot protein_class     \n",
       "1 C0021368  Inflammation 3576   CXCL8  P10145  signaling molecule\n",
       "2 C0021368  Inflammation 1401   CRP    P02741                    \n",
       "3 C0021368  Inflammation 7124   TNF    P01375  signaling molecule\n",
       "4 C0021368  Inflammation 7040   TGFB1  P01137  signaling molecule\n",
       "5 C0021368  Inflammation 3569   IL6    P05231                    \n",
       "6 C0021368  Inflammation 3553   IL1B   P01584                    \n",
       "  gene_name                         dsi   dpi   pli       score\n",
       "1 C-X-C motif chemokine ligand 8    0.342 0.862        NA 0.40 \n",
       "2 C-reactive protein                0.399 0.862 0.0037357 0.40 \n",
       "3 tumor necrosis factor             0.263 0.966 0.8046000 0.40 \n",
       "4 transforming growth factor beta 1 0.336 0.931 0.1718200 0.38 \n",
       "5 interleukin 6                     0.287 0.966 0.3387300 0.37 \n",
       "6 interleukin 1 beta                0.312 0.931 0.1256800 0.37 \n",
       "  el                   ei npmids nsnps year_initial year_final\n",
       "1 no reported evidence NA 13     0     2003         2015      \n",
       "2 no reported evidence NA 18     0     2001         2011      \n",
       "3 no reported evidence NA 26     0     2001         2014      \n",
       "4 no reported evidence NA 10     0     2002         2010      \n",
       "5 no reported evidence NA 18     0     2001         2016      \n",
       "6 no reported evidence NA 16     0     1999         2017      "
      ]
     },
     "metadata": {},
     "output_type": "display_data"
    },
    {
     "data": {
      "text/html": [
       "<table>\n",
       "<thead><tr><th scope=col>entrezgene</th><th scope=col>hgnc_symbol</th><th scope=col>dis_score</th></tr></thead>\n",
       "<tbody>\n",
       "\t<tr><td>3576 </td><td>CXCL8</td><td>0.40 </td></tr>\n",
       "\t<tr><td>1401 </td><td>CRP  </td><td>0.40 </td></tr>\n",
       "\t<tr><td>7124 </td><td>TNF  </td><td>0.40 </td></tr>\n",
       "\t<tr><td>7040 </td><td>TGFB1</td><td>0.38 </td></tr>\n",
       "\t<tr><td>3569 </td><td>IL6  </td><td>0.37 </td></tr>\n",
       "\t<tr><td>3553 </td><td>IL1B </td><td>0.37 </td></tr>\n",
       "</tbody>\n",
       "</table>\n"
      ],
      "text/latex": [
       "\\begin{tabular}{r|lll}\n",
       " entrezgene & hgnc\\_symbol & dis\\_score\\\\\n",
       "\\hline\n",
       "\t 3576  & CXCL8 & 0.40 \\\\\n",
       "\t 1401  & CRP   & 0.40 \\\\\n",
       "\t 7124  & TNF   & 0.40 \\\\\n",
       "\t 7040  & TGFB1 & 0.38 \\\\\n",
       "\t 3569  & IL6   & 0.37 \\\\\n",
       "\t 3553  & IL1B  & 0.37 \\\\\n",
       "\\end{tabular}\n"
      ],
      "text/markdown": [
       "\n",
       "| entrezgene | hgnc_symbol | dis_score |\n",
       "|---|---|---|\n",
       "| 3576  | CXCL8 | 0.40  |\n",
       "| 1401  | CRP   | 0.40  |\n",
       "| 7124  | TNF   | 0.40  |\n",
       "| 7040  | TGFB1 | 0.38  |\n",
       "| 3569  | IL6   | 0.37  |\n",
       "| 3553  | IL1B  | 0.37  |\n",
       "\n"
      ],
      "text/plain": [
       "  entrezgene hgnc_symbol dis_score\n",
       "1 3576       CXCL8       0.40     \n",
       "2 1401       CRP         0.40     \n",
       "3 7124       TNF         0.40     \n",
       "4 7040       TGFB1       0.38     \n",
       "5 3569       IL6         0.37     \n",
       "6 3553       IL1B        0.37     "
      ]
     },
     "metadata": {},
     "output_type": "display_data"
    },
    {
     "data": {
      "text/html": [
       "'The number of genes is 201.'"
      ],
      "text/latex": [
       "'The number of genes is 201.'"
      ],
      "text/markdown": [
       "'The number of genes is 201.'"
      ],
      "text/plain": [
       "[1] \"The number of genes is 201.\""
      ]
     },
     "metadata": {},
     "output_type": "display_data"
    }
   ],
   "source": [
    "# load gene expression data\n",
    "expr_data <- read.table(file.path(getwd(), \"data-output\", \"merged_data_final.txt\"), header = T, sep = \"\\t\")\n",
    "\n",
    "# load in disgenet file\n",
    "disgenet <- read.delim(file.path(getwd(), \"data-input\", \"C0021368_disease_gda_summary.tsv\"))\n",
    "\n",
    "# check head of disgenet file\n",
    "head(disgenet)\n",
    "disgenet <- disgenet[,c(\"geneid\", \"symbol\", \"score\")]\n",
    "colnames(disgenet)[c(1,2,3)] <- c(\"entrezgene\", \"hgnc_symbol\", \"dis_score\")\n",
    "\n",
    "# filtered\n",
    "infl <- disgenet[disgenet$dis_score > 0.01,]\n",
    "head(infl)\n",
    "paste0(\"The number of genes is \", nrow(infl), \".\")"
   ]
  },
  {
   "cell_type": "markdown",
   "metadata": {},
   "source": [
    "Lets install STRING in Cytoscape before we move on."
   ]
  },
  {
   "cell_type": "code",
   "execution_count": 5,
   "metadata": {},
   "outputs": [
    {
     "data": {
      "text/html": [
       "'App STRINGapp installed'"
      ],
      "text/latex": [
       "'App STRINGapp installed'"
      ],
      "text/markdown": [
       "'App STRINGapp installed'"
      ],
      "text/plain": [
       "[1] \"App STRINGapp installed\""
      ]
     },
     "metadata": {},
     "output_type": "display_data"
    },
    {
     "name": "stdout",
     "output_type": "stream",
     "text": [
      "[1] \"Available namespaces:\"\n",
      "[1] \"Success: the STRING app is installed\"\n"
     ]
    }
   ],
   "source": [
    "# install string\n",
    "installApp('STRINGapp') \n",
    "if(\"string\" %in% commandsHelp(\"\")) print(\"Success: the STRING app is installed\") else print(\"Warning: STRING app is not installed. Please install the STRING app before proceeding.\")"
   ]
  },
  {
   "cell_type": "markdown",
   "metadata": {},
   "source": [
    "### Network creation\n",
    "Lets create the network using STRING command API."
   ]
  },
  {
   "cell_type": "code",
   "execution_count": 6,
   "metadata": {},
   "outputs": [
    {
     "data": {
      "text/html": [
       "'Loaded network \\'String Network\\' with 208 nodes and 1275 edges'"
      ],
      "text/latex": [
       "'Loaded network \\textbackslash{}'String Network\\textbackslash{}' with 208 nodes and 1275 edges'"
      ],
      "text/markdown": [
       "'Loaded network \\'String Network\\' with 208 nodes and 1275 edges'"
      ],
      "text/plain": [
       "[1] \"Loaded network 'String Network' with 208 nodes and 1275 edges\""
      ]
     },
     "metadata": {},
     "output_type": "display_data"
    },
    {
     "data": {
      "text/html": [
       "<strong>message:</strong> 'Visual Style applied.'"
      ],
      "text/latex": [
       "\\textbf{message:} 'Visual Style applied.'"
      ],
      "text/markdown": [
       "**message:** 'Visual Style applied.'"
      ],
      "text/plain": [
       "                message \n",
       "\"Visual Style applied.\" "
      ]
     },
     "metadata": {},
     "output_type": "display_data"
    }
   ],
   "source": [
    "# create string network from genes and set visual style to default\n",
    "string_cmd <- paste('string protein query taxonID=9606 cutoff=0.9 query=\"',paste(infl$entrezgene, collapse=\",\"),'\"',sep=\"\")\n",
    "commandsGET(string_cmd)\n",
    "\n",
    "setVisualStyle(\"default\")\n",
    "setNodeLabelMapping(table.column = \"display name\")"
   ]
  },
  {
   "cell_type": "code",
   "execution_count": 7,
   "metadata": {},
   "outputs": [],
   "source": [
    "# delete unnecessary columns\n",
    "deleteTableColumn(column = \"description\", table = \"node\")\n",
    "deleteTableColumn(column = \"full name\", table = \"node\")\n",
    "deleteTableColumn(column = \"database identifier\", table = \"node\")\n",
    "deleteTableColumn(column = \"name space\", table = \"node\")\n",
    "deleteTableColumn(column = \"@id\", table = \"node\")\n",
    "deleteTableColumn(column = \"node type\", table = \"node\")\n",
    "deleteTableColumn(column = \"enhancedLabel Passthrough\", table = \"node\")\n",
    "deleteTableColumn(column = \"STRING style\", table = \"node\")\n",
    "deleteTableColumn(column = \"species\", table = \"node\")\n",
    "deleteTableColumn(column = \"sequence\", table = \"node\")\n",
    "deleteTableColumn(column = \"namespace\", table = \"node\")\n",
    "deleteTableColumn(column = \"canonical\", table = \"node\")\n",
    "deleteTableColumn(column = \"canonical name\", table = \"node\")\n",
    "deleteTableColumn(column = \"compartment cytosol\", table = \"node\")\n",
    "deleteTableColumn(column = \"compartment chloroplast\", table = \"node\")\n",
    "deleteTableColumn(column = \"compartment cytoskeleton\", table = \"node\")\n",
    "deleteTableColumn(column = \"compartment extracellular\", table = \"node\")\n",
    "deleteTableColumn(column = \"compartment endosome\", table = \"node\")\n",
    "deleteTableColumn(column = \"compartment endoplasmic reticulum\", table = \"node\")\n",
    "deleteTableColumn(column = \"compartment golgi apparatus\", table = \"node\")\n",
    "deleteTableColumn(column = \"compartment lysosome\", table = \"node\")\n",
    "deleteTableColumn(column = \"compartment mitochondrion\", table = \"node\")\n",
    "deleteTableColumn(column = \"compartment nucleus\", table = \"node\")\n",
    "deleteTableColumn(column = \"compartment vacuole\", table = \"node\")\n",
    "deleteTableColumn(column = \"compartment peroxisome\", table = \"node\")\n",
    "deleteTableColumn(column = \"compartment plasma membrane\", table = \"node\")\n",
    "deleteTableColumn(column = \"image\", table = \"node\")\n",
    "deleteTableColumn(column = \"interactor score\", table = \"node\")\n",
    "deleteTableColumn(column = \"target development level\", table = \"node\")\n",
    "deleteTableColumn(column = \"target family\", table = \"node\")\n",
    "deleteTableColumn(column = \"tissue adrenal gland\", table = \"node\")\n",
    "deleteTableColumn(column = \"tissue atrium\", table = \"node\")\n",
    "deleteTableColumn(column = \"tissue blood\", table = \"node\")\n",
    "deleteTableColumn(column = \"tissue bone\", table = \"node\")\n",
    "deleteTableColumn(column = \"tissue bone marrow\", table = \"node\")\n",
    "deleteTableColumn(column = \"tissue eye\", table = \"node\")\n",
    "deleteTableColumn(column = \"tissue gall bladder\", table = \"node\")\n",
    "deleteTableColumn(column = \"tissue heart\", table = \"node\")\n",
    "deleteTableColumn(column = \"tissue intestine\", table = \"node\")\n",
    "deleteTableColumn(column = \"tissue kidney\", table = \"node\")\n",
    "deleteTableColumn(column = \"tissue left atrium\", table = \"node\")\n",
    "deleteTableColumn(column = \"tissue left ventricle\", table = \"node\")\n",
    "deleteTableColumn(column = \"tissue liver\", table = \"node\")\n",
    "deleteTableColumn(column = \"tissue lung\", table = \"node\")\n",
    "deleteTableColumn(column = \"tissue lymph node\", table = \"node\")\n",
    "deleteTableColumn(column = \"tissue muscle\", table = \"node\")\n",
    "deleteTableColumn(column = \"tissue nervous system\", table = \"node\")\n",
    "deleteTableColumn(column = \"tissue pancreas\", table = \"node\")\n",
    "deleteTableColumn(column = \"tissue right atrium\", table = \"node\")\n",
    "deleteTableColumn(column = \"tissue right ventricle\", table = \"node\")\n",
    "deleteTableColumn(column = \"tissue saliva\", table = \"node\")\n",
    "deleteTableColumn(column = \"tissue skin\", table = \"node\")\n",
    "deleteTableColumn(column = \"tissue spleen\", table = \"node\")\n",
    "deleteTableColumn(column = \"tissue stomach\", table = \"node\")\n",
    "deleteTableColumn(column = \"tissue thyroid gland\", table = \"node\")\n",
    "deleteTableColumn(column = \"tissue urine\", table = \"node\")\n",
    "deleteTableColumn(column = \"tissue ventricle\", table = \"node\")"
   ]
  },
  {
   "cell_type": "markdown",
   "metadata": {},
   "source": [
    "## One gene did not get mapped properly to an HGNC-symbol, namely: TRPV1 (ID:ENSP00000459962). Lets do this manually in the node table, column 'display name'!"
   ]
  },
  {
   "cell_type": "markdown",
   "metadata": {},
   "source": [
    "We have to load in our gene expression data file, and merge this file with the table in cytoscape."
   ]
  },
  {
   "cell_type": "code",
   "execution_count": 8,
   "metadata": {},
   "outputs": [
    {
     "data": {
      "text/html": [
       "'Success: Data loaded in defaultnode table'"
      ],
      "text/latex": [
       "'Success: Data loaded in defaultnode table'"
      ],
      "text/markdown": [
       "'Success: Data loaded in defaultnode table'"
      ],
      "text/plain": [
       "[1] \"Success: Data loaded in defaultnode table\""
      ]
     },
     "metadata": {},
     "output_type": "display_data"
    }
   ],
   "source": [
    "# add gene expression data\n",
    "loadTableData(expr_data, data.key.colum = \"hgnc_symbol\", table.key.column = \"display name\")"
   ]
  },
  {
   "cell_type": "markdown",
   "metadata": {},
   "source": [
    "### Visualization \n",
    "Before we start to visualize our network, we have to perform some manual stuff!\n",
    "Go to 'Tools' -> 'Network Analyzer' -> 'Network Analysis' -> 'Analyze Network...' -> 'OK'\n",
    "\n",
    "Go to 'Layout' and choose 'yFiles Organic Layout'"
   ]
  },
  {
   "cell_type": "markdown",
   "metadata": {},
   "source": [
    "Now lets clone the network that every disease dataset hads its own network and then we will map the gene expression on the respective networks and visualize it.\n",
    "\n",
    "Now we have a network available for every dataset we have, we can set a visual style which maps the gene expression (logFC) and significance (p-value) for every gene node in the network per dataset."
   ]
  },
  {
   "cell_type": "code",
   "execution_count": 9,
   "metadata": {},
   "outputs": [],
   "source": [
    "# Fill in for the Automation function y, z and p. \n",
    "# Whereas negLogFC is the negative logFC cutoff, posLogFC is the positive logFC cutoff and pValue is the p-value.\n",
    "pValue <- 0.05\n",
    "negLogFC <- -0.58\n",
    "posLogFC <- 0.58"
   ]
  },
  {
   "cell_type": "code",
   "execution_count": 13,
   "metadata": {},
   "outputs": [],
   "source": [
    "# create network for every disease and map gene expression data\n",
    "# lock width and height of nodes\n",
    "lockNodeDimensions(TRUE)\n",
    "\n",
    "# create for every gene expression set a own network, using the clone network function\n",
    "# we have 7 gene expression sets so we repeat this function 8 times\n",
    "#diseases <- c(\"BC\",\"LC\",\"MUO\",\"RA\",\"DCM\",\"ICM\",\"SLE\")\n",
    "\n",
    "Automation <- function(y,z,p,disease) {\n",
    "\n",
    "# clone network\n",
    "cloneNetwork(network = \"String Network\")\n",
    "setCurrentNetwork(network=\"String Network_1\")\n",
    "renameNetwork(disease)\n",
    "\n",
    "# Map logFC and pValue per disease for every respective network and add visual style to every network\n",
    "setCurrentNetwork(network = disease)\n",
    "  \n",
    "style.name = paste(\"style_\", disease, sep = \"\")\n",
    "  \n",
    "# map logFC of gene expression data per disease on respective networks\n",
    "mappings <- list(nodeFill <- mapVisualProperty(\"node fill color\", table.column = paste(\"logFC_\", disease, sep = \"\"), \n",
    "                                                 mapping.type = \"continuous\",\n",
    "                                                 c(y,0 ,z),\n",
    "                                                 c(\"#0000FF\", \"#FFFFFF\", \"#FF0000\")),\n",
    "                   \n",
    "                   # map significance per disease on respective networks\n",
    "                   nodeBorder <- mapVisualProperty(\"node border paint\", table.column = paste(\"PValue_\", disease, sep = \"\"),\n",
    "                                                   mapping.type = \"continuous\",\n",
    "                                                   table.column.values = c(0.00, p, 1.00), \n",
    "                                                   c(\"#00FF00\", \"#FFFFFF\", \"#FFFFFF\")),\n",
    "                   \n",
    "                   \n",
    "                   label <- mapVisualProperty(\"Node Label\", table.column = \"display name\",\n",
    "                                              mapping.type = \"passthrough\"))\n",
    "  \n",
    "defaults <- list(NODE_FILL_COLOR = \"#999999\",\n",
    "                   NODE_BORDER_PAINT = \"#999999\",\n",
    "                   NODE_BORDER_WIDTH = 7,\n",
    "                   NODE_LABEL_FONT_SIZE = 18,\n",
    "                   NETWORK_TITLE = disease)\n",
    "  \n",
    "# create and set unique visual style per disease dataset\n",
    "createVisualStyle(style.name, defaults, mappings = mappings)\n",
    "setVisualStyle(style.name)\n",
    "\n",
    "# save disease networks\n",
    "setCurrentNetwork(network = disease)\n",
    "fitContent()\n",
    "  \n",
    "png.file <- file.path(getwd(), \"data-output\", \"images\", paste0(\"STRING_\", z, \"_gene_expr_network\", disease, \".png\"))\n",
    "exportImage(png.file, type = \"png\", resolution=600, zoom=500)\n",
    "  \n",
    "# create subnetwork of significant differentially expressed genes\n",
    "setCurrentNetwork(network = disease)\n",
    "  \n",
    "createColumnFilter(filter.name = \"expr genes\",     column = paste(\"logFC_\", disease, sep = \"\") , c(y,z), \"IS_NOT_BETWEEN\")\n",
    "createColumnFilter(filter.name = \"sig genes\",      column = paste(\"PValue_\", disease, sep = \"\"), p, \"LESS_THAN\")\n",
    "sigexpr <- createCompositeFilter('combined filter', filter.list = c(\"sig genes\", \"expr genes\"), type = \"ALL\")\n",
    "  \n",
    "selectNodes(nodes = sigexpr$nodes, by.col = \"display name\")\n",
    "  \n",
    "createSubnetwork(nodes = \"selected\", subnetwork.name = paste0(\"subnetwork \", disease, \" genes\"))\n",
    "    \n",
    "# save subnetworks genes\n",
    "setCurrentNetwork(network = paste0(\"subnetwork \", disease, \" genes\"))\n",
    "fitContent()\n",
    "  \n",
    "png.file <- file.path(getwd(), \"data-output\", \"images\", paste0(\"STRING_\", z, \"subgene_expr_network\", disease, \".png\"))\n",
    "exportImage(png.file, type = \"png\", resolution=600, zoom=500)\n",
    "\n",
    "}"
   ]
  },
  {
   "cell_type": "code",
   "execution_count": 14,
   "metadata": {},
   "outputs": [
    {
     "name": "stdout",
     "output_type": "stream",
     "text": [
      "[1] \"BC\"\n",
      "[1] \"LC\"\n",
      "[1] \"MUO\"\n",
      "[1] \"RA\"\n",
      "[1] \"DCM\"\n",
      "[1] \"ICM\"\n"
     ]
    }
   ],
   "source": [
    "# fill in abbreviations used for disease gene expression daatasets, same abbreviation used for logFC_x and PValue_x\n",
    "diseases <- c(\"BC\",\"LC\",\"MUO\",\"RA\",\"DCM\",\"ICM\")\n",
    "\n",
    "# loop over function for every disease dataset\n",
    "for(i in 1:length(diseases)) {\n",
    "    print(diseases[i])\n",
    "    Automation(y = negLogFC, z = posLogFC, p = pValue, disease = diseases[i])\n",
    "}\n",
    "\n",
    "# save Cytoscape session file\n",
    "session.file <- file.path(getwd(), \"data-output\", \"networks\", paste0(\"STRING_\", posLogFC, \"_string_networks.cys\"))\n",
    "saveSession(session.file)"
   ]
  },
  {
   "cell_type": "code",
   "execution_count": 12,
   "metadata": {},
   "outputs": [
    {
     "data": {
      "text/plain": [
       "R version 3.5.1 (2018-07-02)\n",
       "Platform: x86_64-w64-mingw32/x64 (64-bit)\n",
       "Running under: Windows 10 x64 (build 17134)\n",
       "\n",
       "Matrix products: default\n",
       "\n",
       "locale:\n",
       "[1] LC_COLLATE=Dutch_Netherlands.1252  LC_CTYPE=Dutch_Netherlands.1252   \n",
       "[3] LC_MONETARY=Dutch_Netherlands.1252 LC_NUMERIC=C                      \n",
       "[5] LC_TIME=Dutch_Netherlands.1252    \n",
       "\n",
       "attached base packages:\n",
       "[1] stats     graphics  grDevices utils     datasets  methods   base     \n",
       "\n",
       "other attached packages:\n",
       "[1] RCy3_2.2.6           RevoUtils_11.0.1     RevoUtilsMath_11.0.0\n",
       "\n",
       "loaded via a namespace (and not attached):\n",
       " [1] igraph_1.2.2        graph_1.60.0        Rcpp_1.0.0         \n",
       " [4] magrittr_1.5        BiocGenerics_0.28.0 uuid_0.1-2         \n",
       " [7] R6_2.3.0            httr_1.4.0          tools_3.5.1        \n",
       "[10] parallel_3.5.1      R.oo_1.22.0         htmltools_0.3.6    \n",
       "[13] digest_0.6.18       crayon_1.3.4        RJSONIO_1.3-1.1    \n",
       "[16] IRdisplay_0.7.0     repr_0.19.1         base64enc_0.1-3    \n",
       "[19] R.utils_2.7.0       curl_3.3            IRkernel_0.8.15    \n",
       "[22] evaluate_0.12       pbdZMQ_0.3-3        compiler_3.5.1     \n",
       "[25] R.methodsS3_1.7.1   stats4_3.5.1        XML_3.98-1.19      \n",
       "[28] jsonlite_1.6        pkgconfig_2.0.2    "
      ]
     },
     "metadata": {},
     "output_type": "display_data"
    }
   ],
   "source": [
    "# information about the session\n",
    "sessionInfo()"
   ]
  }
 ],
 "metadata": {
  "kernelspec": {
   "display_name": "R",
   "language": "R",
   "name": "ir"
  },
  "language_info": {
   "codemirror_mode": "r",
   "file_extension": ".r",
   "mimetype": "text/x-r-source",
   "name": "R",
   "pygments_lexer": "r",
   "version": "3.5.1"
  }
 },
 "nbformat": 4,
 "nbformat_minor": 2
}
