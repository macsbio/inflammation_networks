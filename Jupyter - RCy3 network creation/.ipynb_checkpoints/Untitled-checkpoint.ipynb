{
 "cells": [
  {
   "cell_type": "markdown",
   "metadata": {},
   "source": [
    "# Automation Cytoscape network creation using RCy3 package\n",
    "We are going to use the RCy3 package in R to automate the workflow for network creation.\n",
    "We are using multiple gene epxression datasets acquired from different studies. These datasets contain gene expression profiles of patients with various diseases. \n",
    "The diseases which are going to be used in this notebook are: lung-cancer (LC), breast-cancer (BC), metabolically unhealthy obesity (MUO), rheumatoid arthritis (RA), Rett syndrome frontal cortex (Rett_FC), Rett syndrome temporal cortex (Rett_TC) and systemis lupus erythematosus (SLE).\n",
    "\n",
    "The network will consist of pathways, pathway clusters and the genes which occur in these pathways. These pathways are acquired based on genes associated with inflammation which were retrieved from [DisGeNET](http://www.disgenet.org/home/) and [GeneCards](https://www.genecards.org/). "
   ]
  },
  {
   "cell_type": "markdown",
   "metadata": {},
   "source": [
    "### The following step only works in RStudio. If working in another environment, please set the working directory properly and check if the working directory is correct. "
   ]
  },
  {
   "cell_type": "code",
   "execution_count": null,
   "metadata": {},
   "outputs": [],
   "source": [
    "# set wd to where script file is saved\n",
    "setwd(dirname(rstudioapi::callFun(\"getActiveDocumentContext\")$path))"
   ]
  },
  {
   "cell_type": "code",
   "execution_count": 1,
   "metadata": {},
   "outputs": [
    {
     "data": {
      "text/html": [
       "'C:/Users/Laurent/Jupyter - RCy3 network creation'"
      ],
      "text/latex": [
       "'C:/Users/Laurent/Jupyter - RCy3 network creation'"
      ],
      "text/markdown": [
       "'C:/Users/Laurent/Jupyter - RCy3 network creation'"
      ],
      "text/plain": [
       "[1] \"C:/Users/Laurent/Jupyter - RCy3 network creation\""
      ]
     },
     "metadata": {},
     "output_type": "display_data"
    }
   ],
   "source": [
    "# check wd\n",
    "getwd()"
   ]
  },
  {
   "cell_type": "code",
   "execution_count": 3,
   "metadata": {},
   "outputs": [],
   "source": [
    "# load library\n",
    "library(RCy3)"
   ]
  },
  {
   "cell_type": "markdown",
   "metadata": {},
   "source": [
    "### We first start with opening cytoscape and checking if we are connected"
   ]
  },
  {
   "cell_type": "code",
   "execution_count": 4,
   "metadata": {},
   "outputs": [
    {
     "data": {
      "text/html": [
       "'You are connected to Cytoscape!'"
      ],
      "text/latex": [
       "'You are connected to Cytoscape!'"
      ],
      "text/markdown": [
       "'You are connected to Cytoscape!'"
      ],
      "text/plain": [
       "[1] \"You are connected to Cytoscape!\""
      ]
     },
     "metadata": {},
     "output_type": "display_data"
    },
    {
     "data": {
      "text/html": [
       "<dl class=dl-horizontal>\n",
       "\t<dt>apiVersion</dt>\n",
       "\t\t<dd>'v1'</dd>\n",
       "\t<dt>cytoscapeVersion</dt>\n",
       "\t\t<dd>'3.7.1'</dd>\n",
       "</dl>\n"
      ],
      "text/latex": [
       "\\begin{description*}\n",
       "\\item[apiVersion] 'v1'\n",
       "\\item[cytoscapeVersion] '3.7.1'\n",
       "\\end{description*}\n"
      ],
      "text/markdown": [
       "apiVersion\n",
       ":   'v1'cytoscapeVersion\n",
       ":   '3.7.1'\n",
       "\n"
      ],
      "text/plain": [
       "      apiVersion cytoscapeVersion \n",
       "            \"v1\"          \"3.7.1\" "
      ]
     },
     "metadata": {},
     "output_type": "display_data"
    }
   ],
   "source": [
    "# check if cytoscape is open and check version\n",
    "cytoscapePing()\n",
    "cytoscapeVersionInfo()"
   ]
  },
  {
   "cell_type": "markdown",
   "metadata": {},
   "source": [
    "### Network creation\n",
    "To begin with, we will load in our node and edge files to create our network."
   ]
  },
  {
   "cell_type": "code",
   "execution_count": 7,
   "metadata": {},
   "outputs": [],
   "source": [
    "# load in data of network\n",
    "nodes <- as.data.frame(read.table(file.path(getwd(), \"Network\", \"nodes_network_final.txt\"), header = T, sep = \"\\t\", stringsAsFactors = FALSE))\n",
    "edges <- as.data.frame(read.table(file.path(getwd(), \"Network\", \"edges_network_final.txt\"), header = T, sep = \"\\t\", stringsAsFactors = FALSE))"
   ]
  },
  {
   "cell_type": "markdown",
   "metadata": {},
   "source": [
    "We have to clean these files so they are usable for network creation."
   ]
  },
  {
   "cell_type": "code",
   "execution_count": 8,
   "metadata": {},
   "outputs": [],
   "source": [
    "# clean up data\n",
    "colnames(nodes)[1] <- \"id\"\n",
    "nodes$id <- as.character(nodes$id)\n",
    "edges <- edges[,c(-3,-4)]\n",
    "colnames(edges)[c(1,2)] <- c(\"source\", \"target\") \n",
    "edges$interaction <- \"interacts\"\n",
    "edges$target <- as.character(edges$target)"
   ]
  },
  {
   "cell_type": "markdown",
   "metadata": {},
   "source": [
    "Now we can create our network in Cytoscape"
   ]
  },
  {
   "cell_type": "code",
   "execution_count": 9,
   "metadata": {},
   "outputs": [
    {
     "name": "stdout",
     "output_type": "stream",
     "text": [
      "Loading data...\n",
      "Applying default style...\n",
      "Applying preferred layout...\n"
     ]
    },
    {
     "data": {
      "text/html": [
       "<strong>networkSUID:</strong> 28392"
      ],
      "text/latex": [
       "\\textbf{networkSUID:} 28392"
      ],
      "text/markdown": [
       "**networkSUID:** 28392"
      ],
      "text/plain": [
       "networkSUID \n",
       "      28392 "
      ]
     },
     "metadata": {},
     "output_type": "display_data"
    }
   ],
   "source": [
    "# create network from the data frames\n",
    "createNetworkFromDataFrames(nodes, edges, title = \"MyNetwork\", collection = \"MyCollection\")"
   ]
  },
  {
   "cell_type": "markdown",
   "metadata": {},
   "source": [
    "We have to load in our gene expression data file, and merge this file with the table in cytoscape."
   ]
  },
  {
   "cell_type": "code",
   "execution_count": 5,
   "metadata": {},
   "outputs": [
    {
     "data": {
      "text/html": [
       "'Success: Data loaded in defaultnode table'"
      ],
      "text/latex": [
       "'Success: Data loaded in defaultnode table'"
      ],
      "text/markdown": [
       "'Success: Data loaded in defaultnode table'"
      ],
      "text/plain": [
       "[1] \"Success: Data loaded in defaultnode table\""
      ]
     },
     "metadata": {},
     "output_type": "display_data"
    },
    {
     "data": {
      "text/html": [
       "<table>\n",
       "<thead><tr><th></th><th scope=col>SUID</th><th scope=col>shared name</th><th scope=col>id</th><th scope=col>Type</th><th scope=col>entrezgene</th><th scope=col>hgnc_symbol</th><th scope=col>logFC_BC</th><th scope=col>PValue_BC</th><th scope=col>logFC_LC</th><th scope=col>PValue_LC</th><th scope=col>...</th><th scope=col>logFC_RA</th><th scope=col>PValue_RA</th><th scope=col>logFC_RETT_FC</th><th scope=col>PValue_RETT_FC</th><th scope=col>logFC_RETT_TC</th><th scope=col>PValue_RETT_TC</th><th scope=col>logFC_SLE</th><th scope=col>PValue_SLE</th><th scope=col>name</th><th scope=col>selected</th></tr></thead>\n",
       "<tbody>\n",
       "\t<tr><th scope=row>22035</th><td>22035       </td><td>7432        </td><td>7432        </td><td>InflGene    </td><td>7432        </td><td>VIP         </td><td>-3.9175500  </td><td>0.000019400 </td><td>-0.3489270  </td><td>0.684832200 </td><td>...         </td><td>-0.15854500 </td><td>0.111485300 </td><td>-0.30237210 </td><td>0.50620730  </td><td>-1.39849000 </td><td>0.006897598 </td><td> 1.2198650  </td><td>2.080000e-14</td><td>7432        </td><td>FALSE       </td></tr>\n",
       "\t<tr><th scope=row>22109</th><td>22109       </td><td>335         </td><td>335         </td><td>InflGene    </td><td> 335        </td><td>APOA1       </td><td> 1.7374780  </td><td>0.058272340 </td><td>-2.8831870  </td><td>0.002499149 </td><td>...         </td><td>-0.03512625 </td><td>0.678017000 </td><td> 0.07255186 </td><td>0.46170530  </td><td> 0.17475660 </td><td>0.089478390 </td><td> 0.8043408  </td><td>6.304733e-03</td><td>335         </td><td>FALSE       </td></tr>\n",
       "\t<tr><th scope=row>21870</th><td>21870       </td><td>3557        </td><td>3557        </td><td>InflGene    </td><td>3557        </td><td>IL1RN       </td><td> 0.2388055  </td><td>0.794432400 </td><td>-0.4649065  </td><td>0.444993800 </td><td>...         </td><td> 0.28616750 </td><td>0.010752670 </td><td> 0.31520210 </td><td>0.01112743  </td><td> 0.13611920 </td><td>0.197996000 </td><td>-0.7500728  </td><td>1.460000e-08</td><td>3557        </td><td>FALSE       </td></tr>\n",
       "\t<tr><th scope=row>22382</th><td>22382       </td><td>3106        </td><td>3106        </td><td>InflGene    </td><td>3106        </td><td>HLA-B       </td><td> 0.7111358  </td><td>0.197116600 </td><td>-0.3765966  </td><td>0.569624200 </td><td>...         </td><td> 0.63458520 </td><td>0.000859463 </td><td> 0.00000000 </td><td>0.00000000  </td><td> 0.00000000 </td><td>0.000000000 </td><td>-0.8482147  </td><td>2.428460e-02</td><td>3106        </td><td>FALSE       </td></tr>\n",
       "\t<tr><th scope=row>22405</th><td>22405       </td><td>721         </td><td>721         </td><td>InflGene    </td><td> 721        </td><td>C4B         </td><td> 4.4917280  </td><td>0.007113589 </td><td>-1.6895840  </td><td>0.006411302 </td><td>...         </td><td> 0.00000000 </td><td>0.000000000 </td><td> 0.12002100 </td><td>0.18165100  </td><td> 0.01946219 </td><td>0.823110700 </td><td> 1.0459490  </td><td>1.240478e-03</td><td>721         </td><td>FALSE       </td></tr>\n",
       "\t<tr><th scope=row>21916</th><td>21916       </td><td>4312        </td><td>4312        </td><td>InflGene    </td><td>4312        </td><td>MMP1        </td><td> 4.0008590  </td><td>0.010069650 </td><td> 4.0814740  </td><td>0.008611911 </td><td>...         </td><td> 7.15185100 </td><td>0.000000262 </td><td> 0.11098090 </td><td>0.32365450  </td><td> 0.08040100 </td><td>0.470936100 </td><td> 0.8922701  </td><td>1.458923e-02</td><td>4312        </td><td>FALSE       </td></tr>\n",
       "</tbody>\n",
       "</table>\n"
      ],
      "text/latex": [
       "\\begin{tabular}{r|llllllllllllllllllllll}\n",
       "  & SUID & shared name & id & Type & entrezgene & hgnc\\_symbol & logFC\\_BC & PValue\\_BC & logFC\\_LC & PValue\\_LC & ... & logFC\\_RA & PValue\\_RA & logFC\\_RETT\\_FC & PValue\\_RETT\\_FC & logFC\\_RETT\\_TC & PValue\\_RETT\\_TC & logFC\\_SLE & PValue\\_SLE & name & selected\\\\\n",
       "\\hline\n",
       "\t22035 & 22035        & 7432         & 7432         & InflGene     & 7432         & VIP          & -3.9175500   & 0.000019400  & -0.3489270   & 0.684832200  & ...          & -0.15854500  & 0.111485300  & -0.30237210  & 0.50620730   & -1.39849000  & 0.006897598  &  1.2198650   & 2.080000e-14 & 7432         & FALSE       \\\\\n",
       "\t22109 & 22109        & 335          & 335          & InflGene     &  335         & APOA1        &  1.7374780   & 0.058272340  & -2.8831870   & 0.002499149  & ...          & -0.03512625  & 0.678017000  &  0.07255186  & 0.46170530   &  0.17475660  & 0.089478390  &  0.8043408   & 6.304733e-03 & 335          & FALSE       \\\\\n",
       "\t21870 & 21870        & 3557         & 3557         & InflGene     & 3557         & IL1RN        &  0.2388055   & 0.794432400  & -0.4649065   & 0.444993800  & ...          &  0.28616750  & 0.010752670  &  0.31520210  & 0.01112743   &  0.13611920  & 0.197996000  & -0.7500728   & 1.460000e-08 & 3557         & FALSE       \\\\\n",
       "\t22382 & 22382        & 3106         & 3106         & InflGene     & 3106         & HLA-B        &  0.7111358   & 0.197116600  & -0.3765966   & 0.569624200  & ...          &  0.63458520  & 0.000859463  &  0.00000000  & 0.00000000   &  0.00000000  & 0.000000000  & -0.8482147   & 2.428460e-02 & 3106         & FALSE       \\\\\n",
       "\t22405 & 22405        & 721          & 721          & InflGene     &  721         & C4B          &  4.4917280   & 0.007113589  & -1.6895840   & 0.006411302  & ...          &  0.00000000  & 0.000000000  &  0.12002100  & 0.18165100   &  0.01946219  & 0.823110700  &  1.0459490   & 1.240478e-03 & 721          & FALSE       \\\\\n",
       "\t21916 & 21916        & 4312         & 4312         & InflGene     & 4312         & MMP1         &  4.0008590   & 0.010069650  &  4.0814740   & 0.008611911  & ...          &  7.15185100  & 0.000000262  &  0.11098090  & 0.32365450   &  0.08040100  & 0.470936100  &  0.8922701   & 1.458923e-02 & 4312         & FALSE       \\\\\n",
       "\\end{tabular}\n"
      ],
      "text/markdown": [
       "\n",
       "| <!--/--> | SUID | shared name | id | Type | entrezgene | hgnc_symbol | logFC_BC | PValue_BC | logFC_LC | PValue_LC | ... | logFC_RA | PValue_RA | logFC_RETT_FC | PValue_RETT_FC | logFC_RETT_TC | PValue_RETT_TC | logFC_SLE | PValue_SLE | name | selected |\n",
       "|---|---|---|---|---|---|---|---|---|---|---|---|---|---|---|---|---|---|---|---|---|---|\n",
       "| 22035 | 22035        | 7432         | 7432         | InflGene     | 7432         | VIP          | -3.9175500   | 0.000019400  | -0.3489270   | 0.684832200  | ...          | -0.15854500  | 0.111485300  | -0.30237210  | 0.50620730   | -1.39849000  | 0.006897598  |  1.2198650   | 2.080000e-14 | 7432         | FALSE        |\n",
       "| 22109 | 22109        | 335          | 335          | InflGene     |  335         | APOA1        |  1.7374780   | 0.058272340  | -2.8831870   | 0.002499149  | ...          | -0.03512625  | 0.678017000  |  0.07255186  | 0.46170530   |  0.17475660  | 0.089478390  |  0.8043408   | 6.304733e-03 | 335          | FALSE        |\n",
       "| 21870 | 21870        | 3557         | 3557         | InflGene     | 3557         | IL1RN        |  0.2388055   | 0.794432400  | -0.4649065   | 0.444993800  | ...          |  0.28616750  | 0.010752670  |  0.31520210  | 0.01112743   |  0.13611920  | 0.197996000  | -0.7500728   | 1.460000e-08 | 3557         | FALSE        |\n",
       "| 22382 | 22382        | 3106         | 3106         | InflGene     | 3106         | HLA-B        |  0.7111358   | 0.197116600  | -0.3765966   | 0.569624200  | ...          |  0.63458520  | 0.000859463  |  0.00000000  | 0.00000000   |  0.00000000  | 0.000000000  | -0.8482147   | 2.428460e-02 | 3106         | FALSE        |\n",
       "| 22405 | 22405        | 721          | 721          | InflGene     |  721         | C4B          |  4.4917280   | 0.007113589  | -1.6895840   | 0.006411302  | ...          |  0.00000000  | 0.000000000  |  0.12002100  | 0.18165100   |  0.01946219  | 0.823110700  |  1.0459490   | 1.240478e-03 | 721          | FALSE        |\n",
       "| 21916 | 21916        | 4312         | 4312         | InflGene     | 4312         | MMP1         |  4.0008590   | 0.010069650  |  4.0814740   | 0.008611911  | ...          |  7.15185100  | 0.000000262  |  0.11098090  | 0.32365450   |  0.08040100  | 0.470936100  |  0.8922701   | 1.458923e-02 | 4312         | FALSE        |\n",
       "\n"
      ],
      "text/plain": [
       "      SUID  shared name id   Type     entrezgene hgnc_symbol logFC_BC  \n",
       "22035 22035 7432        7432 InflGene 7432       VIP         -3.9175500\n",
       "22109 22109 335         335  InflGene  335       APOA1        1.7374780\n",
       "21870 21870 3557        3557 InflGene 3557       IL1RN        0.2388055\n",
       "22382 22382 3106        3106 InflGene 3106       HLA-B        0.7111358\n",
       "22405 22405 721         721  InflGene  721       C4B          4.4917280\n",
       "21916 21916 4312        4312 InflGene 4312       MMP1         4.0008590\n",
       "      PValue_BC   logFC_LC   PValue_LC   ... logFC_RA    PValue_RA  \n",
       "22035 0.000019400 -0.3489270 0.684832200 ... -0.15854500 0.111485300\n",
       "22109 0.058272340 -2.8831870 0.002499149 ... -0.03512625 0.678017000\n",
       "21870 0.794432400 -0.4649065 0.444993800 ...  0.28616750 0.010752670\n",
       "22382 0.197116600 -0.3765966 0.569624200 ...  0.63458520 0.000859463\n",
       "22405 0.007113589 -1.6895840 0.006411302 ...  0.00000000 0.000000000\n",
       "21916 0.010069650  4.0814740 0.008611911 ...  7.15185100 0.000000262\n",
       "      logFC_RETT_FC PValue_RETT_FC logFC_RETT_TC PValue_RETT_TC logFC_SLE \n",
       "22035 -0.30237210   0.50620730     -1.39849000   0.006897598     1.2198650\n",
       "22109  0.07255186   0.46170530      0.17475660   0.089478390     0.8043408\n",
       "21870  0.31520210   0.01112743      0.13611920   0.197996000    -0.7500728\n",
       "22382  0.00000000   0.00000000      0.00000000   0.000000000    -0.8482147\n",
       "22405  0.12002100   0.18165100      0.01946219   0.823110700     1.0459490\n",
       "21916  0.11098090   0.32365450      0.08040100   0.470936100     0.8922701\n",
       "      PValue_SLE   name selected\n",
       "22035 2.080000e-14 7432 FALSE   \n",
       "22109 6.304733e-03 335  FALSE   \n",
       "21870 1.460000e-08 3557 FALSE   \n",
       "22382 2.428460e-02 3106 FALSE   \n",
       "22405 1.240478e-03 721  FALSE   \n",
       "21916 1.458923e-02 4312 FALSE   "
      ]
     },
     "metadata": {},
     "output_type": "display_data"
    }
   ],
   "source": [
    "# load data set with gene expression values (logFC, p.value)\n",
    "expr_data <- read.table(file.path(getwd(), \"expr_data\", \"merged_data_final.txt\"), header = T, sep =\"\\t\")\n",
    "\n",
    "# load data into cytoscape\n",
    "loadTableData(expr_data, data.key.colum = \"entrezgene\", table.key.column = \"shared name\")\n",
    "\n",
    "# check if tables are well merged\n",
    "nodeTable <- getTableColumns(table = \"node\")\n",
    "head(nodeTable)"
   ]
  },
  {
   "cell_type": "markdown",
   "metadata": {},
   "source": [
    "### Visualization \n",
    "Before we start to visualize our network, we have to perform some manual stuff! "
   ]
  },
  {
   "cell_type": "code",
   "execution_count": 10,
   "metadata": {},
   "outputs": [],
   "source": [
    "# first we will get rid off the manual stuff\n",
    "system('CMD /C \"ECHO To analyze the network we have to go to Cytoscape. First Open cytoscape go to Tools then NetworkAnalyzer then Network Analysis then Analyze Network. Treat the network as unidirected and click OK. We analyzed the network now we want to change the layout of the network. Go to Layout then yFiles Organic Layout. Close this message box when finished, and return to R. && PAUSE\"', \n",
    "       invisible=FALSE, wait=FALSE)"
   ]
  },
  {
   "cell_type": "markdown",
   "metadata": {},
   "source": [
    "Now everthing is loaded into cytoscape and the manual stuff is done, we can working on the automatization of the visual style."
   ]
  },
  {
   "cell_type": "code",
   "execution_count": 11,
   "metadata": {},
   "outputs": [],
   "source": [
    "# lock width and height of nodes\n",
    "lockNodeDimensions(TRUE)"
   ]
  },
  {
   "cell_type": "markdown",
   "metadata": {},
   "source": [
    "For every dataset we would like to create a own network. We will do this using the clone network function."
   ]
  },
  {
   "cell_type": "code",
   "execution_count": 12,
   "metadata": {},
   "outputs": [],
   "source": [
    "# we have 7 gene expression sets so we repeat this function 8 times, we will use a repeat loop for this\n",
    "diseases <- c(\"BC\",\"LC\",\"MUO\",\"RA\",\"RETT_FC\",\"RETT_TC\",\"SLE\")\n",
    "\n",
    "x <- 1\n",
    "repeat {\n",
    "  cloneNetwork(network = \"MyNetwork\")\n",
    "  setCurrentNetwork(network=\"MyNetwork_1\")\n",
    "  renameNetwork(diseases[x])\n",
    "  x = x + 1\n",
    "  if (x == length(diseases)+1){\n",
    "  print(\"Done!\")\n",
    "  break}\n",
    "}"
   ]
  },
  {
   "cell_type": "markdown",
   "metadata": {},
   "source": [
    "Now we have a network available for every dataset we have, we can set a visual style which maps the gene expression (logFC) and significance (p-value) for every gene node in the network per dataset."
   ]
  },
  {
   "cell_type": "code",
   "execution_count": null,
   "metadata": {},
   "outputs": [],
   "source": [
    "# Map logFC and pValue per disease for every respective network and add visual style to every network\n",
    "x <- 1\n",
    "repeat {\n",
    "  setCurrentNetwork(network = diseases[x])\n",
    "  \n",
    "  style.name = paste(\"style_\", diseases[x], sep = \"\")\n",
    "  \n",
    "  # map logFC of gene expression data per disease on respective networks\n",
    "  mappings <- list(nodeFill <- mapVisualProperty(\"node fill color\", table.column = paste(\"logFC_\", diseases[x] , sep = \"\"), \n",
    "                                    mapping.type = \"continuous\",\n",
    "                                    c(-0.58,0 ,0.58),\n",
    "                                    c(\"#0000FF\", \"#FFFFFF\", \"#FF0000\")),\n",
    "  \n",
    "  # map significance per disease on respective networks\n",
    "  nodeBorder <- mapVisualProperty(\"node border paint\", table.column = paste(\"PValue_\", diseases[x], sep = \"\"),\n",
    "                                    mapping.type = \"continuous\",\n",
    "                                    table.column.values = c(0.00, 0.05, 1.00), \n",
    "                                    c(\"#00FF00\", \"#FFFFFF\", \"#FFFFFF\")),\n",
    "  \n",
    "  # map node shapes\n",
    "  nodeShape <- mapVisualProperty(\"Node Shape\", table.column = \"Type\", \n",
    "                                    mapping.type = \"discrete\", \n",
    "                                    table.column.values = c(\"Gene\", \"Pathway\", \"Cluster\", \"InflGene\"),\n",
    "                                    c(\"DIAMOND\", \"ELLIPSE\", \"ROUND_RECTANGLE\", \"VEE\")),\n",
    "  \n",
    "  label <- mapVisualProperty(\"Node Label\", table.column = \"shared name\",\n",
    "                             mapping.type = \"passthrough\"))\n",
    "\n",
    "  defaults <- list(NODE_FILL_COLOR = \"#999999\",\n",
    "                   NODE_BORDER_PAINT = \"#999999\",\n",
    "                   NODE_BORDER_WIDTH = 7,\n",
    "                   NODE_LABEL_FONT_SIZE = 18,\n",
    "                   NETWORK_TITLE = diseases[x])\n",
    "  \n",
    "  # create and set unique visual style per disease dataset\n",
    "  createVisualStyle(style.name, defaults, mappings = mappings)\n",
    "  setVisualStyle(style.name)\n",
    "\n",
    "  x = x + 1\n",
    "  if (x == length(diseases)+1){\n",
    "    print(\"Done!\")\n",
    "    break}\n",
    "}"
   ]
  },
  {
   "cell_type": "markdown",
   "metadata": {},
   "source": [
    "Before we are going to select nodes (which we cant deselect...), we are going to save images of the main networks. We do this before selecting nodes so that our images don't contain the yellow highlighted selected nodes. Prior to this step, make sure there are no images saved with the same name, otherwise this part will not work!"
   ]
  },
  {
   "cell_type": "code",
   "execution_count": null,
   "metadata": {},
   "outputs": [],
   "source": [
    "# save disease networks\n",
    "x <- 1\n",
    "repeat {\n",
    "  setCurrentNetwork(network = diseases[x])\n",
    "  fitContent()\n",
    "  \n",
    "  png.file <- file.path(getwd(), \"Images\", \"networks\", paste(\"gene_expr_network\", diseases[x], \".png\", sep = \"\"))\n",
    "  exportImage(png.file, type = \"png\", resolution=600, zoom=500)\n",
    "  \n",
    "  x = x + 1\n",
    "  if (x == length(diseases)+1){\n",
    "    print(\"Done!\")\n",
    "    break}\n",
    "}"
   ]
  },
  {
   "cell_type": "markdown",
   "metadata": {},
   "source": [
    "### Subnetwork creation\n",
    "We are also interested in the significant differentially expressed genes and inflammation associated genes. So lets make subnetworks out of these properties!"
   ]
  },
  {
   "cell_type": "code",
   "execution_count": null,
   "metadata": {},
   "outputs": [],
   "source": [
    "# create subnetwork of significant differentially expressed genes\n",
    "x <- 1\n",
    "repeat {\n",
    "  setCurrentNetwork(network = diseases[x])\n",
    "  \n",
    "  createColumnFilter(filter.name = \"expr genes\",     column = paste(\"logFC_\", diseases[x], sep = \"\") , c(-0.58,0.58), \"IS_NOT_BETWEEN\")\n",
    "  createColumnFilter(filter.name = \"sig genes\",      column = paste(\"PValue_\", diseases[x], sep = \"\"), 0.05, \"LESS_THAN\")\n",
    "  sigexpr <- createCompositeFilter('combined filter', filter.list = c(\"sig genes\", \"expr genes\"), type = \"ALL\")\n",
    "  \n",
    "  pathways <- createColumnFilter(filter.name = \"Pathway filter\", column = \"Type\", \"Pathway\", \"IS\")\n",
    "  clusters <- createColumnFilter(filter.name = \"Cluster filter\", column = \"Type\", \"Cluster\", \"IS\")\n",
    "  \n",
    "  selectNodes(nodes = c(pathways$nodes, clusters$nodes, sigexpr$nodes), by.col = \"shared name\")\n",
    "  \n",
    "  createSubnetwork(nodes = \"selected\", subnetwork.name = paste(\"subnetwork \", diseases[x], \" genes\", sep = \"\"))\n",
    "  \n",
    "  x = x + 1\n",
    "  if (x == length(diseases)+1){\n",
    "    print(\"Done!\")\n",
    "    break}\n",
    "}"
   ]
  },
  {
   "cell_type": "code",
   "execution_count": null,
   "metadata": {},
   "outputs": [],
   "source": [
    "# create subnetwork of significant differentially expressed inflammation genes\n",
    "x <- 1\n",
    "repeat {\n",
    "  setCurrentNetwork(network = diseases[x])\n",
    "  \n",
    "  createColumnFilter(filter.name = \"Infl filter\",    column = \"Type\", \"InflGene\", \"IS\")\n",
    "  createColumnFilter(filter.name = \"expr genes\",     column = paste(\"logFC_\", diseases[x], sep = \"\") , c(-0.58,0.58), \"IS_NOT_BETWEEN\")\n",
    "  createColumnFilter(filter.name = \"sig genes\",      column = paste(\"PValue_\", diseases[x], sep = \"\"), 0.05, \"LESS_THAN\")\n",
    "  sigexpr <- createCompositeFilter('combined filter', filter.list = c(\"Infl filter\", \"sig genes\", \"expr genes\"), type = \"ALL\")\n",
    "  \n",
    "  pathways <- createColumnFilter(filter.name = \"Pathway filter\", column = \"Type\", \"Pathway\", \"IS\")\n",
    "  clusters <- createColumnFilter(filter.name = \"Cluster filter\", column = \"Type\", \"Cluster\", \"IS\")\n",
    "  \n",
    "  selectNodes(nodes = c(pathways$nodes, clusters$nodes, sigexpr$nodes), by.col = \"shared name\")\n",
    "  \n",
    "  createSubnetwork(nodes = \"selected\", subnetwork.name = paste(\"subnetwork \", diseases[x], \" inflGenes\",sep = \"\"))\n",
    "  \n",
    "  x = x + 1\n",
    "  if (x == length(diseases)+1){\n",
    "    print(\"Done!\")\n",
    "    break}\n",
    "}"
   ]
  },
  {
   "cell_type": "markdown",
   "metadata": {},
   "source": [
    "### Saving everything\n",
    "We are almost finished! We already saved the images of the main networks for every disease, but we still want to save the images of the subnetworks. So lets do that, and after we will save the cytoscape session so nothing is lost."
   ]
  },
  {
   "cell_type": "code",
   "execution_count": null,
   "metadata": {},
   "outputs": [],
   "source": [
    "# save subnetworks genes\n",
    "subgenes <- c(\"subnetwork BC genes\",\"subnetwork LC genes\",\"subnetwork MUO genes\",\n",
    "              \"subnetwork RA genes\",\"subnetwork RETT_FC genes\",\n",
    "              \"subnetwork RETT_TC genes\",\"subnetwork SLE genes\")\n",
    "x <- 1\n",
    "repeat {\n",
    "  setCurrentNetwork(network = subgenes[x])\n",
    "  fitContent()\n",
    "  \n",
    "  png.file <- file.path(getwd(), \"Images\", \"subGeneNetworks\", paste(\"subgene_expr_network\", diseases[x], \".png\", sep = \"\"))\n",
    "  exportImage(png.file, type = \"png\", resolution=600, zoom=500)\n",
    "  \n",
    "  x = x + 1\n",
    "  if (x == length(diseases)+1){\n",
    "    print(\"Done!\")\n",
    "    break}\n",
    "}"
   ]
  },
  {
   "cell_type": "code",
   "execution_count": null,
   "metadata": {},
   "outputs": [],
   "source": [
    "# save subnetworks inflammation genes\n",
    "subInflGenes <- c(\"subnetwork BC inflGenes\",\"subnetwork LC inflGenes\",\"subnetwork MUO inflGenes\",\n",
    "              \"subnetwork RA inflGenes\",\"subnetwork RETT_FC inflGenes\",\n",
    "              \"subnetwork RETT_TC inflGenes\",\"subnetwork SLE inflGenes\")\n",
    "x <- 1\n",
    "repeat {\n",
    "  setCurrentNetwork(network = subInflGenes[x])\n",
    "  fitContent()\n",
    "  \n",
    "  png.file <- file.path(getwd(), \"Images\", \"subInflGeneNetworks\", paste(\"subinflgene_expr_network\", diseases[x], \".png\", sep = \"\"))\n",
    "  exportImage(png.file, type = \"png\", resolution=600, zoom=500)\n",
    "  \n",
    "  x = x + 1\n",
    "  if (x == length(diseases)+1){\n",
    "    print(\"Done!\")\n",
    "    break}\n",
    "}"
   ]
  },
  {
   "cell_type": "code",
   "execution_count": null,
   "metadata": {},
   "outputs": [],
   "source": [
    "# save Cytoscape session file\n",
    "session.file <- file.path(getwd(), \"Network\", \"gene_expr_networks.cys\")\n",
    "saveSession(session.file)"
   ]
  }
 ],
 "metadata": {
  "kernelspec": {
   "display_name": "R",
   "language": "R",
   "name": "ir"
  },
  "language_info": {
   "codemirror_mode": "r",
   "file_extension": ".r",
   "mimetype": "text/x-r-source",
   "name": "R",
   "pygments_lexer": "r",
   "version": "3.5.1"
  }
 },
 "nbformat": 4,
 "nbformat_minor": 2
}
