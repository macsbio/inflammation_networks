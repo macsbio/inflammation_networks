{
 "cells": [
  {
   "cell_type": "markdown",
   "metadata": {},
   "source": [
    "# Automation Cytoscape network creation using RCy3 package\n",
    "We are going to use the RCy3 package in R to automate the workflow for network creation.\n",
    "We are using multiple gene epxression datasets acquired from different studies. These datasets contain gene expression profiles of patients with various diseases. \n",
    "The diseases which are going to be used in this notebook are: lung-cancer (LC), breast-cancer (BC), metabolically unhealthy obesity (MUO), rheumatoid arthritis (RA), Rett syndrome frontal cortex (Rett_FC), Rett syndrome temporal cortex (Rett_TC) and systemis lupus erythematosus (SLE).\n",
    "\n",
    "The network will consist of pathways, pathway clusters and the genes which occur in these pathways. These pathways are acquired based on genes associated with inflammation which were retrieved from [DisGeNET](http://www.disgenet.org/home/) and [GeneCards](https://www.genecards.org/). "
   ]
  },
  {
   "cell_type": "markdown",
   "metadata": {},
   "source": [
    "### The following step only works in RStudio. If working in another environment, please set the working directory properly and check if the working directory is correct. "
   ]
  },
  {
   "cell_type": "code",
   "execution_count": null,
   "metadata": {},
   "outputs": [],
   "source": [
    "# set wd to where script file is saved\n",
    "setwd(dirname(rstudioapi::callFun(\"getActiveDocumentContext\")$path))"
   ]
  },
  {
   "cell_type": "code",
   "execution_count": 1,
   "metadata": {},
   "outputs": [
    {
     "data": {
      "text/html": [
       "'C:/Users/Laurent/Jupyter - RCy3 network creation'"
      ],
      "text/latex": [
       "'C:/Users/Laurent/Jupyter - RCy3 network creation'"
      ],
      "text/markdown": [
       "'C:/Users/Laurent/Jupyter - RCy3 network creation'"
      ],
      "text/plain": [
       "[1] \"C:/Users/Laurent/Jupyter - RCy3 network creation\""
      ]
     },
     "metadata": {},
     "output_type": "display_data"
    }
   ],
   "source": [
    "# check wd\n",
    "getwd()"
   ]
  },
  {
   "cell_type": "code",
   "execution_count": 10,
   "metadata": {},
   "outputs": [],
   "source": [
    "# load library\n",
    "library(RCy3)"
   ]
  },
  {
   "cell_type": "markdown",
   "metadata": {},
   "source": [
    "### We first start with opening cytoscape and checking if we are connected"
   ]
  },
  {
   "cell_type": "code",
   "execution_count": 11,
   "metadata": {},
   "outputs": [
    {
     "data": {
      "text/html": [
       "'You are connected to Cytoscape!'"
      ],
      "text/latex": [
       "'You are connected to Cytoscape!'"
      ],
      "text/markdown": [
       "'You are connected to Cytoscape!'"
      ],
      "text/plain": [
       "[1] \"You are connected to Cytoscape!\""
      ]
     },
     "metadata": {},
     "output_type": "display_data"
    },
    {
     "data": {
      "text/html": [
       "<dl class=dl-horizontal>\n",
       "\t<dt>apiVersion</dt>\n",
       "\t\t<dd>'v1'</dd>\n",
       "\t<dt>cytoscapeVersion</dt>\n",
       "\t\t<dd>'3.7.1'</dd>\n",
       "</dl>\n"
      ],
      "text/latex": [
       "\\begin{description*}\n",
       "\\item[apiVersion] 'v1'\n",
       "\\item[cytoscapeVersion] '3.7.1'\n",
       "\\end{description*}\n"
      ],
      "text/markdown": [
       "apiVersion\n",
       ":   'v1'cytoscapeVersion\n",
       ":   '3.7.1'\n",
       "\n"
      ],
      "text/plain": [
       "      apiVersion cytoscapeVersion \n",
       "            \"v1\"          \"3.7.1\" "
      ]
     },
     "metadata": {},
     "output_type": "display_data"
    }
   ],
   "source": [
    "# check if cytoscape is open and check version\n",
    "cytoscapePing()\n",
    "cytoscapeVersionInfo()"
   ]
  },
  {
   "cell_type": "markdown",
   "metadata": {},
   "source": [
    "### Network creation\n",
    "To begin with, we will load in our node and edge files to create our network."
   ]
  },
  {
   "cell_type": "code",
   "execution_count": 17,
   "metadata": {},
   "outputs": [],
   "source": [
    "# load in data of network\n",
    "nodes <- as.data.frame(read.table(file.path(getwd(), \"Network\", \"node_table.txt\"), header = T, sep = \"\\t\", stringsAsFactors = FALSE))\n",
    "edges <- as.data.frame(read.table(file.path(getwd(), \"Network\", \"edge_table.txt\"), header = T, sep = \"\\t\", stringsAsFactors = FALSE))"
   ]
  },
  {
   "cell_type": "markdown",
   "metadata": {},
   "source": [
    "We have to clean these files so they are usable for network creation."
   ]
  },
  {
   "cell_type": "code",
   "execution_count": 18,
   "metadata": {},
   "outputs": [
    {
     "data": {
      "text/html": [
       "<table>\n",
       "<thead><tr><th scope=col>id</th><th scope=col>Type</th></tr></thead>\n",
       "<tbody>\n",
       "\t<tr><td>NFkB                                                                                     </td><td>Process                                                                                  </td></tr>\n",
       "\t<tr><td>Vitamin_B12                                                                              </td><td>Process                                                                                  </td></tr>\n",
       "\t<tr><td>Development and heterogeneity of the ILC family%WikiPathways_20181110%WP3893%Homo sapiens</td><td>Process                                                                                  </td></tr>\n",
       "\t<tr><td>Overview of nanoparticle effects%WikiPathways_20181110%WP3287%Homo sapiens               </td><td>Process                                                                                  </td></tr>\n",
       "\t<tr><td>Diseases                                                                                 </td><td>Process                                                                                  </td></tr>\n",
       "\t<tr><td>Cytokines                                                                                </td><td>Process                                                                                  </td></tr>\n",
       "</tbody>\n",
       "</table>\n"
      ],
      "text/latex": [
       "\\begin{tabular}{r|ll}\n",
       " id & Type\\\\\n",
       "\\hline\n",
       "\t NFkB                                                                                      & Process                                                                                  \\\\\n",
       "\t Vitamin\\_B12                                                                               & Process                                                                                    \\\\\n",
       "\t Development and heterogeneity of the ILC family\\%WikiPathways\\_20181110\\%WP3893\\%Homo sapiens & Process                                                                                          \\\\\n",
       "\t Overview of nanoparticle effects\\%WikiPathways\\_20181110\\%WP3287\\%Homo sapiens                & Process                                                                                          \\\\\n",
       "\t Diseases                                                                                  & Process                                                                                  \\\\\n",
       "\t Cytokines                                                                                 & Process                                                                                  \\\\\n",
       "\\end{tabular}\n"
      ],
      "text/markdown": [
       "\n",
       "| id | Type |\n",
       "|---|---|\n",
       "| NFkB                                                                                      | Process                                                                                   |\n",
       "| Vitamin_B12                                                                               | Process                                                                                   |\n",
       "| Development and heterogeneity of the ILC family%WikiPathways_20181110%WP3893%Homo sapiens | Process                                                                                   |\n",
       "| Overview of nanoparticle effects%WikiPathways_20181110%WP3287%Homo sapiens                | Process                                                                                   |\n",
       "| Diseases                                                                                  | Process                                                                                   |\n",
       "| Cytokines                                                                                 | Process                                                                                   |\n",
       "\n"
      ],
      "text/plain": [
       "  id                                                                                       \n",
       "1 NFkB                                                                                     \n",
       "2 Vitamin_B12                                                                              \n",
       "3 Development and heterogeneity of the ILC family%WikiPathways_20181110%WP3893%Homo sapiens\n",
       "4 Overview of nanoparticle effects%WikiPathways_20181110%WP3287%Homo sapiens               \n",
       "5 Diseases                                                                                 \n",
       "6 Cytokines                                                                                \n",
       "  Type   \n",
       "1 Process\n",
       "2 Process\n",
       "3 Process\n",
       "4 Process\n",
       "5 Process\n",
       "6 Process"
      ]
     },
     "metadata": {},
     "output_type": "display_data"
    },
    {
     "data": {
      "text/html": [
       "<table>\n",
       "<thead><tr><th scope=col>source</th><th scope=col>target</th><th scope=col>interaction</th></tr></thead>\n",
       "<tbody>\n",
       "\t<tr><td>NFkB     </td><td>7205     </td><td>interacts</td></tr>\n",
       "\t<tr><td>NFkB     </td><td>841      </td><td>interacts</td></tr>\n",
       "\t<tr><td>NFkB     </td><td>1147     </td><td>interacts</td></tr>\n",
       "\t<tr><td>NFkB     </td><td>257397   </td><td>interacts</td></tr>\n",
       "\t<tr><td>NFkB     </td><td>2919     </td><td>interacts</td></tr>\n",
       "\t<tr><td>NFkB     </td><td>8767     </td><td>interacts</td></tr>\n",
       "</tbody>\n",
       "</table>\n"
      ],
      "text/latex": [
       "\\begin{tabular}{r|lll}\n",
       " source & target & interaction\\\\\n",
       "\\hline\n",
       "\t NFkB      & 7205      & interacts\\\\\n",
       "\t NFkB      & 841       & interacts\\\\\n",
       "\t NFkB      & 1147      & interacts\\\\\n",
       "\t NFkB      & 257397    & interacts\\\\\n",
       "\t NFkB      & 2919      & interacts\\\\\n",
       "\t NFkB      & 8767      & interacts\\\\\n",
       "\\end{tabular}\n"
      ],
      "text/markdown": [
       "\n",
       "| source | target | interaction |\n",
       "|---|---|---|\n",
       "| NFkB      | 7205      | interacts |\n",
       "| NFkB      | 841       | interacts |\n",
       "| NFkB      | 1147      | interacts |\n",
       "| NFkB      | 257397    | interacts |\n",
       "| NFkB      | 2919      | interacts |\n",
       "| NFkB      | 8767      | interacts |\n",
       "\n"
      ],
      "text/plain": [
       "  source target interaction\n",
       "1 NFkB   7205   interacts  \n",
       "2 NFkB   841    interacts  \n",
       "3 NFkB   1147   interacts  \n",
       "4 NFkB   257397 interacts  \n",
       "5 NFkB   2919   interacts  \n",
       "6 NFkB   8767   interacts  "
      ]
     },
     "metadata": {},
     "output_type": "display_data"
    }
   ],
   "source": [
    "# clean up data\n",
    "colnames(nodes)[1] <- \"id\"\n",
    "nodes$id <- as.character(nodes$id)\n",
    "edges <- edges[,c(-3,-4)]\n",
    "colnames(edges)[c(1,2)] <- c(\"source\", \"target\") \n",
    "edges$interaction <- \"interacts\"\n",
    "edges$target <- as.character(edges$target)\n",
    "\n",
    "head(nodes)\n",
    "head(edges)"
   ]
  },
  {
   "cell_type": "markdown",
   "metadata": {},
   "source": [
    "Now we can create our network in Cytoscape"
   ]
  },
  {
   "cell_type": "code",
   "execution_count": 19,
   "metadata": {},
   "outputs": [
    {
     "name": "stdout",
     "output_type": "stream",
     "text": [
      "Loading data...\n",
      "Applying default style...\n",
      "Applying preferred layout...\n"
     ]
    },
    {
     "data": {
      "text/html": [
       "<strong>networkSUID:</strong> 12308"
      ],
      "text/latex": [
       "\\textbf{networkSUID:} 12308"
      ],
      "text/markdown": [
       "**networkSUID:** 12308"
      ],
      "text/plain": [
       "networkSUID \n",
       "      12308 "
      ]
     },
     "metadata": {},
     "output_type": "display_data"
    }
   ],
   "source": [
    "# create network from the data frames\n",
    "createNetworkFromDataFrames(nodes, edges, title = \"MyNetwork\", collection = \"MyCollection\")"
   ]
  },
  {
   "cell_type": "markdown",
   "metadata": {},
   "source": [
    "We have to load in our gene expression data file, and merge this file with the table in cytoscape."
   ]
  },
  {
   "cell_type": "code",
   "execution_count": 20,
   "metadata": {},
   "outputs": [
    {
     "data": {
      "text/html": [
       "'Success: Data loaded in defaultnode table'"
      ],
      "text/latex": [
       "'Success: Data loaded in defaultnode table'"
      ],
      "text/markdown": [
       "'Success: Data loaded in defaultnode table'"
      ],
      "text/plain": [
       "[1] \"Success: Data loaded in defaultnode table\""
      ]
     },
     "metadata": {},
     "output_type": "display_data"
    },
    {
     "data": {
      "text/html": [
       "<table>\n",
       "<thead><tr><th></th><th scope=col>SUID</th><th scope=col>shared name</th><th scope=col>name</th><th scope=col>selected</th><th scope=col>id</th><th scope=col>Type</th><th scope=col>entrezgene</th><th scope=col>hgnc_symbol</th><th scope=col>logFC_BC</th><th scope=col>PValue_BC</th><th scope=col>...</th><th scope=col>logFC_MUO</th><th scope=col>PValue_MUO</th><th scope=col>logFC_RA</th><th scope=col>PValue_RA</th><th scope=col>logFC_RETT_FC</th><th scope=col>PValue_RETT_FC</th><th scope=col>logFC_RETT_TC</th><th scope=col>PValue_RETT_TC</th><th scope=col>logFC_SLE</th><th scope=col>PValue_SLE</th></tr></thead>\n",
       "<tbody>\n",
       "\t<tr><th scope=row>12318</th><td>12318                                                                                    </td><td>NFkB                                                                                     </td><td>NFkB                                                                                     </td><td>FALSE                                                                                    </td><td>NFkB                                                                                     </td><td>Process                                                                                  </td><td>NA                                                                                       </td><td>NA                                                                                       </td><td>NA                                                                                       </td><td>NA                                                                                       </td><td>...                                                                                      </td><td>NA                                                                                       </td><td>NA                                                                                       </td><td>NA                                                                                       </td><td>NA                                                                                       </td><td>NA                                                                                       </td><td>NA                                                                                       </td><td>NA                                                                                       </td><td>NA                                                                                       </td><td>NA                                                                                       </td><td>NA                                                                                       </td></tr>\n",
       "\t<tr><th scope=row>12319</th><td>12319                                                                                    </td><td>Vitamin_B12                                                                              </td><td>Vitamin_B12                                                                              </td><td>FALSE                                                                                    </td><td>Vitamin_B12                                                                              </td><td>Process                                                                                  </td><td>NA                                                                                       </td><td>NA                                                                                       </td><td>NA                                                                                       </td><td>NA                                                                                       </td><td>...                                                                                      </td><td>NA                                                                                       </td><td>NA                                                                                       </td><td>NA                                                                                       </td><td>NA                                                                                       </td><td>NA                                                                                       </td><td>NA                                                                                       </td><td>NA                                                                                       </td><td>NA                                                                                       </td><td>NA                                                                                       </td><td>NA                                                                                       </td></tr>\n",
       "\t<tr><th scope=row>12320</th><td>12320                                                                                    </td><td>Development and heterogeneity of the ILC family%WikiPathways_20181110%WP3893%Homo sapiens</td><td>Development and heterogeneity of the ILC family%WikiPathways_20181110%WP3893%Homo sapiens</td><td>FALSE                                                                                    </td><td>Development and heterogeneity of the ILC family%WikiPathways_20181110%WP3893%Homo sapiens</td><td>Process                                                                                  </td><td>NA                                                                                       </td><td>NA                                                                                       </td><td>NA                                                                                       </td><td>NA                                                                                       </td><td>...                                                                                      </td><td>NA                                                                                       </td><td>NA                                                                                       </td><td>NA                                                                                       </td><td>NA                                                                                       </td><td>NA                                                                                       </td><td>NA                                                                                       </td><td>NA                                                                                       </td><td>NA                                                                                       </td><td>NA                                                                                       </td><td>NA                                                                                       </td></tr>\n",
       "\t<tr><th scope=row>12321</th><td>12321                                                                                    </td><td>Overview of nanoparticle effects%WikiPathways_20181110%WP3287%Homo sapiens               </td><td>Overview of nanoparticle effects%WikiPathways_20181110%WP3287%Homo sapiens               </td><td>FALSE                                                                                    </td><td>Overview of nanoparticle effects%WikiPathways_20181110%WP3287%Homo sapiens               </td><td>Process                                                                                  </td><td>NA                                                                                       </td><td>NA                                                                                       </td><td>NA                                                                                       </td><td>NA                                                                                       </td><td>...                                                                                      </td><td>NA                                                                                       </td><td>NA                                                                                       </td><td>NA                                                                                       </td><td>NA                                                                                       </td><td>NA                                                                                       </td><td>NA                                                                                       </td><td>NA                                                                                       </td><td>NA                                                                                       </td><td>NA                                                                                       </td><td>NA                                                                                       </td></tr>\n",
       "\t<tr><th scope=row>12322</th><td>12322                                                                                    </td><td>Diseases                                                                                 </td><td>Diseases                                                                                 </td><td>FALSE                                                                                    </td><td>Diseases                                                                                 </td><td>Process                                                                                  </td><td>NA                                                                                       </td><td>NA                                                                                       </td><td>NA                                                                                       </td><td>NA                                                                                       </td><td>...                                                                                      </td><td>NA                                                                                       </td><td>NA                                                                                       </td><td>NA                                                                                       </td><td>NA                                                                                       </td><td>NA                                                                                       </td><td>NA                                                                                       </td><td>NA                                                                                       </td><td>NA                                                                                       </td><td>NA                                                                                       </td><td>NA                                                                                       </td></tr>\n",
       "\t<tr><th scope=row>12323</th><td>12323                                                                                    </td><td>Cytokines                                                                                </td><td>Cytokines                                                                                </td><td>FALSE                                                                                    </td><td>Cytokines                                                                                </td><td>Process                                                                                  </td><td>NA                                                                                       </td><td>NA                                                                                       </td><td>NA                                                                                       </td><td>NA                                                                                       </td><td>...                                                                                      </td><td>NA                                                                                       </td><td>NA                                                                                       </td><td>NA                                                                                       </td><td>NA                                                                                       </td><td>NA                                                                                       </td><td>NA                                                                                       </td><td>NA                                                                                       </td><td>NA                                                                                       </td><td>NA                                                                                       </td><td>NA                                                                                       </td></tr>\n",
       "</tbody>\n",
       "</table>\n"
      ],
      "text/latex": [
       "\\begin{tabular}{r|llllllllllllllllllllll}\n",
       "  & SUID & shared name & name & selected & id & Type & entrezgene & hgnc\\_symbol & logFC\\_BC & PValue\\_BC & ... & logFC\\_MUO & PValue\\_MUO & logFC\\_RA & PValue\\_RA & logFC\\_RETT\\_FC & PValue\\_RETT\\_FC & logFC\\_RETT\\_TC & PValue\\_RETT\\_TC & logFC\\_SLE & PValue\\_SLE\\\\\n",
       "\\hline\n",
       "\t12318 & 12318                                                                                     & NFkB                                                                                      & NFkB                                                                                      & FALSE                                                                                     & NFkB                                                                                      & Process                                                                                   & NA                                                                                        & NA                                                                                        & NA                                                                                        & NA                                                                                        & ...                                                                                       & NA                                                                                        & NA                                                                                        & NA                                                                                        & NA                                                                                        & NA                                                                                        & NA                                                                                        & NA                                                                                        & NA                                                                                        & NA                                                                                        & NA                                                                                       \\\\\n",
       "\t12319 & 12319                                                                                       & Vitamin\\_B12                                                                               & Vitamin\\_B12                                                                               & FALSE                                                                                       & Vitamin\\_B12                                                                               & Process                                                                                     & NA                                                                                          & NA                                                                                          & NA                                                                                          & NA                                                                                          & ...                                                                                         & NA                                                                                          & NA                                                                                          & NA                                                                                          & NA                                                                                          & NA                                                                                          & NA                                                                                          & NA                                                                                          & NA                                                                                          & NA                                                                                          & NA                                                                                         \\\\\n",
       "\t12320 & 12320                                                                                             & Development and heterogeneity of the ILC family\\%WikiPathways\\_20181110\\%WP3893\\%Homo sapiens & Development and heterogeneity of the ILC family\\%WikiPathways\\_20181110\\%WP3893\\%Homo sapiens & FALSE                                                                                             & Development and heterogeneity of the ILC family\\%WikiPathways\\_20181110\\%WP3893\\%Homo sapiens & Process                                                                                           & NA                                                                                                & NA                                                                                                & NA                                                                                                & NA                                                                                                & ...                                                                                               & NA                                                                                                & NA                                                                                                & NA                                                                                                & NA                                                                                                & NA                                                                                                & NA                                                                                                & NA                                                                                                & NA                                                                                                & NA                                                                                                & NA                                                                                               \\\\\n",
       "\t12321 & 12321                                                                                             & Overview of nanoparticle effects\\%WikiPathways\\_20181110\\%WP3287\\%Homo sapiens                & Overview of nanoparticle effects\\%WikiPathways\\_20181110\\%WP3287\\%Homo sapiens                & FALSE                                                                                             & Overview of nanoparticle effects\\%WikiPathways\\_20181110\\%WP3287\\%Homo sapiens                & Process                                                                                           & NA                                                                                                & NA                                                                                                & NA                                                                                                & NA                                                                                                & ...                                                                                               & NA                                                                                                & NA                                                                                                & NA                                                                                                & NA                                                                                                & NA                                                                                                & NA                                                                                                & NA                                                                                                & NA                                                                                                & NA                                                                                                & NA                                                                                               \\\\\n",
       "\t12322 & 12322                                                                                     & Diseases                                                                                  & Diseases                                                                                  & FALSE                                                                                     & Diseases                                                                                  & Process                                                                                   & NA                                                                                        & NA                                                                                        & NA                                                                                        & NA                                                                                        & ...                                                                                       & NA                                                                                        & NA                                                                                        & NA                                                                                        & NA                                                                                        & NA                                                                                        & NA                                                                                        & NA                                                                                        & NA                                                                                        & NA                                                                                        & NA                                                                                       \\\\\n",
       "\t12323 & 12323                                                                                     & Cytokines                                                                                 & Cytokines                                                                                 & FALSE                                                                                     & Cytokines                                                                                 & Process                                                                                   & NA                                                                                        & NA                                                                                        & NA                                                                                        & NA                                                                                        & ...                                                                                       & NA                                                                                        & NA                                                                                        & NA                                                                                        & NA                                                                                        & NA                                                                                        & NA                                                                                        & NA                                                                                        & NA                                                                                        & NA                                                                                        & NA                                                                                       \\\\\n",
       "\\end{tabular}\n"
      ],
      "text/markdown": [
       "\n",
       "| <!--/--> | SUID | shared name | name | selected | id | Type | entrezgene | hgnc_symbol | logFC_BC | PValue_BC | ... | logFC_MUO | PValue_MUO | logFC_RA | PValue_RA | logFC_RETT_FC | PValue_RETT_FC | logFC_RETT_TC | PValue_RETT_TC | logFC_SLE | PValue_SLE |\n",
       "|---|---|---|---|---|---|---|---|---|---|---|---|---|---|---|---|---|---|---|---|---|---|\n",
       "| 12318 | 12318                                                                                     | NFkB                                                                                      | NFkB                                                                                      | FALSE                                                                                     | NFkB                                                                                      | Process                                                                                   | NA                                                                                        | NA                                                                                        | NA                                                                                        | NA                                                                                        | ...                                                                                       | NA                                                                                        | NA                                                                                        | NA                                                                                        | NA                                                                                        | NA                                                                                        | NA                                                                                        | NA                                                                                        | NA                                                                                        | NA                                                                                        | NA                                                                                        |\n",
       "| 12319 | 12319                                                                                     | Vitamin_B12                                                                               | Vitamin_B12                                                                               | FALSE                                                                                     | Vitamin_B12                                                                               | Process                                                                                   | NA                                                                                        | NA                                                                                        | NA                                                                                        | NA                                                                                        | ...                                                                                       | NA                                                                                        | NA                                                                                        | NA                                                                                        | NA                                                                                        | NA                                                                                        | NA                                                                                        | NA                                                                                        | NA                                                                                        | NA                                                                                        | NA                                                                                        |\n",
       "| 12320 | 12320                                                                                     | Development and heterogeneity of the ILC family%WikiPathways_20181110%WP3893%Homo sapiens | Development and heterogeneity of the ILC family%WikiPathways_20181110%WP3893%Homo sapiens | FALSE                                                                                     | Development and heterogeneity of the ILC family%WikiPathways_20181110%WP3893%Homo sapiens | Process                                                                                   | NA                                                                                        | NA                                                                                        | NA                                                                                        | NA                                                                                        | ...                                                                                       | NA                                                                                        | NA                                                                                        | NA                                                                                        | NA                                                                                        | NA                                                                                        | NA                                                                                        | NA                                                                                        | NA                                                                                        | NA                                                                                        | NA                                                                                        |\n",
       "| 12321 | 12321                                                                                     | Overview of nanoparticle effects%WikiPathways_20181110%WP3287%Homo sapiens                | Overview of nanoparticle effects%WikiPathways_20181110%WP3287%Homo sapiens                | FALSE                                                                                     | Overview of nanoparticle effects%WikiPathways_20181110%WP3287%Homo sapiens                | Process                                                                                   | NA                                                                                        | NA                                                                                        | NA                                                                                        | NA                                                                                        | ...                                                                                       | NA                                                                                        | NA                                                                                        | NA                                                                                        | NA                                                                                        | NA                                                                                        | NA                                                                                        | NA                                                                                        | NA                                                                                        | NA                                                                                        | NA                                                                                        |\n",
       "| 12322 | 12322                                                                                     | Diseases                                                                                  | Diseases                                                                                  | FALSE                                                                                     | Diseases                                                                                  | Process                                                                                   | NA                                                                                        | NA                                                                                        | NA                                                                                        | NA                                                                                        | ...                                                                                       | NA                                                                                        | NA                                                                                        | NA                                                                                        | NA                                                                                        | NA                                                                                        | NA                                                                                        | NA                                                                                        | NA                                                                                        | NA                                                                                        | NA                                                                                        |\n",
       "| 12323 | 12323                                                                                     | Cytokines                                                                                 | Cytokines                                                                                 | FALSE                                                                                     | Cytokines                                                                                 | Process                                                                                   | NA                                                                                        | NA                                                                                        | NA                                                                                        | NA                                                                                        | ...                                                                                       | NA                                                                                        | NA                                                                                        | NA                                                                                        | NA                                                                                        | NA                                                                                        | NA                                                                                        | NA                                                                                        | NA                                                                                        | NA                                                                                        | NA                                                                                        |\n",
       "\n"
      ],
      "text/plain": [
       "      SUID \n",
       "12318 12318\n",
       "12319 12319\n",
       "12320 12320\n",
       "12321 12321\n",
       "12322 12322\n",
       "12323 12323\n",
       "      shared name                                                                              \n",
       "12318 NFkB                                                                                     \n",
       "12319 Vitamin_B12                                                                              \n",
       "12320 Development and heterogeneity of the ILC family%WikiPathways_20181110%WP3893%Homo sapiens\n",
       "12321 Overview of nanoparticle effects%WikiPathways_20181110%WP3287%Homo sapiens               \n",
       "12322 Diseases                                                                                 \n",
       "12323 Cytokines                                                                                \n",
       "      name                                                                                     \n",
       "12318 NFkB                                                                                     \n",
       "12319 Vitamin_B12                                                                              \n",
       "12320 Development and heterogeneity of the ILC family%WikiPathways_20181110%WP3893%Homo sapiens\n",
       "12321 Overview of nanoparticle effects%WikiPathways_20181110%WP3287%Homo sapiens               \n",
       "12322 Diseases                                                                                 \n",
       "12323 Cytokines                                                                                \n",
       "      selected\n",
       "12318 FALSE   \n",
       "12319 FALSE   \n",
       "12320 FALSE   \n",
       "12321 FALSE   \n",
       "12322 FALSE   \n",
       "12323 FALSE   \n",
       "      id                                                                                       \n",
       "12318 NFkB                                                                                     \n",
       "12319 Vitamin_B12                                                                              \n",
       "12320 Development and heterogeneity of the ILC family%WikiPathways_20181110%WP3893%Homo sapiens\n",
       "12321 Overview of nanoparticle effects%WikiPathways_20181110%WP3287%Homo sapiens               \n",
       "12322 Diseases                                                                                 \n",
       "12323 Cytokines                                                                                \n",
       "      Type    entrezgene hgnc_symbol logFC_BC PValue_BC ... logFC_MUO\n",
       "12318 Process NA         NA          NA       NA        ... NA       \n",
       "12319 Process NA         NA          NA       NA        ... NA       \n",
       "12320 Process NA         NA          NA       NA        ... NA       \n",
       "12321 Process NA         NA          NA       NA        ... NA       \n",
       "12322 Process NA         NA          NA       NA        ... NA       \n",
       "12323 Process NA         NA          NA       NA        ... NA       \n",
       "      PValue_MUO logFC_RA PValue_RA logFC_RETT_FC PValue_RETT_FC logFC_RETT_TC\n",
       "12318 NA         NA       NA        NA            NA             NA           \n",
       "12319 NA         NA       NA        NA            NA             NA           \n",
       "12320 NA         NA       NA        NA            NA             NA           \n",
       "12321 NA         NA       NA        NA            NA             NA           \n",
       "12322 NA         NA       NA        NA            NA             NA           \n",
       "12323 NA         NA       NA        NA            NA             NA           \n",
       "      PValue_RETT_TC logFC_SLE PValue_SLE\n",
       "12318 NA             NA        NA        \n",
       "12319 NA             NA        NA        \n",
       "12320 NA             NA        NA        \n",
       "12321 NA             NA        NA        \n",
       "12322 NA             NA        NA        \n",
       "12323 NA             NA        NA        "
      ]
     },
     "metadata": {},
     "output_type": "display_data"
    }
   ],
   "source": [
    "# load data set with gene expression values (logFC, p.value)\n",
    "expr_data <- read.table(file.path(getwd(), \"expr_data\", \"merged_data_final.txt\"), header = T, sep =\"\\t\")\n",
    "\n",
    "# load data into cytoscape\n",
    "loadTableData(expr_data, data.key.colum = \"entrezgene\", table.key.column = \"shared name\")\n",
    "\n",
    "# check if tables are well merged\n",
    "nodeTable <- getTableColumns(table = \"node\")\n",
    "head(nodeTable)"
   ]
  },
  {
   "cell_type": "markdown",
   "metadata": {},
   "source": [
    "### Visualization \n",
    "Before we start to visualize our network, we have to perform some manual stuff! "
   ]
  },
  {
   "cell_type": "code",
   "execution_count": 21,
   "metadata": {},
   "outputs": [],
   "source": [
    "# first we will get rid off the manual stuff\n",
    "system('CMD /C \"ECHO To analyze the network we have to go to Cytoscape. First Open cytoscape go to Tools then NetworkAnalyzer then Network Analysis then Analyze Network. Treat the network as unidirected and click OK. We analyzed the network now we want to change the layout of the network. Go to Layout then yFiles Organic Layout. Close this message box when finished, and return to R. && PAUSE\"', \n",
    "       invisible=FALSE, wait=FALSE)"
   ]
  },
  {
   "cell_type": "markdown",
   "metadata": {},
   "source": [
    "Now everthing is loaded into cytoscape and the manual stuff is done, we can working on the automatization of the visual style."
   ]
  },
  {
   "cell_type": "code",
   "execution_count": 22,
   "metadata": {},
   "outputs": [],
   "source": [
    "# lock width and height of nodes\n",
    "lockNodeDimensions(TRUE)"
   ]
  },
  {
   "cell_type": "markdown",
   "metadata": {},
   "source": [
    "For every dataset we would like to create a own network. We will do this using the clone network function."
   ]
  },
  {
   "cell_type": "code",
   "execution_count": 23,
   "metadata": {},
   "outputs": [
    {
     "name": "stdout",
     "output_type": "stream",
     "text": [
      "[1] \"Done!\"\n"
     ]
    }
   ],
   "source": [
    "# we have 7 gene expression sets so we repeat this function 8 times, we will use a repeat loop for this\n",
    "diseases <- c(\"BC\",\"LC\",\"MUO\",\"RA\",\"RETT_FC\",\"RETT_TC\",\"SLE\")\n",
    "\n",
    "x <- 1\n",
    "repeat {\n",
    "  cloneNetwork(network = \"MyNetwork\")\n",
    "  setCurrentNetwork(network=\"MyNetwork_1\")\n",
    "  renameNetwork(diseases[x])\n",
    "  x = x + 1\n",
    "  if (x == length(diseases)+1){\n",
    "  print(\"Done!\")\n",
    "  break}\n",
    "}"
   ]
  },
  {
   "cell_type": "markdown",
   "metadata": {},
   "source": [
    "Now we have a network available for every dataset we have, we can set a visual style which maps the gene expression (logFC) and significance (p-value) for every gene node in the network per dataset."
   ]
  },
  {
   "cell_type": "code",
   "execution_count": 24,
   "metadata": {},
   "outputs": [
    {
     "name": "stdout",
     "output_type": "stream",
     "text": [
      "[1] \"Done!\"\n"
     ]
    }
   ],
   "source": [
    "# Map logFC and pValue per disease for every respective network and add visual style to every network\n",
    "x <- 1\n",
    "repeat {\n",
    "  setCurrentNetwork(network = diseases[x])\n",
    "  \n",
    "  style.name = paste(\"style_\", diseases[x], sep = \"\")\n",
    "  \n",
    "  # map logFC of gene expression data per disease on respective networks\n",
    "  mappings <- list(nodeFill <- mapVisualProperty(\"node fill color\", table.column = paste(\"logFC_\", diseases[x] , sep = \"\"), \n",
    "                                    mapping.type = \"continuous\",\n",
    "                                    c(-0.58,0 ,0.58),\n",
    "                                    c(\"#0000FF\", \"#FFFFFF\", \"#FF0000\")),\n",
    "  \n",
    "  # map significance per disease on respective networks\n",
    "  nodeBorder <- mapVisualProperty(\"node border paint\", table.column = paste(\"PValue_\", diseases[x], sep = \"\"),\n",
    "                                    mapping.type = \"continuous\",\n",
    "                                    table.column.values = c(0.00, 0.05, 1.00), \n",
    "                                    c(\"#00FF00\", \"#FFFFFF\", \"#FFFFFF\")),\n",
    "  \n",
    "  # map node shapes\n",
    "  nodeShape <- mapVisualProperty(\"Node Shape\", table.column = \"Type\", \n",
    "                                    mapping.type = \"discrete\", \n",
    "                                    table.column.values = c(\"Gene\", \"Pathway\", \"Cluster\", \"InflGene\"),\n",
    "                                    c(\"DIAMOND\", \"ELLIPSE\", \"ROUND_RECTANGLE\", \"VEE\")),\n",
    "  \n",
    "  label <- mapVisualProperty(\"Node Label\", table.column = \"shared name\",\n",
    "                             mapping.type = \"passthrough\"))\n",
    "\n",
    "  defaults <- list(NODE_FILL_COLOR = \"#999999\",\n",
    "                   NODE_BORDER_PAINT = \"#999999\",\n",
    "                   NODE_BORDER_WIDTH = 7,\n",
    "                   NODE_LABEL_FONT_SIZE = 18,\n",
    "                   NETWORK_TITLE = diseases[x])\n",
    "  \n",
    "  # create and set unique visual style per disease dataset\n",
    "  createVisualStyle(style.name, defaults, mappings = mappings)\n",
    "  setVisualStyle(style.name)\n",
    "\n",
    "  x = x + 1\n",
    "  if (x == length(diseases)+1){\n",
    "    print(\"Done!\")\n",
    "    break}\n",
    "}"
   ]
  },
  {
   "cell_type": "markdown",
   "metadata": {},
   "source": [
    "Before we are going to select nodes (which we cant deselect...), we are going to save images of the main networks. We do this before selecting nodes so that our images don't contain the yellow highlighted selected nodes. Prior to this step, make sure there are no images saved with the same name, otherwise this part will not work!"
   ]
  },
  {
   "cell_type": "code",
   "execution_count": 25,
   "metadata": {},
   "outputs": [
    {
     "name": "stdout",
     "output_type": "stream",
     "text": [
      "[1] \"Done!\"\n"
     ]
    }
   ],
   "source": [
    "# save disease networks\n",
    "x <- 1\n",
    "repeat {\n",
    "  setCurrentNetwork(network = diseases[x])\n",
    "  fitContent()\n",
    "  \n",
    "  png.file <- file.path(getwd(), \"Images\", \"networks\", paste(\"gene_expr_network\", diseases[x], \".png\", sep = \"\"))\n",
    "  exportImage(png.file, type = \"png\", resolution=600, zoom=500)\n",
    "  \n",
    "  x = x + 1\n",
    "  if (x == length(diseases)+1){\n",
    "    print(\"Done!\")\n",
    "    break}\n",
    "}"
   ]
  },
  {
   "cell_type": "markdown",
   "metadata": {},
   "source": [
    "### Subnetwork creation\n",
    "We are also interested in the significant differentially expressed genes and inflammation associated genes. So lets make subnetworks out of these properties!"
   ]
  },
  {
   "cell_type": "code",
   "execution_count": 28,
   "metadata": {},
   "outputs": [
    {
     "name": "stdout",
     "output_type": "stream",
     "text": [
      "[1] \"Done!\"\n"
     ]
    }
   ],
   "source": [
    "# create subnetwork of significant differentially expressed genes\n",
    "x <- 1\n",
    "repeat {\n",
    "  setCurrentNetwork(network = diseases[x])\n",
    "  \n",
    "  createColumnFilter(filter.name = \"expr genes\",     column = paste(\"logFC_\", diseases[x], sep = \"\") , c(-0.58,0.58), \"IS_NOT_BETWEEN\")\n",
    "  createColumnFilter(filter.name = \"sig genes\",      column = paste(\"PValue_\", diseases[x], sep = \"\"), 0.05, \"LESS_THAN\")\n",
    "  sigexpr <- createCompositeFilter('combined filter', filter.list = c(\"sig genes\", \"expr genes\"), type = \"ALL\")\n",
    "  \n",
    "  process <- createColumnFilter(filter.name = \"Pathway filter\", column = \"Type\", \"Process\", \"IS\")\n",
    "  #clusters <- createColumnFilter(filter.name = \"Cluster filter\", column = \"Type\", \"Cluster\", \"IS\")\n",
    "  \n",
    "  selectNodes(nodes = c(process$nodes, sigexpr$nodes), by.col = \"shared name\")\n",
    "  \n",
    "  createSubnetwork(nodes = \"selected\", subnetwork.name = paste(\"subnetwork \", diseases[x], \" genes\", sep = \"\"))\n",
    "  \n",
    "  x = x + 1\n",
    "  if (x == length(diseases)+1){\n",
    "    print(\"Done!\")\n",
    "    break}\n",
    "}"
   ]
  },
  {
   "cell_type": "code",
   "execution_count": 29,
   "metadata": {},
   "outputs": [
    {
     "name": "stdout",
     "output_type": "stream",
     "text": [
      "[1] \"Done!\"\n"
     ]
    }
   ],
   "source": [
    "# create subnetwork of significant differentially expressed inflammation genes\n",
    "x <- 1\n",
    "repeat {\n",
    "  setCurrentNetwork(network = diseases[x])\n",
    "  \n",
    "  createColumnFilter(filter.name = \"Infl filter\",    column = \"Type\", \"InflGene\", \"IS\")\n",
    "  createColumnFilter(filter.name = \"expr genes\",     column = paste(\"logFC_\", diseases[x], sep = \"\") , c(-0.58,0.58), \"IS_NOT_BETWEEN\")\n",
    "  createColumnFilter(filter.name = \"sig genes\",      column = paste(\"PValue_\", diseases[x], sep = \"\"), 0.05, \"LESS_THAN\")\n",
    "  sigexpr <- createCompositeFilter('combined filter', filter.list = c(\"Infl filter\", \"sig genes\", \"expr genes\"), type = \"ALL\")\n",
    "  \n",
    "    process <- createColumnFilter(filter.name = \"Pathway filter\", column = \"Type\", \"Process\", \"IS\")\n",
    "  #clusters <- createColumnFilter(filter.name = \"Cluster filter\", column = \"Type\", \"Cluster\", \"IS\")\n",
    "  \n",
    "  selectNodes(nodes = c(process$nodes, sigexpr$nodes), by.col = \"shared name\")\n",
    "  \n",
    "  createSubnetwork(nodes = \"selected\", subnetwork.name = paste(\"subnetwork \", diseases[x], \" inflGenes\",sep = \"\"))\n",
    "  \n",
    "  x = x + 1\n",
    "  if (x == length(diseases)+1){\n",
    "    print(\"Done!\")\n",
    "    break}\n",
    "}"
   ]
  },
  {
   "cell_type": "markdown",
   "metadata": {},
   "source": [
    "### Saving everything\n",
    "We are almost finished! We already saved the images of the main networks for every disease, but we still want to save the images of the subnetworks. So lets do that, and after we will save the cytoscape session so nothing is lost."
   ]
  },
  {
   "cell_type": "code",
   "execution_count": 30,
   "metadata": {},
   "outputs": [
    {
     "name": "stdout",
     "output_type": "stream",
     "text": [
      "[1] \"Done!\"\n"
     ]
    }
   ],
   "source": [
    "# save subnetworks genes\n",
    "subgenes <- c(\"subnetwork BC genes\",\"subnetwork LC genes\",\"subnetwork MUO genes\",\n",
    "              \"subnetwork RA genes\",\"subnetwork RETT_FC genes\",\n",
    "              \"subnetwork RETT_TC genes\",\"subnetwork SLE genes\")\n",
    "x <- 1\n",
    "repeat {\n",
    "  setCurrentNetwork(network = subgenes[x])\n",
    "  fitContent()\n",
    "  \n",
    "  png.file <- file.path(getwd(), \"Images\", \"subGeneNetworks\", paste(\"subgene_expr_network\", diseases[x], \".png\", sep = \"\"))\n",
    "  exportImage(png.file, type = \"png\", resolution=600, zoom=500)\n",
    "  \n",
    "  x = x + 1\n",
    "  if (x == length(diseases)+1){\n",
    "    print(\"Done!\")\n",
    "    break}\n",
    "}"
   ]
  },
  {
   "cell_type": "code",
   "execution_count": 31,
   "metadata": {},
   "outputs": [
    {
     "name": "stdout",
     "output_type": "stream",
     "text": [
      "[1] \"Done!\"\n"
     ]
    }
   ],
   "source": [
    "# save subnetworks inflammation genes\n",
    "subInflGenes <- c(\"subnetwork BC inflGenes\",\"subnetwork LC inflGenes\",\"subnetwork MUO inflGenes\",\n",
    "              \"subnetwork RA inflGenes\",\"subnetwork RETT_FC inflGenes\",\n",
    "              \"subnetwork RETT_TC inflGenes\",\"subnetwork SLE inflGenes\")\n",
    "x <- 1\n",
    "repeat {\n",
    "  setCurrentNetwork(network = subInflGenes[x])\n",
    "  fitContent()\n",
    "  \n",
    "  png.file <- file.path(getwd(), \"Images\", \"subInflGeneNetworks\", paste(\"subinflgene_expr_network\", diseases[x], \".png\", sep = \"\"))\n",
    "  exportImage(png.file, type = \"png\", resolution=600, zoom=500)\n",
    "  \n",
    "  x = x + 1\n",
    "  if (x == length(diseases)+1){\n",
    "    print(\"Done!\")\n",
    "    break}\n",
    "}"
   ]
  },
  {
   "cell_type": "code",
   "execution_count": 32,
   "metadata": {},
   "outputs": [],
   "source": [
    "# save Cytoscape session file\n",
    "session.file <- file.path(getwd(), \"Network\", \"gene_expr_networks.cys\")\n",
    "saveSession(session.file)"
   ]
  }
 ],
 "metadata": {
  "kernelspec": {
   "display_name": "R",
   "language": "R",
   "name": "ir"
  },
  "language_info": {
   "codemirror_mode": "r",
   "file_extension": ".r",
   "mimetype": "text/x-r-source",
   "name": "R",
   "pygments_lexer": "r",
   "version": "3.5.1"
  }
 },
 "nbformat": 4,
 "nbformat_minor": 2
}
