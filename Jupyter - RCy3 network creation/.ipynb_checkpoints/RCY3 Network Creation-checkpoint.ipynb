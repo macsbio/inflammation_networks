{
 "cells": [
  {
   "cell_type": "markdown",
   "metadata": {},
   "source": [
    "# Automation Cytoscape network creation using RCy3 package\n",
    "We are going to use the RCy3 package in R to automate the workflow for network creation.\n",
    "We are using multiple gene epxression datasets acquired from different studies. These datasets contain gene expression profiles of patients with various diseases. \n",
    "The diseases which are going to be used in this notebook are: lung-cancer (LC), breast-cancer (BC), metabolically unhealthy obesity (MUO), rheumatoid arthritis (RA), Rett syndrome frontal cortex (Rett_FC), Rett syndrome temporal cortex (Rett_TC) and systemis lupus erythematosus (SLE).\n",
    "\n",
    "The network will consist of pathways, pathway clusters and the genes which occur in these pathways. These pathways are acquired based on genes associated with inflammation which were retrieved from [DisGeNET](http://www.disgenet.org/home/) and [GeneCards](https://www.genecards.org/). "
   ]
  },
  {
   "cell_type": "markdown",
   "metadata": {},
   "source": [
    "### The following step only works in RStudio. If working in another environment, please set the working directory properly and check if the working directory is correct. "
   ]
  },
  {
   "cell_type": "code",
   "execution_count": 1,
   "metadata": {},
   "outputs": [
    {
     "ename": "ERROR",
     "evalue": "Error: RStudio not running\n",
     "output_type": "error",
     "traceback": [
      "Error: RStudio not running\nTraceback:\n",
      "1. setwd(dirname(rstudioapi::callFun(\"getActiveDocumentContext\")$path))",
      "2. dirname(rstudioapi::callFun(\"getActiveDocumentContext\")$path)",
      "3. rstudioapi::callFun(\"getActiveDocumentContext\")",
      "4. verifyAvailable()",
      "5. stop(\"RStudio not running\", call. = FALSE)"
     ]
    }
   ],
   "source": [
    "# set wd to where script file is saved\n",
    "setwd(dirname(rstudioapi::callFun(\"getActiveDocumentContext\")$path))"
   ]
  },
  {
   "cell_type": "code",
   "execution_count": 2,
   "metadata": {},
   "outputs": [
    {
     "data": {
      "text/html": [
       "'C:/Users/Laurent/Documents/GitHub/inflammation_networks2/Jupyter - RCy3 network creation'"
      ],
      "text/latex": [
       "'C:/Users/Laurent/Documents/GitHub/inflammation\\_networks2/Jupyter - RCy3 network creation'"
      ],
      "text/markdown": [
       "'C:/Users/Laurent/Documents/GitHub/inflammation_networks2/Jupyter - RCy3 network creation'"
      ],
      "text/plain": [
       "[1] \"C:/Users/Laurent/Documents/GitHub/inflammation_networks2/Jupyter - RCy3 network creation\""
      ]
     },
     "metadata": {},
     "output_type": "display_data"
    }
   ],
   "source": [
    "# check wd\n",
    "getwd()"
   ]
  },
  {
   "cell_type": "code",
   "execution_count": 3,
   "metadata": {},
   "outputs": [],
   "source": [
    "# load library\n",
    "library(RCy3)"
   ]
  },
  {
   "cell_type": "markdown",
   "metadata": {},
   "source": [
    "### We first start with opening cytoscape and checking if we are connected"
   ]
  },
  {
   "cell_type": "code",
   "execution_count": 4,
   "metadata": {},
   "outputs": [
    {
     "ename": "ERROR",
     "evalue": "Error in curl::curl_fetch_memory(url, handle = handle): Failed to connect to localhost port 1234: Connection refused\n",
     "output_type": "error",
     "traceback": [
      "Error in curl::curl_fetch_memory(url, handle = handle): Failed to connect to localhost port 1234: Connection refused\nTraceback:\n",
      "1. cytoscapePing()",
      "2. .verifySupportedVersions(1, 3.6, base.url)",
      "3. cytoscapeVersionInfo(base.url)",
      "4. cyrestGET(\"version\", base.url = base.url)",
      "5. GET(url = URLencode(q.url))",
      "6. request_perform(req, hu$handle$handle)",
      "7. request_fetch(req$output, req$url, handle)",
      "8. request_fetch.write_memory(req$output, req$url, handle)",
      "9. curl::curl_fetch_memory(url, handle = handle)"
     ]
    }
   ],
   "source": [
    "# check if cytoscape is open and check version\n",
    "cytoscapePing()\n",
    "cytoscapeVersionInfo()"
   ]
  },
  {
   "cell_type": "markdown",
   "metadata": {},
   "source": [
    "### Network creation\n",
    "To begin with, we will load in our node and edge files to create our network."
   ]
  },
  {
   "cell_type": "code",
   "execution_count": 10,
   "metadata": {},
   "outputs": [],
   "source": [
    "# load in data of network\n",
    "nodes <- as.data.frame(read.table(file.path(getwd(), \"Network\", \"nodes_entrezgene.txt\"), header = T, sep = \"\\t\", stringsAsFactors = FALSE))\n",
    "edges <- as.data.frame(read.table(file.path(getwd(), \"Network\", \"edges_entrezgene.txt\"), header = T, sep = \"\\t\", stringsAsFactors = FALSE))"
   ]
  },
  {
   "cell_type": "markdown",
   "metadata": {},
   "source": [
    "We have to clean these files so they are usable for network creation."
   ]
  },
  {
   "cell_type": "code",
   "execution_count": 11,
   "metadata": {},
   "outputs": [
    {
     "data": {
      "text/html": [
       "<table>\n",
       "<thead><tr><th scope=col>id</th><th scope=col>Type</th></tr></thead>\n",
       "<tbody>\n",
       "\t<tr><td>WP_OVERVIEW_OF_NANOPARTICLE_EFFECTS               </td><td>Process                                           </td></tr>\n",
       "\t<tr><td>WP_FIBRIN_COMPLEMENT_RECEPTOR_3_SIGNALING_PATHWAY </td><td>Process                                           </td></tr>\n",
       "\t<tr><td>WP_DEVELOPMENT_AND_HETEROGENEITY_OF_THE_ILC_FAMILY</td><td>Process                                           </td></tr>\n",
       "\t<tr><td>Vitamin_B12                                       </td><td>Process                                           </td></tr>\n",
       "\t<tr><td>NFkB                                              </td><td>Process                                           </td></tr>\n",
       "\t<tr><td>Inflammation                                      </td><td>Process                                           </td></tr>\n",
       "</tbody>\n",
       "</table>\n"
      ],
      "text/latex": [
       "\\begin{tabular}{r|ll}\n",
       " id & Type\\\\\n",
       "\\hline\n",
       "\t WP\\_OVERVIEW\\_OF\\_NANOPARTICLE\\_EFFECTS                & Process                                                   \\\\\n",
       "\t WP\\_FIBRIN\\_COMPLEMENT\\_RECEPTOR\\_3\\_SIGNALING\\_PATHWAY  & Process                                                       \\\\\n",
       "\t WP\\_DEVELOPMENT\\_AND\\_HETEROGENEITY\\_OF\\_THE\\_ILC\\_FAMILY & Process                                                         \\\\\n",
       "\t Vitamin\\_B12                                        & Process                                             \\\\\n",
       "\t NFkB                                               & Process                                           \\\\\n",
       "\t Inflammation                                       & Process                                           \\\\\n",
       "\\end{tabular}\n"
      ],
      "text/markdown": [
       "\n",
       "| id | Type |\n",
       "|---|---|\n",
       "| WP_OVERVIEW_OF_NANOPARTICLE_EFFECTS                | Process                                            |\n",
       "| WP_FIBRIN_COMPLEMENT_RECEPTOR_3_SIGNALING_PATHWAY  | Process                                            |\n",
       "| WP_DEVELOPMENT_AND_HETEROGENEITY_OF_THE_ILC_FAMILY | Process                                            |\n",
       "| Vitamin_B12                                        | Process                                            |\n",
       "| NFkB                                               | Process                                            |\n",
       "| Inflammation                                       | Process                                            |\n",
       "\n"
      ],
      "text/plain": [
       "  id                                                 Type   \n",
       "1 WP_OVERVIEW_OF_NANOPARTICLE_EFFECTS                Process\n",
       "2 WP_FIBRIN_COMPLEMENT_RECEPTOR_3_SIGNALING_PATHWAY  Process\n",
       "3 WP_DEVELOPMENT_AND_HETEROGENEITY_OF_THE_ILC_FAMILY Process\n",
       "4 Vitamin_B12                                        Process\n",
       "5 NFkB                                               Process\n",
       "6 Inflammation                                       Process"
      ]
     },
     "metadata": {},
     "output_type": "display_data"
    },
    {
     "data": {
      "text/html": [
       "<table>\n",
       "<thead><tr><th scope=col>source</th><th scope=col>target</th><th scope=col>interaction</th></tr></thead>\n",
       "<tbody>\n",
       "\t<tr><td>Inflammation                       </td><td>10000                              </td><td>interacts                          </td></tr>\n",
       "\t<tr><td>Inflammation                       </td><td>10000                              </td><td>interacts                          </td></tr>\n",
       "\t<tr><td>WP_OVERVIEW_OF_NANOPARTICLE_EFFECTS</td><td>10000                              </td><td>interacts                          </td></tr>\n",
       "\t<tr><td>WP_OVERVIEW_OF_NANOPARTICLE_EFFECTS</td><td>1001                               </td><td>interacts                          </td></tr>\n",
       "\t<tr><td>Vitamin_B12                        </td><td>100129518                          </td><td>interacts                          </td></tr>\n",
       "\t<tr><td>Vitamin_B12                        </td><td>100129518                          </td><td>interacts                          </td></tr>\n",
       "</tbody>\n",
       "</table>\n"
      ],
      "text/latex": [
       "\\begin{tabular}{r|lll}\n",
       " source & target & interaction\\\\\n",
       "\\hline\n",
       "\t Inflammation                        & 10000                               & interacts                          \\\\\n",
       "\t Inflammation                        & 10000                               & interacts                          \\\\\n",
       "\t WP\\_OVERVIEW\\_OF\\_NANOPARTICLE\\_EFFECTS & 10000                                       & interacts                                  \\\\\n",
       "\t WP\\_OVERVIEW\\_OF\\_NANOPARTICLE\\_EFFECTS & 1001                                        & interacts                                  \\\\\n",
       "\t Vitamin\\_B12                         & 100129518                             & interacts                            \\\\\n",
       "\t Vitamin\\_B12                         & 100129518                             & interacts                            \\\\\n",
       "\\end{tabular}\n"
      ],
      "text/markdown": [
       "\n",
       "| source | target | interaction |\n",
       "|---|---|---|\n",
       "| Inflammation                        | 10000                               | interacts                           |\n",
       "| Inflammation                        | 10000                               | interacts                           |\n",
       "| WP_OVERVIEW_OF_NANOPARTICLE_EFFECTS | 10000                               | interacts                           |\n",
       "| WP_OVERVIEW_OF_NANOPARTICLE_EFFECTS | 1001                                | interacts                           |\n",
       "| Vitamin_B12                         | 100129518                           | interacts                           |\n",
       "| Vitamin_B12                         | 100129518                           | interacts                           |\n",
       "\n"
      ],
      "text/plain": [
       "  source                              target    interaction\n",
       "1 Inflammation                        10000     interacts  \n",
       "2 Inflammation                        10000     interacts  \n",
       "3 WP_OVERVIEW_OF_NANOPARTICLE_EFFECTS 10000     interacts  \n",
       "4 WP_OVERVIEW_OF_NANOPARTICLE_EFFECTS 1001      interacts  \n",
       "5 Vitamin_B12                         100129518 interacts  \n",
       "6 Vitamin_B12                         100129518 interacts  "
      ]
     },
     "metadata": {},
     "output_type": "display_data"
    }
   ],
   "source": [
    "# clean up data\n",
    "colnames(nodes)[1] <- \"id\"\n",
    "nodes$id <- as.character(nodes$id)\n",
    "edges <- edges[,c(-3,-4)]\n",
    "colnames(edges)[c(1,2)] <- c(\"source\", \"target\") \n",
    "edges$interaction <- \"interacts\"\n",
    "edges$target <- as.character(edges$target)\n",
    "\n",
    "head(nodes)\n",
    "head(edges)"
   ]
  },
  {
   "cell_type": "markdown",
   "metadata": {},
   "source": [
    "Now we can create our network in Cytoscape"
   ]
  },
  {
   "cell_type": "code",
   "execution_count": 12,
   "metadata": {},
   "outputs": [
    {
     "name": "stdout",
     "output_type": "stream",
     "text": [
      "Loading data...\n",
      "Applying default style...\n",
      "Applying preferred layout...\n"
     ]
    },
    {
     "data": {
      "text/html": [
       "<strong>networkSUID:</strong> 2352"
      ],
      "text/latex": [
       "\\textbf{networkSUID:} 2352"
      ],
      "text/markdown": [
       "**networkSUID:** 2352"
      ],
      "text/plain": [
       "networkSUID \n",
       "       2352 "
      ]
     },
     "metadata": {},
     "output_type": "display_data"
    }
   ],
   "source": [
    "# create network from the data frames\n",
    "createNetworkFromDataFrames(nodes, edges, title = \"MyNetwork\", collection = \"MyCollection\")"
   ]
  },
  {
   "cell_type": "markdown",
   "metadata": {},
   "source": [
    "We have to load in our gene expression data file, and merge this file with the table in cytoscape."
   ]
  },
  {
   "cell_type": "code",
   "execution_count": 13,
   "metadata": {},
   "outputs": [
    {
     "data": {
      "text/html": [
       "'Success: Data loaded in defaultnode table'"
      ],
      "text/latex": [
       "'Success: Data loaded in defaultnode table'"
      ],
      "text/markdown": [
       "'Success: Data loaded in defaultnode table'"
      ],
      "text/plain": [
       "[1] \"Success: Data loaded in defaultnode table\""
      ]
     },
     "metadata": {},
     "output_type": "display_data"
    },
    {
     "data": {
      "text/html": [
       "<table>\n",
       "<thead><tr><th></th><th scope=col>SUID</th><th scope=col>shared name</th><th scope=col>id</th><th scope=col>type</th><th scope=col>Entrez Gene</th><th scope=col>name</th><th scope=col>selected</th><th scope=col>entrezgene</th><th scope=col>hgnc_symbol</th><th scope=col>logFC_BC</th><th scope=col>...</th><th scope=col>logFC_MUO</th><th scope=col>PValue_MUO</th><th scope=col>logFC_RA</th><th scope=col>PValue_RA</th><th scope=col>logFC_RETT_FC</th><th scope=col>PValue_RETT_FC</th><th scope=col>logFC_RETT_TC</th><th scope=col>PValue_RETT_TC</th><th scope=col>logFC_SLE</th><th scope=col>PValue_SLE</th></tr></thead>\n",
       "<tbody>\n",
       "\t<tr><th scope=row>2362</th><td>2362                                              </td><td>WP_OVERVIEW_OF_NANOPARTICLE_EFFECTS               </td><td>WP_OVERVIEW_OF_NANOPARTICLE_EFFECTS               </td><td>Process                                           </td><td>NA                                                </td><td>WP_OVERVIEW_OF_NANOPARTICLE_EFFECTS               </td><td>FALSE                                             </td><td>NA                                                </td><td>NA                                                </td><td>NA                                                </td><td>...                                               </td><td>NA                                                </td><td>NA                                                </td><td>NA                                                </td><td>NA                                                </td><td>NA                                                </td><td>NA                                                </td><td>NA                                                </td><td>NA                                                </td><td>NA                                                </td><td>NA                                                </td></tr>\n",
       "\t<tr><th scope=row>2363</th><td>2363                                              </td><td>WP_FIBRIN_COMPLEMENT_RECEPTOR_3_SIGNALING_PATHWAY </td><td>WP_FIBRIN_COMPLEMENT_RECEPTOR_3_SIGNALING_PATHWAY </td><td>Process                                           </td><td>NA                                                </td><td>WP_FIBRIN_COMPLEMENT_RECEPTOR_3_SIGNALING_PATHWAY </td><td>FALSE                                             </td><td>NA                                                </td><td>NA                                                </td><td>NA                                                </td><td>...                                               </td><td>NA                                                </td><td>NA                                                </td><td>NA                                                </td><td>NA                                                </td><td>NA                                                </td><td>NA                                                </td><td>NA                                                </td><td>NA                                                </td><td>NA                                                </td><td>NA                                                </td></tr>\n",
       "\t<tr><th scope=row>2364</th><td>2364                                              </td><td>WP_DEVELOPMENT_AND_HETEROGENEITY_OF_THE_ILC_FAMILY</td><td>WP_DEVELOPMENT_AND_HETEROGENEITY_OF_THE_ILC_FAMILY</td><td>Process                                           </td><td>NA                                                </td><td>WP_DEVELOPMENT_AND_HETEROGENEITY_OF_THE_ILC_FAMILY</td><td>FALSE                                             </td><td>NA                                                </td><td>NA                                                </td><td>NA                                                </td><td>...                                               </td><td>NA                                                </td><td>NA                                                </td><td>NA                                                </td><td>NA                                                </td><td>NA                                                </td><td>NA                                                </td><td>NA                                                </td><td>NA                                                </td><td>NA                                                </td><td>NA                                                </td></tr>\n",
       "\t<tr><th scope=row>2365</th><td>2365                                              </td><td>Vitamin_B12                                       </td><td>Vitamin_B12                                       </td><td>Process                                           </td><td>NA                                                </td><td>Vitamin_B12                                       </td><td>FALSE                                             </td><td>NA                                                </td><td>NA                                                </td><td>NA                                                </td><td>...                                               </td><td>NA                                                </td><td>NA                                                </td><td>NA                                                </td><td>NA                                                </td><td>NA                                                </td><td>NA                                                </td><td>NA                                                </td><td>NA                                                </td><td>NA                                                </td><td>NA                                                </td></tr>\n",
       "\t<tr><th scope=row>2366</th><td>2366                                              </td><td>NFkB                                              </td><td>NFkB                                              </td><td>Process                                           </td><td>NA                                                </td><td>NFkB                                              </td><td>FALSE                                             </td><td>NA                                                </td><td>NA                                                </td><td>NA                                                </td><td>...                                               </td><td>NA                                                </td><td>NA                                                </td><td>NA                                                </td><td>NA                                                </td><td>NA                                                </td><td>NA                                                </td><td>NA                                                </td><td>NA                                                </td><td>NA                                                </td><td>NA                                                </td></tr>\n",
       "\t<tr><th scope=row>2367</th><td>2367                                              </td><td>Inflammation                                      </td><td>Inflammation                                      </td><td>Process                                           </td><td>NA                                                </td><td>Inflammation                                      </td><td>FALSE                                             </td><td>NA                                                </td><td>NA                                                </td><td>NA                                                </td><td>...                                               </td><td>NA                                                </td><td>NA                                                </td><td>NA                                                </td><td>NA                                                </td><td>NA                                                </td><td>NA                                                </td><td>NA                                                </td><td>NA                                                </td><td>NA                                                </td><td>NA                                                </td></tr>\n",
       "</tbody>\n",
       "</table>\n"
      ],
      "text/latex": [
       "\\begin{tabular}{r|lllllllllllllllllllllll}\n",
       "  & SUID & shared name & id & type & Entrez Gene & name & selected & entrezgene & hgnc\\_symbol & logFC\\_BC & ... & logFC\\_MUO & PValue\\_MUO & logFC\\_RA & PValue\\_RA & logFC\\_RETT\\_FC & PValue\\_RETT\\_FC & logFC\\_RETT\\_TC & PValue\\_RETT\\_TC & logFC\\_SLE & PValue\\_SLE\\\\\n",
       "\\hline\n",
       "\t2362 & 2362                                                       & WP\\_OVERVIEW\\_OF\\_NANOPARTICLE\\_EFFECTS                & WP\\_OVERVIEW\\_OF\\_NANOPARTICLE\\_EFFECTS                & Process                                                    & NA                                                         & WP\\_OVERVIEW\\_OF\\_NANOPARTICLE\\_EFFECTS                & FALSE                                                      & NA                                                         & NA                                                         & NA                                                         & ...                                                        & NA                                                         & NA                                                         & NA                                                         & NA                                                         & NA                                                         & NA                                                         & NA                                                         & NA                                                         & NA                                                         & NA                                                        \\\\\n",
       "\t2363 & 2363                                                           & WP\\_FIBRIN\\_COMPLEMENT\\_RECEPTOR\\_3\\_SIGNALING\\_PATHWAY  & WP\\_FIBRIN\\_COMPLEMENT\\_RECEPTOR\\_3\\_SIGNALING\\_PATHWAY  & Process                                                        & NA                                                             & WP\\_FIBRIN\\_COMPLEMENT\\_RECEPTOR\\_3\\_SIGNALING\\_PATHWAY  & FALSE                                                          & NA                                                             & NA                                                             & NA                                                             & ...                                                            & NA                                                             & NA                                                             & NA                                                             & NA                                                             & NA                                                             & NA                                                             & NA                                                             & NA                                                             & NA                                                             & NA                                                            \\\\\n",
       "\t2364 & 2364                                                             & WP\\_DEVELOPMENT\\_AND\\_HETEROGENEITY\\_OF\\_THE\\_ILC\\_FAMILY & WP\\_DEVELOPMENT\\_AND\\_HETEROGENEITY\\_OF\\_THE\\_ILC\\_FAMILY & Process                                                          & NA                                                               & WP\\_DEVELOPMENT\\_AND\\_HETEROGENEITY\\_OF\\_THE\\_ILC\\_FAMILY & FALSE                                                            & NA                                                               & NA                                                               & NA                                                               & ...                                                              & NA                                                               & NA                                                               & NA                                                               & NA                                                               & NA                                                               & NA                                                               & NA                                                               & NA                                                               & NA                                                               & NA                                                              \\\\\n",
       "\t2365 & 2365                                                 & Vitamin\\_B12                                        & Vitamin\\_B12                                        & Process                                              & NA                                                   & Vitamin\\_B12                                        & FALSE                                                & NA                                                   & NA                                                   & NA                                                   & ...                                                  & NA                                                   & NA                                                   & NA                                                   & NA                                                   & NA                                                   & NA                                                   & NA                                                   & NA                                                   & NA                                                   & NA                                                  \\\\\n",
       "\t2366 & 2366                                               & NFkB                                               & NFkB                                               & Process                                            & NA                                                 & NFkB                                               & FALSE                                              & NA                                                 & NA                                                 & NA                                                 & ...                                                & NA                                                 & NA                                                 & NA                                                 & NA                                                 & NA                                                 & NA                                                 & NA                                                 & NA                                                 & NA                                                 & NA                                                \\\\\n",
       "\t2367 & 2367                                               & Inflammation                                       & Inflammation                                       & Process                                            & NA                                                 & Inflammation                                       & FALSE                                              & NA                                                 & NA                                                 & NA                                                 & ...                                                & NA                                                 & NA                                                 & NA                                                 & NA                                                 & NA                                                 & NA                                                 & NA                                                 & NA                                                 & NA                                                 & NA                                                \\\\\n",
       "\\end{tabular}\n"
      ],
      "text/markdown": [
       "\n",
       "| <!--/--> | SUID | shared name | id | type | Entrez Gene | name | selected | entrezgene | hgnc_symbol | logFC_BC | ... | logFC_MUO | PValue_MUO | logFC_RA | PValue_RA | logFC_RETT_FC | PValue_RETT_FC | logFC_RETT_TC | PValue_RETT_TC | logFC_SLE | PValue_SLE |\n",
       "|---|---|---|---|---|---|---|---|---|---|---|---|---|---|---|---|---|---|---|---|---|---|\n",
       "| 2362 | 2362                                               | WP_OVERVIEW_OF_NANOPARTICLE_EFFECTS                | WP_OVERVIEW_OF_NANOPARTICLE_EFFECTS                | Process                                            | NA                                                 | WP_OVERVIEW_OF_NANOPARTICLE_EFFECTS                | FALSE                                              | NA                                                 | NA                                                 | NA                                                 | ...                                                | NA                                                 | NA                                                 | NA                                                 | NA                                                 | NA                                                 | NA                                                 | NA                                                 | NA                                                 | NA                                                 | NA                                                 |\n",
       "| 2363 | 2363                                               | WP_FIBRIN_COMPLEMENT_RECEPTOR_3_SIGNALING_PATHWAY  | WP_FIBRIN_COMPLEMENT_RECEPTOR_3_SIGNALING_PATHWAY  | Process                                            | NA                                                 | WP_FIBRIN_COMPLEMENT_RECEPTOR_3_SIGNALING_PATHWAY  | FALSE                                              | NA                                                 | NA                                                 | NA                                                 | ...                                                | NA                                                 | NA                                                 | NA                                                 | NA                                                 | NA                                                 | NA                                                 | NA                                                 | NA                                                 | NA                                                 | NA                                                 |\n",
       "| 2364 | 2364                                               | WP_DEVELOPMENT_AND_HETEROGENEITY_OF_THE_ILC_FAMILY | WP_DEVELOPMENT_AND_HETEROGENEITY_OF_THE_ILC_FAMILY | Process                                            | NA                                                 | WP_DEVELOPMENT_AND_HETEROGENEITY_OF_THE_ILC_FAMILY | FALSE                                              | NA                                                 | NA                                                 | NA                                                 | ...                                                | NA                                                 | NA                                                 | NA                                                 | NA                                                 | NA                                                 | NA                                                 | NA                                                 | NA                                                 | NA                                                 | NA                                                 |\n",
       "| 2365 | 2365                                               | Vitamin_B12                                        | Vitamin_B12                                        | Process                                            | NA                                                 | Vitamin_B12                                        | FALSE                                              | NA                                                 | NA                                                 | NA                                                 | ...                                                | NA                                                 | NA                                                 | NA                                                 | NA                                                 | NA                                                 | NA                                                 | NA                                                 | NA                                                 | NA                                                 | NA                                                 |\n",
       "| 2366 | 2366                                               | NFkB                                               | NFkB                                               | Process                                            | NA                                                 | NFkB                                               | FALSE                                              | NA                                                 | NA                                                 | NA                                                 | ...                                                | NA                                                 | NA                                                 | NA                                                 | NA                                                 | NA                                                 | NA                                                 | NA                                                 | NA                                                 | NA                                                 | NA                                                 |\n",
       "| 2367 | 2367                                               | Inflammation                                       | Inflammation                                       | Process                                            | NA                                                 | Inflammation                                       | FALSE                                              | NA                                                 | NA                                                 | NA                                                 | ...                                                | NA                                                 | NA                                                 | NA                                                 | NA                                                 | NA                                                 | NA                                                 | NA                                                 | NA                                                 | NA                                                 | NA                                                 |\n",
       "\n"
      ],
      "text/plain": [
       "     SUID shared name                                       \n",
       "2362 2362 WP_OVERVIEW_OF_NANOPARTICLE_EFFECTS               \n",
       "2363 2363 WP_FIBRIN_COMPLEMENT_RECEPTOR_3_SIGNALING_PATHWAY \n",
       "2364 2364 WP_DEVELOPMENT_AND_HETEROGENEITY_OF_THE_ILC_FAMILY\n",
       "2365 2365 Vitamin_B12                                       \n",
       "2366 2366 NFkB                                              \n",
       "2367 2367 Inflammation                                      \n",
       "     id                                                 type    Entrez Gene\n",
       "2362 WP_OVERVIEW_OF_NANOPARTICLE_EFFECTS                Process NA         \n",
       "2363 WP_FIBRIN_COMPLEMENT_RECEPTOR_3_SIGNALING_PATHWAY  Process NA         \n",
       "2364 WP_DEVELOPMENT_AND_HETEROGENEITY_OF_THE_ILC_FAMILY Process NA         \n",
       "2365 Vitamin_B12                                        Process NA         \n",
       "2366 NFkB                                               Process NA         \n",
       "2367 Inflammation                                       Process NA         \n",
       "     name                                               selected entrezgene\n",
       "2362 WP_OVERVIEW_OF_NANOPARTICLE_EFFECTS                FALSE    NA        \n",
       "2363 WP_FIBRIN_COMPLEMENT_RECEPTOR_3_SIGNALING_PATHWAY  FALSE    NA        \n",
       "2364 WP_DEVELOPMENT_AND_HETEROGENEITY_OF_THE_ILC_FAMILY FALSE    NA        \n",
       "2365 Vitamin_B12                                        FALSE    NA        \n",
       "2366 NFkB                                               FALSE    NA        \n",
       "2367 Inflammation                                       FALSE    NA        \n",
       "     hgnc_symbol logFC_BC ... logFC_MUO PValue_MUO logFC_RA PValue_RA\n",
       "2362 NA          NA       ... NA        NA         NA       NA       \n",
       "2363 NA          NA       ... NA        NA         NA       NA       \n",
       "2364 NA          NA       ... NA        NA         NA       NA       \n",
       "2365 NA          NA       ... NA        NA         NA       NA       \n",
       "2366 NA          NA       ... NA        NA         NA       NA       \n",
       "2367 NA          NA       ... NA        NA         NA       NA       \n",
       "     logFC_RETT_FC PValue_RETT_FC logFC_RETT_TC PValue_RETT_TC logFC_SLE\n",
       "2362 NA            NA             NA            NA             NA       \n",
       "2363 NA            NA             NA            NA             NA       \n",
       "2364 NA            NA             NA            NA             NA       \n",
       "2365 NA            NA             NA            NA             NA       \n",
       "2366 NA            NA             NA            NA             NA       \n",
       "2367 NA            NA             NA            NA             NA       \n",
       "     PValue_SLE\n",
       "2362 NA        \n",
       "2363 NA        \n",
       "2364 NA        \n",
       "2365 NA        \n",
       "2366 NA        \n",
       "2367 NA        "
      ]
     },
     "metadata": {},
     "output_type": "display_data"
    }
   ],
   "source": [
    "# load data set with gene expression values (logFC, p.value)\n",
    "expr_data <- read.table(file.path(getwd(), \"expr_data\", \"merged_data_final.txt\"), header = T, sep =\"\\t\")\n",
    "\n",
    "# load data into cytoscape\n",
    "loadTableData(expr_data, data.key.colum = \"entrezgene\", table.key.column = \"shared name\")\n",
    "\n",
    "# check if tables are well merged\n",
    "nodeTable <- getTableColumns(table = \"node\")\n",
    "head(nodeTable)"
   ]
  },
  {
   "cell_type": "markdown",
   "metadata": {},
   "source": [
    "### Visualization \n",
    "Before we start to visualize our network, we have to perform some manual stuff! "
   ]
  },
  {
   "cell_type": "code",
   "execution_count": 14,
   "metadata": {},
   "outputs": [],
   "source": [
    "# first we will get rid off the manual stuff\n",
    "system('CMD /C \"ECHO To analyze the network we have to go to Cytoscape. First Open cytoscape go to Tools then NetworkAnalyzer then Network Analysis then Analyze Network. Treat the network as unidirected and click OK. We analyzed the network now we want to change the layout of the network. Go to Layout then yFiles Organic Layout. Close this message box when finished, and return to R. && PAUSE\"', \n",
    "       invisible=FALSE, wait=FALSE)"
   ]
  },
  {
   "cell_type": "markdown",
   "metadata": {},
   "source": [
    "Now everthing is loaded into cytoscape and the manual stuff is done, we can working on the automatization of the visual style."
   ]
  },
  {
   "cell_type": "code",
   "execution_count": 15,
   "metadata": {},
   "outputs": [],
   "source": [
    "# lock width and height of nodes\n",
    "lockNodeDimensions(TRUE)"
   ]
  },
  {
   "cell_type": "markdown",
   "metadata": {},
   "source": [
    "For every dataset we would like to create a own network. We will do this using the clone network function."
   ]
  },
  {
   "cell_type": "code",
   "execution_count": 16,
   "metadata": {},
   "outputs": [
    {
     "name": "stdout",
     "output_type": "stream",
     "text": [
      "[1] \"Done!\"\n"
     ]
    }
   ],
   "source": [
    "# we have 7 gene expression sets so we repeat this function 8 times, we will use a repeat loop for this\n",
    "diseases <- c(\"BC\",\"LC\",\"MUO\",\"RA\",\"RETT_FC\",\"RETT_TC\",\"SLE\")\n",
    "\n",
    "x <- 1\n",
    "repeat {\n",
    "  cloneNetwork(network = \"MyNetwork\")\n",
    "  setCurrentNetwork(network=\"MyNetwork_1\")\n",
    "  renameNetwork(diseases[x])\n",
    "  x = x + 1\n",
    "  if (x == length(diseases)+1){\n",
    "  print(\"Done!\")\n",
    "  break}\n",
    "}"
   ]
  },
  {
   "cell_type": "markdown",
   "metadata": {},
   "source": [
    "Now we have a network available for every dataset we have, we can set a visual style which maps the gene expression (logFC) and significance (p-value) for every gene node in the network per dataset."
   ]
  },
  {
   "cell_type": "code",
   "execution_count": 18,
   "metadata": {},
   "outputs": [
    {
     "name": "stdout",
     "output_type": "stream",
     "text": [
      "[1] \"Done!\"\n"
     ]
    }
   ],
   "source": [
    "# Map logFC and pValue per disease for every respective network and add visual style to every network\n",
    "x <- 1\n",
    "repeat {\n",
    "  setCurrentNetwork(network = diseases[x])\n",
    "  \n",
    "  style.name = paste(\"style_\", diseases[x], sep = \"\")\n",
    "  \n",
    "  # map logFC of gene expression data per disease on respective networks\n",
    "  mappings <- list(nodeFill <- mapVisualProperty(\"node fill color\", table.column = paste(\"logFC_\", diseases[x] , sep = \"\"), \n",
    "                                    mapping.type = \"continuous\",\n",
    "                                    c(-0.58,0 ,0.58),\n",
    "                                    c(\"#0000FF\", \"#FFFFFF\", \"#FF0000\")),\n",
    "  \n",
    "  # map significance per disease on respective networks\n",
    "  nodeBorder <- mapVisualProperty(\"node border paint\", table.column = paste(\"PValue_\", diseases[x], sep = \"\"),\n",
    "                                    mapping.type = \"continuous\",\n",
    "                                    table.column.values = c(0.00, 0.05, 1.00), \n",
    "                                    c(\"#00FF00\", \"#FFFFFF\", \"#FFFFFF\")),\n",
    "  \n",
    "  # map node shapes\n",
    "  nodeShape <- mapVisualProperty(\"Node Shape\", table.column = \"type\", \n",
    "                                    mapping.type = \"discrete\", \n",
    "                                    table.column.values = c(\"Gene\", \"Pathway\", \"Cluster\", \"InflGene\"),\n",
    "                                    c(\"DIAMOND\", \"ELLIPSE\", \"ROUND_RECTANGLE\", \"VEE\")),\n",
    "  \n",
    "  label <- mapVisualProperty(\"Node Label\", table.column = \"shared name\",\n",
    "                             mapping.type = \"passthrough\"))\n",
    "\n",
    "  defaults <- list(NODE_FILL_COLOR = \"#999999\",\n",
    "                   NODE_BORDER_PAINT = \"#999999\",\n",
    "                   NODE_BORDER_WIDTH = 7,\n",
    "                   NODE_LABEL_FONT_SIZE = 18,\n",
    "                   NETWORK_TITLE = diseases[x])\n",
    "  \n",
    "  # create and set unique visual style per disease dataset\n",
    "  createVisualStyle(style.name, defaults, mappings = mappings)\n",
    "  setVisualStyle(style.name)\n",
    "\n",
    "  x = x + 1\n",
    "  if (x == length(diseases)+1){\n",
    "    print(\"Done!\")\n",
    "    break}\n",
    "}"
   ]
  },
  {
   "cell_type": "markdown",
   "metadata": {},
   "source": [
    "Before we are going to select nodes (which we cant deselect...), we are going to save images of the main networks. We do this before selecting nodes so that our images don't contain the yellow highlighted selected nodes. Prior to this step, make sure there are no images saved with the same name, otherwise this part will not work!"
   ]
  },
  {
   "cell_type": "code",
   "execution_count": 19,
   "metadata": {},
   "outputs": [
    {
     "name": "stdout",
     "output_type": "stream",
     "text": [
      "[1] \"Done!\"\n"
     ]
    }
   ],
   "source": [
    "# save disease networks\n",
    "x <- 1\n",
    "repeat {\n",
    "  setCurrentNetwork(network = diseases[x])\n",
    "  fitContent()\n",
    "  \n",
    "  png.file <- file.path(getwd(), \"Images\", \"networks\", paste(\"gene_expr_network\", diseases[x], \".png\", sep = \"\"))\n",
    "  exportImage(png.file, type = \"png\", resolution=600, zoom=500)\n",
    "  \n",
    "  x = x + 1\n",
    "  if (x == length(diseases)+1){\n",
    "    print(\"Done!\")\n",
    "    break}\n",
    "}"
   ]
  },
  {
   "cell_type": "markdown",
   "metadata": {},
   "source": [
    "### Subnetwork creation\n",
    "We are also interested in the significant differentially expressed genes and inflammation associated genes. So lets make subnetworks out of these properties!"
   ]
  },
  {
   "cell_type": "code",
   "execution_count": 21,
   "metadata": {},
   "outputs": [
    {
     "name": "stdout",
     "output_type": "stream",
     "text": [
      "[1] \"Done!\"\n"
     ]
    }
   ],
   "source": [
    "# create subnetwork of significant differentially expressed genes\n",
    "x <- 1\n",
    "repeat {\n",
    "  setCurrentNetwork(network = diseases[x])\n",
    "  \n",
    "  createColumnFilter(filter.name = \"expr genes\",     column = paste(\"logFC_\", diseases[x], sep = \"\") , c(-0.58,0.58), \"IS_NOT_BETWEEN\")\n",
    "  createColumnFilter(filter.name = \"sig genes\",      column = paste(\"PValue_\", diseases[x], sep = \"\"), 0.05, \"LESS_THAN\")\n",
    "  sigexpr <- createCompositeFilter('combined filter', filter.list = c(\"sig genes\", \"expr genes\"), type = \"ALL\")\n",
    "  \n",
    "  process <- createColumnFilter(filter.name = \"Pathway filter\", column = \"type\", \"Process\", \"IS\")\n",
    "  #clusters <- createColumnFilter(filter.name = \"Cluster filter\", column = \"Type\", \"Cluster\", \"IS\")\n",
    "  \n",
    "  selectNodes(nodes = c(process$nodes, sigexpr$nodes), by.col = \"shared name\")\n",
    "  \n",
    "  createSubnetwork(nodes = \"selected\", subnetwork.name = paste(\"subnetwork \", diseases[x], \" genes\", sep = \"\"))\n",
    "  \n",
    "  x = x + 1\n",
    "  if (x == length(diseases)+1){\n",
    "    print(\"Done!\")\n",
    "    break}\n",
    "}"
   ]
  },
  {
   "cell_type": "code",
   "execution_count": 22,
   "metadata": {},
   "outputs": [
    {
     "name": "stdout",
     "output_type": "stream",
     "text": [
      "[1] \"Done!\"\n"
     ]
    }
   ],
   "source": [
    "# create subnetwork of significant differentially expressed inflammation genes\n",
    "x <- 1\n",
    "repeat {\n",
    "  setCurrentNetwork(network = diseases[x])\n",
    "  \n",
    "  createColumnFilter(filter.name = \"Infl filter\",    column = \"type\", \"InflGene\", \"IS\")\n",
    "  createColumnFilter(filter.name = \"expr genes\",     column = paste(\"logFC_\", diseases[x], sep = \"\") , c(-0.58,0.58), \"IS_NOT_BETWEEN\")\n",
    "  createColumnFilter(filter.name = \"sig genes\",      column = paste(\"PValue_\", diseases[x], sep = \"\"), 0.05, \"LESS_THAN\")\n",
    "  sigexpr <- createCompositeFilter('combined filter', filter.list = c(\"Infl filter\", \"sig genes\", \"expr genes\"), type = \"ALL\")\n",
    "  \n",
    "    process <- createColumnFilter(filter.name = \"Pathway filter\", column = \"type\", \"Process\", \"IS\")\n",
    "  #clusters <- createColumnFilter(filter.name = \"Cluster filter\", column = \"Type\", \"Cluster\", \"IS\")\n",
    "  \n",
    "  selectNodes(nodes = c(process$nodes, sigexpr$nodes), by.col = \"shared name\")\n",
    "  \n",
    "  createSubnetwork(nodes = \"selected\", subnetwork.name = paste(\"subnetwork \", diseases[x], \" inflGenes\",sep = \"\"))\n",
    "  \n",
    "  x = x + 1\n",
    "  if (x == length(diseases)+1){\n",
    "    print(\"Done!\")\n",
    "    break}\n",
    "}"
   ]
  },
  {
   "cell_type": "markdown",
   "metadata": {},
   "source": [
    "### Saving everything\n",
    "We are almost finished! We already saved the images of the main networks for every disease, but we still want to save the images of the subnetworks. So lets do that, and after we will save the cytoscape session so nothing is lost."
   ]
  },
  {
   "cell_type": "code",
   "execution_count": 23,
   "metadata": {},
   "outputs": [
    {
     "name": "stdout",
     "output_type": "stream",
     "text": [
      "[1] \"Done!\"\n"
     ]
    }
   ],
   "source": [
    "# save subnetworks genes\n",
    "subgenes <- c(\"subnetwork BC genes\",\"subnetwork LC genes\",\"subnetwork MUO genes\",\n",
    "              \"subnetwork RA genes\",\"subnetwork RETT_FC genes\",\n",
    "              \"subnetwork RETT_TC genes\",\"subnetwork SLE genes\")\n",
    "x <- 1\n",
    "repeat {\n",
    "  setCurrentNetwork(network = subgenes[x])\n",
    "  fitContent()\n",
    "  \n",
    "  png.file <- file.path(getwd(), \"Images\", \"subGeneNetworks\", paste(\"subgene_expr_network\", diseases[x], \".png\", sep = \"\"))\n",
    "  exportImage(png.file, type = \"png\", resolution=600, zoom=500)\n",
    "  \n",
    "  x = x + 1\n",
    "  if (x == length(diseases)+1){\n",
    "    print(\"Done!\")\n",
    "    break}\n",
    "}"
   ]
  },
  {
   "cell_type": "code",
   "execution_count": 24,
   "metadata": {},
   "outputs": [
    {
     "name": "stdout",
     "output_type": "stream",
     "text": [
      "[1] \"Done!\"\n"
     ]
    }
   ],
   "source": [
    "# save subnetworks inflammation genes\n",
    "subInflGenes <- c(\"subnetwork BC inflGenes\",\"subnetwork LC inflGenes\",\"subnetwork MUO inflGenes\",\n",
    "              \"subnetwork RA inflGenes\",\"subnetwork RETT_FC inflGenes\",\n",
    "              \"subnetwork RETT_TC inflGenes\",\"subnetwork SLE inflGenes\")\n",
    "x <- 1\n",
    "repeat {\n",
    "  setCurrentNetwork(network = subInflGenes[x])\n",
    "  fitContent()\n",
    "  \n",
    "  png.file <- file.path(getwd(), \"Images\", \"subInflGeneNetworks\", paste(\"subinflgene_expr_network\", diseases[x], \".png\", sep = \"\"))\n",
    "  exportImage(png.file, type = \"png\", resolution=600, zoom=500)\n",
    "  \n",
    "  x = x + 1\n",
    "  if (x == length(diseases)+1){\n",
    "    print(\"Done!\")\n",
    "    break}\n",
    "}"
   ]
  },
  {
   "cell_type": "code",
   "execution_count": 25,
   "metadata": {},
   "outputs": [],
   "source": [
    "# save Cytoscape session file\n",
    "session.file <- file.path(getwd(), \"Network\", \"gene_expr_networks.cys\")\n",
    "saveSession(session.file)"
   ]
  }
 ],
 "metadata": {
  "kernelspec": {
   "display_name": "R",
   "language": "R",
   "name": "ir"
  },
  "language_info": {
   "codemirror_mode": "r",
   "file_extension": ".r",
   "mimetype": "text/x-r-source",
   "name": "R",
   "pygments_lexer": "r",
   "version": "3.5.1"
  }
 },
 "nbformat": 4,
 "nbformat_minor": 2
}
