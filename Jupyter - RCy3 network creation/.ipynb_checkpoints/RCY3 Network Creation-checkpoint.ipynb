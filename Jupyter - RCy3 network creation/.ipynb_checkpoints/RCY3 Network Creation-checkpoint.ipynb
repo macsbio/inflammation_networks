{
 "cells": [
  {
   "cell_type": "markdown",
   "metadata": {},
   "source": [
    "# Automation Cytoscape network creation using RCy3 package\n",
    "We are going to use the RCy3 package in R to automate the workflow for network creation.\n",
    "We are using multiple gene epxression datasets acquired from different studies. These datasets contain gene expression profiles of patients with various diseases. \n",
    "The diseases which are going to be used in this notebook are: lung-cancer (LC), breast-cancer (BC), metabolically unhealthy obesity (MUO), rheumatoid arthritis (RA), dilated cardiomyopathy (DCM), ishemic cardiomyopathy (ICM) and systemis lupus erythematosus (SLE).\n",
    "\n",
    "The network will consist of pathways, pathway clusters and the genes which occur in these pathways. These pathways are acquired based on genes associated with inflammation which were retrieved from [DisGeNET](http://www.disgenet.org/home/). "
   ]
  },
  {
   "cell_type": "code",
   "execution_count": 1,
   "metadata": {},
   "outputs": [
    {
     "data": {
      "text/html": [
       "'C:/Users/Laurent/Documents/GitHub/inflammation_networks2/Jupyter - RCy3 network creation'"
      ],
      "text/latex": [
       "'C:/Users/Laurent/Documents/GitHub/inflammation\\_networks2/Jupyter - RCy3 network creation'"
      ],
      "text/markdown": [
       "'C:/Users/Laurent/Documents/GitHub/inflammation_networks2/Jupyter - RCy3 network creation'"
      ],
      "text/plain": [
       "[1] \"C:/Users/Laurent/Documents/GitHub/inflammation_networks2/Jupyter - RCy3 network creation\""
      ]
     },
     "metadata": {},
     "output_type": "display_data"
    }
   ],
   "source": [
    "# check wd\n",
    "getwd()"
   ]
  },
  {
   "cell_type": "code",
   "execution_count": 2,
   "metadata": {},
   "outputs": [],
   "source": [
    "# load library\n",
    "library(RCy3)"
   ]
  },
  {
   "cell_type": "markdown",
   "metadata": {},
   "source": [
    "### We first start with opening cytoscape and checking if we are connected"
   ]
  },
  {
   "cell_type": "code",
   "execution_count": 3,
   "metadata": {},
   "outputs": [
    {
     "data": {
      "text/html": [
       "'You are connected to Cytoscape!'"
      ],
      "text/latex": [
       "'You are connected to Cytoscape!'"
      ],
      "text/markdown": [
       "'You are connected to Cytoscape!'"
      ],
      "text/plain": [
       "[1] \"You are connected to Cytoscape!\""
      ]
     },
     "metadata": {},
     "output_type": "display_data"
    },
    {
     "data": {
      "text/html": [
       "<dl class=dl-horizontal>\n",
       "\t<dt>apiVersion</dt>\n",
       "\t\t<dd>'v1'</dd>\n",
       "\t<dt>cytoscapeVersion</dt>\n",
       "\t\t<dd>'3.7.1'</dd>\n",
       "</dl>\n"
      ],
      "text/latex": [
       "\\begin{description*}\n",
       "\\item[apiVersion] 'v1'\n",
       "\\item[cytoscapeVersion] '3.7.1'\n",
       "\\end{description*}\n"
      ],
      "text/markdown": [
       "apiVersion\n",
       ":   'v1'cytoscapeVersion\n",
       ":   '3.7.1'\n",
       "\n"
      ],
      "text/plain": [
       "      apiVersion cytoscapeVersion \n",
       "            \"v1\"          \"3.7.1\" "
      ]
     },
     "metadata": {},
     "output_type": "display_data"
    }
   ],
   "source": [
    "# check if cytoscape is open and check version\n",
    "cytoscapePing()\n",
    "cytoscapeVersionInfo()"
   ]
  },
  {
   "cell_type": "markdown",
   "metadata": {},
   "source": [
    "### Network creation\n",
    "To begin with, we will load in our node and edge files to create our network.\n",
    "\n",
    "We have to clean these files so they are usable for network creation."
   ]
  },
  {
   "cell_type": "code",
   "execution_count": 4,
   "metadata": {},
   "outputs": [
    {
     "data": {
      "text/html": [
       "<table>\n",
       "<thead><tr><th scope=col>id</th><th scope=col>type</th><th scope=col>entrezgene</th></tr></thead>\n",
       "<tbody>\n",
       "\t<tr><td>AKT3     </td><td>Gene     </td><td>    10000</td></tr>\n",
       "\t<tr><td>CDH3     </td><td>Gene     </td><td>     1001</td></tr>\n",
       "\t<tr><td>SOD2     </td><td>Gene     </td><td>100129518</td></tr>\n",
       "\t<tr><td>MIR718   </td><td>Gene     </td><td>100313781</td></tr>\n",
       "\t<tr><td>FAM13A   </td><td>Gene     </td><td>    10144</td></tr>\n",
       "\t<tr><td>MIR6886  </td><td>Gene     </td><td>102465534</td></tr>\n",
       "</tbody>\n",
       "</table>\n"
      ],
      "text/latex": [
       "\\begin{tabular}{r|lll}\n",
       " id & type & entrezgene\\\\\n",
       "\\hline\n",
       "\t AKT3      & Gene      &     10000\\\\\n",
       "\t CDH3      & Gene      &      1001\\\\\n",
       "\t SOD2      & Gene      & 100129518\\\\\n",
       "\t MIR718    & Gene      & 100313781\\\\\n",
       "\t FAM13A    & Gene      &     10144\\\\\n",
       "\t MIR6886   & Gene      & 102465534\\\\\n",
       "\\end{tabular}\n"
      ],
      "text/markdown": [
       "\n",
       "| id | type | entrezgene |\n",
       "|---|---|---|\n",
       "| AKT3      | Gene      |     10000 |\n",
       "| CDH3      | Gene      |      1001 |\n",
       "| SOD2      | Gene      | 100129518 |\n",
       "| MIR718    | Gene      | 100313781 |\n",
       "| FAM13A    | Gene      |     10144 |\n",
       "| MIR6886   | Gene      | 102465534 |\n",
       "\n"
      ],
      "text/plain": [
       "  id      type entrezgene\n",
       "1 AKT3    Gene     10000 \n",
       "2 CDH3    Gene      1001 \n",
       "3 SOD2    Gene 100129518 \n",
       "4 MIR718  Gene 100313781 \n",
       "5 FAM13A  Gene     10144 \n",
       "6 MIR6886 Gene 102465534 "
      ]
     },
     "metadata": {},
     "output_type": "display_data"
    },
    {
     "data": {
      "text/html": [
       "<table>\n",
       "<thead><tr><th scope=col>source</th><th scope=col>target</th><th scope=col>interaction</th></tr></thead>\n",
       "<tbody>\n",
       "\t<tr><td>Vitamin_B12</td><td>PPARA      </td><td>interacts  </td></tr>\n",
       "\t<tr><td>Vitamin_B12</td><td>C4A        </td><td>interacts  </td></tr>\n",
       "\t<tr><td>Vitamin_B12</td><td>TF         </td><td>interacts  </td></tr>\n",
       "\t<tr><td>Vitamin_B12</td><td>LCN2       </td><td>interacts  </td></tr>\n",
       "\t<tr><td>Vitamin_B12</td><td>ELANE      </td><td>interacts  </td></tr>\n",
       "\t<tr><td>Vitamin_B12</td><td>BPI        </td><td>interacts  </td></tr>\n",
       "</tbody>\n",
       "</table>\n"
      ],
      "text/latex": [
       "\\begin{tabular}{r|lll}\n",
       " source & target & interaction\\\\\n",
       "\\hline\n",
       "\t Vitamin\\_B12 & PPARA         & interacts    \\\\\n",
       "\t Vitamin\\_B12 & C4A           & interacts    \\\\\n",
       "\t Vitamin\\_B12 & TF            & interacts    \\\\\n",
       "\t Vitamin\\_B12 & LCN2          & interacts    \\\\\n",
       "\t Vitamin\\_B12 & ELANE         & interacts    \\\\\n",
       "\t Vitamin\\_B12 & BPI           & interacts    \\\\\n",
       "\\end{tabular}\n"
      ],
      "text/markdown": [
       "\n",
       "| source | target | interaction |\n",
       "|---|---|---|\n",
       "| Vitamin_B12 | PPARA       | interacts   |\n",
       "| Vitamin_B12 | C4A         | interacts   |\n",
       "| Vitamin_B12 | TF          | interacts   |\n",
       "| Vitamin_B12 | LCN2        | interacts   |\n",
       "| Vitamin_B12 | ELANE       | interacts   |\n",
       "| Vitamin_B12 | BPI         | interacts   |\n",
       "\n"
      ],
      "text/plain": [
       "  source      target interaction\n",
       "1 Vitamin_B12 PPARA  interacts  \n",
       "2 Vitamin_B12 C4A    interacts  \n",
       "3 Vitamin_B12 TF     interacts  \n",
       "4 Vitamin_B12 LCN2   interacts  \n",
       "5 Vitamin_B12 ELANE  interacts  \n",
       "6 Vitamin_B12 BPI    interacts  "
      ]
     },
     "metadata": {},
     "output_type": "display_data"
    }
   ],
   "source": [
    "# load in data of network\n",
    "nodes <- as.data.frame(read.table(file.path(getwd(), \"data_output\", \"node_table.txt\"), header = T, sep = \"\\t\", stringsAsFactors = FALSE))\n",
    "edges <- as.data.frame(read.table(file.path(getwd(), \"data-output\", \"edge_table.txt\"), header = T, sep = \"\\t\", stringsAsFactors = FALSE))\n",
    "\n",
    "# clean up data\n",
    "colnames(nodes)[1] <- \"id\"\n",
    "nodes$id <- as.character(nodes$id)\n",
    "edges <- edges[,c(-3,-4)]\n",
    "colnames(edges)[c(1,2)] <- c(\"source\", \"target\") \n",
    "edges$interaction <- \"interacts\"\n",
    "edges$target <- as.character(edges$target)\n",
    "\n",
    "head(nodes)\n",
    "head(edges)"
   ]
  },
  {
   "cell_type": "markdown",
   "metadata": {},
   "source": [
    "Now we can create our network in Cytoscape"
   ]
  },
  {
   "cell_type": "code",
   "execution_count": 5,
   "metadata": {},
   "outputs": [
    {
     "name": "stdout",
     "output_type": "stream",
     "text": [
      "Loading data...\n",
      "Applying default style...\n",
      "Applying preferred layout...\n"
     ]
    },
    {
     "data": {
      "text/html": [
       "<strong>networkSUID:</strong> 20188"
      ],
      "text/latex": [
       "\\textbf{networkSUID:} 20188"
      ],
      "text/markdown": [
       "**networkSUID:** 20188"
      ],
      "text/plain": [
       "networkSUID \n",
       "      20188 "
      ]
     },
     "metadata": {},
     "output_type": "display_data"
    }
   ],
   "source": [
    "# create network from the data frames and map column for entrezgene IDs\n",
    "createNetworkFromDataFrames(nodes, edges, title = \"MyNetwork\", collection = \"MyCollection\")"
   ]
  },
  {
   "cell_type": "markdown",
   "metadata": {},
   "source": [
    "We have to load in our gene expression data file, and merge this file with the table in cytoscape."
   ]
  },
  {
   "cell_type": "code",
   "execution_count": 6,
   "metadata": {},
   "outputs": [
    {
     "data": {
      "text/html": [
       "'Success: Data loaded in defaultnode table'"
      ],
      "text/latex": [
       "'Success: Data loaded in defaultnode table'"
      ],
      "text/markdown": [
       "'Success: Data loaded in defaultnode table'"
      ],
      "text/plain": [
       "[1] \"Success: Data loaded in defaultnode table\""
      ]
     },
     "metadata": {},
     "output_type": "display_data"
    },
    {
     "data": {
      "text/html": [
       "<table>\n",
       "<thead><tr><th></th><th scope=col>SUID</th><th scope=col>shared name</th><th scope=col>name</th><th scope=col>selected</th><th scope=col>id</th><th scope=col>entrezgene</th><th scope=col>type</th><th scope=col>hgnc_symbol</th><th scope=col>logFC_BC</th><th scope=col>PValue_BC</th><th scope=col>...</th><th scope=col>logFC_MUO</th><th scope=col>PValue_MUO</th><th scope=col>logFC_RA</th><th scope=col>PValue_RA</th><th scope=col>logFC_DCM</th><th scope=col>PValue_DCM</th><th scope=col>logFC_ICM</th><th scope=col>PValue_ICM</th><th scope=col>logFC_SLE</th><th scope=col>PValue_SLE</th></tr></thead>\n",
       "<tbody>\n",
       "\t<tr><th scope=row>20480</th><td>20480        </td><td>TLR10        </td><td>TLR10        </td><td>FALSE        </td><td>TLR10        </td><td>81793        </td><td>Gene         </td><td>TLR10        </td><td>-1.1108490   </td><td>0.27567030   </td><td>...          </td><td>0.02387346   </td><td>0.349838500  </td><td> 0.00000000  </td><td>0.0000000000 </td><td> 0.000000e+00</td><td>0.0000000    </td><td> 0.0000000   </td><td>0.000000000  </td><td>0.00000000   </td><td>0.00000000   </td></tr>\n",
       "\t<tr><th scope=row>20481</th><td>20481        </td><td>EOMES        </td><td>EOMES        </td><td>FALSE        </td><td>EOMES        </td><td> 8320        </td><td>Gene         </td><td>EOMES        </td><td>-2.0077940   </td><td>0.03387526   </td><td>...          </td><td>0.09126500   </td><td>0.013580990  </td><td> 0.00000000  </td><td>0.0000000000 </td><td>-3.089133e-01</td><td>0.5439223    </td><td> 0.6231157   </td><td>0.296657600  </td><td>0.33585870   </td><td>0.09910059   </td></tr>\n",
       "\t<tr><th scope=row>20482</th><td>20482        </td><td>RASSF5       </td><td>RASSF5       </td><td>FALSE        </td><td>RASSF5       </td><td>83593        </td><td>Gene         </td><td>RASSF5       </td><td> 0.3822630   </td><td>0.43596730   </td><td>...          </td><td>0.29663090   </td><td>0.005014857  </td><td> 0.00000000  </td><td>0.0000000000 </td><td> 0.000000e+00</td><td>0.0000000    </td><td> 0.0000000   </td><td>0.000000000  </td><td>0.00000000   </td><td>0.00000000   </td></tr>\n",
       "\t<tr><th scope=row>20483</th><td>20483        </td><td>CASP5        </td><td>CASP5        </td><td>FALSE        </td><td>CASP5        </td><td>  838        </td><td>Gene         </td><td>CASP5        </td><td>-1.5510130   </td><td>0.10304340   </td><td>...          </td><td>0.01805769   </td><td>0.374999800  </td><td>-0.04593118  </td><td>0.6530018000 </td><td> 0.000000e+00</td><td>0.0000000    </td><td> 0.0000000   </td><td>0.000000000  </td><td>0.00000000   </td><td>1.00000000   </td></tr>\n",
       "\t<tr><th scope=row>20484</th><td>20484        </td><td>CASP8        </td><td>CASP8        </td><td>FALSE        </td><td>CASP8        </td><td>  841        </td><td>Gene         </td><td>CASP8        </td><td>-0.4213322   </td><td>0.21946160   </td><td>...          </td><td>0.14672850   </td><td>0.005653114  </td><td> 0.97265500  </td><td>0.0008078479 </td><td> 1.017712e-01</td><td>0.7852309    </td><td>-0.1208097   </td><td>0.663542600  </td><td>0.04546105   </td><td>0.62103690   </td></tr>\n",
       "\t<tr><th scope=row>20485</th><td>20485        </td><td>CARD6        </td><td>CARD6        </td><td>FALSE        </td><td>CARD6        </td><td>84674        </td><td>Gene         </td><td>CARD6        </td><td>-3.2832540   </td><td>0.00005090   </td><td>...          </td><td>0.24237930   </td><td>0.009069235  </td><td> 0.00000000  </td><td>0.0000000000 </td><td> 9.694263e-05</td><td>0.9996639    </td><td>-0.6947912   </td><td>0.005867205  </td><td>0.00000000   </td><td>0.00000000   </td></tr>\n",
       "</tbody>\n",
       "</table>\n"
      ],
      "text/latex": [
       "\\begin{tabular}{r|llllllllllllllllllllll}\n",
       "  & SUID & shared name & name & selected & id & entrezgene & type & hgnc\\_symbol & logFC\\_BC & PValue\\_BC & ... & logFC\\_MUO & PValue\\_MUO & logFC\\_RA & PValue\\_RA & logFC\\_DCM & PValue\\_DCM & logFC\\_ICM & PValue\\_ICM & logFC\\_SLE & PValue\\_SLE\\\\\n",
       "\\hline\n",
       "\t20480 & 20480         & TLR10         & TLR10         & FALSE         & TLR10         & 81793         & Gene          & TLR10         & -1.1108490    & 0.27567030    & ...           & 0.02387346    & 0.349838500   &  0.00000000   & 0.0000000000  &  0.000000e+00 & 0.0000000     &  0.0000000    & 0.000000000   & 0.00000000    & 0.00000000   \\\\\n",
       "\t20481 & 20481         & EOMES         & EOMES         & FALSE         & EOMES         &  8320         & Gene          & EOMES         & -2.0077940    & 0.03387526    & ...           & 0.09126500    & 0.013580990   &  0.00000000   & 0.0000000000  & -3.089133e-01 & 0.5439223     &  0.6231157    & 0.296657600   & 0.33585870    & 0.09910059   \\\\\n",
       "\t20482 & 20482         & RASSF5        & RASSF5        & FALSE         & RASSF5        & 83593         & Gene          & RASSF5        &  0.3822630    & 0.43596730    & ...           & 0.29663090    & 0.005014857   &  0.00000000   & 0.0000000000  &  0.000000e+00 & 0.0000000     &  0.0000000    & 0.000000000   & 0.00000000    & 0.00000000   \\\\\n",
       "\t20483 & 20483         & CASP5         & CASP5         & FALSE         & CASP5         &   838         & Gene          & CASP5         & -1.5510130    & 0.10304340    & ...           & 0.01805769    & 0.374999800   & -0.04593118   & 0.6530018000  &  0.000000e+00 & 0.0000000     &  0.0000000    & 0.000000000   & 0.00000000    & 1.00000000   \\\\\n",
       "\t20484 & 20484         & CASP8         & CASP8         & FALSE         & CASP8         &   841         & Gene          & CASP8         & -0.4213322    & 0.21946160    & ...           & 0.14672850    & 0.005653114   &  0.97265500   & 0.0008078479  &  1.017712e-01 & 0.7852309     & -0.1208097    & 0.663542600   & 0.04546105    & 0.62103690   \\\\\n",
       "\t20485 & 20485         & CARD6         & CARD6         & FALSE         & CARD6         & 84674         & Gene          & CARD6         & -3.2832540    & 0.00005090    & ...           & 0.24237930    & 0.009069235   &  0.00000000   & 0.0000000000  &  9.694263e-05 & 0.9996639     & -0.6947912    & 0.005867205   & 0.00000000    & 0.00000000   \\\\\n",
       "\\end{tabular}\n"
      ],
      "text/markdown": [
       "\n",
       "| <!--/--> | SUID | shared name | name | selected | id | entrezgene | type | hgnc_symbol | logFC_BC | PValue_BC | ... | logFC_MUO | PValue_MUO | logFC_RA | PValue_RA | logFC_DCM | PValue_DCM | logFC_ICM | PValue_ICM | logFC_SLE | PValue_SLE |\n",
       "|---|---|---|---|---|---|---|---|---|---|---|---|---|---|---|---|---|---|---|---|---|---|\n",
       "| 20480 | 20480         | TLR10         | TLR10         | FALSE         | TLR10         | 81793         | Gene          | TLR10         | -1.1108490    | 0.27567030    | ...           | 0.02387346    | 0.349838500   |  0.00000000   | 0.0000000000  |  0.000000e+00 | 0.0000000     |  0.0000000    | 0.000000000   | 0.00000000    | 0.00000000    |\n",
       "| 20481 | 20481         | EOMES         | EOMES         | FALSE         | EOMES         |  8320         | Gene          | EOMES         | -2.0077940    | 0.03387526    | ...           | 0.09126500    | 0.013580990   |  0.00000000   | 0.0000000000  | -3.089133e-01 | 0.5439223     |  0.6231157    | 0.296657600   | 0.33585870    | 0.09910059    |\n",
       "| 20482 | 20482         | RASSF5        | RASSF5        | FALSE         | RASSF5        | 83593         | Gene          | RASSF5        |  0.3822630    | 0.43596730    | ...           | 0.29663090    | 0.005014857   |  0.00000000   | 0.0000000000  |  0.000000e+00 | 0.0000000     |  0.0000000    | 0.000000000   | 0.00000000    | 0.00000000    |\n",
       "| 20483 | 20483         | CASP5         | CASP5         | FALSE         | CASP5         |   838         | Gene          | CASP5         | -1.5510130    | 0.10304340    | ...           | 0.01805769    | 0.374999800   | -0.04593118   | 0.6530018000  |  0.000000e+00 | 0.0000000     |  0.0000000    | 0.000000000   | 0.00000000    | 1.00000000    |\n",
       "| 20484 | 20484         | CASP8         | CASP8         | FALSE         | CASP8         |   841         | Gene          | CASP8         | -0.4213322    | 0.21946160    | ...           | 0.14672850    | 0.005653114   |  0.97265500   | 0.0008078479  |  1.017712e-01 | 0.7852309     | -0.1208097    | 0.663542600   | 0.04546105    | 0.62103690    |\n",
       "| 20485 | 20485         | CARD6         | CARD6         | FALSE         | CARD6         | 84674         | Gene          | CARD6         | -3.2832540    | 0.00005090    | ...           | 0.24237930    | 0.009069235   |  0.00000000   | 0.0000000000  |  9.694263e-05 | 0.9996639     | -0.6947912    | 0.005867205   | 0.00000000    | 0.00000000    |\n",
       "\n"
      ],
      "text/plain": [
       "      SUID  shared name name   selected id     entrezgene type hgnc_symbol\n",
       "20480 20480 TLR10       TLR10  FALSE    TLR10  81793      Gene TLR10      \n",
       "20481 20481 EOMES       EOMES  FALSE    EOMES   8320      Gene EOMES      \n",
       "20482 20482 RASSF5      RASSF5 FALSE    RASSF5 83593      Gene RASSF5     \n",
       "20483 20483 CASP5       CASP5  FALSE    CASP5    838      Gene CASP5      \n",
       "20484 20484 CASP8       CASP8  FALSE    CASP8    841      Gene CASP8      \n",
       "20485 20485 CARD6       CARD6  FALSE    CARD6  84674      Gene CARD6      \n",
       "      logFC_BC   PValue_BC  ... logFC_MUO  PValue_MUO  logFC_RA    PValue_RA   \n",
       "20480 -1.1108490 0.27567030 ... 0.02387346 0.349838500  0.00000000 0.0000000000\n",
       "20481 -2.0077940 0.03387526 ... 0.09126500 0.013580990  0.00000000 0.0000000000\n",
       "20482  0.3822630 0.43596730 ... 0.29663090 0.005014857  0.00000000 0.0000000000\n",
       "20483 -1.5510130 0.10304340 ... 0.01805769 0.374999800 -0.04593118 0.6530018000\n",
       "20484 -0.4213322 0.21946160 ... 0.14672850 0.005653114  0.97265500 0.0008078479\n",
       "20485 -3.2832540 0.00005090 ... 0.24237930 0.009069235  0.00000000 0.0000000000\n",
       "      logFC_DCM     PValue_DCM logFC_ICM  PValue_ICM  logFC_SLE  PValue_SLE\n",
       "20480  0.000000e+00 0.0000000   0.0000000 0.000000000 0.00000000 0.00000000\n",
       "20481 -3.089133e-01 0.5439223   0.6231157 0.296657600 0.33585870 0.09910059\n",
       "20482  0.000000e+00 0.0000000   0.0000000 0.000000000 0.00000000 0.00000000\n",
       "20483  0.000000e+00 0.0000000   0.0000000 0.000000000 0.00000000 1.00000000\n",
       "20484  1.017712e-01 0.7852309  -0.1208097 0.663542600 0.04546105 0.62103690\n",
       "20485  9.694263e-05 0.9996639  -0.6947912 0.005867205 0.00000000 0.00000000"
      ]
     },
     "metadata": {},
     "output_type": "display_data"
    }
   ],
   "source": [
    "# load data set with gene expression values (logFC, p.value)\n",
    "expr_data <- read.table(file.path(getwd(), \"expr_data\", \"merged_data_final.txt\"), header = T, sep =\"\\t\")\n",
    "\n",
    "# load data into cytoscape\n",
    "loadTableData(expr_data, data.key.colum = \"entrezgene\", table.key.column = \"entrezgene\")\n",
    "\n",
    "# check if tables are well merged\n",
    "nodeTable <- getTableColumns(table = \"node\")\n",
    "head(nodeTable)"
   ]
  },
  {
   "cell_type": "markdown",
   "metadata": {},
   "source": [
    "### Manual visualization \n",
    "Before we start to visualize our network, we have to perform some manual stuff! \n",
    "\n",
    "To analyze the network we have to go to Cytoscape. First Open cytoscape go to Tools then NetworkAnalyzer then Network Analysis then Analyze Network. Treat the network as unidirected and click OK. We analyzed the network now we want to change the layout of the network. Go to Layout then yFiles Organic Layout. Close this message box when finished, and return to R."
   ]
  },
  {
   "cell_type": "markdown",
   "metadata": {},
   "source": [
    "### Automated visualization\n",
    "Now everthing is loaded into cytoscape and the manual stuff is done, we can working on the automatization of the visual style.\n",
    "\n",
    "For every dataset we would like to create a own network. We will do this using the clone network function.\n",
    "\n",
    "When we have a network available for every dataset we have, we can set a visual style which maps the gene expression (logFC) and significance (p-value) for every gene node in the network per dataset. Fill in for the Automation function y, z and p. Whereas; y is the negative logFC cutoff, z is the positive logFC cutoff and p is the p-value."
   ]
  },
  {
   "cell_type": "code",
   "execution_count": 7,
   "metadata": {},
   "outputs": [],
   "source": [
    "# Fill in for the Automation function y, z and p. \n",
    "# Whereas negLogFC is the negative logFC cutoff, posLogFC is the positive logFC cutoff and pValue is the p-value.\n",
    "pValue <- 0.05\n",
    "negLogFC <- -1.00\n",
    "posLogFC <- 1.00"
   ]
  },
  {
   "cell_type": "code",
   "execution_count": 8,
   "metadata": {},
   "outputs": [],
   "source": [
    "Automation <- function(y,z,p,disease) {\n",
    "    \n",
    "# lock width and height of nodes\n",
    "lockNodeDimensions(TRUE)\n",
    "\n",
    "# clone network\n",
    "cloneNetwork(network = \"MyNetwork\")\n",
    "setCurrentNetwork(network=\"MyNetwork_1\")\n",
    "renameNetwork(disease)\n",
    " \n",
    "# Map logFC and pValue per disease for every respective network and add visual style to every network\n",
    "setCurrentNetwork(network = disease)\n",
    "style.name = paste(\"style_\", disease, sep = \"\")\n",
    "  \n",
    "# map logFC of gene expression data per disease on respective networks\n",
    "mappings <- list(nodeFill <- mapVisualProperty(\"node fill color\", table.column = paste(\"logFC_\", disease , sep = \"\"), \n",
    "                                    mapping.type = \"continuous\",\n",
    "                                    c(y,0,z),\n",
    "                                    c(\"#0000FF\", \"#FFFFFF\", \"#FF0000\")),\n",
    "  \n",
    "# map significance per disease on respective networks\n",
    "nodeBorder <- mapVisualProperty(\"node border paint\", table.column = paste(\"PValue_\", disease, sep = \"\"),\n",
    "                                    mapping.type = \"continuous\",\n",
    "                                    table.column.values = c(0.00, p, 1.00), \n",
    "                                    c(\"#00FF00\", \"#FFFFFF\", \"#FFFFFF\")),\n",
    "  \n",
    "# map node shapes\n",
    "nodeShape <- mapVisualProperty(\"Node Shape\", table.column = \"type\", \n",
    "                                    mapping.type = \"discrete\", \n",
    "                                    table.column.values = c(\"Gene\", \"Process\", \"InflGene\"),\n",
    "                                    c(\"DIAMOND\", \"ELLIPSE\", \"VEE\")),\n",
    "  \n",
    "label <- mapVisualProperty(\"Node Label\", table.column = \"shared name\",\n",
    "                             mapping.type = \"passthrough\"))\n",
    "\n",
    "defaults <- list(NODE_FILL_COLOR = \"#999999\",\n",
    "                NODE_BORDER_PAINT = \"#999999\",\n",
    "                NODE_BORDER_WIDTH = 7,\n",
    "                NODE_LABEL_FONT_SIZE = 18,\n",
    "                NETWORK_TITLE = disease)\n",
    "  \n",
    "# create and set unique visual style per disease dataset\n",
    "createVisualStyle(style.name, defaults, mappings = mappings)\n",
    "setVisualStyle(style.name)\n",
    "\n",
    "# save disease networks\n",
    "setCurrentNetwork(network = disease)\n",
    "fitContent()\n",
    "  \n",
    "png.file <- file.path(getwd(), \"data-output\", \"images\", paste0(z, \"_gene_expr_network_\", disease, \".png\"))\n",
    "exportImage(png.file, type = \"png\", resolution=600, zoom=500)\n",
    "\n",
    "# create subnetwork of significant differentially expressed genes\n",
    "setCurrentNetwork(network = disease)\n",
    "  \n",
    "createColumnFilter(filter.name = \"expr genes\",     column = paste(\"logFC_\", disease, sep = \"\") , c(y,z), \"IS_NOT_BETWEEN\")\n",
    "createColumnFilter(filter.name = \"sig genes\",      column = paste(\"PValue_\", disease, sep = \"\"), p, \"LESS_THAN\")\n",
    "sigexpr <- createCompositeFilter('combined filter', filter.list = c(\"sig genes\", \"expr genes\"), type = \"ALL\")\n",
    "  \n",
    "process <- createColumnFilter(filter.name = \"Pathway filter\", column = \"type\", \"Process\", \"IS\")\n",
    "  \n",
    "selectNodes(nodes = c(process$nodes, sigexpr$nodes), by.col = \"shared name\")\n",
    "  \n",
    "createSubnetwork(nodes = \"selected\", subnetwork.name = paste0(\"subnetwork \", disease, \" genes\"))\n",
    "    \n",
    "setCurrentNetwork(network = paste0(\"subnetwork \", disease, \" genes\"))\n",
    "fitContent()\n",
    "  \n",
    "png.file <- file.path(getwd(), \"data-output\", \"images\", paste0(z, \"_subgene_expr_network_\", disease, \".png\"))\n",
    "exportImage(png.file, type = \"png\", resolution=600, zoom=500)\n",
    "\n",
    "# create subnetwork of significant differentially expressed inflammation genes\n",
    "setCurrentNetwork(network = disease)\n",
    "  \n",
    "createColumnFilter(filter.name = \"Infl filter\",    column = \"type\", \"InflGene\", \"IS\")\n",
    "createColumnFilter(filter.name = \"expr genes\",     column = paste(\"logFC_\", disease, sep = \"\") , c(y,z), \"IS_NOT_BETWEEN\")\n",
    "createColumnFilter(filter.name = \"sig genes\",      column = paste(\"PValue_\", disease, sep = \"\"), p, \"LESS_THAN\")\n",
    "sigexpr2 <- createCompositeFilter('combined filter', filter.list = c(\"Infl filter\", \"sig genes\", \"expr genes\"), type = \"ALL\")\n",
    "  \n",
    "process <- createColumnFilter(filter.name = \"Pathway filter\", column = \"type\", \"Process\", \"IS\")\n",
    "  \n",
    "selectNodes(nodes = c(process$nodes, sigexpr$nodes), by.col = \"shared name\")\n",
    "  \n",
    "createSubnetwork(nodes = \"selected\", subnetwork.name = paste0(\"subnetwork \", disease, \" inflGenes\"))\n",
    "    \n",
    "setCurrentNetwork(network = paste0(\"subnetwork \", disease, \" inflGenes\"))\n",
    "fitContent()\n",
    "  \n",
    "png.file <- file.path(getwd(), \"data-output\", \"images\", paste0(z, \"_subinflgene_expr_network_\", disease, \".png\"))\n",
    "exportImage(png.file, type = \"png\", resolution=600, zoom=500)\n",
    "\n",
    "}\n",
    "\n"
   ]
  },
  {
   "cell_type": "code",
   "execution_count": 10,
   "metadata": {},
   "outputs": [
    {
     "name": "stdout",
     "output_type": "stream",
     "text": [
      "[1] \"BC\"\n",
      "[1] \"LC\"\n",
      "[1] \"MUO\"\n",
      "[1] \"RA\"\n",
      "[1] \"DCM\"\n",
      "[1] \"ICM\"\n",
      "[1] \"SLE\"\n"
     ]
    },
    {
     "ename": "ERROR",
     "evalue": "Error in paste0(z, \"gene_expr_networks.cys\"): object 'z' not found\n",
     "output_type": "error",
     "traceback": [
      "Error in paste0(z, \"gene_expr_networks.cys\"): object 'z' not found\nTraceback:\n",
      "1. file.path(getwd(), \"Network\", paste0(z, \"gene_expr_networks.cys\"))",
      "2. paste0(z, \"gene_expr_networks.cys\")"
     ]
    }
   ],
   "source": [
    "# fill in abbreviations used for disease gene expression daatasets, same abbreviation used for logFC_x and PValue_x\n",
    "diseases <- c(\"BC\",\"LC\",\"MUO\",\"RA\",\"DCM\",\"ICM\",\"SLE\")\n",
    "\n",
    "# loop over function for every disease dataset\n",
    "for(i in 1:length(diseases)) {\n",
    "    print(diseases[i])\n",
    "    Automation(y = negLogFC, z = posLogFC, p = pValue, disease = diseases[i])\n",
    "}\n",
    "\n",
    "# save Cytoscape session\n",
    "session.file <- file.path(getwd(), \"data-output\", \"networks\", paste0(posLogFC, \"gene_expr_networks.cys\"))\n",
    "saveSession(session.file)"
   ]
  },
  {
   "cell_type": "code",
   "execution_count": null,
   "metadata": {},
   "outputs": [],
   "source": [
    "# information about session\n",
    "sessionInfo()"
   ]
  }
 ],
 "metadata": {
  "kernelspec": {
   "display_name": "R",
   "language": "R",
   "name": "ir"
  },
  "language_info": {
   "codemirror_mode": "r",
   "file_extension": ".r",
   "mimetype": "text/x-r-source",
   "name": "R",
   "pygments_lexer": "r",
   "version": "3.5.1"
  }
 },
 "nbformat": 4,
 "nbformat_minor": 2
}
