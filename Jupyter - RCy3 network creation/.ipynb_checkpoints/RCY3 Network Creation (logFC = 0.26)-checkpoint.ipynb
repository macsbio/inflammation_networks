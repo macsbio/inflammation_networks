{
 "cells": [
  {
   "cell_type": "markdown",
   "metadata": {},
   "source": [
    "# Automation Cytoscape network creation using RCy3 package\n",
    "We are going to use the RCy3 package in R to automate the workflow for network creation.\n",
    "We are using multiple gene epxression datasets acquired from different studies. These datasets contain gene expression profiles of patients with various diseases. \n",
    "The diseases which are going to be used in this notebook are: lung-cancer (LC), breast-cancer (BC), metabolically unhealthy obesity (MUO), rheumatoid arthritis (RA), dilated cardiomyopathy (DCM), ishemic cardiomyopathy (ICM) and systemis lupus erythematosus (SLE).\n",
    "\n",
    "The network will consist of pathways, pathway clusters and the genes which occur in these pathways. These pathways are acquired based on genes associated with inflammation which were retrieved from [DisGeNET](http://www.disgenet.org/home/) and [GeneCards](https://www.genecards.org/). "
   ]
  },
  {
   "cell_type": "code",
   "execution_count": 20,
   "metadata": {},
   "outputs": [
    {
     "data": {
      "text/html": [
       "'C:/Users/Laurent/Documents/GitHub/inflammation_networks2/Jupyter - RCy3 network creation'"
      ],
      "text/latex": [
       "'C:/Users/Laurent/Documents/GitHub/inflammation\\_networks2/Jupyter - RCy3 network creation'"
      ],
      "text/markdown": [
       "'C:/Users/Laurent/Documents/GitHub/inflammation_networks2/Jupyter - RCy3 network creation'"
      ],
      "text/plain": [
       "[1] \"C:/Users/Laurent/Documents/GitHub/inflammation_networks2/Jupyter - RCy3 network creation\""
      ]
     },
     "metadata": {},
     "output_type": "display_data"
    }
   ],
   "source": [
    "# check wd\n",
    "getwd()"
   ]
  },
  {
   "cell_type": "code",
   "execution_count": 21,
   "metadata": {},
   "outputs": [],
   "source": [
    "# load library\n",
    "library(RCy3)"
   ]
  },
  {
   "cell_type": "markdown",
   "metadata": {},
   "source": [
    "### We first start with opening cytoscape and checking if we are connected"
   ]
  },
  {
   "cell_type": "code",
   "execution_count": 22,
   "metadata": {},
   "outputs": [
    {
     "data": {
      "text/html": [
       "'You are connected to Cytoscape!'"
      ],
      "text/latex": [
       "'You are connected to Cytoscape!'"
      ],
      "text/markdown": [
       "'You are connected to Cytoscape!'"
      ],
      "text/plain": [
       "[1] \"You are connected to Cytoscape!\""
      ]
     },
     "metadata": {},
     "output_type": "display_data"
    },
    {
     "data": {
      "text/html": [
       "<dl class=dl-horizontal>\n",
       "\t<dt>apiVersion</dt>\n",
       "\t\t<dd>'v1'</dd>\n",
       "\t<dt>cytoscapeVersion</dt>\n",
       "\t\t<dd>'3.7.1'</dd>\n",
       "</dl>\n"
      ],
      "text/latex": [
       "\\begin{description*}\n",
       "\\item[apiVersion] 'v1'\n",
       "\\item[cytoscapeVersion] '3.7.1'\n",
       "\\end{description*}\n"
      ],
      "text/markdown": [
       "apiVersion\n",
       ":   'v1'cytoscapeVersion\n",
       ":   '3.7.1'\n",
       "\n"
      ],
      "text/plain": [
       "      apiVersion cytoscapeVersion \n",
       "            \"v1\"          \"3.7.1\" "
      ]
     },
     "metadata": {},
     "output_type": "display_data"
    }
   ],
   "source": [
    "# check if cytoscape is open and check version\n",
    "cytoscapePing()\n",
    "cytoscapeVersionInfo()"
   ]
  },
  {
   "cell_type": "markdown",
   "metadata": {},
   "source": [
    "### Network creation\n",
    "To begin with, we will load in our node and edge files to create our network."
   ]
  },
  {
   "cell_type": "code",
   "execution_count": 23,
   "metadata": {},
   "outputs": [],
   "source": [
    "# load in data of network\n",
    "nodes <- as.data.frame(read.table(file.path(getwd(), \"Network\", \"nodes_final.txt\"), header = T, sep = \"\\t\", stringsAsFactors = FALSE))\n",
    "edges <- as.data.frame(read.table(file.path(getwd(), \"Network\", \"edges_final.txt\"), header = T, sep = \"\\t\", stringsAsFactors = FALSE))"
   ]
  },
  {
   "cell_type": "markdown",
   "metadata": {},
   "source": [
    "We have to clean these files so they are usable for network creation."
   ]
  },
  {
   "cell_type": "code",
   "execution_count": 24,
   "metadata": {},
   "outputs": [
    {
     "data": {
      "text/html": [
       "<table>\n",
       "<thead><tr><th scope=col>id</th><th scope=col>type</th><th scope=col>entrezgene</th></tr></thead>\n",
       "<tbody>\n",
       "\t<tr><td>AKT3     </td><td>Gene     </td><td>    10000</td></tr>\n",
       "\t<tr><td>CDH3     </td><td>Gene     </td><td>     1001</td></tr>\n",
       "\t<tr><td>SOD2     </td><td>Gene     </td><td>100129518</td></tr>\n",
       "\t<tr><td>MIR718   </td><td>Gene     </td><td>100313781</td></tr>\n",
       "\t<tr><td>FAM13A   </td><td>Gene     </td><td>    10144</td></tr>\n",
       "\t<tr><td>MIR6886  </td><td>Gene     </td><td>102465534</td></tr>\n",
       "</tbody>\n",
       "</table>\n"
      ],
      "text/latex": [
       "\\begin{tabular}{r|lll}\n",
       " id & type & entrezgene\\\\\n",
       "\\hline\n",
       "\t AKT3      & Gene      &     10000\\\\\n",
       "\t CDH3      & Gene      &      1001\\\\\n",
       "\t SOD2      & Gene      & 100129518\\\\\n",
       "\t MIR718    & Gene      & 100313781\\\\\n",
       "\t FAM13A    & Gene      &     10144\\\\\n",
       "\t MIR6886   & Gene      & 102465534\\\\\n",
       "\\end{tabular}\n"
      ],
      "text/markdown": [
       "\n",
       "| id | type | entrezgene |\n",
       "|---|---|---|\n",
       "| AKT3      | Gene      |     10000 |\n",
       "| CDH3      | Gene      |      1001 |\n",
       "| SOD2      | Gene      | 100129518 |\n",
       "| MIR718    | Gene      | 100313781 |\n",
       "| FAM13A    | Gene      |     10144 |\n",
       "| MIR6886   | Gene      | 102465534 |\n",
       "\n"
      ],
      "text/plain": [
       "  id      type entrezgene\n",
       "1 AKT3    Gene     10000 \n",
       "2 CDH3    Gene      1001 \n",
       "3 SOD2    Gene 100129518 \n",
       "4 MIR718  Gene 100313781 \n",
       "5 FAM13A  Gene     10144 \n",
       "6 MIR6886 Gene 102465534 "
      ]
     },
     "metadata": {},
     "output_type": "display_data"
    },
    {
     "data": {
      "text/html": [
       "<table>\n",
       "<thead><tr><th scope=col>source</th><th scope=col>target</th><th scope=col>interaction</th></tr></thead>\n",
       "<tbody>\n",
       "\t<tr><td>Vitamin_B12</td><td>PPARA      </td><td>interacts  </td></tr>\n",
       "\t<tr><td>Vitamin_B12</td><td>C4A        </td><td>interacts  </td></tr>\n",
       "\t<tr><td>Vitamin_B12</td><td>TF         </td><td>interacts  </td></tr>\n",
       "\t<tr><td>Vitamin_B12</td><td>LCN2       </td><td>interacts  </td></tr>\n",
       "\t<tr><td>Vitamin_B12</td><td>ELANE      </td><td>interacts  </td></tr>\n",
       "\t<tr><td>Vitamin_B12</td><td>BPI        </td><td>interacts  </td></tr>\n",
       "</tbody>\n",
       "</table>\n"
      ],
      "text/latex": [
       "\\begin{tabular}{r|lll}\n",
       " source & target & interaction\\\\\n",
       "\\hline\n",
       "\t Vitamin\\_B12 & PPARA         & interacts    \\\\\n",
       "\t Vitamin\\_B12 & C4A           & interacts    \\\\\n",
       "\t Vitamin\\_B12 & TF            & interacts    \\\\\n",
       "\t Vitamin\\_B12 & LCN2          & interacts    \\\\\n",
       "\t Vitamin\\_B12 & ELANE         & interacts    \\\\\n",
       "\t Vitamin\\_B12 & BPI           & interacts    \\\\\n",
       "\\end{tabular}\n"
      ],
      "text/markdown": [
       "\n",
       "| source | target | interaction |\n",
       "|---|---|---|\n",
       "| Vitamin_B12 | PPARA       | interacts   |\n",
       "| Vitamin_B12 | C4A         | interacts   |\n",
       "| Vitamin_B12 | TF          | interacts   |\n",
       "| Vitamin_B12 | LCN2        | interacts   |\n",
       "| Vitamin_B12 | ELANE       | interacts   |\n",
       "| Vitamin_B12 | BPI         | interacts   |\n",
       "\n"
      ],
      "text/plain": [
       "  source      target interaction\n",
       "1 Vitamin_B12 PPARA  interacts  \n",
       "2 Vitamin_B12 C4A    interacts  \n",
       "3 Vitamin_B12 TF     interacts  \n",
       "4 Vitamin_B12 LCN2   interacts  \n",
       "5 Vitamin_B12 ELANE  interacts  \n",
       "6 Vitamin_B12 BPI    interacts  "
      ]
     },
     "metadata": {},
     "output_type": "display_data"
    }
   ],
   "source": [
    "# clean up data\n",
    "colnames(nodes)[1] <- \"id\"\n",
    "nodes$id <- as.character(nodes$id)\n",
    "edges <- edges[,c(-3,-4)]\n",
    "colnames(edges)[c(1,2)] <- c(\"source\", \"target\") \n",
    "edges$interaction <- \"interacts\"\n",
    "edges$target <- as.character(edges$target)\n",
    "\n",
    "head(nodes)\n",
    "head(edges)"
   ]
  },
  {
   "cell_type": "markdown",
   "metadata": {},
   "source": [
    "Now we can create our network in Cytoscape"
   ]
  },
  {
   "cell_type": "code",
   "execution_count": 25,
   "metadata": {},
   "outputs": [
    {
     "name": "stdout",
     "output_type": "stream",
     "text": [
      "Loading data...\n",
      "Applying default style...\n",
      "Applying preferred layout...\n"
     ]
    },
    {
     "data": {
      "text/html": [
       "<strong>networkSUID:</strong> 52"
      ],
      "text/latex": [
       "\\textbf{networkSUID:} 52"
      ],
      "text/markdown": [
       "**networkSUID:** 52"
      ],
      "text/plain": [
       "networkSUID \n",
       "         52 "
      ]
     },
     "metadata": {},
     "output_type": "display_data"
    },
    {
     "data": {
      "text/html": [
       "<table>\n",
       "<thead><tr><th></th><th scope=col>shared name</th><th scope=col>Entrez Gene</th></tr></thead>\n",
       "<tbody>\n",
       "\t<tr><th scope=row>62</th><td>AKT3     </td><td>10000    </td></tr>\n",
       "\t<tr><th scope=row>63</th><td>CDH3     </td><td>1001     </td></tr>\n",
       "\t<tr><th scope=row>64</th><td>SOD2     </td><td>100129518</td></tr>\n",
       "\t<tr><th scope=row>65</th><td>MIR718   </td><td>100313781</td></tr>\n",
       "\t<tr><th scope=row>66</th><td>FAM13A   </td><td>10144    </td></tr>\n",
       "\t<tr><th scope=row>67</th><td>MIR6886  </td><td>102465534</td></tr>\n",
       "\t<tr><th scope=row>68</th><td>CBS      </td><td>102724560</td></tr>\n",
       "\t<tr><th scope=row>69</th><td>TLR6     </td><td>10333    </td></tr>\n",
       "\t<tr><th scope=row>70</th><td>TAB1     </td><td>10454    </td></tr>\n",
       "\t<tr><th scope=row>71</th><td>CEBPB    </td><td>1051     </td></tr>\n",
       "\t<tr><th scope=row>72</th><td>CEBPD    </td><td>1052     </td></tr>\n",
       "\t<tr><th scope=row>73</th><td>TRAF3IP2 </td><td>10758    </td></tr>\n",
       "\t<tr><th scope=row>74</th><td>MTRR     </td><td>107986404</td></tr>\n",
       "\t<tr><th scope=row>75</th><td>SUGT1    </td><td>10910    </td></tr>\n",
       "\t<tr><th scope=row>76</th><td>RIPK3    </td><td>11035    </td></tr>\n",
       "\t<tr><th scope=row>77</th><td>IRAK3    </td><td>11213    </td></tr>\n",
       "\t<tr><th scope=row>78</th><td>EGLN2    </td><td>112398   </td></tr>\n",
       "\t<tr><th scope=row>79</th><td>IL17F    </td><td>112744   </td></tr>\n",
       "\t<tr><th scope=row>80</th><td>PLCD3    </td><td>113026   </td></tr>\n",
       "\t<tr><th scope=row>81</th><td>TIRAP    </td><td>114609   </td></tr>\n",
       "\t<tr><th scope=row>82</th><td>CHUK     </td><td>1147     </td></tr>\n",
       "\t<tr><th scope=row>83</th><td>SERPINA3 </td><td>12       </td></tr>\n",
       "\t<tr><th scope=row>84</th><td>CMA1     </td><td>1215     </td></tr>\n",
       "\t<tr><th scope=row>85</th><td>CCR1     </td><td>1230     </td></tr>\n",
       "\t<tr><th scope=row>86</th><td>CCR3     </td><td>1232     </td></tr>\n",
       "\t<tr><th scope=row>87</th><td>CCR4     </td><td>1233     </td></tr>\n",
       "\t<tr><th scope=row>88</th><td>CCR5     </td><td>1234     </td></tr>\n",
       "\t<tr><th scope=row>89</th><td>COL4A1   </td><td>1282     </td></tr>\n",
       "\t<tr><th scope=row>90</th><td>IL17RE   </td><td>132014   </td></tr>\n",
       "\t<tr><th scope=row>91</th><td>CREBBP   </td><td>1387     </td></tr>\n",
       "\t<tr><th scope=row>...</th><td>...</td><td>...</td></tr>\n",
       "\t<tr><th scope=row>468</th><td>TLR2                  </td><td>7097                  </td></tr>\n",
       "\t<tr><th scope=row>469</th><td>TLR3                  </td><td>7098                  </td></tr>\n",
       "\t<tr><th scope=row>470</th><td>TLR4                  </td><td>7099                  </td></tr>\n",
       "\t<tr><th scope=row>471</th><td>TNF                   </td><td>7124                  </td></tr>\n",
       "\t<tr><th scope=row>472</th><td>TNFAIP3               </td><td>7128                  </td></tr>\n",
       "\t<tr><th scope=row>473</th><td>TNFRSF1A              </td><td>7132                  </td></tr>\n",
       "\t<tr><th scope=row>474</th><td>TP53                  </td><td>7157                  </td></tr>\n",
       "\t<tr><th scope=row>475</th><td>C3                    </td><td>718                   </td></tr>\n",
       "\t<tr><th scope=row>476</th><td>C5                    </td><td>727                   </td></tr>\n",
       "\t<tr><th scope=row>477</th><td>VCAM1                 </td><td>7412                  </td></tr>\n",
       "\t<tr><th scope=row>478</th><td>VEGFA                 </td><td>7422                  </td></tr>\n",
       "\t<tr><th scope=row>479</th><td>VIP                   </td><td>7432                  </td></tr>\n",
       "\t<tr><th scope=row>480</th><td>VWF                   </td><td>7450                  </td></tr>\n",
       "\t<tr><th scope=row>481</th><td>CALCA                 </td><td>796                   </td></tr>\n",
       "\t<tr><th scope=row>482</th><td>CASP1                 </td><td>834                   </td></tr>\n",
       "\t<tr><th scope=row>483</th><td>TSLP                  </td><td>85480                 </td></tr>\n",
       "\t<tr><th scope=row>484</th><td>IL33                  </td><td>90865                 </td></tr>\n",
       "\t<tr><th scope=row>485</th><td>ADIPOQ                </td><td>9370                  </td></tr>\n",
       "\t<tr><th scope=row>486</th><td>CD40                  </td><td>958                   </td></tr>\n",
       "\t<tr><th scope=row>487</th><td>CD40LG                </td><td>959                   </td></tr>\n",
       "\t<tr><th scope=row>488</th><td>Vitamin_B12           </td><td>NA                    </td></tr>\n",
       "\t<tr><th scope=row>489</th><td>NFkB                  </td><td>NA                    </td></tr>\n",
       "\t<tr><th scope=row>490</th><td>Inflammation          </td><td>NA                    </td></tr>\n",
       "\t<tr><th scope=row>491</th><td>Immune_cell_regulation</td><td>NA                    </td></tr>\n",
       "\t<tr><th scope=row>492</th><td>Diseases              </td><td>NA                    </td></tr>\n",
       "\t<tr><th scope=row>493</th><td>Cytokines             </td><td>NA                    </td></tr>\n",
       "\t<tr><th scope=row>494</th><td>Allograft_rejection   </td><td>NA                    </td></tr>\n",
       "\t<tr><th scope=row>495</th><td>ILC_family_development</td><td>NA                    </td></tr>\n",
       "\t<tr><th scope=row>496</th><td>Nanoparticle_effects  </td><td>NA                    </td></tr>\n",
       "\t<tr><th scope=row>497</th><td>FCR3_signaling        </td><td>NA                    </td></tr>\n",
       "</tbody>\n",
       "</table>\n"
      ],
      "text/latex": [
       "\\begin{tabular}{r|ll}\n",
       "  & shared name & Entrez Gene\\\\\n",
       "\\hline\n",
       "\t62 & AKT3      & 10000    \\\\\n",
       "\t63 & CDH3      & 1001     \\\\\n",
       "\t64 & SOD2      & 100129518\\\\\n",
       "\t65 & MIR718    & 100313781\\\\\n",
       "\t66 & FAM13A    & 10144    \\\\\n",
       "\t67 & MIR6886   & 102465534\\\\\n",
       "\t68 & CBS       & 102724560\\\\\n",
       "\t69 & TLR6      & 10333    \\\\\n",
       "\t70 & TAB1      & 10454    \\\\\n",
       "\t71 & CEBPB     & 1051     \\\\\n",
       "\t72 & CEBPD     & 1052     \\\\\n",
       "\t73 & TRAF3IP2  & 10758    \\\\\n",
       "\t74 & MTRR      & 107986404\\\\\n",
       "\t75 & SUGT1     & 10910    \\\\\n",
       "\t76 & RIPK3     & 11035    \\\\\n",
       "\t77 & IRAK3     & 11213    \\\\\n",
       "\t78 & EGLN2     & 112398   \\\\\n",
       "\t79 & IL17F     & 112744   \\\\\n",
       "\t80 & PLCD3     & 113026   \\\\\n",
       "\t81 & TIRAP     & 114609   \\\\\n",
       "\t82 & CHUK      & 1147     \\\\\n",
       "\t83 & SERPINA3  & 12       \\\\\n",
       "\t84 & CMA1      & 1215     \\\\\n",
       "\t85 & CCR1      & 1230     \\\\\n",
       "\t86 & CCR3      & 1232     \\\\\n",
       "\t87 & CCR4      & 1233     \\\\\n",
       "\t88 & CCR5      & 1234     \\\\\n",
       "\t89 & COL4A1    & 1282     \\\\\n",
       "\t90 & IL17RE    & 132014   \\\\\n",
       "\t91 & CREBBP    & 1387     \\\\\n",
       "\t... & ... & ...\\\\\n",
       "\t468 & TLR2                   & 7097                  \\\\\n",
       "\t469 & TLR3                   & 7098                  \\\\\n",
       "\t470 & TLR4                   & 7099                  \\\\\n",
       "\t471 & TNF                    & 7124                  \\\\\n",
       "\t472 & TNFAIP3                & 7128                  \\\\\n",
       "\t473 & TNFRSF1A               & 7132                  \\\\\n",
       "\t474 & TP53                   & 7157                  \\\\\n",
       "\t475 & C3                     & 718                   \\\\\n",
       "\t476 & C5                     & 727                   \\\\\n",
       "\t477 & VCAM1                  & 7412                  \\\\\n",
       "\t478 & VEGFA                  & 7422                  \\\\\n",
       "\t479 & VIP                    & 7432                  \\\\\n",
       "\t480 & VWF                    & 7450                  \\\\\n",
       "\t481 & CALCA                  & 796                   \\\\\n",
       "\t482 & CASP1                  & 834                   \\\\\n",
       "\t483 & TSLP                   & 85480                 \\\\\n",
       "\t484 & IL33                   & 90865                 \\\\\n",
       "\t485 & ADIPOQ                 & 9370                  \\\\\n",
       "\t486 & CD40                   & 958                   \\\\\n",
       "\t487 & CD40LG                 & 959                   \\\\\n",
       "\t488 & Vitamin\\_B12            & NA                      \\\\\n",
       "\t489 & NFkB                   & NA                    \\\\\n",
       "\t490 & Inflammation           & NA                    \\\\\n",
       "\t491 & Immune\\_cell\\_regulation & NA                        \\\\\n",
       "\t492 & Diseases               & NA                    \\\\\n",
       "\t493 & Cytokines              & NA                    \\\\\n",
       "\t494 & Allograft\\_rejection    & NA                      \\\\\n",
       "\t495 & ILC\\_family\\_development & NA                        \\\\\n",
       "\t496 & Nanoparticle\\_effects   & NA                      \\\\\n",
       "\t497 & FCR3\\_signaling         & NA                      \\\\\n",
       "\\end{tabular}\n"
      ],
      "text/markdown": [
       "\n",
       "| <!--/--> | shared name | Entrez Gene |\n",
       "|---|---|---|\n",
       "| 62 | AKT3      | 10000     |\n",
       "| 63 | CDH3      | 1001      |\n",
       "| 64 | SOD2      | 100129518 |\n",
       "| 65 | MIR718    | 100313781 |\n",
       "| 66 | FAM13A    | 10144     |\n",
       "| 67 | MIR6886   | 102465534 |\n",
       "| 68 | CBS       | 102724560 |\n",
       "| 69 | TLR6      | 10333     |\n",
       "| 70 | TAB1      | 10454     |\n",
       "| 71 | CEBPB     | 1051      |\n",
       "| 72 | CEBPD     | 1052      |\n",
       "| 73 | TRAF3IP2  | 10758     |\n",
       "| 74 | MTRR      | 107986404 |\n",
       "| 75 | SUGT1     | 10910     |\n",
       "| 76 | RIPK3     | 11035     |\n",
       "| 77 | IRAK3     | 11213     |\n",
       "| 78 | EGLN2     | 112398    |\n",
       "| 79 | IL17F     | 112744    |\n",
       "| 80 | PLCD3     | 113026    |\n",
       "| 81 | TIRAP     | 114609    |\n",
       "| 82 | CHUK      | 1147      |\n",
       "| 83 | SERPINA3  | 12        |\n",
       "| 84 | CMA1      | 1215      |\n",
       "| 85 | CCR1      | 1230      |\n",
       "| 86 | CCR3      | 1232      |\n",
       "| 87 | CCR4      | 1233      |\n",
       "| 88 | CCR5      | 1234      |\n",
       "| 89 | COL4A1    | 1282      |\n",
       "| 90 | IL17RE    | 132014    |\n",
       "| 91 | CREBBP    | 1387      |\n",
       "| ... | ... | ... |\n",
       "| 468 | TLR2                   | 7097                   |\n",
       "| 469 | TLR3                   | 7098                   |\n",
       "| 470 | TLR4                   | 7099                   |\n",
       "| 471 | TNF                    | 7124                   |\n",
       "| 472 | TNFAIP3                | 7128                   |\n",
       "| 473 | TNFRSF1A               | 7132                   |\n",
       "| 474 | TP53                   | 7157                   |\n",
       "| 475 | C3                     | 718                    |\n",
       "| 476 | C5                     | 727                    |\n",
       "| 477 | VCAM1                  | 7412                   |\n",
       "| 478 | VEGFA                  | 7422                   |\n",
       "| 479 | VIP                    | 7432                   |\n",
       "| 480 | VWF                    | 7450                   |\n",
       "| 481 | CALCA                  | 796                    |\n",
       "| 482 | CASP1                  | 834                    |\n",
       "| 483 | TSLP                   | 85480                  |\n",
       "| 484 | IL33                   | 90865                  |\n",
       "| 485 | ADIPOQ                 | 9370                   |\n",
       "| 486 | CD40                   | 958                    |\n",
       "| 487 | CD40LG                 | 959                    |\n",
       "| 488 | Vitamin_B12            | NA                     |\n",
       "| 489 | NFkB                   | NA                     |\n",
       "| 490 | Inflammation           | NA                     |\n",
       "| 491 | Immune_cell_regulation | NA                     |\n",
       "| 492 | Diseases               | NA                     |\n",
       "| 493 | Cytokines              | NA                     |\n",
       "| 494 | Allograft_rejection    | NA                     |\n",
       "| 495 | ILC_family_development | NA                     |\n",
       "| 496 | Nanoparticle_effects   | NA                     |\n",
       "| 497 | FCR3_signaling         | NA                     |\n",
       "\n"
      ],
      "text/plain": [
       "    shared name            Entrez Gene\n",
       "62  AKT3                   10000      \n",
       "63  CDH3                   1001       \n",
       "64  SOD2                   100129518  \n",
       "65  MIR718                 100313781  \n",
       "66  FAM13A                 10144      \n",
       "67  MIR6886                102465534  \n",
       "68  CBS                    102724560  \n",
       "69  TLR6                   10333      \n",
       "70  TAB1                   10454      \n",
       "71  CEBPB                  1051       \n",
       "72  CEBPD                  1052       \n",
       "73  TRAF3IP2               10758      \n",
       "74  MTRR                   107986404  \n",
       "75  SUGT1                  10910      \n",
       "76  RIPK3                  11035      \n",
       "77  IRAK3                  11213      \n",
       "78  EGLN2                  112398     \n",
       "79  IL17F                  112744     \n",
       "80  PLCD3                  113026     \n",
       "81  TIRAP                  114609     \n",
       "82  CHUK                   1147       \n",
       "83  SERPINA3               12         \n",
       "84  CMA1                   1215       \n",
       "85  CCR1                   1230       \n",
       "86  CCR3                   1232       \n",
       "87  CCR4                   1233       \n",
       "88  CCR5                   1234       \n",
       "89  COL4A1                 1282       \n",
       "90  IL17RE                 132014     \n",
       "91  CREBBP                 1387       \n",
       "... ...                    ...        \n",
       "468 TLR2                   7097       \n",
       "469 TLR3                   7098       \n",
       "470 TLR4                   7099       \n",
       "471 TNF                    7124       \n",
       "472 TNFAIP3                7128       \n",
       "473 TNFRSF1A               7132       \n",
       "474 TP53                   7157       \n",
       "475 C3                     718        \n",
       "476 C5                     727        \n",
       "477 VCAM1                  7412       \n",
       "478 VEGFA                  7422       \n",
       "479 VIP                    7432       \n",
       "480 VWF                    7450       \n",
       "481 CALCA                  796        \n",
       "482 CASP1                  834        \n",
       "483 TSLP                   85480      \n",
       "484 IL33                   90865      \n",
       "485 ADIPOQ                 9370       \n",
       "486 CD40                   958        \n",
       "487 CD40LG                 959        \n",
       "488 Vitamin_B12            NA         \n",
       "489 NFkB                   NA         \n",
       "490 Inflammation           NA         \n",
       "491 Immune_cell_regulation NA         \n",
       "492 Diseases               NA         \n",
       "493 Cytokines              NA         \n",
       "494 Allograft_rejection    NA         \n",
       "495 ILC_family_development NA         \n",
       "496 Nanoparticle_effects   NA         \n",
       "497 FCR3_signaling         NA         "
      ]
     },
     "metadata": {},
     "output_type": "display_data"
    }
   ],
   "source": [
    "# create network from the data frames and map column for entrezgene IDs\n",
    "createNetworkFromDataFrames(nodes, edges, title = \"MyNetwork\", collection = \"MyCollection\")\n",
    "mapTableColumn(column = \"shared name\", species = \"Human\", map.from = \"HGNC\", map.to = \"Entrez Gene\", force.single = T)"
   ]
  },
  {
   "cell_type": "markdown",
   "metadata": {},
   "source": [
    "### Two genes did not get mapped properly to an entrezgene ID, the genes RNN (ID:7214) and LCN2 (ID:3934). Lets do this manually!"
   ]
  },
  {
   "cell_type": "markdown",
   "metadata": {},
   "source": [
    "We have to load in our gene expression data file, and merge this file with the table in cytoscape."
   ]
  },
  {
   "cell_type": "code",
   "execution_count": 26,
   "metadata": {},
   "outputs": [
    {
     "data": {
      "text/html": [
       "'Success: Data loaded in defaultnode table'"
      ],
      "text/latex": [
       "'Success: Data loaded in defaultnode table'"
      ],
      "text/markdown": [
       "'Success: Data loaded in defaultnode table'"
      ],
      "text/plain": [
       "[1] \"Success: Data loaded in defaultnode table\""
      ]
     },
     "metadata": {},
     "output_type": "display_data"
    },
    {
     "data": {
      "text/html": [
       "<table>\n",
       "<thead><tr><th></th><th scope=col>SUID</th><th scope=col>shared name</th><th scope=col>name</th><th scope=col>selected</th><th scope=col>id</th><th scope=col>entrezgene</th><th scope=col>type</th><th scope=col>Entrez Gene</th><th scope=col>hgnc_symbol</th><th scope=col>logFC_BC</th><th scope=col>...</th><th scope=col>logFC_MUO</th><th scope=col>PValue_MUO</th><th scope=col>logFC_RA</th><th scope=col>PValue_RA</th><th scope=col>logFC_DCM</th><th scope=col>PValue_DCM</th><th scope=col>logFC_ICM</th><th scope=col>PValue_ICM</th><th scope=col>logFC_SLE</th><th scope=col>PValue_SLE</th></tr></thead>\n",
       "<tbody>\n",
       "\t<tr><th scope=row>62</th><td>62          </td><td>AKT3        </td><td>AKT3        </td><td>FALSE       </td><td>AKT3        </td><td>    10000   </td><td>Gene        </td><td>10000       </td><td>AKT3        </td><td>-3.6182060  </td><td>...         </td><td> 0.158046200</td><td>0.03617197  </td><td>-0.091532500</td><td>0.5187737000</td><td>-0.1170548  </td><td>0.53705530  </td><td>-0.00574414 </td><td>0.9794696   </td><td>0.06630566  </td><td>0.2096076   </td></tr>\n",
       "\t<tr><th scope=row>63</th><td>63          </td><td>CDH3        </td><td>CDH3        </td><td>FALSE       </td><td>CDH3        </td><td>     1001   </td><td>Gene        </td><td>1001        </td><td>CDH3        </td><td> 0.5611705  </td><td>...         </td><td> 0.009146553</td><td>0.72093250  </td><td> 0.005623439</td><td>0.9375439000</td><td> 1.3844880  </td><td>0.04941398  </td><td> 0.90182150 </td><td>0.2080566   </td><td>0.08489361  </td><td>0.7994946   </td></tr>\n",
       "\t<tr><th scope=row>64</th><td>64          </td><td>SOD2        </td><td>SOD2        </td><td>FALSE       </td><td>SOD2        </td><td>100129518   </td><td>Gene        </td><td>100129518   </td><td>NA          </td><td>        NA  </td><td>...         </td><td>          NA</td><td>        NA  </td><td>          NA</td><td>          NA</td><td>        NA  </td><td>        NA  </td><td>         NA </td><td>       NA   </td><td>        NA  </td><td>       NA   </td></tr>\n",
       "\t<tr><th scope=row>65</th><td>65          </td><td>MIR718      </td><td>MIR718      </td><td>FALSE       </td><td>MIR718      </td><td>100313781   </td><td>Gene        </td><td>100313781   </td><td>NA          </td><td>        NA  </td><td>...         </td><td>          NA</td><td>        NA  </td><td>          NA</td><td>          NA</td><td>        NA  </td><td>        NA  </td><td>         NA </td><td>       NA   </td><td>        NA  </td><td>       NA   </td></tr>\n",
       "\t<tr><th scope=row>66</th><td>66          </td><td>FAM13A      </td><td>FAM13A      </td><td>FALSE       </td><td>FAM13A      </td><td>    10144   </td><td>Gene        </td><td>10144       </td><td>FAM13A      </td><td>-3.8751590  </td><td>...         </td><td>-0.477643700</td><td>0.00004010  </td><td>-1.094291000</td><td>0.0004184986</td><td> 0.1338444  </td><td>0.54133960  </td><td> 0.12945470 </td><td>0.5958564   </td><td>0.00000000  </td><td>1.0000000   </td></tr>\n",
       "\t<tr><th scope=row>67</th><td>67          </td><td>MIR6886     </td><td>MIR6886     </td><td>FALSE       </td><td>MIR6886     </td><td>102465534   </td><td>Gene        </td><td>102465534   </td><td>NA          </td><td>        NA  </td><td>...         </td><td>          NA</td><td>        NA  </td><td>          NA</td><td>          NA</td><td>        NA  </td><td>        NA  </td><td>         NA </td><td>       NA   </td><td>        NA  </td><td>       NA   </td></tr>\n",
       "</tbody>\n",
       "</table>\n"
      ],
      "text/latex": [
       "\\begin{tabular}{r|lllllllllllllllllllllll}\n",
       "  & SUID & shared name & name & selected & id & entrezgene & type & Entrez Gene & hgnc\\_symbol & logFC\\_BC & ... & logFC\\_MUO & PValue\\_MUO & logFC\\_RA & PValue\\_RA & logFC\\_DCM & PValue\\_DCM & logFC\\_ICM & PValue\\_ICM & logFC\\_SLE & PValue\\_SLE\\\\\n",
       "\\hline\n",
       "\t62 & 62           & AKT3         & AKT3         & FALSE        & AKT3         &     10000    & Gene         & 10000        & AKT3         & -3.6182060   & ...          &  0.158046200 & 0.03617197   & -0.091532500 & 0.5187737000 & -0.1170548   & 0.53705530   & -0.00574414  & 0.9794696    & 0.06630566   & 0.2096076   \\\\\n",
       "\t63 & 63           & CDH3         & CDH3         & FALSE        & CDH3         &      1001    & Gene         & 1001         & CDH3         &  0.5611705   & ...          &  0.009146553 & 0.72093250   &  0.005623439 & 0.9375439000 &  1.3844880   & 0.04941398   &  0.90182150  & 0.2080566    & 0.08489361   & 0.7994946   \\\\\n",
       "\t64 & 64           & SOD2         & SOD2         & FALSE        & SOD2         & 100129518    & Gene         & 100129518    & NA           &         NA   & ...          &           NA &         NA   &           NA &           NA &         NA   &         NA   &          NA  &        NA    &         NA   &        NA   \\\\\n",
       "\t65 & 65           & MIR718       & MIR718       & FALSE        & MIR718       & 100313781    & Gene         & 100313781    & NA           &         NA   & ...          &           NA &         NA   &           NA &           NA &         NA   &         NA   &          NA  &        NA    &         NA   &        NA   \\\\\n",
       "\t66 & 66           & FAM13A       & FAM13A       & FALSE        & FAM13A       &     10144    & Gene         & 10144        & FAM13A       & -3.8751590   & ...          & -0.477643700 & 0.00004010   & -1.094291000 & 0.0004184986 &  0.1338444   & 0.54133960   &  0.12945470  & 0.5958564    & 0.00000000   & 1.0000000   \\\\\n",
       "\t67 & 67           & MIR6886      & MIR6886      & FALSE        & MIR6886      & 102465534    & Gene         & 102465534    & NA           &         NA   & ...          &           NA &         NA   &           NA &           NA &         NA   &         NA   &          NA  &        NA    &         NA   &        NA   \\\\\n",
       "\\end{tabular}\n"
      ],
      "text/markdown": [
       "\n",
       "| <!--/--> | SUID | shared name | name | selected | id | entrezgene | type | Entrez Gene | hgnc_symbol | logFC_BC | ... | logFC_MUO | PValue_MUO | logFC_RA | PValue_RA | logFC_DCM | PValue_DCM | logFC_ICM | PValue_ICM | logFC_SLE | PValue_SLE |\n",
       "|---|---|---|---|---|---|---|---|---|---|---|---|---|---|---|---|---|---|---|---|---|---|\n",
       "| 62 | 62           | AKT3         | AKT3         | FALSE        | AKT3         |     10000    | Gene         | 10000        | AKT3         | -3.6182060   | ...          |  0.158046200 | 0.03617197   | -0.091532500 | 0.5187737000 | -0.1170548   | 0.53705530   | -0.00574414  | 0.9794696    | 0.06630566   | 0.2096076    |\n",
       "| 63 | 63           | CDH3         | CDH3         | FALSE        | CDH3         |      1001    | Gene         | 1001         | CDH3         |  0.5611705   | ...          |  0.009146553 | 0.72093250   |  0.005623439 | 0.9375439000 |  1.3844880   | 0.04941398   |  0.90182150  | 0.2080566    | 0.08489361   | 0.7994946    |\n",
       "| 64 | 64           | SOD2         | SOD2         | FALSE        | SOD2         | 100129518    | Gene         | 100129518    | NA           |         NA   | ...          |           NA |         NA   |           NA |           NA |         NA   |         NA   |          NA  |        NA    |         NA   |        NA    |\n",
       "| 65 | 65           | MIR718       | MIR718       | FALSE        | MIR718       | 100313781    | Gene         | 100313781    | NA           |         NA   | ...          |           NA |         NA   |           NA |           NA |         NA   |         NA   |          NA  |        NA    |         NA   |        NA    |\n",
       "| 66 | 66           | FAM13A       | FAM13A       | FALSE        | FAM13A       |     10144    | Gene         | 10144        | FAM13A       | -3.8751590   | ...          | -0.477643700 | 0.00004010   | -1.094291000 | 0.0004184986 |  0.1338444   | 0.54133960   |  0.12945470  | 0.5958564    | 0.00000000   | 1.0000000    |\n",
       "| 67 | 67           | MIR6886      | MIR6886      | FALSE        | MIR6886      | 102465534    | Gene         | 102465534    | NA           |         NA   | ...          |           NA |         NA   |           NA |           NA |         NA   |         NA   |          NA  |        NA    |         NA   |        NA    |\n",
       "\n"
      ],
      "text/plain": [
       "   SUID shared name name    selected id      entrezgene type Entrez Gene\n",
       "62 62   AKT3        AKT3    FALSE    AKT3        10000  Gene 10000      \n",
       "63 63   CDH3        CDH3    FALSE    CDH3         1001  Gene 1001       \n",
       "64 64   SOD2        SOD2    FALSE    SOD2    100129518  Gene 100129518  \n",
       "65 65   MIR718      MIR718  FALSE    MIR718  100313781  Gene 100313781  \n",
       "66 66   FAM13A      FAM13A  FALSE    FAM13A      10144  Gene 10144      \n",
       "67 67   MIR6886     MIR6886 FALSE    MIR6886 102465534  Gene 102465534  \n",
       "   hgnc_symbol logFC_BC   ... logFC_MUO    PValue_MUO logFC_RA     PValue_RA   \n",
       "62 AKT3        -3.6182060 ...  0.158046200 0.03617197 -0.091532500 0.5187737000\n",
       "63 CDH3         0.5611705 ...  0.009146553 0.72093250  0.005623439 0.9375439000\n",
       "64 NA                  NA ...           NA         NA           NA           NA\n",
       "65 NA                  NA ...           NA         NA           NA           NA\n",
       "66 FAM13A      -3.8751590 ... -0.477643700 0.00004010 -1.094291000 0.0004184986\n",
       "67 NA                  NA ...           NA         NA           NA           NA\n",
       "   logFC_DCM  PValue_DCM logFC_ICM   PValue_ICM logFC_SLE  PValue_SLE\n",
       "62 -0.1170548 0.53705530 -0.00574414 0.9794696  0.06630566 0.2096076 \n",
       "63  1.3844880 0.04941398  0.90182150 0.2080566  0.08489361 0.7994946 \n",
       "64         NA         NA          NA        NA          NA        NA \n",
       "65         NA         NA          NA        NA          NA        NA \n",
       "66  0.1338444 0.54133960  0.12945470 0.5958564  0.00000000 1.0000000 \n",
       "67         NA         NA          NA        NA          NA        NA "
      ]
     },
     "metadata": {},
     "output_type": "display_data"
    }
   ],
   "source": [
    "# load data set with gene expression values (logFC, p.value)\n",
    "expr_data <- read.table(file.path(getwd(), \"expr_data\", \"merged_data_final.txt\"), header = T, sep =\"\\t\")\n",
    "\n",
    "# load data into cytoscape\n",
    "loadTableData(expr_data, data.key.colum = \"entrezgene\", table.key.column = \"Entrez Gene\")\n",
    "\n",
    "# check if tables are well merged\n",
    "nodeTable <- getTableColumns(table = \"node\")\n",
    "head(nodeTable)"
   ]
  },
  {
   "cell_type": "markdown",
   "metadata": {},
   "source": [
    "### Visualization \n",
    "Before we start to visualize our network, we have to perform some manual stuff! \n",
    "\n",
    "### To analyze the network we have to go to Cytoscape. First Open cytoscape go to Tools then NetworkAnalyzer then Network Analysis then Analyze Network. Treat the network as unidirected and click OK. We analyzed the network now we want to change the layout of the network. Go to Layout then yFiles Organic Layout. Close this message box when finished, and return to R."
   ]
  },
  {
   "cell_type": "markdown",
   "metadata": {},
   "source": [
    "Now everthing is loaded into cytoscape and the manual stuff is done, we can working on the automatization of the visual style."
   ]
  },
  {
   "cell_type": "code",
   "execution_count": 28,
   "metadata": {},
   "outputs": [],
   "source": [
    "# lock width and height of nodes\n",
    "lockNodeDimensions(TRUE)"
   ]
  },
  {
   "cell_type": "markdown",
   "metadata": {},
   "source": [
    "For every dataset we would like to create a own network. We will do this using the clone network function."
   ]
  },
  {
   "cell_type": "code",
   "execution_count": 29,
   "metadata": {},
   "outputs": [
    {
     "name": "stdout",
     "output_type": "stream",
     "text": [
      "[1] \"Done!\"\n"
     ]
    }
   ],
   "source": [
    "# we have 7 gene expression sets so we repeat this function 8 times, we will use a repeat loop for this\n",
    "diseases <- c(\"BC\",\"LC\",\"MUO\",\"RA\",\"DCM\",\"ICM\",\"SLE\")\n",
    "\n",
    "x <- 1\n",
    "repeat {\n",
    "  cloneNetwork(network = \"MyNetwork\")\n",
    "  setCurrentNetwork(network=\"MyNetwork_1\")\n",
    "  renameNetwork(diseases[x])\n",
    "  x = x + 1\n",
    "  if (x == length(diseases)+1){\n",
    "  print(\"Done!\")\n",
    "  break}\n",
    "}"
   ]
  },
  {
   "cell_type": "markdown",
   "metadata": {},
   "source": [
    "Now we have a network available for every dataset we have, we can set a visual style which maps the gene expression (logFC) and significance (p-value) for every gene node in the network per dataset."
   ]
  },
  {
   "cell_type": "code",
   "execution_count": 30,
   "metadata": {},
   "outputs": [
    {
     "name": "stdout",
     "output_type": "stream",
     "text": [
      "[1] \"Done!\"\n"
     ]
    }
   ],
   "source": [
    "# Map logFC and pValue per disease for every respective network and add visual style to every network\n",
    "x <- 1\n",
    "repeat {\n",
    "  setCurrentNetwork(network = diseases[x])\n",
    "  \n",
    "  style.name = paste(\"style_\", diseases[x], sep = \"\")\n",
    "  \n",
    "  # map logFC of gene expression data per disease on respective networks\n",
    "  mappings <- list(nodeFill <- mapVisualProperty(\"node fill color\", table.column = paste(\"logFC_\", diseases[x] , sep = \"\"), \n",
    "                                    mapping.type = \"continuous\",\n",
    "                                    c(-0.26,0 ,0.26),\n",
    "                                    c(\"#0000FF\", \"#FFFFFF\", \"#FF0000\")),\n",
    "  \n",
    "  # map significance per disease on respective networks\n",
    "  nodeBorder <- mapVisualProperty(\"node border paint\", table.column = paste(\"PValue_\", diseases[x], sep = \"\"),\n",
    "                                    mapping.type = \"continuous\",\n",
    "                                    table.column.values = c(0.00, 0.05, 1.00), \n",
    "                                    c(\"#00FF00\", \"#FFFFFF\", \"#FFFFFF\")),\n",
    "  \n",
    "  # map node shapes\n",
    "  nodeShape <- mapVisualProperty(\"Node Shape\", table.column = \"type\", \n",
    "                                    mapping.type = \"discrete\", \n",
    "                                    table.column.values = c(\"Gene\", \"Process\", \"InflGene\"),\n",
    "                                    c(\"DIAMOND\", \"ELLIPSE\", \"VEE\")),\n",
    "  \n",
    "  label <- mapVisualProperty(\"Node Label\", table.column = \"shared name\",\n",
    "                             mapping.type = \"passthrough\"))\n",
    "\n",
    "  defaults <- list(NODE_FILL_COLOR = \"#999999\",\n",
    "                   NODE_BORDER_PAINT = \"#999999\",\n",
    "                   NODE_BORDER_WIDTH = 7,\n",
    "                   NODE_LABEL_FONT_SIZE = 18,\n",
    "                   NETWORK_TITLE = diseases[x])\n",
    "  \n",
    "  # create and set unique visual style per disease dataset\n",
    "  createVisualStyle(style.name, defaults, mappings = mappings)\n",
    "  setVisualStyle(style.name)\n",
    "\n",
    "  x = x + 1\n",
    "  if (x == length(diseases)+1){\n",
    "    print(\"Done!\")\n",
    "    break}\n",
    "}"
   ]
  },
  {
   "cell_type": "markdown",
   "metadata": {},
   "source": [
    "Before we are going to select nodes (which we cant deselect...), we are going to save images of the main networks. We do this before selecting nodes so that our images don't contain the yellow highlighted selected nodes. Prior to this step, make sure there are no images saved with the same name, otherwise this part will not work!"
   ]
  },
  {
   "cell_type": "code",
   "execution_count": 31,
   "metadata": {},
   "outputs": [
    {
     "name": "stdout",
     "output_type": "stream",
     "text": [
      "[1] \"Done!\"\n"
     ]
    }
   ],
   "source": [
    "# save disease networks\n",
    "x <- 1\n",
    "repeat {\n",
    "  setCurrentNetwork(network = diseases[x])\n",
    "  fitContent()\n",
    "  \n",
    "  png.file <- file.path(getwd(), \"Images\", \"networks\", \"logFC0.26\", paste(\"0.26gene_expr_network\", diseases[x], \".png\", sep = \"\"))\n",
    "  exportImage(png.file, type = \"png\", resolution=600, zoom=500)\n",
    "  \n",
    "  x = x + 1\n",
    "  if (x == length(diseases)+1){\n",
    "    print(\"Done!\")\n",
    "    break}\n",
    "}"
   ]
  },
  {
   "cell_type": "markdown",
   "metadata": {},
   "source": [
    "### Subnetwork creation\n",
    "We are also interested in the significant differentially expressed genes and inflammation associated genes. So lets make subnetworks out of these properties!"
   ]
  },
  {
   "cell_type": "code",
   "execution_count": 32,
   "metadata": {},
   "outputs": [
    {
     "name": "stdout",
     "output_type": "stream",
     "text": [
      "[1] \"Done!\"\n"
     ]
    }
   ],
   "source": [
    "# create subnetwork of significant differentially expressed genes\n",
    "x <- 1\n",
    "repeat {\n",
    "  setCurrentNetwork(network = diseases[x])\n",
    "  \n",
    "  createColumnFilter(filter.name = \"expr genes\",     column = paste(\"logFC_\", diseases[x], sep = \"\") , c(-0.26,0.26), \"IS_NOT_BETWEEN\")\n",
    "  createColumnFilter(filter.name = \"sig genes\",      column = paste(\"PValue_\", diseases[x], sep = \"\"), 0.05, \"LESS_THAN\")\n",
    "  sigexpr <- createCompositeFilter('combined filter', filter.list = c(\"sig genes\", \"expr genes\"), type = \"ALL\")\n",
    "  \n",
    "  process <- createColumnFilter(filter.name = \"Pathway filter\", column = \"type\", \"Process\", \"IS\")\n",
    "  #clusters <- createColumnFilter(filter.name = \"Cluster filter\", column = \"Type\", \"Cluster\", \"IS\")\n",
    "  \n",
    "  selectNodes(nodes = c(process$nodes, sigexpr$nodes), by.col = \"shared name\")\n",
    "  \n",
    "  createSubnetwork(nodes = \"selected\", subnetwork.name = paste(\"subnetwork \", diseases[x], \" genes\", sep = \"\"))\n",
    "  \n",
    "  x = x + 1\n",
    "  if (x == length(diseases)+1){\n",
    "    print(\"Done!\")\n",
    "    break}\n",
    "}"
   ]
  },
  {
   "cell_type": "code",
   "execution_count": 33,
   "metadata": {},
   "outputs": [
    {
     "name": "stdout",
     "output_type": "stream",
     "text": [
      "[1] \"Done!\"\n"
     ]
    }
   ],
   "source": [
    "# create subnetwork of significant differentially expressed inflammation genes\n",
    "x <- 1\n",
    "repeat {\n",
    "  setCurrentNetwork(network = diseases[x])\n",
    "  \n",
    "  createColumnFilter(filter.name = \"Infl filter\",    column = \"type\", \"InflGene\", \"IS\")\n",
    "  createColumnFilter(filter.name = \"expr genes\",     column = paste(\"logFC_\", diseases[x], sep = \"\") , c(-0.26,0.26), \"IS_NOT_BETWEEN\")\n",
    "  createColumnFilter(filter.name = \"sig genes\",      column = paste(\"PValue_\", diseases[x], sep = \"\"), 0.05, \"LESS_THAN\")\n",
    "  sigexpr <- createCompositeFilter('combined filter', filter.list = c(\"Infl filter\", \"sig genes\", \"expr genes\"), type = \"ALL\")\n",
    "  \n",
    "    process <- createColumnFilter(filter.name = \"Pathway filter\", column = \"type\", \"Process\", \"IS\")\n",
    "  #clusters <- createColumnFilter(filter.name = \"Cluster filter\", column = \"Type\", \"Cluster\", \"IS\")\n",
    "  \n",
    "  selectNodes(nodes = c(process$nodes, sigexpr$nodes), by.col = \"shared name\")\n",
    "  \n",
    "  createSubnetwork(nodes = \"selected\", subnetwork.name = paste(\"subnetwork \", diseases[x], \" inflGenes\",sep = \"\"))\n",
    "  \n",
    "  x = x + 1\n",
    "  if (x == length(diseases)+1){\n",
    "    print(\"Done!\")\n",
    "    break}\n",
    "}"
   ]
  },
  {
   "cell_type": "markdown",
   "metadata": {},
   "source": [
    "### Saving everything\n",
    "We are almost finished! We already saved the images of the main networks for every disease, but we still want to save the images of the subnetworks. So lets do that, and after we will save the cytoscape session so nothing is lost."
   ]
  },
  {
   "cell_type": "code",
   "execution_count": 34,
   "metadata": {},
   "outputs": [
    {
     "name": "stdout",
     "output_type": "stream",
     "text": [
      "[1] \"Done!\"\n"
     ]
    }
   ],
   "source": [
    "# save subnetworks genes\n",
    "subgenes <- c(\"subnetwork BC genes\",\"subnetwork LC genes\",\"subnetwork MUO genes\",\n",
    "              \"subnetwork RA genes\",\"subnetwork DCM genes\",\n",
    "              \"subnetwork ICM genes\",\"subnetwork SLE genes\")\n",
    "x <- 1\n",
    "repeat {\n",
    "  setCurrentNetwork(network = subgenes[x])\n",
    "  fitContent()\n",
    "  \n",
    "  png.file <- file.path(getwd(), \"Images\", \"subGeneNetworks\", \"logFC0.26\", paste(\"0.26subgene_expr_network\", diseases[x], \".png\", sep = \"\"))\n",
    "  exportImage(png.file, type = \"png\", resolution=600, zoom=500)\n",
    "  \n",
    "  x = x + 1\n",
    "  if (x == length(diseases)+1){\n",
    "    print(\"Done!\")\n",
    "    break}\n",
    "}"
   ]
  },
  {
   "cell_type": "code",
   "execution_count": 35,
   "metadata": {},
   "outputs": [
    {
     "name": "stdout",
     "output_type": "stream",
     "text": [
      "[1] \"Done!\"\n"
     ]
    }
   ],
   "source": [
    "# save subnetworks inflammation genes\n",
    "subInflGenes <- c(\"subnetwork BC inflGenes\",\"subnetwork LC inflGenes\",\"subnetwork MUO inflGenes\",\n",
    "              \"subnetwork RA inflGenes\",\"subnetwork DCM inflGenes\",\n",
    "              \"subnetwork ICM inflGenes\",\"subnetwork SLE inflGenes\")\n",
    "x <- 1\n",
    "repeat {\n",
    "  setCurrentNetwork(network = subInflGenes[x])\n",
    "  fitContent()\n",
    "  \n",
    "  png.file <- file.path(getwd(), \"Images\", \"subInflGeneNetworks\", \"logFC0.26\", paste(\"0.26subinflgene_expr_network\", diseases[x], \".png\", sep = \"\"))\n",
    "  exportImage(png.file, type = \"png\", resolution=600, zoom=500)\n",
    "  \n",
    "  x = x + 1\n",
    "  if (x == length(diseases)+1){\n",
    "    print(\"Done!\")\n",
    "    break}\n",
    "}"
   ]
  },
  {
   "cell_type": "code",
   "execution_count": 36,
   "metadata": {},
   "outputs": [],
   "source": [
    "# save Cytoscape session file\n",
    "session.file <- file.path(getwd(), \"Network\", \"0.26gene_expr_networks.cys\")\n",
    "saveSession(session.file)"
   ]
  }
 ],
 "metadata": {
  "kernelspec": {
   "display_name": "R",
   "language": "R",
   "name": "ir"
  },
  "language_info": {
   "codemirror_mode": "r",
   "file_extension": ".r",
   "mimetype": "text/x-r-source",
   "name": "R",
   "pygments_lexer": "r",
   "version": "3.5.1"
  }
 },
 "nbformat": 4,
 "nbformat_minor": 2
}
