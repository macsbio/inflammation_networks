{
 "cells": [
  {
   "cell_type": "code",
   "execution_count": null,
   "metadata": {},
   "outputs": [],
   "source": []
  },
  {
   "cell_type": "markdown",
   "metadata": {},
   "source": [
    "# Automation Cytoscape network creation using RCy3 package\n",
    "We are going to use the RCy3 package in R to automate the workflow for network creation.\n",
    "We are using multiple gene epxression datasets acquired from different studies. These datasets contain gene expression profiles of patients with various diseases. \n",
    "The diseases which are going to be used in this notebook are: lung-cancer (LC), breast-cancer (BC), metabolically unhealthy obesity (MUO), rheumatoid arthritis (RA), dilated cardiomyopathy (DCM), ishemic cardiomyopathy (ICM) and systemis lupus erythematosus (SLE).\n",
    "\n",
    "The network will consist of pathways, pathway clusters and the genes which occur in these pathways. These pathways are acquired based on genes associated with inflammation which were retrieved from [DisGeNET](http://www.disgenet.org/home/) and [GeneCards](https://www.genecards.org/). "
   ]
  },
  {
   "cell_type": "markdown",
   "metadata": {},
   "source": [
    "### The following step only works in RStudio. If working in another environment, please set the working directory properly and check if the working directory is correct. "
   ]
  },
  {
   "cell_type": "code",
   "execution_count": 1,
   "metadata": {},
   "outputs": [
    {
     "ename": "ERROR",
     "evalue": "Error: RStudio not running\n",
     "output_type": "error",
     "traceback": [
      "Error: RStudio not running\nTraceback:\n",
      "1. setwd(dirname(rstudioapi::callFun(\"getActiveDocumentContext\")$path))",
      "2. dirname(rstudioapi::callFun(\"getActiveDocumentContext\")$path)",
      "3. rstudioapi::callFun(\"getActiveDocumentContext\")",
      "4. verifyAvailable()",
      "5. stop(\"RStudio not running\", call. = FALSE)"
     ]
    }
   ],
   "source": [
    "# set wd to where script file is saved\n",
    "setwd(dirname(rstudioapi::callFun(\"getActiveDocumentContext\")$path))"
   ]
  },
  {
   "cell_type": "code",
   "execution_count": 1,
   "metadata": {},
   "outputs": [
    {
     "data": {
      "text/html": [
       "'C:/Users/Laurent/Documents/GitHub/inflammation_networks2/Jupyter - RCy3 network creation'"
      ],
      "text/latex": [
       "'C:/Users/Laurent/Documents/GitHub/inflammation\\_networks2/Jupyter - RCy3 network creation'"
      ],
      "text/markdown": [
       "'C:/Users/Laurent/Documents/GitHub/inflammation_networks2/Jupyter - RCy3 network creation'"
      ],
      "text/plain": [
       "[1] \"C:/Users/Laurent/Documents/GitHub/inflammation_networks2/Jupyter - RCy3 network creation\""
      ]
     },
     "metadata": {},
     "output_type": "display_data"
    }
   ],
   "source": [
    "# check wd\n",
    "getwd()"
   ]
  },
  {
   "cell_type": "code",
   "execution_count": 2,
   "metadata": {},
   "outputs": [],
   "source": [
    "# load library\n",
    "library(RCy3)"
   ]
  },
  {
   "cell_type": "markdown",
   "metadata": {},
   "source": [
    "### We first start with opening cytoscape and checking if we are connected"
   ]
  },
  {
   "cell_type": "code",
   "execution_count": 13,
   "metadata": {},
   "outputs": [
    {
     "data": {
      "text/html": [
       "'You are connected to Cytoscape!'"
      ],
      "text/latex": [
       "'You are connected to Cytoscape!'"
      ],
      "text/markdown": [
       "'You are connected to Cytoscape!'"
      ],
      "text/plain": [
       "[1] \"You are connected to Cytoscape!\""
      ]
     },
     "metadata": {},
     "output_type": "display_data"
    },
    {
     "data": {
      "text/html": [
       "<dl class=dl-horizontal>\n",
       "\t<dt>apiVersion</dt>\n",
       "\t\t<dd>'v1'</dd>\n",
       "\t<dt>cytoscapeVersion</dt>\n",
       "\t\t<dd>'3.7.1'</dd>\n",
       "</dl>\n"
      ],
      "text/latex": [
       "\\begin{description*}\n",
       "\\item[apiVersion] 'v1'\n",
       "\\item[cytoscapeVersion] '3.7.1'\n",
       "\\end{description*}\n"
      ],
      "text/markdown": [
       "apiVersion\n",
       ":   'v1'cytoscapeVersion\n",
       ":   '3.7.1'\n",
       "\n"
      ],
      "text/plain": [
       "      apiVersion cytoscapeVersion \n",
       "            \"v1\"          \"3.7.1\" "
      ]
     },
     "metadata": {},
     "output_type": "display_data"
    }
   ],
   "source": [
    "# check if cytoscape is open and check version\n",
    "cytoscapePing()\n",
    "cytoscapeVersionInfo()"
   ]
  },
  {
   "cell_type": "markdown",
   "metadata": {},
   "source": [
    "### Network creation\n",
    "To begin with, we will load in our node and edge files to create our network."
   ]
  },
  {
   "cell_type": "code",
   "execution_count": 14,
   "metadata": {},
   "outputs": [],
   "source": [
    "# load in data of network\n",
    "nodes <- as.data.frame(read.table(file.path(getwd(), \"Network\", \"nodes_final.txt\"), header = T, sep = \"\\t\", stringsAsFactors = FALSE))\n",
    "edges <- as.data.frame(read.table(file.path(getwd(), \"Network\", \"edges_final.txt\"), header = T, sep = \"\\t\", stringsAsFactors = FALSE))"
   ]
  },
  {
   "cell_type": "markdown",
   "metadata": {},
   "source": [
    "We have to clean these files so they are usable for network creation."
   ]
  },
  {
   "cell_type": "code",
   "execution_count": 15,
   "metadata": {},
   "outputs": [
    {
     "data": {
      "text/html": [
       "<table>\n",
       "<thead><tr><th scope=col>id</th><th scope=col>type</th></tr></thead>\n",
       "<tbody>\n",
       "\t<tr><td>Allograft_rejection   </td><td>Process               </td></tr>\n",
       "\t<tr><td>Cytokines             </td><td>Process               </td></tr>\n",
       "\t<tr><td>Diseases              </td><td>Process               </td></tr>\n",
       "\t<tr><td>Immune_cell_regulation</td><td>Process               </td></tr>\n",
       "\t<tr><td>Inflammation          </td><td>Process               </td></tr>\n",
       "\t<tr><td>NFkB                  </td><td>Process               </td></tr>\n",
       "</tbody>\n",
       "</table>\n"
      ],
      "text/latex": [
       "\\begin{tabular}{r|ll}\n",
       " id & type\\\\\n",
       "\\hline\n",
       "\t Allograft\\_rejection    & Process                 \\\\\n",
       "\t Cytokines              & Process               \\\\\n",
       "\t Diseases               & Process               \\\\\n",
       "\t Immune\\_cell\\_regulation & Process                   \\\\\n",
       "\t Inflammation           & Process               \\\\\n",
       "\t NFkB                   & Process               \\\\\n",
       "\\end{tabular}\n"
      ],
      "text/markdown": [
       "\n",
       "| id | type |\n",
       "|---|---|\n",
       "| Allograft_rejection    | Process                |\n",
       "| Cytokines              | Process                |\n",
       "| Diseases               | Process                |\n",
       "| Immune_cell_regulation | Process                |\n",
       "| Inflammation           | Process                |\n",
       "| NFkB                   | Process                |\n",
       "\n"
      ],
      "text/plain": [
       "  id                     type   \n",
       "1 Allograft_rejection    Process\n",
       "2 Cytokines              Process\n",
       "3 Diseases               Process\n",
       "4 Immune_cell_regulation Process\n",
       "5 Inflammation           Process\n",
       "6 NFkB                   Process"
      ]
     },
     "metadata": {},
     "output_type": "display_data"
    },
    {
     "data": {
      "text/html": [
       "<table>\n",
       "<thead><tr><th scope=col>source</th><th scope=col>target</th><th scope=col>interaction</th></tr></thead>\n",
       "<tbody>\n",
       "\t<tr><td>Allograft_rejection</td><td>FOXP3              </td><td>interacts          </td></tr>\n",
       "\t<tr><td>Cytokines          </td><td>CTNNB1             </td><td>interacts          </td></tr>\n",
       "\t<tr><td>Cytokines          </td><td>CD40               </td><td>interacts          </td></tr>\n",
       "\t<tr><td>Cytokines          </td><td>NGF                </td><td>interacts          </td></tr>\n",
       "\t<tr><td>Cytokines          </td><td>PPARA              </td><td>interacts          </td></tr>\n",
       "\t<tr><td>Cytokines          </td><td>POMC               </td><td>interacts          </td></tr>\n",
       "</tbody>\n",
       "</table>\n"
      ],
      "text/latex": [
       "\\begin{tabular}{r|lll}\n",
       " source & target & interaction\\\\\n",
       "\\hline\n",
       "\t Allograft\\_rejection & FOXP3                 & interacts            \\\\\n",
       "\t Cytokines           & CTNNB1              & interacts          \\\\\n",
       "\t Cytokines           & CD40                & interacts          \\\\\n",
       "\t Cytokines           & NGF                 & interacts          \\\\\n",
       "\t Cytokines           & PPARA               & interacts          \\\\\n",
       "\t Cytokines           & POMC                & interacts          \\\\\n",
       "\\end{tabular}\n"
      ],
      "text/markdown": [
       "\n",
       "| source | target | interaction |\n",
       "|---|---|---|\n",
       "| Allograft_rejection | FOXP3               | interacts           |\n",
       "| Cytokines           | CTNNB1              | interacts           |\n",
       "| Cytokines           | CD40                | interacts           |\n",
       "| Cytokines           | NGF                 | interacts           |\n",
       "| Cytokines           | PPARA               | interacts           |\n",
       "| Cytokines           | POMC                | interacts           |\n",
       "\n"
      ],
      "text/plain": [
       "  source              target interaction\n",
       "1 Allograft_rejection FOXP3  interacts  \n",
       "2 Cytokines           CTNNB1 interacts  \n",
       "3 Cytokines           CD40   interacts  \n",
       "4 Cytokines           NGF    interacts  \n",
       "5 Cytokines           PPARA  interacts  \n",
       "6 Cytokines           POMC   interacts  "
      ]
     },
     "metadata": {},
     "output_type": "display_data"
    }
   ],
   "source": [
    "# clean up data\n",
    "colnames(nodes)[1] <- \"id\"\n",
    "nodes$id <- as.character(nodes$id)\n",
    "edges <- edges[,c(-3,-4)]\n",
    "colnames(edges)[c(1,2)] <- c(\"source\", \"target\") \n",
    "edges$interaction <- \"interacts\"\n",
    "edges$target <- as.character(edges$target)\n",
    "\n",
    "head(nodes)\n",
    "head(edges)"
   ]
  },
  {
   "cell_type": "markdown",
   "metadata": {},
   "source": [
    "Now we can create our network in Cytoscape"
   ]
  },
  {
   "cell_type": "code",
   "execution_count": 16,
   "metadata": {},
   "outputs": [
    {
     "name": "stdout",
     "output_type": "stream",
     "text": [
      "Loading data...\n",
      "Applying default style...\n",
      "Applying preferred layout...\n"
     ]
    },
    {
     "data": {
      "text/html": [
       "<strong>networkSUID:</strong> 52"
      ],
      "text/latex": [
       "\\textbf{networkSUID:} 52"
      ],
      "text/markdown": [
       "**networkSUID:** 52"
      ],
      "text/plain": [
       "networkSUID \n",
       "         52 "
      ]
     },
     "metadata": {},
     "output_type": "display_data"
    },
    {
     "data": {
      "text/html": [
       "<table>\n",
       "<thead><tr><th></th><th scope=col>shared name</th><th scope=col>Entrez Gene</th></tr></thead>\n",
       "<tbody>\n",
       "\t<tr><th scope=row>62</th><td>Allograft_rejection                               </td><td>NA                                                </td></tr>\n",
       "\t<tr><th scope=row>63</th><td>Cytokines                                         </td><td>NA                                                </td></tr>\n",
       "\t<tr><th scope=row>64</th><td>Diseases                                          </td><td>NA                                                </td></tr>\n",
       "\t<tr><th scope=row>65</th><td>Immune_cell_regulation                            </td><td>NA                                                </td></tr>\n",
       "\t<tr><th scope=row>66</th><td>Inflammation                                      </td><td>NA                                                </td></tr>\n",
       "\t<tr><th scope=row>67</th><td>NFkB                                              </td><td>NA                                                </td></tr>\n",
       "\t<tr><th scope=row>68</th><td>Vitamin_B12                                       </td><td>NA                                                </td></tr>\n",
       "\t<tr><th scope=row>69</th><td>WP_DEVELOPMENT_AND_HETEROGENEITY_OF_THE_ILC_FAMILY</td><td>NA                                                </td></tr>\n",
       "\t<tr><th scope=row>70</th><td>WP_FIBRIN_COMPLEMENT_RECEPTOR_3_SIGNALING_PATHWAY </td><td>NA                                                </td></tr>\n",
       "\t<tr><th scope=row>71</th><td>WP_OVERVIEW_OF_NANOPARTICLE_EFFECTS               </td><td>NA                                                </td></tr>\n",
       "\t<tr><th scope=row>72</th><td>FOXP3                                             </td><td>50943                                             </td></tr>\n",
       "\t<tr><th scope=row>73</th><td>CTNNB1                                            </td><td>1499                                              </td></tr>\n",
       "\t<tr><th scope=row>74</th><td>CD40                                              </td><td>958                                               </td></tr>\n",
       "\t<tr><th scope=row>75</th><td>NGF                                               </td><td>4803                                              </td></tr>\n",
       "\t<tr><th scope=row>76</th><td>PPARA                                             </td><td>5465                                              </td></tr>\n",
       "\t<tr><th scope=row>77</th><td>POMC                                              </td><td>5443                                              </td></tr>\n",
       "\t<tr><th scope=row>78</th><td>CXCL12                                            </td><td>6387                                              </td></tr>\n",
       "\t<tr><th scope=row>79</th><td>TP53                                              </td><td>7157                                              </td></tr>\n",
       "\t<tr><th scope=row>80</th><td>ADIPOQ                                            </td><td>9370                                              </td></tr>\n",
       "\t<tr><th scope=row>81</th><td>LEP                                               </td><td>3952                                              </td></tr>\n",
       "\t<tr><th scope=row>82</th><td>ELANE                                             </td><td>1991                                              </td></tr>\n",
       "\t<tr><th scope=row>83</th><td>VWF                                               </td><td>7450                                              </td></tr>\n",
       "\t<tr><th scope=row>84</th><td>ANXA1                                             </td><td>301                                               </td></tr>\n",
       "\t<tr><th scope=row>85</th><td>TF                                                </td><td>7018                                              </td></tr>\n",
       "\t<tr><th scope=row>86</th><td>CCL20                                             </td><td>6364                                              </td></tr>\n",
       "\t<tr><th scope=row>87</th><td>PTGDR2                                            </td><td>11251                                             </td></tr>\n",
       "\t<tr><th scope=row>88</th><td>C4A                                               </td><td>110384692                                         </td></tr>\n",
       "\t<tr><th scope=row>89</th><td>NR3C1                                             </td><td>2908                                              </td></tr>\n",
       "\t<tr><th scope=row>90</th><td>BPI                                               </td><td>671                                               </td></tr>\n",
       "\t<tr><th scope=row>91</th><td>HSPD1                                             </td><td>3329                                              </td></tr>\n",
       "\t<tr><th scope=row>...</th><td>...</td><td>...</td></tr>\n",
       "\t<tr><th scope=row>462</th><td>MECP2 </td><td>4204  </td></tr>\n",
       "\t<tr><th scope=row>463</th><td>NFE2L2</td><td>4780  </td></tr>\n",
       "\t<tr><th scope=row>464</th><td>SFTPC </td><td>6440  </td></tr>\n",
       "\t<tr><th scope=row>465</th><td>TERT  </td><td>7015  </td></tr>\n",
       "\t<tr><th scope=row>466</th><td>PDGFB </td><td>5155  </td></tr>\n",
       "\t<tr><th scope=row>467</th><td>SFTPA2</td><td>729238</td></tr>\n",
       "\t<tr><th scope=row>468</th><td>MUC5B </td><td>727897</td></tr>\n",
       "\t<tr><th scope=row>469</th><td>PARN  </td><td>5073  </td></tr>\n",
       "\t<tr><th scope=row>470</th><td>ATP11A</td><td>23250 </td></tr>\n",
       "\t<tr><th scope=row>471</th><td>EDN1  </td><td>1906  </td></tr>\n",
       "\t<tr><th scope=row>472</th><td>FAM13A</td><td>10144 </td></tr>\n",
       "\t<tr><th scope=row>473</th><td>SPP1  </td><td>6696  </td></tr>\n",
       "\t<tr><th scope=row>474</th><td>DPP9  </td><td>91039 </td></tr>\n",
       "\t<tr><th scope=row>475</th><td>SKIL  </td><td>6498  </td></tr>\n",
       "\t<tr><th scope=row>476</th><td>FGF7  </td><td>2252  </td></tr>\n",
       "\t<tr><th scope=row>477</th><td>STN1  </td><td>79991 </td></tr>\n",
       "\t<tr><th scope=row>478</th><td>DSP   </td><td>1832  </td></tr>\n",
       "\t<tr><th scope=row>479</th><td>ELN   </td><td>2006  </td></tr>\n",
       "\t<tr><th scope=row>480</th><td>FGF2  </td><td>2247  </td></tr>\n",
       "\t<tr><th scope=row>481</th><td>EGF   </td><td>1950  </td></tr>\n",
       "\t<tr><th scope=row>482</th><td>FGF1  </td><td>2246  </td></tr>\n",
       "\t<tr><th scope=row>483</th><td>BMP7  </td><td>655   </td></tr>\n",
       "\t<tr><th scope=row>484</th><td>MT2A  </td><td>4502  </td></tr>\n",
       "\t<tr><th scope=row>485</th><td>TGFA  </td><td>7039  </td></tr>\n",
       "\t<tr><th scope=row>486</th><td>CTGF  </td><td>1490  </td></tr>\n",
       "\t<tr><th scope=row>487</th><td>PTX3  </td><td>5806  </td></tr>\n",
       "\t<tr><th scope=row>488</th><td>ELMOD2</td><td>255520</td></tr>\n",
       "\t<tr><th scope=row>489</th><td>RTEL1 </td><td>51750 </td></tr>\n",
       "\t<tr><th scope=row>490</th><td>GREM1 </td><td>26585 </td></tr>\n",
       "\t<tr><th scope=row>491</th><td>PLAU  </td><td>5328  </td></tr>\n",
       "</tbody>\n",
       "</table>\n"
      ],
      "text/latex": [
       "\\begin{tabular}{r|ll}\n",
       "  & shared name & Entrez Gene\\\\\n",
       "\\hline\n",
       "\t62 & Allograft\\_rejection                                & NA                                                  \\\\\n",
       "\t63 & Cytokines                                          & NA                                                \\\\\n",
       "\t64 & Diseases                                           & NA                                                \\\\\n",
       "\t65 & Immune\\_cell\\_regulation                             & NA                                                    \\\\\n",
       "\t66 & Inflammation                                       & NA                                                \\\\\n",
       "\t67 & NFkB                                               & NA                                                \\\\\n",
       "\t68 & Vitamin\\_B12                                        & NA                                                  \\\\\n",
       "\t69 & WP\\_DEVELOPMENT\\_AND\\_HETEROGENEITY\\_OF\\_THE\\_ILC\\_FAMILY & NA                                                              \\\\\n",
       "\t70 & WP\\_FIBRIN\\_COMPLEMENT\\_RECEPTOR\\_3\\_SIGNALING\\_PATHWAY  & NA                                                            \\\\\n",
       "\t71 & WP\\_OVERVIEW\\_OF\\_NANOPARTICLE\\_EFFECTS                & NA                                                        \\\\\n",
       "\t72 & FOXP3                                              & 50943                                             \\\\\n",
       "\t73 & CTNNB1                                             & 1499                                              \\\\\n",
       "\t74 & CD40                                               & 958                                               \\\\\n",
       "\t75 & NGF                                                & 4803                                              \\\\\n",
       "\t76 & PPARA                                              & 5465                                              \\\\\n",
       "\t77 & POMC                                               & 5443                                              \\\\\n",
       "\t78 & CXCL12                                             & 6387                                              \\\\\n",
       "\t79 & TP53                                               & 7157                                              \\\\\n",
       "\t80 & ADIPOQ                                             & 9370                                              \\\\\n",
       "\t81 & LEP                                                & 3952                                              \\\\\n",
       "\t82 & ELANE                                              & 1991                                              \\\\\n",
       "\t83 & VWF                                                & 7450                                              \\\\\n",
       "\t84 & ANXA1                                              & 301                                               \\\\\n",
       "\t85 & TF                                                 & 7018                                              \\\\\n",
       "\t86 & CCL20                                              & 6364                                              \\\\\n",
       "\t87 & PTGDR2                                             & 11251                                             \\\\\n",
       "\t88 & C4A                                                & 110384692                                         \\\\\n",
       "\t89 & NR3C1                                              & 2908                                              \\\\\n",
       "\t90 & BPI                                                & 671                                               \\\\\n",
       "\t91 & HSPD1                                              & 3329                                              \\\\\n",
       "\t... & ... & ...\\\\\n",
       "\t462 & MECP2  & 4204  \\\\\n",
       "\t463 & NFE2L2 & 4780  \\\\\n",
       "\t464 & SFTPC  & 6440  \\\\\n",
       "\t465 & TERT   & 7015  \\\\\n",
       "\t466 & PDGFB  & 5155  \\\\\n",
       "\t467 & SFTPA2 & 729238\\\\\n",
       "\t468 & MUC5B  & 727897\\\\\n",
       "\t469 & PARN   & 5073  \\\\\n",
       "\t470 & ATP11A & 23250 \\\\\n",
       "\t471 & EDN1   & 1906  \\\\\n",
       "\t472 & FAM13A & 10144 \\\\\n",
       "\t473 & SPP1   & 6696  \\\\\n",
       "\t474 & DPP9   & 91039 \\\\\n",
       "\t475 & SKIL   & 6498  \\\\\n",
       "\t476 & FGF7   & 2252  \\\\\n",
       "\t477 & STN1   & 79991 \\\\\n",
       "\t478 & DSP    & 1832  \\\\\n",
       "\t479 & ELN    & 2006  \\\\\n",
       "\t480 & FGF2   & 2247  \\\\\n",
       "\t481 & EGF    & 1950  \\\\\n",
       "\t482 & FGF1   & 2246  \\\\\n",
       "\t483 & BMP7   & 655   \\\\\n",
       "\t484 & MT2A   & 4502  \\\\\n",
       "\t485 & TGFA   & 7039  \\\\\n",
       "\t486 & CTGF   & 1490  \\\\\n",
       "\t487 & PTX3   & 5806  \\\\\n",
       "\t488 & ELMOD2 & 255520\\\\\n",
       "\t489 & RTEL1  & 51750 \\\\\n",
       "\t490 & GREM1  & 26585 \\\\\n",
       "\t491 & PLAU   & 5328  \\\\\n",
       "\\end{tabular}\n"
      ],
      "text/markdown": [
       "\n",
       "| <!--/--> | shared name | Entrez Gene |\n",
       "|---|---|---|\n",
       "| 62 | Allograft_rejection                                | NA                                                 |\n",
       "| 63 | Cytokines                                          | NA                                                 |\n",
       "| 64 | Diseases                                           | NA                                                 |\n",
       "| 65 | Immune_cell_regulation                             | NA                                                 |\n",
       "| 66 | Inflammation                                       | NA                                                 |\n",
       "| 67 | NFkB                                               | NA                                                 |\n",
       "| 68 | Vitamin_B12                                        | NA                                                 |\n",
       "| 69 | WP_DEVELOPMENT_AND_HETEROGENEITY_OF_THE_ILC_FAMILY | NA                                                 |\n",
       "| 70 | WP_FIBRIN_COMPLEMENT_RECEPTOR_3_SIGNALING_PATHWAY  | NA                                                 |\n",
       "| 71 | WP_OVERVIEW_OF_NANOPARTICLE_EFFECTS                | NA                                                 |\n",
       "| 72 | FOXP3                                              | 50943                                              |\n",
       "| 73 | CTNNB1                                             | 1499                                               |\n",
       "| 74 | CD40                                               | 958                                                |\n",
       "| 75 | NGF                                                | 4803                                               |\n",
       "| 76 | PPARA                                              | 5465                                               |\n",
       "| 77 | POMC                                               | 5443                                               |\n",
       "| 78 | CXCL12                                             | 6387                                               |\n",
       "| 79 | TP53                                               | 7157                                               |\n",
       "| 80 | ADIPOQ                                             | 9370                                               |\n",
       "| 81 | LEP                                                | 3952                                               |\n",
       "| 82 | ELANE                                              | 1991                                               |\n",
       "| 83 | VWF                                                | 7450                                               |\n",
       "| 84 | ANXA1                                              | 301                                                |\n",
       "| 85 | TF                                                 | 7018                                               |\n",
       "| 86 | CCL20                                              | 6364                                               |\n",
       "| 87 | PTGDR2                                             | 11251                                              |\n",
       "| 88 | C4A                                                | 110384692                                          |\n",
       "| 89 | NR3C1                                              | 2908                                               |\n",
       "| 90 | BPI                                                | 671                                                |\n",
       "| 91 | HSPD1                                              | 3329                                               |\n",
       "| ... | ... | ... |\n",
       "| 462 | MECP2  | 4204   |\n",
       "| 463 | NFE2L2 | 4780   |\n",
       "| 464 | SFTPC  | 6440   |\n",
       "| 465 | TERT   | 7015   |\n",
       "| 466 | PDGFB  | 5155   |\n",
       "| 467 | SFTPA2 | 729238 |\n",
       "| 468 | MUC5B  | 727897 |\n",
       "| 469 | PARN   | 5073   |\n",
       "| 470 | ATP11A | 23250  |\n",
       "| 471 | EDN1   | 1906   |\n",
       "| 472 | FAM13A | 10144  |\n",
       "| 473 | SPP1   | 6696   |\n",
       "| 474 | DPP9   | 91039  |\n",
       "| 475 | SKIL   | 6498   |\n",
       "| 476 | FGF7   | 2252   |\n",
       "| 477 | STN1   | 79991  |\n",
       "| 478 | DSP    | 1832   |\n",
       "| 479 | ELN    | 2006   |\n",
       "| 480 | FGF2   | 2247   |\n",
       "| 481 | EGF    | 1950   |\n",
       "| 482 | FGF1   | 2246   |\n",
       "| 483 | BMP7   | 655    |\n",
       "| 484 | MT2A   | 4502   |\n",
       "| 485 | TGFA   | 7039   |\n",
       "| 486 | CTGF   | 1490   |\n",
       "| 487 | PTX3   | 5806   |\n",
       "| 488 | ELMOD2 | 255520 |\n",
       "| 489 | RTEL1  | 51750  |\n",
       "| 490 | GREM1  | 26585  |\n",
       "| 491 | PLAU   | 5328   |\n",
       "\n"
      ],
      "text/plain": [
       "    shared name                                        Entrez Gene\n",
       "62  Allograft_rejection                                NA         \n",
       "63  Cytokines                                          NA         \n",
       "64  Diseases                                           NA         \n",
       "65  Immune_cell_regulation                             NA         \n",
       "66  Inflammation                                       NA         \n",
       "67  NFkB                                               NA         \n",
       "68  Vitamin_B12                                        NA         \n",
       "69  WP_DEVELOPMENT_AND_HETEROGENEITY_OF_THE_ILC_FAMILY NA         \n",
       "70  WP_FIBRIN_COMPLEMENT_RECEPTOR_3_SIGNALING_PATHWAY  NA         \n",
       "71  WP_OVERVIEW_OF_NANOPARTICLE_EFFECTS                NA         \n",
       "72  FOXP3                                              50943      \n",
       "73  CTNNB1                                             1499       \n",
       "74  CD40                                               958        \n",
       "75  NGF                                                4803       \n",
       "76  PPARA                                              5465       \n",
       "77  POMC                                               5443       \n",
       "78  CXCL12                                             6387       \n",
       "79  TP53                                               7157       \n",
       "80  ADIPOQ                                             9370       \n",
       "81  LEP                                                3952       \n",
       "82  ELANE                                              1991       \n",
       "83  VWF                                                7450       \n",
       "84  ANXA1                                              301        \n",
       "85  TF                                                 7018       \n",
       "86  CCL20                                              6364       \n",
       "87  PTGDR2                                             11251      \n",
       "88  C4A                                                110384692  \n",
       "89  NR3C1                                              2908       \n",
       "90  BPI                                                671        \n",
       "91  HSPD1                                              3329       \n",
       "... ...                                                ...        \n",
       "462 MECP2                                              4204       \n",
       "463 NFE2L2                                             4780       \n",
       "464 SFTPC                                              6440       \n",
       "465 TERT                                               7015       \n",
       "466 PDGFB                                              5155       \n",
       "467 SFTPA2                                             729238     \n",
       "468 MUC5B                                              727897     \n",
       "469 PARN                                               5073       \n",
       "470 ATP11A                                             23250      \n",
       "471 EDN1                                               1906       \n",
       "472 FAM13A                                             10144      \n",
       "473 SPP1                                               6696       \n",
       "474 DPP9                                               91039      \n",
       "475 SKIL                                               6498       \n",
       "476 FGF7                                               2252       \n",
       "477 STN1                                               79991      \n",
       "478 DSP                                                1832       \n",
       "479 ELN                                                2006       \n",
       "480 FGF2                                               2247       \n",
       "481 EGF                                                1950       \n",
       "482 FGF1                                               2246       \n",
       "483 BMP7                                               655        \n",
       "484 MT2A                                               4502       \n",
       "485 TGFA                                               7039       \n",
       "486 CTGF                                               1490       \n",
       "487 PTX3                                               5806       \n",
       "488 ELMOD2                                             255520     \n",
       "489 RTEL1                                              51750      \n",
       "490 GREM1                                              26585      \n",
       "491 PLAU                                               5328       "
      ]
     },
     "metadata": {},
     "output_type": "display_data"
    }
   ],
   "source": [
    "# create network from the data frames and map column for entrezgene IDs\n",
    "createNetworkFromDataFrames(nodes, edges, title = \"MyNetwork\", collection = \"MyCollection\")\n",
    "mapTableColumn(column = \"shared name\", species = \"Human\", map.from = \"HGNC\", map.to = \"Entrez Gene\", force.single = T)"
   ]
  },
  {
   "cell_type": "markdown",
   "metadata": {},
   "source": [
    "### One gene did not get mapped properly to an entrezgene ID, the gene LCN2 (ID:3934). Lets do this manually!"
   ]
  },
  {
   "cell_type": "markdown",
   "metadata": {},
   "source": [
    "We have to load in our gene expression data file, and merge this file with the table in cytoscape."
   ]
  },
  {
   "cell_type": "code",
   "execution_count": 17,
   "metadata": {},
   "outputs": [
    {
     "data": {
      "text/html": [
       "'Success: Data loaded in defaultnode table'"
      ],
      "text/latex": [
       "'Success: Data loaded in defaultnode table'"
      ],
      "text/markdown": [
       "'Success: Data loaded in defaultnode table'"
      ],
      "text/plain": [
       "[1] \"Success: Data loaded in defaultnode table\""
      ]
     },
     "metadata": {},
     "output_type": "display_data"
    },
    {
     "data": {
      "text/html": [
       "<table>\n",
       "<thead><tr><th></th><th scope=col>SUID</th><th scope=col>shared name</th><th scope=col>name</th><th scope=col>selected</th><th scope=col>id</th><th scope=col>type</th><th scope=col>Entrez Gene</th><th scope=col>entrezgene</th><th scope=col>hgnc_symbol</th><th scope=col>logFC_BC</th><th scope=col>...</th><th scope=col>logFC_MUO</th><th scope=col>PValue_MUO</th><th scope=col>logFC_RA</th><th scope=col>PValue_RA</th><th scope=col>logFC_DCM</th><th scope=col>PValue_DCM</th><th scope=col>logFC_ICM</th><th scope=col>PValue_ICM</th><th scope=col>logFC_SLE</th><th scope=col>PValue_SLE</th></tr></thead>\n",
       "<tbody>\n",
       "\t<tr><th scope=row>62</th><td>62                    </td><td>Allograft_rejection   </td><td>Allograft_rejection   </td><td>FALSE                 </td><td>Allograft_rejection   </td><td>Process               </td><td>NA                    </td><td>NA                    </td><td>NA                    </td><td>NA                    </td><td>...                   </td><td>NA                    </td><td>NA                    </td><td>NA                    </td><td>NA                    </td><td>NA                    </td><td>NA                    </td><td>NA                    </td><td>NA                    </td><td>NA                    </td><td>NA                    </td></tr>\n",
       "\t<tr><th scope=row>63</th><td>63                    </td><td>Cytokines             </td><td>Cytokines             </td><td>FALSE                 </td><td>Cytokines             </td><td>Process               </td><td>NA                    </td><td>NA                    </td><td>NA                    </td><td>NA                    </td><td>...                   </td><td>NA                    </td><td>NA                    </td><td>NA                    </td><td>NA                    </td><td>NA                    </td><td>NA                    </td><td>NA                    </td><td>NA                    </td><td>NA                    </td><td>NA                    </td></tr>\n",
       "\t<tr><th scope=row>64</th><td>64                    </td><td>Diseases              </td><td>Diseases              </td><td>FALSE                 </td><td>Diseases              </td><td>Process               </td><td>NA                    </td><td>NA                    </td><td>NA                    </td><td>NA                    </td><td>...                   </td><td>NA                    </td><td>NA                    </td><td>NA                    </td><td>NA                    </td><td>NA                    </td><td>NA                    </td><td>NA                    </td><td>NA                    </td><td>NA                    </td><td>NA                    </td></tr>\n",
       "\t<tr><th scope=row>65</th><td>65                    </td><td>Immune_cell_regulation</td><td>Immune_cell_regulation</td><td>FALSE                 </td><td>Immune_cell_regulation</td><td>Process               </td><td>NA                    </td><td>NA                    </td><td>NA                    </td><td>NA                    </td><td>...                   </td><td>NA                    </td><td>NA                    </td><td>NA                    </td><td>NA                    </td><td>NA                    </td><td>NA                    </td><td>NA                    </td><td>NA                    </td><td>NA                    </td><td>NA                    </td></tr>\n",
       "\t<tr><th scope=row>66</th><td>66                    </td><td>Inflammation          </td><td>Inflammation          </td><td>FALSE                 </td><td>Inflammation          </td><td>Process               </td><td>NA                    </td><td>NA                    </td><td>NA                    </td><td>NA                    </td><td>...                   </td><td>NA                    </td><td>NA                    </td><td>NA                    </td><td>NA                    </td><td>NA                    </td><td>NA                    </td><td>NA                    </td><td>NA                    </td><td>NA                    </td><td>NA                    </td></tr>\n",
       "\t<tr><th scope=row>67</th><td>67                    </td><td>NFkB                  </td><td>NFkB                  </td><td>FALSE                 </td><td>NFkB                  </td><td>Process               </td><td>NA                    </td><td>NA                    </td><td>NA                    </td><td>NA                    </td><td>...                   </td><td>NA                    </td><td>NA                    </td><td>NA                    </td><td>NA                    </td><td>NA                    </td><td>NA                    </td><td>NA                    </td><td>NA                    </td><td>NA                    </td><td>NA                    </td></tr>\n",
       "</tbody>\n",
       "</table>\n"
      ],
      "text/latex": [
       "\\begin{tabular}{r|lllllllllllllllllllllll}\n",
       "  & SUID & shared name & name & selected & id & type & Entrez Gene & entrezgene & hgnc\\_symbol & logFC\\_BC & ... & logFC\\_MUO & PValue\\_MUO & logFC\\_RA & PValue\\_RA & logFC\\_DCM & PValue\\_DCM & logFC\\_ICM & PValue\\_ICM & logFC\\_SLE & PValue\\_SLE\\\\\n",
       "\\hline\n",
       "\t62 & 62                       & Allograft\\_rejection    & Allograft\\_rejection    & FALSE                    & Allograft\\_rejection    & Process                  & NA                       & NA                       & NA                       & NA                       & ...                      & NA                       & NA                       & NA                       & NA                       & NA                       & NA                       & NA                       & NA                       & NA                       & NA                      \\\\\n",
       "\t63 & 63                     & Cytokines              & Cytokines              & FALSE                  & Cytokines              & Process                & NA                     & NA                     & NA                     & NA                     & ...                    & NA                     & NA                     & NA                     & NA                     & NA                     & NA                     & NA                     & NA                     & NA                     & NA                    \\\\\n",
       "\t64 & 64                     & Diseases               & Diseases               & FALSE                  & Diseases               & Process                & NA                     & NA                     & NA                     & NA                     & ...                    & NA                     & NA                     & NA                     & NA                     & NA                     & NA                     & NA                     & NA                     & NA                     & NA                    \\\\\n",
       "\t65 & 65                         & Immune\\_cell\\_regulation & Immune\\_cell\\_regulation & FALSE                      & Immune\\_cell\\_regulation & Process                    & NA                         & NA                         & NA                         & NA                         & ...                        & NA                         & NA                         & NA                         & NA                         & NA                         & NA                         & NA                         & NA                         & NA                         & NA                        \\\\\n",
       "\t66 & 66                     & Inflammation           & Inflammation           & FALSE                  & Inflammation           & Process                & NA                     & NA                     & NA                     & NA                     & ...                    & NA                     & NA                     & NA                     & NA                     & NA                     & NA                     & NA                     & NA                     & NA                     & NA                    \\\\\n",
       "\t67 & 67                     & NFkB                   & NFkB                   & FALSE                  & NFkB                   & Process                & NA                     & NA                     & NA                     & NA                     & ...                    & NA                     & NA                     & NA                     & NA                     & NA                     & NA                     & NA                     & NA                     & NA                     & NA                    \\\\\n",
       "\\end{tabular}\n"
      ],
      "text/markdown": [
       "\n",
       "| <!--/--> | SUID | shared name | name | selected | id | type | Entrez Gene | entrezgene | hgnc_symbol | logFC_BC | ... | logFC_MUO | PValue_MUO | logFC_RA | PValue_RA | logFC_DCM | PValue_DCM | logFC_ICM | PValue_ICM | logFC_SLE | PValue_SLE |\n",
       "|---|---|---|---|---|---|---|---|---|---|---|---|---|---|---|---|---|---|---|---|---|---|\n",
       "| 62 | 62                     | Allograft_rejection    | Allograft_rejection    | FALSE                  | Allograft_rejection    | Process                | NA                     | NA                     | NA                     | NA                     | ...                    | NA                     | NA                     | NA                     | NA                     | NA                     | NA                     | NA                     | NA                     | NA                     | NA                     |\n",
       "| 63 | 63                     | Cytokines              | Cytokines              | FALSE                  | Cytokines              | Process                | NA                     | NA                     | NA                     | NA                     | ...                    | NA                     | NA                     | NA                     | NA                     | NA                     | NA                     | NA                     | NA                     | NA                     | NA                     |\n",
       "| 64 | 64                     | Diseases               | Diseases               | FALSE                  | Diseases               | Process                | NA                     | NA                     | NA                     | NA                     | ...                    | NA                     | NA                     | NA                     | NA                     | NA                     | NA                     | NA                     | NA                     | NA                     | NA                     |\n",
       "| 65 | 65                     | Immune_cell_regulation | Immune_cell_regulation | FALSE                  | Immune_cell_regulation | Process                | NA                     | NA                     | NA                     | NA                     | ...                    | NA                     | NA                     | NA                     | NA                     | NA                     | NA                     | NA                     | NA                     | NA                     | NA                     |\n",
       "| 66 | 66                     | Inflammation           | Inflammation           | FALSE                  | Inflammation           | Process                | NA                     | NA                     | NA                     | NA                     | ...                    | NA                     | NA                     | NA                     | NA                     | NA                     | NA                     | NA                     | NA                     | NA                     | NA                     |\n",
       "| 67 | 67                     | NFkB                   | NFkB                   | FALSE                  | NFkB                   | Process                | NA                     | NA                     | NA                     | NA                     | ...                    | NA                     | NA                     | NA                     | NA                     | NA                     | NA                     | NA                     | NA                     | NA                     | NA                     |\n",
       "\n"
      ],
      "text/plain": [
       "   SUID shared name            name                   selected\n",
       "62 62   Allograft_rejection    Allograft_rejection    FALSE   \n",
       "63 63   Cytokines              Cytokines              FALSE   \n",
       "64 64   Diseases               Diseases               FALSE   \n",
       "65 65   Immune_cell_regulation Immune_cell_regulation FALSE   \n",
       "66 66   Inflammation           Inflammation           FALSE   \n",
       "67 67   NFkB                   NFkB                   FALSE   \n",
       "   id                     type    Entrez Gene entrezgene hgnc_symbol logFC_BC\n",
       "62 Allograft_rejection    Process NA          NA         NA          NA      \n",
       "63 Cytokines              Process NA          NA         NA          NA      \n",
       "64 Diseases               Process NA          NA         NA          NA      \n",
       "65 Immune_cell_regulation Process NA          NA         NA          NA      \n",
       "66 Inflammation           Process NA          NA         NA          NA      \n",
       "67 NFkB                   Process NA          NA         NA          NA      \n",
       "   ... logFC_MUO PValue_MUO logFC_RA PValue_RA logFC_DCM PValue_DCM logFC_ICM\n",
       "62 ... NA        NA         NA       NA        NA        NA         NA       \n",
       "63 ... NA        NA         NA       NA        NA        NA         NA       \n",
       "64 ... NA        NA         NA       NA        NA        NA         NA       \n",
       "65 ... NA        NA         NA       NA        NA        NA         NA       \n",
       "66 ... NA        NA         NA       NA        NA        NA         NA       \n",
       "67 ... NA        NA         NA       NA        NA        NA         NA       \n",
       "   PValue_ICM logFC_SLE PValue_SLE\n",
       "62 NA         NA        NA        \n",
       "63 NA         NA        NA        \n",
       "64 NA         NA        NA        \n",
       "65 NA         NA        NA        \n",
       "66 NA         NA        NA        \n",
       "67 NA         NA        NA        "
      ]
     },
     "metadata": {},
     "output_type": "display_data"
    }
   ],
   "source": [
    "# load data set with gene expression values (logFC, p.value)\n",
    "expr_data <- read.table(file.path(getwd(), \"expr_data\", \"merged_data_final.txt\"), header = T, sep =\"\\t\")\n",
    "\n",
    "# load data into cytoscape\n",
    "loadTableData(expr_data, data.key.colum = \"entrezgene\", table.key.column = \"Entrez Gene\")\n",
    "\n",
    "# check if tables are well merged\n",
    "nodeTable <- getTableColumns(table = \"node\")\n",
    "head(nodeTable)"
   ]
  },
  {
   "cell_type": "markdown",
   "metadata": {},
   "source": [
    "### Visualization \n",
    "Before we start to visualize our network, we have to perform some manual stuff! "
   ]
  },
  {
   "cell_type": "code",
   "execution_count": 14,
   "metadata": {},
   "outputs": [],
   "source": [
    "# first we will get rid off the manual stuff\n",
    "system('CMD /C \"ECHO To analyze the network we have to go to Cytoscape. First Open cytoscape go to Tools then NetworkAnalyzer then Network Analysis then Analyze Network. Treat the network as unidirected and click OK. We analyzed the network now we want to change the layout of the network. Go to Layout then yFiles Organic Layout. Close this message box when finished, and return to R. && PAUSE\"', \n",
    "       invisible=FALSE, wait=FALSE)"
   ]
  },
  {
   "cell_type": "markdown",
   "metadata": {},
   "source": [
    "Now everthing is loaded into cytoscape and the manual stuff is done, we can working on the automatization of the visual style."
   ]
  },
  {
   "cell_type": "code",
   "execution_count": 18,
   "metadata": {},
   "outputs": [],
   "source": [
    "# lock width and height of nodes\n",
    "lockNodeDimensions(TRUE)"
   ]
  },
  {
   "cell_type": "markdown",
   "metadata": {},
   "source": [
    "For every dataset we would like to create a own network. We will do this using the clone network function."
   ]
  },
  {
   "cell_type": "code",
   "execution_count": 19,
   "metadata": {},
   "outputs": [
    {
     "name": "stdout",
     "output_type": "stream",
     "text": [
      "[1] \"Done!\"\n"
     ]
    }
   ],
   "source": [
    "# we have 7 gene expression sets so we repeat this function 8 times, we will use a repeat loop for this\n",
    "diseases <- c(\"BC\",\"LC\",\"MUO\",\"RA\",\"DCM\",\"ICM\",\"SLE\")\n",
    "\n",
    "x <- 1\n",
    "repeat {\n",
    "  cloneNetwork(network = \"MyNetwork\")\n",
    "  setCurrentNetwork(network=\"MyNetwork_1\")\n",
    "  renameNetwork(diseases[x])\n",
    "  x = x + 1\n",
    "  if (x == length(diseases)+1){\n",
    "  print(\"Done!\")\n",
    "  break}\n",
    "}"
   ]
  },
  {
   "cell_type": "markdown",
   "metadata": {},
   "source": [
    "Now we have a network available for every dataset we have, we can set a visual style which maps the gene expression (logFC) and significance (p-value) for every gene node in the network per dataset."
   ]
  },
  {
   "cell_type": "code",
   "execution_count": 20,
   "metadata": {},
   "outputs": [
    {
     "name": "stdout",
     "output_type": "stream",
     "text": [
      "[1] \"Done!\"\n"
     ]
    }
   ],
   "source": [
    "# Map logFC and pValue per disease for every respective network and add visual style to every network\n",
    "x <- 1\n",
    "repeat {\n",
    "  setCurrentNetwork(network = diseases[x])\n",
    "  \n",
    "  style.name = paste(\"style_\", diseases[x], sep = \"\")\n",
    "  \n",
    "  # map logFC of gene expression data per disease on respective networks\n",
    "  mappings <- list(nodeFill <- mapVisualProperty(\"node fill color\", table.column = paste(\"logFC_\", diseases[x] , sep = \"\"), \n",
    "                                    mapping.type = \"continuous\",\n",
    "                                    c(-0.58,0 ,0.58),\n",
    "                                    c(\"#0000FF\", \"#FFFFFF\", \"#FF0000\")),\n",
    "  \n",
    "  # map significance per disease on respective networks\n",
    "  nodeBorder <- mapVisualProperty(\"node border paint\", table.column = paste(\"PValue_\", diseases[x], sep = \"\"),\n",
    "                                    mapping.type = \"continuous\",\n",
    "                                    table.column.values = c(0.00, 0.05, 1.00), \n",
    "                                    c(\"#00FF00\", \"#FFFFFF\", \"#FFFFFF\")),\n",
    "  \n",
    "  # map node shapes\n",
    "  nodeShape <- mapVisualProperty(\"Node Shape\", table.column = \"type\", \n",
    "                                    mapping.type = \"discrete\", \n",
    "                                    table.column.values = c(\"Gene\", \"Process\", \"InflGene\"),\n",
    "                                    c(\"DIAMOND\", \"ELLIPSE\", \"VEE\")),\n",
    "  \n",
    "  label <- mapVisualProperty(\"Node Label\", table.column = \"shared name\",\n",
    "                             mapping.type = \"passthrough\"))\n",
    "\n",
    "  defaults <- list(NODE_FILL_COLOR = \"#999999\",\n",
    "                   NODE_BORDER_PAINT = \"#999999\",\n",
    "                   NODE_BORDER_WIDTH = 7,\n",
    "                   NODE_LABEL_FONT_SIZE = 18,\n",
    "                   NETWORK_TITLE = diseases[x])\n",
    "  \n",
    "  # create and set unique visual style per disease dataset\n",
    "  createVisualStyle(style.name, defaults, mappings = mappings)\n",
    "  setVisualStyle(style.name)\n",
    "\n",
    "  x = x + 1\n",
    "  if (x == length(diseases)+1){\n",
    "    print(\"Done!\")\n",
    "    break}\n",
    "}"
   ]
  },
  {
   "cell_type": "markdown",
   "metadata": {},
   "source": [
    "Before we are going to select nodes (which we cant deselect...), we are going to save images of the main networks. We do this before selecting nodes so that our images don't contain the yellow highlighted selected nodes. Prior to this step, make sure there are no images saved with the same name, otherwise this part will not work!"
   ]
  },
  {
   "cell_type": "code",
   "execution_count": 21,
   "metadata": {},
   "outputs": [
    {
     "name": "stdout",
     "output_type": "stream",
     "text": [
      "[1] \"Done!\"\n"
     ]
    }
   ],
   "source": [
    "# save disease networks\n",
    "x <- 1\n",
    "repeat {\n",
    "  setCurrentNetwork(network = diseases[x])\n",
    "  fitContent()\n",
    "  \n",
    "  png.file <- file.path(getwd(), \"Images\", \"networks\", \"logFC0.58\", paste(\"0.58gene_expr_network\", diseases[x], \".png\", sep = \"\"))\n",
    "  exportImage(png.file, type = \"png\", resolution=600, zoom=500)\n",
    "  \n",
    "  x = x + 1\n",
    "  if (x == length(diseases)+1){\n",
    "    print(\"Done!\")\n",
    "    break}\n",
    "}"
   ]
  },
  {
   "cell_type": "markdown",
   "metadata": {},
   "source": [
    "### Subnetwork creation\n",
    "We are also interested in the significant differentially expressed genes and inflammation associated genes. So lets make subnetworks out of these properties!"
   ]
  },
  {
   "cell_type": "code",
   "execution_count": 22,
   "metadata": {},
   "outputs": [
    {
     "name": "stdout",
     "output_type": "stream",
     "text": [
      "[1] \"Done!\"\n"
     ]
    }
   ],
   "source": [
    "# create subnetwork of significant differentially expressed genes\n",
    "x <- 1\n",
    "repeat {\n",
    "  setCurrentNetwork(network = diseases[x])\n",
    "  \n",
    "  createColumnFilter(filter.name = \"expr genes\",     column = paste(\"logFC_\", diseases[x], sep = \"\") , c(-0.58,0.58), \"IS_NOT_BETWEEN\")\n",
    "  createColumnFilter(filter.name = \"sig genes\",      column = paste(\"PValue_\", diseases[x], sep = \"\"), 0.05, \"LESS_THAN\")\n",
    "  sigexpr <- createCompositeFilter('combined filter', filter.list = c(\"sig genes\", \"expr genes\"), type = \"ALL\")\n",
    "  \n",
    "  process <- createColumnFilter(filter.name = \"Pathway filter\", column = \"type\", \"Process\", \"IS\")\n",
    "  #clusters <- createColumnFilter(filter.name = \"Cluster filter\", column = \"Type\", \"Cluster\", \"IS\")\n",
    "  \n",
    "  selectNodes(nodes = c(process$nodes, sigexpr$nodes), by.col = \"shared name\")\n",
    "  \n",
    "  createSubnetwork(nodes = \"selected\", subnetwork.name = paste(\"subnetwork \", diseases[x], \" genes\", sep = \"\"))\n",
    "  \n",
    "  x = x + 1\n",
    "  if (x == length(diseases)+1){\n",
    "    print(\"Done!\")\n",
    "    break}\n",
    "}"
   ]
  },
  {
   "cell_type": "code",
   "execution_count": 23,
   "metadata": {},
   "outputs": [
    {
     "name": "stdout",
     "output_type": "stream",
     "text": [
      "[1] \"Done!\"\n"
     ]
    }
   ],
   "source": [
    "# create subnetwork of significant differentially expressed inflammation genes\n",
    "x <- 1\n",
    "repeat {\n",
    "  setCurrentNetwork(network = diseases[x])\n",
    "  \n",
    "  createColumnFilter(filter.name = \"Infl filter\",    column = \"type\", \"InflGene\", \"IS\")\n",
    "  createColumnFilter(filter.name = \"expr genes\",     column = paste(\"logFC_\", diseases[x], sep = \"\") , c(-0.58,0.58), \"IS_NOT_BETWEEN\")\n",
    "  createColumnFilter(filter.name = \"sig genes\",      column = paste(\"PValue_\", diseases[x], sep = \"\"), 0.05, \"LESS_THAN\")\n",
    "  sigexpr <- createCompositeFilter('combined filter', filter.list = c(\"Infl filter\", \"sig genes\", \"expr genes\"), type = \"ALL\")\n",
    "  \n",
    "    process <- createColumnFilter(filter.name = \"Pathway filter\", column = \"type\", \"Process\", \"IS\")\n",
    "  #clusters <- createColumnFilter(filter.name = \"Cluster filter\", column = \"Type\", \"Cluster\", \"IS\")\n",
    "  \n",
    "  selectNodes(nodes = c(process$nodes, sigexpr$nodes), by.col = \"shared name\")\n",
    "  \n",
    "  createSubnetwork(nodes = \"selected\", subnetwork.name = paste(\"subnetwork \", diseases[x], \" inflGenes\",sep = \"\"))\n",
    "  \n",
    "  x = x + 1\n",
    "  if (x == length(diseases)+1){\n",
    "    print(\"Done!\")\n",
    "    break}\n",
    "}"
   ]
  },
  {
   "cell_type": "markdown",
   "metadata": {},
   "source": [
    "### Saving everything\n",
    "We are almost finished! We already saved the images of the main networks for every disease, but we still want to save the images of the subnetworks. So lets do that, and after we will save the cytoscape session so nothing is lost."
   ]
  },
  {
   "cell_type": "code",
   "execution_count": 26,
   "metadata": {},
   "outputs": [
    {
     "name": "stdout",
     "output_type": "stream",
     "text": [
      "[1] \"Done!\"\n"
     ]
    }
   ],
   "source": [
    "# save subnetworks genes\n",
    "subgenes <- c(\"subnetwork BC genes\",\"subnetwork LC genes\",\"subnetwork MUO genes\",\n",
    "              \"subnetwork RA genes\",\"subnetwork DCM genes\",\n",
    "              \"subnetwork ICM genes\",\"subnetwork SLE genes\")\n",
    "x <- 1\n",
    "repeat {\n",
    "  setCurrentNetwork(network = subgenes[x])\n",
    "  fitContent()\n",
    "  \n",
    "  png.file <- file.path(getwd(), \"Images\", \"subGeneNetworks\", \"logFC0.58\", paste(\"0.58subgene_expr_network\", diseases[x], \".png\", sep = \"\"))\n",
    "  exportImage(png.file, type = \"png\", resolution=600, zoom=500)\n",
    "  \n",
    "  x = x + 1\n",
    "  if (x == length(diseases)+1){\n",
    "    print(\"Done!\")\n",
    "    break}\n",
    "}"
   ]
  },
  {
   "cell_type": "code",
   "execution_count": 27,
   "metadata": {},
   "outputs": [
    {
     "name": "stdout",
     "output_type": "stream",
     "text": [
      "[1] \"Done!\"\n"
     ]
    }
   ],
   "source": [
    "# save subnetworks inflammation genes\n",
    "subInflGenes <- c(\"subnetwork BC inflGenes\",\"subnetwork LC inflGenes\",\"subnetwork MUO inflGenes\",\n",
    "              \"subnetwork RA inflGenes\",\"subnetwork DCM inflGenes\",\n",
    "              \"subnetwork ICM inflGenes\",\"subnetwork SLE inflGenes\")\n",
    "x <- 1\n",
    "repeat {\n",
    "  setCurrentNetwork(network = subInflGenes[x])\n",
    "  fitContent()\n",
    "  \n",
    "  png.file <- file.path(getwd(), \"Images\", \"subInflGeneNetworks\", \"logFC0.58\", paste(\"0.58subinflgene_expr_network\", diseases[x], \".png\", sep = \"\"))\n",
    "  exportImage(png.file, type = \"png\", resolution=600, zoom=500)\n",
    "  \n",
    "  x = x + 1\n",
    "  if (x == length(diseases)+1){\n",
    "    print(\"Done!\")\n",
    "    break}\n",
    "}"
   ]
  },
  {
   "cell_type": "code",
   "execution_count": 28,
   "metadata": {},
   "outputs": [],
   "source": [
    "# save Cytoscape session file\n",
    "session.file <- file.path(getwd(), \"Network\", \"0.58gene_expr_networks.cys\")\n",
    "saveSession(session.file)"
   ]
  }
 ],
 "metadata": {
  "kernelspec": {
   "display_name": "R",
   "language": "R",
   "name": "ir"
  },
  "language_info": {
   "codemirror_mode": "r",
   "file_extension": ".r",
   "mimetype": "text/x-r-source",
   "name": "R",
   "pygments_lexer": "r",
   "version": "3.5.1"
  }
 },
 "nbformat": 4,
 "nbformat_minor": 2
}
