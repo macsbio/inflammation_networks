{
 "cells": [
  {
   "cell_type": "markdown",
   "metadata": {},
   "source": [
    "# Automation Cytoscape network creation using RCy3 package\n",
    "We are going to use the RCy3 package in R to automate the workflow for network creation.\n",
    "We are using multiple gene epxression datasets acquired from different studies. These datasets contain gene expression profiles of patients with various diseases. \n",
    "The diseases which are going to be used in this notebook are: lung-cancer (LC), breast-cancer (BC), metabolically unhealthy obesity (MUO), rheumatoid arthritis (RA), dilated cardiomyopathy (DCM), ishemic cardiomyopathy (ICM) and systemis lupus erythematosus (SLE).\n",
    "\n",
    "The network will consist of pathways, pathway clusters and the genes which occur in these pathways. These pathways are acquired based on genes associated with inflammation which were retrieved from [DisGeNET](http://www.disgenet.org/home/) and [GeneCards](https://www.genecards.org/). "
   ]
  },
  {
   "cell_type": "code",
   "execution_count": 1,
   "metadata": {},
   "outputs": [
    {
     "data": {
      "text/html": [
       "'C:/Users/Laurent/Documents/test'"
      ],
      "text/latex": [
       "'C:/Users/Laurent/Documents/test'"
      ],
      "text/markdown": [
       "'C:/Users/Laurent/Documents/test'"
      ],
      "text/plain": [
       "[1] \"C:/Users/Laurent/Documents/test\""
      ]
     },
     "metadata": {},
     "output_type": "display_data"
    }
   ],
   "source": [
    "# check wd\n",
    "getwd()"
   ]
  },
  {
   "cell_type": "code",
   "execution_count": 2,
   "metadata": {},
   "outputs": [],
   "source": [
    "# load library\n",
    "library(RCy3)"
   ]
  },
  {
   "cell_type": "markdown",
   "metadata": {},
   "source": [
    "### We first start with opening cytoscape and checking if we are connected"
   ]
  },
  {
   "cell_type": "code",
   "execution_count": 14,
   "metadata": {},
   "outputs": [
    {
     "data": {
      "text/html": [
       "'You are connected to Cytoscape!'"
      ],
      "text/latex": [
       "'You are connected to Cytoscape!'"
      ],
      "text/markdown": [
       "'You are connected to Cytoscape!'"
      ],
      "text/plain": [
       "[1] \"You are connected to Cytoscape!\""
      ]
     },
     "metadata": {},
     "output_type": "display_data"
    },
    {
     "data": {
      "text/html": [
       "<dl class=dl-horizontal>\n",
       "\t<dt>apiVersion</dt>\n",
       "\t\t<dd>'v1'</dd>\n",
       "\t<dt>cytoscapeVersion</dt>\n",
       "\t\t<dd>'3.7.1'</dd>\n",
       "</dl>\n"
      ],
      "text/latex": [
       "\\begin{description*}\n",
       "\\item[apiVersion] 'v1'\n",
       "\\item[cytoscapeVersion] '3.7.1'\n",
       "\\end{description*}\n"
      ],
      "text/markdown": [
       "apiVersion\n",
       ":   'v1'cytoscapeVersion\n",
       ":   '3.7.1'\n",
       "\n"
      ],
      "text/plain": [
       "      apiVersion cytoscapeVersion \n",
       "            \"v1\"          \"3.7.1\" "
      ]
     },
     "metadata": {},
     "output_type": "display_data"
    }
   ],
   "source": [
    "# check if cytoscape is open and check version\n",
    "cytoscapePing()\n",
    "cytoscapeVersionInfo()"
   ]
  },
  {
   "cell_type": "markdown",
   "metadata": {},
   "source": [
    "### Network creation\n",
    "To begin with, we will load in our node and edge files to create our network.\n",
    "\n",
    "We have to clean these files so they are usable for network creation."
   ]
  },
  {
   "cell_type": "code",
   "execution_count": 15,
   "metadata": {},
   "outputs": [
    {
     "data": {
      "text/html": [
       "<table>\n",
       "<thead><tr><th scope=col>id</th><th scope=col>type</th><th scope=col>entrezgene</th></tr></thead>\n",
       "<tbody>\n",
       "\t<tr><td>AKT3     </td><td>Gene     </td><td>    10000</td></tr>\n",
       "\t<tr><td>CDH3     </td><td>Gene     </td><td>     1001</td></tr>\n",
       "\t<tr><td>SOD2     </td><td>Gene     </td><td>100129518</td></tr>\n",
       "\t<tr><td>MIR718   </td><td>Gene     </td><td>100313781</td></tr>\n",
       "\t<tr><td>FAM13A   </td><td>Gene     </td><td>    10144</td></tr>\n",
       "\t<tr><td>MIR6886  </td><td>Gene     </td><td>102465534</td></tr>\n",
       "</tbody>\n",
       "</table>\n"
      ],
      "text/latex": [
       "\\begin{tabular}{r|lll}\n",
       " id & type & entrezgene\\\\\n",
       "\\hline\n",
       "\t AKT3      & Gene      &     10000\\\\\n",
       "\t CDH3      & Gene      &      1001\\\\\n",
       "\t SOD2      & Gene      & 100129518\\\\\n",
       "\t MIR718    & Gene      & 100313781\\\\\n",
       "\t FAM13A    & Gene      &     10144\\\\\n",
       "\t MIR6886   & Gene      & 102465534\\\\\n",
       "\\end{tabular}\n"
      ],
      "text/markdown": [
       "\n",
       "| id | type | entrezgene |\n",
       "|---|---|---|\n",
       "| AKT3      | Gene      |     10000 |\n",
       "| CDH3      | Gene      |      1001 |\n",
       "| SOD2      | Gene      | 100129518 |\n",
       "| MIR718    | Gene      | 100313781 |\n",
       "| FAM13A    | Gene      |     10144 |\n",
       "| MIR6886   | Gene      | 102465534 |\n",
       "\n"
      ],
      "text/plain": [
       "  id      type entrezgene\n",
       "1 AKT3    Gene     10000 \n",
       "2 CDH3    Gene      1001 \n",
       "3 SOD2    Gene 100129518 \n",
       "4 MIR718  Gene 100313781 \n",
       "5 FAM13A  Gene     10144 \n",
       "6 MIR6886 Gene 102465534 "
      ]
     },
     "metadata": {},
     "output_type": "display_data"
    },
    {
     "data": {
      "text/html": [
       "<table>\n",
       "<thead><tr><th scope=col>source</th><th scope=col>target</th><th scope=col>interaction</th></tr></thead>\n",
       "<tbody>\n",
       "\t<tr><td>Vitamin_B12</td><td>PPARA      </td><td>interacts  </td></tr>\n",
       "\t<tr><td>Vitamin_B12</td><td>C4A        </td><td>interacts  </td></tr>\n",
       "\t<tr><td>Vitamin_B12</td><td>TF         </td><td>interacts  </td></tr>\n",
       "\t<tr><td>Vitamin_B12</td><td>LCN2       </td><td>interacts  </td></tr>\n",
       "\t<tr><td>Vitamin_B12</td><td>ELANE      </td><td>interacts  </td></tr>\n",
       "\t<tr><td>Vitamin_B12</td><td>BPI        </td><td>interacts  </td></tr>\n",
       "</tbody>\n",
       "</table>\n"
      ],
      "text/latex": [
       "\\begin{tabular}{r|lll}\n",
       " source & target & interaction\\\\\n",
       "\\hline\n",
       "\t Vitamin\\_B12 & PPARA         & interacts    \\\\\n",
       "\t Vitamin\\_B12 & C4A           & interacts    \\\\\n",
       "\t Vitamin\\_B12 & TF            & interacts    \\\\\n",
       "\t Vitamin\\_B12 & LCN2          & interacts    \\\\\n",
       "\t Vitamin\\_B12 & ELANE         & interacts    \\\\\n",
       "\t Vitamin\\_B12 & BPI           & interacts    \\\\\n",
       "\\end{tabular}\n"
      ],
      "text/markdown": [
       "\n",
       "| source | target | interaction |\n",
       "|---|---|---|\n",
       "| Vitamin_B12 | PPARA       | interacts   |\n",
       "| Vitamin_B12 | C4A         | interacts   |\n",
       "| Vitamin_B12 | TF          | interacts   |\n",
       "| Vitamin_B12 | LCN2        | interacts   |\n",
       "| Vitamin_B12 | ELANE       | interacts   |\n",
       "| Vitamin_B12 | BPI         | interacts   |\n",
       "\n"
      ],
      "text/plain": [
       "  source      target interaction\n",
       "1 Vitamin_B12 PPARA  interacts  \n",
       "2 Vitamin_B12 C4A    interacts  \n",
       "3 Vitamin_B12 TF     interacts  \n",
       "4 Vitamin_B12 LCN2   interacts  \n",
       "5 Vitamin_B12 ELANE  interacts  \n",
       "6 Vitamin_B12 BPI    interacts  "
      ]
     },
     "metadata": {},
     "output_type": "display_data"
    }
   ],
   "source": [
    "# load in data of network\n",
    "nodes <- as.data.frame(read.table(file.path(getwd(), \"Network\", \"nodes_final.txt\"), header = T, sep = \"\\t\", stringsAsFactors = FALSE))\n",
    "edges <- as.data.frame(read.table(file.path(getwd(), \"Network\", \"edges_final.txt\"), header = T, sep = \"\\t\", stringsAsFactors = FALSE))\n",
    "\n",
    "# clean up data\n",
    "colnames(nodes)[1] <- \"id\"\n",
    "nodes$id <- as.character(nodes$id)\n",
    "edges <- edges[,c(-3,-4)]\n",
    "colnames(edges)[c(1,2)] <- c(\"source\", \"target\") \n",
    "edges$interaction <- \"interacts\"\n",
    "edges$target <- as.character(edges$target)\n",
    "\n",
    "head(nodes)\n",
    "head(edges)"
   ]
  },
  {
   "cell_type": "markdown",
   "metadata": {},
   "source": [
    "Now we can create our network in Cytoscape"
   ]
  },
  {
   "cell_type": "code",
   "execution_count": 16,
   "metadata": {},
   "outputs": [
    {
     "name": "stdout",
     "output_type": "stream",
     "text": [
      "Loading data...\n",
      "Applying default style...\n",
      "Applying preferred layout...\n"
     ]
    },
    {
     "data": {
      "text/html": [
       "<strong>networkSUID:</strong> 52"
      ],
      "text/latex": [
       "\\textbf{networkSUID:} 52"
      ],
      "text/markdown": [
       "**networkSUID:** 52"
      ],
      "text/plain": [
       "networkSUID \n",
       "         52 "
      ]
     },
     "metadata": {},
     "output_type": "display_data"
    }
   ],
   "source": [
    "# create network from the data frames and map column for entrezgene IDs\n",
    "createNetworkFromDataFrames(nodes, edges, title = \"MyNetwork\", collection = \"MyCollection\")"
   ]
  },
  {
   "cell_type": "markdown",
   "metadata": {},
   "source": [
    "We have to load in our gene expression data file, and merge this file with the table in cytoscape."
   ]
  },
  {
   "cell_type": "code",
   "execution_count": 17,
   "metadata": {},
   "outputs": [
    {
     "data": {
      "text/html": [
       "'Success: Data loaded in defaultnode table'"
      ],
      "text/latex": [
       "'Success: Data loaded in defaultnode table'"
      ],
      "text/markdown": [
       "'Success: Data loaded in defaultnode table'"
      ],
      "text/plain": [
       "[1] \"Success: Data loaded in defaultnode table\""
      ]
     },
     "metadata": {},
     "output_type": "display_data"
    },
    {
     "data": {
      "text/html": [
       "<table>\n",
       "<thead><tr><th></th><th scope=col>SUID</th><th scope=col>shared name</th><th scope=col>name</th><th scope=col>selected</th><th scope=col>id</th><th scope=col>entrezgene</th><th scope=col>type</th><th scope=col>hgnc_symbol</th><th scope=col>logFC_BC</th><th scope=col>PValue_BC</th><th scope=col>...</th><th scope=col>logFC_MUO</th><th scope=col>PValue_MUO</th><th scope=col>logFC_RA</th><th scope=col>PValue_RA</th><th scope=col>logFC_DCM</th><th scope=col>PValue_DCM</th><th scope=col>logFC_ICM</th><th scope=col>PValue_ICM</th><th scope=col>logFC_SLE</th><th scope=col>PValue_SLE</th></tr></thead>\n",
       "<tbody>\n",
       "\t<tr><th scope=row>62</th><td>62          </td><td>AKT3        </td><td>AKT3        </td><td>FALSE       </td><td>AKT3        </td><td>    10000   </td><td>Gene        </td><td>AKT3        </td><td>-3.6182060  </td><td>0.00000446  </td><td>...         </td><td> 0.158046200</td><td>0.03617197  </td><td>-0.091532500</td><td>0.5187737000</td><td>-0.1170548  </td><td>0.53705530  </td><td>-0.00574414 </td><td>0.9794696   </td><td>0.06630566  </td><td>0.2096076   </td></tr>\n",
       "\t<tr><th scope=row>63</th><td>63          </td><td>CDH3        </td><td>CDH3        </td><td>FALSE       </td><td>CDH3        </td><td>     1001   </td><td>Gene        </td><td>CDH3        </td><td> 0.5611705  </td><td>0.71538600  </td><td>...         </td><td> 0.009146553</td><td>0.72093250  </td><td> 0.005623439</td><td>0.9375439000</td><td> 1.3844880  </td><td>0.04941398  </td><td> 0.90182150 </td><td>0.2080566   </td><td>0.08489361  </td><td>0.7994946   </td></tr>\n",
       "\t<tr><th scope=row>64</th><td>64          </td><td>SOD2        </td><td>SOD2        </td><td>FALSE       </td><td>SOD2        </td><td>100129518   </td><td>Gene        </td><td>NA          </td><td>        NA  </td><td>        NA  </td><td>...         </td><td>          NA</td><td>        NA  </td><td>          NA</td><td>          NA</td><td>        NA  </td><td>        NA  </td><td>         NA </td><td>       NA   </td><td>        NA  </td><td>       NA   </td></tr>\n",
       "\t<tr><th scope=row>65</th><td>65          </td><td>MIR718      </td><td>MIR718      </td><td>FALSE       </td><td>MIR718      </td><td>100313781   </td><td>Gene        </td><td>NA          </td><td>        NA  </td><td>        NA  </td><td>...         </td><td>          NA</td><td>        NA  </td><td>          NA</td><td>          NA</td><td>        NA  </td><td>        NA  </td><td>         NA </td><td>       NA   </td><td>        NA  </td><td>       NA   </td></tr>\n",
       "\t<tr><th scope=row>66</th><td>66          </td><td>FAM13A      </td><td>FAM13A      </td><td>FALSE       </td><td>FAM13A      </td><td>    10144   </td><td>Gene        </td><td>FAM13A      </td><td>-3.8751590  </td><td>0.00006440  </td><td>...         </td><td>-0.477643700</td><td>0.00004010  </td><td>-1.094291000</td><td>0.0004184986</td><td> 0.1338444  </td><td>0.54133960  </td><td> 0.12945470 </td><td>0.5958564   </td><td>0.00000000  </td><td>1.0000000   </td></tr>\n",
       "\t<tr><th scope=row>67</th><td>67          </td><td>MIR6886     </td><td>MIR6886     </td><td>FALSE       </td><td>MIR6886     </td><td>102465534   </td><td>Gene        </td><td>NA          </td><td>        NA  </td><td>        NA  </td><td>...         </td><td>          NA</td><td>        NA  </td><td>          NA</td><td>          NA</td><td>        NA  </td><td>        NA  </td><td>         NA </td><td>       NA   </td><td>        NA  </td><td>       NA   </td></tr>\n",
       "</tbody>\n",
       "</table>\n"
      ],
      "text/latex": [
       "\\begin{tabular}{r|llllllllllllllllllllll}\n",
       "  & SUID & shared name & name & selected & id & entrezgene & type & hgnc\\_symbol & logFC\\_BC & PValue\\_BC & ... & logFC\\_MUO & PValue\\_MUO & logFC\\_RA & PValue\\_RA & logFC\\_DCM & PValue\\_DCM & logFC\\_ICM & PValue\\_ICM & logFC\\_SLE & PValue\\_SLE\\\\\n",
       "\\hline\n",
       "\t62 & 62           & AKT3         & AKT3         & FALSE        & AKT3         &     10000    & Gene         & AKT3         & -3.6182060   & 0.00000446   & ...          &  0.158046200 & 0.03617197   & -0.091532500 & 0.5187737000 & -0.1170548   & 0.53705530   & -0.00574414  & 0.9794696    & 0.06630566   & 0.2096076   \\\\\n",
       "\t63 & 63           & CDH3         & CDH3         & FALSE        & CDH3         &      1001    & Gene         & CDH3         &  0.5611705   & 0.71538600   & ...          &  0.009146553 & 0.72093250   &  0.005623439 & 0.9375439000 &  1.3844880   & 0.04941398   &  0.90182150  & 0.2080566    & 0.08489361   & 0.7994946   \\\\\n",
       "\t64 & 64           & SOD2         & SOD2         & FALSE        & SOD2         & 100129518    & Gene         & NA           &         NA   &         NA   & ...          &           NA &         NA   &           NA &           NA &         NA   &         NA   &          NA  &        NA    &         NA   &        NA   \\\\\n",
       "\t65 & 65           & MIR718       & MIR718       & FALSE        & MIR718       & 100313781    & Gene         & NA           &         NA   &         NA   & ...          &           NA &         NA   &           NA &           NA &         NA   &         NA   &          NA  &        NA    &         NA   &        NA   \\\\\n",
       "\t66 & 66           & FAM13A       & FAM13A       & FALSE        & FAM13A       &     10144    & Gene         & FAM13A       & -3.8751590   & 0.00006440   & ...          & -0.477643700 & 0.00004010   & -1.094291000 & 0.0004184986 &  0.1338444   & 0.54133960   &  0.12945470  & 0.5958564    & 0.00000000   & 1.0000000   \\\\\n",
       "\t67 & 67           & MIR6886      & MIR6886      & FALSE        & MIR6886      & 102465534    & Gene         & NA           &         NA   &         NA   & ...          &           NA &         NA   &           NA &           NA &         NA   &         NA   &          NA  &        NA    &         NA   &        NA   \\\\\n",
       "\\end{tabular}\n"
      ],
      "text/markdown": [
       "\n",
       "| <!--/--> | SUID | shared name | name | selected | id | entrezgene | type | hgnc_symbol | logFC_BC | PValue_BC | ... | logFC_MUO | PValue_MUO | logFC_RA | PValue_RA | logFC_DCM | PValue_DCM | logFC_ICM | PValue_ICM | logFC_SLE | PValue_SLE |\n",
       "|---|---|---|---|---|---|---|---|---|---|---|---|---|---|---|---|---|---|---|---|---|---|\n",
       "| 62 | 62           | AKT3         | AKT3         | FALSE        | AKT3         |     10000    | Gene         | AKT3         | -3.6182060   | 0.00000446   | ...          |  0.158046200 | 0.03617197   | -0.091532500 | 0.5187737000 | -0.1170548   | 0.53705530   | -0.00574414  | 0.9794696    | 0.06630566   | 0.2096076    |\n",
       "| 63 | 63           | CDH3         | CDH3         | FALSE        | CDH3         |      1001    | Gene         | CDH3         |  0.5611705   | 0.71538600   | ...          |  0.009146553 | 0.72093250   |  0.005623439 | 0.9375439000 |  1.3844880   | 0.04941398   |  0.90182150  | 0.2080566    | 0.08489361   | 0.7994946    |\n",
       "| 64 | 64           | SOD2         | SOD2         | FALSE        | SOD2         | 100129518    | Gene         | NA           |         NA   |         NA   | ...          |           NA |         NA   |           NA |           NA |         NA   |         NA   |          NA  |        NA    |         NA   |        NA    |\n",
       "| 65 | 65           | MIR718       | MIR718       | FALSE        | MIR718       | 100313781    | Gene         | NA           |         NA   |         NA   | ...          |           NA |         NA   |           NA |           NA |         NA   |         NA   |          NA  |        NA    |         NA   |        NA    |\n",
       "| 66 | 66           | FAM13A       | FAM13A       | FALSE        | FAM13A       |     10144    | Gene         | FAM13A       | -3.8751590   | 0.00006440   | ...          | -0.477643700 | 0.00004010   | -1.094291000 | 0.0004184986 |  0.1338444   | 0.54133960   |  0.12945470  | 0.5958564    | 0.00000000   | 1.0000000    |\n",
       "| 67 | 67           | MIR6886      | MIR6886      | FALSE        | MIR6886      | 102465534    | Gene         | NA           |         NA   |         NA   | ...          |           NA |         NA   |           NA |           NA |         NA   |         NA   |          NA  |        NA    |         NA   |        NA    |\n",
       "\n"
      ],
      "text/plain": [
       "   SUID shared name name    selected id      entrezgene type hgnc_symbol\n",
       "62 62   AKT3        AKT3    FALSE    AKT3        10000  Gene AKT3       \n",
       "63 63   CDH3        CDH3    FALSE    CDH3         1001  Gene CDH3       \n",
       "64 64   SOD2        SOD2    FALSE    SOD2    100129518  Gene NA         \n",
       "65 65   MIR718      MIR718  FALSE    MIR718  100313781  Gene NA         \n",
       "66 66   FAM13A      FAM13A  FALSE    FAM13A      10144  Gene FAM13A     \n",
       "67 67   MIR6886     MIR6886 FALSE    MIR6886 102465534  Gene NA         \n",
       "   logFC_BC   PValue_BC  ... logFC_MUO    PValue_MUO logFC_RA     PValue_RA   \n",
       "62 -3.6182060 0.00000446 ...  0.158046200 0.03617197 -0.091532500 0.5187737000\n",
       "63  0.5611705 0.71538600 ...  0.009146553 0.72093250  0.005623439 0.9375439000\n",
       "64         NA         NA ...           NA         NA           NA           NA\n",
       "65         NA         NA ...           NA         NA           NA           NA\n",
       "66 -3.8751590 0.00006440 ... -0.477643700 0.00004010 -1.094291000 0.0004184986\n",
       "67         NA         NA ...           NA         NA           NA           NA\n",
       "   logFC_DCM  PValue_DCM logFC_ICM   PValue_ICM logFC_SLE  PValue_SLE\n",
       "62 -0.1170548 0.53705530 -0.00574414 0.9794696  0.06630566 0.2096076 \n",
       "63  1.3844880 0.04941398  0.90182150 0.2080566  0.08489361 0.7994946 \n",
       "64         NA         NA          NA        NA          NA        NA \n",
       "65         NA         NA          NA        NA          NA        NA \n",
       "66  0.1338444 0.54133960  0.12945470 0.5958564  0.00000000 1.0000000 \n",
       "67         NA         NA          NA        NA          NA        NA "
      ]
     },
     "metadata": {},
     "output_type": "display_data"
    }
   ],
   "source": [
    "# load data set with gene expression values (logFC, p.value)\n",
    "expr_data <- read.table(file.path(getwd(), \"expr_data\", \"merged_data_final.txt\"), header = T, sep =\"\\t\")\n",
    "\n",
    "# load data into cytoscape\n",
    "loadTableData(expr_data, data.key.colum = \"entrezgene\", table.key.column = \"entrezgene\")\n",
    "\n",
    "# check if tables are well merged\n",
    "nodeTable <- getTableColumns(table = \"node\")\n",
    "head(nodeTable)"
   ]
  },
  {
   "cell_type": "markdown",
   "metadata": {},
   "source": [
    "### Manual visualization \n",
    "Before we start to visualize our network, we have to perform some manual stuff! \n",
    "\n",
    "To analyze the network we have to go to Cytoscape. First Open cytoscape go to Tools then NetworkAnalyzer then Network Analysis then Analyze Network. Treat the network as unidirected and click OK. We analyzed the network now we want to change the layout of the network. Go to Layout then yFiles Organic Layout. Close this message box when finished, and return to R."
   ]
  },
  {
   "cell_type": "markdown",
   "metadata": {},
   "source": [
    "### Automated visualization\n",
    "Now everthing is loaded into cytoscape and the manual stuff is done, we can working on the automatization of the visual style.\n",
    "\n",
    "For every dataset we would like to create a own network. We will do this using the clone network function.\n",
    "\n",
    "When we have a network available for every dataset we have, we can set a visual style which maps the gene expression (logFC) and significance (p-value) for every gene node in the network per dataset. Fill in for the Automation function y, z and p. Whereas; y is the negative logFC cutoff, z is the positive logFC cutoff and p is the p-value."
   ]
  },
  {
   "cell_type": "code",
   "execution_count": 18,
   "metadata": {},
   "outputs": [],
   "source": [
    "# Fill in for the Automation function y, z and p. \n",
    "# Whereas negLogFC is the negative logFC cutoff, posLogFC is the positive logFC cutoff and pValue is the p-value.\n",
    "pValue <- 0.05\n",
    "negLogFC <- -1.00\n",
    "posLogFC <- 1.00"
   ]
  },
  {
   "cell_type": "code",
   "execution_count": 20,
   "metadata": {},
   "outputs": [
    {
     "name": "stdout",
     "output_type": "stream",
     "text": [
      "[1] \"Done!\"\n"
     ]
    }
   ],
   "source": [
    "Automation <- function(y,z,p) {\n",
    "    \n",
    "# lock width and height of nodes\n",
    "lockNodeDimensions(TRUE)\n",
    "    \n",
    "# we have 7 gene expression sets so we repeat this function 8 times, we will use a repeat loop for this\n",
    "diseases <- c(\"BC\",\"LC\",\"MUO\",\"RA\",\"DCM\",\"ICM\",\"SLE\")\n",
    "\n",
    "x <- 1\n",
    "repeat {\n",
    "  cloneNetwork(network = \"MyNetwork\")\n",
    "  setCurrentNetwork(network=\"MyNetwork_1\")\n",
    "  renameNetwork(diseases[x])\n",
    "  x = x + 1\n",
    "  if (x == length(diseases)+1){\n",
    "  break}\n",
    "}\n",
    "    \n",
    "# Map logFC and pValue per disease for every respective network and add visual style to every network\n",
    "x <- 1\n",
    "repeat {\n",
    "  setCurrentNetwork(network = diseases[x])\n",
    "  \n",
    "  style.name = paste(\"style_\", diseases[x], sep = \"\")\n",
    "  \n",
    "  # map logFC of gene expression data per disease on respective networks\n",
    "  mappings <- list(nodeFill <- mapVisualProperty(\"node fill color\", table.column = paste(\"logFC_\", diseases[x] , sep = \"\"), \n",
    "                                    mapping.type = \"continuous\",\n",
    "                                    c(y,0,z),\n",
    "                                    c(\"#0000FF\", \"#FFFFFF\", \"#FF0000\")),\n",
    "  \n",
    "  # map significance per disease on respective networks\n",
    "  nodeBorder <- mapVisualProperty(\"node border paint\", table.column = paste(\"PValue_\", diseases[x], sep = \"\"),\n",
    "                                    mapping.type = \"continuous\",\n",
    "                                    table.column.values = c(0.00, p, 1.00), \n",
    "                                    c(\"#00FF00\", \"#FFFFFF\", \"#FFFFFF\")),\n",
    "  \n",
    "  # map node shapes\n",
    "  nodeShape <- mapVisualProperty(\"Node Shape\", table.column = \"type\", \n",
    "                                    mapping.type = \"discrete\", \n",
    "                                    table.column.values = c(\"Gene\", \"Process\", \"InflGene\"),\n",
    "                                    c(\"DIAMOND\", \"ELLIPSE\", \"VEE\")),\n",
    "  \n",
    "  label <- mapVisualProperty(\"Node Label\", table.column = \"shared name\",\n",
    "                             mapping.type = \"passthrough\"))\n",
    "\n",
    "  defaults <- list(NODE_FILL_COLOR = \"#999999\",\n",
    "                   NODE_BORDER_PAINT = \"#999999\",\n",
    "                   NODE_BORDER_WIDTH = 7,\n",
    "                   NODE_LABEL_FONT_SIZE = 18,\n",
    "                   NETWORK_TITLE = diseases[x])\n",
    "  \n",
    "  # create and set unique visual style per disease dataset\n",
    "  createVisualStyle(style.name, defaults, mappings = mappings)\n",
    "  setVisualStyle(style.name)\n",
    "\n",
    "  x = x + 1\n",
    "  if (x == length(diseases)+1){\n",
    "    break}\n",
    "}\n",
    "\n",
    "# save disease networks\n",
    "x <- 1\n",
    "repeat {\n",
    "  setCurrentNetwork(network = diseases[x])\n",
    "  fitContent()\n",
    "  \n",
    "  png.file <- file.path(getwd(), \"Images\", \"networks\", paste0(\"logFC\", z), paste0(\"gene_expr_network\", diseases[x], \".png\"))\n",
    "  exportImage(png.file, type = \"png\", resolution=600, zoom=500)\n",
    "  \n",
    "  x = x + 1\n",
    "  if (x == length(diseases)+1){\n",
    "    break}\n",
    "}\n",
    "\n",
    "# create subnetwork of significant differentially expressed genes\n",
    "x <- 1\n",
    "repeat {\n",
    "  setCurrentNetwork(network = diseases[x])\n",
    "  \n",
    "  createColumnFilter(filter.name = \"expr genes\",     column = paste(\"logFC_\", diseases[x], sep = \"\") , c(y,z), \"IS_NOT_BETWEEN\")\n",
    "  createColumnFilter(filter.name = \"sig genes\",      column = paste(\"PValue_\", diseases[x], sep = \"\"), p, \"LESS_THAN\")\n",
    "  sigexpr <- createCompositeFilter('combined filter', filter.list = c(\"sig genes\", \"expr genes\"), type = \"ALL\")\n",
    "  \n",
    "  process <- createColumnFilter(filter.name = \"Pathway filter\", column = \"type\", \"Process\", \"IS\")\n",
    "  \n",
    "  selectNodes(nodes = c(process$nodes, sigexpr$nodes), by.col = \"shared name\")\n",
    "  \n",
    "  createSubnetwork(nodes = \"selected\", subnetwork.name = paste0(\"subnetwork \", diseases[x], \" genes\"))\n",
    "  \n",
    "  x = x + 1\n",
    "  if (x == length(diseases)+1){\n",
    "    break}\n",
    "}\n",
    "\n",
    "# create subnetwork of significant differentially expressed inflammation genes\n",
    "x <- 1\n",
    "repeat {\n",
    "  setCurrentNetwork(network = diseases[x])\n",
    "  \n",
    "  createColumnFilter(filter.name = \"Infl filter\",    column = \"type\", \"InflGene\", \"IS\")\n",
    "  createColumnFilter(filter.name = \"expr genes\",     column = paste(\"logFC_\", diseases[x], sep = \"\") , c(y,z), \"IS_NOT_BETWEEN\")\n",
    "  createColumnFilter(filter.name = \"sig genes\",      column = paste(\"PValue_\", diseases[x], sep = \"\"), p, \"LESS_THAN\")\n",
    "  sigexpr <- createCompositeFilter('combined filter', filter.list = c(\"Infl filter\", \"sig genes\", \"expr genes\"), type = \"ALL\")\n",
    "  \n",
    "    process <- createColumnFilter(filter.name = \"Pathway filter\", column = \"type\", \"Process\", \"IS\")\n",
    "  \n",
    "  selectNodes(nodes = c(process$nodes, sigexpr$nodes), by.col = \"shared name\")\n",
    "  \n",
    "  createSubnetwork(nodes = \"selected\", subnetwork.name = paste0(\"subnetwork \", diseases[x], \" inflGenes\"))\n",
    "  \n",
    "  x = x + 1\n",
    "  if (x == length(diseases)+1){\n",
    "    break}\n",
    "}\n",
    "\n",
    "# save subnetworks genes\n",
    "subgenes <- c(\"subnetwork BC genes\",\"subnetwork LC genes\",\"subnetwork MUO genes\",\n",
    "              \"subnetwork RA genes\",\"subnetwork DCM genes\",\n",
    "              \"subnetwork ICM genes\",\"subnetwork SLE genes\")\n",
    "x <- 1\n",
    "repeat {\n",
    "  setCurrentNetwork(network = subgenes[x])\n",
    "  fitContent()\n",
    "  \n",
    "  png.file <- file.path(getwd(), \"Images\", \"subGeneNetworks\", paste0(\"logFC\", z), paste0(\"subgene_expr_network\", diseases[x], \".png\"))\n",
    "  exportImage(png.file, type = \"png\", resolution=600, zoom=500)\n",
    "  \n",
    "  x = x + 1\n",
    "  if (x == length(diseases)+1){\n",
    "    break}\n",
    "}\n",
    "\n",
    "# save subnetworks inflammation genes\n",
    "subInflGenes <- c(\"subnetwork BC inflGenes\",\"subnetwork LC inflGenes\",\"subnetwork MUO inflGenes\",\n",
    "              \"subnetwork RA inflGenes\",\"subnetwork DCM inflGenes\",\n",
    "              \"subnetwork ICM inflGenes\",\"subnetwork SLE inflGenes\")\n",
    "x <- 1\n",
    "repeat {\n",
    "  setCurrentNetwork(network = subInflGenes[x])\n",
    "  fitContent()\n",
    "  \n",
    "  png.file <- file.path(getwd(), \"Images\", \"subInflGeneNetworks\", paste0(\"logFC\", z), paste0(\"subinflgene_expr_network\", diseases[x], \".png\"))\n",
    "  exportImage(png.file, type = \"png\", resolution=600, zoom=500)\n",
    "  \n",
    "  x = x + 1\n",
    "  if (x == length(diseases)+1){\n",
    "    print(\"Done!\")\n",
    "    break}\n",
    "}\n",
    "\n",
    "# save Cytoscape session file\n",
    "session.file <- file.path(getwd(), \"Network\", paste0(z, \"gene_expr_networks.cys\"))\n",
    "saveSession(session.file)\n",
    "}\n",
    "\n",
    "# values were filled in above\n",
    "Automation(y = negLogFC, z = posLogFC, p = pValue)"
   ]
  },
  {
   "cell_type": "code",
   "execution_count": 9,
   "metadata": {},
   "outputs": [
    {
     "data": {
      "text/plain": [
       "R version 3.5.1 (2018-07-02)\n",
       "Platform: x86_64-w64-mingw32/x64 (64-bit)\n",
       "Running under: Windows 10 x64 (build 17134)\n",
       "\n",
       "Matrix products: default\n",
       "\n",
       "locale:\n",
       "[1] LC_COLLATE=Dutch_Netherlands.1252  LC_CTYPE=Dutch_Netherlands.1252   \n",
       "[3] LC_MONETARY=Dutch_Netherlands.1252 LC_NUMERIC=C                      \n",
       "[5] LC_TIME=Dutch_Netherlands.1252    \n",
       "\n",
       "attached base packages:\n",
       "[1] stats     graphics  grDevices utils     datasets  methods   base     \n",
       "\n",
       "other attached packages:\n",
       "[1] RCy3_2.2.6           RevoUtils_11.0.1     RevoUtilsMath_11.0.0\n",
       "\n",
       "loaded via a namespace (and not attached):\n",
       " [1] igraph_1.2.2        graph_1.60.0        Rcpp_1.0.0         \n",
       " [4] magrittr_1.5        BiocGenerics_0.28.0 uuid_0.1-2         \n",
       " [7] R6_2.3.0            httr_1.4.0          tools_3.5.1        \n",
       "[10] parallel_3.5.1      R.oo_1.22.0         htmltools_0.3.6    \n",
       "[13] digest_0.6.18       crayon_1.3.4        RJSONIO_1.3-1.1    \n",
       "[16] IRdisplay_0.7.0     repr_0.19.1         base64enc_0.1-3    \n",
       "[19] R.utils_2.7.0       curl_3.3            IRkernel_0.8.15    \n",
       "[22] evaluate_0.12       pbdZMQ_0.3-3        compiler_3.5.1     \n",
       "[25] R.methodsS3_1.7.1   stats4_3.5.1        XML_3.98-1.19      \n",
       "[28] jsonlite_1.6        pkgconfig_2.0.2    "
      ]
     },
     "metadata": {},
     "output_type": "display_data"
    }
   ],
   "source": [
    "# information about session\n",
    "sessionInfo()"
   ]
  }
 ],
 "metadata": {
  "kernelspec": {
   "display_name": "R",
   "language": "R",
   "name": "ir"
  },
  "language_info": {
   "codemirror_mode": "r",
   "file_extension": ".r",
   "mimetype": "text/x-r-source",
   "name": "R",
   "pygments_lexer": "r",
   "version": "3.5.1"
  }
 },
 "nbformat": 4,
 "nbformat_minor": 2
}
